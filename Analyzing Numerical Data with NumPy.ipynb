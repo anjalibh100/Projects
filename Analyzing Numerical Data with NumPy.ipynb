{
 "cells": [
  {
   "cell_type": "markdown",
   "id": "7c3225b6",
   "metadata": {
    "papermill": {
     "duration": 0.010271,
     "end_time": "2024-01-30T22:09:45.453655",
     "exception": false,
     "start_time": "2024-01-30T22:09:45.443384",
     "status": "completed"
    },
    "tags": []
   },
   "source": [
    "<div style=\"width: 100%; background-color: #6a89cc; color: white; padding: 10px; border: 2px solid #0c2461; margin-bottom: 20px;border-radius:10px;\">\n",
    "    <h3 style=\"color: white;\">Introduction to NumPy (Numerical Python)</h3>\n",
    "    <span > NumPy is one of the fundamental packages of Python.  NumPy is an open source Python library that’s widely used in science and engineering. </span>\n",
    "    </span> \n",
    "    <h3 style=\"color: white;\">Features of NumPy</h3>\n",
    "    <ul style=\"list-style-type: none; padding-left: 0;\">\n",
    "        <li><span style=\"margin-left: -10px;\">&#8226;</span> It is an array processing package in Python.</li>\n",
    "        <li><span style=\"margin-left: -10px;\">&#8226;</span> The NumPy library contains multidimensional array data structures, such as the homogeneous, N-dimensional ndarray, and a large library of functions that operate efficiently on these data structures. </li>\n",
    "     <li><span style=\"margin-left: -10px;\">&#8226;</span> NumPy Array is a table of elements (usually numbers), all of the same types, indexed by a tuple of positive integers. </li>\n",
    "    <li><span style=\"margin-left: -10px;\">&#8226;</span> In NumPy, the number of dimensions of the array is called the rank of the array.  </li>\n",
    "    <li><span style=\"margin-left: -10px;\">&#8226;</span> A tuple of integers giving the size of the array along each dimension is known as the shape of the array. </li>\n",
    "\n",
    "</div>"
   ]
  },
  {
   "cell_type": "markdown",
   "id": "ec572975",
   "metadata": {
    "papermill": {
     "duration": 0.009404,
     "end_time": "2024-01-30T22:09:45.472908",
     "exception": false,
     "start_time": "2024-01-30T22:09:45.463504",
     "status": "completed"
    },
    "tags": []
   },
   "source": [
    "**After installing NumPy, \"import\" command is required to import NumPy into Python code**"
   ]
  },
  {
   "cell_type": "code",
   "execution_count": 1,
   "id": "4193f4f8",
   "metadata": {
    "execution": {
     "iopub.execute_input": "2024-01-30T22:09:45.494868Z",
     "iopub.status.busy": "2024-01-30T22:09:45.494379Z",
     "iopub.status.idle": "2024-01-30T22:09:45.509451Z",
     "shell.execute_reply": "2024-01-30T22:09:45.507924Z"
    },
    "papermill": {
     "duration": 0.030137,
     "end_time": "2024-01-30T22:09:45.512784",
     "exception": false,
     "start_time": "2024-01-30T22:09:45.482647",
     "status": "completed"
    },
    "tags": []
   },
   "outputs": [],
   "source": [
    "#Import Numpy Library\n",
    "import numpy as np"
   ]
  },
  {
   "cell_type": "markdown",
   "id": "1263d262",
   "metadata": {
    "papermill": {
     "duration": 0.009348,
     "end_time": "2024-01-30T22:09:45.531975",
     "exception": false,
     "start_time": "2024-01-30T22:09:45.522627",
     "status": "completed"
    },
    "tags": []
   },
   "source": [
    "**1. Creating arrays using numpy.empty(shape, dtype=float, order=’C’)\n",
    "where shape => Number of rows, order => C_contiguous or F_contiguous, dtype => [optional, float(by Default)] is the data type of returned array.**  "
   ]
  },
  {
   "cell_type": "code",
   "execution_count": 2,
   "id": "ef18bb3f",
   "metadata": {
    "execution": {
     "iopub.execute_input": "2024-01-30T22:09:45.552999Z",
     "iopub.status.busy": "2024-01-30T22:09:45.552559Z",
     "iopub.status.idle": "2024-01-30T22:09:45.560973Z",
     "shell.execute_reply": "2024-01-30T22:09:45.559766Z"
    },
    "papermill": {
     "duration": 0.022903,
     "end_time": "2024-01-30T22:09:45.564484",
     "exception": false,
     "start_time": "2024-01-30T22:09:45.541581",
     "status": "completed"
    },
    "tags": []
   },
   "outputs": [
    {
     "name": "stdout",
     "output_type": "stream",
     "text": [
      "Matrix b : \n",
      " [-4611686018427387904           2551873535]\n",
      "\n",
      "Matrix a : \n",
      " [[102334054705600               0]\n",
      " [102334060745920 102334060307552]]\n",
      "\n",
      "Matrix c : \n",
      " [[5.05597435e-310 0.00000000e+000 0.00000000e+000]\n",
      " [0.00000000e+000 0.00000000e+000 0.00000000e+000]\n",
      " [0.00000000e+000 0.00000000e+000 0.00000000e+000]]\n"
     ]
    }
   ],
   "source": [
    "b = np.empty(2, dtype = int)\n",
    "print(\"Matrix b : \\n\", b)\n",
    "\n",
    "a = np.empty([2, 2], dtype = int)\n",
    "print(\"\\nMatrix a : \\n\", a)\n",
    "\n",
    "c = np.empty([3, 3])\n",
    "print(\"\\nMatrix c : \\n\", c)\n"
   ]
  },
  {
   "cell_type": "markdown",
   "id": "ae144251",
   "metadata": {
    "papermill": {
     "duration": 0.009137,
     "end_time": "2024-01-30T22:09:45.584430",
     "exception": false,
     "start_time": "2024-01-30T22:09:45.575293",
     "status": "completed"
    },
    "tags": []
   },
   "source": [
    "**2. Creating array using numpy.zeros**"
   ]
  },
  {
   "cell_type": "code",
   "execution_count": 3,
   "id": "d2f2970a",
   "metadata": {
    "execution": {
     "iopub.execute_input": "2024-01-30T22:09:45.605911Z",
     "iopub.status.busy": "2024-01-30T22:09:45.605264Z",
     "iopub.status.idle": "2024-01-30T22:09:45.613545Z",
     "shell.execute_reply": "2024-01-30T22:09:45.612204Z"
    },
    "papermill": {
     "duration": 0.022796,
     "end_time": "2024-01-30T22:09:45.616965",
     "exception": false,
     "start_time": "2024-01-30T22:09:45.594169",
     "status": "completed"
    },
    "tags": []
   },
   "outputs": [
    {
     "name": "stdout",
     "output_type": "stream",
     "text": [
      "Matrix b : \n",
      " [0 0]\n",
      "\n",
      "Matrix a : \n",
      " [[0 0]\n",
      " [0 0]]\n",
      "\n",
      "Matrix c : \n",
      " [[0. 0. 0.]\n",
      " [0. 0. 0.]\n",
      " [0. 0. 0.]]\n"
     ]
    }
   ],
   "source": [
    "b = np.zeros(2, dtype = int)\n",
    "print(\"Matrix b : \\n\", b)\n",
    "\n",
    "a = np.zeros([2, 2], dtype = int)\n",
    "print(\"\\nMatrix a : \\n\", a)\n",
    "\n",
    "c = np.zeros([3, 3])\n",
    "print(\"\\nMatrix c : \\n\", c)\n"
   ]
  },
  {
   "cell_type": "markdown",
   "id": "0fe04b3f",
   "metadata": {
    "papermill": {
     "duration": 0.010135,
     "end_time": "2024-01-30T22:09:45.636978",
     "exception": false,
     "start_time": "2024-01-30T22:09:45.626843",
     "status": "completed"
    },
    "tags": []
   },
   "source": [
    "**3. Addition Operations**"
   ]
  },
  {
   "cell_type": "code",
   "execution_count": 4,
   "id": "329f8eef",
   "metadata": {
    "execution": {
     "iopub.execute_input": "2024-01-30T22:09:45.658828Z",
     "iopub.status.busy": "2024-01-30T22:09:45.657992Z",
     "iopub.status.idle": "2024-01-30T22:09:45.669666Z",
     "shell.execute_reply": "2024-01-30T22:09:45.668038Z"
    },
    "papermill": {
     "duration": 0.025799,
     "end_time": "2024-01-30T22:09:45.672603",
     "exception": false,
     "start_time": "2024-01-30T22:09:45.646804",
     "status": "completed"
    },
    "tags": []
   },
   "outputs": [
    {
     "name": "stdout",
     "output_type": "stream",
     "text": [
      "[  7  77  23 130]\n",
      "[  7  77  23 130]\n",
      "[  8  79  26 134]\n",
      "[  7  77  23 130]\n"
     ]
    }
   ],
   "source": [
    "# Defining both the matrices\n",
    "a = np.array([5, 72, 13, 100])\n",
    "b = np.array([2, 5, 10, 30])\n",
    "\n",
    "# Performing addition using arithmetic operator\n",
    "add_ans = a+b\n",
    "print(add_ans)\n",
    "\n",
    "# Performing addition using numpy function\n",
    "add_ans = np.add(a, b)\n",
    "print(add_ans)\n",
    "\n",
    "# The same functions and operations can be used for\n",
    "# multiple matrices\n",
    "c = np.array([1, 2, 3, 4])\n",
    "add_ans = a+b+c\n",
    "print(add_ans)\n",
    "\n",
    "add_ans = np.add(a, b, c)\n",
    "print(add_ans)\n"
   ]
  },
  {
   "cell_type": "markdown",
   "id": "090e83bf",
   "metadata": {
    "papermill": {
     "duration": 0.010765,
     "end_time": "2024-01-30T22:09:45.694762",
     "exception": false,
     "start_time": "2024-01-30T22:09:45.683997",
     "status": "completed"
    },
    "tags": []
   },
   "source": [
    "**4. Subtraction Operation**"
   ]
  },
  {
   "cell_type": "code",
   "execution_count": 5,
   "id": "fc3ae207",
   "metadata": {
    "execution": {
     "iopub.execute_input": "2024-01-30T22:09:45.717290Z",
     "iopub.status.busy": "2024-01-30T22:09:45.716802Z",
     "iopub.status.idle": "2024-01-30T22:09:45.725737Z",
     "shell.execute_reply": "2024-01-30T22:09:45.724153Z"
    },
    "papermill": {
     "duration": 0.023679,
     "end_time": "2024-01-30T22:09:45.728960",
     "exception": false,
     "start_time": "2024-01-30T22:09:45.705281",
     "status": "completed"
    },
    "tags": []
   },
   "outputs": [
    {
     "name": "stdout",
     "output_type": "stream",
     "text": [
      "[ 3 67  3 70]\n",
      "[ 3 67  3 70]\n"
     ]
    }
   ],
   "source": [
    "# Defining both the matrices\n",
    "a = np.array([5, 72, 13, 100])\n",
    "b = np.array([2, 5, 10, 30])\n",
    "\n",
    "# Performing subtraction using arithmetic operator\n",
    "sub_ans = a-b\n",
    "print(sub_ans)\n",
    "\n",
    "# Performing subtraction using numpy function\n",
    "sub_ans = np.subtract(a, b)\n",
    "print(sub_ans)\n"
   ]
  },
  {
   "cell_type": "markdown",
   "id": "900350e9",
   "metadata": {
    "papermill": {
     "duration": 0.009613,
     "end_time": "2024-01-30T22:09:45.748440",
     "exception": false,
     "start_time": "2024-01-30T22:09:45.738827",
     "status": "completed"
    },
    "tags": []
   },
   "source": [
    "**5. Multiplication Operation**"
   ]
  },
  {
   "cell_type": "code",
   "execution_count": 6,
   "id": "519af79f",
   "metadata": {
    "execution": {
     "iopub.execute_input": "2024-01-30T22:09:45.770170Z",
     "iopub.status.busy": "2024-01-30T22:09:45.769638Z",
     "iopub.status.idle": "2024-01-30T22:09:45.778131Z",
     "shell.execute_reply": "2024-01-30T22:09:45.776719Z"
    },
    "papermill": {
     "duration": 0.022929,
     "end_time": "2024-01-30T22:09:45.781071",
     "exception": false,
     "start_time": "2024-01-30T22:09:45.758142",
     "status": "completed"
    },
    "tags": []
   },
   "outputs": [
    {
     "name": "stdout",
     "output_type": "stream",
     "text": [
      "[  10  360  130 3000]\n",
      "[  10  360  130 3000]\n"
     ]
    }
   ],
   "source": [
    "# Defining both the matrices\n",
    "a = np.array([5, 72, 13, 100])\n",
    "b = np.array([2, 5, 10, 30])\n",
    "\n",
    "# Performing multiplication using arithmetic operator\n",
    "mul_ans = a*b\n",
    "print(mul_ans)\n",
    "\n",
    "# Performing multiplication using numpy function\n",
    "mul_ans = np.multiply(a, b)\n",
    "print(mul_ans)\n"
   ]
  },
  {
   "cell_type": "markdown",
   "id": "512fc2eb",
   "metadata": {
    "papermill": {
     "duration": 0.009338,
     "end_time": "2024-01-30T22:09:45.800643",
     "exception": false,
     "start_time": "2024-01-30T22:09:45.791305",
     "status": "completed"
    },
    "tags": []
   },
   "source": [
    "**6. Division Operation**"
   ]
  },
  {
   "cell_type": "code",
   "execution_count": 7,
   "id": "1e5a8b1b",
   "metadata": {
    "execution": {
     "iopub.execute_input": "2024-01-30T22:09:45.824199Z",
     "iopub.status.busy": "2024-01-30T22:09:45.823700Z",
     "iopub.status.idle": "2024-01-30T22:09:45.835053Z",
     "shell.execute_reply": "2024-01-30T22:09:45.833431Z"
    },
    "papermill": {
     "duration": 0.027326,
     "end_time": "2024-01-30T22:09:45.838536",
     "exception": false,
     "start_time": "2024-01-30T22:09:45.811210",
     "status": "completed"
    },
    "tags": []
   },
   "outputs": [
    {
     "name": "stdout",
     "output_type": "stream",
     "text": [
      "[ 2.5        14.4         1.3         3.33333333]\n",
      "[ 2.5        14.4         1.3         3.33333333]\n"
     ]
    }
   ],
   "source": [
    "# Defining both the matrices\n",
    "a = np.array([5, 72, 13, 100])\n",
    "b = np.array([2, 5, 10, 30])\n",
    "\n",
    "# Performing division using arithmetic operators\n",
    "div_ans = a/b\n",
    "print(div_ans)\n",
    "\n",
    "# Performing division using numpy functions\n",
    "div_ans = np.divide(a, b)\n",
    "print(div_ans)\n"
   ]
  },
  {
   "cell_type": "markdown",
   "id": "955064b4",
   "metadata": {
    "papermill": {
     "duration": 0.009501,
     "end_time": "2024-01-30T22:09:45.858302",
     "exception": false,
     "start_time": "2024-01-30T22:09:45.848801",
     "status": "completed"
    },
    "tags": []
   },
   "source": [
    "**7. Array Indexing**"
   ]
  },
  {
   "cell_type": "code",
   "execution_count": 8,
   "id": "1605ac0f",
   "metadata": {
    "execution": {
     "iopub.execute_input": "2024-01-30T22:09:45.883484Z",
     "iopub.status.busy": "2024-01-30T22:09:45.882685Z",
     "iopub.status.idle": "2024-01-30T22:09:45.891878Z",
     "shell.execute_reply": "2024-01-30T22:09:45.890182Z"
    },
    "papermill": {
     "duration": 0.02558,
     "end_time": "2024-01-30T22:09:45.894907",
     "exception": false,
     "start_time": "2024-01-30T22:09:45.869327",
     "status": "completed"
    },
    "tags": []
   },
   "outputs": [
    {
     "name": "stdout",
     "output_type": "stream",
     "text": [
      "\n",
      " A sequential array with a negative step: \n",
      " [10  8  6  4  2]\n",
      "\n",
      " Elements at these indices are:\n",
      " [4 8 6]\n"
     ]
    }
   ],
   "source": [
    "# Python program to demonstrate \n",
    "# the use of index arrays.\n",
    "\n",
    "# Create a sequence of integers from 10 to 1 with a step of -2\n",
    "a = np.arange(10, 1, -2) \n",
    "print(\"\\n A sequential array with a negative step: \\n\",a)\n",
    "\n",
    "# Indexes are specified inside the np.array method.\n",
    "newarr = a[np.array([3, 1, 2 ])]\n",
    "print(\"\\n Elements at these indices are:\\n\",newarr)\n"
   ]
  },
  {
   "cell_type": "markdown",
   "id": "59d29504",
   "metadata": {
    "papermill": {
     "duration": 0.010302,
     "end_time": "2024-01-30T22:09:45.915673",
     "exception": false,
     "start_time": "2024-01-30T22:09:45.905371",
     "status": "completed"
    },
    "tags": []
   },
   "source": [
    "**8. Slicing in Numpy**"
   ]
  },
  {
   "cell_type": "code",
   "execution_count": 9,
   "id": "c4574463",
   "metadata": {
    "execution": {
     "iopub.execute_input": "2024-01-30T22:09:45.937869Z",
     "iopub.status.busy": "2024-01-30T22:09:45.937385Z",
     "iopub.status.idle": "2024-01-30T22:09:45.947001Z",
     "shell.execute_reply": "2024-01-30T22:09:45.945487Z"
    },
    "papermill": {
     "duration": 0.024541,
     "end_time": "2024-01-30T22:09:45.950263",
     "exception": false,
     "start_time": "2024-01-30T22:09:45.925722",
     "status": "completed"
    },
    "tags": []
   },
   "outputs": [
    {
     "name": "stdout",
     "output_type": "stream",
     "text": [
      "\n",
      " Array is:\n",
      "  [ 0  1  2  3  4  5  6  7  8  9 10 11 12 13 14 15 16 17 18 19]\n",
      "\n",
      " a[-8:17:1] =  [12 13 14 15 16]\n",
      "\n",
      " a[10:] =  [10 11 12 13 14 15 16 17 18 19]\n"
     ]
    }
   ],
   "source": [
    "# Python program for basic slicing.\n",
    "\n",
    "# Arrange elements from 0 to 19. The last element is indexed by -1 second last by -2 and so on.\n",
    "a = np.arange(20)\n",
    "print(\"\\n Array is:\\n \",a)\n",
    "\n",
    "# a[start:stop:step]\n",
    "print(\"\\n a[-8:17:1] = \",a[-8:17:1])   #The last element is indexed by -1 second last by -2 and so on.\n",
    "\n",
    "# The : operator means all elements till the end.\n",
    "print(\"\\n a[10:] = \",a[10:])\n",
    "\n"
   ]
  },
  {
   "cell_type": "markdown",
   "id": "e130cef0",
   "metadata": {
    "papermill": {
     "duration": 0.010924,
     "end_time": "2024-01-30T22:09:45.971915",
     "exception": false,
     "start_time": "2024-01-30T22:09:45.960991",
     "status": "completed"
    },
    "tags": []
   },
   "source": [
    "**9. Slicing using Ellipsis. Ellipsis (…) is the number of : objects needed to make a selection tuple of the same length as the dimensions of the array.**"
   ]
  },
  {
   "cell_type": "code",
   "execution_count": 10,
   "id": "58bdec69",
   "metadata": {
    "execution": {
     "iopub.execute_input": "2024-01-30T22:09:45.995661Z",
     "iopub.status.busy": "2024-01-30T22:09:45.995197Z",
     "iopub.status.idle": "2024-01-30T22:09:46.004981Z",
     "shell.execute_reply": "2024-01-30T22:09:46.003375Z"
    },
    "papermill": {
     "duration": 0.025269,
     "end_time": "2024-01-30T22:09:46.007834",
     "exception": false,
     "start_time": "2024-01-30T22:09:45.982565",
     "status": "completed"
    },
    "tags": []
   },
   "outputs": [
    {
     "name": "stdout",
     "output_type": "stream",
     "text": [
      "[[[ 1  2  3]\n",
      "  [ 4  5  6]]\n",
      "\n",
      " [[ 7  8  9]\n",
      "  [10 11 12]]]\n",
      "\n",
      "\n",
      "\n",
      "The number of rows are : 2\n",
      "The number of columns are : 2\n",
      "\n",
      "\n",
      "\n",
      "[[ 2  5]\n",
      " [ 8 11]]\n"
     ]
    }
   ],
   "source": [
    "# Python program for indexing using basic slicing with ellipsis\n",
    "\n",
    "# A 3 dimensional array.\n",
    "b = np.array([[[1, 2, 3],[4, 5, 6]],[[7, 8, 9],[10, 11, 12]]])\n",
    "print(b)\n",
    "print(\"\\n\\n\")\n",
    "print(\"The number of rows are :\",b.shape[0])\n",
    "print(\"The number of columns are :\",b.shape[1])\n",
    "print(\"\\n\\n\")\n",
    "print(b[...,1]) #Equivalent to b[: ,: ,1 ]\n"
   ]
  },
  {
   "cell_type": "markdown",
   "id": "694e6394",
   "metadata": {
    "papermill": {
     "duration": 0.010161,
     "end_time": "2024-01-30T22:09:46.028944",
     "exception": false,
     "start_time": "2024-01-30T22:09:46.018783",
     "status": "completed"
    },
    "tags": []
   },
   "source": [
    "**10. How to get the dimensions of the array created by Numpy**"
   ]
  },
  {
   "cell_type": "code",
   "execution_count": 11,
   "id": "815469f5",
   "metadata": {
    "execution": {
     "iopub.execute_input": "2024-01-30T22:09:46.052893Z",
     "iopub.status.busy": "2024-01-30T22:09:46.052480Z",
     "iopub.status.idle": "2024-01-30T22:09:46.060088Z",
     "shell.execute_reply": "2024-01-30T22:09:46.058602Z"
    },
    "papermill": {
     "duration": 0.022805,
     "end_time": "2024-01-30T22:09:46.062925",
     "exception": false,
     "start_time": "2024-01-30T22:09:46.040120",
     "status": "completed"
    },
    "tags": []
   },
   "outputs": [
    {
     "name": "stdout",
     "output_type": "stream",
     "text": [
      "[0 1 2 3]\n",
      "Dimensions in _1darr are:  1\n"
     ]
    }
   ],
   "source": [
    "#Getting dimensions of the array created by numpy\n",
    "\n",
    "# create numpy arrays\n",
    "# 1-d numpy array\n",
    "_1darr = np.arange(4) \n",
    "print(_1darr)\n",
    "\n",
    "# printing the 1-dimensions numpy array\n",
    "print(\"Dimensions in _1darr are: \", _1darr.ndim)\n"
   ]
  },
  {
   "cell_type": "markdown",
   "id": "c5b8d2b8",
   "metadata": {
    "papermill": {
     "duration": 0.010277,
     "end_time": "2024-01-30T22:09:46.083859",
     "exception": false,
     "start_time": "2024-01-30T22:09:46.073582",
     "status": "completed"
    },
    "tags": []
   },
   "source": [
    "**11. NumPy Array Broadcasting** :  refers to how numpy treats arrays with different Dimensions during arithmetic operations"
   ]
  },
  {
   "cell_type": "code",
   "execution_count": 12,
   "id": "ae633b03",
   "metadata": {
    "execution": {
     "iopub.execute_input": "2024-01-30T22:09:46.107928Z",
     "iopub.status.busy": "2024-01-30T22:09:46.107206Z",
     "iopub.status.idle": "2024-01-30T22:09:46.122235Z",
     "shell.execute_reply": "2024-01-30T22:09:46.120693Z"
    },
    "papermill": {
     "duration": 0.030488,
     "end_time": "2024-01-30T22:09:46.125207",
     "exception": false,
     "start_time": "2024-01-30T22:09:46.094719",
     "status": "completed"
    },
    "tags": []
   },
   "outputs": [
    {
     "name": "stdout",
     "output_type": "stream",
     "text": [
      "4\n"
     ]
    },
    {
     "data": {
      "text/plain": [
       "array([[  2.4,   8.7,  31.2],\n",
       "       [157.2,  70.8, 292. ],\n",
       "       [165.6,  95.1, 191.2],\n",
       "       [ 43.2,  33. ,  39.2]])"
      ]
     },
     "execution_count": 12,
     "metadata": {},
     "output_type": "execute_result"
    }
   ],
   "source": [
    "macros = np.array([\n",
    "[0.8, 2.9, 3.9],\n",
    "[52.4, 23.6, 36.5],\n",
    "[55.2, 31.7, 23.9],\n",
    "[14.4, 11, 4.9]\n",
    "])\n",
    "\n",
    "# Create a new array filled with zeros,# of the same shape as macros.\n",
    "result = np.zeros_like(macros)\n",
    "\n",
    "cal_per_macro = np.array([3, 3, 8])\n",
    "\n",
    "# Now multiply each row of macros by\n",
    "# cal_per_macro. In Numpy, `*` is\n",
    "# element-wise multiplication between two arrays.\n",
    "print(macros.shape[0]) # Since shape[0] refers to rows , shape[1] refers to columns\n",
    "for i in range(macros.shape[0]):\n",
    "    result[i, :] = macros[i, :] * cal_per_macro\n",
    "\n",
    "result\n"
   ]
  },
  {
   "cell_type": "markdown",
   "id": "e3ca82d6",
   "metadata": {
    "papermill": {
     "duration": 0.010948,
     "end_time": "2024-01-30T22:09:46.146895",
     "exception": false,
     "start_time": "2024-01-30T22:09:46.135947",
     "status": "completed"
    },
    "tags": []
   },
   "source": [
    "**Observation : This results in multiplication of a larger dimensional  array by a smaller array. The smaller array is broadcast across the larger array so that they have compatible shapes.**"
   ]
  },
  {
   "cell_type": "markdown",
   "id": "8405550d",
   "metadata": {
    "papermill": {
     "duration": 0.01122,
     "end_time": "2024-01-30T22:09:46.169227",
     "exception": false,
     "start_time": "2024-01-30T22:09:46.158007",
     "status": "completed"
    },
    "tags": []
   },
   "source": [
    "<div style=\"width: 50%; height: 50px;   text-align: left; line-height: 20px; color: black; font-size: 15px; font-color: blue; font-weight: bold; border-radius:2px;\">\n",
    "    Broadcasting Rules: Broadcasting two arrays together follow these rules: </div>\n",
    "<span >\n",
    "    If the arrays don’t have the same rank then prepend the shape of the lower rank array with 1s until both shapes have the same length.\n",
    "The two arrays are compatible in a dimension if they have the same size in the dimension or if one of the arrays has size 1 in that dimension.\n",
    "The arrays can be broadcast together if they are compatible with all dimensions.\n",
    "After broadcasting, each array behaves as if it had a shape equal to the element-wise maximum of shapes of the two input arrays.\n",
    "In any dimension where one array had a size of 1 and the other array had a size greater than 1, the first array behaves as if it were copied along that dimension.\n",
    "    </span> \n",
    "\n",
    "\n"
   ]
  },
  {
   "cell_type": "markdown",
   "id": "8c445635",
   "metadata": {
    "papermill": {
     "duration": 0.010743,
     "end_time": "2024-01-30T22:09:46.191047",
     "exception": false,
     "start_time": "2024-01-30T22:09:46.180304",
     "status": "completed"
    },
    "tags": []
   },
   "source": [
    "**12. Broadcast Example 1**"
   ]
  },
  {
   "cell_type": "code",
   "execution_count": 13,
   "id": "8377bee0",
   "metadata": {
    "execution": {
     "iopub.execute_input": "2024-01-30T22:09:46.215677Z",
     "iopub.status.busy": "2024-01-30T22:09:46.215266Z",
     "iopub.status.idle": "2024-01-30T22:09:46.223072Z",
     "shell.execute_reply": "2024-01-30T22:09:46.221470Z"
    },
    "papermill": {
     "duration": 0.023707,
     "end_time": "2024-01-30T22:09:46.226158",
     "exception": false,
     "start_time": "2024-01-30T22:09:46.202451",
     "status": "completed"
    },
    "tags": []
   },
   "outputs": [
    {
     "name": "stdout",
     "output_type": "stream",
     "text": [
      "[[ 7 17]\n",
      " [19 29]\n",
      " [31 41]]\n"
     ]
    }
   ],
   "source": [
    "v = np.array([2, 14, 26]) \n",
    "w = np.array([5, 15])   \n",
    "\n",
    "# To compute an outer product we first reshape v to a column vector of shape 3x1\n",
    "# then broadcast it against w to yield an output of shape 3x2 which is the outer product of v and w\n",
    "print(np.reshape(v, (3, 1)) + w)\n"
   ]
  },
  {
   "cell_type": "markdown",
   "id": "dccb0fb3",
   "metadata": {
    "papermill": {
     "duration": 0.011181,
     "end_time": "2024-01-30T22:09:46.248482",
     "exception": false,
     "start_time": "2024-01-30T22:09:46.237301",
     "status": "completed"
    },
    "tags": []
   },
   "source": [
    "**Broadcast Example 2**"
   ]
  },
  {
   "cell_type": "code",
   "execution_count": 14,
   "id": "46de8155",
   "metadata": {
    "execution": {
     "iopub.execute_input": "2024-01-30T22:09:46.273669Z",
     "iopub.status.busy": "2024-01-30T22:09:46.273155Z",
     "iopub.status.idle": "2024-01-30T22:09:46.282524Z",
     "shell.execute_reply": "2024-01-30T22:09:46.280816Z"
    },
    "papermill": {
     "duration": 0.025437,
     "end_time": "2024-01-30T22:09:46.285568",
     "exception": false,
     "start_time": "2024-01-30T22:09:46.260131",
     "status": "completed"
    },
    "tags": []
   },
   "outputs": [
    {
     "name": "stdout",
     "output_type": "stream",
     "text": [
      "V is:  \n",
      "\n",
      "[ 2 14 26]\n",
      "\n",
      "\n",
      "X is: \n",
      "\n",
      "[[12 22 33]\n",
      " [45 55 66]]\n",
      "\n",
      "\n",
      "X + v is: \n",
      "\n",
      "[[14 36 59]\n",
      " [47 69 92]]\n"
     ]
    }
   ],
   "source": [
    "X = np.array([[12, 22, 33], [45, 55, 66]])\n",
    "v = np.array([2, 14, 26]) \n",
    "\n",
    "# X has shape 2x3 and v has shape (3, ) so they broadcast to 2x3\n",
    "print(\"V is:  \\n\")\n",
    "print(v)\n",
    "print(\"\\n\")\n",
    "print(\"X is: \\n\")\n",
    "print(X)\n",
    "print(\"\\n\")\n",
    "print(\"X + v is: \\n\")\n",
    "print(X + v)"
   ]
  },
  {
   "cell_type": "markdown",
   "id": "db46fa4d",
   "metadata": {
    "papermill": {
     "duration": 0.010777,
     "end_time": "2024-01-30T22:09:46.307485",
     "exception": false,
     "start_time": "2024-01-30T22:09:46.296708",
     "status": "completed"
    },
    "tags": []
   },
   "source": [
    "Happy revisiting Numpy!🙂"
   ]
  }
 ],
 "metadata": {
  "kaggle": {
   "accelerator": "none",
   "dataSources": [],
   "dockerImageVersionId": 30646,
   "isGpuEnabled": false,
   "isInternetEnabled": true,
   "language": "python",
   "sourceType": "notebook"
  },
  "kernelspec": {
   "display_name": "Python 3",
   "language": "python",
   "name": "python3"
  },
  "language_info": {
   "codemirror_mode": {
    "name": "ipython",
    "version": 3
   },
   "file_extension": ".py",
   "mimetype": "text/x-python",
   "name": "python",
   "nbconvert_exporter": "python",
   "pygments_lexer": "ipython3",
   "version": "3.10.13"
  },
  "papermill": {
   "default_parameters": {},
   "duration": 4.989001,
   "end_time": "2024-01-30T22:09:46.842488",
   "environment_variables": {},
   "exception": null,
   "input_path": "__notebook__.ipynb",
   "output_path": "__notebook__.ipynb",
   "parameters": {},
   "start_time": "2024-01-30T22:09:41.853487",
   "version": "2.5.0"
  }
 },
 "nbformat": 4,
 "nbformat_minor": 5
}
