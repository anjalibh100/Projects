{
 "cells": [
  {
   "cell_type": "markdown",
   "id": "7cdd5a90",
   "metadata": {
    "papermill": {
     "duration": 0.00615,
     "end_time": "2024-01-30T21:50:39.382094",
     "exception": false,
     "start_time": "2024-01-30T21:50:39.375944",
     "status": "completed"
    },
    "tags": []
   },
   "source": [
    "<div style=\"width: 100%; background-color: #6a89cc; color: white; padding: 10px; border: 2px solid #0c2461; margin-bottom: 20px;border-radius:10px;\">\n",
    "    <h3 style=\"color: white;\">Important featues of Numpy</h3>\n",
    "    <span > NumPy Array is a table of elements (usually numbers), all of the same types, indexed by a tuple of positive integers. In Numpy, the number of dimensions of the array is called the rank of the array. A tuple of integers giving the size of the array along each dimension is known as the shape of the array. </span>\n",
    "    </span> \n",
    "    <h3 style=\"color: white;\">Tasks in this notebook</h3>\n",
    "    <ul style=\"list-style-type: none; padding-left: 0;\">\n",
    "        <li><span style=\"margin-left: -10px;\">&#8226;</span> Numpy is an array processing package in Python</li>\n",
    "        <li><span style=\"margin-left: -10px;\">&#8226;</span> It provides a high-performance multidimensional array object and tools for working with these arrays. </li>\n",
    "        <li><span style=\"margin-left: -10px;\">&#8226;</span> It is the fundamental package for scientific computing with Python.</li>\n",
    "    </ul>\n",
    "</div>"
   ]
  },
  {
   "cell_type": "markdown",
   "id": "462cbfce",
   "metadata": {
    "papermill": {
     "duration": 0.005339,
     "end_time": "2024-01-30T21:50:39.392986",
     "exception": false,
     "start_time": "2024-01-30T21:50:39.387647",
     "status": "completed"
    },
    "tags": []
   },
   "source": [
    "# **Let's start the Learning**"
   ]
  },
  {
   "cell_type": "code",
   "execution_count": 1,
   "id": "36cd3b42",
   "metadata": {
    "execution": {
     "iopub.execute_input": "2024-01-30T21:50:39.406647Z",
     "iopub.status.busy": "2024-01-30T21:50:39.406100Z",
     "iopub.status.idle": "2024-01-30T21:50:39.414743Z",
     "shell.execute_reply": "2024-01-30T21:50:39.413894Z"
    },
    "papermill": {
     "duration": 0.017068,
     "end_time": "2024-01-30T21:50:39.416458",
     "exception": false,
     "start_time": "2024-01-30T21:50:39.399390",
     "status": "completed"
    },
    "tags": []
   },
   "outputs": [],
   "source": [
    "#Import Numpy Library\n",
    "import numpy as np"
   ]
  },
  {
   "cell_type": "markdown",
   "id": "8211222c",
   "metadata": {
    "papermill": {
     "duration": 0.005253,
     "end_time": "2024-01-30T21:50:39.427308",
     "exception": false,
     "start_time": "2024-01-30T21:50:39.422055",
     "status": "completed"
    },
    "tags": []
   },
   "source": [
    "**1. Creating arrays using numpy.empty(shape, dtype=float, order=’C’)\n",
    "where shape => Number of rows, order => C_contiguous or F_contiguous, dtype => [optional, float(by Default)] is the data type of returned array.**  "
   ]
  },
  {
   "cell_type": "code",
   "execution_count": 2,
   "id": "9fa5f1ce",
   "metadata": {
    "execution": {
     "iopub.execute_input": "2024-01-30T21:50:39.439920Z",
     "iopub.status.busy": "2024-01-30T21:50:39.439550Z",
     "iopub.status.idle": "2024-01-30T21:50:39.446232Z",
     "shell.execute_reply": "2024-01-30T21:50:39.444758Z"
    },
    "papermill": {
     "duration": 0.015151,
     "end_time": "2024-01-30T21:50:39.447906",
     "exception": false,
     "start_time": "2024-01-30T21:50:39.432755",
     "status": "completed"
    },
    "tags": []
   },
   "outputs": [
    {
     "name": "stdout",
     "output_type": "stream",
     "text": [
      "Matrix b : \n",
      " [-4611686018427387904           1679785983]\n",
      "\n",
      "Matrix a : \n",
      " [[95484017498720              0]\n",
      " [95484016216016 95484016427648]]\n",
      "\n",
      "Matrix c : \n",
      " [[4.71753722e-310 0.00000000e+000 0.00000000e+000]\n",
      " [0.00000000e+000 0.00000000e+000 0.00000000e+000]\n",
      " [0.00000000e+000 0.00000000e+000 0.00000000e+000]]\n"
     ]
    }
   ],
   "source": [
    "b = np.empty(2, dtype = int)\n",
    "print(\"Matrix b : \\n\", b)\n",
    "\n",
    "a = np.empty([2, 2], dtype = int)\n",
    "print(\"\\nMatrix a : \\n\", a)\n",
    "\n",
    "c = np.empty([3, 3])\n",
    "print(\"\\nMatrix c : \\n\", c)\n"
   ]
  },
  {
   "cell_type": "markdown",
   "id": "c046eb8a",
   "metadata": {
    "papermill": {
     "duration": 0.005479,
     "end_time": "2024-01-30T21:50:39.459128",
     "exception": false,
     "start_time": "2024-01-30T21:50:39.453649",
     "status": "completed"
    },
    "tags": []
   },
   "source": [
    "**2. Creating array using numpy.zeros**"
   ]
  },
  {
   "cell_type": "code",
   "execution_count": 3,
   "id": "ce8c4ce7",
   "metadata": {
    "execution": {
     "iopub.execute_input": "2024-01-30T21:50:39.472561Z",
     "iopub.status.busy": "2024-01-30T21:50:39.471720Z",
     "iopub.status.idle": "2024-01-30T21:50:39.478045Z",
     "shell.execute_reply": "2024-01-30T21:50:39.476851Z"
    },
    "papermill": {
     "duration": 0.015375,
     "end_time": "2024-01-30T21:50:39.480150",
     "exception": false,
     "start_time": "2024-01-30T21:50:39.464775",
     "status": "completed"
    },
    "tags": []
   },
   "outputs": [
    {
     "name": "stdout",
     "output_type": "stream",
     "text": [
      "Matrix b : \n",
      " [0 0]\n",
      "\n",
      "Matrix a : \n",
      " [[0 0]\n",
      " [0 0]]\n",
      "\n",
      "Matrix c : \n",
      " [[0. 0. 0.]\n",
      " [0. 0. 0.]\n",
      " [0. 0. 0.]]\n"
     ]
    }
   ],
   "source": [
    "b = np.zeros(2, dtype = int)\n",
    "print(\"Matrix b : \\n\", b)\n",
    "\n",
    "a = np.zeros([2, 2], dtype = int)\n",
    "print(\"\\nMatrix a : \\n\", a)\n",
    "\n",
    "c = np.zeros([3, 3])\n",
    "print(\"\\nMatrix c : \\n\", c)\n"
   ]
  },
  {
   "cell_type": "markdown",
   "id": "ee81dab8",
   "metadata": {
    "papermill": {
     "duration": 0.006487,
     "end_time": "2024-01-30T21:50:39.492829",
     "exception": false,
     "start_time": "2024-01-30T21:50:39.486342",
     "status": "completed"
    },
    "tags": []
   },
   "source": [
    "**3. Addition Operations**"
   ]
  },
  {
   "cell_type": "code",
   "execution_count": 4,
   "id": "95ee0b9d",
   "metadata": {
    "execution": {
     "iopub.execute_input": "2024-01-30T21:50:39.507629Z",
     "iopub.status.busy": "2024-01-30T21:50:39.506764Z",
     "iopub.status.idle": "2024-01-30T21:50:39.516346Z",
     "shell.execute_reply": "2024-01-30T21:50:39.514920Z"
    },
    "papermill": {
     "duration": 0.019235,
     "end_time": "2024-01-30T21:50:39.517999",
     "exception": false,
     "start_time": "2024-01-30T21:50:39.498764",
     "status": "completed"
    },
    "tags": []
   },
   "outputs": [
    {
     "name": "stdout",
     "output_type": "stream",
     "text": [
      "[  7  77  23 130]\n",
      "[  7  77  23 130]\n",
      "[  8  79  26 134]\n",
      "[  7  77  23 130]\n"
     ]
    }
   ],
   "source": [
    "# Defining both the matrices\n",
    "a = np.array([5, 72, 13, 100])\n",
    "b = np.array([2, 5, 10, 30])\n",
    "\n",
    "# Performing addition using arithmetic operator\n",
    "add_ans = a+b\n",
    "print(add_ans)\n",
    "\n",
    "# Performing addition using numpy function\n",
    "add_ans = np.add(a, b)\n",
    "print(add_ans)\n",
    "\n",
    "# The same functions and operations can be used for\n",
    "# multiple matrices\n",
    "c = np.array([1, 2, 3, 4])\n",
    "add_ans = a+b+c\n",
    "print(add_ans)\n",
    "\n",
    "add_ans = np.add(a, b, c)\n",
    "print(add_ans)\n"
   ]
  },
  {
   "cell_type": "markdown",
   "id": "9d95e798",
   "metadata": {
    "papermill": {
     "duration": 0.005511,
     "end_time": "2024-01-30T21:50:39.529646",
     "exception": false,
     "start_time": "2024-01-30T21:50:39.524135",
     "status": "completed"
    },
    "tags": []
   },
   "source": [
    "**4. Subtraction Operation**"
   ]
  },
  {
   "cell_type": "code",
   "execution_count": 5,
   "id": "77ebeea1",
   "metadata": {
    "execution": {
     "iopub.execute_input": "2024-01-30T21:50:39.542585Z",
     "iopub.status.busy": "2024-01-30T21:50:39.542250Z",
     "iopub.status.idle": "2024-01-30T21:50:39.551285Z",
     "shell.execute_reply": "2024-01-30T21:50:39.549600Z"
    },
    "papermill": {
     "duration": 0.017715,
     "end_time": "2024-01-30T21:50:39.553034",
     "exception": false,
     "start_time": "2024-01-30T21:50:39.535319",
     "status": "completed"
    },
    "tags": []
   },
   "outputs": [
    {
     "name": "stdout",
     "output_type": "stream",
     "text": [
      "[ 3 67  3 70]\n",
      "[ 3 67  3 70]\n"
     ]
    }
   ],
   "source": [
    "# Defining both the matrices\n",
    "a = np.array([5, 72, 13, 100])\n",
    "b = np.array([2, 5, 10, 30])\n",
    "\n",
    "# Performing subtraction using arithmetic operator\n",
    "sub_ans = a-b\n",
    "print(sub_ans)\n",
    "\n",
    "# Performing subtraction using numpy function\n",
    "sub_ans = np.subtract(a, b)\n",
    "print(sub_ans)\n"
   ]
  },
  {
   "cell_type": "markdown",
   "id": "a7600fe2",
   "metadata": {
    "papermill": {
     "duration": 0.005617,
     "end_time": "2024-01-30T21:50:39.564773",
     "exception": false,
     "start_time": "2024-01-30T21:50:39.559156",
     "status": "completed"
    },
    "tags": []
   },
   "source": [
    "**5. Multiplication Operation**"
   ]
  },
  {
   "cell_type": "code",
   "execution_count": 6,
   "id": "ac213ad5",
   "metadata": {
    "execution": {
     "iopub.execute_input": "2024-01-30T21:50:39.578345Z",
     "iopub.status.busy": "2024-01-30T21:50:39.577434Z",
     "iopub.status.idle": "2024-01-30T21:50:39.583393Z",
     "shell.execute_reply": "2024-01-30T21:50:39.582458Z"
    },
    "papermill": {
     "duration": 0.015174,
     "end_time": "2024-01-30T21:50:39.585602",
     "exception": false,
     "start_time": "2024-01-30T21:50:39.570428",
     "status": "completed"
    },
    "tags": []
   },
   "outputs": [
    {
     "name": "stdout",
     "output_type": "stream",
     "text": [
      "[  10  360  130 3000]\n",
      "[  10  360  130 3000]\n"
     ]
    }
   ],
   "source": [
    "# Defining both the matrices\n",
    "a = np.array([5, 72, 13, 100])\n",
    "b = np.array([2, 5, 10, 30])\n",
    "\n",
    "# Performing multiplication using arithmetic operator\n",
    "mul_ans = a*b\n",
    "print(mul_ans)\n",
    "\n",
    "# Performing multiplication using numpy function\n",
    "mul_ans = np.multiply(a, b)\n",
    "print(mul_ans)\n"
   ]
  },
  {
   "cell_type": "markdown",
   "id": "9ce2cc72",
   "metadata": {
    "papermill": {
     "duration": 0.005893,
     "end_time": "2024-01-30T21:50:39.598144",
     "exception": false,
     "start_time": "2024-01-30T21:50:39.592251",
     "status": "completed"
    },
    "tags": []
   },
   "source": [
    "**6. Division Operation**"
   ]
  },
  {
   "cell_type": "code",
   "execution_count": 7,
   "id": "3a5c5466",
   "metadata": {
    "execution": {
     "iopub.execute_input": "2024-01-30T21:50:39.612312Z",
     "iopub.status.busy": "2024-01-30T21:50:39.611812Z",
     "iopub.status.idle": "2024-01-30T21:50:39.620057Z",
     "shell.execute_reply": "2024-01-30T21:50:39.618556Z"
    },
    "papermill": {
     "duration": 0.017993,
     "end_time": "2024-01-30T21:50:39.622305",
     "exception": false,
     "start_time": "2024-01-30T21:50:39.604312",
     "status": "completed"
    },
    "tags": []
   },
   "outputs": [
    {
     "name": "stdout",
     "output_type": "stream",
     "text": [
      "[ 2.5        14.4         1.3         3.33333333]\n",
      "[ 2.5        14.4         1.3         3.33333333]\n"
     ]
    }
   ],
   "source": [
    "# Defining both the matrices\n",
    "a = np.array([5, 72, 13, 100])\n",
    "b = np.array([2, 5, 10, 30])\n",
    "\n",
    "# Performing division using arithmetic operators\n",
    "div_ans = a/b\n",
    "print(div_ans)\n",
    "\n",
    "# Performing division using numpy functions\n",
    "div_ans = np.divide(a, b)\n",
    "print(div_ans)\n"
   ]
  },
  {
   "cell_type": "markdown",
   "id": "a47cff98",
   "metadata": {
    "papermill": {
     "duration": 0.005909,
     "end_time": "2024-01-30T21:50:39.634749",
     "exception": false,
     "start_time": "2024-01-30T21:50:39.628840",
     "status": "completed"
    },
    "tags": []
   },
   "source": [
    "**7. Array Indexing**"
   ]
  },
  {
   "cell_type": "code",
   "execution_count": 8,
   "id": "c1db225e",
   "metadata": {
    "execution": {
     "iopub.execute_input": "2024-01-30T21:50:39.648937Z",
     "iopub.status.busy": "2024-01-30T21:50:39.648391Z",
     "iopub.status.idle": "2024-01-30T21:50:39.654226Z",
     "shell.execute_reply": "2024-01-30T21:50:39.653046Z"
    },
    "papermill": {
     "duration": 0.015021,
     "end_time": "2024-01-30T21:50:39.655940",
     "exception": false,
     "start_time": "2024-01-30T21:50:39.640919",
     "status": "completed"
    },
    "tags": []
   },
   "outputs": [
    {
     "name": "stdout",
     "output_type": "stream",
     "text": [
      "\n",
      " A sequential array with a negative step: \n",
      " [10  8  6  4  2]\n",
      "\n",
      " Elements at these indices are:\n",
      " [4 8 6]\n"
     ]
    }
   ],
   "source": [
    "# Python program to demonstrate \n",
    "# the use of index arrays.\n",
    "\n",
    "# Create a sequence of integers from 10 to 1 with a step of -2\n",
    "a = np.arange(10, 1, -2) \n",
    "print(\"\\n A sequential array with a negative step: \\n\",a)\n",
    "\n",
    "# Indexes are specified inside the np.array method.\n",
    "newarr = a[np.array([3, 1, 2 ])]\n",
    "print(\"\\n Elements at these indices are:\\n\",newarr)\n"
   ]
  },
  {
   "cell_type": "markdown",
   "id": "56dc58da",
   "metadata": {
    "papermill": {
     "duration": 0.006067,
     "end_time": "2024-01-30T21:50:39.668327",
     "exception": false,
     "start_time": "2024-01-30T21:50:39.662260",
     "status": "completed"
    },
    "tags": []
   },
   "source": [
    "**8. Slicing in Numpy**"
   ]
  },
  {
   "cell_type": "code",
   "execution_count": 9,
   "id": "404f4ff3",
   "metadata": {
    "execution": {
     "iopub.execute_input": "2024-01-30T21:50:39.681924Z",
     "iopub.status.busy": "2024-01-30T21:50:39.681578Z",
     "iopub.status.idle": "2024-01-30T21:50:39.686976Z",
     "shell.execute_reply": "2024-01-30T21:50:39.686187Z"
    },
    "papermill": {
     "duration": 0.014817,
     "end_time": "2024-01-30T21:50:39.689019",
     "exception": false,
     "start_time": "2024-01-30T21:50:39.674202",
     "status": "completed"
    },
    "tags": []
   },
   "outputs": [
    {
     "name": "stdout",
     "output_type": "stream",
     "text": [
      "\n",
      " Array is:\n",
      "  [ 0  1  2  3  4  5  6  7  8  9 10 11 12 13 14 15 16 17 18 19]\n",
      "\n",
      " a[-8:17:1] =  [12 13 14 15 16]\n",
      "\n",
      " a[10:] =  [10 11 12 13 14 15 16 17 18 19]\n"
     ]
    }
   ],
   "source": [
    "# Python program for basic slicing.\n",
    "\n",
    "# Arrange elements from 0 to 19. The last element is indexed by -1 second last by -2 and so on.\n",
    "a = np.arange(20)\n",
    "print(\"\\n Array is:\\n \",a)\n",
    "\n",
    "# a[start:stop:step]\n",
    "print(\"\\n a[-8:17:1] = \",a[-8:17:1])   #The last element is indexed by -1 second last by -2 and so on.\n",
    "\n",
    "# The : operator means all elements till the end.\n",
    "print(\"\\n a[10:] = \",a[10:])\n",
    "\n"
   ]
  },
  {
   "cell_type": "markdown",
   "id": "b434082f",
   "metadata": {
    "papermill": {
     "duration": 0.005847,
     "end_time": "2024-01-30T21:50:39.701145",
     "exception": false,
     "start_time": "2024-01-30T21:50:39.695298",
     "status": "completed"
    },
    "tags": []
   },
   "source": [
    "**9. Slicing using Ellipsis. Ellipsis (…) is the number of : objects needed to make a selection tuple of the same length as the dimensions of the array.**"
   ]
  },
  {
   "cell_type": "code",
   "execution_count": 10,
   "id": "2aa1af8a",
   "metadata": {
    "execution": {
     "iopub.execute_input": "2024-01-30T21:50:39.714783Z",
     "iopub.status.busy": "2024-01-30T21:50:39.714449Z",
     "iopub.status.idle": "2024-01-30T21:50:39.720314Z",
     "shell.execute_reply": "2024-01-30T21:50:39.719525Z"
    },
    "papermill": {
     "duration": 0.014748,
     "end_time": "2024-01-30T21:50:39.722087",
     "exception": false,
     "start_time": "2024-01-30T21:50:39.707339",
     "status": "completed"
    },
    "tags": []
   },
   "outputs": [
    {
     "name": "stdout",
     "output_type": "stream",
     "text": [
      "[[[ 1  2  3]\n",
      "  [ 4  5  6]]\n",
      "\n",
      " [[ 7  8  9]\n",
      "  [10 11 12]]]\n",
      "\n",
      "\n",
      "\n",
      "The number of rows are : 2\n",
      "The number of columns are : 2\n",
      "\n",
      "\n",
      "\n",
      "[[ 2  5]\n",
      " [ 8 11]]\n"
     ]
    }
   ],
   "source": [
    "# Python program for indexing using basic slicing with ellipsis\n",
    "\n",
    "# A 3 dimensional array.\n",
    "b = np.array([[[1, 2, 3],[4, 5, 6]],[[7, 8, 9],[10, 11, 12]]])\n",
    "print(b)\n",
    "print(\"\\n\\n\")\n",
    "print(\"The number of rows are :\",b.shape[0])\n",
    "print(\"The number of columns are :\",b.shape[1])\n",
    "print(\"\\n\\n\")\n",
    "print(b[...,1]) #Equivalent to b[: ,: ,1 ]\n"
   ]
  },
  {
   "cell_type": "markdown",
   "id": "f7aa0663",
   "metadata": {
    "papermill": {
     "duration": 0.006039,
     "end_time": "2024-01-30T21:50:39.734360",
     "exception": false,
     "start_time": "2024-01-30T21:50:39.728321",
     "status": "completed"
    },
    "tags": []
   },
   "source": [
    "**10. How to get the dimensions of the array created by Numpy**"
   ]
  },
  {
   "cell_type": "code",
   "execution_count": 11,
   "id": "d9a5a654",
   "metadata": {
    "execution": {
     "iopub.execute_input": "2024-01-30T21:50:39.749025Z",
     "iopub.status.busy": "2024-01-30T21:50:39.748676Z",
     "iopub.status.idle": "2024-01-30T21:50:39.754222Z",
     "shell.execute_reply": "2024-01-30T21:50:39.753017Z"
    },
    "papermill": {
     "duration": 0.015838,
     "end_time": "2024-01-30T21:50:39.756290",
     "exception": false,
     "start_time": "2024-01-30T21:50:39.740452",
     "status": "completed"
    },
    "tags": []
   },
   "outputs": [
    {
     "name": "stdout",
     "output_type": "stream",
     "text": [
      "[0 1 2 3]\n",
      "Dimensions in _1darr are:  1\n"
     ]
    }
   ],
   "source": [
    "#Getting dimensions of the array created by numpy\n",
    "\n",
    "# create numpy arrays\n",
    "# 1-d numpy array\n",
    "_1darr = np.arange(4) \n",
    "print(_1darr)\n",
    "\n",
    "# printing the 1-dimensions numpy array\n",
    "print(\"Dimensions in _1darr are: \", _1darr.ndim)\n"
   ]
  },
  {
   "cell_type": "markdown",
   "id": "4643d02c",
   "metadata": {
    "papermill": {
     "duration": 0.005891,
     "end_time": "2024-01-30T21:50:39.768746",
     "exception": false,
     "start_time": "2024-01-30T21:50:39.762855",
     "status": "completed"
    },
    "tags": []
   },
   "source": [
    "**11. NumPy Array Broadcasting** :  refers to how numpy treats arrays with different Dimensions during arithmetic operations"
   ]
  },
  {
   "cell_type": "code",
   "execution_count": 12,
   "id": "e49197b0",
   "metadata": {
    "execution": {
     "iopub.execute_input": "2024-01-30T21:50:39.782808Z",
     "iopub.status.busy": "2024-01-30T21:50:39.782443Z",
     "iopub.status.idle": "2024-01-30T21:50:39.791818Z",
     "shell.execute_reply": "2024-01-30T21:50:39.790642Z"
    },
    "papermill": {
     "duration": 0.018508,
     "end_time": "2024-01-30T21:50:39.793469",
     "exception": false,
     "start_time": "2024-01-30T21:50:39.774961",
     "status": "completed"
    },
    "tags": []
   },
   "outputs": [
    {
     "name": "stdout",
     "output_type": "stream",
     "text": [
      "4\n"
     ]
    },
    {
     "data": {
      "text/plain": [
       "array([[  2.4,   8.7,  31.2],\n",
       "       [157.2,  70.8, 292. ],\n",
       "       [165.6,  95.1, 191.2],\n",
       "       [ 43.2,  33. ,  39.2]])"
      ]
     },
     "execution_count": 12,
     "metadata": {},
     "output_type": "execute_result"
    }
   ],
   "source": [
    "macros = np.array([\n",
    "[0.8, 2.9, 3.9],\n",
    "[52.4, 23.6, 36.5],\n",
    "[55.2, 31.7, 23.9],\n",
    "[14.4, 11, 4.9]\n",
    "])\n",
    "\n",
    "# Create a new array filled with zeros,# of the same shape as macros.\n",
    "result = np.zeros_like(macros)\n",
    "\n",
    "cal_per_macro = np.array([3, 3, 8])\n",
    "\n",
    "# Now multiply each row of macros by\n",
    "# cal_per_macro. In Numpy, `*` is\n",
    "# element-wise multiplication between two arrays.\n",
    "print(macros.shape[0]) # Since shape[0] refers to rows , shape[1] refers to columns\n",
    "for i in range(macros.shape[0]):\n",
    "    result[i, :] = macros[i, :] * cal_per_macro\n",
    "\n",
    "result\n"
   ]
  },
  {
   "cell_type": "markdown",
   "id": "b1c85189",
   "metadata": {
    "papermill": {
     "duration": 0.006046,
     "end_time": "2024-01-30T21:50:39.806097",
     "exception": false,
     "start_time": "2024-01-30T21:50:39.800051",
     "status": "completed"
    },
    "tags": []
   },
   "source": [
    "**Observation : This results in multiplication of a larger dimensional  array by a smaller array. The smaller array is broadcast across the larger array so that they have compatible shapes.**"
   ]
  },
  {
   "cell_type": "markdown",
   "id": "19cb1fed",
   "metadata": {
    "papermill": {
     "duration": 0.006,
     "end_time": "2024-01-30T21:50:39.818611",
     "exception": false,
     "start_time": "2024-01-30T21:50:39.812611",
     "status": "completed"
    },
    "tags": []
   },
   "source": [
    "<div style=\"width: 50%; height: 50px;   text-align: left; line-height: 20px; color: black; font-size: 15px; font-color: blue; font-weight: bold; border-radius:2px;\">\n",
    "    Broadcasting Rules: Broadcasting two arrays together follow these rules: </div>\n",
    "<span >\n",
    "    If the arrays don’t have the same rank then prepend the shape of the lower rank array with 1s until both shapes have the same length.\n",
    "The two arrays are compatible in a dimension if they have the same size in the dimension or if one of the arrays has size 1 in that dimension.\n",
    "The arrays can be broadcast together if they are compatible with all dimensions.\n",
    "After broadcasting, each array behaves as if it had a shape equal to the element-wise maximum of shapes of the two input arrays.\n",
    "In any dimension where one array had a size of 1 and the other array had a size greater than 1, the first array behaves as if it were copied along that dimension.\n",
    "    </span> \n",
    "\n",
    "\n"
   ]
  },
  {
   "cell_type": "markdown",
   "id": "40c1f746",
   "metadata": {
    "papermill": {
     "duration": 0.006057,
     "end_time": "2024-01-30T21:50:39.830995",
     "exception": false,
     "start_time": "2024-01-30T21:50:39.824938",
     "status": "completed"
    },
    "tags": []
   },
   "source": [
    "**12. Broadcast Example 1**"
   ]
  },
  {
   "cell_type": "code",
   "execution_count": 13,
   "id": "617137fd",
   "metadata": {
    "execution": {
     "iopub.execute_input": "2024-01-30T21:50:39.844916Z",
     "iopub.status.busy": "2024-01-30T21:50:39.844564Z",
     "iopub.status.idle": "2024-01-30T21:50:39.850561Z",
     "shell.execute_reply": "2024-01-30T21:50:39.849040Z"
    },
    "papermill": {
     "duration": 0.015917,
     "end_time": "2024-01-30T21:50:39.853126",
     "exception": false,
     "start_time": "2024-01-30T21:50:39.837209",
     "status": "completed"
    },
    "tags": []
   },
   "outputs": [
    {
     "name": "stdout",
     "output_type": "stream",
     "text": [
      "[[ 7 17]\n",
      " [19 29]\n",
      " [31 41]]\n"
     ]
    }
   ],
   "source": [
    "v = np.array([2, 14, 26]) \n",
    "w = np.array([5, 15])   \n",
    "\n",
    "# To compute an outer product we first reshape v to a column vector of shape 3x1\n",
    "# then broadcast it against w to yield an output of shape 3x2 which is the outer product of v and w\n",
    "print(np.reshape(v, (3, 1)) + w)\n"
   ]
  },
  {
   "cell_type": "markdown",
   "id": "276b1bd9",
   "metadata": {
    "papermill": {
     "duration": 0.006254,
     "end_time": "2024-01-30T21:50:39.867004",
     "exception": false,
     "start_time": "2024-01-30T21:50:39.860750",
     "status": "completed"
    },
    "tags": []
   },
   "source": [
    "**Broadcast Example 2**"
   ]
  },
  {
   "cell_type": "code",
   "execution_count": 14,
   "id": "a567a57e",
   "metadata": {
    "execution": {
     "iopub.execute_input": "2024-01-30T21:50:39.882476Z",
     "iopub.status.busy": "2024-01-30T21:50:39.881643Z",
     "iopub.status.idle": "2024-01-30T21:50:39.888598Z",
     "shell.execute_reply": "2024-01-30T21:50:39.887730Z"
    },
    "papermill": {
     "duration": 0.01711,
     "end_time": "2024-01-30T21:50:39.890390",
     "exception": false,
     "start_time": "2024-01-30T21:50:39.873280",
     "status": "completed"
    },
    "tags": []
   },
   "outputs": [
    {
     "name": "stdout",
     "output_type": "stream",
     "text": [
      "V is:  \n",
      "\n",
      "[ 2 14 26]\n",
      "\n",
      "\n",
      "X is: \n",
      "\n",
      "[[12 22 33]\n",
      " [45 55 66]]\n",
      "\n",
      "\n",
      "X + v is: \n",
      "\n",
      "[[14 36 59]\n",
      " [47 69 92]]\n"
     ]
    }
   ],
   "source": [
    "X = np.array([[12, 22, 33], [45, 55, 66]])\n",
    "v = np.array([2, 14, 26]) \n",
    "\n",
    "# X has shape 2x3 and v has shape (3, ) so they broadcast to 2x3\n",
    "print(\"V is:  \\n\")\n",
    "print(v)\n",
    "print(\"\\n\")\n",
    "print(\"X is: \\n\")\n",
    "print(X)\n",
    "print(\"\\n\")\n",
    "print(\"X + v is: \\n\")\n",
    "print(X + v)"
   ]
  },
  {
   "cell_type": "markdown",
   "id": "845d71ef",
   "metadata": {
    "papermill": {
     "duration": 0.006253,
     "end_time": "2024-01-30T21:50:39.903339",
     "exception": false,
     "start_time": "2024-01-30T21:50:39.897086",
     "status": "completed"
    },
    "tags": []
   },
   "source": [
    "Happy revisiting Numpy!🙂"
   ]
  }
 ],
 "metadata": {
  "kaggle": {
   "accelerator": "none",
   "dataSources": [],
   "dockerImageVersionId": 30646,
   "isGpuEnabled": false,
   "isInternetEnabled": true,
   "language": "python",
   "sourceType": "notebook"
  },
  "kernelspec": {
   "display_name": "Python 3",
   "language": "python",
   "name": "python3"
  },
  "language_info": {
   "codemirror_mode": {
    "name": "ipython",
    "version": 3
   },
   "file_extension": ".py",
   "mimetype": "text/x-python",
   "name": "python",
   "nbconvert_exporter": "python",
   "pygments_lexer": "ipython3",
   "version": "3.10.13"
  },
  "papermill": {
   "default_parameters": {},
   "duration": 3.191366,
   "end_time": "2024-01-30T21:50:40.228142",
   "environment_variables": {},
   "exception": null,
   "input_path": "__notebook__.ipynb",
   "output_path": "__notebook__.ipynb",
   "parameters": {},
   "start_time": "2024-01-30T21:50:37.036776",
   "version": "2.5.0"
  }
 },
 "nbformat": 4,
 "nbformat_minor": 5
}
