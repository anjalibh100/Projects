{
 "cells": [
  {
   "cell_type": "code",
   "execution_count": 1,
   "id": "1f5009cf",
   "metadata": {
    "execution": {
     "iopub.execute_input": "2024-01-30T20:45:13.558693Z",
     "iopub.status.busy": "2024-01-30T20:45:13.557994Z",
     "iopub.status.idle": "2024-01-30T20:45:13.569246Z",
     "shell.execute_reply": "2024-01-30T20:45:13.568299Z"
    },
    "papermill": {
     "duration": 0.020845,
     "end_time": "2024-01-30T20:45:13.571528",
     "exception": false,
     "start_time": "2024-01-30T20:45:13.550683",
     "status": "completed"
    },
    "tags": []
   },
   "outputs": [],
   "source": [
    "import numpy as np"
   ]
  },
  {
   "cell_type": "markdown",
   "id": "8c076d87",
   "metadata": {
    "papermill": {
     "duration": 0.004225,
     "end_time": "2024-01-30T20:45:13.580713",
     "exception": false,
     "start_time": "2024-01-30T20:45:13.576488",
     "status": "completed"
    },
    "tags": []
   },
   "source": [
    "**Creating array using numpy.empty**"
   ]
  },
  {
   "cell_type": "code",
   "execution_count": 2,
   "id": "9d436570",
   "metadata": {
    "execution": {
     "iopub.execute_input": "2024-01-30T20:45:13.591020Z",
     "iopub.status.busy": "2024-01-30T20:45:13.590660Z",
     "iopub.status.idle": "2024-01-30T20:45:13.597462Z",
     "shell.execute_reply": "2024-01-30T20:45:13.596488Z"
    },
    "papermill": {
     "duration": 0.014432,
     "end_time": "2024-01-30T20:45:13.599522",
     "exception": false,
     "start_time": "2024-01-30T20:45:13.585090",
     "status": "completed"
    },
    "tags": []
   },
   "outputs": [
    {
     "name": "stdout",
     "output_type": "stream",
     "text": [
      "Matrix b : \n",
      " [-4611686018427387904           2016772095]\n",
      "\n",
      "Matrix a : \n",
      " [[97216095860032              0]\n",
      " [97216094222528 97216094305872]]\n",
      "\n",
      "Matrix c : \n",
      " [[4.80311328e-310 0.00000000e+000 0.00000000e+000]\n",
      " [0.00000000e+000 0.00000000e+000 0.00000000e+000]\n",
      " [0.00000000e+000 0.00000000e+000 0.00000000e+000]]\n"
     ]
    }
   ],
   "source": [
    "b = np.empty(2, dtype = int)\n",
    "print(\"Matrix b : \\n\", b)\n",
    "\n",
    "a = np.empty([2, 2], dtype = int)\n",
    "print(\"\\nMatrix a : \\n\", a)\n",
    "\n",
    "c = np.empty([3, 3])\n",
    "print(\"\\nMatrix c : \\n\", c)\n"
   ]
  },
  {
   "cell_type": "markdown",
   "id": "0b3a0d4d",
   "metadata": {
    "papermill": {
     "duration": 0.004377,
     "end_time": "2024-01-30T20:45:13.608559",
     "exception": false,
     "start_time": "2024-01-30T20:45:13.604182",
     "status": "completed"
    },
    "tags": []
   },
   "source": [
    "**Creating array using numpy.zeros**"
   ]
  },
  {
   "cell_type": "code",
   "execution_count": 3,
   "id": "76a5759d",
   "metadata": {
    "execution": {
     "iopub.execute_input": "2024-01-30T20:45:13.619258Z",
     "iopub.status.busy": "2024-01-30T20:45:13.618890Z",
     "iopub.status.idle": "2024-01-30T20:45:13.625158Z",
     "shell.execute_reply": "2024-01-30T20:45:13.624162Z"
    },
    "papermill": {
     "duration": 0.014042,
     "end_time": "2024-01-30T20:45:13.627227",
     "exception": false,
     "start_time": "2024-01-30T20:45:13.613185",
     "status": "completed"
    },
    "tags": []
   },
   "outputs": [
    {
     "name": "stdout",
     "output_type": "stream",
     "text": [
      "Matrix b : \n",
      " [0 0]\n",
      "\n",
      "Matrix a : \n",
      " [[0 0]\n",
      " [0 0]]\n",
      "\n",
      "Matrix c : \n",
      " [[0. 0. 0.]\n",
      " [0. 0. 0.]\n",
      " [0. 0. 0.]]\n"
     ]
    }
   ],
   "source": [
    "b = np.zeros(2, dtype = int)\n",
    "print(\"Matrix b : \\n\", b)\n",
    "\n",
    "a = np.zeros([2, 2], dtype = int)\n",
    "print(\"\\nMatrix a : \\n\", a)\n",
    "\n",
    "c = np.zeros([3, 3])\n",
    "print(\"\\nMatrix c : \\n\", c)\n"
   ]
  },
  {
   "cell_type": "markdown",
   "id": "07f0a3a0",
   "metadata": {
    "papermill": {
     "duration": 0.004385,
     "end_time": "2024-01-30T20:45:13.636276",
     "exception": false,
     "start_time": "2024-01-30T20:45:13.631891",
     "status": "completed"
    },
    "tags": []
   },
   "source": [
    "**Addition Operations**"
   ]
  },
  {
   "cell_type": "code",
   "execution_count": 4,
   "id": "3bfe0a8d",
   "metadata": {
    "execution": {
     "iopub.execute_input": "2024-01-30T20:45:13.647196Z",
     "iopub.status.busy": "2024-01-30T20:45:13.646814Z",
     "iopub.status.idle": "2024-01-30T20:45:13.654993Z",
     "shell.execute_reply": "2024-01-30T20:45:13.654271Z"
    },
    "papermill": {
     "duration": 0.016247,
     "end_time": "2024-01-30T20:45:13.657140",
     "exception": false,
     "start_time": "2024-01-30T20:45:13.640893",
     "status": "completed"
    },
    "tags": []
   },
   "outputs": [
    {
     "name": "stdout",
     "output_type": "stream",
     "text": [
      "[  7  77  23 130]\n",
      "[  7  77  23 130]\n",
      "[  8  79  26 134]\n",
      "[  7  77  23 130]\n"
     ]
    }
   ],
   "source": [
    "# Defining both the matrices\n",
    "a = np.array([5, 72, 13, 100])\n",
    "b = np.array([2, 5, 10, 30])\n",
    "\n",
    "# Performing addition using arithmetic operator\n",
    "add_ans = a+b\n",
    "print(add_ans)\n",
    "\n",
    "# Performing addition using numpy function\n",
    "add_ans = np.add(a, b)\n",
    "print(add_ans)\n",
    "\n",
    "# The same functions and operations can be used for\n",
    "# multiple matrices\n",
    "c = np.array([1, 2, 3, 4])\n",
    "add_ans = a+b+c\n",
    "print(add_ans)\n",
    "\n",
    "add_ans = np.add(a, b, c)\n",
    "print(add_ans)\n"
   ]
  },
  {
   "cell_type": "markdown",
   "id": "0ef4052b",
   "metadata": {
    "papermill": {
     "duration": 0.004499,
     "end_time": "2024-01-30T20:45:13.666425",
     "exception": false,
     "start_time": "2024-01-30T20:45:13.661926",
     "status": "completed"
    },
    "tags": []
   },
   "source": [
    "**Subtraction Operation**"
   ]
  },
  {
   "cell_type": "code",
   "execution_count": 5,
   "id": "d9407323",
   "metadata": {
    "execution": {
     "iopub.execute_input": "2024-01-30T20:45:13.678033Z",
     "iopub.status.busy": "2024-01-30T20:45:13.676954Z",
     "iopub.status.idle": "2024-01-30T20:45:13.683954Z",
     "shell.execute_reply": "2024-01-30T20:45:13.682725Z"
    },
    "papermill": {
     "duration": 0.014944,
     "end_time": "2024-01-30T20:45:13.686093",
     "exception": false,
     "start_time": "2024-01-30T20:45:13.671149",
     "status": "completed"
    },
    "tags": []
   },
   "outputs": [
    {
     "name": "stdout",
     "output_type": "stream",
     "text": [
      "[ 3 67  3 70]\n",
      "[ 3 67  3 70]\n"
     ]
    }
   ],
   "source": [
    "# Defining both the matrices\n",
    "a = np.array([5, 72, 13, 100])\n",
    "b = np.array([2, 5, 10, 30])\n",
    "\n",
    "# Performing subtraction using arithmetic operator\n",
    "sub_ans = a-b\n",
    "print(sub_ans)\n",
    "\n",
    "# Performing subtraction using numpy function\n",
    "sub_ans = np.subtract(a, b)\n",
    "print(sub_ans)\n"
   ]
  },
  {
   "cell_type": "markdown",
   "id": "6a1b3a77",
   "metadata": {
    "papermill": {
     "duration": 0.004697,
     "end_time": "2024-01-30T20:45:13.695858",
     "exception": false,
     "start_time": "2024-01-30T20:45:13.691161",
     "status": "completed"
    },
    "tags": []
   },
   "source": [
    "**Array Indexing**"
   ]
  },
  {
   "cell_type": "code",
   "execution_count": 6,
   "id": "87045fe4",
   "metadata": {
    "execution": {
     "iopub.execute_input": "2024-01-30T20:45:13.707050Z",
     "iopub.status.busy": "2024-01-30T20:45:13.706674Z",
     "iopub.status.idle": "2024-01-30T20:45:13.712806Z",
     "shell.execute_reply": "2024-01-30T20:45:13.711881Z"
    },
    "papermill": {
     "duration": 0.014249,
     "end_time": "2024-01-30T20:45:13.715049",
     "exception": false,
     "start_time": "2024-01-30T20:45:13.700800",
     "status": "completed"
    },
    "tags": []
   },
   "outputs": [
    {
     "name": "stdout",
     "output_type": "stream",
     "text": [
      "\n",
      " A sequential array with a negative step: \n",
      " [10  8  6  4  2]\n",
      "\n",
      " Elements at these indices are:\n",
      " [4 8 6]\n"
     ]
    }
   ],
   "source": [
    "# Python program to demonstrate \n",
    "# the use of index arrays.\n",
    "\n",
    "# Create a sequence of integers from 10 to 1 with a step of -2\n",
    "a = np.arange(10, 1, -2) \n",
    "print(\"\\n A sequential array with a negative step: \\n\",a)\n",
    "\n",
    "# Indexes are specified inside the np.array method.\n",
    "newarr = a[np.array([3, 1, 2 ])]\n",
    "print(\"\\n Elements at these indices are:\\n\",newarr)\n"
   ]
  },
  {
   "cell_type": "markdown",
   "id": "3d38d65f",
   "metadata": {
    "papermill": {
     "duration": 0.004877,
     "end_time": "2024-01-30T20:45:13.725068",
     "exception": false,
     "start_time": "2024-01-30T20:45:13.720191",
     "status": "completed"
    },
    "tags": []
   },
   "source": [
    "**Slicing in Numpy**"
   ]
  },
  {
   "cell_type": "code",
   "execution_count": 7,
   "id": "8c6004be",
   "metadata": {
    "execution": {
     "iopub.execute_input": "2024-01-30T20:45:13.737385Z",
     "iopub.status.busy": "2024-01-30T20:45:13.736334Z",
     "iopub.status.idle": "2024-01-30T20:45:13.743105Z",
     "shell.execute_reply": "2024-01-30T20:45:13.741723Z"
    },
    "papermill": {
     "duration": 0.015176,
     "end_time": "2024-01-30T20:45:13.745372",
     "exception": false,
     "start_time": "2024-01-30T20:45:13.730196",
     "status": "completed"
    },
    "tags": []
   },
   "outputs": [
    {
     "name": "stdout",
     "output_type": "stream",
     "text": [
      "\n",
      " Array is:\n",
      "  [ 0  1  2  3  4  5  6  7  8  9 10 11 12 13 14 15 16 17 18 19]\n",
      "\n",
      " a[-8:17:1] =  [12 13 14 15 16]\n",
      "\n",
      " a[10:] =  [10 11 12 13 14 15 16 17 18 19]\n"
     ]
    }
   ],
   "source": [
    "# Python program for basic slicing.\n",
    "\n",
    "# Arrange elements from 0 to 19. The last element is indexed by -1 second last by -2 and so on.\n",
    "a = np.arange(20)\n",
    "print(\"\\n Array is:\\n \",a)\n",
    "\n",
    "# a[start:stop:step]\n",
    "print(\"\\n a[-8:17:1] = \",a[-8:17:1])   #The last element is indexed by -1 second last by -2 and so on.\n",
    "\n",
    "# The : operator means all elements till the end.\n",
    "print(\"\\n a[10:] = \",a[10:])\n",
    "\n"
   ]
  },
  {
   "cell_type": "markdown",
   "id": "a245d3da",
   "metadata": {
    "papermill": {
     "duration": 0.004965,
     "end_time": "2024-01-30T20:45:13.755768",
     "exception": false,
     "start_time": "2024-01-30T20:45:13.750803",
     "status": "completed"
    },
    "tags": []
   },
   "source": [
    "**Ellipsis can also be used along with basic slicing. Ellipsis (…) is the number of : objects needed to make a selection tuple of the same length as the dimensions of the array.**"
   ]
  },
  {
   "cell_type": "code",
   "execution_count": 8,
   "id": "d520cff9",
   "metadata": {
    "execution": {
     "iopub.execute_input": "2024-01-30T20:45:13.767620Z",
     "iopub.status.busy": "2024-01-30T20:45:13.767099Z",
     "iopub.status.idle": "2024-01-30T20:45:13.773341Z",
     "shell.execute_reply": "2024-01-30T20:45:13.772306Z"
    },
    "papermill": {
     "duration": 0.014522,
     "end_time": "2024-01-30T20:45:13.775454",
     "exception": false,
     "start_time": "2024-01-30T20:45:13.760932",
     "status": "completed"
    },
    "tags": []
   },
   "outputs": [
    {
     "name": "stdout",
     "output_type": "stream",
     "text": [
      "[[ 2  5]\n",
      " [ 8 11]]\n"
     ]
    }
   ],
   "source": [
    "# Python program for indexing using basic slicing with ellipsis\n",
    "\n",
    "# A 3 dimensional array.\n",
    "b = np.array([[[1, 2, 3],[4, 5, 6]],[[7, 8, 9],[10, 11, 12]]])\n",
    "\n",
    "print(b[...,1]) #Equivalent to b[: ,: ,1 ]\n"
   ]
  },
  {
   "cell_type": "markdown",
   "id": "dca0925d",
   "metadata": {
    "papermill": {
     "duration": 0.004831,
     "end_time": "2024-01-30T20:45:13.786323",
     "exception": false,
     "start_time": "2024-01-30T20:45:13.781492",
     "status": "completed"
    },
    "tags": []
   },
   "source": [
    "**How to chek the dimension of the array created by numpy**"
   ]
  },
  {
   "cell_type": "code",
   "execution_count": 9,
   "id": "07e2554e",
   "metadata": {
    "execution": {
     "iopub.execute_input": "2024-01-30T20:45:13.797882Z",
     "iopub.status.busy": "2024-01-30T20:45:13.797522Z",
     "iopub.status.idle": "2024-01-30T20:45:13.803327Z",
     "shell.execute_reply": "2024-01-30T20:45:13.802333Z"
    },
    "papermill": {
     "duration": 0.014051,
     "end_time": "2024-01-30T20:45:13.805349",
     "exception": false,
     "start_time": "2024-01-30T20:45:13.791298",
     "status": "completed"
    },
    "tags": []
   },
   "outputs": [
    {
     "name": "stdout",
     "output_type": "stream",
     "text": [
      "[0 1 2 3]\n",
      "Dimensions in _1darr are:  1\n"
     ]
    }
   ],
   "source": [
    "#Getting dimensions of the array created by numpy\n",
    "\n",
    "# create numpy arrays\n",
    "# 1-d numpy array\n",
    "_1darr = np.arange(4) \n",
    "print(_1darr)\n",
    "\n",
    "# printing the 1-dimensions numpy array\n",
    "print(\"Dimensions in _1darr are: \", _1darr.ndim)\n"
   ]
  },
  {
   "cell_type": "markdown",
   "id": "4170362b",
   "metadata": {
    "papermill": {
     "duration": 0.004891,
     "end_time": "2024-01-30T20:45:13.815350",
     "exception": false,
     "start_time": "2024-01-30T20:45:13.810459",
     "status": "completed"
    },
    "tags": []
   },
   "source": [
    "**NumPy Array Broadcasting** :  refers to how numpy treats arrays with different Dimensions during arithmetic operations"
   ]
  },
  {
   "cell_type": "code",
   "execution_count": 10,
   "id": "1f189bea",
   "metadata": {
    "execution": {
     "iopub.execute_input": "2024-01-30T20:45:13.827195Z",
     "iopub.status.busy": "2024-01-30T20:45:13.826795Z",
     "iopub.status.idle": "2024-01-30T20:45:13.838461Z",
     "shell.execute_reply": "2024-01-30T20:45:13.837425Z"
    },
    "papermill": {
     "duration": 0.020017,
     "end_time": "2024-01-30T20:45:13.840523",
     "exception": false,
     "start_time": "2024-01-30T20:45:13.820506",
     "status": "completed"
    },
    "tags": []
   },
   "outputs": [
    {
     "name": "stdout",
     "output_type": "stream",
     "text": [
      "4\n"
     ]
    },
    {
     "data": {
      "text/plain": [
       "array([[  2.4,   8.7,  31.2],\n",
       "       [157.2,  70.8, 292. ],\n",
       "       [165.6,  95.1, 191.2],\n",
       "       [ 43.2,  33. ,  39.2]])"
      ]
     },
     "execution_count": 10,
     "metadata": {},
     "output_type": "execute_result"
    }
   ],
   "source": [
    "macros = np.array([\n",
    "[0.8, 2.9, 3.9],\n",
    "[52.4, 23.6, 36.5],\n",
    "[55.2, 31.7, 23.9],\n",
    "[14.4, 11, 4.9]\n",
    "])\n",
    "\n",
    "# Create a new array filled with zeros,# of the same shape as macros.\n",
    "result = np.zeros_like(macros)\n",
    "\n",
    "cal_per_macro = np.array([3, 3, 8])\n",
    "\n",
    "# Now multiply each row of macros by\n",
    "# cal_per_macro. In Numpy, `*` is\n",
    "# element-wise multiplication between two arrays.\n",
    "print(macros.shape[0]) # Since shape[0] refers ro rows , shape[1] refers to columns\n",
    "for i in range(macros.shape[0]):\n",
    "    result[i, :] = macros[i, :] * cal_per_macro\n",
    "\n",
    "result\n"
   ]
  },
  {
   "cell_type": "markdown",
   "id": "b8e1adcf",
   "metadata": {
    "papermill": {
     "duration": 0.005017,
     "end_time": "2024-01-30T20:45:13.850805",
     "exception": false,
     "start_time": "2024-01-30T20:45:13.845788",
     "status": "completed"
    },
    "tags": []
   },
   "source": [
    "**Observation : This results in multiplication of a larger dimensional  array by a smaller array. The smaller array is broadcast across the larger array so that they have compatible shapes.**"
   ]
  },
  {
   "cell_type": "markdown",
   "id": "ffc296b9",
   "metadata": {
    "papermill": {
     "duration": 0.005075,
     "end_time": "2024-01-30T20:45:13.861042",
     "exception": false,
     "start_time": "2024-01-30T20:45:13.855967",
     "status": "completed"
    },
    "tags": []
   },
   "source": [
    "<div style=\"width: 50%; height: 50px;   text-align: left; line-height: 20px; color: black; font-size: 15px; font-color: blue; font-weight: bold; border-radius:2px;\">\n",
    "    Broadcasting Rules: Broadcasting two arrays together follow these rules: </div>\n",
    "<span >\n",
    "    If the arrays don’t have the same rank then prepend the shape of the lower rank array with 1s until both shapes have the same length.\n",
    "The two arrays are compatible in a dimension if they have the same size in the dimension or if one of the arrays has size 1 in that dimension.\n",
    "The arrays can be broadcast together if they are compatible with all dimensions.\n",
    "After broadcasting, each array behaves as if it had a shape equal to the element-wise maximum of shapes of the two input arrays.\n",
    "In any dimension where one array had a size of 1 and the other array had a size greater than 1, the first array behaves as if it were copied along that dimension.\n",
    "    </span> \n",
    "\n",
    "\n"
   ]
  }
 ],
 "metadata": {
  "kaggle": {
   "accelerator": "none",
   "dataSources": [],
   "dockerImageVersionId": 30646,
   "isGpuEnabled": false,
   "isInternetEnabled": true,
   "language": "python",
   "sourceType": "notebook"
  },
  "kernelspec": {
   "display_name": "Python 3",
   "language": "python",
   "name": "python3"
  },
  "language_info": {
   "codemirror_mode": {
    "name": "ipython",
    "version": 3
   },
   "file_extension": ".py",
   "mimetype": "text/x-python",
   "name": "python",
   "nbconvert_exporter": "python",
   "pygments_lexer": "ipython3",
   "version": "3.10.13"
  },
  "papermill": {
   "default_parameters": {},
   "duration": 3.273785,
   "end_time": "2024-01-30T20:45:14.185547",
   "environment_variables": {},
   "exception": null,
   "input_path": "__notebook__.ipynb",
   "output_path": "__notebook__.ipynb",
   "parameters": {},
   "start_time": "2024-01-30T20:45:10.911762",
   "version": "2.5.0"
  }
 },
 "nbformat": 4,
 "nbformat_minor": 5
}
