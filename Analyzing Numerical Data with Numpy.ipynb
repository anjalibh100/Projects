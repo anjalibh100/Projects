{
 "cells": [
  {
   "cell_type": "code",
   "execution_count": 1,
   "id": "8d17c214",
   "metadata": {
    "execution": {
     "iopub.execute_input": "2024-01-30T21:01:35.009715Z",
     "iopub.status.busy": "2024-01-30T21:01:35.009297Z",
     "iopub.status.idle": "2024-01-30T21:01:35.020654Z",
     "shell.execute_reply": "2024-01-30T21:01:35.019457Z"
    },
    "papermill": {
     "duration": 0.022753,
     "end_time": "2024-01-30T21:01:35.023499",
     "exception": false,
     "start_time": "2024-01-30T21:01:35.000746",
     "status": "completed"
    },
    "tags": []
   },
   "outputs": [],
   "source": [
    "import numpy as np"
   ]
  },
  {
   "cell_type": "markdown",
   "id": "e9aa3ba5",
   "metadata": {
    "papermill": {
     "duration": 0.005163,
     "end_time": "2024-01-30T21:01:35.034705",
     "exception": false,
     "start_time": "2024-01-30T21:01:35.029542",
     "status": "completed"
    },
    "tags": []
   },
   "source": [
    "**Creating array using numpy.empty**"
   ]
  },
  {
   "cell_type": "code",
   "execution_count": 2,
   "id": "a2a2ae7b",
   "metadata": {
    "execution": {
     "iopub.execute_input": "2024-01-30T21:01:35.047890Z",
     "iopub.status.busy": "2024-01-30T21:01:35.047484Z",
     "iopub.status.idle": "2024-01-30T21:01:35.054749Z",
     "shell.execute_reply": "2024-01-30T21:01:35.053559Z"
    },
    "papermill": {
     "duration": 0.017472,
     "end_time": "2024-01-30T21:01:35.057765",
     "exception": false,
     "start_time": "2024-01-30T21:01:35.040293",
     "status": "completed"
    },
    "tags": []
   },
   "outputs": [
    {
     "name": "stdout",
     "output_type": "stream",
     "text": [
      "Matrix b : \n",
      " [-4611686018427387904           3443163135]\n",
      "\n",
      "Matrix a : \n",
      " [[101176750418048               0]\n",
      " [101176755751904 101176756473648]]\n",
      "\n",
      "Matrix c : \n",
      " [[4.99879592e-310 0.00000000e+000 0.00000000e+000]\n",
      " [0.00000000e+000 0.00000000e+000 0.00000000e+000]\n",
      " [0.00000000e+000 0.00000000e+000 0.00000000e+000]]\n"
     ]
    }
   ],
   "source": [
    "b = np.empty(2, dtype = int)\n",
    "print(\"Matrix b : \\n\", b)\n",
    "\n",
    "a = np.empty([2, 2], dtype = int)\n",
    "print(\"\\nMatrix a : \\n\", a)\n",
    "\n",
    "c = np.empty([3, 3])\n",
    "print(\"\\nMatrix c : \\n\", c)\n"
   ]
  },
  {
   "cell_type": "markdown",
   "id": "5058884a",
   "metadata": {
    "papermill": {
     "duration": 0.005443,
     "end_time": "2024-01-30T21:01:35.068864",
     "exception": false,
     "start_time": "2024-01-30T21:01:35.063421",
     "status": "completed"
    },
    "tags": []
   },
   "source": [
    "**Creating array using numpy.zeros**"
   ]
  },
  {
   "cell_type": "code",
   "execution_count": 3,
   "id": "21262dd8",
   "metadata": {
    "execution": {
     "iopub.execute_input": "2024-01-30T21:01:35.082099Z",
     "iopub.status.busy": "2024-01-30T21:01:35.081622Z",
     "iopub.status.idle": "2024-01-30T21:01:35.089130Z",
     "shell.execute_reply": "2024-01-30T21:01:35.087711Z"
    },
    "papermill": {
     "duration": 0.017526,
     "end_time": "2024-01-30T21:01:35.091905",
     "exception": false,
     "start_time": "2024-01-30T21:01:35.074379",
     "status": "completed"
    },
    "tags": []
   },
   "outputs": [
    {
     "name": "stdout",
     "output_type": "stream",
     "text": [
      "Matrix b : \n",
      " [0 0]\n",
      "\n",
      "Matrix a : \n",
      " [[0 0]\n",
      " [0 0]]\n",
      "\n",
      "Matrix c : \n",
      " [[0. 0. 0.]\n",
      " [0. 0. 0.]\n",
      " [0. 0. 0.]]\n"
     ]
    }
   ],
   "source": [
    "b = np.zeros(2, dtype = int)\n",
    "print(\"Matrix b : \\n\", b)\n",
    "\n",
    "a = np.zeros([2, 2], dtype = int)\n",
    "print(\"\\nMatrix a : \\n\", a)\n",
    "\n",
    "c = np.zeros([3, 3])\n",
    "print(\"\\nMatrix c : \\n\", c)\n"
   ]
  },
  {
   "cell_type": "markdown",
   "id": "396248fc",
   "metadata": {
    "papermill": {
     "duration": 0.005931,
     "end_time": "2024-01-30T21:01:35.103696",
     "exception": false,
     "start_time": "2024-01-30T21:01:35.097765",
     "status": "completed"
    },
    "tags": []
   },
   "source": [
    "**Addition Operations**"
   ]
  },
  {
   "cell_type": "code",
   "execution_count": 4,
   "id": "eca8197e",
   "metadata": {
    "execution": {
     "iopub.execute_input": "2024-01-30T21:01:35.117418Z",
     "iopub.status.busy": "2024-01-30T21:01:35.116983Z",
     "iopub.status.idle": "2024-01-30T21:01:35.126594Z",
     "shell.execute_reply": "2024-01-30T21:01:35.125657Z"
    },
    "papermill": {
     "duration": 0.019264,
     "end_time": "2024-01-30T21:01:35.128691",
     "exception": false,
     "start_time": "2024-01-30T21:01:35.109427",
     "status": "completed"
    },
    "tags": []
   },
   "outputs": [
    {
     "name": "stdout",
     "output_type": "stream",
     "text": [
      "[  7  77  23 130]\n",
      "[  7  77  23 130]\n",
      "[  8  79  26 134]\n",
      "[  7  77  23 130]\n"
     ]
    }
   ],
   "source": [
    "# Defining both the matrices\n",
    "a = np.array([5, 72, 13, 100])\n",
    "b = np.array([2, 5, 10, 30])\n",
    "\n",
    "# Performing addition using arithmetic operator\n",
    "add_ans = a+b\n",
    "print(add_ans)\n",
    "\n",
    "# Performing addition using numpy function\n",
    "add_ans = np.add(a, b)\n",
    "print(add_ans)\n",
    "\n",
    "# The same functions and operations can be used for\n",
    "# multiple matrices\n",
    "c = np.array([1, 2, 3, 4])\n",
    "add_ans = a+b+c\n",
    "print(add_ans)\n",
    "\n",
    "add_ans = np.add(a, b, c)\n",
    "print(add_ans)\n"
   ]
  },
  {
   "cell_type": "markdown",
   "id": "c30d2adf",
   "metadata": {
    "papermill": {
     "duration": 0.005292,
     "end_time": "2024-01-30T21:01:35.139972",
     "exception": false,
     "start_time": "2024-01-30T21:01:35.134680",
     "status": "completed"
    },
    "tags": []
   },
   "source": [
    "**Subtraction Operation**"
   ]
  },
  {
   "cell_type": "code",
   "execution_count": 5,
   "id": "fcad0aea",
   "metadata": {
    "execution": {
     "iopub.execute_input": "2024-01-30T21:01:35.154483Z",
     "iopub.status.busy": "2024-01-30T21:01:35.153607Z",
     "iopub.status.idle": "2024-01-30T21:01:35.162061Z",
     "shell.execute_reply": "2024-01-30T21:01:35.160902Z"
    },
    "papermill": {
     "duration": 0.018133,
     "end_time": "2024-01-30T21:01:35.164244",
     "exception": false,
     "start_time": "2024-01-30T21:01:35.146111",
     "status": "completed"
    },
    "tags": []
   },
   "outputs": [
    {
     "name": "stdout",
     "output_type": "stream",
     "text": [
      "[ 3 67  3 70]\n",
      "[ 3 67  3 70]\n"
     ]
    }
   ],
   "source": [
    "# Defining both the matrices\n",
    "a = np.array([5, 72, 13, 100])\n",
    "b = np.array([2, 5, 10, 30])\n",
    "\n",
    "# Performing subtraction using arithmetic operator\n",
    "sub_ans = a-b\n",
    "print(sub_ans)\n",
    "\n",
    "# Performing subtraction using numpy function\n",
    "sub_ans = np.subtract(a, b)\n",
    "print(sub_ans)\n"
   ]
  },
  {
   "cell_type": "markdown",
   "id": "ceaf97cf",
   "metadata": {
    "papermill": {
     "duration": 0.005968,
     "end_time": "2024-01-30T21:01:35.176275",
     "exception": false,
     "start_time": "2024-01-30T21:01:35.170307",
     "status": "completed"
    },
    "tags": []
   },
   "source": [
    "**Array Indexing**"
   ]
  },
  {
   "cell_type": "code",
   "execution_count": 6,
   "id": "8cac2333",
   "metadata": {
    "execution": {
     "iopub.execute_input": "2024-01-30T21:01:35.190521Z",
     "iopub.status.busy": "2024-01-30T21:01:35.190022Z",
     "iopub.status.idle": "2024-01-30T21:01:35.197405Z",
     "shell.execute_reply": "2024-01-30T21:01:35.196177Z"
    },
    "papermill": {
     "duration": 0.017311,
     "end_time": "2024-01-30T21:01:35.199748",
     "exception": false,
     "start_time": "2024-01-30T21:01:35.182437",
     "status": "completed"
    },
    "tags": []
   },
   "outputs": [
    {
     "name": "stdout",
     "output_type": "stream",
     "text": [
      "\n",
      " A sequential array with a negative step: \n",
      " [10  8  6  4  2]\n",
      "\n",
      " Elements at these indices are:\n",
      " [4 8 6]\n"
     ]
    }
   ],
   "source": [
    "# Python program to demonstrate \n",
    "# the use of index arrays.\n",
    "\n",
    "# Create a sequence of integers from 10 to 1 with a step of -2\n",
    "a = np.arange(10, 1, -2) \n",
    "print(\"\\n A sequential array with a negative step: \\n\",a)\n",
    "\n",
    "# Indexes are specified inside the np.array method.\n",
    "newarr = a[np.array([3, 1, 2 ])]\n",
    "print(\"\\n Elements at these indices are:\\n\",newarr)\n"
   ]
  },
  {
   "cell_type": "markdown",
   "id": "abd8043a",
   "metadata": {
    "papermill": {
     "duration": 0.00586,
     "end_time": "2024-01-30T21:01:35.212738",
     "exception": false,
     "start_time": "2024-01-30T21:01:35.206878",
     "status": "completed"
    },
    "tags": []
   },
   "source": [
    "**Slicing in Numpy**"
   ]
  },
  {
   "cell_type": "code",
   "execution_count": 7,
   "id": "d92e1af1",
   "metadata": {
    "execution": {
     "iopub.execute_input": "2024-01-30T21:01:35.227348Z",
     "iopub.status.busy": "2024-01-30T21:01:35.226872Z",
     "iopub.status.idle": "2024-01-30T21:01:35.233632Z",
     "shell.execute_reply": "2024-01-30T21:01:35.232585Z"
    },
    "papermill": {
     "duration": 0.0176,
     "end_time": "2024-01-30T21:01:35.236200",
     "exception": false,
     "start_time": "2024-01-30T21:01:35.218600",
     "status": "completed"
    },
    "tags": []
   },
   "outputs": [
    {
     "name": "stdout",
     "output_type": "stream",
     "text": [
      "\n",
      " Array is:\n",
      "  [ 0  1  2  3  4  5  6  7  8  9 10 11 12 13 14 15 16 17 18 19]\n",
      "\n",
      " a[-8:17:1] =  [12 13 14 15 16]\n",
      "\n",
      " a[10:] =  [10 11 12 13 14 15 16 17 18 19]\n"
     ]
    }
   ],
   "source": [
    "# Python program for basic slicing.\n",
    "\n",
    "# Arrange elements from 0 to 19. The last element is indexed by -1 second last by -2 and so on.\n",
    "a = np.arange(20)\n",
    "print(\"\\n Array is:\\n \",a)\n",
    "\n",
    "# a[start:stop:step]\n",
    "print(\"\\n a[-8:17:1] = \",a[-8:17:1])   #The last element is indexed by -1 second last by -2 and so on.\n",
    "\n",
    "# The : operator means all elements till the end.\n",
    "print(\"\\n a[10:] = \",a[10:])\n",
    "\n"
   ]
  },
  {
   "cell_type": "markdown",
   "id": "1735b15c",
   "metadata": {
    "papermill": {
     "duration": 0.00577,
     "end_time": "2024-01-30T21:01:35.248025",
     "exception": false,
     "start_time": "2024-01-30T21:01:35.242255",
     "status": "completed"
    },
    "tags": []
   },
   "source": [
    "**Ellipsis can also be used along with basic slicing. Ellipsis (…) is the number of : objects needed to make a selection tuple of the same length as the dimensions of the array.**"
   ]
  },
  {
   "cell_type": "code",
   "execution_count": 8,
   "id": "356e567a",
   "metadata": {
    "execution": {
     "iopub.execute_input": "2024-01-30T21:01:35.262263Z",
     "iopub.status.busy": "2024-01-30T21:01:35.261708Z",
     "iopub.status.idle": "2024-01-30T21:01:35.268442Z",
     "shell.execute_reply": "2024-01-30T21:01:35.267130Z"
    },
    "papermill": {
     "duration": 0.017496,
     "end_time": "2024-01-30T21:01:35.271390",
     "exception": false,
     "start_time": "2024-01-30T21:01:35.253894",
     "status": "completed"
    },
    "tags": []
   },
   "outputs": [
    {
     "name": "stdout",
     "output_type": "stream",
     "text": [
      "[[ 2  5]\n",
      " [ 8 11]]\n"
     ]
    }
   ],
   "source": [
    "# Python program for indexing using basic slicing with ellipsis\n",
    "\n",
    "# A 3 dimensional array.\n",
    "b = np.array([[[1, 2, 3],[4, 5, 6]],[[7, 8, 9],[10, 11, 12]]])\n",
    "\n",
    "print(b[...,1]) #Equivalent to b[: ,: ,1 ]\n"
   ]
  },
  {
   "cell_type": "markdown",
   "id": "907620f7",
   "metadata": {
    "papermill": {
     "duration": 0.005924,
     "end_time": "2024-01-30T21:01:35.283395",
     "exception": false,
     "start_time": "2024-01-30T21:01:35.277471",
     "status": "completed"
    },
    "tags": []
   },
   "source": [
    "**How to chek the dimension of the array created by numpy**"
   ]
  },
  {
   "cell_type": "code",
   "execution_count": 9,
   "id": "8eee1c64",
   "metadata": {
    "execution": {
     "iopub.execute_input": "2024-01-30T21:01:35.297669Z",
     "iopub.status.busy": "2024-01-30T21:01:35.297233Z",
     "iopub.status.idle": "2024-01-30T21:01:35.303702Z",
     "shell.execute_reply": "2024-01-30T21:01:35.302455Z"
    },
    "papermill": {
     "duration": 0.016799,
     "end_time": "2024-01-30T21:01:35.306511",
     "exception": false,
     "start_time": "2024-01-30T21:01:35.289712",
     "status": "completed"
    },
    "tags": []
   },
   "outputs": [
    {
     "name": "stdout",
     "output_type": "stream",
     "text": [
      "[0 1 2 3]\n",
      "Dimensions in _1darr are:  1\n"
     ]
    }
   ],
   "source": [
    "#Getting dimensions of the array created by numpy\n",
    "\n",
    "# create numpy arrays\n",
    "# 1-d numpy array\n",
    "_1darr = np.arange(4) \n",
    "print(_1darr)\n",
    "\n",
    "# printing the 1-dimensions numpy array\n",
    "print(\"Dimensions in _1darr are: \", _1darr.ndim)\n"
   ]
  },
  {
   "cell_type": "markdown",
   "id": "095ec662",
   "metadata": {
    "papermill": {
     "duration": 0.005791,
     "end_time": "2024-01-30T21:01:35.318396",
     "exception": false,
     "start_time": "2024-01-30T21:01:35.312605",
     "status": "completed"
    },
    "tags": []
   },
   "source": [
    "**NumPy Array Broadcasting** :  refers to how numpy treats arrays with different Dimensions during arithmetic operations"
   ]
  },
  {
   "cell_type": "code",
   "execution_count": 10,
   "id": "7ef59ddb",
   "metadata": {
    "execution": {
     "iopub.execute_input": "2024-01-30T21:01:35.333074Z",
     "iopub.status.busy": "2024-01-30T21:01:35.332619Z",
     "iopub.status.idle": "2024-01-30T21:01:35.347082Z",
     "shell.execute_reply": "2024-01-30T21:01:35.345819Z"
    },
    "papermill": {
     "duration": 0.024957,
     "end_time": "2024-01-30T21:01:35.349671",
     "exception": false,
     "start_time": "2024-01-30T21:01:35.324714",
     "status": "completed"
    },
    "tags": []
   },
   "outputs": [
    {
     "name": "stdout",
     "output_type": "stream",
     "text": [
      "4\n"
     ]
    },
    {
     "data": {
      "text/plain": [
       "array([[  2.4,   8.7,  31.2],\n",
       "       [157.2,  70.8, 292. ],\n",
       "       [165.6,  95.1, 191.2],\n",
       "       [ 43.2,  33. ,  39.2]])"
      ]
     },
     "execution_count": 10,
     "metadata": {},
     "output_type": "execute_result"
    }
   ],
   "source": [
    "macros = np.array([\n",
    "[0.8, 2.9, 3.9],\n",
    "[52.4, 23.6, 36.5],\n",
    "[55.2, 31.7, 23.9],\n",
    "[14.4, 11, 4.9]\n",
    "])\n",
    "\n",
    "# Create a new array filled with zeros,# of the same shape as macros.\n",
    "result = np.zeros_like(macros)\n",
    "\n",
    "cal_per_macro = np.array([3, 3, 8])\n",
    "\n",
    "# Now multiply each row of macros by\n",
    "# cal_per_macro. In Numpy, `*` is\n",
    "# element-wise multiplication between two arrays.\n",
    "print(macros.shape[0]) # Since shape[0] refers to rows , shape[1] refers to columns\n",
    "for i in range(macros.shape[0]):\n",
    "    result[i, :] = macros[i, :] * cal_per_macro\n",
    "\n",
    "result\n"
   ]
  },
  {
   "cell_type": "markdown",
   "id": "8a2b0f57",
   "metadata": {
    "papermill": {
     "duration": 0.006029,
     "end_time": "2024-01-30T21:01:35.362190",
     "exception": false,
     "start_time": "2024-01-30T21:01:35.356161",
     "status": "completed"
    },
    "tags": []
   },
   "source": [
    "**Observation : This results in multiplication of a larger dimensional  array by a smaller array. The smaller array is broadcast across the larger array so that they have compatible shapes.**"
   ]
  },
  {
   "cell_type": "markdown",
   "id": "a580d7f9",
   "metadata": {
    "papermill": {
     "duration": 0.005989,
     "end_time": "2024-01-30T21:01:35.374461",
     "exception": false,
     "start_time": "2024-01-30T21:01:35.368472",
     "status": "completed"
    },
    "tags": []
   },
   "source": [
    "<div style=\"width: 50%; height: 50px;   text-align: left; line-height: 20px; color: black; font-size: 15px; font-color: blue; font-weight: bold; border-radius:2px;\">\n",
    "    Broadcasting Rules: Broadcasting two arrays together follow these rules: </div>\n",
    "<span >\n",
    "    If the arrays don’t have the same rank then prepend the shape of the lower rank array with 1s until both shapes have the same length.\n",
    "The two arrays are compatible in a dimension if they have the same size in the dimension or if one of the arrays has size 1 in that dimension.\n",
    "The arrays can be broadcast together if they are compatible with all dimensions.\n",
    "After broadcasting, each array behaves as if it had a shape equal to the element-wise maximum of shapes of the two input arrays.\n",
    "In any dimension where one array had a size of 1 and the other array had a size greater than 1, the first array behaves as if it were copied along that dimension.\n",
    "    </span> \n",
    "\n",
    "\n"
   ]
  },
  {
   "cell_type": "code",
   "execution_count": 11,
   "id": "42274416",
   "metadata": {
    "execution": {
     "iopub.execute_input": "2024-01-30T21:01:35.390787Z",
     "iopub.status.busy": "2024-01-30T21:01:35.389721Z",
     "iopub.status.idle": "2024-01-30T21:01:35.397577Z",
     "shell.execute_reply": "2024-01-30T21:01:35.396176Z"
    },
    "papermill": {
     "duration": 0.019305,
     "end_time": "2024-01-30T21:01:35.400335",
     "exception": false,
     "start_time": "2024-01-30T21:01:35.381030",
     "status": "completed"
    },
    "tags": []
   },
   "outputs": [
    {
     "name": "stdout",
     "output_type": "stream",
     "text": [
      "[[ 7 17]\n",
      " [19 29]\n",
      " [31 41]]\n"
     ]
    }
   ],
   "source": [
    "v = np.array([2, 14, 26]) \n",
    "w = np.array([5, 15])   \n",
    "\n",
    "# To compute an outer product we first reshape v to a column vector of shape 3x1\n",
    "# then broadcast it against w to yield an output of shape 3x2 which is the outer product of v and w\n",
    "print(np.reshape(v, (3, 1)) + w)\n"
   ]
  },
  {
   "cell_type": "code",
   "execution_count": 12,
   "id": "aa5b5819",
   "metadata": {
    "execution": {
     "iopub.execute_input": "2024-01-30T21:01:35.415480Z",
     "iopub.status.busy": "2024-01-30T21:01:35.415062Z",
     "iopub.status.idle": "2024-01-30T21:01:35.422770Z",
     "shell.execute_reply": "2024-01-30T21:01:35.421405Z"
    },
    "papermill": {
     "duration": 0.019523,
     "end_time": "2024-01-30T21:01:35.426525",
     "exception": false,
     "start_time": "2024-01-30T21:01:35.407002",
     "status": "completed"
    },
    "tags": []
   },
   "outputs": [
    {
     "name": "stdout",
     "output_type": "stream",
     "text": [
      "V is:  \n",
      "\n",
      "[ 2 14 26]\n",
      "\n",
      "\n",
      "X is: \n",
      "\n",
      "[[12 22 33]\n",
      " [45 55 66]]\n",
      "\n",
      "\n",
      "X + v is: \n",
      "\n",
      "[[14 36 59]\n",
      " [47 69 92]]\n"
     ]
    }
   ],
   "source": [
    "X = np.array([[12, 22, 33], [45, 55, 66]])\n",
    "v = np.array([2, 14, 26]) \n",
    "\n",
    "# X has shape 2x3 and v has shape (3, ) so they broadcast to 2x3\n",
    "print(\"V is:  \\n\")\n",
    "print(v)\n",
    "print(\"\\n\")\n",
    "print(\"X is: \\n\")\n",
    "print(X)\n",
    "print(\"\\n\")\n",
    "print(\"X + v is: \\n\")\n",
    "print(X + v)"
   ]
  }
 ],
 "metadata": {
  "kaggle": {
   "accelerator": "none",
   "dataSources": [],
   "dockerImageVersionId": 30646,
   "isGpuEnabled": false,
   "isInternetEnabled": true,
   "language": "python",
   "sourceType": "notebook"
  },
  "kernelspec": {
   "display_name": "Python 3",
   "language": "python",
   "name": "python3"
  },
  "language_info": {
   "codemirror_mode": {
    "name": "ipython",
    "version": 3
   },
   "file_extension": ".py",
   "mimetype": "text/x-python",
   "name": "python",
   "nbconvert_exporter": "python",
   "pygments_lexer": "ipython3",
   "version": "3.10.13"
  },
  "papermill": {
   "default_parameters": {},
   "duration": 4.190047,
   "end_time": "2024-01-30T21:01:35.955888",
   "environment_variables": {},
   "exception": null,
   "input_path": "__notebook__.ipynb",
   "output_path": "__notebook__.ipynb",
   "parameters": {},
   "start_time": "2024-01-30T21:01:31.765841",
   "version": "2.5.0"
  }
 },
 "nbformat": 4,
 "nbformat_minor": 5
}
