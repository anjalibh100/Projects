{
 "cells": [
  {
   "cell_type": "markdown",
   "id": "1540128c",
   "metadata": {
    "papermill": {
     "duration": 0.00994,
     "end_time": "2024-01-30T21:40:19.330326",
     "exception": false,
     "start_time": "2024-01-30T21:40:19.320386",
     "status": "completed"
    },
    "tags": []
   },
   "source": [
    "<div style=\"width: 100%; background-color: #6a89cc; color: white; padding: 10px; border: 2px solid #0c2461; margin-bottom: 20px;border-radius:10px;\">\n",
    "    <h3 style=\"color: white;\">Important featues of Numpy</h3>\n",
    "    <span > NumPy Array is a table of elements (usually numbers), all of the same types, indexed by a tuple of positive integers. In Numpy, the number of dimensions of the array is called the rank of the array. A tuple of integers giving the size of the array along each dimension is known as the shape of the array. </span>\n",
    "    </span> \n",
    "    <h3 style=\"color: white;\">Tasks in this notebook</h3>\n",
    "    <ul style=\"list-style-type: none; padding-left: 0;\">\n",
    "        <li><span style=\"margin-left: -10px;\">&#8226;</span> Numpy is an array processing package in Python</li>\n",
    "        <li><span style=\"margin-left: -10px;\">&#8226;</span> It provides a high-performance multidimensional array object and tools for working with these arrays. </li>\n",
    "        <li><span style=\"margin-left: -10px;\">&#8226;</span> It is the fundamental package for scientific computing with Python.</li>\n",
    "    </ul>\n",
    "</div>"
   ]
  },
  {
   "cell_type": "code",
   "execution_count": 1,
   "id": "e9ddf1b2",
   "metadata": {
    "execution": {
     "iopub.execute_input": "2024-01-30T21:40:19.350828Z",
     "iopub.status.busy": "2024-01-30T21:40:19.350034Z",
     "iopub.status.idle": "2024-01-30T21:40:19.362565Z",
     "shell.execute_reply": "2024-01-30T21:40:19.361418Z"
    },
    "papermill": {
     "duration": 0.025375,
     "end_time": "2024-01-30T21:40:19.364966",
     "exception": false,
     "start_time": "2024-01-30T21:40:19.339591",
     "status": "completed"
    },
    "tags": []
   },
   "outputs": [],
   "source": [
    "#Import Numpy Library\n",
    "import numpy as np"
   ]
  },
  {
   "cell_type": "markdown",
   "id": "548f88d2",
   "metadata": {
    "papermill": {
     "duration": 0.008724,
     "end_time": "2024-01-30T21:40:19.382811",
     "exception": false,
     "start_time": "2024-01-30T21:40:19.374087",
     "status": "completed"
    },
    "tags": []
   },
   "source": [
    "**1. Creating arrays using numpy.empty(shape, dtype=float, order=’C’)\n",
    "where shape => Number of rows, order => C_contiguous or F_contiguous, dtype => [optional, float(by Default)] is the data type of returned array.**  "
   ]
  },
  {
   "cell_type": "code",
   "execution_count": 2,
   "id": "7a296a01",
   "metadata": {
    "execution": {
     "iopub.execute_input": "2024-01-30T21:40:19.402375Z",
     "iopub.status.busy": "2024-01-30T21:40:19.401974Z",
     "iopub.status.idle": "2024-01-30T21:40:19.410081Z",
     "shell.execute_reply": "2024-01-30T21:40:19.408345Z"
    },
    "papermill": {
     "duration": 0.020785,
     "end_time": "2024-01-30T21:40:19.412383",
     "exception": false,
     "start_time": "2024-01-30T21:40:19.391598",
     "status": "completed"
    },
    "tags": []
   },
   "outputs": [
    {
     "name": "stdout",
     "output_type": "stream",
     "text": [
      "Matrix b : \n",
      " [-4611686018427387904            808484863]\n",
      "\n",
      "Matrix a : \n",
      " [[101886673993376               0]\n",
      " [101886684689056 101886685440704]]\n",
      "\n",
      "Matrix c : \n",
      " [[5.03387111e-310 0.00000000e+000 0.00000000e+000]\n",
      " [0.00000000e+000 0.00000000e+000 0.00000000e+000]\n",
      " [0.00000000e+000 0.00000000e+000 0.00000000e+000]]\n"
     ]
    }
   ],
   "source": [
    "b = np.empty(2, dtype = int)\n",
    "print(\"Matrix b : \\n\", b)\n",
    "\n",
    "a = np.empty([2, 2], dtype = int)\n",
    "print(\"\\nMatrix a : \\n\", a)\n",
    "\n",
    "c = np.empty([3, 3])\n",
    "print(\"\\nMatrix c : \\n\", c)\n"
   ]
  },
  {
   "cell_type": "markdown",
   "id": "b9ae11c7",
   "metadata": {
    "papermill": {
     "duration": 0.008949,
     "end_time": "2024-01-30T21:40:19.430453",
     "exception": false,
     "start_time": "2024-01-30T21:40:19.421504",
     "status": "completed"
    },
    "tags": []
   },
   "source": [
    "**2. Creating array using numpy.zeros**"
   ]
  },
  {
   "cell_type": "code",
   "execution_count": 3,
   "id": "b656935f",
   "metadata": {
    "execution": {
     "iopub.execute_input": "2024-01-30T21:40:19.450859Z",
     "iopub.status.busy": "2024-01-30T21:40:19.450145Z",
     "iopub.status.idle": "2024-01-30T21:40:19.457324Z",
     "shell.execute_reply": "2024-01-30T21:40:19.455991Z"
    },
    "papermill": {
     "duration": 0.019938,
     "end_time": "2024-01-30T21:40:19.459608",
     "exception": false,
     "start_time": "2024-01-30T21:40:19.439670",
     "status": "completed"
    },
    "tags": []
   },
   "outputs": [
    {
     "name": "stdout",
     "output_type": "stream",
     "text": [
      "Matrix b : \n",
      " [0 0]\n",
      "\n",
      "Matrix a : \n",
      " [[0 0]\n",
      " [0 0]]\n",
      "\n",
      "Matrix c : \n",
      " [[0. 0. 0.]\n",
      " [0. 0. 0.]\n",
      " [0. 0. 0.]]\n"
     ]
    }
   ],
   "source": [
    "b = np.zeros(2, dtype = int)\n",
    "print(\"Matrix b : \\n\", b)\n",
    "\n",
    "a = np.zeros([2, 2], dtype = int)\n",
    "print(\"\\nMatrix a : \\n\", a)\n",
    "\n",
    "c = np.zeros([3, 3])\n",
    "print(\"\\nMatrix c : \\n\", c)\n"
   ]
  },
  {
   "cell_type": "markdown",
   "id": "e4ee53b1",
   "metadata": {
    "papermill": {
     "duration": 0.00868,
     "end_time": "2024-01-30T21:40:19.477510",
     "exception": false,
     "start_time": "2024-01-30T21:40:19.468830",
     "status": "completed"
    },
    "tags": []
   },
   "source": [
    "**3. Addition Operations**"
   ]
  },
  {
   "cell_type": "code",
   "execution_count": 4,
   "id": "1dda5036",
   "metadata": {
    "execution": {
     "iopub.execute_input": "2024-01-30T21:40:19.498295Z",
     "iopub.status.busy": "2024-01-30T21:40:19.497581Z",
     "iopub.status.idle": "2024-01-30T21:40:19.508638Z",
     "shell.execute_reply": "2024-01-30T21:40:19.507510Z"
    },
    "papermill": {
     "duration": 0.024527,
     "end_time": "2024-01-30T21:40:19.511281",
     "exception": false,
     "start_time": "2024-01-30T21:40:19.486754",
     "status": "completed"
    },
    "tags": []
   },
   "outputs": [
    {
     "name": "stdout",
     "output_type": "stream",
     "text": [
      "[  7  77  23 130]\n",
      "[  7  77  23 130]\n",
      "[  8  79  26 134]\n",
      "[  7  77  23 130]\n"
     ]
    }
   ],
   "source": [
    "# Defining both the matrices\n",
    "a = np.array([5, 72, 13, 100])\n",
    "b = np.array([2, 5, 10, 30])\n",
    "\n",
    "# Performing addition using arithmetic operator\n",
    "add_ans = a+b\n",
    "print(add_ans)\n",
    "\n",
    "# Performing addition using numpy function\n",
    "add_ans = np.add(a, b)\n",
    "print(add_ans)\n",
    "\n",
    "# The same functions and operations can be used for\n",
    "# multiple matrices\n",
    "c = np.array([1, 2, 3, 4])\n",
    "add_ans = a+b+c\n",
    "print(add_ans)\n",
    "\n",
    "add_ans = np.add(a, b, c)\n",
    "print(add_ans)\n"
   ]
  },
  {
   "cell_type": "markdown",
   "id": "637a65ec",
   "metadata": {
    "papermill": {
     "duration": 0.008727,
     "end_time": "2024-01-30T21:40:19.530061",
     "exception": false,
     "start_time": "2024-01-30T21:40:19.521334",
     "status": "completed"
    },
    "tags": []
   },
   "source": [
    "**4. Subtraction Operation**"
   ]
  },
  {
   "cell_type": "code",
   "execution_count": 5,
   "id": "5ff1551a",
   "metadata": {
    "execution": {
     "iopub.execute_input": "2024-01-30T21:40:19.550201Z",
     "iopub.status.busy": "2024-01-30T21:40:19.549800Z",
     "iopub.status.idle": "2024-01-30T21:40:19.556929Z",
     "shell.execute_reply": "2024-01-30T21:40:19.555686Z"
    },
    "papermill": {
     "duration": 0.021127,
     "end_time": "2024-01-30T21:40:19.560327",
     "exception": false,
     "start_time": "2024-01-30T21:40:19.539200",
     "status": "completed"
    },
    "tags": []
   },
   "outputs": [
    {
     "name": "stdout",
     "output_type": "stream",
     "text": [
      "[ 3 67  3 70]\n",
      "[ 3 67  3 70]\n"
     ]
    }
   ],
   "source": [
    "# Defining both the matrices\n",
    "a = np.array([5, 72, 13, 100])\n",
    "b = np.array([2, 5, 10, 30])\n",
    "\n",
    "# Performing subtraction using arithmetic operator\n",
    "sub_ans = a-b\n",
    "print(sub_ans)\n",
    "\n",
    "# Performing subtraction using numpy function\n",
    "sub_ans = np.subtract(a, b)\n",
    "print(sub_ans)\n"
   ]
  },
  {
   "cell_type": "markdown",
   "id": "c137441b",
   "metadata": {
    "papermill": {
     "duration": 0.009558,
     "end_time": "2024-01-30T21:40:19.580085",
     "exception": false,
     "start_time": "2024-01-30T21:40:19.570527",
     "status": "completed"
    },
    "tags": []
   },
   "source": [
    "**5. Multiplication Operation**"
   ]
  },
  {
   "cell_type": "code",
   "execution_count": 6,
   "id": "f98eef83",
   "metadata": {
    "execution": {
     "iopub.execute_input": "2024-01-30T21:40:19.601461Z",
     "iopub.status.busy": "2024-01-30T21:40:19.600724Z",
     "iopub.status.idle": "2024-01-30T21:40:19.607862Z",
     "shell.execute_reply": "2024-01-30T21:40:19.606636Z"
    },
    "papermill": {
     "duration": 0.020502,
     "end_time": "2024-01-30T21:40:19.610387",
     "exception": false,
     "start_time": "2024-01-30T21:40:19.589885",
     "status": "completed"
    },
    "tags": []
   },
   "outputs": [
    {
     "name": "stdout",
     "output_type": "stream",
     "text": [
      "[  10  360  130 3000]\n",
      "[  10  360  130 3000]\n"
     ]
    }
   ],
   "source": [
    "# Defining both the matrices\n",
    "a = np.array([5, 72, 13, 100])\n",
    "b = np.array([2, 5, 10, 30])\n",
    "\n",
    "# Performing multiplication using arithmetic operator\n",
    "mul_ans = a*b\n",
    "print(mul_ans)\n",
    "\n",
    "# Performing multiplication using numpy function\n",
    "mul_ans = np.multiply(a, b)\n",
    "print(mul_ans)\n"
   ]
  },
  {
   "cell_type": "markdown",
   "id": "f7c83889",
   "metadata": {
    "papermill": {
     "duration": 0.009233,
     "end_time": "2024-01-30T21:40:19.629247",
     "exception": false,
     "start_time": "2024-01-30T21:40:19.620014",
     "status": "completed"
    },
    "tags": []
   },
   "source": [
    "**6. Division Operation**"
   ]
  },
  {
   "cell_type": "code",
   "execution_count": 7,
   "id": "228ecfb2",
   "metadata": {
    "execution": {
     "iopub.execute_input": "2024-01-30T21:40:19.650543Z",
     "iopub.status.busy": "2024-01-30T21:40:19.649804Z",
     "iopub.status.idle": "2024-01-30T21:40:19.659272Z",
     "shell.execute_reply": "2024-01-30T21:40:19.657626Z"
    },
    "papermill": {
     "duration": 0.023627,
     "end_time": "2024-01-30T21:40:19.662213",
     "exception": false,
     "start_time": "2024-01-30T21:40:19.638586",
     "status": "completed"
    },
    "tags": []
   },
   "outputs": [
    {
     "name": "stdout",
     "output_type": "stream",
     "text": [
      "[ 2.5        14.4         1.3         3.33333333]\n",
      "[ 2.5        14.4         1.3         3.33333333]\n"
     ]
    }
   ],
   "source": [
    "# Defining both the matrices\n",
    "a = np.array([5, 72, 13, 100])\n",
    "b = np.array([2, 5, 10, 30])\n",
    "\n",
    "# Performing division using arithmetic operators\n",
    "div_ans = a/b\n",
    "print(div_ans)\n",
    "\n",
    "# Performing division using numpy functions\n",
    "div_ans = np.divide(a, b)\n",
    "print(div_ans)\n"
   ]
  },
  {
   "cell_type": "markdown",
   "id": "348b2f20",
   "metadata": {
    "papermill": {
     "duration": 0.009181,
     "end_time": "2024-01-30T21:40:19.680984",
     "exception": false,
     "start_time": "2024-01-30T21:40:19.671803",
     "status": "completed"
    },
    "tags": []
   },
   "source": [
    "**7. Array Indexing**"
   ]
  },
  {
   "cell_type": "code",
   "execution_count": 8,
   "id": "7c2e29af",
   "metadata": {
    "execution": {
     "iopub.execute_input": "2024-01-30T21:40:19.702077Z",
     "iopub.status.busy": "2024-01-30T21:40:19.701659Z",
     "iopub.status.idle": "2024-01-30T21:40:19.708786Z",
     "shell.execute_reply": "2024-01-30T21:40:19.707590Z"
    },
    "papermill": {
     "duration": 0.021293,
     "end_time": "2024-01-30T21:40:19.711632",
     "exception": false,
     "start_time": "2024-01-30T21:40:19.690339",
     "status": "completed"
    },
    "tags": []
   },
   "outputs": [
    {
     "name": "stdout",
     "output_type": "stream",
     "text": [
      "\n",
      " A sequential array with a negative step: \n",
      " [10  8  6  4  2]\n",
      "\n",
      " Elements at these indices are:\n",
      " [4 8 6]\n"
     ]
    }
   ],
   "source": [
    "# Python program to demonstrate \n",
    "# the use of index arrays.\n",
    "\n",
    "# Create a sequence of integers from 10 to 1 with a step of -2\n",
    "a = np.arange(10, 1, -2) \n",
    "print(\"\\n A sequential array with a negative step: \\n\",a)\n",
    "\n",
    "# Indexes are specified inside the np.array method.\n",
    "newarr = a[np.array([3, 1, 2 ])]\n",
    "print(\"\\n Elements at these indices are:\\n\",newarr)\n"
   ]
  },
  {
   "cell_type": "markdown",
   "id": "6ba04836",
   "metadata": {
    "papermill": {
     "duration": 0.009324,
     "end_time": "2024-01-30T21:40:19.730534",
     "exception": false,
     "start_time": "2024-01-30T21:40:19.721210",
     "status": "completed"
    },
    "tags": []
   },
   "source": [
    "**8. Slicing in Numpy**"
   ]
  },
  {
   "cell_type": "code",
   "execution_count": 9,
   "id": "4fe55623",
   "metadata": {
    "execution": {
     "iopub.execute_input": "2024-01-30T21:40:19.751528Z",
     "iopub.status.busy": "2024-01-30T21:40:19.751121Z",
     "iopub.status.idle": "2024-01-30T21:40:19.758800Z",
     "shell.execute_reply": "2024-01-30T21:40:19.757733Z"
    },
    "papermill": {
     "duration": 0.021499,
     "end_time": "2024-01-30T21:40:19.761520",
     "exception": false,
     "start_time": "2024-01-30T21:40:19.740021",
     "status": "completed"
    },
    "tags": []
   },
   "outputs": [
    {
     "name": "stdout",
     "output_type": "stream",
     "text": [
      "\n",
      " Array is:\n",
      "  [ 0  1  2  3  4  5  6  7  8  9 10 11 12 13 14 15 16 17 18 19]\n",
      "\n",
      " a[-8:17:1] =  [12 13 14 15 16]\n",
      "\n",
      " a[10:] =  [10 11 12 13 14 15 16 17 18 19]\n"
     ]
    }
   ],
   "source": [
    "# Python program for basic slicing.\n",
    "\n",
    "# Arrange elements from 0 to 19. The last element is indexed by -1 second last by -2 and so on.\n",
    "a = np.arange(20)\n",
    "print(\"\\n Array is:\\n \",a)\n",
    "\n",
    "# a[start:stop:step]\n",
    "print(\"\\n a[-8:17:1] = \",a[-8:17:1])   #The last element is indexed by -1 second last by -2 and so on.\n",
    "\n",
    "# The : operator means all elements till the end.\n",
    "print(\"\\n a[10:] = \",a[10:])\n",
    "\n"
   ]
  },
  {
   "cell_type": "markdown",
   "id": "b0b7faf1",
   "metadata": {
    "papermill": {
     "duration": 0.009306,
     "end_time": "2024-01-30T21:40:19.780538",
     "exception": false,
     "start_time": "2024-01-30T21:40:19.771232",
     "status": "completed"
    },
    "tags": []
   },
   "source": [
    "**9. Slicing using Ellipsis. Ellipsis (…) is the number of : objects needed to make a selection tuple of the same length as the dimensions of the array.**"
   ]
  },
  {
   "cell_type": "code",
   "execution_count": 10,
   "id": "b86e4864",
   "metadata": {
    "execution": {
     "iopub.execute_input": "2024-01-30T21:40:19.801596Z",
     "iopub.status.busy": "2024-01-30T21:40:19.801221Z",
     "iopub.status.idle": "2024-01-30T21:40:19.809690Z",
     "shell.execute_reply": "2024-01-30T21:40:19.808479Z"
    },
    "papermill": {
     "duration": 0.022007,
     "end_time": "2024-01-30T21:40:19.812170",
     "exception": false,
     "start_time": "2024-01-30T21:40:19.790163",
     "status": "completed"
    },
    "tags": []
   },
   "outputs": [
    {
     "name": "stdout",
     "output_type": "stream",
     "text": [
      "[[[ 1  2  3]\n",
      "  [ 4  5  6]]\n",
      "\n",
      " [[ 7  8  9]\n",
      "  [10 11 12]]]\n",
      "\n",
      "\n",
      "\n",
      "The number of rows are : 2\n",
      "The number of columns are : 2\n",
      "\n",
      "\n",
      "\n",
      "[[ 2  5]\n",
      " [ 8 11]]\n"
     ]
    }
   ],
   "source": [
    "# Python program for indexing using basic slicing with ellipsis\n",
    "\n",
    "# A 3 dimensional array.\n",
    "b = np.array([[[1, 2, 3],[4, 5, 6]],[[7, 8, 9],[10, 11, 12]]])\n",
    "print(b)\n",
    "print(\"\\n\\n\")\n",
    "print(\"The number of rows are :\",b.shape[0])\n",
    "print(\"The number of columns are :\",b.shape[1])\n",
    "print(\"\\n\\n\")\n",
    "print(b[...,1]) #Equivalent to b[: ,: ,1 ]\n"
   ]
  },
  {
   "cell_type": "markdown",
   "id": "a89d5f37",
   "metadata": {
    "papermill": {
     "duration": 0.00978,
     "end_time": "2024-01-30T21:40:19.831769",
     "exception": false,
     "start_time": "2024-01-30T21:40:19.821989",
     "status": "completed"
    },
    "tags": []
   },
   "source": [
    "**10. How to get the dimensions of the array created by Numpy**"
   ]
  },
  {
   "cell_type": "code",
   "execution_count": 11,
   "id": "ecddb524",
   "metadata": {
    "execution": {
     "iopub.execute_input": "2024-01-30T21:40:19.853562Z",
     "iopub.status.busy": "2024-01-30T21:40:19.853066Z",
     "iopub.status.idle": "2024-01-30T21:40:19.860132Z",
     "shell.execute_reply": "2024-01-30T21:40:19.859018Z"
    },
    "papermill": {
     "duration": 0.021123,
     "end_time": "2024-01-30T21:40:19.862696",
     "exception": false,
     "start_time": "2024-01-30T21:40:19.841573",
     "status": "completed"
    },
    "tags": []
   },
   "outputs": [
    {
     "name": "stdout",
     "output_type": "stream",
     "text": [
      "[0 1 2 3]\n",
      "Dimensions in _1darr are:  1\n"
     ]
    }
   ],
   "source": [
    "#Getting dimensions of the array created by numpy\n",
    "\n",
    "# create numpy arrays\n",
    "# 1-d numpy array\n",
    "_1darr = np.arange(4) \n",
    "print(_1darr)\n",
    "\n",
    "# printing the 1-dimensions numpy array\n",
    "print(\"Dimensions in _1darr are: \", _1darr.ndim)\n"
   ]
  },
  {
   "cell_type": "markdown",
   "id": "af4b7fb8",
   "metadata": {
    "papermill": {
     "duration": 0.010184,
     "end_time": "2024-01-30T21:40:19.882942",
     "exception": false,
     "start_time": "2024-01-30T21:40:19.872758",
     "status": "completed"
    },
    "tags": []
   },
   "source": [
    "**11. NumPy Array Broadcasting** :  refers to how numpy treats arrays with different Dimensions during arithmetic operations"
   ]
  },
  {
   "cell_type": "code",
   "execution_count": 12,
   "id": "6e4aee25",
   "metadata": {
    "execution": {
     "iopub.execute_input": "2024-01-30T21:40:19.905810Z",
     "iopub.status.busy": "2024-01-30T21:40:19.905397Z",
     "iopub.status.idle": "2024-01-30T21:40:19.917667Z",
     "shell.execute_reply": "2024-01-30T21:40:19.916724Z"
    },
    "papermill": {
     "duration": 0.026853,
     "end_time": "2024-01-30T21:40:19.919805",
     "exception": false,
     "start_time": "2024-01-30T21:40:19.892952",
     "status": "completed"
    },
    "tags": []
   },
   "outputs": [
    {
     "name": "stdout",
     "output_type": "stream",
     "text": [
      "4\n"
     ]
    },
    {
     "data": {
      "text/plain": [
       "array([[  2.4,   8.7,  31.2],\n",
       "       [157.2,  70.8, 292. ],\n",
       "       [165.6,  95.1, 191.2],\n",
       "       [ 43.2,  33. ,  39.2]])"
      ]
     },
     "execution_count": 12,
     "metadata": {},
     "output_type": "execute_result"
    }
   ],
   "source": [
    "macros = np.array([\n",
    "[0.8, 2.9, 3.9],\n",
    "[52.4, 23.6, 36.5],\n",
    "[55.2, 31.7, 23.9],\n",
    "[14.4, 11, 4.9]\n",
    "])\n",
    "\n",
    "# Create a new array filled with zeros,# of the same shape as macros.\n",
    "result = np.zeros_like(macros)\n",
    "\n",
    "cal_per_macro = np.array([3, 3, 8])\n",
    "\n",
    "# Now multiply each row of macros by\n",
    "# cal_per_macro. In Numpy, `*` is\n",
    "# element-wise multiplication between two arrays.\n",
    "print(macros.shape[0]) # Since shape[0] refers to rows , shape[1] refers to columns\n",
    "for i in range(macros.shape[0]):\n",
    "    result[i, :] = macros[i, :] * cal_per_macro\n",
    "\n",
    "result\n"
   ]
  },
  {
   "cell_type": "markdown",
   "id": "14b367df",
   "metadata": {
    "papermill": {
     "duration": 0.009795,
     "end_time": "2024-01-30T21:40:19.939682",
     "exception": false,
     "start_time": "2024-01-30T21:40:19.929887",
     "status": "completed"
    },
    "tags": []
   },
   "source": [
    "**Observation : This results in multiplication of a larger dimensional  array by a smaller array. The smaller array is broadcast across the larger array so that they have compatible shapes.**"
   ]
  },
  {
   "cell_type": "markdown",
   "id": "fd4c7863",
   "metadata": {
    "papermill": {
     "duration": 0.01001,
     "end_time": "2024-01-30T21:40:19.960362",
     "exception": false,
     "start_time": "2024-01-30T21:40:19.950352",
     "status": "completed"
    },
    "tags": []
   },
   "source": [
    "<div style=\"width: 50%; height: 50px;   text-align: left; line-height: 20px; color: black; font-size: 15px; font-color: blue; font-weight: bold; border-radius:2px;\">\n",
    "    Broadcasting Rules: Broadcasting two arrays together follow these rules: </div>\n",
    "<span >\n",
    "    If the arrays don’t have the same rank then prepend the shape of the lower rank array with 1s until both shapes have the same length.\n",
    "The two arrays are compatible in a dimension if they have the same size in the dimension or if one of the arrays has size 1 in that dimension.\n",
    "The arrays can be broadcast together if they are compatible with all dimensions.\n",
    "After broadcasting, each array behaves as if it had a shape equal to the element-wise maximum of shapes of the two input arrays.\n",
    "In any dimension where one array had a size of 1 and the other array had a size greater than 1, the first array behaves as if it were copied along that dimension.\n",
    "    </span> \n",
    "\n",
    "\n"
   ]
  },
  {
   "cell_type": "markdown",
   "id": "006861d0",
   "metadata": {
    "papermill": {
     "duration": 0.009898,
     "end_time": "2024-01-30T21:40:19.980391",
     "exception": false,
     "start_time": "2024-01-30T21:40:19.970493",
     "status": "completed"
    },
    "tags": []
   },
   "source": [
    "**12. Broadcast Example 1**"
   ]
  },
  {
   "cell_type": "code",
   "execution_count": 13,
   "id": "dd3a6baf",
   "metadata": {
    "execution": {
     "iopub.execute_input": "2024-01-30T21:40:20.002981Z",
     "iopub.status.busy": "2024-01-30T21:40:20.002548Z",
     "iopub.status.idle": "2024-01-30T21:40:20.008934Z",
     "shell.execute_reply": "2024-01-30T21:40:20.008155Z"
    },
    "papermill": {
     "duration": 0.02058,
     "end_time": "2024-01-30T21:40:20.011273",
     "exception": false,
     "start_time": "2024-01-30T21:40:19.990693",
     "status": "completed"
    },
    "tags": []
   },
   "outputs": [
    {
     "name": "stdout",
     "output_type": "stream",
     "text": [
      "[[ 7 17]\n",
      " [19 29]\n",
      " [31 41]]\n"
     ]
    }
   ],
   "source": [
    "v = np.array([2, 14, 26]) \n",
    "w = np.array([5, 15])   \n",
    "\n",
    "# To compute an outer product we first reshape v to a column vector of shape 3x1\n",
    "# then broadcast it against w to yield an output of shape 3x2 which is the outer product of v and w\n",
    "print(np.reshape(v, (3, 1)) + w)\n"
   ]
  },
  {
   "cell_type": "markdown",
   "id": "bc35e1b2",
   "metadata": {
    "papermill": {
     "duration": 0.010538,
     "end_time": "2024-01-30T21:40:20.032303",
     "exception": false,
     "start_time": "2024-01-30T21:40:20.021765",
     "status": "completed"
    },
    "tags": []
   },
   "source": [
    "**Broadcast Example 2**"
   ]
  },
  {
   "cell_type": "code",
   "execution_count": 14,
   "id": "66b7d36e",
   "metadata": {
    "execution": {
     "iopub.execute_input": "2024-01-30T21:40:20.055394Z",
     "iopub.status.busy": "2024-01-30T21:40:20.054936Z",
     "iopub.status.idle": "2024-01-30T21:40:20.062879Z",
     "shell.execute_reply": "2024-01-30T21:40:20.061669Z"
    },
    "papermill": {
     "duration": 0.023214,
     "end_time": "2024-01-30T21:40:20.065807",
     "exception": false,
     "start_time": "2024-01-30T21:40:20.042593",
     "status": "completed"
    },
    "tags": []
   },
   "outputs": [
    {
     "name": "stdout",
     "output_type": "stream",
     "text": [
      "V is:  \n",
      "\n",
      "[ 2 14 26]\n",
      "\n",
      "\n",
      "X is: \n",
      "\n",
      "[[12 22 33]\n",
      " [45 55 66]]\n",
      "\n",
      "\n",
      "X + v is: \n",
      "\n",
      "[[14 36 59]\n",
      " [47 69 92]]\n"
     ]
    }
   ],
   "source": [
    "X = np.array([[12, 22, 33], [45, 55, 66]])\n",
    "v = np.array([2, 14, 26]) \n",
    "\n",
    "# X has shape 2x3 and v has shape (3, ) so they broadcast to 2x3\n",
    "print(\"V is:  \\n\")\n",
    "print(v)\n",
    "print(\"\\n\")\n",
    "print(\"X is: \\n\")\n",
    "print(X)\n",
    "print(\"\\n\")\n",
    "print(\"X + v is: \\n\")\n",
    "print(X + v)"
   ]
  },
  {
   "cell_type": "markdown",
   "id": "9ef28e98",
   "metadata": {
    "papermill": {
     "duration": 0.010121,
     "end_time": "2024-01-30T21:40:20.086815",
     "exception": false,
     "start_time": "2024-01-30T21:40:20.076694",
     "status": "completed"
    },
    "tags": []
   },
   "source": [
    "**Glad to revisit Numpy.**"
   ]
  }
 ],
 "metadata": {
  "kaggle": {
   "accelerator": "none",
   "dataSources": [],
   "dockerImageVersionId": 30646,
   "isGpuEnabled": false,
   "isInternetEnabled": true,
   "language": "python",
   "sourceType": "notebook"
  },
  "kernelspec": {
   "display_name": "Python 3",
   "language": "python",
   "name": "python3"
  },
  "language_info": {
   "codemirror_mode": {
    "name": "ipython",
    "version": 3
   },
   "file_extension": ".py",
   "mimetype": "text/x-python",
   "name": "python",
   "nbconvert_exporter": "python",
   "pygments_lexer": "ipython3",
   "version": "3.10.13"
  },
  "papermill": {
   "default_parameters": {},
   "duration": 4.242188,
   "end_time": "2024-01-30T21:40:20.518085",
   "environment_variables": {},
   "exception": null,
   "input_path": "__notebook__.ipynb",
   "output_path": "__notebook__.ipynb",
   "parameters": {},
   "start_time": "2024-01-30T21:40:16.275897",
   "version": "2.5.0"
  }
 },
 "nbformat": 4,
 "nbformat_minor": 5
}
