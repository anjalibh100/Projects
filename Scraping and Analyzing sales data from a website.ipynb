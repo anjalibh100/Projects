{
 "cells": [
  {
   "cell_type": "code",
   "execution_count": 1,
   "id": "1ecfd03d",
   "metadata": {
    "_cell_guid": "b1076dfc-b9ad-4769-8c92-a6c4dae69d19",
    "_uuid": "8f2839f25d086af736a60e9eeb907d3b93b6e0e5",
    "execution": {
     "iopub.execute_input": "2024-07-08T06:19:17.472064Z",
     "iopub.status.busy": "2024-07-08T06:19:17.471422Z",
     "iopub.status.idle": "2024-07-08T06:19:18.988438Z",
     "shell.execute_reply": "2024-07-08T06:19:18.986958Z"
    },
    "papermill": {
     "duration": 1.530512,
     "end_time": "2024-07-08T06:19:18.991878",
     "exception": false,
     "start_time": "2024-07-08T06:19:17.461366",
     "status": "completed"
    },
    "tags": []
   },
   "outputs": [],
   "source": [
    "#How to get the HTML\n",
    "import requests\n",
    "from bs4 import BeautifulSoup\n",
    "import pandas as pd\n",
    "\n",
    "\n",
    "url = 'https://webscraper.io/test-sites/e-commerce/allinone/phones/touch'"
   ]
  },
  {
   "cell_type": "code",
   "execution_count": 2,
   "id": "63e44ac6",
   "metadata": {
    "execution": {
     "iopub.execute_input": "2024-07-08T06:19:19.008324Z",
     "iopub.status.busy": "2024-07-08T06:19:19.007466Z",
     "iopub.status.idle": "2024-07-08T06:19:19.403493Z",
     "shell.execute_reply": "2024-07-08T06:19:19.401838Z"
    },
    "papermill": {
     "duration": 0.407539,
     "end_time": "2024-07-08T06:19:19.406648",
     "exception": false,
     "start_time": "2024-07-08T06:19:18.999109",
     "status": "completed"
    },
    "scrolled": true,
    "tags": []
   },
   "outputs": [
    {
     "data": {
      "text/plain": [
       "<!DOCTYPE html>\n",
       "<html lang=\"en\">\n",
       "<head>\n",
       "<!-- Google Tag Manager -->\n",
       "<script>(function (w, d, s, l, i) {\n",
       "\t\tw[l] = w[l] || [];\n",
       "\t\tw[l].push({\n",
       "\t\t\t'gtm.start':\n",
       "\t\t\t\tnew Date().getTime(), event: 'gtm.js'\n",
       "\t\t});\n",
       "\t\tvar f = d.getElementsByTagName(s)[0],\n",
       "\t\t\tj = d.createElement(s), dl = l != 'dataLayer' ? '&l=' + l : '';\n",
       "\t\tj.async = true;\n",
       "\t\tj.src =\n",
       "\t\t\t'https://www.googletagmanager.com/gtm.js?id=' + i + dl;\n",
       "\t\tf.parentNode.insertBefore(j, f);\n",
       "\t})(window, document, 'script', 'dataLayer', 'GTM-NVFPDWB');</script>\n",
       "<!-- End Google Tag Manager -->\n",
       "<title>Allinone | Web Scraper Test Sites</title>\n",
       "<meta charset=\"utf-8\"/>\n",
       "<meta content=\"IE=edge,chrome=1\" http-equiv=\"X-UA-Compatible\"/>\n",
       "<meta content=\"web scraping,Web Scraper,Chrome extension,Crawling,Cross platform scraper\" name=\"keywords\"/>\n",
       "<meta content=\"The most popular web scraping extension. Start scraping in minutes. Automate your tasks with our Cloud Scraper. No software to download, no coding needed.\" name=\"description\"/>\n",
       "<link href=\"/favicon.png\" rel=\"icon\" sizes=\"128x128\"/>\n",
       "<meta content=\"width=device-width, initial-scale=1.0\" name=\"viewport\"/>\n",
       "<link href=\"https://fonts.googleapis.com\" rel=\"preconnect\"/>\n",
       "<link crossorigin=\"\" href=\"https://fonts.gstatic.com\" rel=\"preconnect\"/>\n",
       "<link href=\"https://fonts.googleapis.com/css2?family=Roboto:wght@400;500;600&amp;display=swap\" rel=\"stylesheet\"/>\n",
       "<link href=\"https://fonts.googleapis.com/css2?family=Montserrat:wght@300;400;500;600;700;900&amp;display=swap\" rel=\"stylesheet\"/>\n",
       "<link href=\"/css/app.css?id=e8e4a1943bc3b21a7632bf47e8ec31e6\" rel=\"stylesheet\"/>\n",
       "<link href=\"/css/ws-icons.font.css?id=8f2c6b77e3c33bbc1183eeae2ae24269\" rel=\"stylesheet\"/>\n",
       "<link href=\"https://webscraper.io/test-sites/e-commerce/allinone/phones/touch\" rel=\"canonical\"/>\n",
       "<link href=\"/img/logo-icon.png\" rel=\"apple-touch-icon\"/>\n",
       "<script defer=\"\" src=\"/js/app.js?id=8445db57ddb0bb8c9308c78d170bddc8\"></script>\n",
       "</head>\n",
       "<body>\n",
       "<!-- Google Tag Manager (noscript) -->\n",
       "<noscript>\n",
       "<iframe height=\"0\" src=\"https://www.googletagmanager.com/ns.html?id=GTM-NVFPDWB\" style=\"display:none;visibility:hidden\" width=\"0\"></iframe>\n",
       "</noscript>\n",
       "<!-- End Google Tag Manager (noscript) -->\n",
       "<header class=\"navbar fixed-top navbar-expand-lg navbar-dark navbar-static svg-background\" id=\"navbar-top\" role=\"banner\">\n",
       "<div class=\"container\">\n",
       "<div class=\"navbar-header\">\n",
       "<a data-bs-target=\".side-collapse\" data-bs-target-2=\".side-collapse-container\" data-bs-toggle=\"collapse-side\">\n",
       "<button aria-controls=\"navbar\" aria-expanded=\"false\" class=\"navbar-toggler float-end collapsed\" data-bs-target=\"#navbar\" data-bs-target-2=\".side-collapse-container\" data-bs-target-3=\".side-collapse\" data-bs-toggle=\"collapse\" type=\"button\">\n",
       "<span class=\"visually-hidden\">Toggle navigation</span>\n",
       "<span class=\"icon-bar top-bar\"></span>\n",
       "<span class=\"icon-bar middle-bar\"></span>\n",
       "<span class=\"icon-bar bottom-bar\"></span>\n",
       "<span class=\"icon-bar extra-bottom-bar\"></span>\n",
       "</button>\n",
       "</a>\n",
       "<div class=\"navbar-brand\">\n",
       "<a href=\"/\"><img alt=\"Web Scraper\" src=\"/img/logo_white.svg\"/></a>\n",
       "</div>\n",
       "</div>\n",
       "<div class=\"side-collapse in\">\n",
       "<nav class=\"navbar-collapse collapse\" id=\"navbar\" role=\"navigation\">\n",
       "<ul class=\"nav navbar-nav navbar-right\">\n",
       "<li class=\"nav-item\">\n",
       "<a class=\"nav-link menuitm\" href=\"/\">\n",
       "<p>Web Scraper</p>\n",
       "<div class=\"crta\"></div>\n",
       "</a>\n",
       "</li>\n",
       "<li class=\"nav-item\">\n",
       "<a class=\"nav-link menuitm\" href=\"/cloud-scraper\">\n",
       "<p>Cloud Scraper</p>\n",
       "<div class=\"crta\"></div>\n",
       "</a>\n",
       "</li>\n",
       "<li class=\"nav-item\">\n",
       "<a class=\"nav-link menuitm\" href=\"/pricing\">\n",
       "<p>Pricing</p>\n",
       "<div class=\"crta\"></div>\n",
       "</a>\n",
       "</li>\n",
       "<li class=\"nav-item dropdown\">\n",
       "<a aria-expanded=\"false\" aria-haspopup=\"true\" class=\"menuitm nav-link dropdown-toggle\" data-bs-toggle=\"dropdown\" href=\"#\" id=\"dropdownMenuLink\" role=\"button\">\n",
       "<p>Learn</p>\n",
       "<div class=\"crta\"></div>\n",
       "</a>\n",
       "<ul aria-labelledby=\"dropdownMenuLink\" class=\"dropdown-menu\">\n",
       "<li>\n",
       "<a class=\"dropdown-item\" href=\"/documentation\">Documentation</a>\n",
       "</li>\n",
       "<li>\n",
       "<a class=\"dropdown-item\" href=\"/tutorials\">Video Tutorials</a>\n",
       "</li>\n",
       "<li>\n",
       "<a class=\"dropdown-item\" href=\"/how-to-videos\">How to</a>\n",
       "</li>\n",
       "<li>\n",
       "<a class=\"dropdown-item\" href=\"/test-sites\">Test Sites</a>\n",
       "</li>\n",
       "<li>\n",
       "<a class=\"dropdown-item\" href=\"https://forum.webscraper.io/\" rel=\"noopener\" target=\"_blank\">Forum</a>\n",
       "</li>\n",
       "</ul>\n",
       "</li>\n",
       "<li class=\"nav-item\">\n",
       "<a class=\"nav-link btn-menu1 install-extension\" href=\"https://chromewebstore.google.com/detail/web-scraper-free-web-scra/jnhgnonknehpejjnehehllkliplmbmhn?hl=en\" target=\"_blank\">Install</a>\n",
       "</li>\n",
       "<li class=\"nav-item\">\n",
       "<a class=\"nav-link btn-menu2\" href=\"https://cloud.webscraper.io/\">Cloud Login</a>\n",
       "</li>\n",
       "</ul>\n",
       "</nav>\n",
       "</div>\n",
       "</div>\n",
       "</header>\n",
       "<div class=\"wrapper\">\n",
       "<div class=\"formenu-here container-fluid\">\n",
       "</div>\n",
       "<div class=\"container-fluid blog-hero\">\n",
       "<div class=\"container\">\n",
       "<div class=\"row\">\n",
       "<div class=\"col-lg-12\">\n",
       "<h1>Test Sites</h1>\n",
       "</div>\n",
       "</div>\n",
       "</div>\n",
       "</div>\n",
       "<div class=\"container test-site\">\n",
       "<div class=\"row\">\n",
       "<div class=\"col-lg-3 sidebar\">\n",
       "<div class=\"navbar-light sidebar\" role=\"navigation\">\n",
       "<div class=\"sidebar-nav navbar-collapse\">\n",
       "<ul class=\"nav flex-column\" id=\"side-menu\">\n",
       "<li class=\"nav-item\">\n",
       "<a class=\"nav-link\" href=\"/test-sites/e-commerce/allinone\">Home</a>\n",
       "</li>\n",
       "<li class=\"nav-item\">\n",
       "<a class=\"category-link nav-link\" href=\"/test-sites/e-commerce/allinone/computers\">\n",
       "\t\t\t\t\tComputers\n",
       "\t\t\t\t\t<i class=\"ws-icon ws-icon-right\"></i>\n",
       "</a>\n",
       "</li>\n",
       "<li class=\"nav-item active\">\n",
       "<a class=\"category-link nav-link\" href=\"/test-sites/e-commerce/allinone/phones\">\n",
       "\t\t\t\t\tPhones\n",
       "\t\t\t\t\t<i class=\"ws-icon ws-icon-right\"></i>\n",
       "</a>\n",
       "<ul class=\"nav nav-second-level\">\n",
       "<li class=\"nav-item\">\n",
       "<a class=\"nav-link subcategory-link active\" href=\"/test-sites/e-commerce/allinone/phones/touch\">\n",
       "\t\t\t\t\t\t\tTouch\n",
       "\t\t\t\t\t\t</a>\n",
       "</li>\n",
       "</ul>\n",
       "</li>\n",
       "</ul>\n",
       "</div>\n",
       "</div>\n",
       "</div>\n",
       "<div class=\"col-lg-9\">\n",
       "<h1 class=\"page-header\">Phones / Touch</h1>\n",
       "<div class=\"row\">\n",
       "<div class=\"col-md-4 col-xl-4 col-lg-4\">\n",
       "<div class=\"card thumbnail\">\n",
       "<div class=\"product-wrapper card-body\">\n",
       "<img alt=\"item\" class=\"img-fluid card-img-top image img-responsive\" src=\"/images/test-sites/e-commerce/items/cart2.png\"/>\n",
       "<div class=\"caption\">\n",
       "<h4 class=\"price float-end card-title pull-right\">$24.99</h4>\n",
       "<h4>\n",
       "<a class=\"title\" href=\"/test-sites/e-commerce/allinone/product/1\" title=\"Nokia 123\">Nokia 123</a>\n",
       "</h4>\n",
       "<p class=\"description card-text\">7 day battery</p>\n",
       "</div>\n",
       "<div class=\"ratings\">\n",
       "<p class=\"review-count float-end\">11 reviews</p>\n",
       "<p data-rating=\"3\">\n",
       "<span class=\"ws-icon ws-icon-star\"></span>\n",
       "<span class=\"ws-icon ws-icon-star\"></span>\n",
       "<span class=\"ws-icon ws-icon-star\"></span>\n",
       "</p>\n",
       "</div>\n",
       "</div>\n",
       "</div>\n",
       "</div>\n",
       "<div class=\"col-md-4 col-xl-4 col-lg-4\">\n",
       "<div class=\"card thumbnail\">\n",
       "<div class=\"product-wrapper card-body\">\n",
       "<img alt=\"item\" class=\"img-fluid card-img-top image img-responsive\" src=\"/images/test-sites/e-commerce/items/cart2.png\"/>\n",
       "<div class=\"caption\">\n",
       "<h4 class=\"price float-end card-title pull-right\">$57.99</h4>\n",
       "<h4>\n",
       "<a class=\"title\" href=\"/test-sites/e-commerce/allinone/product/2\" title=\"LG Optimus\">LG Optimus</a>\n",
       "</h4>\n",
       "<p class=\"description card-text\">3.2\" screen</p>\n",
       "</div>\n",
       "<div class=\"ratings\">\n",
       "<p class=\"review-count float-end\">11 reviews</p>\n",
       "<p data-rating=\"3\">\n",
       "<span class=\"ws-icon ws-icon-star\"></span>\n",
       "<span class=\"ws-icon ws-icon-star\"></span>\n",
       "<span class=\"ws-icon ws-icon-star\"></span>\n",
       "</p>\n",
       "</div>\n",
       "</div>\n",
       "</div>\n",
       "</div>\n",
       "<div class=\"col-md-4 col-xl-4 col-lg-4\">\n",
       "<div class=\"card thumbnail\">\n",
       "<div class=\"product-wrapper card-body\">\n",
       "<img alt=\"item\" class=\"img-fluid card-img-top image img-responsive\" src=\"/images/test-sites/e-commerce/items/cart2.png\"/>\n",
       "<div class=\"caption\">\n",
       "<h4 class=\"price float-end card-title pull-right\">$93.99</h4>\n",
       "<h4>\n",
       "<a class=\"title\" href=\"/test-sites/e-commerce/allinone/product/3\" title=\"Samsung Galaxy\">Samsung Galaxy</a>\n",
       "</h4>\n",
       "<p class=\"description card-text\">5 mpx. Android 5.0</p>\n",
       "</div>\n",
       "<div class=\"ratings\">\n",
       "<p class=\"review-count float-end\">3 reviews</p>\n",
       "<p data-rating=\"3\">\n",
       "<span class=\"ws-icon ws-icon-star\"></span>\n",
       "<span class=\"ws-icon ws-icon-star\"></span>\n",
       "<span class=\"ws-icon ws-icon-star\"></span>\n",
       "</p>\n",
       "</div>\n",
       "</div>\n",
       "</div>\n",
       "</div>\n",
       "<div class=\"col-md-4 col-xl-4 col-lg-4\">\n",
       "<div class=\"card thumbnail\">\n",
       "<div class=\"product-wrapper card-body\">\n",
       "<img alt=\"item\" class=\"img-fluid card-img-top image img-responsive\" src=\"/images/test-sites/e-commerce/items/cart2.png\"/>\n",
       "<div class=\"caption\">\n",
       "<h4 class=\"price float-end card-title pull-right\">$109.99</h4>\n",
       "<h4>\n",
       "<a class=\"title\" href=\"/test-sites/e-commerce/allinone/product/4\" title=\"Nokia X\">Nokia X</a>\n",
       "</h4>\n",
       "<p class=\"description card-text\">Andoid, Jolla dualboot</p>\n",
       "</div>\n",
       "<div class=\"ratings\">\n",
       "<p class=\"review-count float-end\">4 reviews</p>\n",
       "<p data-rating=\"4\">\n",
       "<span class=\"ws-icon ws-icon-star\"></span>\n",
       "<span class=\"ws-icon ws-icon-star\"></span>\n",
       "<span class=\"ws-icon ws-icon-star\"></span>\n",
       "<span class=\"ws-icon ws-icon-star\"></span>\n",
       "</p>\n",
       "</div>\n",
       "</div>\n",
       "</div>\n",
       "</div>\n",
       "<div class=\"col-md-4 col-xl-4 col-lg-4\">\n",
       "<div class=\"card thumbnail\">\n",
       "<div class=\"product-wrapper card-body\">\n",
       "<img alt=\"item\" class=\"img-fluid card-img-top image img-responsive\" src=\"/images/test-sites/e-commerce/items/cart2.png\"/>\n",
       "<div class=\"caption\">\n",
       "<h4 class=\"price float-end card-title pull-right\">$118.99</h4>\n",
       "<h4>\n",
       "<a class=\"title\" href=\"/test-sites/e-commerce/allinone/product/5\" title=\"Sony Xperia\">Sony Xperia</a>\n",
       "</h4>\n",
       "<p class=\"description card-text\">GPS, waterproof</p>\n",
       "</div>\n",
       "<div class=\"ratings\">\n",
       "<p class=\"review-count float-end\">6 reviews</p>\n",
       "<p data-rating=\"1\">\n",
       "<span class=\"ws-icon ws-icon-star\"></span>\n",
       "</p>\n",
       "</div>\n",
       "</div>\n",
       "</div>\n",
       "</div>\n",
       "<div class=\"col-md-4 col-xl-4 col-lg-4\">\n",
       "<div class=\"card thumbnail\">\n",
       "<div class=\"product-wrapper card-body\">\n",
       "<img alt=\"item\" class=\"img-fluid card-img-top image img-responsive\" src=\"/images/test-sites/e-commerce/items/cart2.png\"/>\n",
       "<div class=\"caption\">\n",
       "<h4 class=\"price float-end card-title pull-right\">$499.99</h4>\n",
       "<h4>\n",
       "<a class=\"title\" href=\"/test-sites/e-commerce/allinone/product/6\" title=\"Ubuntu Edge\">Ubuntu Edge</a>\n",
       "</h4>\n",
       "<p class=\"description card-text\">Sapphire glass</p>\n",
       "</div>\n",
       "<div class=\"ratings\">\n",
       "<p class=\"review-count float-end\">2 reviews</p>\n",
       "<p data-rating=\"1\">\n",
       "<span class=\"ws-icon ws-icon-star\"></span>\n",
       "</p>\n",
       "</div>\n",
       "</div>\n",
       "</div>\n",
       "</div>\n",
       "<div class=\"col-md-4 col-xl-4 col-lg-4\">\n",
       "<div class=\"card thumbnail\">\n",
       "<div class=\"product-wrapper card-body\">\n",
       "<img alt=\"item\" class=\"img-fluid card-img-top image img-responsive\" src=\"/images/test-sites/e-commerce/items/cart2.png\"/>\n",
       "<div class=\"caption\">\n",
       "<h4 class=\"price float-end card-title pull-right\">$899.99</h4>\n",
       "<h4>\n",
       "<a class=\"title\" href=\"/test-sites/e-commerce/allinone/product/7\" title=\"Iphone\">Iphone</a>\n",
       "</h4>\n",
       "<p class=\"description card-text\">White</p>\n",
       "</div>\n",
       "<div class=\"ratings\">\n",
       "<p class=\"review-count float-end\">10 reviews</p>\n",
       "<p data-rating=\"1\">\n",
       "<span class=\"ws-icon ws-icon-star\"></span>\n",
       "</p>\n",
       "</div>\n",
       "</div>\n",
       "</div>\n",
       "</div>\n",
       "<div class=\"col-md-4 col-xl-4 col-lg-4\">\n",
       "<div class=\"card thumbnail\">\n",
       "<div class=\"product-wrapper card-body\">\n",
       "<img alt=\"item\" class=\"img-fluid card-img-top image img-responsive\" src=\"/images/test-sites/e-commerce/items/cart2.png\"/>\n",
       "<div class=\"caption\">\n",
       "<h4 class=\"price float-end card-title pull-right\">$899.99</h4>\n",
       "<h4>\n",
       "<a class=\"title\" href=\"/test-sites/e-commerce/allinone/product/8\" title=\"Iphone\">Iphone</a>\n",
       "</h4>\n",
       "<p class=\"description card-text\">Silver</p>\n",
       "</div>\n",
       "<div class=\"ratings\">\n",
       "<p class=\"review-count float-end\">8 reviews</p>\n",
       "<p data-rating=\"2\">\n",
       "<span class=\"ws-icon ws-icon-star\"></span>\n",
       "<span class=\"ws-icon ws-icon-star\"></span>\n",
       "</p>\n",
       "</div>\n",
       "</div>\n",
       "</div>\n",
       "</div>\n",
       "<div class=\"col-md-4 col-xl-4 col-lg-4\">\n",
       "<div class=\"card thumbnail\">\n",
       "<div class=\"product-wrapper card-body\">\n",
       "<img alt=\"item\" class=\"img-fluid card-img-top image img-responsive\" src=\"/images/test-sites/e-commerce/items/cart2.png\"/>\n",
       "<div class=\"caption\">\n",
       "<h4 class=\"price float-end card-title pull-right\">$899.99</h4>\n",
       "<h4>\n",
       "<a class=\"title\" href=\"/test-sites/e-commerce/allinone/product/9\" title=\"Iphone\">Iphone</a>\n",
       "</h4>\n",
       "<p class=\"description card-text\">Black</p>\n",
       "</div>\n",
       "<div class=\"ratings\">\n",
       "<p class=\"review-count float-end\">1 reviews</p>\n",
       "<p data-rating=\"1\">\n",
       "<span class=\"ws-icon ws-icon-star\"></span>\n",
       "</p>\n",
       "</div>\n",
       "</div>\n",
       "</div>\n",
       "</div>\n",
       "</div>\n",
       "<div id=\"static-pagination\">\n",
       "</div>\n",
       "</div>\n",
       "</div>\n",
       "</div>\n",
       "<div class=\"clearfix\"></div>\n",
       "<div class=\"push\"></div>\n",
       "</div>\n",
       "<div class=\"container-fluid footer\" id=\"layout-footer\">\n",
       "<div class=\"container\">\n",
       "<div class=\"row\">\n",
       "<div class=\"col-lg-3\">\n",
       "<ul>\n",
       "<li><p>Products</p></li>\n",
       "<li>\n",
       "<a href=\"/\">Web Scraper browser extension</a>\n",
       "</li>\n",
       "<li>\n",
       "<a href=\"/cloud-scraper\">Web Scraper Cloud</a>\n",
       "</li>\n",
       "</ul>\n",
       "</div>\n",
       "<div class=\"col-lg-3\">\n",
       "<ul>\n",
       "<li><p>Company</p></li>\n",
       "<li>\n",
       "<a href=\"/about-us\">About us</a>\n",
       "</li>\n",
       "<li>\n",
       "<a href=\"/contact\">Contact</a>\n",
       "</li>\n",
       "<li>\n",
       "<a href=\"/privacy-policy\">Website Privacy Policy</a>\n",
       "</li>\n",
       "<li>\n",
       "<a href=\"/extension-privacy-policy\">Browser Extension Privacy Policy</a>\n",
       "</li>\n",
       "<li>\n",
       "<a href=\"https://webscraper.io/downloads/Web_Scraper_Media_Kit.zip\">Media kit</a>\n",
       "</li>\n",
       "<li><a href=\"/jobs\">Jobs</a></li>\n",
       "</ul>\n",
       "</div>\n",
       "<div class=\"col-lg-3\">\n",
       "<ul>\n",
       "<li><p>Resources</p></li>\n",
       "<li><a href=\"/blog\">Blog</a></li>\n",
       "<li>\n",
       "<a href=\"/documentation\">Documentation</a>\n",
       "</li>\n",
       "<li>\n",
       "<a href=\"/tutorials\">Video Tutorials</a>\n",
       "</li>\n",
       "<li>\n",
       "<a href=\"/screenshots\">Screenshots</a>\n",
       "</li>\n",
       "<li>\n",
       "<a href=\"/test-sites\">Test Sites</a>\n",
       "</li>\n",
       "<li>\n",
       "<a href=\"https://forum.webscraper.io/\" rel=\"noopener\" target=\"_blank\">Forum</a>\n",
       "</li>\n",
       "<li>\n",
       "<a href=\"https://status.webscraper.io/\" rel=\"noopener\" target=\"_blank\">Status</a>\n",
       "</li>\n",
       "</ul>\n",
       "</div>\n",
       "<div class=\"col-lg-3\">\n",
       "<ul>\n",
       "<li><p>CONTACT US</p></li>\n",
       "<li>\n",
       "<a href=\"mailto:info@webscraper.io\">info@webscraper.io</a>\n",
       "</li>\n",
       "<li>Ubelu 5-71,<br/> Adazi, Latvia, LV-2164</li>\n",
       "</ul>\n",
       "<ul class=\"smedia\">\n",
       "<li>\n",
       "<a href=\"https://www.facebook.com/webscraperio/\" rel=\"noopener\" target=\"_blank\">\n",
       "<i class=\"ws-icon ws-icon-facebook-f\"></i>\n",
       "</a>\n",
       "</li>\n",
       "<li>\n",
       "<a href=\"https://twitter.com/webscraperio\" rel=\"noopener\" target=\"_blank\">\n",
       "<i class=\"ws-icon ws-icon-twitter\"></i>\n",
       "</a>\n",
       "</li>\n",
       "<li>\n",
       "<a href=\"https://lv.linkedin.com/company/web-scraper\" rel=\"noopener\" target=\"_blank\">\n",
       "<i class=\"ws-icon ws-icon-linkedin\"></i>\n",
       "</a>\n",
       "</li>\n",
       "<li>\n",
       "<a href=\"https://youtube.com/@WebScraper/videos\" rel=\"noopener\" target=\"_blank\">\n",
       "<i class=\"ws-icon ws-icon-youtube\"></i>\n",
       "</a>\n",
       "</li>\n",
       "<li>\n",
       "<a class=\"install-extension browser-icon-dark\" href=\"https://chromewebstore.google.com/detail/web-scraper-free-web-scra/jnhgnonknehpejjnehehllkliplmbmhn?hl=en\" rel=\"noopener\" target=\"_blank\">\n",
       "<i class=\"ws-icon ws-icon-chrome-dark\"></i>\n",
       "</a>\n",
       "</li>\n",
       "</ul>\n",
       "</div>\n",
       "</div>\n",
       "<div class=\"row\">\n",
       "<div class=\"col-lg-12\">\n",
       "<p class=\"copyright\">Copyright &amp;copy 2024\n",
       "\t\t\t\t\t<a href=\"#\">Web Scraper</a> | All rights\n",
       "\t\t\t\t\treserved</p>\n",
       "</div>\n",
       "</div>\n",
       "</div>\n",
       "</div>\n",
       "</body>\n",
       "</html>"
      ]
     },
     "execution_count": 2,
     "metadata": {},
     "output_type": "execute_result"
    }
   ],
   "source": [
    "page = requests.get(url)\n",
    "page\n",
    "soup = BeautifulSoup(page.text, 'lxml')\n",
    "soup"
   ]
  },
  {
   "cell_type": "code",
   "execution_count": 3,
   "id": "149befdf",
   "metadata": {
    "execution": {
     "iopub.execute_input": "2024-07-08T06:19:19.424124Z",
     "iopub.status.busy": "2024-07-08T06:19:19.423597Z",
     "iopub.status.idle": "2024-07-08T06:19:19.441292Z",
     "shell.execute_reply": "2024-07-08T06:19:19.439954Z"
    },
    "papermill": {
     "duration": 0.030192,
     "end_time": "2024-07-08T06:19:19.444557",
     "exception": false,
     "start_time": "2024-07-08T06:19:19.414365",
     "status": "completed"
    },
    "scrolled": true,
    "tags": []
   },
   "outputs": [
    {
     "data": {
      "text/plain": [
       "<header class=\"navbar fixed-top navbar-expand-lg navbar-dark navbar-static svg-background\" id=\"navbar-top\" role=\"banner\">\n",
       "<div class=\"container\">\n",
       "<div class=\"navbar-header\">\n",
       "<a data-bs-target=\".side-collapse\" data-bs-target-2=\".side-collapse-container\" data-bs-toggle=\"collapse-side\">\n",
       "<button aria-controls=\"navbar\" aria-expanded=\"false\" class=\"navbar-toggler float-end collapsed\" data-bs-target=\"#navbar\" data-bs-target-2=\".side-collapse-container\" data-bs-target-3=\".side-collapse\" data-bs-toggle=\"collapse\" type=\"button\">\n",
       "<span class=\"visually-hidden\">Toggle navigation</span>\n",
       "<span class=\"icon-bar top-bar\"></span>\n",
       "<span class=\"icon-bar middle-bar\"></span>\n",
       "<span class=\"icon-bar bottom-bar\"></span>\n",
       "<span class=\"icon-bar extra-bottom-bar\"></span>\n",
       "</button>\n",
       "</a>\n",
       "<div class=\"navbar-brand\">\n",
       "<a href=\"/\"><img alt=\"Web Scraper\" src=\"/img/logo_white.svg\"/></a>\n",
       "</div>\n",
       "</div>\n",
       "<div class=\"side-collapse in\">\n",
       "<nav class=\"navbar-collapse collapse\" id=\"navbar\" role=\"navigation\">\n",
       "<ul class=\"nav navbar-nav navbar-right\">\n",
       "<li class=\"nav-item\">\n",
       "<a class=\"nav-link menuitm\" href=\"/\">\n",
       "<p>Web Scraper</p>\n",
       "<div class=\"crta\"></div>\n",
       "</a>\n",
       "</li>\n",
       "<li class=\"nav-item\">\n",
       "<a class=\"nav-link menuitm\" href=\"/cloud-scraper\">\n",
       "<p>Cloud Scraper</p>\n",
       "<div class=\"crta\"></div>\n",
       "</a>\n",
       "</li>\n",
       "<li class=\"nav-item\">\n",
       "<a class=\"nav-link menuitm\" href=\"/pricing\">\n",
       "<p>Pricing</p>\n",
       "<div class=\"crta\"></div>\n",
       "</a>\n",
       "</li>\n",
       "<li class=\"nav-item dropdown\">\n",
       "<a aria-expanded=\"false\" aria-haspopup=\"true\" class=\"menuitm nav-link dropdown-toggle\" data-bs-toggle=\"dropdown\" href=\"#\" id=\"dropdownMenuLink\" role=\"button\">\n",
       "<p>Learn</p>\n",
       "<div class=\"crta\"></div>\n",
       "</a>\n",
       "<ul aria-labelledby=\"dropdownMenuLink\" class=\"dropdown-menu\">\n",
       "<li>\n",
       "<a class=\"dropdown-item\" href=\"/documentation\">Documentation</a>\n",
       "</li>\n",
       "<li>\n",
       "<a class=\"dropdown-item\" href=\"/tutorials\">Video Tutorials</a>\n",
       "</li>\n",
       "<li>\n",
       "<a class=\"dropdown-item\" href=\"/how-to-videos\">How to</a>\n",
       "</li>\n",
       "<li>\n",
       "<a class=\"dropdown-item\" href=\"/test-sites\">Test Sites</a>\n",
       "</li>\n",
       "<li>\n",
       "<a class=\"dropdown-item\" href=\"https://forum.webscraper.io/\" rel=\"noopener\" target=\"_blank\">Forum</a>\n",
       "</li>\n",
       "</ul>\n",
       "</li>\n",
       "<li class=\"nav-item\">\n",
       "<a class=\"nav-link btn-menu1 install-extension\" href=\"https://chromewebstore.google.com/detail/web-scraper-free-web-scra/jnhgnonknehpejjnehehllkliplmbmhn?hl=en\" target=\"_blank\">Install</a>\n",
       "</li>\n",
       "<li class=\"nav-item\">\n",
       "<a class=\"nav-link btn-menu2\" href=\"https://cloud.webscraper.io/\">Cloud Login</a>\n",
       "</li>\n",
       "</ul>\n",
       "</nav>\n",
       "</div>\n",
       "</div>\n",
       "</header>"
      ]
     },
     "execution_count": 3,
     "metadata": {},
     "output_type": "execute_result"
    }
   ],
   "source": [
    "#find\n",
    "soup.find('header')"
   ]
  },
  {
   "cell_type": "code",
   "execution_count": 4,
   "id": "2907c1c9",
   "metadata": {
    "execution": {
     "iopub.execute_input": "2024-07-08T06:19:19.463564Z",
     "iopub.status.busy": "2024-07-08T06:19:19.462021Z",
     "iopub.status.idle": "2024-07-08T06:19:19.473274Z",
     "shell.execute_reply": "2024-07-08T06:19:19.471827Z"
    },
    "papermill": {
     "duration": 0.023978,
     "end_time": "2024-07-08T06:19:19.476460",
     "exception": false,
     "start_time": "2024-07-08T06:19:19.452482",
     "status": "completed"
    },
    "tags": []
   },
   "outputs": [],
   "source": [
    "soup.header.attrs\n",
    "\n",
    "soup.find('div', {'class':'container test-site'})\n",
    "\n",
    "soup.find('h4', {'class':'pull-right price'})"
   ]
  },
  {
   "cell_type": "code",
   "execution_count": 5,
   "id": "24c47487",
   "metadata": {
    "execution": {
     "iopub.execute_input": "2024-07-08T06:19:19.495203Z",
     "iopub.status.busy": "2024-07-08T06:19:19.494033Z",
     "iopub.status.idle": "2024-07-08T06:19:19.501467Z",
     "shell.execute_reply": "2024-07-08T06:19:19.499948Z"
    },
    "papermill": {
     "duration": 0.020221,
     "end_time": "2024-07-08T06:19:19.504550",
     "exception": false,
     "start_time": "2024-07-08T06:19:19.484329",
     "status": "completed"
    },
    "tags": []
   },
   "outputs": [
    {
     "name": "stdout",
     "output_type": "stream",
     "text": [
      "hello\n"
     ]
    }
   ],
   "source": [
    "print(\"hello\")"
   ]
  },
  {
   "cell_type": "code",
   "execution_count": 6,
   "id": "74713413",
   "metadata": {
    "execution": {
     "iopub.execute_input": "2024-07-08T06:19:19.523717Z",
     "iopub.status.busy": "2024-07-08T06:19:19.522462Z",
     "iopub.status.idle": "2024-07-08T06:19:19.539194Z",
     "shell.execute_reply": "2024-07-08T06:19:19.537956Z"
    },
    "papermill": {
     "duration": 0.029257,
     "end_time": "2024-07-08T06:19:19.542059",
     "exception": false,
     "start_time": "2024-07-08T06:19:19.512802",
     "status": "completed"
    },
    "tags": []
   },
   "outputs": [
    {
     "data": {
      "text/plain": [
       "[]"
      ]
     },
     "execution_count": 6,
     "metadata": {},
     "output_type": "execute_result"
    }
   ],
   "source": [
    "#find_all - part 1\n",
    "soup.find_all('h4', {'class':'pull-right price'})[6:]\n",
    "\n",
    "soup.find_all('a', class_ = 'title')\n",
    "\n",
    "soup.find_all('p', class_ = 'pull-right')\n"
   ]
  },
  {
   "cell_type": "code",
   "execution_count": 7,
   "id": "914ecd0e",
   "metadata": {
    "execution": {
     "iopub.execute_input": "2024-07-08T06:19:19.561790Z",
     "iopub.status.busy": "2024-07-08T06:19:19.561099Z",
     "iopub.status.idle": "2024-07-08T06:19:19.606863Z",
     "shell.execute_reply": "2024-07-08T06:19:19.605418Z"
    },
    "papermill": {
     "duration": 0.058902,
     "end_time": "2024-07-08T06:19:19.609880",
     "exception": false,
     "start_time": "2024-07-08T06:19:19.550978",
     "status": "completed"
    },
    "tags": []
   },
   "outputs": [
    {
     "data": {
      "text/plain": [
       "[]"
      ]
     },
     "execution_count": 7,
     "metadata": {},
     "output_type": "execute_result"
    }
   ],
   "source": [
    "#find_all - part 2\n",
    "soup.find_all(['h4','p','a'])\n",
    "\n",
    "soup.find_all(id = True)\n",
    "\n",
    "soup.find_all(string = 'Iphone')\n",
    "\n",
    "import re\n",
    "\n",
    "soup.find_all(string = re.compile('Nok'))\n",
    "\n",
    "soup.find_all(string = ['Iphone', 'Nokia 123'])\n",
    "\n",
    "soup.find_all(class_ = re.compile('pull'))\n",
    "\n",
    "soup.find_all('p', class_ = re.compile('pull'))\n",
    "\n",
    "soup.find_all('p', class_ = re.compile('pull'), limit = 3)"
   ]
  },
  {
   "cell_type": "code",
   "execution_count": 8,
   "id": "080717af",
   "metadata": {
    "execution": {
     "iopub.execute_input": "2024-07-08T06:19:19.629354Z",
     "iopub.status.busy": "2024-07-08T06:19:19.628777Z",
     "iopub.status.idle": "2024-07-08T06:19:19.641203Z",
     "shell.execute_reply": "2024-07-08T06:19:19.639880Z"
    },
    "papermill": {
     "duration": 0.025335,
     "end_time": "2024-07-08T06:19:19.644112",
     "exception": false,
     "start_time": "2024-07-08T06:19:19.618777",
     "status": "completed"
    },
    "tags": []
   },
   "outputs": [
    {
     "data": {
      "text/plain": [
       "[<a class=\"title\" href=\"/test-sites/e-commerce/allinone/product/1\" title=\"Nokia 123\">Nokia 123</a>,\n",
       " <a class=\"title\" href=\"/test-sites/e-commerce/allinone/product/2\" title=\"LG Optimus\">LG Optimus</a>,\n",
       " <a class=\"title\" href=\"/test-sites/e-commerce/allinone/product/3\" title=\"Samsung Galaxy\">Samsung Galaxy</a>,\n",
       " <a class=\"title\" href=\"/test-sites/e-commerce/allinone/product/4\" title=\"Nokia X\">Nokia X</a>,\n",
       " <a class=\"title\" href=\"/test-sites/e-commerce/allinone/product/5\" title=\"Sony Xperia\">Sony Xperia</a>,\n",
       " <a class=\"title\" href=\"/test-sites/e-commerce/allinone/product/6\" title=\"Ubuntu Edge\">Ubuntu Edge</a>,\n",
       " <a class=\"title\" href=\"/test-sites/e-commerce/allinone/product/7\" title=\"Iphone\">Iphone</a>,\n",
       " <a class=\"title\" href=\"/test-sites/e-commerce/allinone/product/8\" title=\"Iphone\">Iphone</a>,\n",
       " <a class=\"title\" href=\"/test-sites/e-commerce/allinone/product/9\" title=\"Iphone\">Iphone</a>]"
      ]
     },
     "execution_count": 8,
     "metadata": {},
     "output_type": "execute_result"
    }
   ],
   "source": [
    "#find_all - part 3\n",
    "product_name = soup.find_all('a', class_ = 'title')\n",
    "product_name\n"
   ]
  },
  {
   "cell_type": "code",
   "execution_count": 9,
   "id": "978dd086",
   "metadata": {
    "execution": {
     "iopub.execute_input": "2024-07-08T06:19:19.665030Z",
     "iopub.status.busy": "2024-07-08T06:19:19.664494Z",
     "iopub.status.idle": "2024-07-08T06:19:19.676225Z",
     "shell.execute_reply": "2024-07-08T06:19:19.674922Z"
    },
    "papermill": {
     "duration": 0.026112,
     "end_time": "2024-07-08T06:19:19.679068",
     "exception": false,
     "start_time": "2024-07-08T06:19:19.652956",
     "status": "completed"
    },
    "tags": []
   },
   "outputs": [
    {
     "data": {
      "text/plain": [
       "[<h4 class=\"price float-end card-title pull-right\">$24.99</h4>,\n",
       " <h4 class=\"price float-end card-title pull-right\">$57.99</h4>,\n",
       " <h4 class=\"price float-end card-title pull-right\">$93.99</h4>,\n",
       " <h4 class=\"price float-end card-title pull-right\">$109.99</h4>,\n",
       " <h4 class=\"price float-end card-title pull-right\">$118.99</h4>,\n",
       " <h4 class=\"price float-end card-title pull-right\">$499.99</h4>,\n",
       " <h4 class=\"price float-end card-title pull-right\">$899.99</h4>,\n",
       " <h4 class=\"price float-end card-title pull-right\">$899.99</h4>,\n",
       " <h4 class=\"price float-end card-title pull-right\">$899.99</h4>]"
      ]
     },
     "execution_count": 9,
     "metadata": {},
     "output_type": "execute_result"
    }
   ],
   "source": [
    "price = soup.find_all('h4', class_ = 'price float-end card-title pull-right')\n",
    "price"
   ]
  },
  {
   "cell_type": "code",
   "execution_count": 10,
   "id": "c90a2d68",
   "metadata": {
    "execution": {
     "iopub.execute_input": "2024-07-08T06:19:19.699161Z",
     "iopub.status.busy": "2024-07-08T06:19:19.698104Z",
     "iopub.status.idle": "2024-07-08T06:19:19.710497Z",
     "shell.execute_reply": "2024-07-08T06:19:19.709192Z"
    },
    "papermill": {
     "duration": 0.025509,
     "end_time": "2024-07-08T06:19:19.713137",
     "exception": false,
     "start_time": "2024-07-08T06:19:19.687628",
     "status": "completed"
    },
    "tags": []
   },
   "outputs": [
    {
     "data": {
      "text/plain": [
       "[<p class=\"review-count float-end\">11 reviews</p>,\n",
       " <p class=\"review-count float-end\">11 reviews</p>,\n",
       " <p class=\"review-count float-end\">3 reviews</p>,\n",
       " <p class=\"review-count float-end\">4 reviews</p>,\n",
       " <p class=\"review-count float-end\">6 reviews</p>,\n",
       " <p class=\"review-count float-end\">2 reviews</p>,\n",
       " <p class=\"review-count float-end\">10 reviews</p>,\n",
       " <p class=\"review-count float-end\">8 reviews</p>,\n",
       " <p class=\"review-count float-end\">1 reviews</p>]"
      ]
     },
     "execution_count": 10,
     "metadata": {},
     "output_type": "execute_result"
    }
   ],
   "source": [
    "reviews = soup.find_all('p', class_ = re.compile('review-count float-end'))\n",
    "reviews\n"
   ]
  },
  {
   "cell_type": "code",
   "execution_count": 11,
   "id": "0b5a78c7",
   "metadata": {
    "execution": {
     "iopub.execute_input": "2024-07-08T06:19:19.733259Z",
     "iopub.status.busy": "2024-07-08T06:19:19.732714Z",
     "iopub.status.idle": "2024-07-08T06:19:19.745003Z",
     "shell.execute_reply": "2024-07-08T06:19:19.743579Z"
    },
    "papermill": {
     "duration": 0.026076,
     "end_time": "2024-07-08T06:19:19.748024",
     "exception": false,
     "start_time": "2024-07-08T06:19:19.721948",
     "status": "completed"
    },
    "tags": []
   },
   "outputs": [
    {
     "data": {
      "text/plain": [
       "[<p class=\"description card-text\">7 day battery</p>,\n",
       " <p class=\"description card-text\">3.2\" screen</p>,\n",
       " <p class=\"description card-text\">5 mpx. Android 5.0</p>,\n",
       " <p class=\"description card-text\">Andoid, Jolla dualboot</p>,\n",
       " <p class=\"description card-text\">GPS, waterproof</p>,\n",
       " <p class=\"description card-text\">Sapphire glass</p>,\n",
       " <p class=\"description card-text\">White</p>,\n",
       " <p class=\"description card-text\">Silver</p>,\n",
       " <p class=\"description card-text\">Black</p>]"
      ]
     },
     "execution_count": 11,
     "metadata": {},
     "output_type": "execute_result"
    }
   ],
   "source": [
    "\n",
    "description = soup.find_all('p', class_ = 'description')\n",
    "description"
   ]
  },
  {
   "cell_type": "code",
   "execution_count": 12,
   "id": "df9bb097",
   "metadata": {
    "execution": {
     "iopub.execute_input": "2024-07-08T06:19:19.768805Z",
     "iopub.status.busy": "2024-07-08T06:19:19.768313Z",
     "iopub.status.idle": "2024-07-08T06:19:19.775721Z",
     "shell.execute_reply": "2024-07-08T06:19:19.774388Z"
    },
    "papermill": {
     "duration": 0.021525,
     "end_time": "2024-07-08T06:19:19.779137",
     "exception": false,
     "start_time": "2024-07-08T06:19:19.757612",
     "status": "completed"
    },
    "tags": []
   },
   "outputs": [
    {
     "name": "stdout",
     "output_type": "stream",
     "text": [
      "['Nokia 123', 'LG Optimus', 'Samsung Galaxy', 'Nokia X', 'Sony Xperia', 'Ubuntu Edge', 'Iphone', 'Iphone', 'Iphone']\n"
     ]
    }
   ],
   "source": [
    "product_name_list = []\n",
    "for i in product_name:\n",
    "    name = i.text\n",
    "    product_name_list.append(name)\n",
    "print(product_name_list)\n",
    "\n"
   ]
  },
  {
   "cell_type": "code",
   "execution_count": 13,
   "id": "b5f5db77",
   "metadata": {
    "execution": {
     "iopub.execute_input": "2024-07-08T06:19:19.800199Z",
     "iopub.status.busy": "2024-07-08T06:19:19.799658Z",
     "iopub.status.idle": "2024-07-08T06:19:19.807955Z",
     "shell.execute_reply": "2024-07-08T06:19:19.806471Z"
    },
    "papermill": {
     "duration": 0.02261,
     "end_time": "2024-07-08T06:19:19.811252",
     "exception": false,
     "start_time": "2024-07-08T06:19:19.788642",
     "status": "completed"
    },
    "tags": []
   },
   "outputs": [
    {
     "name": "stdout",
     "output_type": "stream",
     "text": [
      "['$24.99', '$57.99', '$93.99', '$109.99', '$118.99', '$499.99', '$899.99', '$899.99', '$899.99']\n"
     ]
    }
   ],
   "source": [
    "price_list = []\n",
    "for i in price:\n",
    "    price2 = i.text\n",
    "    price_list.append(price2)\n",
    "print(price_list)\n",
    "\n",
    "\n"
   ]
  },
  {
   "cell_type": "code",
   "execution_count": 14,
   "id": "344f0b0f",
   "metadata": {
    "execution": {
     "iopub.execute_input": "2024-07-08T06:19:19.832773Z",
     "iopub.status.busy": "2024-07-08T06:19:19.832212Z",
     "iopub.status.idle": "2024-07-08T06:19:19.838769Z",
     "shell.execute_reply": "2024-07-08T06:19:19.837248Z"
    },
    "papermill": {
     "duration": 0.021366,
     "end_time": "2024-07-08T06:19:19.841914",
     "exception": false,
     "start_time": "2024-07-08T06:19:19.820548",
     "status": "completed"
    },
    "tags": []
   },
   "outputs": [],
   "source": [
    "\n",
    "reviews_list = []\n",
    "for i in reviews:\n",
    "    reviews2 = i.text\n",
    "    reviews_list.append(reviews2)\n",
    "\n"
   ]
  },
  {
   "cell_type": "code",
   "execution_count": 15,
   "id": "0cc778b1",
   "metadata": {
    "execution": {
     "iopub.execute_input": "2024-07-08T06:19:19.863316Z",
     "iopub.status.busy": "2024-07-08T06:19:19.862758Z",
     "iopub.status.idle": "2024-07-08T06:19:19.869521Z",
     "shell.execute_reply": "2024-07-08T06:19:19.868105Z"
    },
    "papermill": {
     "duration": 0.020576,
     "end_time": "2024-07-08T06:19:19.872482",
     "exception": false,
     "start_time": "2024-07-08T06:19:19.851906",
     "status": "completed"
    },
    "tags": []
   },
   "outputs": [],
   "source": [
    "\n",
    "descriptions_list = []\n",
    "for i in description:\n",
    "    descriptions2 = i.text\n",
    "    descriptions_list.append(descriptions2)"
   ]
  },
  {
   "cell_type": "code",
   "execution_count": 16,
   "id": "db55d849",
   "metadata": {
    "execution": {
     "iopub.execute_input": "2024-07-08T06:19:19.894614Z",
     "iopub.status.busy": "2024-07-08T06:19:19.893199Z",
     "iopub.status.idle": "2024-07-08T06:19:19.904349Z",
     "shell.execute_reply": "2024-07-08T06:19:19.902684Z"
    },
    "papermill": {
     "duration": 0.02514,
     "end_time": "2024-07-08T06:19:19.907357",
     "exception": false,
     "start_time": "2024-07-08T06:19:19.882217",
     "status": "completed"
    },
    "tags": []
   },
   "outputs": [],
   "source": [
    "table = pd.DataFrame({'Product Name':product_name_list, 'Description':descriptions_list,'Price':price_list, 'Reviews':reviews_list})\n"
   ]
  },
  {
   "cell_type": "code",
   "execution_count": 17,
   "id": "73a50c29",
   "metadata": {
    "execution": {
     "iopub.execute_input": "2024-07-08T06:19:19.928037Z",
     "iopub.status.busy": "2024-07-08T06:19:19.927484Z",
     "iopub.status.idle": "2024-07-08T06:19:20.426841Z",
     "shell.execute_reply": "2024-07-08T06:19:20.424835Z"
    },
    "papermill": {
     "duration": 0.513189,
     "end_time": "2024-07-08T06:19:20.429849",
     "exception": true,
     "start_time": "2024-07-08T06:19:19.916660",
     "status": "failed"
    },
    "tags": []
   },
   "outputs": [
    {
     "ename": "IndexError",
     "evalue": "list index out of range",
     "output_type": "error",
     "traceback": [
      "\u001b[0;31m---------------------------------------------------------------------------\u001b[0m",
      "\u001b[0;31mIndexError\u001b[0m                                Traceback (most recent call last)",
      "Cell \u001b[0;32mIn[17], line 2\u001b[0m\n\u001b[1;32m      1\u001b[0m \u001b[38;5;66;03m#extracted data from nested HTML tags\u001b[39;00m\n\u001b[0;32m----> 2\u001b[0m boxes \u001b[38;5;241m=\u001b[39m \u001b[43msoup\u001b[49m\u001b[38;5;241;43m.\u001b[39;49m\u001b[43mfind_all\u001b[49m\u001b[43m(\u001b[49m\u001b[38;5;124;43m'\u001b[39;49m\u001b[38;5;124;43mdiv\u001b[39;49m\u001b[38;5;124;43m'\u001b[39;49m\u001b[43m,\u001b[49m\u001b[43m \u001b[49m\u001b[43mclass_\u001b[49m\u001b[43m \u001b[49m\u001b[38;5;241;43m=\u001b[39;49m\u001b[43m \u001b[49m\u001b[38;5;124;43m'\u001b[39;49m\u001b[38;5;124;43mcol-sm-4 col-lg-4 col-md-4\u001b[39;49m\u001b[38;5;124;43m'\u001b[39;49m\u001b[43m)\u001b[49m\u001b[43m[\u001b[49m\u001b[38;5;241;43m6\u001b[39;49m\u001b[43m]\u001b[49m \n\u001b[1;32m      3\u001b[0m boxes\n\u001b[1;32m      5\u001b[0m boxes\u001b[38;5;241m.\u001b[39mfind(\u001b[38;5;124m'\u001b[39m\u001b[38;5;124ma\u001b[39m\u001b[38;5;124m'\u001b[39m)\u001b[38;5;241m.\u001b[39mtext    \n",
      "\u001b[0;31mIndexError\u001b[0m: list index out of range"
     ]
    }
   ],
   "source": [
    "#extracted data from nested HTML tags\n",
    "boxes = soup.find_all('div', class_ = 'col-sm-4 col-lg-4 col-md-4')[6] \n",
    "boxes\n",
    "  \n",
    "boxes.find('a').text    \n",
    "    \n",
    "boxes.find('p', class_ = 'description').text   \n",
    "    \n",
    "box2 = soup.find_all('ul', class_ = 'nav', id = 'side-menu')[0]    \n",
    "    \n",
    "box2.find_all('li')[1].text\n"
   ]
  }
 ],
 "metadata": {
  "kaggle": {
   "accelerator": "none",
   "dataSources": [],
   "dockerImageVersionId": 30732,
   "isGpuEnabled": false,
   "isInternetEnabled": true,
   "language": "python",
   "sourceType": "notebook"
  },
  "kernelspec": {
   "display_name": "Python 3",
   "language": "python",
   "name": "python3"
  },
  "language_info": {
   "codemirror_mode": {
    "name": "ipython",
    "version": 3
   },
   "file_extension": ".py",
   "mimetype": "text/x-python",
   "name": "python",
   "nbconvert_exporter": "python",
   "pygments_lexer": "ipython3",
   "version": "3.10.13"
  },
  "papermill": {
   "default_parameters": {},
   "duration": 7.305578,
   "end_time": "2024-07-08T06:19:21.366991",
   "environment_variables": {},
   "exception": true,
   "input_path": "__notebook__.ipynb",
   "output_path": "__notebook__.ipynb",
   "parameters": {},
   "start_time": "2024-07-08T06:19:14.061413",
   "version": "2.5.0"
  }
 },
 "nbformat": 4,
 "nbformat_minor": 5
}
