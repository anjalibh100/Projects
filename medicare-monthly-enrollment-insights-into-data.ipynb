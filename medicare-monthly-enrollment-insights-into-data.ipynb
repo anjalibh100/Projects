{
 "cells": [
  {
   "cell_type": "markdown",
   "id": "9397d3c2",
   "metadata": {
    "papermill": {
     "duration": 0.009332,
     "end_time": "2024-01-28T06:19:49.189593",
     "exception": false,
     "start_time": "2024-01-28T06:19:49.180261",
     "status": "completed"
    },
    "tags": []
   },
   "source": [
    "<div style=\"width: 100%; height: 100px; background-color: #DBC7BE; border: 4px solid #0c2461; text-align: center; line-height: 100px; color: #0c2461; font-size: 24px; font-weight: bold; border-radius:6px;\">\n",
    "    Medicare Monthly Enrollment Methodology Analytics Project  🏥\n",
    "</div>"
   ]
  },
  {
   "cell_type": "markdown",
   "id": "e133836b",
   "metadata": {
    "papermill": {
     "duration": 0.008588,
     "end_time": "2024-01-28T06:19:49.207247",
     "exception": false,
     "start_time": "2024-01-28T06:19:49.198659",
     "status": "completed"
    },
    "tags": []
   },
   "source": [
    "<div style=\"width: 100%; background-color: #DBC7BE; color: #0c2461; padding: 10px; border: 3px solid #0c2461; font-size: 15px;margin-bottom: 20px;border-radius:10px;\">\n",
    "    <h3 style=\"color: #0c2461;\">Project Description</h3>\n",
    "    The Medicare Monthly Enrollment data file presents Medicare monthly and yearly enrollee counts by geographic area (state/territory and county) from calendar year 2013 to calendar year 2022. \n",
    "    <span>\n",
    "    </span>\n",
    "    <h4 style=\"color: #0c2461;\">The file includes counts for the following:</h4>\n",
    "    <ul style=\"list-style-type: none; padding-left: 0;\">\n",
    "        <li><span style=\"margin-left: -10px;\">&#8226;</span> Total Medicare beneficiaries</li>\n",
    "        <li><span style=\"margin-left: -10px;\">&#8226;</span> Original Medicare beneficiaries (i.e. Fee-for-Service)</li>\n",
    "        <li><span style=\"margin-left: -10px;\">&#8226;</span> Medicare Advantage & other health plan beneficiaries</li>\n",
    "        <li><span style=\"margin-left: -10px;\">&#8226;</span> Aged beneficiaries</li>\n",
    "        <li><span style=\"margin-left: -10px;\">&#8226;</span> Disabled beneficiaries</li>\n",
    "        <li><span style=\"margin-left: -10px;\">&#8226;</span> Total Part D (prescription drug) beneficiaries</li>\n",
    "        <li><span style=\"margin-left: -10px;\">&#8226;</span> Stand-Alone Prescription Drug Plan beneficiaries</li>\n",
    "        <li><span style=\"margin-left: -10px;\">&#8226;</span> Medicare Advantage Prescription Drug Plan beneficiaries</li>\n",
    "        <li><span style=\"margin-left: -10px;\">&#8226;</span> Part D Low-income subsidy beneficiaries</li>\n",
    "    </ul>\n",
    "The yearly Medicare enrollee counts are determined using a person-year methodology. For each \n",
    "calendar year, total person-year counts are determined by summing the total number of months that \n",
    "each beneficiary is enrolled during the year and dividing by 12. Using this methodology, a beneficiary’s \n",
    "partial-year enrollment may be counted in more than 1 category (i.e., entitlement type, health care \n",
    "delivery, plan type, and low-income subsidy eligibility category). \n",
    "The monthly counts represent Medicare beneficiaries enrolled in the given month\n",
    "<span>\n",
    "</span> \n",
    "    <h3 style=\"color: #0c2461;\">Tasks in this notebook</h3>\n",
    "    <ul style=\"list-style-type: none; padding-left: 0;\">\n",
    "        <li><span style=\"margin-left: -10px;\">&#8226;</span> Import libraries</li>\n",
    "        <li><span style=\"margin-left: -10px;\">&#8226;</span> Read dataset and get information from data</li>\n",
    "        <li><span style=\"margin-left: -10px;\">&#8226;</span> Cleaning Dataset</li>\n",
    "        <li><span style=\"margin-left: -10px;\">&#8226;</span> Features</li>\n",
    "        <li>\n",
    "            <span style=\"margin-left: -10px;\">&#8226;</span> Modeling\n",
    "            <ul style=\"list-style-type: none; padding-left: 20px;\">\n",
    "                <li><span style=\"margin-left: -10px;\">&#8226;</span> Logestic Regression</li>\n",
    "                <li><span style=\"margin-left: -10px;\">&#8226;</span> Complement Naive Bayes (CNB)</li>\n",
    "                <li><span style=\"margin-left: -10px;\">&#8226;</span> KNN (K-Nearest Neighbors)</li>\n",
    "                <li><span style=\"margin-left: -10px;\">&#8226;</span> Decision Tree classifier</li>\n",
    "                <li><span style=\"margin-left: -10px;\">&#8226;</span> Random Forest classifier</li>\n",
    "            </ul>\n",
    "        </li>\n",
    "    </ul>\n",
    "</div>"
   ]
  },
  {
   "cell_type": "markdown",
   "id": "b174dd6d",
   "metadata": {
    "papermill": {
     "duration": 0.008926,
     "end_time": "2024-01-28T06:19:49.225040",
     "exception": false,
     "start_time": "2024-01-28T06:19:49.216114",
     "status": "completed"
    },
    "tags": []
   },
   "source": [
    "<h2 style=\"position: relative;\">\n",
    "    <span style=\"color: #0c2461;\">Dataset Overview</span> \n",
    "    <br/>\n",
    "    <br/>\n",
    "    <hr style=\"position: absolute; bottom: -8px; border: none; height: 4px; width: 100%; background-color: #6a89cc;\">\n",
    "</h2>\n"
   ]
  },
  {
   "cell_type": "markdown",
   "id": "3d0ec4be",
   "metadata": {
    "papermill": {
     "duration": 0.008471,
     "end_time": "2024-01-28T06:19:49.242394",
     "exception": false,
     "start_time": "2024-01-28T06:19:49.233923",
     "status": "completed"
    },
    "tags": []
   },
   "source": [
    "<h2 style=\"position: relative;\">\n",
    "    <span style=\"color: #6a89cc;\">1.</span> \n",
    "    <span style=\"color: #0c2461;\">Libraries and Warnings</span> \n",
    "    <br/>\n",
    "</h2>"
   ]
  },
  {
   "cell_type": "markdown",
   "id": "e053ff9a",
   "metadata": {
    "papermill": {
     "duration": 0.008957,
     "end_time": "2024-01-28T06:19:49.260186",
     "exception": false,
     "start_time": "2024-01-28T06:19:49.251229",
     "status": "completed"
    },
    "tags": []
   },
   "source": [
    "<h2 style=\"position: relative;\">\n",
    "    <span style=\"color: #6a89cc;\">1.1</span> \n",
    "    <span style=\"color: #0c2461;\">Import Libraries</span> \n",
    "    <br/>\n",
    "    <br/>\n",
    "    <hr style=\"position: absolute; bottom: -8px; border: none; height: 4px; width: 100%; background-color: #6a89cc;\">\n",
    "</h2>"
   ]
  },
  {
   "cell_type": "code",
   "execution_count": 1,
   "id": "c4b824e1",
   "metadata": {
    "_cell_guid": "b1076dfc-b9ad-4769-8c92-a6c4dae69d19",
    "_uuid": "8f2839f25d086af736a60e9eeb907d3b93b6e0e5",
    "execution": {
     "iopub.execute_input": "2024-01-28T06:19:49.280364Z",
     "iopub.status.busy": "2024-01-28T06:19:49.279634Z",
     "iopub.status.idle": "2024-01-28T06:19:51.463245Z",
     "shell.execute_reply": "2024-01-28T06:19:51.462183Z"
    },
    "papermill": {
     "duration": 2.196763,
     "end_time": "2024-01-28T06:19:51.465987",
     "exception": false,
     "start_time": "2024-01-28T06:19:49.269224",
     "status": "completed"
    },
    "tags": []
   },
   "outputs": [],
   "source": [
    "import os\n",
    "import numpy as np # linear algebra\n",
    "import pandas as pd # data processing, CSV file I/O (e.g. pd.read_csv)\n",
    "import matplotlib.pyplot as plt\n",
    "import matplotlib as plt\n",
    "from matplotlib import pyplot as pllt\n",
    "import seaborn as sns"
   ]
  },
  {
   "cell_type": "markdown",
   "id": "f8024a4f",
   "metadata": {
    "papermill": {
     "duration": 0.008801,
     "end_time": "2024-01-28T06:19:51.484471",
     "exception": false,
     "start_time": "2024-01-28T06:19:51.475670",
     "status": "completed"
    },
    "tags": []
   },
   "source": [
    "<h2 style=\"position: relative;\">\n",
    "    <span style=\"color: #6a89cc;\">1.2</span> \n",
    "    <span style=\"color: #0c2461;\">Ignore warnings</span> \n",
    "    <br/>\n",
    "    <br/>\n",
    "    <hr style=\"position: absolute; bottom: -8px; border: none; height: 4px; width: 100%; background-color: #6a89cc;\">\n",
    "</h2>\n"
   ]
  },
  {
   "cell_type": "code",
   "execution_count": 2,
   "id": "11ebc063",
   "metadata": {
    "execution": {
     "iopub.execute_input": "2024-01-28T06:19:51.504907Z",
     "iopub.status.busy": "2024-01-28T06:19:51.504384Z",
     "iopub.status.idle": "2024-01-28T06:19:51.509280Z",
     "shell.execute_reply": "2024-01-28T06:19:51.508207Z"
    },
    "papermill": {
     "duration": 0.01782,
     "end_time": "2024-01-28T06:19:51.511352",
     "exception": false,
     "start_time": "2024-01-28T06:19:51.493532",
     "status": "completed"
    },
    "tags": []
   },
   "outputs": [],
   "source": [
    "import warnings\n",
    "warnings.filterwarnings(\"ignore\")"
   ]
  },
  {
   "cell_type": "code",
   "execution_count": 3,
   "id": "36c626cd",
   "metadata": {
    "execution": {
     "iopub.execute_input": "2024-01-28T06:19:51.531785Z",
     "iopub.status.busy": "2024-01-28T06:19:51.530987Z",
     "iopub.status.idle": "2024-01-28T06:19:51.859544Z",
     "shell.execute_reply": "2024-01-28T06:19:51.858544Z"
    },
    "papermill": {
     "duration": 0.341219,
     "end_time": "2024-01-28T06:19:51.861694",
     "exception": false,
     "start_time": "2024-01-28T06:19:51.520475",
     "status": "completed"
    },
    "tags": []
   },
   "outputs": [
    {
     "data": {
      "text/html": [
       "        <script type=\"text/javascript\">\n",
       "        window.PlotlyConfig = {MathJaxConfig: 'local'};\n",
       "        if (window.MathJax && window.MathJax.Hub && window.MathJax.Hub.Config) {window.MathJax.Hub.Config({SVG: {font: \"STIX-Web\"}});}\n",
       "        if (typeof require !== 'undefined') {\n",
       "        require.undef(\"plotly\");\n",
       "        requirejs.config({\n",
       "            paths: {\n",
       "                'plotly': ['https://cdn.plot.ly/plotly-2.25.2.min']\n",
       "            }\n",
       "        });\n",
       "        require(['plotly'], function(Plotly) {\n",
       "            window._Plotly = Plotly;\n",
       "        });\n",
       "        }\n",
       "        </script>\n",
       "        "
      ]
     },
     "metadata": {},
     "output_type": "display_data"
    }
   ],
   "source": [
    "from plotly.offline import init_notebook_mode, iplot\n",
    "init_notebook_mode(connected=True)"
   ]
  },
  {
   "cell_type": "markdown",
   "id": "059a0c08",
   "metadata": {
    "papermill": {
     "duration": 0.008813,
     "end_time": "2024-01-28T06:19:51.879817",
     "exception": false,
     "start_time": "2024-01-28T06:19:51.871004",
     "status": "completed"
    },
    "tags": []
   },
   "source": [
    "<h2 style=\"position: relative;\">\n",
    "    <span style=\"color: #6a89cc;\">2.</span> \n",
    "    <span style=\"color: #0c2461;\">Read dataset and get information from data</span> \n",
    "    <br/>\n",
    "</h2>\n"
   ]
  },
  {
   "cell_type": "markdown",
   "id": "c54e39c1",
   "metadata": {
    "papermill": {
     "duration": 0.008758,
     "end_time": "2024-01-28T06:19:51.897579",
     "exception": false,
     "start_time": "2024-01-28T06:19:51.888821",
     "status": "completed"
    },
    "tags": []
   },
   "source": [
    "<h2 style=\"position: relative;\">\n",
    "    <span style=\"color: #6a89cc;\">2.1.</span> \n",
    "    <span style=\"color: #0c2461;\">Read Dataset</span> \n",
    "    <br/>\n",
    "    <br/>\n",
    "    <hr style=\"position: absolute; bottom: -8px; border: none; height: 4px; width: 100%; background-color: #6a89cc;\">\n",
    "</h2>\n"
   ]
  },
  {
   "cell_type": "code",
   "execution_count": 4,
   "id": "bc5847c8",
   "metadata": {
    "execution": {
     "iopub.execute_input": "2024-01-28T06:19:51.917298Z",
     "iopub.status.busy": "2024-01-28T06:19:51.916925Z",
     "iopub.status.idle": "2024-01-28T06:19:56.478429Z",
     "shell.execute_reply": "2024-01-28T06:19:56.477252Z"
    },
    "papermill": {
     "duration": 4.574298,
     "end_time": "2024-01-28T06:19:56.481023",
     "exception": false,
     "start_time": "2024-01-28T06:19:51.906725",
     "status": "completed"
    },
    "tags": []
   },
   "outputs": [],
   "source": [
    "# Path of the file to read\n",
    "filepath = \"/kaggle/input/medicare-monthly-enrollment-data/Medicare Monthly Enrollment Data_August 2023.csv\"\n",
    "data=pd.read_csv(filepath,index_col=\"YEAR\", parse_dates=True, encoding='Windows-1252')"
   ]
  },
  {
   "cell_type": "code",
   "execution_count": 5,
   "id": "2fa000c6",
   "metadata": {
    "execution": {
     "iopub.execute_input": "2024-01-28T06:19:56.501708Z",
     "iopub.status.busy": "2024-01-28T06:19:56.501328Z",
     "iopub.status.idle": "2024-01-28T06:19:56.529511Z",
     "shell.execute_reply": "2024-01-28T06:19:56.528463Z"
    },
    "papermill": {
     "duration": 0.04134,
     "end_time": "2024-01-28T06:19:56.531989",
     "exception": false,
     "start_time": "2024-01-28T06:19:56.490649",
     "status": "completed"
    },
    "tags": []
   },
   "outputs": [
    {
     "data": {
      "text/html": [
       "<div>\n",
       "<style scoped>\n",
       "    .dataframe tbody tr th:only-of-type {\n",
       "        vertical-align: middle;\n",
       "    }\n",
       "\n",
       "    .dataframe tbody tr th {\n",
       "        vertical-align: top;\n",
       "    }\n",
       "\n",
       "    .dataframe thead th {\n",
       "        text-align: right;\n",
       "    }\n",
       "</style>\n",
       "<table border=\"1\" class=\"dataframe\">\n",
       "  <thead>\n",
       "    <tr style=\"text-align: right;\">\n",
       "      <th></th>\n",
       "      <th>MONTH</th>\n",
       "      <th>BENE_GEO_LVL</th>\n",
       "      <th>BENE_STATE_ABRVTN</th>\n",
       "      <th>BENE_STATE_DESC</th>\n",
       "      <th>BENE_COUNTY_DESC</th>\n",
       "      <th>BENE_FIPS_CD</th>\n",
       "      <th>TOT_BENES</th>\n",
       "      <th>ORGNL_MDCR_BENES</th>\n",
       "      <th>MA_AND_OTH_BENES</th>\n",
       "      <th>AGED_TOT_BENES</th>\n",
       "      <th>...</th>\n",
       "      <th>A_B_TOT_BENES</th>\n",
       "      <th>A_B_ORGNL_MDCR_BENES</th>\n",
       "      <th>A_B_MA_AND_OTH_BENES</th>\n",
       "      <th>PRSCRPTN_DRUG_TOT_BENES</th>\n",
       "      <th>PRSCRPTN_DRUG_PDP_BENES</th>\n",
       "      <th>PRSCRPTN_DRUG_MAPD_BENES</th>\n",
       "      <th>PRSCRPTN_DRUG_DEEMED_ELIGIBLE_FULL_LIS_BENES</th>\n",
       "      <th>PRSCRPTN_DRUG_FULL_LIS_BENES</th>\n",
       "      <th>PRSCRPTN_DRUG_PARTIAL_LIS_BENES</th>\n",
       "      <th>PRSCRPTN_DRUG_NO_LIS_BENES</th>\n",
       "    </tr>\n",
       "    <tr>\n",
       "      <th>YEAR</th>\n",
       "      <th></th>\n",
       "      <th></th>\n",
       "      <th></th>\n",
       "      <th></th>\n",
       "      <th></th>\n",
       "      <th></th>\n",
       "      <th></th>\n",
       "      <th></th>\n",
       "      <th></th>\n",
       "      <th></th>\n",
       "      <th></th>\n",
       "      <th></th>\n",
       "      <th></th>\n",
       "      <th></th>\n",
       "      <th></th>\n",
       "      <th></th>\n",
       "      <th></th>\n",
       "      <th></th>\n",
       "      <th></th>\n",
       "      <th></th>\n",
       "      <th></th>\n",
       "    </tr>\n",
       "  </thead>\n",
       "  <tbody>\n",
       "    <tr>\n",
       "      <th>2013-01-01</th>\n",
       "      <td>Year</td>\n",
       "      <td>National</td>\n",
       "      <td>US</td>\n",
       "      <td>National</td>\n",
       "      <td>Total</td>\n",
       "      <td></td>\n",
       "      <td>52425659</td>\n",
       "      <td>37613096</td>\n",
       "      <td>14812563</td>\n",
       "      <td>43761388</td>\n",
       "      <td>...</td>\n",
       "      <td>47620905</td>\n",
       "      <td>32831884</td>\n",
       "      <td>14789022</td>\n",
       "      <td>35679758</td>\n",
       "      <td>22661451</td>\n",
       "      <td>13018307</td>\n",
       "      <td>10000861</td>\n",
       "      <td>1030113.0</td>\n",
       "      <td>409204.0</td>\n",
       "      <td>24239580</td>\n",
       "    </tr>\n",
       "    <tr>\n",
       "      <th>2013-01-01</th>\n",
       "      <td>Year</td>\n",
       "      <td>State</td>\n",
       "      <td>AL</td>\n",
       "      <td>Alabama</td>\n",
       "      <td>Total</td>\n",
       "      <td>01</td>\n",
       "      <td>921477.0</td>\n",
       "      <td>711448.0</td>\n",
       "      <td>210029.0</td>\n",
       "      <td>698720.0</td>\n",
       "      <td>...</td>\n",
       "      <td>857619.0</td>\n",
       "      <td>647647.0</td>\n",
       "      <td>209972.0</td>\n",
       "      <td>637247.0</td>\n",
       "      <td>437749.0</td>\n",
       "      <td>199498.0</td>\n",
       "      <td>205496.0</td>\n",
       "      <td>32790.0</td>\n",
       "      <td>11452.0</td>\n",
       "      <td>387510.0</td>\n",
       "    </tr>\n",
       "    <tr>\n",
       "      <th>2013-01-01</th>\n",
       "      <td>Year</td>\n",
       "      <td>County</td>\n",
       "      <td>AL</td>\n",
       "      <td>Alabama</td>\n",
       "      <td>Autauga</td>\n",
       "      <td>01001</td>\n",
       "      <td>9323.0</td>\n",
       "      <td>6484.0</td>\n",
       "      <td>2840.0</td>\n",
       "      <td>7088.0</td>\n",
       "      <td>...</td>\n",
       "      <td>8708.0</td>\n",
       "      <td>5868.0</td>\n",
       "      <td>2840.0</td>\n",
       "      <td>6036.0</td>\n",
       "      <td>3268.0</td>\n",
       "      <td>2767.0</td>\n",
       "      <td>1839.0</td>\n",
       "      <td>296.0</td>\n",
       "      <td>105.0</td>\n",
       "      <td>3796.0</td>\n",
       "    </tr>\n",
       "  </tbody>\n",
       "</table>\n",
       "<p>3 rows × 25 columns</p>\n",
       "</div>"
      ],
      "text/plain": [
       "           MONTH BENE_GEO_LVL BENE_STATE_ABRVTN BENE_STATE_DESC  \\\n",
       "YEAR                                                              \n",
       "2013-01-01  Year     National                US        National   \n",
       "2013-01-01  Year        State                AL         Alabama   \n",
       "2013-01-01  Year       County                AL         Alabama   \n",
       "\n",
       "           BENE_COUNTY_DESC BENE_FIPS_CD TOT_BENES ORGNL_MDCR_BENES  \\\n",
       "YEAR                                                                  \n",
       "2013-01-01            Total               52425659         37613096   \n",
       "2013-01-01            Total           01  921477.0         711448.0   \n",
       "2013-01-01          Autauga        01001    9323.0           6484.0   \n",
       "\n",
       "           MA_AND_OTH_BENES AGED_TOT_BENES  ... A_B_TOT_BENES  \\\n",
       "YEAR                                        ...                 \n",
       "2013-01-01         14812563       43761388  ...      47620905   \n",
       "2013-01-01         210029.0       698720.0  ...      857619.0   \n",
       "2013-01-01           2840.0         7088.0  ...        8708.0   \n",
       "\n",
       "           A_B_ORGNL_MDCR_BENES A_B_MA_AND_OTH_BENES PRSCRPTN_DRUG_TOT_BENES  \\\n",
       "YEAR                                                                           \n",
       "2013-01-01             32831884             14789022                35679758   \n",
       "2013-01-01             647647.0             209972.0                637247.0   \n",
       "2013-01-01               5868.0               2840.0                  6036.0   \n",
       "\n",
       "           PRSCRPTN_DRUG_PDP_BENES PRSCRPTN_DRUG_MAPD_BENES  \\\n",
       "YEAR                                                          \n",
       "2013-01-01                22661451                 13018307   \n",
       "2013-01-01                437749.0                 199498.0   \n",
       "2013-01-01                  3268.0                   2767.0   \n",
       "\n",
       "           PRSCRPTN_DRUG_DEEMED_ELIGIBLE_FULL_LIS_BENES  \\\n",
       "YEAR                                                      \n",
       "2013-01-01                                     10000861   \n",
       "2013-01-01                                     205496.0   \n",
       "2013-01-01                                       1839.0   \n",
       "\n",
       "           PRSCRPTN_DRUG_FULL_LIS_BENES PRSCRPTN_DRUG_PARTIAL_LIS_BENES  \\\n",
       "YEAR                                                                      \n",
       "2013-01-01                    1030113.0                        409204.0   \n",
       "2013-01-01                      32790.0                         11452.0   \n",
       "2013-01-01                        296.0                           105.0   \n",
       "\n",
       "           PRSCRPTN_DRUG_NO_LIS_BENES  \n",
       "YEAR                                   \n",
       "2013-01-01                   24239580  \n",
       "2013-01-01                   387510.0  \n",
       "2013-01-01                     3796.0  \n",
       "\n",
       "[3 rows x 25 columns]"
      ]
     },
     "execution_count": 5,
     "metadata": {},
     "output_type": "execute_result"
    }
   ],
   "source": [
    "data.head(3)"
   ]
  },
  {
   "cell_type": "markdown",
   "id": "b2934211",
   "metadata": {
    "papermill": {
     "duration": 0.009062,
     "end_time": "2024-01-28T06:19:56.550700",
     "exception": false,
     "start_time": "2024-01-28T06:19:56.541638",
     "status": "completed"
    },
    "tags": []
   },
   "source": [
    "<h2 style=\"position: relative;\">\n",
    "    <span style=\"color: #6a89cc;\">2.2.</span> \n",
    "    <span style=\"color: #0c2461;\">information about Datasets</span> \n",
    "    <br/>\n",
    "    <br/>\n",
    "    <hr style=\"position: absolute; bottom: -8px; border: none; height: 4px; width: 100%; background-color: #6a89cc;\">\n",
    "</h2>"
   ]
  },
  {
   "cell_type": "code",
   "execution_count": 6,
   "id": "81603817",
   "metadata": {
    "execution": {
     "iopub.execute_input": "2024-01-28T06:19:56.571575Z",
     "iopub.status.busy": "2024-01-28T06:19:56.570861Z",
     "iopub.status.idle": "2024-01-28T06:19:56.576725Z",
     "shell.execute_reply": "2024-01-28T06:19:56.575703Z"
    },
    "papermill": {
     "duration": 0.018898,
     "end_time": "2024-01-28T06:19:56.579089",
     "exception": false,
     "start_time": "2024-01-28T06:19:56.560191",
     "status": "completed"
    },
    "tags": []
   },
   "outputs": [
    {
     "name": "stdout",
     "output_type": "stream",
     "text": [
      "The Dataset have 460290 rows and 25 columns.\n"
     ]
    }
   ],
   "source": [
    "row, col = data.shape\n",
    "print(\"The Dataset have\",row,\"rows and\",col,\"columns.\")"
   ]
  },
  {
   "cell_type": "code",
   "execution_count": 7,
   "id": "8f2bd305",
   "metadata": {
    "execution": {
     "iopub.execute_input": "2024-01-28T06:19:56.599663Z",
     "iopub.status.busy": "2024-01-28T06:19:56.599277Z",
     "iopub.status.idle": "2024-01-28T06:19:57.143675Z",
     "shell.execute_reply": "2024-01-28T06:19:57.142348Z"
    },
    "papermill": {
     "duration": 0.557436,
     "end_time": "2024-01-28T06:19:57.146054",
     "exception": false,
     "start_time": "2024-01-28T06:19:56.588618",
     "status": "completed"
    },
    "tags": []
   },
   "outputs": [
    {
     "name": "stdout",
     "output_type": "stream",
     "text": [
      "<class 'pandas.core.frame.DataFrame'>\n",
      "DatetimeIndex: 460290 entries, 2013-01-01 to 2023-01-01\n",
      "Data columns (total 25 columns):\n",
      " #   Column                                        Non-Null Count   Dtype \n",
      "---  ------                                        --------------   ----- \n",
      " 0   MONTH                                         460290 non-null  object\n",
      " 1   BENE_GEO_LVL                                  460290 non-null  object\n",
      " 2   BENE_STATE_ABRVTN                             460290 non-null  object\n",
      " 3   BENE_STATE_DESC                               460290 non-null  object\n",
      " 4   BENE_COUNTY_DESC                              460290 non-null  object\n",
      " 5   BENE_FIPS_CD                                  460290 non-null  object\n",
      " 6   TOT_BENES                                     460290 non-null  object\n",
      " 7   ORGNL_MDCR_BENES                              460290 non-null  object\n",
      " 8   MA_AND_OTH_BENES                              460290 non-null  object\n",
      " 9   AGED_TOT_BENES                                460290 non-null  object\n",
      " 10  AGED_ESRD_BENES                               460290 non-null  object\n",
      " 11  AGED_NO_ESRD_BENES                            460290 non-null  object\n",
      " 12  DSBLD_TOT_BENES                               460290 non-null  object\n",
      " 13  DSBLD_ESRD_AND_ESRD_ONLY_BENES                460290 non-null  object\n",
      " 14  DSBLD_NO_ESRD_BENES                           460290 non-null  object\n",
      " 15  A_B_TOT_BENES                                 460290 non-null  object\n",
      " 16  A_B_ORGNL_MDCR_BENES                          460290 non-null  object\n",
      " 17  A_B_MA_AND_OTH_BENES                          460290 non-null  object\n",
      " 18  PRSCRPTN_DRUG_TOT_BENES                       460290 non-null  object\n",
      " 19  PRSCRPTN_DRUG_PDP_BENES                       460290 non-null  object\n",
      " 20  PRSCRPTN_DRUG_MAPD_BENES                      460290 non-null  object\n",
      " 21  PRSCRPTN_DRUG_DEEMED_ELIGIBLE_FULL_LIS_BENES  460290 non-null  object\n",
      " 22  PRSCRPTN_DRUG_FULL_LIS_BENES                  460290 non-null  object\n",
      " 23  PRSCRPTN_DRUG_PARTIAL_LIS_BENES               460290 non-null  object\n",
      " 24  PRSCRPTN_DRUG_NO_LIS_BENES                    460290 non-null  object\n",
      "dtypes: object(25)\n",
      "memory usage: 91.3+ MB\n"
     ]
    }
   ],
   "source": [
    "#Check the structure of the dataframe\n",
    "data.info()"
   ]
  },
  {
   "cell_type": "code",
   "execution_count": 8,
   "id": "8c978695",
   "metadata": {
    "execution": {
     "iopub.execute_input": "2024-01-28T06:19:57.167069Z",
     "iopub.status.busy": "2024-01-28T06:19:57.166671Z",
     "iopub.status.idle": "2024-01-28T06:19:59.679085Z",
     "shell.execute_reply": "2024-01-28T06:19:59.677907Z"
    },
    "papermill": {
     "duration": 2.525609,
     "end_time": "2024-01-28T06:19:59.681375",
     "exception": false,
     "start_time": "2024-01-28T06:19:57.155766",
     "status": "completed"
    },
    "tags": []
   },
   "outputs": [
    {
     "data": {
      "text/html": [
       "<div>\n",
       "<style scoped>\n",
       "    .dataframe tbody tr th:only-of-type {\n",
       "        vertical-align: middle;\n",
       "    }\n",
       "\n",
       "    .dataframe tbody tr th {\n",
       "        vertical-align: top;\n",
       "    }\n",
       "\n",
       "    .dataframe thead th {\n",
       "        text-align: right;\n",
       "    }\n",
       "</style>\n",
       "<table border=\"1\" class=\"dataframe\">\n",
       "  <thead>\n",
       "    <tr style=\"text-align: right;\">\n",
       "      <th></th>\n",
       "      <th>MONTH</th>\n",
       "      <th>BENE_GEO_LVL</th>\n",
       "      <th>BENE_STATE_ABRVTN</th>\n",
       "      <th>BENE_STATE_DESC</th>\n",
       "      <th>BENE_COUNTY_DESC</th>\n",
       "      <th>BENE_FIPS_CD</th>\n",
       "      <th>TOT_BENES</th>\n",
       "      <th>ORGNL_MDCR_BENES</th>\n",
       "      <th>MA_AND_OTH_BENES</th>\n",
       "      <th>AGED_TOT_BENES</th>\n",
       "      <th>...</th>\n",
       "      <th>A_B_TOT_BENES</th>\n",
       "      <th>A_B_ORGNL_MDCR_BENES</th>\n",
       "      <th>A_B_MA_AND_OTH_BENES</th>\n",
       "      <th>PRSCRPTN_DRUG_TOT_BENES</th>\n",
       "      <th>PRSCRPTN_DRUG_PDP_BENES</th>\n",
       "      <th>PRSCRPTN_DRUG_MAPD_BENES</th>\n",
       "      <th>PRSCRPTN_DRUG_DEEMED_ELIGIBLE_FULL_LIS_BENES</th>\n",
       "      <th>PRSCRPTN_DRUG_FULL_LIS_BENES</th>\n",
       "      <th>PRSCRPTN_DRUG_PARTIAL_LIS_BENES</th>\n",
       "      <th>PRSCRPTN_DRUG_NO_LIS_BENES</th>\n",
       "    </tr>\n",
       "  </thead>\n",
       "  <tbody>\n",
       "    <tr>\n",
       "      <th>count</th>\n",
       "      <td>460290</td>\n",
       "      <td>460290</td>\n",
       "      <td>460290</td>\n",
       "      <td>460290</td>\n",
       "      <td>460290</td>\n",
       "      <td>460290</td>\n",
       "      <td>460290</td>\n",
       "      <td>460290</td>\n",
       "      <td>460290</td>\n",
       "      <td>460290</td>\n",
       "      <td>...</td>\n",
       "      <td>460290</td>\n",
       "      <td>460290</td>\n",
       "      <td>460290</td>\n",
       "      <td>460290</td>\n",
       "      <td>460290</td>\n",
       "      <td>460290</td>\n",
       "      <td>460290</td>\n",
       "      <td>460290</td>\n",
       "      <td>460290</td>\n",
       "      <td>460290</td>\n",
       "    </tr>\n",
       "    <tr>\n",
       "      <th>unique</th>\n",
       "      <td>13</td>\n",
       "      <td>3</td>\n",
       "      <td>59</td>\n",
       "      <td>59</td>\n",
       "      <td>1931</td>\n",
       "      <td>3338</td>\n",
       "      <td>79910</td>\n",
       "      <td>64457</td>\n",
       "      <td>50211</td>\n",
       "      <td>74222</td>\n",
       "      <td>...</td>\n",
       "      <td>76732</td>\n",
       "      <td>60221</td>\n",
       "      <td>50152</td>\n",
       "      <td>68994</td>\n",
       "      <td>52106</td>\n",
       "      <td>47287</td>\n",
       "      <td>34782</td>\n",
       "      <td>11266</td>\n",
       "      <td>6931</td>\n",
       "      <td>59910</td>\n",
       "    </tr>\n",
       "    <tr>\n",
       "      <th>top</th>\n",
       "      <td>January</td>\n",
       "      <td>County</td>\n",
       "      <td>TX</td>\n",
       "      <td>Texas</td>\n",
       "      <td>Total</td>\n",
       "      <td></td>\n",
       "      <td>*</td>\n",
       "      <td>*</td>\n",
       "      <td>*</td>\n",
       "      <td>*</td>\n",
       "      <td>...</td>\n",
       "      <td>*</td>\n",
       "      <td>*</td>\n",
       "      <td>*</td>\n",
       "      <td>*</td>\n",
       "      <td>*</td>\n",
       "      <td>*</td>\n",
       "      <td>*</td>\n",
       "      <td>*</td>\n",
       "      <td>*</td>\n",
       "      <td>*</td>\n",
       "    </tr>\n",
       "    <tr>\n",
       "      <th>freq</th>\n",
       "      <td>36690</td>\n",
       "      <td>452148</td>\n",
       "      <td>35328</td>\n",
       "      <td>35328</td>\n",
       "      <td>8004</td>\n",
       "      <td>276</td>\n",
       "      <td>7518</td>\n",
       "      <td>15439</td>\n",
       "      <td>15439</td>\n",
       "      <td>10483</td>\n",
       "      <td>...</td>\n",
       "      <td>7544</td>\n",
       "      <td>15444</td>\n",
       "      <td>15444</td>\n",
       "      <td>7656</td>\n",
       "      <td>22727</td>\n",
       "      <td>22727</td>\n",
       "      <td>9675</td>\n",
       "      <td>85130</td>\n",
       "      <td>85130</td>\n",
       "      <td>9675</td>\n",
       "    </tr>\n",
       "  </tbody>\n",
       "</table>\n",
       "<p>4 rows × 25 columns</p>\n",
       "</div>"
      ],
      "text/plain": [
       "          MONTH BENE_GEO_LVL BENE_STATE_ABRVTN BENE_STATE_DESC  \\\n",
       "count    460290       460290            460290          460290   \n",
       "unique       13            3                59              59   \n",
       "top     January       County                TX           Texas   \n",
       "freq      36690       452148             35328           35328   \n",
       "\n",
       "       BENE_COUNTY_DESC BENE_FIPS_CD TOT_BENES ORGNL_MDCR_BENES  \\\n",
       "count            460290       460290    460290           460290   \n",
       "unique             1931         3338     79910            64457   \n",
       "top               Total                      *                *   \n",
       "freq               8004          276      7518            15439   \n",
       "\n",
       "       MA_AND_OTH_BENES AGED_TOT_BENES  ... A_B_TOT_BENES  \\\n",
       "count            460290         460290  ...        460290   \n",
       "unique            50211          74222  ...         76732   \n",
       "top                   *              *  ...             *   \n",
       "freq              15439          10483  ...          7544   \n",
       "\n",
       "       A_B_ORGNL_MDCR_BENES A_B_MA_AND_OTH_BENES PRSCRPTN_DRUG_TOT_BENES  \\\n",
       "count                460290               460290                  460290   \n",
       "unique                60221                50152                   68994   \n",
       "top                       *                    *                       *   \n",
       "freq                  15444                15444                    7656   \n",
       "\n",
       "       PRSCRPTN_DRUG_PDP_BENES PRSCRPTN_DRUG_MAPD_BENES  \\\n",
       "count                   460290                   460290   \n",
       "unique                   52106                    47287   \n",
       "top                          *                        *   \n",
       "freq                     22727                    22727   \n",
       "\n",
       "       PRSCRPTN_DRUG_DEEMED_ELIGIBLE_FULL_LIS_BENES  \\\n",
       "count                                        460290   \n",
       "unique                                        34782   \n",
       "top                                               *   \n",
       "freq                                           9675   \n",
       "\n",
       "       PRSCRPTN_DRUG_FULL_LIS_BENES PRSCRPTN_DRUG_PARTIAL_LIS_BENES  \\\n",
       "count                        460290                          460290   \n",
       "unique                        11266                            6931   \n",
       "top                               *                               *   \n",
       "freq                          85130                           85130   \n",
       "\n",
       "       PRSCRPTN_DRUG_NO_LIS_BENES  \n",
       "count                      460290  \n",
       "unique                      59910  \n",
       "top                             *  \n",
       "freq                         9675  \n",
       "\n",
       "[4 rows x 25 columns]"
      ]
     },
     "execution_count": 8,
     "metadata": {},
     "output_type": "execute_result"
    }
   ],
   "source": [
    "data.describe(include = \"object\")"
   ]
  },
  {
   "cell_type": "markdown",
   "id": "8efd0a7c",
   "metadata": {
    "papermill": {
     "duration": 0.009789,
     "end_time": "2024-01-28T06:19:59.701194",
     "exception": false,
     "start_time": "2024-01-28T06:19:59.691405",
     "status": "completed"
    },
    "tags": []
   },
   "source": [
    "<h3 style=\"color: #0c2461;\">Observations</h3>\n",
    "<h5 style=\"color: #0c2461;\">Most of the columns have object datatype. Conversion is required from object type to Integer for all columns which have counts of beneficiaries.</h5>"
   ]
  },
  {
   "cell_type": "markdown",
   "id": "b0099d68",
   "metadata": {
    "papermill": {
     "duration": 0.009624,
     "end_time": "2024-01-28T06:19:59.721222",
     "exception": false,
     "start_time": "2024-01-28T06:19:59.711598",
     "status": "completed"
    },
    "tags": []
   },
   "source": [
    "<h3 style=\"color: #0c2461;\">Few more observations</h3>\n",
    "<h5 style=\"color: #0c2461;\">The columns have values like \"*\". This should be replaced by 0. Conversion is required from object type to Integer for all columns which have counts of beneficiaries.</h5>"
   ]
  },
  {
   "cell_type": "code",
   "execution_count": 9,
   "id": "8d293cd1",
   "metadata": {
    "execution": {
     "iopub.execute_input": "2024-01-28T06:19:59.801339Z",
     "iopub.status.busy": "2024-01-28T06:19:59.800945Z",
     "iopub.status.idle": "2024-01-28T06:19:59.944076Z",
     "shell.execute_reply": "2024-01-28T06:19:59.943042Z"
    },
    "papermill": {
     "duration": 0.15705,
     "end_time": "2024-01-28T06:19:59.946513",
     "exception": false,
     "start_time": "2024-01-28T06:19:59.789463",
     "status": "completed"
    },
    "tags": []
   },
   "outputs": [
    {
     "data": {
      "text/plain": [
       "array(['*', '0.0', '100.0', ..., '99994.0', '99995.0', '99997.0'],\n",
       "      dtype=object)"
      ]
     },
     "execution_count": 9,
     "metadata": {},
     "output_type": "execute_result"
    }
   ],
   "source": [
    "# get all the unique values in the 'TOT_BENS' column\n",
    "Total_ben = data['TOT_BENES'].unique()\n",
    "\n",
    "# sort them alphabetically and then take a closer look\n",
    "Total_ben.sort()\n",
    "Total_ben"
   ]
  },
  {
   "cell_type": "code",
   "execution_count": 10,
   "id": "ee661f5c",
   "metadata": {
    "execution": {
     "iopub.execute_input": "2024-01-28T06:19:59.968713Z",
     "iopub.status.busy": "2024-01-28T06:19:59.968359Z",
     "iopub.status.idle": "2024-01-28T06:19:59.988050Z",
     "shell.execute_reply": "2024-01-28T06:19:59.987185Z"
    },
    "papermill": {
     "duration": 0.03312,
     "end_time": "2024-01-28T06:19:59.990033",
     "exception": false,
     "start_time": "2024-01-28T06:19:59.956913",
     "status": "completed"
    },
    "tags": []
   },
   "outputs": [
    {
     "data": {
      "text/plain": [
       "7518"
      ]
     },
     "execution_count": 10,
     "metadata": {},
     "output_type": "execute_result"
    }
   ],
   "source": [
    "data[\"TOT_BENES\"].isin([\"*\"]).sum()"
   ]
  },
  {
   "cell_type": "code",
   "execution_count": 11,
   "id": "a8c13f33",
   "metadata": {
    "execution": {
     "iopub.execute_input": "2024-01-28T06:20:00.012736Z",
     "iopub.status.busy": "2024-01-28T06:20:00.012343Z",
     "iopub.status.idle": "2024-01-28T06:20:00.031437Z",
     "shell.execute_reply": "2024-01-28T06:20:00.030326Z"
    },
    "papermill": {
     "duration": 0.033291,
     "end_time": "2024-01-28T06:20:00.033797",
     "exception": false,
     "start_time": "2024-01-28T06:20:00.000506",
     "status": "completed"
    },
    "tags": []
   },
   "outputs": [
    {
     "data": {
      "text/plain": [
       "10483"
      ]
     },
     "execution_count": 11,
     "metadata": {},
     "output_type": "execute_result"
    }
   ],
   "source": [
    "data[\"DSBLD_TOT_BENES\"].isin([\"*\"]).sum()"
   ]
  },
  {
   "cell_type": "code",
   "execution_count": 12,
   "id": "7b630fbb",
   "metadata": {
    "execution": {
     "iopub.execute_input": "2024-01-28T06:20:00.056862Z",
     "iopub.status.busy": "2024-01-28T06:20:00.056478Z",
     "iopub.status.idle": "2024-01-28T06:20:00.076761Z",
     "shell.execute_reply": "2024-01-28T06:20:00.075664Z"
    },
    "papermill": {
     "duration": 0.03458,
     "end_time": "2024-01-28T06:20:00.078987",
     "exception": false,
     "start_time": "2024-01-28T06:20:00.044407",
     "status": "completed"
    },
    "tags": []
   },
   "outputs": [
    {
     "data": {
      "text/plain": [
       "15439"
      ]
     },
     "execution_count": 12,
     "metadata": {},
     "output_type": "execute_result"
    }
   ],
   "source": [
    "data[\"ORGNL_MDCR_BENES\"].isin([\"*\"]).sum()"
   ]
  },
  {
   "cell_type": "code",
   "execution_count": 13,
   "id": "41892636",
   "metadata": {
    "execution": {
     "iopub.execute_input": "2024-01-28T06:20:00.102351Z",
     "iopub.status.busy": "2024-01-28T06:20:00.101987Z",
     "iopub.status.idle": "2024-01-28T06:20:00.122384Z",
     "shell.execute_reply": "2024-01-28T06:20:00.121311Z"
    },
    "papermill": {
     "duration": 0.034596,
     "end_time": "2024-01-28T06:20:00.124529",
     "exception": false,
     "start_time": "2024-01-28T06:20:00.089933",
     "status": "completed"
    },
    "tags": []
   },
   "outputs": [
    {
     "data": {
      "text/plain": [
       "10483"
      ]
     },
     "execution_count": 13,
     "metadata": {},
     "output_type": "execute_result"
    }
   ],
   "source": [
    "data[\"AGED_TOT_BENES\"].isin([\"*\"]).sum()"
   ]
  },
  {
   "cell_type": "code",
   "execution_count": 14,
   "id": "589f0701",
   "metadata": {
    "execution": {
     "iopub.execute_input": "2024-01-28T06:20:00.148023Z",
     "iopub.status.busy": "2024-01-28T06:20:00.147634Z",
     "iopub.status.idle": "2024-01-28T06:20:00.166923Z",
     "shell.execute_reply": "2024-01-28T06:20:00.165908Z"
    },
    "papermill": {
     "duration": 0.03382,
     "end_time": "2024-01-28T06:20:00.169261",
     "exception": false,
     "start_time": "2024-01-28T06:20:00.135441",
     "status": "completed"
    },
    "tags": []
   },
   "outputs": [
    {
     "data": {
      "text/plain": [
       "15439"
      ]
     },
     "execution_count": 14,
     "metadata": {},
     "output_type": "execute_result"
    }
   ],
   "source": [
    "data[\"MA_AND_OTH_BENES\"].isin([\"*\"]).sum()"
   ]
  },
  {
   "cell_type": "code",
   "execution_count": 15,
   "id": "8d6df237",
   "metadata": {
    "execution": {
     "iopub.execute_input": "2024-01-28T06:20:00.192990Z",
     "iopub.status.busy": "2024-01-28T06:20:00.192571Z",
     "iopub.status.idle": "2024-01-28T06:20:00.706615Z",
     "shell.execute_reply": "2024-01-28T06:20:00.705513Z"
    },
    "papermill": {
     "duration": 0.529128,
     "end_time": "2024-01-28T06:20:00.709397",
     "exception": false,
     "start_time": "2024-01-28T06:20:00.180269",
     "status": "completed"
    },
    "tags": []
   },
   "outputs": [
    {
     "data": {
      "text/plain": [
       "MONTH                                           0\n",
       "BENE_GEO_LVL                                    0\n",
       "BENE_STATE_ABRVTN                               0\n",
       "BENE_STATE_DESC                                 0\n",
       "BENE_COUNTY_DESC                                0\n",
       "BENE_FIPS_CD                                    0\n",
       "TOT_BENES                                       0\n",
       "ORGNL_MDCR_BENES                                0\n",
       "MA_AND_OTH_BENES                                0\n",
       "AGED_TOT_BENES                                  0\n",
       "AGED_ESRD_BENES                                 0\n",
       "AGED_NO_ESRD_BENES                              0\n",
       "DSBLD_TOT_BENES                                 0\n",
       "DSBLD_ESRD_AND_ESRD_ONLY_BENES                  0\n",
       "DSBLD_NO_ESRD_BENES                             0\n",
       "A_B_TOT_BENES                                   0\n",
       "A_B_ORGNL_MDCR_BENES                            0\n",
       "A_B_MA_AND_OTH_BENES                            0\n",
       "PRSCRPTN_DRUG_TOT_BENES                         0\n",
       "PRSCRPTN_DRUG_PDP_BENES                         0\n",
       "PRSCRPTN_DRUG_MAPD_BENES                        0\n",
       "PRSCRPTN_DRUG_DEEMED_ELIGIBLE_FULL_LIS_BENES    0\n",
       "PRSCRPTN_DRUG_FULL_LIS_BENES                    0\n",
       "PRSCRPTN_DRUG_PARTIAL_LIS_BENES                 0\n",
       "PRSCRPTN_DRUG_NO_LIS_BENES                      0\n",
       "dtype: int64"
      ]
     },
     "execution_count": 15,
     "metadata": {},
     "output_type": "execute_result"
    }
   ],
   "source": [
    "# get the number of missing data points per column\n",
    "missing_values_count = data.isnull().sum()\n",
    "# look at the # of missing points in the first ten columns\n",
    "missing_values_count[0:26]"
   ]
  },
  {
   "cell_type": "markdown",
   "id": "1adb86e9",
   "metadata": {
    "papermill": {
     "duration": 0.010871,
     "end_time": "2024-01-28T06:20:00.731547",
     "exception": false,
     "start_time": "2024-01-28T06:20:00.720676",
     "status": "completed"
    },
    "tags": []
   },
   "source": [
    "<h3 style=\"color: #0c2461;\">Observations</h3>\n",
    "<h5 style=\"color: #0c2461;\">No missing values in the dataset.</h5>"
   ]
  },
  {
   "cell_type": "markdown",
   "id": "bfd2f762",
   "metadata": {
    "papermill": {
     "duration": 0.010847,
     "end_time": "2024-01-28T06:20:00.754239",
     "exception": false,
     "start_time": "2024-01-28T06:20:00.743392",
     "status": "completed"
    },
    "tags": []
   },
   "source": [
    "<h2 style=\"position: relative;\">\n",
    "    <span style=\"color: #6a89cc;\">3.</span> \n",
    "    <span style=\"color: #0c2461;\">Cleaning the Dataset</span> \n",
    "    <br/>\n",
    "</h2>\n"
   ]
  },
  {
   "cell_type": "code",
   "execution_count": 16,
   "id": "1c2f1ece",
   "metadata": {
    "execution": {
     "iopub.execute_input": "2024-01-28T06:20:00.778850Z",
     "iopub.status.busy": "2024-01-28T06:20:00.778240Z",
     "iopub.status.idle": "2024-01-28T06:20:01.597208Z",
     "shell.execute_reply": "2024-01-28T06:20:01.595947Z"
    },
    "papermill": {
     "duration": 0.834373,
     "end_time": "2024-01-28T06:20:01.599755",
     "exception": false,
     "start_time": "2024-01-28T06:20:00.765382",
     "status": "completed"
    },
    "tags": []
   },
   "outputs": [],
   "source": [
    "data['TOT_BENES'] = pd.to_numeric(data['TOT_BENES'], errors='coerce').fillna(0).astype(int) \n",
    "data['DSBLD_TOT_BENES'] = pd.to_numeric(data['DSBLD_TOT_BENES'], errors='coerce').fillna(0).astype(int) \n",
    "data['AGED_TOT_BENES'] = pd.to_numeric(data['AGED_TOT_BENES'], errors='coerce').fillna(0).astype(int) \n",
    "data['ORGNL_MDCR_BENES'] = pd.to_numeric(data['ORGNL_MDCR_BENES'], errors='coerce').fillna(0).astype(int) \n",
    "data['MA_AND_OTH_BENES'] = pd.to_numeric(data['MA_AND_OTH_BENES'], errors='coerce').fillna(0).astype(int) "
   ]
  },
  {
   "cell_type": "code",
   "execution_count": 17,
   "id": "3c302f42",
   "metadata": {
    "execution": {
     "iopub.execute_input": "2024-01-28T06:20:01.625403Z",
     "iopub.status.busy": "2024-01-28T06:20:01.625000Z",
     "iopub.status.idle": "2024-01-28T06:20:01.630753Z",
     "shell.execute_reply": "2024-01-28T06:20:01.629994Z"
    },
    "papermill": {
     "duration": 0.020835,
     "end_time": "2024-01-28T06:20:01.632925",
     "exception": false,
     "start_time": "2024-01-28T06:20:01.612090",
     "status": "completed"
    },
    "tags": []
   },
   "outputs": [],
   "source": [
    "## remove all the rows that contain a missing value\n",
    "#nfl_data.dropna()\n",
    "#df.replace('*', pd.NA, inplace=True)"
   ]
  },
  {
   "cell_type": "code",
   "execution_count": 18,
   "id": "e6c34c0e",
   "metadata": {
    "execution": {
     "iopub.execute_input": "2024-01-28T06:20:01.657709Z",
     "iopub.status.busy": "2024-01-28T06:20:01.657357Z",
     "iopub.status.idle": "2024-01-28T06:20:02.086718Z",
     "shell.execute_reply": "2024-01-28T06:20:02.085067Z"
    },
    "papermill": {
     "duration": 0.444856,
     "end_time": "2024-01-28T06:20:02.089655",
     "exception": false,
     "start_time": "2024-01-28T06:20:01.644799",
     "status": "completed"
    },
    "tags": []
   },
   "outputs": [
    {
     "name": "stdout",
     "output_type": "stream",
     "text": [
      "<class 'pandas.core.frame.DataFrame'>\n",
      "DatetimeIndex: 460290 entries, 2013-01-01 to 2023-01-01\n",
      "Data columns (total 25 columns):\n",
      " #   Column                                        Non-Null Count   Dtype \n",
      "---  ------                                        --------------   ----- \n",
      " 0   MONTH                                         460290 non-null  object\n",
      " 1   BENE_GEO_LVL                                  460290 non-null  object\n",
      " 2   BENE_STATE_ABRVTN                             460290 non-null  object\n",
      " 3   BENE_STATE_DESC                               460290 non-null  object\n",
      " 4   BENE_COUNTY_DESC                              460290 non-null  object\n",
      " 5   BENE_FIPS_CD                                  460290 non-null  object\n",
      " 6   TOT_BENES                                     460290 non-null  int64 \n",
      " 7   ORGNL_MDCR_BENES                              460290 non-null  int64 \n",
      " 8   MA_AND_OTH_BENES                              460290 non-null  int64 \n",
      " 9   AGED_TOT_BENES                                460290 non-null  int64 \n",
      " 10  AGED_ESRD_BENES                               460290 non-null  object\n",
      " 11  AGED_NO_ESRD_BENES                            460290 non-null  object\n",
      " 12  DSBLD_TOT_BENES                               460290 non-null  int64 \n",
      " 13  DSBLD_ESRD_AND_ESRD_ONLY_BENES                460290 non-null  object\n",
      " 14  DSBLD_NO_ESRD_BENES                           460290 non-null  object\n",
      " 15  A_B_TOT_BENES                                 460290 non-null  object\n",
      " 16  A_B_ORGNL_MDCR_BENES                          460290 non-null  object\n",
      " 17  A_B_MA_AND_OTH_BENES                          460290 non-null  object\n",
      " 18  PRSCRPTN_DRUG_TOT_BENES                       460290 non-null  object\n",
      " 19  PRSCRPTN_DRUG_PDP_BENES                       460290 non-null  object\n",
      " 20  PRSCRPTN_DRUG_MAPD_BENES                      460290 non-null  object\n",
      " 21  PRSCRPTN_DRUG_DEEMED_ELIGIBLE_FULL_LIS_BENES  460290 non-null  object\n",
      " 22  PRSCRPTN_DRUG_FULL_LIS_BENES                  460290 non-null  object\n",
      " 23  PRSCRPTN_DRUG_PARTIAL_LIS_BENES               460290 non-null  object\n",
      " 24  PRSCRPTN_DRUG_NO_LIS_BENES                    460290 non-null  object\n",
      "dtypes: int64(5), object(20)\n",
      "memory usage: 91.3+ MB\n"
     ]
    }
   ],
   "source": [
    "#Check the structure of the dataframe\n",
    "data.info()"
   ]
  },
  {
   "cell_type": "markdown",
   "id": "76c161a6",
   "metadata": {
    "papermill": {
     "duration": 0.011389,
     "end_time": "2024-01-28T06:20:02.113028",
     "exception": false,
     "start_time": "2024-01-28T06:20:02.101639",
     "status": "completed"
    },
    "tags": []
   },
   "source": [
    "<h3 style=\"color: #0c2461;\">Observations</h3>\n",
    "<h5 style=\"color: #0c2461;\">Conversion done for the specified columns from object type to Integer.</h5>"
   ]
  },
  {
   "cell_type": "code",
   "execution_count": 19,
   "id": "d1c2ef7c",
   "metadata": {
    "execution": {
     "iopub.execute_input": "2024-01-28T06:20:02.138667Z",
     "iopub.status.busy": "2024-01-28T06:20:02.137985Z",
     "iopub.status.idle": "2024-01-28T06:20:02.159944Z",
     "shell.execute_reply": "2024-01-28T06:20:02.158692Z"
    },
    "papermill": {
     "duration": 0.03788,
     "end_time": "2024-01-28T06:20:02.162561",
     "exception": false,
     "start_time": "2024-01-28T06:20:02.124681",
     "status": "completed"
    },
    "tags": []
   },
   "outputs": [
    {
     "data": {
      "text/plain": [
       "array([       0,       11,       12, ..., 66180745, 66261300, 66338178])"
      ]
     },
     "execution_count": 19,
     "metadata": {},
     "output_type": "execute_result"
    }
   ],
   "source": [
    "# get all the unique values in the 'TOT_BENS' column\n",
    "Total_ben = data['TOT_BENES'].unique()\n",
    "\n",
    "# sort them alphabetically and then take a closer look\n",
    "Total_ben.sort()\n",
    "Total_ben"
   ]
  },
  {
   "cell_type": "code",
   "execution_count": 20,
   "id": "73a51cc7",
   "metadata": {
    "execution": {
     "iopub.execute_input": "2024-01-28T06:20:02.187652Z",
     "iopub.status.busy": "2024-01-28T06:20:02.187260Z",
     "iopub.status.idle": "2024-01-28T06:20:02.226642Z",
     "shell.execute_reply": "2024-01-28T06:20:02.225592Z"
    },
    "papermill": {
     "duration": 0.054822,
     "end_time": "2024-01-28T06:20:02.229075",
     "exception": false,
     "start_time": "2024-01-28T06:20:02.174253",
     "status": "completed"
    },
    "tags": []
   },
   "outputs": [
    {
     "data": {
      "text/plain": [
       "0"
      ]
     },
     "execution_count": 20,
     "metadata": {},
     "output_type": "execute_result"
    }
   ],
   "source": [
    "data[\"TOT_BENES\"].isin([\"*\"]).sum()"
   ]
  },
  {
   "cell_type": "code",
   "execution_count": 21,
   "id": "0a42afe0",
   "metadata": {
    "execution": {
     "iopub.execute_input": "2024-01-28T06:20:02.254971Z",
     "iopub.status.busy": "2024-01-28T06:20:02.254570Z",
     "iopub.status.idle": "2024-01-28T06:20:02.293137Z",
     "shell.execute_reply": "2024-01-28T06:20:02.291944Z"
    },
    "papermill": {
     "duration": 0.054944,
     "end_time": "2024-01-28T06:20:02.295753",
     "exception": false,
     "start_time": "2024-01-28T06:20:02.240809",
     "status": "completed"
    },
    "tags": []
   },
   "outputs": [
    {
     "data": {
      "text/plain": [
       "0"
      ]
     },
     "execution_count": 21,
     "metadata": {},
     "output_type": "execute_result"
    }
   ],
   "source": [
    "data[\"ORGNL_MDCR_BENES\"].isin([\"*\"]).sum()"
   ]
  },
  {
   "cell_type": "code",
   "execution_count": 22,
   "id": "69324155",
   "metadata": {
    "execution": {
     "iopub.execute_input": "2024-01-28T06:20:02.321813Z",
     "iopub.status.busy": "2024-01-28T06:20:02.321447Z",
     "iopub.status.idle": "2024-01-28T06:20:02.327590Z",
     "shell.execute_reply": "2024-01-28T06:20:02.326302Z"
    },
    "papermill": {
     "duration": 0.022883,
     "end_time": "2024-01-28T06:20:02.330514",
     "exception": false,
     "start_time": "2024-01-28T06:20:02.307631",
     "status": "completed"
    },
    "tags": []
   },
   "outputs": [
    {
     "name": "stdout",
     "output_type": "stream",
     "text": [
      "Index(['MONTH', 'BENE_GEO_LVL', 'BENE_STATE_ABRVTN', 'BENE_STATE_DESC',\n",
      "       'BENE_COUNTY_DESC', 'BENE_FIPS_CD', 'TOT_BENES', 'ORGNL_MDCR_BENES',\n",
      "       'MA_AND_OTH_BENES', 'AGED_TOT_BENES', 'AGED_ESRD_BENES',\n",
      "       'AGED_NO_ESRD_BENES', 'DSBLD_TOT_BENES',\n",
      "       'DSBLD_ESRD_AND_ESRD_ONLY_BENES', 'DSBLD_NO_ESRD_BENES',\n",
      "       'A_B_TOT_BENES', 'A_B_ORGNL_MDCR_BENES', 'A_B_MA_AND_OTH_BENES',\n",
      "       'PRSCRPTN_DRUG_TOT_BENES', 'PRSCRPTN_DRUG_PDP_BENES',\n",
      "       'PRSCRPTN_DRUG_MAPD_BENES',\n",
      "       'PRSCRPTN_DRUG_DEEMED_ELIGIBLE_FULL_LIS_BENES',\n",
      "       'PRSCRPTN_DRUG_FULL_LIS_BENES', 'PRSCRPTN_DRUG_PARTIAL_LIS_BENES',\n",
      "       'PRSCRPTN_DRUG_NO_LIS_BENES'],\n",
      "      dtype='object')\n"
     ]
    }
   ],
   "source": [
    "print(data.columns)"
   ]
  },
  {
   "cell_type": "code",
   "execution_count": 23,
   "id": "6b325267",
   "metadata": {
    "execution": {
     "iopub.execute_input": "2024-01-28T06:20:02.358887Z",
     "iopub.status.busy": "2024-01-28T06:20:02.357846Z",
     "iopub.status.idle": "2024-01-28T06:20:02.418558Z",
     "shell.execute_reply": "2024-01-28T06:20:02.417364Z"
    },
    "papermill": {
     "duration": 0.078528,
     "end_time": "2024-01-28T06:20:02.421142",
     "exception": false,
     "start_time": "2024-01-28T06:20:02.342614",
     "status": "completed"
    },
    "tags": []
   },
   "outputs": [],
   "source": [
    "df1 = data[data['BENE_COUNTY_DESC'] == \"Total\"]\n",
    "df2 = df1[df1['MONTH'] == \"Year\"]\n",
    "df3 = df2[df2['BENE_STATE_DESC'] == \"National\"]"
   ]
  },
  {
   "cell_type": "code",
   "execution_count": 24,
   "id": "4018586d",
   "metadata": {
    "execution": {
     "iopub.execute_input": "2024-01-28T06:20:02.446870Z",
     "iopub.status.busy": "2024-01-28T06:20:02.446200Z",
     "iopub.status.idle": "2024-01-28T06:20:02.451055Z",
     "shell.execute_reply": "2024-01-28T06:20:02.450144Z"
    },
    "papermill": {
     "duration": 0.020243,
     "end_time": "2024-01-28T06:20:02.453324",
     "exception": false,
     "start_time": "2024-01-28T06:20:02.433081",
     "status": "completed"
    },
    "tags": []
   },
   "outputs": [
    {
     "name": "stdout",
     "output_type": "stream",
     "text": [
      "The Dataset have 10 rows and 25 columns.\n"
     ]
    }
   ],
   "source": [
    "row, col = df3.shape\n",
    "print(\"The Dataset have\",row,\"rows and\",col,\"columns.\")"
   ]
  },
  {
   "cell_type": "code",
   "execution_count": 25,
   "id": "9125be1e",
   "metadata": {
    "execution": {
     "iopub.execute_input": "2024-01-28T06:20:02.478789Z",
     "iopub.status.busy": "2024-01-28T06:20:02.478419Z",
     "iopub.status.idle": "2024-01-28T06:20:02.505131Z",
     "shell.execute_reply": "2024-01-28T06:20:02.503797Z"
    },
    "papermill": {
     "duration": 0.042306,
     "end_time": "2024-01-28T06:20:02.507580",
     "exception": false,
     "start_time": "2024-01-28T06:20:02.465274",
     "status": "completed"
    },
    "tags": []
   },
   "outputs": [
    {
     "data": {
      "text/html": [
       "<div>\n",
       "<style scoped>\n",
       "    .dataframe tbody tr th:only-of-type {\n",
       "        vertical-align: middle;\n",
       "    }\n",
       "\n",
       "    .dataframe tbody tr th {\n",
       "        vertical-align: top;\n",
       "    }\n",
       "\n",
       "    .dataframe thead th {\n",
       "        text-align: right;\n",
       "    }\n",
       "</style>\n",
       "<table border=\"1\" class=\"dataframe\">\n",
       "  <thead>\n",
       "    <tr style=\"text-align: right;\">\n",
       "      <th></th>\n",
       "      <th>MONTH</th>\n",
       "      <th>BENE_GEO_LVL</th>\n",
       "      <th>BENE_STATE_ABRVTN</th>\n",
       "      <th>BENE_STATE_DESC</th>\n",
       "      <th>BENE_COUNTY_DESC</th>\n",
       "      <th>BENE_FIPS_CD</th>\n",
       "      <th>TOT_BENES</th>\n",
       "      <th>ORGNL_MDCR_BENES</th>\n",
       "      <th>MA_AND_OTH_BENES</th>\n",
       "      <th>AGED_TOT_BENES</th>\n",
       "      <th>...</th>\n",
       "      <th>A_B_TOT_BENES</th>\n",
       "      <th>A_B_ORGNL_MDCR_BENES</th>\n",
       "      <th>A_B_MA_AND_OTH_BENES</th>\n",
       "      <th>PRSCRPTN_DRUG_TOT_BENES</th>\n",
       "      <th>PRSCRPTN_DRUG_PDP_BENES</th>\n",
       "      <th>PRSCRPTN_DRUG_MAPD_BENES</th>\n",
       "      <th>PRSCRPTN_DRUG_DEEMED_ELIGIBLE_FULL_LIS_BENES</th>\n",
       "      <th>PRSCRPTN_DRUG_FULL_LIS_BENES</th>\n",
       "      <th>PRSCRPTN_DRUG_PARTIAL_LIS_BENES</th>\n",
       "      <th>PRSCRPTN_DRUG_NO_LIS_BENES</th>\n",
       "    </tr>\n",
       "    <tr>\n",
       "      <th>YEAR</th>\n",
       "      <th></th>\n",
       "      <th></th>\n",
       "      <th></th>\n",
       "      <th></th>\n",
       "      <th></th>\n",
       "      <th></th>\n",
       "      <th></th>\n",
       "      <th></th>\n",
       "      <th></th>\n",
       "      <th></th>\n",
       "      <th></th>\n",
       "      <th></th>\n",
       "      <th></th>\n",
       "      <th></th>\n",
       "      <th></th>\n",
       "      <th></th>\n",
       "      <th></th>\n",
       "      <th></th>\n",
       "      <th></th>\n",
       "      <th></th>\n",
       "      <th></th>\n",
       "    </tr>\n",
       "  </thead>\n",
       "  <tbody>\n",
       "    <tr>\n",
       "      <th>2013-01-01</th>\n",
       "      <td>Year</td>\n",
       "      <td>National</td>\n",
       "      <td>US</td>\n",
       "      <td>National</td>\n",
       "      <td>Total</td>\n",
       "      <td></td>\n",
       "      <td>52425659</td>\n",
       "      <td>37613096</td>\n",
       "      <td>14812563</td>\n",
       "      <td>43761388</td>\n",
       "      <td>...</td>\n",
       "      <td>47620905</td>\n",
       "      <td>32831884</td>\n",
       "      <td>14789022</td>\n",
       "      <td>35679758</td>\n",
       "      <td>22661451</td>\n",
       "      <td>13018307</td>\n",
       "      <td>10000861</td>\n",
       "      <td>1030113.0</td>\n",
       "      <td>409204.0</td>\n",
       "      <td>24239580</td>\n",
       "    </tr>\n",
       "    <tr>\n",
       "      <th>2014-01-01</th>\n",
       "      <td>Year</td>\n",
       "      <td>National</td>\n",
       "      <td>US</td>\n",
       "      <td>National</td>\n",
       "      <td>Total</td>\n",
       "      <td></td>\n",
       "      <td>54013038</td>\n",
       "      <td>37790373</td>\n",
       "      <td>16222665</td>\n",
       "      <td>45216665</td>\n",
       "      <td>...</td>\n",
       "      <td>49073941</td>\n",
       "      <td>32876249</td>\n",
       "      <td>16197692</td>\n",
       "      <td>37720840</td>\n",
       "      <td>23437148</td>\n",
       "      <td>14283691</td>\n",
       "      <td>10313537</td>\n",
       "      <td>1051834.0</td>\n",
       "      <td>401548.0</td>\n",
       "      <td>25953921</td>\n",
       "    </tr>\n",
       "    <tr>\n",
       "      <th>2015-01-01</th>\n",
       "      <td>Year</td>\n",
       "      <td>National</td>\n",
       "      <td>US</td>\n",
       "      <td>National</td>\n",
       "      <td>Total</td>\n",
       "      <td></td>\n",
       "      <td>55496222</td>\n",
       "      <td>38025274</td>\n",
       "      <td>17470948</td>\n",
       "      <td>46630952</td>\n",
       "      <td>...</td>\n",
       "      <td>50414746</td>\n",
       "      <td>32969578</td>\n",
       "      <td>17445168</td>\n",
       "      <td>39505335</td>\n",
       "      <td>24092868</td>\n",
       "      <td>15412467</td>\n",
       "      <td>10643165</td>\n",
       "      <td>1077947.0</td>\n",
       "      <td>406304.0</td>\n",
       "      <td>27377918</td>\n",
       "    </tr>\n",
       "    <tr>\n",
       "      <th>2016-01-01</th>\n",
       "      <td>Year</td>\n",
       "      <td>National</td>\n",
       "      <td>US</td>\n",
       "      <td>National</td>\n",
       "      <td>Total</td>\n",
       "      <td></td>\n",
       "      <td>56981183</td>\n",
       "      <td>38610384</td>\n",
       "      <td>18370800</td>\n",
       "      <td>48143217</td>\n",
       "      <td>...</td>\n",
       "      <td>51743591</td>\n",
       "      <td>33393261</td>\n",
       "      <td>18350330</td>\n",
       "      <td>41203627</td>\n",
       "      <td>24831079</td>\n",
       "      <td>16372548</td>\n",
       "      <td>10915488</td>\n",
       "      <td>1086468.0</td>\n",
       "      <td>413970.0</td>\n",
       "      <td>28787701</td>\n",
       "    </tr>\n",
       "    <tr>\n",
       "      <th>2017-01-01</th>\n",
       "      <td>Year</td>\n",
       "      <td>National</td>\n",
       "      <td>US</td>\n",
       "      <td>National</td>\n",
       "      <td>Total</td>\n",
       "      <td></td>\n",
       "      <td>58457244</td>\n",
       "      <td>38667830</td>\n",
       "      <td>19789414</td>\n",
       "      <td>49678033</td>\n",
       "      <td>...</td>\n",
       "      <td>53008234</td>\n",
       "      <td>33242085</td>\n",
       "      <td>19766149</td>\n",
       "      <td>42728443</td>\n",
       "      <td>25243684</td>\n",
       "      <td>17484759</td>\n",
       "      <td>10856130</td>\n",
       "      <td>1014289.0</td>\n",
       "      <td>383811.0</td>\n",
       "      <td>30474213</td>\n",
       "    </tr>\n",
       "    <tr>\n",
       "      <th>2018-01-01</th>\n",
       "      <td>Year</td>\n",
       "      <td>National</td>\n",
       "      <td>US</td>\n",
       "      <td>National</td>\n",
       "      <td>Total</td>\n",
       "      <td></td>\n",
       "      <td>59989883</td>\n",
       "      <td>38665082</td>\n",
       "      <td>21324800</td>\n",
       "      <td>51303898</td>\n",
       "      <td>...</td>\n",
       "      <td>54349822</td>\n",
       "      <td>33052639</td>\n",
       "      <td>21297184</td>\n",
       "      <td>44249461</td>\n",
       "      <td>25563945</td>\n",
       "      <td>18685516</td>\n",
       "      <td>11374106</td>\n",
       "      <td>1103901.0</td>\n",
       "      <td>406367.0</td>\n",
       "      <td>31365087</td>\n",
       "    </tr>\n",
       "    <tr>\n",
       "      <th>2019-01-01</th>\n",
       "      <td>Year</td>\n",
       "      <td>National</td>\n",
       "      <td>US</td>\n",
       "      <td>National</td>\n",
       "      <td>Total</td>\n",
       "      <td></td>\n",
       "      <td>61514510</td>\n",
       "      <td>38577012</td>\n",
       "      <td>22937498</td>\n",
       "      <td>52991455</td>\n",
       "      <td>...</td>\n",
       "      <td>55653848</td>\n",
       "      <td>32758741</td>\n",
       "      <td>22895108</td>\n",
       "      <td>45827091</td>\n",
       "      <td>25583137</td>\n",
       "      <td>20243954</td>\n",
       "      <td>11555190</td>\n",
       "      <td>1094264.0</td>\n",
       "      <td>410245.0</td>\n",
       "      <td>32767391</td>\n",
       "    </tr>\n",
       "    <tr>\n",
       "      <th>2020-01-01</th>\n",
       "      <td>Year</td>\n",
       "      <td>National</td>\n",
       "      <td>US</td>\n",
       "      <td>National</td>\n",
       "      <td>Total</td>\n",
       "      <td></td>\n",
       "      <td>62840267</td>\n",
       "      <td>37776345</td>\n",
       "      <td>25063922</td>\n",
       "      <td>54531919</td>\n",
       "      <td>...</td>\n",
       "      <td>56966865</td>\n",
       "      <td>31934411</td>\n",
       "      <td>25032454</td>\n",
       "      <td>47413121</td>\n",
       "      <td>25171949</td>\n",
       "      <td>22241173</td>\n",
       "      <td>11655477</td>\n",
       "      <td>1112043.0</td>\n",
       "      <td>371211.0</td>\n",
       "      <td>34274390</td>\n",
       "    </tr>\n",
       "    <tr>\n",
       "      <th>2021-01-01</th>\n",
       "      <td>Year</td>\n",
       "      <td>National</td>\n",
       "      <td>US</td>\n",
       "      <td>National</td>\n",
       "      <td>Total</td>\n",
       "      <td></td>\n",
       "      <td>63892626</td>\n",
       "      <td>36356380</td>\n",
       "      <td>27536246</td>\n",
       "      <td>55851321</td>\n",
       "      <td>...</td>\n",
       "      <td>58041288</td>\n",
       "      <td>30537829</td>\n",
       "      <td>27503460</td>\n",
       "      <td>48818849</td>\n",
       "      <td>24164736</td>\n",
       "      <td>24654113</td>\n",
       "      <td>11711263</td>\n",
       "      <td>1108918.0</td>\n",
       "      <td>323250.0</td>\n",
       "      <td>35675418</td>\n",
       "    </tr>\n",
       "    <tr>\n",
       "      <th>2022-01-01</th>\n",
       "      <td>Year</td>\n",
       "      <td>National</td>\n",
       "      <td>US</td>\n",
       "      <td>National</td>\n",
       "      <td>Total</td>\n",
       "      <td></td>\n",
       "      <td>65116503</td>\n",
       "      <td>35288227</td>\n",
       "      <td>29828276</td>\n",
       "      <td>57362936</td>\n",
       "      <td>...</td>\n",
       "      <td>59108664</td>\n",
       "      <td>29327793</td>\n",
       "      <td>29780871</td>\n",
       "      <td>50295753</td>\n",
       "      <td>23400805</td>\n",
       "      <td>26894947</td>\n",
       "      <td>12231254</td>\n",
       "      <td>1050008.0</td>\n",
       "      <td>284815.0</td>\n",
       "      <td>36729676</td>\n",
       "    </tr>\n",
       "  </tbody>\n",
       "</table>\n",
       "<p>10 rows × 25 columns</p>\n",
       "</div>"
      ],
      "text/plain": [
       "           MONTH BENE_GEO_LVL BENE_STATE_ABRVTN BENE_STATE_DESC  \\\n",
       "YEAR                                                              \n",
       "2013-01-01  Year     National                US        National   \n",
       "2014-01-01  Year     National                US        National   \n",
       "2015-01-01  Year     National                US        National   \n",
       "2016-01-01  Year     National                US        National   \n",
       "2017-01-01  Year     National                US        National   \n",
       "2018-01-01  Year     National                US        National   \n",
       "2019-01-01  Year     National                US        National   \n",
       "2020-01-01  Year     National                US        National   \n",
       "2021-01-01  Year     National                US        National   \n",
       "2022-01-01  Year     National                US        National   \n",
       "\n",
       "           BENE_COUNTY_DESC BENE_FIPS_CD  TOT_BENES  ORGNL_MDCR_BENES  \\\n",
       "YEAR                                                                    \n",
       "2013-01-01            Total                52425659          37613096   \n",
       "2014-01-01            Total                54013038          37790373   \n",
       "2015-01-01            Total                55496222          38025274   \n",
       "2016-01-01            Total                56981183          38610384   \n",
       "2017-01-01            Total                58457244          38667830   \n",
       "2018-01-01            Total                59989883          38665082   \n",
       "2019-01-01            Total                61514510          38577012   \n",
       "2020-01-01            Total                62840267          37776345   \n",
       "2021-01-01            Total                63892626          36356380   \n",
       "2022-01-01            Total                65116503          35288227   \n",
       "\n",
       "            MA_AND_OTH_BENES  AGED_TOT_BENES  ... A_B_TOT_BENES  \\\n",
       "YEAR                                          ...                 \n",
       "2013-01-01          14812563        43761388  ...      47620905   \n",
       "2014-01-01          16222665        45216665  ...      49073941   \n",
       "2015-01-01          17470948        46630952  ...      50414746   \n",
       "2016-01-01          18370800        48143217  ...      51743591   \n",
       "2017-01-01          19789414        49678033  ...      53008234   \n",
       "2018-01-01          21324800        51303898  ...      54349822   \n",
       "2019-01-01          22937498        52991455  ...      55653848   \n",
       "2020-01-01          25063922        54531919  ...      56966865   \n",
       "2021-01-01          27536246        55851321  ...      58041288   \n",
       "2022-01-01          29828276        57362936  ...      59108664   \n",
       "\n",
       "           A_B_ORGNL_MDCR_BENES  A_B_MA_AND_OTH_BENES PRSCRPTN_DRUG_TOT_BENES  \\\n",
       "YEAR                                                                            \n",
       "2013-01-01             32831884              14789022                35679758   \n",
       "2014-01-01             32876249              16197692                37720840   \n",
       "2015-01-01             32969578              17445168                39505335   \n",
       "2016-01-01             33393261              18350330                41203627   \n",
       "2017-01-01             33242085              19766149                42728443   \n",
       "2018-01-01             33052639              21297184                44249461   \n",
       "2019-01-01             32758741              22895108                45827091   \n",
       "2020-01-01             31934411              25032454                47413121   \n",
       "2021-01-01             30537829              27503460                48818849   \n",
       "2022-01-01             29327793              29780871                50295753   \n",
       "\n",
       "           PRSCRPTN_DRUG_PDP_BENES PRSCRPTN_DRUG_MAPD_BENES  \\\n",
       "YEAR                                                          \n",
       "2013-01-01                22661451                 13018307   \n",
       "2014-01-01                23437148                 14283691   \n",
       "2015-01-01                24092868                 15412467   \n",
       "2016-01-01                24831079                 16372548   \n",
       "2017-01-01                25243684                 17484759   \n",
       "2018-01-01                25563945                 18685516   \n",
       "2019-01-01                25583137                 20243954   \n",
       "2020-01-01                25171949                 22241173   \n",
       "2021-01-01                24164736                 24654113   \n",
       "2022-01-01                23400805                 26894947   \n",
       "\n",
       "           PRSCRPTN_DRUG_DEEMED_ELIGIBLE_FULL_LIS_BENES  \\\n",
       "YEAR                                                      \n",
       "2013-01-01                                     10000861   \n",
       "2014-01-01                                     10313537   \n",
       "2015-01-01                                     10643165   \n",
       "2016-01-01                                     10915488   \n",
       "2017-01-01                                     10856130   \n",
       "2018-01-01                                     11374106   \n",
       "2019-01-01                                     11555190   \n",
       "2020-01-01                                     11655477   \n",
       "2021-01-01                                     11711263   \n",
       "2022-01-01                                     12231254   \n",
       "\n",
       "           PRSCRPTN_DRUG_FULL_LIS_BENES PRSCRPTN_DRUG_PARTIAL_LIS_BENES  \\\n",
       "YEAR                                                                      \n",
       "2013-01-01                    1030113.0                        409204.0   \n",
       "2014-01-01                    1051834.0                        401548.0   \n",
       "2015-01-01                    1077947.0                        406304.0   \n",
       "2016-01-01                    1086468.0                        413970.0   \n",
       "2017-01-01                    1014289.0                        383811.0   \n",
       "2018-01-01                    1103901.0                        406367.0   \n",
       "2019-01-01                    1094264.0                        410245.0   \n",
       "2020-01-01                    1112043.0                        371211.0   \n",
       "2021-01-01                    1108918.0                        323250.0   \n",
       "2022-01-01                    1050008.0                        284815.0   \n",
       "\n",
       "           PRSCRPTN_DRUG_NO_LIS_BENES  \n",
       "YEAR                                   \n",
       "2013-01-01                   24239580  \n",
       "2014-01-01                   25953921  \n",
       "2015-01-01                   27377918  \n",
       "2016-01-01                   28787701  \n",
       "2017-01-01                   30474213  \n",
       "2018-01-01                   31365087  \n",
       "2019-01-01                   32767391  \n",
       "2020-01-01                   34274390  \n",
       "2021-01-01                   35675418  \n",
       "2022-01-01                   36729676  \n",
       "\n",
       "[10 rows x 25 columns]"
      ]
     },
     "execution_count": 25,
     "metadata": {},
     "output_type": "execute_result"
    }
   ],
   "source": [
    "df3.head(10)"
   ]
  },
  {
   "cell_type": "code",
   "execution_count": 26,
   "id": "d2827bba",
   "metadata": {
    "execution": {
     "iopub.execute_input": "2024-01-28T06:20:02.534542Z",
     "iopub.status.busy": "2024-01-28T06:20:02.534101Z",
     "iopub.status.idle": "2024-01-28T06:20:02.540366Z",
     "shell.execute_reply": "2024-01-28T06:20:02.539316Z"
    },
    "papermill": {
     "duration": 0.022221,
     "end_time": "2024-01-28T06:20:02.542417",
     "exception": false,
     "start_time": "2024-01-28T06:20:02.520196",
     "status": "completed"
    },
    "tags": []
   },
   "outputs": [],
   "source": [
    "numerical_columns = list(df3.loc[:,['TOT_BENES', 'AGED_TOT_BENES', 'DSBLD_TOT_BENES']])"
   ]
  },
  {
   "cell_type": "code",
   "execution_count": 27,
   "id": "9b3b4936",
   "metadata": {
    "execution": {
     "iopub.execute_input": "2024-01-28T06:20:02.569305Z",
     "iopub.status.busy": "2024-01-28T06:20:02.568937Z",
     "iopub.status.idle": "2024-01-28T06:20:02.574522Z",
     "shell.execute_reply": "2024-01-28T06:20:02.573558Z"
    },
    "papermill": {
     "duration": 0.021669,
     "end_time": "2024-01-28T06:20:02.576653",
     "exception": false,
     "start_time": "2024-01-28T06:20:02.554984",
     "status": "completed"
    },
    "tags": []
   },
   "outputs": [],
   "source": [
    "df_numerical = df3[numerical_columns]"
   ]
  },
  {
   "cell_type": "code",
   "execution_count": 28,
   "id": "58f5be15",
   "metadata": {
    "execution": {
     "iopub.execute_input": "2024-01-28T06:20:02.603596Z",
     "iopub.status.busy": "2024-01-28T06:20:02.603208Z",
     "iopub.status.idle": "2024-01-28T06:20:02.810840Z",
     "shell.execute_reply": "2024-01-28T06:20:02.809754Z"
    },
    "papermill": {
     "duration": 0.224028,
     "end_time": "2024-01-28T06:20:02.813168",
     "exception": false,
     "start_time": "2024-01-28T06:20:02.589140",
     "status": "completed"
    },
    "tags": []
   },
   "outputs": [
    {
     "data": {
      "application/vnd.plotly.v1+json": {
       "config": {
        "plotlyServerURL": "https://plot.ly"
       },
       "data": [
        {
         "type": "histogram",
         "x": [
          52425659,
          54013038,
          55496222,
          56981183,
          58457244,
          59989883,
          61514510,
          62840267,
          63892626,
          65116503
         ],
         "xbins": {
          "end": 90000000,
          "size": 500000,
          "start": 10000000
         }
        }
       ],
       "layout": {
        "bargap": 0.05,
        "template": {
         "data": {
          "bar": [
           {
            "error_x": {
             "color": "#2a3f5f"
            },
            "error_y": {
             "color": "#2a3f5f"
            },
            "marker": {
             "line": {
              "color": "#E5ECF6",
              "width": 0.5
             },
             "pattern": {
              "fillmode": "overlay",
              "size": 10,
              "solidity": 0.2
             }
            },
            "type": "bar"
           }
          ],
          "barpolar": [
           {
            "marker": {
             "line": {
              "color": "#E5ECF6",
              "width": 0.5
             },
             "pattern": {
              "fillmode": "overlay",
              "size": 10,
              "solidity": 0.2
             }
            },
            "type": "barpolar"
           }
          ],
          "carpet": [
           {
            "aaxis": {
             "endlinecolor": "#2a3f5f",
             "gridcolor": "white",
             "linecolor": "white",
             "minorgridcolor": "white",
             "startlinecolor": "#2a3f5f"
            },
            "baxis": {
             "endlinecolor": "#2a3f5f",
             "gridcolor": "white",
             "linecolor": "white",
             "minorgridcolor": "white",
             "startlinecolor": "#2a3f5f"
            },
            "type": "carpet"
           }
          ],
          "choropleth": [
           {
            "colorbar": {
             "outlinewidth": 0,
             "ticks": ""
            },
            "type": "choropleth"
           }
          ],
          "contour": [
           {
            "colorbar": {
             "outlinewidth": 0,
             "ticks": ""
            },
            "colorscale": [
             [
              0.0,
              "#0d0887"
             ],
             [
              0.1111111111111111,
              "#46039f"
             ],
             [
              0.2222222222222222,
              "#7201a8"
             ],
             [
              0.3333333333333333,
              "#9c179e"
             ],
             [
              0.4444444444444444,
              "#bd3786"
             ],
             [
              0.5555555555555556,
              "#d8576b"
             ],
             [
              0.6666666666666666,
              "#ed7953"
             ],
             [
              0.7777777777777778,
              "#fb9f3a"
             ],
             [
              0.8888888888888888,
              "#fdca26"
             ],
             [
              1.0,
              "#f0f921"
             ]
            ],
            "type": "contour"
           }
          ],
          "contourcarpet": [
           {
            "colorbar": {
             "outlinewidth": 0,
             "ticks": ""
            },
            "type": "contourcarpet"
           }
          ],
          "heatmap": [
           {
            "colorbar": {
             "outlinewidth": 0,
             "ticks": ""
            },
            "colorscale": [
             [
              0.0,
              "#0d0887"
             ],
             [
              0.1111111111111111,
              "#46039f"
             ],
             [
              0.2222222222222222,
              "#7201a8"
             ],
             [
              0.3333333333333333,
              "#9c179e"
             ],
             [
              0.4444444444444444,
              "#bd3786"
             ],
             [
              0.5555555555555556,
              "#d8576b"
             ],
             [
              0.6666666666666666,
              "#ed7953"
             ],
             [
              0.7777777777777778,
              "#fb9f3a"
             ],
             [
              0.8888888888888888,
              "#fdca26"
             ],
             [
              1.0,
              "#f0f921"
             ]
            ],
            "type": "heatmap"
           }
          ],
          "heatmapgl": [
           {
            "colorbar": {
             "outlinewidth": 0,
             "ticks": ""
            },
            "colorscale": [
             [
              0.0,
              "#0d0887"
             ],
             [
              0.1111111111111111,
              "#46039f"
             ],
             [
              0.2222222222222222,
              "#7201a8"
             ],
             [
              0.3333333333333333,
              "#9c179e"
             ],
             [
              0.4444444444444444,
              "#bd3786"
             ],
             [
              0.5555555555555556,
              "#d8576b"
             ],
             [
              0.6666666666666666,
              "#ed7953"
             ],
             [
              0.7777777777777778,
              "#fb9f3a"
             ],
             [
              0.8888888888888888,
              "#fdca26"
             ],
             [
              1.0,
              "#f0f921"
             ]
            ],
            "type": "heatmapgl"
           }
          ],
          "histogram": [
           {
            "marker": {
             "pattern": {
              "fillmode": "overlay",
              "size": 10,
              "solidity": 0.2
             }
            },
            "type": "histogram"
           }
          ],
          "histogram2d": [
           {
            "colorbar": {
             "outlinewidth": 0,
             "ticks": ""
            },
            "colorscale": [
             [
              0.0,
              "#0d0887"
             ],
             [
              0.1111111111111111,
              "#46039f"
             ],
             [
              0.2222222222222222,
              "#7201a8"
             ],
             [
              0.3333333333333333,
              "#9c179e"
             ],
             [
              0.4444444444444444,
              "#bd3786"
             ],
             [
              0.5555555555555556,
              "#d8576b"
             ],
             [
              0.6666666666666666,
              "#ed7953"
             ],
             [
              0.7777777777777778,
              "#fb9f3a"
             ],
             [
              0.8888888888888888,
              "#fdca26"
             ],
             [
              1.0,
              "#f0f921"
             ]
            ],
            "type": "histogram2d"
           }
          ],
          "histogram2dcontour": [
           {
            "colorbar": {
             "outlinewidth": 0,
             "ticks": ""
            },
            "colorscale": [
             [
              0.0,
              "#0d0887"
             ],
             [
              0.1111111111111111,
              "#46039f"
             ],
             [
              0.2222222222222222,
              "#7201a8"
             ],
             [
              0.3333333333333333,
              "#9c179e"
             ],
             [
              0.4444444444444444,
              "#bd3786"
             ],
             [
              0.5555555555555556,
              "#d8576b"
             ],
             [
              0.6666666666666666,
              "#ed7953"
             ],
             [
              0.7777777777777778,
              "#fb9f3a"
             ],
             [
              0.8888888888888888,
              "#fdca26"
             ],
             [
              1.0,
              "#f0f921"
             ]
            ],
            "type": "histogram2dcontour"
           }
          ],
          "mesh3d": [
           {
            "colorbar": {
             "outlinewidth": 0,
             "ticks": ""
            },
            "type": "mesh3d"
           }
          ],
          "parcoords": [
           {
            "line": {
             "colorbar": {
              "outlinewidth": 0,
              "ticks": ""
             }
            },
            "type": "parcoords"
           }
          ],
          "pie": [
           {
            "automargin": true,
            "type": "pie"
           }
          ],
          "scatter": [
           {
            "fillpattern": {
             "fillmode": "overlay",
             "size": 10,
             "solidity": 0.2
            },
            "type": "scatter"
           }
          ],
          "scatter3d": [
           {
            "line": {
             "colorbar": {
              "outlinewidth": 0,
              "ticks": ""
             }
            },
            "marker": {
             "colorbar": {
              "outlinewidth": 0,
              "ticks": ""
             }
            },
            "type": "scatter3d"
           }
          ],
          "scattercarpet": [
           {
            "marker": {
             "colorbar": {
              "outlinewidth": 0,
              "ticks": ""
             }
            },
            "type": "scattercarpet"
           }
          ],
          "scattergeo": [
           {
            "marker": {
             "colorbar": {
              "outlinewidth": 0,
              "ticks": ""
             }
            },
            "type": "scattergeo"
           }
          ],
          "scattergl": [
           {
            "marker": {
             "colorbar": {
              "outlinewidth": 0,
              "ticks": ""
             }
            },
            "type": "scattergl"
           }
          ],
          "scattermapbox": [
           {
            "marker": {
             "colorbar": {
              "outlinewidth": 0,
              "ticks": ""
             }
            },
            "type": "scattermapbox"
           }
          ],
          "scatterpolar": [
           {
            "marker": {
             "colorbar": {
              "outlinewidth": 0,
              "ticks": ""
             }
            },
            "type": "scatterpolar"
           }
          ],
          "scatterpolargl": [
           {
            "marker": {
             "colorbar": {
              "outlinewidth": 0,
              "ticks": ""
             }
            },
            "type": "scatterpolargl"
           }
          ],
          "scatterternary": [
           {
            "marker": {
             "colorbar": {
              "outlinewidth": 0,
              "ticks": ""
             }
            },
            "type": "scatterternary"
           }
          ],
          "surface": [
           {
            "colorbar": {
             "outlinewidth": 0,
             "ticks": ""
            },
            "colorscale": [
             [
              0.0,
              "#0d0887"
             ],
             [
              0.1111111111111111,
              "#46039f"
             ],
             [
              0.2222222222222222,
              "#7201a8"
             ],
             [
              0.3333333333333333,
              "#9c179e"
             ],
             [
              0.4444444444444444,
              "#bd3786"
             ],
             [
              0.5555555555555556,
              "#d8576b"
             ],
             [
              0.6666666666666666,
              "#ed7953"
             ],
             [
              0.7777777777777778,
              "#fb9f3a"
             ],
             [
              0.8888888888888888,
              "#fdca26"
             ],
             [
              1.0,
              "#f0f921"
             ]
            ],
            "type": "surface"
           }
          ],
          "table": [
           {
            "cells": {
             "fill": {
              "color": "#EBF0F8"
             },
             "line": {
              "color": "white"
             }
            },
            "header": {
             "fill": {
              "color": "#C8D4E3"
             },
             "line": {
              "color": "white"
             }
            },
            "type": "table"
           }
          ]
         },
         "layout": {
          "annotationdefaults": {
           "arrowcolor": "#2a3f5f",
           "arrowhead": 0,
           "arrowwidth": 1
          },
          "autotypenumbers": "strict",
          "coloraxis": {
           "colorbar": {
            "outlinewidth": 0,
            "ticks": ""
           }
          },
          "colorscale": {
           "diverging": [
            [
             0,
             "#8e0152"
            ],
            [
             0.1,
             "#c51b7d"
            ],
            [
             0.2,
             "#de77ae"
            ],
            [
             0.3,
             "#f1b6da"
            ],
            [
             0.4,
             "#fde0ef"
            ],
            [
             0.5,
             "#f7f7f7"
            ],
            [
             0.6,
             "#e6f5d0"
            ],
            [
             0.7,
             "#b8e186"
            ],
            [
             0.8,
             "#7fbc41"
            ],
            [
             0.9,
             "#4d9221"
            ],
            [
             1,
             "#276419"
            ]
           ],
           "sequential": [
            [
             0.0,
             "#0d0887"
            ],
            [
             0.1111111111111111,
             "#46039f"
            ],
            [
             0.2222222222222222,
             "#7201a8"
            ],
            [
             0.3333333333333333,
             "#9c179e"
            ],
            [
             0.4444444444444444,
             "#bd3786"
            ],
            [
             0.5555555555555556,
             "#d8576b"
            ],
            [
             0.6666666666666666,
             "#ed7953"
            ],
            [
             0.7777777777777778,
             "#fb9f3a"
            ],
            [
             0.8888888888888888,
             "#fdca26"
            ],
            [
             1.0,
             "#f0f921"
            ]
           ],
           "sequentialminus": [
            [
             0.0,
             "#0d0887"
            ],
            [
             0.1111111111111111,
             "#46039f"
            ],
            [
             0.2222222222222222,
             "#7201a8"
            ],
            [
             0.3333333333333333,
             "#9c179e"
            ],
            [
             0.4444444444444444,
             "#bd3786"
            ],
            [
             0.5555555555555556,
             "#d8576b"
            ],
            [
             0.6666666666666666,
             "#ed7953"
            ],
            [
             0.7777777777777778,
             "#fb9f3a"
            ],
            [
             0.8888888888888888,
             "#fdca26"
            ],
            [
             1.0,
             "#f0f921"
            ]
           ]
          },
          "colorway": [
           "#636efa",
           "#EF553B",
           "#00cc96",
           "#ab63fa",
           "#FFA15A",
           "#19d3f3",
           "#FF6692",
           "#B6E880",
           "#FF97FF",
           "#FECB52"
          ],
          "font": {
           "color": "#2a3f5f"
          },
          "geo": {
           "bgcolor": "white",
           "lakecolor": "white",
           "landcolor": "#E5ECF6",
           "showlakes": true,
           "showland": true,
           "subunitcolor": "white"
          },
          "hoverlabel": {
           "align": "left"
          },
          "hovermode": "closest",
          "mapbox": {
           "style": "light"
          },
          "paper_bgcolor": "white",
          "plot_bgcolor": "#E5ECF6",
          "polar": {
           "angularaxis": {
            "gridcolor": "white",
            "linecolor": "white",
            "ticks": ""
           },
           "bgcolor": "#E5ECF6",
           "radialaxis": {
            "gridcolor": "white",
            "linecolor": "white",
            "ticks": ""
           }
          },
          "scene": {
           "xaxis": {
            "backgroundcolor": "#E5ECF6",
            "gridcolor": "white",
            "gridwidth": 2,
            "linecolor": "white",
            "showbackground": true,
            "ticks": "",
            "zerolinecolor": "white"
           },
           "yaxis": {
            "backgroundcolor": "#E5ECF6",
            "gridcolor": "white",
            "gridwidth": 2,
            "linecolor": "white",
            "showbackground": true,
            "ticks": "",
            "zerolinecolor": "white"
           },
           "zaxis": {
            "backgroundcolor": "#E5ECF6",
            "gridcolor": "white",
            "gridwidth": 2,
            "linecolor": "white",
            "showbackground": true,
            "ticks": "",
            "zerolinecolor": "white"
           }
          },
          "shapedefaults": {
           "line": {
            "color": "#2a3f5f"
           }
          },
          "ternary": {
           "aaxis": {
            "gridcolor": "white",
            "linecolor": "white",
            "ticks": ""
           },
           "baxis": {
            "gridcolor": "white",
            "linecolor": "white",
            "ticks": ""
           },
           "bgcolor": "#E5ECF6",
           "caxis": {
            "gridcolor": "white",
            "linecolor": "white",
            "ticks": ""
           }
          },
          "title": {
           "x": 0.05
          },
          "xaxis": {
           "automargin": true,
           "gridcolor": "white",
           "linecolor": "white",
           "ticks": "",
           "title": {
            "standoff": 15
           },
           "zerolinecolor": "white",
           "zerolinewidth": 2
          },
          "yaxis": {
           "automargin": true,
           "gridcolor": "white",
           "linecolor": "white",
           "ticks": "",
           "title": {
            "standoff": 15
           },
           "zerolinecolor": "white",
           "zerolinewidth": 2
          }
         }
        },
        "title": {
         "text": "Histogram of Total Beneficiaries"
        },
        "yaxis": {
         "title": {
          "text": "Count"
         }
        }
       }
      },
      "text/html": [
       "<div>                            <div id=\"4953f665-6692-4b7c-954e-31a89864c7c9\" class=\"plotly-graph-div\" style=\"height:525px; width:100%;\"></div>            <script type=\"text/javascript\">                require([\"plotly\"], function(Plotly) {                    window.PLOTLYENV=window.PLOTLYENV || {};                                    if (document.getElementById(\"4953f665-6692-4b7c-954e-31a89864c7c9\")) {                    Plotly.newPlot(                        \"4953f665-6692-4b7c-954e-31a89864c7c9\",                        [{\"x\":[52425659,54013038,55496222,56981183,58457244,59989883,61514510,62840267,63892626,65116503],\"xbins\":{\"end\":90000000,\"size\":500000,\"start\":10000000},\"type\":\"histogram\"}],                        {\"bargap\":0.05,\"title\":{\"text\":\"Histogram of Total Beneficiaries\"},\"yaxis\":{\"title\":{\"text\":\"Count\"}},\"template\":{\"data\":{\"histogram2dcontour\":[{\"type\":\"histogram2dcontour\",\"colorbar\":{\"outlinewidth\":0,\"ticks\":\"\"},\"colorscale\":[[0.0,\"#0d0887\"],[0.1111111111111111,\"#46039f\"],[0.2222222222222222,\"#7201a8\"],[0.3333333333333333,\"#9c179e\"],[0.4444444444444444,\"#bd3786\"],[0.5555555555555556,\"#d8576b\"],[0.6666666666666666,\"#ed7953\"],[0.7777777777777778,\"#fb9f3a\"],[0.8888888888888888,\"#fdca26\"],[1.0,\"#f0f921\"]]}],\"choropleth\":[{\"type\":\"choropleth\",\"colorbar\":{\"outlinewidth\":0,\"ticks\":\"\"}}],\"histogram2d\":[{\"type\":\"histogram2d\",\"colorbar\":{\"outlinewidth\":0,\"ticks\":\"\"},\"colorscale\":[[0.0,\"#0d0887\"],[0.1111111111111111,\"#46039f\"],[0.2222222222222222,\"#7201a8\"],[0.3333333333333333,\"#9c179e\"],[0.4444444444444444,\"#bd3786\"],[0.5555555555555556,\"#d8576b\"],[0.6666666666666666,\"#ed7953\"],[0.7777777777777778,\"#fb9f3a\"],[0.8888888888888888,\"#fdca26\"],[1.0,\"#f0f921\"]]}],\"heatmap\":[{\"type\":\"heatmap\",\"colorbar\":{\"outlinewidth\":0,\"ticks\":\"\"},\"colorscale\":[[0.0,\"#0d0887\"],[0.1111111111111111,\"#46039f\"],[0.2222222222222222,\"#7201a8\"],[0.3333333333333333,\"#9c179e\"],[0.4444444444444444,\"#bd3786\"],[0.5555555555555556,\"#d8576b\"],[0.6666666666666666,\"#ed7953\"],[0.7777777777777778,\"#fb9f3a\"],[0.8888888888888888,\"#fdca26\"],[1.0,\"#f0f921\"]]}],\"heatmapgl\":[{\"type\":\"heatmapgl\",\"colorbar\":{\"outlinewidth\":0,\"ticks\":\"\"},\"colorscale\":[[0.0,\"#0d0887\"],[0.1111111111111111,\"#46039f\"],[0.2222222222222222,\"#7201a8\"],[0.3333333333333333,\"#9c179e\"],[0.4444444444444444,\"#bd3786\"],[0.5555555555555556,\"#d8576b\"],[0.6666666666666666,\"#ed7953\"],[0.7777777777777778,\"#fb9f3a\"],[0.8888888888888888,\"#fdca26\"],[1.0,\"#f0f921\"]]}],\"contourcarpet\":[{\"type\":\"contourcarpet\",\"colorbar\":{\"outlinewidth\":0,\"ticks\":\"\"}}],\"contour\":[{\"type\":\"contour\",\"colorbar\":{\"outlinewidth\":0,\"ticks\":\"\"},\"colorscale\":[[0.0,\"#0d0887\"],[0.1111111111111111,\"#46039f\"],[0.2222222222222222,\"#7201a8\"],[0.3333333333333333,\"#9c179e\"],[0.4444444444444444,\"#bd3786\"],[0.5555555555555556,\"#d8576b\"],[0.6666666666666666,\"#ed7953\"],[0.7777777777777778,\"#fb9f3a\"],[0.8888888888888888,\"#fdca26\"],[1.0,\"#f0f921\"]]}],\"surface\":[{\"type\":\"surface\",\"colorbar\":{\"outlinewidth\":0,\"ticks\":\"\"},\"colorscale\":[[0.0,\"#0d0887\"],[0.1111111111111111,\"#46039f\"],[0.2222222222222222,\"#7201a8\"],[0.3333333333333333,\"#9c179e\"],[0.4444444444444444,\"#bd3786\"],[0.5555555555555556,\"#d8576b\"],[0.6666666666666666,\"#ed7953\"],[0.7777777777777778,\"#fb9f3a\"],[0.8888888888888888,\"#fdca26\"],[1.0,\"#f0f921\"]]}],\"mesh3d\":[{\"type\":\"mesh3d\",\"colorbar\":{\"outlinewidth\":0,\"ticks\":\"\"}}],\"scatter\":[{\"fillpattern\":{\"fillmode\":\"overlay\",\"size\":10,\"solidity\":0.2},\"type\":\"scatter\"}],\"parcoords\":[{\"type\":\"parcoords\",\"line\":{\"colorbar\":{\"outlinewidth\":0,\"ticks\":\"\"}}}],\"scatterpolargl\":[{\"type\":\"scatterpolargl\",\"marker\":{\"colorbar\":{\"outlinewidth\":0,\"ticks\":\"\"}}}],\"bar\":[{\"error_x\":{\"color\":\"#2a3f5f\"},\"error_y\":{\"color\":\"#2a3f5f\"},\"marker\":{\"line\":{\"color\":\"#E5ECF6\",\"width\":0.5},\"pattern\":{\"fillmode\":\"overlay\",\"size\":10,\"solidity\":0.2}},\"type\":\"bar\"}],\"scattergeo\":[{\"type\":\"scattergeo\",\"marker\":{\"colorbar\":{\"outlinewidth\":0,\"ticks\":\"\"}}}],\"scatterpolar\":[{\"type\":\"scatterpolar\",\"marker\":{\"colorbar\":{\"outlinewidth\":0,\"ticks\":\"\"}}}],\"histogram\":[{\"marker\":{\"pattern\":{\"fillmode\":\"overlay\",\"size\":10,\"solidity\":0.2}},\"type\":\"histogram\"}],\"scattergl\":[{\"type\":\"scattergl\",\"marker\":{\"colorbar\":{\"outlinewidth\":0,\"ticks\":\"\"}}}],\"scatter3d\":[{\"type\":\"scatter3d\",\"line\":{\"colorbar\":{\"outlinewidth\":0,\"ticks\":\"\"}},\"marker\":{\"colorbar\":{\"outlinewidth\":0,\"ticks\":\"\"}}}],\"scattermapbox\":[{\"type\":\"scattermapbox\",\"marker\":{\"colorbar\":{\"outlinewidth\":0,\"ticks\":\"\"}}}],\"scatterternary\":[{\"type\":\"scatterternary\",\"marker\":{\"colorbar\":{\"outlinewidth\":0,\"ticks\":\"\"}}}],\"scattercarpet\":[{\"type\":\"scattercarpet\",\"marker\":{\"colorbar\":{\"outlinewidth\":0,\"ticks\":\"\"}}}],\"carpet\":[{\"aaxis\":{\"endlinecolor\":\"#2a3f5f\",\"gridcolor\":\"white\",\"linecolor\":\"white\",\"minorgridcolor\":\"white\",\"startlinecolor\":\"#2a3f5f\"},\"baxis\":{\"endlinecolor\":\"#2a3f5f\",\"gridcolor\":\"white\",\"linecolor\":\"white\",\"minorgridcolor\":\"white\",\"startlinecolor\":\"#2a3f5f\"},\"type\":\"carpet\"}],\"table\":[{\"cells\":{\"fill\":{\"color\":\"#EBF0F8\"},\"line\":{\"color\":\"white\"}},\"header\":{\"fill\":{\"color\":\"#C8D4E3\"},\"line\":{\"color\":\"white\"}},\"type\":\"table\"}],\"barpolar\":[{\"marker\":{\"line\":{\"color\":\"#E5ECF6\",\"width\":0.5},\"pattern\":{\"fillmode\":\"overlay\",\"size\":10,\"solidity\":0.2}},\"type\":\"barpolar\"}],\"pie\":[{\"automargin\":true,\"type\":\"pie\"}]},\"layout\":{\"autotypenumbers\":\"strict\",\"colorway\":[\"#636efa\",\"#EF553B\",\"#00cc96\",\"#ab63fa\",\"#FFA15A\",\"#19d3f3\",\"#FF6692\",\"#B6E880\",\"#FF97FF\",\"#FECB52\"],\"font\":{\"color\":\"#2a3f5f\"},\"hovermode\":\"closest\",\"hoverlabel\":{\"align\":\"left\"},\"paper_bgcolor\":\"white\",\"plot_bgcolor\":\"#E5ECF6\",\"polar\":{\"bgcolor\":\"#E5ECF6\",\"angularaxis\":{\"gridcolor\":\"white\",\"linecolor\":\"white\",\"ticks\":\"\"},\"radialaxis\":{\"gridcolor\":\"white\",\"linecolor\":\"white\",\"ticks\":\"\"}},\"ternary\":{\"bgcolor\":\"#E5ECF6\",\"aaxis\":{\"gridcolor\":\"white\",\"linecolor\":\"white\",\"ticks\":\"\"},\"baxis\":{\"gridcolor\":\"white\",\"linecolor\":\"white\",\"ticks\":\"\"},\"caxis\":{\"gridcolor\":\"white\",\"linecolor\":\"white\",\"ticks\":\"\"}},\"coloraxis\":{\"colorbar\":{\"outlinewidth\":0,\"ticks\":\"\"}},\"colorscale\":{\"sequential\":[[0.0,\"#0d0887\"],[0.1111111111111111,\"#46039f\"],[0.2222222222222222,\"#7201a8\"],[0.3333333333333333,\"#9c179e\"],[0.4444444444444444,\"#bd3786\"],[0.5555555555555556,\"#d8576b\"],[0.6666666666666666,\"#ed7953\"],[0.7777777777777778,\"#fb9f3a\"],[0.8888888888888888,\"#fdca26\"],[1.0,\"#f0f921\"]],\"sequentialminus\":[[0.0,\"#0d0887\"],[0.1111111111111111,\"#46039f\"],[0.2222222222222222,\"#7201a8\"],[0.3333333333333333,\"#9c179e\"],[0.4444444444444444,\"#bd3786\"],[0.5555555555555556,\"#d8576b\"],[0.6666666666666666,\"#ed7953\"],[0.7777777777777778,\"#fb9f3a\"],[0.8888888888888888,\"#fdca26\"],[1.0,\"#f0f921\"]],\"diverging\":[[0,\"#8e0152\"],[0.1,\"#c51b7d\"],[0.2,\"#de77ae\"],[0.3,\"#f1b6da\"],[0.4,\"#fde0ef\"],[0.5,\"#f7f7f7\"],[0.6,\"#e6f5d0\"],[0.7,\"#b8e186\"],[0.8,\"#7fbc41\"],[0.9,\"#4d9221\"],[1,\"#276419\"]]},\"xaxis\":{\"gridcolor\":\"white\",\"linecolor\":\"white\",\"ticks\":\"\",\"title\":{\"standoff\":15},\"zerolinecolor\":\"white\",\"automargin\":true,\"zerolinewidth\":2},\"yaxis\":{\"gridcolor\":\"white\",\"linecolor\":\"white\",\"ticks\":\"\",\"title\":{\"standoff\":15},\"zerolinecolor\":\"white\",\"automargin\":true,\"zerolinewidth\":2},\"scene\":{\"xaxis\":{\"backgroundcolor\":\"#E5ECF6\",\"gridcolor\":\"white\",\"linecolor\":\"white\",\"showbackground\":true,\"ticks\":\"\",\"zerolinecolor\":\"white\",\"gridwidth\":2},\"yaxis\":{\"backgroundcolor\":\"#E5ECF6\",\"gridcolor\":\"white\",\"linecolor\":\"white\",\"showbackground\":true,\"ticks\":\"\",\"zerolinecolor\":\"white\",\"gridwidth\":2},\"zaxis\":{\"backgroundcolor\":\"#E5ECF6\",\"gridcolor\":\"white\",\"linecolor\":\"white\",\"showbackground\":true,\"ticks\":\"\",\"zerolinecolor\":\"white\",\"gridwidth\":2}},\"shapedefaults\":{\"line\":{\"color\":\"#2a3f5f\"}},\"annotationdefaults\":{\"arrowcolor\":\"#2a3f5f\",\"arrowhead\":0,\"arrowwidth\":1},\"geo\":{\"bgcolor\":\"white\",\"landcolor\":\"#E5ECF6\",\"subunitcolor\":\"white\",\"showland\":true,\"showlakes\":true,\"lakecolor\":\"white\"},\"title\":{\"x\":0.05},\"mapbox\":{\"style\":\"light\"}}}},                        {\"responsive\": true}                    ).then(function(){\n",
       "                            \n",
       "var gd = document.getElementById('4953f665-6692-4b7c-954e-31a89864c7c9');\n",
       "var x = new MutationObserver(function (mutations, observer) {{\n",
       "        var display = window.getComputedStyle(gd).display;\n",
       "        if (!display || display === 'none') {{\n",
       "            console.log([gd, 'removed!']);\n",
       "            Plotly.purge(gd);\n",
       "            observer.disconnect();\n",
       "        }}\n",
       "}});\n",
       "\n",
       "// Listen for the removal of the full notebook cells\n",
       "var notebookContainer = gd.closest('#notebook-container');\n",
       "if (notebookContainer) {{\n",
       "    x.observe(notebookContainer, {childList: true});\n",
       "}}\n",
       "\n",
       "// Listen for the clearing of the current output cell\n",
       "var outputEl = gd.closest('.output');\n",
       "if (outputEl) {{\n",
       "    x.observe(outputEl, {childList: true});\n",
       "}}\n",
       "\n",
       "                        })                };                });            </script>        </div>"
      ]
     },
     "metadata": {},
     "output_type": "display_data"
    }
   ],
   "source": [
    "import plotly.graph_objs as go\n",
    "go.Figure(\n",
    "    data=[go.Histogram(x=df_numerical[\"TOT_BENES\"], xbins={\"start\": 10000000, \"end\": 90000000, \"size\": 500000})],\n",
    "    layout=go.Layout(title=\"Histogram of Total Beneficiaries\", yaxis={\"title\": \"Count\"}, bargap=0.05),\n",
    "    )"
   ]
  },
  {
   "cell_type": "code",
   "execution_count": 29,
   "id": "681b026c",
   "metadata": {
    "execution": {
     "iopub.execute_input": "2024-01-28T06:20:02.850437Z",
     "iopub.status.busy": "2024-01-28T06:20:02.849804Z",
     "iopub.status.idle": "2024-01-28T06:20:03.156534Z",
     "shell.execute_reply": "2024-01-28T06:20:03.155524Z"
    },
    "papermill": {
     "duration": 0.327942,
     "end_time": "2024-01-28T06:20:03.158897",
     "exception": false,
     "start_time": "2024-01-28T06:20:02.830955",
     "status": "completed"
    },
    "tags": []
   },
   "outputs": [
    {
     "data": {
      "image/png": "[encoded data removed]",
      "text/plain": [
       "<Figure size 640x480 with 1 Axes>"
      ]
     },
     "metadata": {},
     "output_type": "display_data"
    }
   ],
   "source": [
    "import matplotlib.pyplot as plt\n",
    "data.groupby('YEAR')['TOT_BENES'].max().sort_values(ascending=False).plot(kind='bar')\n",
    "plt.xlabel='YEAR'\n",
    "plt.ylabel='Beneficiaries'\n",
    "plt.show()"
   ]
  },
  {
   "cell_type": "code",
   "execution_count": 30,
   "id": "17704ea1",
   "metadata": {
    "execution": {
     "iopub.execute_input": "2024-01-28T06:20:03.197040Z",
     "iopub.status.busy": "2024-01-28T06:20:03.196435Z",
     "iopub.status.idle": "2024-01-28T06:20:03.550391Z",
     "shell.execute_reply": "2024-01-28T06:20:03.549229Z"
    },
    "papermill": {
     "duration": 0.375987,
     "end_time": "2024-01-28T06:20:03.552821",
     "exception": false,
     "start_time": "2024-01-28T06:20:03.176834",
     "status": "completed"
    },
    "tags": []
   },
   "outputs": [
    {
     "data": {
      "text/plain": [
       "<Axes: xlabel='YEAR'>"
      ]
     },
     "execution_count": 30,
     "metadata": {},
     "output_type": "execute_result"
    },
    {
     "data": {
      "image/png": "[encoded data removed]",
      "text/plain": [
       "<Figure size 640x480 with 1 Axes>"
      ]
     },
     "metadata": {},
     "output_type": "display_data"
    }
   ],
   "source": [
    "df3.plot(kind='line')"
   ]
  },
  {
   "cell_type": "code",
   "execution_count": 31,
   "id": "21e190c9",
   "metadata": {
    "execution": {
     "iopub.execute_input": "2024-01-28T06:20:03.592753Z",
     "iopub.status.busy": "2024-01-28T06:20:03.591713Z",
     "iopub.status.idle": "2024-01-28T06:20:03.601502Z",
     "shell.execute_reply": "2024-01-28T06:20:03.600487Z"
    },
    "papermill": {
     "duration": 0.031975,
     "end_time": "2024-01-28T06:20:03.603632",
     "exception": false,
     "start_time": "2024-01-28T06:20:03.571657",
     "status": "completed"
    },
    "tags": []
   },
   "outputs": [
    {
     "data": {
      "text/plain": [
       "YEAR\n",
       "2013-01-01    52425659\n",
       "2014-01-01    54013038\n",
       "2015-01-01    55496222\n",
       "2016-01-01    56981183\n",
       "2017-01-01    58457244\n",
       "2018-01-01    59989883\n",
       "2019-01-01    61514510\n",
       "2020-01-01    62840267\n",
       "2021-01-01    63892626\n",
       "2022-01-01    65116503\n",
       "Name: TOT_BENES, dtype: int64"
      ]
     },
     "execution_count": 31,
     "metadata": {},
     "output_type": "execute_result"
    }
   ],
   "source": [
    "df3.groupby('YEAR')['TOT_BENES'].sum()\n"
   ]
  }
 ],
 "metadata": {
  "kaggle": {
   "accelerator": "none",
   "dataSources": [
    {
     "datasetId": 4093442,
     "sourceId": 7101059,
     "sourceType": "datasetVersion"
    }
   ],
   "dockerImageVersionId": 30587,
   "isGpuEnabled": false,
   "isInternetEnabled": true,
   "language": "python",
   "sourceType": "notebook"
  },
  "kernelspec": {
   "display_name": "Python 3",
   "language": "python",
   "name": "python3"
  },
  "language_info": {
   "codemirror_mode": {
    "name": "ipython",
    "version": 3
   },
   "file_extension": ".py",
   "mimetype": "text/x-python",
   "name": "python",
   "nbconvert_exporter": "python",
   "pygments_lexer": "ipython3",
   "version": "3.10.12"
  },
  "papermill": {
   "default_parameters": {},
   "duration": 18.379222,
   "end_time": "2024-01-28T06:20:04.343182",
   "environment_variables": {},
   "exception": null,
   "input_path": "__notebook__.ipynb",
   "output_path": "__notebook__.ipynb",
   "parameters": {},
   "start_time": "2024-01-28T06:19:45.963960",
   "version": "2.4.0"
  }
 },
 "nbformat": 4,
 "nbformat_minor": 5
}
