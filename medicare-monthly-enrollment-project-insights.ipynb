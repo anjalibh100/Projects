{
 "cells": [
  {
   "cell_type": "markdown",
   "id": "0a840e3d",
   "metadata": {
    "papermill": {
     "duration": 0.017187,
     "end_time": "2024-10-11T21:29:34.885729",
     "exception": false,
     "start_time": "2024-10-11T21:29:34.868542",
     "status": "completed"
    },
    "tags": []
   },
   "source": [
    "# Medicare Enrollment EDA Project Objective: Clean and analyze Medicare enrollment data to identify key trends."
   ]
  },
  {
   "cell_type": "markdown",
   "id": "5d42c4cf",
   "metadata": {
    "papermill": {
     "duration": 0.01635,
     "end_time": "2024-10-11T21:29:34.917973",
     "exception": false,
     "start_time": "2024-10-11T21:29:34.901623",
     "status": "completed"
    },
    "tags": []
   },
   "source": [
    "<div style=\"width: 100%; background-color: #DBC7BE; color: #0c2461; padding: 10px; border: 3px solid #0c2461; font-size: 15px;margin-bottom: 20px;border-radius:10px;\">\n",
    "    <h3 style=\"color: #0c2461;\">Project Description</h3>\n",
    "    The Medicare Monthly Enrollment data file contains the:\n",
    "    <ul style=\"list-style-type: none; padding-left: 0;\">\n",
    "        <li><span style=\"margin-left: -10px;\">&#8226;</span> Medicare monthly and yearly enrollee counts by geographic area (state/territory and county)</li> \n",
    "        <li><span style=\"margin-left: -10px;\">&#8226;</span> The data is from calendar year 2013 to calendar year 2022</li>\n",
    "        <li><span style=\"margin-left: -10px;\">&#8226;</span> Data Source => https://www2.ccwdata.org/web/guest/home/</li>\n",
    "    </ul>\n",
    "    </span>\n",
    "    <h4 style=\"color: #0c2461;\">The file includes counts for the following:</h4>\n",
    "    <ul style=\"list-style-type: none; padding-left: 0;\">\n",
    "        <li><span style=\"margin-left: -10px;\">&#8226;</span> Total Medicare beneficiaries (Column Name: tot_benes)</li>\n",
    "        <li><span style=\"margin-left: -10px;\">&#8226;</span> Original Medicare beneficiaries (Column Name: Orgnl_Mdcr_Benes)</li>\n",
    "        <li><span style=\"margin-left: -10px;\">&#8226;</span> Medicare Advantage & other health plan beneficiaries (Column Name: MA_and_Oth_Benes)</li>\n",
    "        <li><span style=\"margin-left: -10px;\">&#8226;</span> Aged beneficiaries (Column Name: Aged_Tot_Benes)</li>\n",
    "        <li><span style=\"margin-left: -10px;\">&#8226;</span> Disabled beneficiaries (Column Name: Dsbld_Tot_Benes)</li>\n",
    "        <li><span style=\"margin-left: -10px;\">&#8226;</span> Total Part D (prescription drug) beneficiaries (Column Name: Prscrptn_Drug_Tot_Benes)</li>\n",
    "        <li><span style=\"margin-left: -10px;\">&#8226;</span> Stand-Alone Prescription Drug Plan beneficiaries (Column Name: Prscrptn_Drug_Tot_Benes)</li>\n",
    "        <li><span style=\"margin-left: -10px;\">&#8226;</span> Medicare Advantage Prescription Drug Plan beneficiaries (Column Name: PPrscrptn_Drug_PDP_Benes)</li>\n",
    "        <li><span style=\"margin-left: -10px;\">&#8226;</span> Part D Low-income subsidy beneficiaries (Column Name: Prscrptn_Drug_Deemed_Eligible_Full_LIS_Benes)</li>\n",
    "    </ul>\n",
    "The yearly Medicare enrollee counts are determined using a person-year methodology. For each \n",
    "calendar year, total person-year counts are determined by summing the total number of months that \n",
    "each beneficiary is enrolled during the year and dividing by 12 (Aggregate of 12 months in a year).\n",
    "The monthly counts represent Medicare beneficiaries enrolled in the given month.\n",
    "Yearly counts are aggregated in the source file.\n",
    "\n",
    "\n",
    "<span>\n",
    "</span> \n",
    "</div>"
   ]
  },
  {
   "cell_type": "markdown",
   "id": "aa16414a",
   "metadata": {
    "papermill": {
     "duration": 0.015014,
     "end_time": "2024-10-11T21:29:34.948477",
     "exception": false,
     "start_time": "2024-10-11T21:29:34.933463",
     "status": "completed"
    },
    "tags": []
   },
   "source": [
    "Steps :\n",
    "* Removing irrelevant data.\n",
    "* Changing column type to get aggregates.\n",
    "* Find missing data, handling of missing data.\n",
    "* Getting insights from the data to understand trends statewise for the year 2022 and 2021."
   ]
  },
  {
   "cell_type": "markdown",
   "id": "e8876fdd",
   "metadata": {
    "papermill": {
     "duration": 0.015073,
     "end_time": "2024-10-11T21:29:34.979064",
     "exception": false,
     "start_time": "2024-10-11T21:29:34.963991",
     "status": "completed"
    },
    "tags": []
   },
   "source": [
    "<h2 style=\"position: relative;\">\n",
    "    <span style=\"color: #6a89cc;\">1.</span> \n",
    "    <span style=\"color: #0c2461;\">Libraries and Warnings</span> \n",
    "    <br/>\n",
    "</h2>"
   ]
  },
  {
   "cell_type": "code",
   "execution_count": 1,
   "id": "93d82817",
   "metadata": {
    "_cell_guid": "b1076dfc-b9ad-4769-8c92-a6c4dae69d19",
    "_uuid": "8f2839f25d086af736a60e9eeb907d3b93b6e0e5",
    "execution": {
     "iopub.execute_input": "2024-10-11T21:29:35.014043Z",
     "iopub.status.busy": "2024-10-11T21:29:35.013467Z",
     "iopub.status.idle": "2024-10-11T21:29:38.685443Z",
     "shell.execute_reply": "2024-10-11T21:29:38.684234Z"
    },
    "papermill": {
     "duration": 3.693587,
     "end_time": "2024-10-11T21:29:38.688206",
     "exception": false,
     "start_time": "2024-10-11T21:29:34.994619",
     "status": "completed"
    },
    "tags": []
   },
   "outputs": [
    {
     "data": {
      "text/html": [
       "        <script type=\"text/javascript\">\n",
       "        window.PlotlyConfig = {MathJaxConfig: 'local'};\n",
       "        if (window.MathJax && window.MathJax.Hub && window.MathJax.Hub.Config) {window.MathJax.Hub.Config({SVG: {font: \"STIX-Web\"}});}\n",
       "        if (typeof require !== 'undefined') {\n",
       "        require.undef(\"plotly\");\n",
       "        requirejs.config({\n",
       "            paths: {\n",
       "                'plotly': ['https://cdn.plot.ly/plotly-2.32.0.min']\n",
       "            }\n",
       "        });\n",
       "        require(['plotly'], function(Plotly) {\n",
       "            window._Plotly = Plotly;\n",
       "        });\n",
       "        }\n",
       "        </script>\n",
       "        "
      ]
     },
     "metadata": {},
     "output_type": "display_data"
    }
   ],
   "source": [
    "import pandas as pd # data processing, CSV file I/O (e.g. pd.read_csv)\n",
    "import matplotlib.pyplot as plt\n",
    "from matplotlib import pyplot as pllt\n",
    "from plotly.offline import init_notebook_mode, iplot\n",
    "from wordcloud import WordCloud\n",
    "import plotly.graph_objs as go\n",
    "from plotly import tools\n",
    "import seaborn as sns\n",
    "import warnings\n",
    "warnings.filterwarnings(\"ignore\")\n",
    "import pandasql as ps\n",
    "init_notebook_mode(connected=True)"
   ]
  },
  {
   "cell_type": "markdown",
   "id": "536c16d5",
   "metadata": {
    "papermill": {
     "duration": 0.015621,
     "end_time": "2024-10-11T21:29:38.719846",
     "exception": false,
     "start_time": "2024-10-11T21:29:38.704225",
     "status": "completed"
    },
    "tags": []
   },
   "source": [
    "<h2 style=\"position: relative;\">\n",
    "    <span style=\"color: #6a89cc;\">2.</span> \n",
    "    <span style=\"color: #0c2461;\">Explore the Medicare data set</span> \n",
    "    <br/>\n",
    "</h2>"
   ]
  },
  {
   "cell_type": "code",
   "execution_count": 2,
   "id": "34fcbf99",
   "metadata": {
    "execution": {
     "iopub.execute_input": "2024-10-11T21:29:38.752887Z",
     "iopub.status.busy": "2024-10-11T21:29:38.752431Z",
     "iopub.status.idle": "2024-10-11T21:29:43.772675Z",
     "shell.execute_reply": "2024-10-11T21:29:43.771590Z"
    },
    "papermill": {
     "duration": 5.040193,
     "end_time": "2024-10-11T21:29:43.775606",
     "exception": false,
     "start_time": "2024-10-11T21:29:38.735413",
     "status": "completed"
    },
    "tags": []
   },
   "outputs": [],
   "source": [
    "# Path of the file to read and read the data into the python pandas dataset\n",
    "filepath = \"/kaggle/input/medicare-monthly-enrollment-data/Medicare Monthly Enrollment Data_August 2023.csv\"\n",
    "#data=pd.read_csv(filepath,index_col=\"YEAR\", parse_dates=True, encoding='Windows-1252')\n",
    "data=pd.read_csv(filepath, parse_dates=True, encoding='Windows-1252')\n",
    "# importing the required library"
   ]
  },
  {
   "cell_type": "code",
   "execution_count": 3,
   "id": "7bfe3e21",
   "metadata": {
    "execution": {
     "iopub.execute_input": "2024-10-11T21:29:43.809552Z",
     "iopub.status.busy": "2024-10-11T21:29:43.809130Z",
     "iopub.status.idle": "2024-10-11T21:29:43.851049Z",
     "shell.execute_reply": "2024-10-11T21:29:43.849759Z"
    },
    "papermill": {
     "duration": 0.062146,
     "end_time": "2024-10-11T21:29:43.853915",
     "exception": false,
     "start_time": "2024-10-11T21:29:43.791769",
     "status": "completed"
    },
    "tags": []
   },
   "outputs": [
    {
     "data": {
      "text/html": [
       "<div>\n",
       "<style scoped>\n",
       "    .dataframe tbody tr th:only-of-type {\n",
       "        vertical-align: middle;\n",
       "    }\n",
       "\n",
       "    .dataframe tbody tr th {\n",
       "        vertical-align: top;\n",
       "    }\n",
       "\n",
       "    .dataframe thead th {\n",
       "        text-align: right;\n",
       "    }\n",
       "</style>\n",
       "<table border=\"1\" class=\"dataframe\">\n",
       "  <thead>\n",
       "    <tr style=\"text-align: right;\">\n",
       "      <th></th>\n",
       "      <th>YEAR</th>\n",
       "      <th>MONTH</th>\n",
       "      <th>BENE_GEO_LVL</th>\n",
       "      <th>BENE_STATE_ABRVTN</th>\n",
       "      <th>BENE_STATE_DESC</th>\n",
       "      <th>BENE_COUNTY_DESC</th>\n",
       "      <th>BENE_FIPS_CD</th>\n",
       "      <th>TOT_BENES</th>\n",
       "      <th>ORGNL_MDCR_BENES</th>\n",
       "      <th>MA_AND_OTH_BENES</th>\n",
       "      <th>...</th>\n",
       "      <th>A_B_TOT_BENES</th>\n",
       "      <th>A_B_ORGNL_MDCR_BENES</th>\n",
       "      <th>A_B_MA_AND_OTH_BENES</th>\n",
       "      <th>PRSCRPTN_DRUG_TOT_BENES</th>\n",
       "      <th>PRSCRPTN_DRUG_PDP_BENES</th>\n",
       "      <th>PRSCRPTN_DRUG_MAPD_BENES</th>\n",
       "      <th>PRSCRPTN_DRUG_DEEMED_ELIGIBLE_FULL_LIS_BENES</th>\n",
       "      <th>PRSCRPTN_DRUG_FULL_LIS_BENES</th>\n",
       "      <th>PRSCRPTN_DRUG_PARTIAL_LIS_BENES</th>\n",
       "      <th>PRSCRPTN_DRUG_NO_LIS_BENES</th>\n",
       "    </tr>\n",
       "  </thead>\n",
       "  <tbody>\n",
       "    <tr>\n",
       "      <th>0</th>\n",
       "      <td>2013</td>\n",
       "      <td>Year</td>\n",
       "      <td>National</td>\n",
       "      <td>US</td>\n",
       "      <td>National</td>\n",
       "      <td>Total</td>\n",
       "      <td></td>\n",
       "      <td>52425659</td>\n",
       "      <td>37613096</td>\n",
       "      <td>14812563</td>\n",
       "      <td>...</td>\n",
       "      <td>47620905</td>\n",
       "      <td>32831884</td>\n",
       "      <td>14789022</td>\n",
       "      <td>35679758</td>\n",
       "      <td>22661451</td>\n",
       "      <td>13018307</td>\n",
       "      <td>10000861</td>\n",
       "      <td>1030113.0</td>\n",
       "      <td>409204.0</td>\n",
       "      <td>24239580</td>\n",
       "    </tr>\n",
       "    <tr>\n",
       "      <th>1</th>\n",
       "      <td>2013</td>\n",
       "      <td>Year</td>\n",
       "      <td>State</td>\n",
       "      <td>AL</td>\n",
       "      <td>Alabama</td>\n",
       "      <td>Total</td>\n",
       "      <td>01</td>\n",
       "      <td>921477.0</td>\n",
       "      <td>711448.0</td>\n",
       "      <td>210029.0</td>\n",
       "      <td>...</td>\n",
       "      <td>857619.0</td>\n",
       "      <td>647647.0</td>\n",
       "      <td>209972.0</td>\n",
       "      <td>637247.0</td>\n",
       "      <td>437749.0</td>\n",
       "      <td>199498.0</td>\n",
       "      <td>205496.0</td>\n",
       "      <td>32790.0</td>\n",
       "      <td>11452.0</td>\n",
       "      <td>387510.0</td>\n",
       "    </tr>\n",
       "    <tr>\n",
       "      <th>2</th>\n",
       "      <td>2013</td>\n",
       "      <td>Year</td>\n",
       "      <td>County</td>\n",
       "      <td>AL</td>\n",
       "      <td>Alabama</td>\n",
       "      <td>Autauga</td>\n",
       "      <td>01001</td>\n",
       "      <td>9323.0</td>\n",
       "      <td>6484.0</td>\n",
       "      <td>2840.0</td>\n",
       "      <td>...</td>\n",
       "      <td>8708.0</td>\n",
       "      <td>5868.0</td>\n",
       "      <td>2840.0</td>\n",
       "      <td>6036.0</td>\n",
       "      <td>3268.0</td>\n",
       "      <td>2767.0</td>\n",
       "      <td>1839.0</td>\n",
       "      <td>296.0</td>\n",
       "      <td>105.0</td>\n",
       "      <td>3796.0</td>\n",
       "    </tr>\n",
       "    <tr>\n",
       "      <th>3</th>\n",
       "      <td>2013</td>\n",
       "      <td>Year</td>\n",
       "      <td>County</td>\n",
       "      <td>AL</td>\n",
       "      <td>Alabama</td>\n",
       "      <td>Baldwin</td>\n",
       "      <td>01003</td>\n",
       "      <td>41033.0</td>\n",
       "      <td>28775.0</td>\n",
       "      <td>12258.0</td>\n",
       "      <td>...</td>\n",
       "      <td>38559.0</td>\n",
       "      <td>26304.0</td>\n",
       "      <td>12255.0</td>\n",
       "      <td>27352.0</td>\n",
       "      <td>15593.0</td>\n",
       "      <td>11759.0</td>\n",
       "      <td>5276.0</td>\n",
       "      <td>867.0</td>\n",
       "      <td>379.0</td>\n",
       "      <td>20830.0</td>\n",
       "    </tr>\n",
       "    <tr>\n",
       "      <th>4</th>\n",
       "      <td>2013</td>\n",
       "      <td>Year</td>\n",
       "      <td>County</td>\n",
       "      <td>AL</td>\n",
       "      <td>Alabama</td>\n",
       "      <td>Barbour</td>\n",
       "      <td>01005</td>\n",
       "      <td>5847.0</td>\n",
       "      <td>5036.0</td>\n",
       "      <td>810.0</td>\n",
       "      <td>...</td>\n",
       "      <td>5456.0</td>\n",
       "      <td>4645.0</td>\n",
       "      <td>810.0</td>\n",
       "      <td>4170.0</td>\n",
       "      <td>3410.0</td>\n",
       "      <td>759.0</td>\n",
       "      <td>1783.0</td>\n",
       "      <td>304.0</td>\n",
       "      <td>73.0</td>\n",
       "      <td>2009.0</td>\n",
       "    </tr>\n",
       "    <tr>\n",
       "      <th>5</th>\n",
       "      <td>2013</td>\n",
       "      <td>Year</td>\n",
       "      <td>County</td>\n",
       "      <td>AL</td>\n",
       "      <td>Alabama</td>\n",
       "      <td>Bibb</td>\n",
       "      <td>01007</td>\n",
       "      <td>4574.0</td>\n",
       "      <td>2994.0</td>\n",
       "      <td>1580.0</td>\n",
       "      <td>...</td>\n",
       "      <td>4338.0</td>\n",
       "      <td>2759.0</td>\n",
       "      <td>1580.0</td>\n",
       "      <td>3359.0</td>\n",
       "      <td>1850.0</td>\n",
       "      <td>1509.0</td>\n",
       "      <td>1298.0</td>\n",
       "      <td>228.0</td>\n",
       "      <td>85.0</td>\n",
       "      <td>1749.0</td>\n",
       "    </tr>\n",
       "    <tr>\n",
       "      <th>6</th>\n",
       "      <td>2013</td>\n",
       "      <td>Year</td>\n",
       "      <td>County</td>\n",
       "      <td>AL</td>\n",
       "      <td>Alabama</td>\n",
       "      <td>Blount</td>\n",
       "      <td>01009</td>\n",
       "      <td>11183.0</td>\n",
       "      <td>6695.0</td>\n",
       "      <td>4488.0</td>\n",
       "      <td>...</td>\n",
       "      <td>10502.0</td>\n",
       "      <td>6014.0</td>\n",
       "      <td>4488.0</td>\n",
       "      <td>8479.0</td>\n",
       "      <td>4148.0</td>\n",
       "      <td>4331.0</td>\n",
       "      <td>2302.0</td>\n",
       "      <td>387.0</td>\n",
       "      <td>174.0</td>\n",
       "      <td>5616.0</td>\n",
       "    </tr>\n",
       "    <tr>\n",
       "      <th>7</th>\n",
       "      <td>2013</td>\n",
       "      <td>Year</td>\n",
       "      <td>County</td>\n",
       "      <td>AL</td>\n",
       "      <td>Alabama</td>\n",
       "      <td>Bullock</td>\n",
       "      <td>01011</td>\n",
       "      <td>1886.0</td>\n",
       "      <td>1434.0</td>\n",
       "      <td>452.0</td>\n",
       "      <td>...</td>\n",
       "      <td>1719.0</td>\n",
       "      <td>1267.0</td>\n",
       "      <td>452.0</td>\n",
       "      <td>1446.0</td>\n",
       "      <td>1006.0</td>\n",
       "      <td>440.0</td>\n",
       "      <td>738.0</td>\n",
       "      <td>133.0</td>\n",
       "      <td>23.0</td>\n",
       "      <td>552.0</td>\n",
       "    </tr>\n",
       "    <tr>\n",
       "      <th>8</th>\n",
       "      <td>2013</td>\n",
       "      <td>Year</td>\n",
       "      <td>County</td>\n",
       "      <td>AL</td>\n",
       "      <td>Alabama</td>\n",
       "      <td>Butler</td>\n",
       "      <td>01013</td>\n",
       "      <td>4576.0</td>\n",
       "      <td>4151.0</td>\n",
       "      <td>425.0</td>\n",
       "      <td>...</td>\n",
       "      <td>4336.0</td>\n",
       "      <td>3911.0</td>\n",
       "      <td>425.0</td>\n",
       "      <td>3428.0</td>\n",
       "      <td>3030.0</td>\n",
       "      <td>397.0</td>\n",
       "      <td>1394.0</td>\n",
       "      <td>226.0</td>\n",
       "      <td>70.0</td>\n",
       "      <td>1737.0</td>\n",
       "    </tr>\n",
       "    <tr>\n",
       "      <th>9</th>\n",
       "      <td>2013</td>\n",
       "      <td>Year</td>\n",
       "      <td>County</td>\n",
       "      <td>AL</td>\n",
       "      <td>Alabama</td>\n",
       "      <td>Calhoun</td>\n",
       "      <td>01015</td>\n",
       "      <td>25108.0</td>\n",
       "      <td>22073.0</td>\n",
       "      <td>3036.0</td>\n",
       "      <td>...</td>\n",
       "      <td>23187.0</td>\n",
       "      <td>20151.0</td>\n",
       "      <td>3036.0</td>\n",
       "      <td>15167.0</td>\n",
       "      <td>12254.0</td>\n",
       "      <td>2913.0</td>\n",
       "      <td>5648.0</td>\n",
       "      <td>899.0</td>\n",
       "      <td>299.0</td>\n",
       "      <td>8321.0</td>\n",
       "    </tr>\n",
       "  </tbody>\n",
       "</table>\n",
       "<p>10 rows × 26 columns</p>\n",
       "</div>"
      ],
      "text/plain": [
       "   YEAR MONTH BENE_GEO_LVL BENE_STATE_ABRVTN BENE_STATE_DESC BENE_COUNTY_DESC  \\\n",
       "0  2013  Year     National                US        National            Total   \n",
       "1  2013  Year        State                AL         Alabama            Total   \n",
       "2  2013  Year       County                AL         Alabama          Autauga   \n",
       "3  2013  Year       County                AL         Alabama          Baldwin   \n",
       "4  2013  Year       County                AL         Alabama          Barbour   \n",
       "5  2013  Year       County                AL         Alabama             Bibb   \n",
       "6  2013  Year       County                AL         Alabama           Blount   \n",
       "7  2013  Year       County                AL         Alabama          Bullock   \n",
       "8  2013  Year       County                AL         Alabama           Butler   \n",
       "9  2013  Year       County                AL         Alabama          Calhoun   \n",
       "\n",
       "  BENE_FIPS_CD TOT_BENES ORGNL_MDCR_BENES MA_AND_OTH_BENES  ... A_B_TOT_BENES  \\\n",
       "0               52425659         37613096         14812563  ...      47620905   \n",
       "1           01  921477.0         711448.0         210029.0  ...      857619.0   \n",
       "2        01001    9323.0           6484.0           2840.0  ...        8708.0   \n",
       "3        01003   41033.0          28775.0          12258.0  ...       38559.0   \n",
       "4        01005    5847.0           5036.0            810.0  ...        5456.0   \n",
       "5        01007    4574.0           2994.0           1580.0  ...        4338.0   \n",
       "6        01009   11183.0           6695.0           4488.0  ...       10502.0   \n",
       "7        01011    1886.0           1434.0            452.0  ...        1719.0   \n",
       "8        01013    4576.0           4151.0            425.0  ...        4336.0   \n",
       "9        01015   25108.0          22073.0           3036.0  ...       23187.0   \n",
       "\n",
       "  A_B_ORGNL_MDCR_BENES A_B_MA_AND_OTH_BENES PRSCRPTN_DRUG_TOT_BENES  \\\n",
       "0             32831884             14789022                35679758   \n",
       "1             647647.0             209972.0                637247.0   \n",
       "2               5868.0               2840.0                  6036.0   \n",
       "3              26304.0              12255.0                 27352.0   \n",
       "4               4645.0                810.0                  4170.0   \n",
       "5               2759.0               1580.0                  3359.0   \n",
       "6               6014.0               4488.0                  8479.0   \n",
       "7               1267.0                452.0                  1446.0   \n",
       "8               3911.0                425.0                  3428.0   \n",
       "9              20151.0               3036.0                 15167.0   \n",
       "\n",
       "  PRSCRPTN_DRUG_PDP_BENES PRSCRPTN_DRUG_MAPD_BENES  \\\n",
       "0                22661451                 13018307   \n",
       "1                437749.0                 199498.0   \n",
       "2                  3268.0                   2767.0   \n",
       "3                 15593.0                  11759.0   \n",
       "4                  3410.0                    759.0   \n",
       "5                  1850.0                   1509.0   \n",
       "6                  4148.0                   4331.0   \n",
       "7                  1006.0                    440.0   \n",
       "8                  3030.0                    397.0   \n",
       "9                 12254.0                   2913.0   \n",
       "\n",
       "  PRSCRPTN_DRUG_DEEMED_ELIGIBLE_FULL_LIS_BENES PRSCRPTN_DRUG_FULL_LIS_BENES  \\\n",
       "0                                     10000861                    1030113.0   \n",
       "1                                     205496.0                      32790.0   \n",
       "2                                       1839.0                        296.0   \n",
       "3                                       5276.0                        867.0   \n",
       "4                                       1783.0                        304.0   \n",
       "5                                       1298.0                        228.0   \n",
       "6                                       2302.0                        387.0   \n",
       "7                                        738.0                        133.0   \n",
       "8                                       1394.0                        226.0   \n",
       "9                                       5648.0                        899.0   \n",
       "\n",
       "  PRSCRPTN_DRUG_PARTIAL_LIS_BENES PRSCRPTN_DRUG_NO_LIS_BENES  \n",
       "0                        409204.0                   24239580  \n",
       "1                         11452.0                   387510.0  \n",
       "2                           105.0                     3796.0  \n",
       "3                           379.0                    20830.0  \n",
       "4                            73.0                     2009.0  \n",
       "5                            85.0                     1749.0  \n",
       "6                           174.0                     5616.0  \n",
       "7                            23.0                      552.0  \n",
       "8                            70.0                     1737.0  \n",
       "9                           299.0                     8321.0  \n",
       "\n",
       "[10 rows x 26 columns]"
      ]
     },
     "execution_count": 3,
     "metadata": {},
     "output_type": "execute_result"
    }
   ],
   "source": [
    "data.head(10) #Reading the first 10 rows of the dataset"
   ]
  },
  {
   "cell_type": "markdown",
   "id": "61a70667",
   "metadata": {
    "papermill": {
     "duration": 0.016082,
     "end_time": "2024-10-11T21:29:43.886536",
     "exception": false,
     "start_time": "2024-10-11T21:29:43.870454",
     "status": "completed"
    },
    "tags": []
   },
   "source": [
    "**Observation: Medicare data is categorized by Year, Month, National, State and County.**"
   ]
  },
  {
   "cell_type": "code",
   "execution_count": 4,
   "id": "5d5b5d14",
   "metadata": {
    "execution": {
     "iopub.execute_input": "2024-10-11T21:29:43.921382Z",
     "iopub.status.busy": "2024-10-11T21:29:43.920962Z",
     "iopub.status.idle": "2024-10-11T21:29:43.927537Z",
     "shell.execute_reply": "2024-10-11T21:29:43.926103Z"
    },
    "papermill": {
     "duration": 0.027531,
     "end_time": "2024-10-11T21:29:43.930504",
     "exception": false,
     "start_time": "2024-10-11T21:29:43.902973",
     "status": "completed"
    },
    "tags": []
   },
   "outputs": [
    {
     "name": "stdout",
     "output_type": "stream",
     "text": [
      "The Dataset have 460290 rows and 26 columns.\n"
     ]
    }
   ],
   "source": [
    "row, col = data.shape\n",
    "print(\"The Dataset have\",row,\"rows and\",col,\"columns.\")"
   ]
  },
  {
   "cell_type": "markdown",
   "id": "27e116fb",
   "metadata": {
    "papermill": {
     "duration": 0.016109,
     "end_time": "2024-10-11T21:29:43.963028",
     "exception": false,
     "start_time": "2024-10-11T21:29:43.946919",
     "status": "completed"
    },
    "tags": []
   },
   "source": [
    "**Observation: Medicare dataset has 460290 rows and 26 columns.**"
   ]
  },
  {
   "cell_type": "code",
   "execution_count": 5,
   "id": "85999246",
   "metadata": {
    "execution": {
     "iopub.execute_input": "2024-10-11T21:29:43.997688Z",
     "iopub.status.busy": "2024-10-11T21:29:43.996650Z",
     "iopub.status.idle": "2024-10-11T21:29:45.266589Z",
     "shell.execute_reply": "2024-10-11T21:29:45.265359Z"
    },
    "papermill": {
     "duration": 1.290285,
     "end_time": "2024-10-11T21:29:45.269461",
     "exception": false,
     "start_time": "2024-10-11T21:29:43.979176",
     "status": "completed"
    },
    "tags": []
   },
   "outputs": [
    {
     "name": "stdout",
     "output_type": "stream",
     "text": [
      "<class 'pandas.core.frame.DataFrame'>\n",
      "RangeIndex: 460290 entries, 0 to 460289\n",
      "Data columns (total 26 columns):\n",
      " #   Column                                        Non-Null Count   Dtype \n",
      "---  ------                                        --------------   ----- \n",
      " 0   YEAR                                          460290 non-null  int64 \n",
      " 1   MONTH                                         460290 non-null  object\n",
      " 2   BENE_GEO_LVL                                  460290 non-null  object\n",
      " 3   BENE_STATE_ABRVTN                             460290 non-null  object\n",
      " 4   BENE_STATE_DESC                               460290 non-null  object\n",
      " 5   BENE_COUNTY_DESC                              460290 non-null  object\n",
      " 6   BENE_FIPS_CD                                  460290 non-null  object\n",
      " 7   TOT_BENES                                     460290 non-null  object\n",
      " 8   ORGNL_MDCR_BENES                              460290 non-null  object\n",
      " 9   MA_AND_OTH_BENES                              460290 non-null  object\n",
      " 10  AGED_TOT_BENES                                460290 non-null  object\n",
      " 11  AGED_ESRD_BENES                               460290 non-null  object\n",
      " 12  AGED_NO_ESRD_BENES                            460290 non-null  object\n",
      " 13  DSBLD_TOT_BENES                               460290 non-null  object\n",
      " 14  DSBLD_ESRD_AND_ESRD_ONLY_BENES                460290 non-null  object\n",
      " 15  DSBLD_NO_ESRD_BENES                           460290 non-null  object\n",
      " 16  A_B_TOT_BENES                                 460290 non-null  object\n",
      " 17  A_B_ORGNL_MDCR_BENES                          460290 non-null  object\n",
      " 18  A_B_MA_AND_OTH_BENES                          460290 non-null  object\n",
      " 19  PRSCRPTN_DRUG_TOT_BENES                       460290 non-null  object\n",
      " 20  PRSCRPTN_DRUG_PDP_BENES                       460290 non-null  object\n",
      " 21  PRSCRPTN_DRUG_MAPD_BENES                      460290 non-null  object\n",
      " 22  PRSCRPTN_DRUG_DEEMED_ELIGIBLE_FULL_LIS_BENES  460290 non-null  object\n",
      " 23  PRSCRPTN_DRUG_FULL_LIS_BENES                  460290 non-null  object\n",
      " 24  PRSCRPTN_DRUG_PARTIAL_LIS_BENES               460290 non-null  object\n",
      " 25  PRSCRPTN_DRUG_NO_LIS_BENES                    460290 non-null  object\n",
      "dtypes: int64(1), object(25)\n",
      "memory usage: 91.3+ MB\n"
     ]
    }
   ],
   "source": [
    "#Check the structure of the dataframe\n",
    "data.info()"
   ]
  },
  {
   "cell_type": "markdown",
   "id": "92c7597f",
   "metadata": {
    "papermill": {
     "duration": 0.016495,
     "end_time": "2024-10-11T21:29:45.302840",
     "exception": false,
     "start_time": "2024-10-11T21:29:45.286345",
     "status": "completed"
    },
    "tags": []
   },
   "source": [
    "<h3 style=\"color: #0c2461;\">Observation</h3>\n",
    "<h5 style=\"color: #0c2461;\">Most of the columns have object datatype. \n",
    "</h5>"
   ]
  },
  {
   "cell_type": "code",
   "execution_count": 6,
   "id": "68522c30",
   "metadata": {
    "execution": {
     "iopub.execute_input": "2024-10-11T21:29:45.338636Z",
     "iopub.status.busy": "2024-10-11T21:29:45.337707Z",
     "iopub.status.idle": "2024-10-11T21:29:49.956855Z",
     "shell.execute_reply": "2024-10-11T21:29:49.955588Z"
    },
    "papermill": {
     "duration": 4.64009,
     "end_time": "2024-10-11T21:29:49.959658",
     "exception": false,
     "start_time": "2024-10-11T21:29:45.319568",
     "status": "completed"
    },
    "tags": []
   },
   "outputs": [
    {
     "data": {
      "text/html": [
       "<div>\n",
       "<style scoped>\n",
       "    .dataframe tbody tr th:only-of-type {\n",
       "        vertical-align: middle;\n",
       "    }\n",
       "\n",
       "    .dataframe tbody tr th {\n",
       "        vertical-align: top;\n",
       "    }\n",
       "\n",
       "    .dataframe thead th {\n",
       "        text-align: right;\n",
       "    }\n",
       "</style>\n",
       "<table border=\"1\" class=\"dataframe\">\n",
       "  <thead>\n",
       "    <tr style=\"text-align: right;\">\n",
       "      <th></th>\n",
       "      <th>MONTH</th>\n",
       "      <th>BENE_GEO_LVL</th>\n",
       "      <th>BENE_STATE_ABRVTN</th>\n",
       "      <th>BENE_STATE_DESC</th>\n",
       "      <th>BENE_COUNTY_DESC</th>\n",
       "      <th>BENE_FIPS_CD</th>\n",
       "      <th>TOT_BENES</th>\n",
       "      <th>ORGNL_MDCR_BENES</th>\n",
       "      <th>MA_AND_OTH_BENES</th>\n",
       "      <th>AGED_TOT_BENES</th>\n",
       "      <th>...</th>\n",
       "      <th>A_B_TOT_BENES</th>\n",
       "      <th>A_B_ORGNL_MDCR_BENES</th>\n",
       "      <th>A_B_MA_AND_OTH_BENES</th>\n",
       "      <th>PRSCRPTN_DRUG_TOT_BENES</th>\n",
       "      <th>PRSCRPTN_DRUG_PDP_BENES</th>\n",
       "      <th>PRSCRPTN_DRUG_MAPD_BENES</th>\n",
       "      <th>PRSCRPTN_DRUG_DEEMED_ELIGIBLE_FULL_LIS_BENES</th>\n",
       "      <th>PRSCRPTN_DRUG_FULL_LIS_BENES</th>\n",
       "      <th>PRSCRPTN_DRUG_PARTIAL_LIS_BENES</th>\n",
       "      <th>PRSCRPTN_DRUG_NO_LIS_BENES</th>\n",
       "    </tr>\n",
       "  </thead>\n",
       "  <tbody>\n",
       "    <tr>\n",
       "      <th>count</th>\n",
       "      <td>460290</td>\n",
       "      <td>460290</td>\n",
       "      <td>460290</td>\n",
       "      <td>460290</td>\n",
       "      <td>460290</td>\n",
       "      <td>460290</td>\n",
       "      <td>460290</td>\n",
       "      <td>460290</td>\n",
       "      <td>460290</td>\n",
       "      <td>460290</td>\n",
       "      <td>...</td>\n",
       "      <td>460290</td>\n",
       "      <td>460290</td>\n",
       "      <td>460290</td>\n",
       "      <td>460290</td>\n",
       "      <td>460290</td>\n",
       "      <td>460290</td>\n",
       "      <td>460290</td>\n",
       "      <td>460290</td>\n",
       "      <td>460290</td>\n",
       "      <td>460290</td>\n",
       "    </tr>\n",
       "    <tr>\n",
       "      <th>unique</th>\n",
       "      <td>13</td>\n",
       "      <td>3</td>\n",
       "      <td>59</td>\n",
       "      <td>59</td>\n",
       "      <td>1931</td>\n",
       "      <td>3338</td>\n",
       "      <td>79910</td>\n",
       "      <td>64457</td>\n",
       "      <td>50211</td>\n",
       "      <td>74222</td>\n",
       "      <td>...</td>\n",
       "      <td>76732</td>\n",
       "      <td>60221</td>\n",
       "      <td>50152</td>\n",
       "      <td>68994</td>\n",
       "      <td>52106</td>\n",
       "      <td>47287</td>\n",
       "      <td>34782</td>\n",
       "      <td>11266</td>\n",
       "      <td>6931</td>\n",
       "      <td>59910</td>\n",
       "    </tr>\n",
       "    <tr>\n",
       "      <th>top</th>\n",
       "      <td>January</td>\n",
       "      <td>County</td>\n",
       "      <td>TX</td>\n",
       "      <td>Texas</td>\n",
       "      <td>Total</td>\n",
       "      <td></td>\n",
       "      <td>*</td>\n",
       "      <td>*</td>\n",
       "      <td>*</td>\n",
       "      <td>*</td>\n",
       "      <td>...</td>\n",
       "      <td>*</td>\n",
       "      <td>*</td>\n",
       "      <td>*</td>\n",
       "      <td>*</td>\n",
       "      <td>*</td>\n",
       "      <td>*</td>\n",
       "      <td>*</td>\n",
       "      <td>*</td>\n",
       "      <td>*</td>\n",
       "      <td>*</td>\n",
       "    </tr>\n",
       "    <tr>\n",
       "      <th>freq</th>\n",
       "      <td>36690</td>\n",
       "      <td>452148</td>\n",
       "      <td>35328</td>\n",
       "      <td>35328</td>\n",
       "      <td>8004</td>\n",
       "      <td>276</td>\n",
       "      <td>7518</td>\n",
       "      <td>15439</td>\n",
       "      <td>15439</td>\n",
       "      <td>10483</td>\n",
       "      <td>...</td>\n",
       "      <td>7544</td>\n",
       "      <td>15444</td>\n",
       "      <td>15444</td>\n",
       "      <td>7656</td>\n",
       "      <td>22727</td>\n",
       "      <td>22727</td>\n",
       "      <td>9675</td>\n",
       "      <td>85130</td>\n",
       "      <td>85130</td>\n",
       "      <td>9675</td>\n",
       "    </tr>\n",
       "  </tbody>\n",
       "</table>\n",
       "<p>4 rows × 25 columns</p>\n",
       "</div>"
      ],
      "text/plain": [
       "          MONTH BENE_GEO_LVL BENE_STATE_ABRVTN BENE_STATE_DESC  \\\n",
       "count    460290       460290            460290          460290   \n",
       "unique       13            3                59              59   \n",
       "top     January       County                TX           Texas   \n",
       "freq      36690       452148             35328           35328   \n",
       "\n",
       "       BENE_COUNTY_DESC BENE_FIPS_CD TOT_BENES ORGNL_MDCR_BENES  \\\n",
       "count            460290       460290    460290           460290   \n",
       "unique             1931         3338     79910            64457   \n",
       "top               Total                      *                *   \n",
       "freq               8004          276      7518            15439   \n",
       "\n",
       "       MA_AND_OTH_BENES AGED_TOT_BENES  ... A_B_TOT_BENES  \\\n",
       "count            460290         460290  ...        460290   \n",
       "unique            50211          74222  ...         76732   \n",
       "top                   *              *  ...             *   \n",
       "freq              15439          10483  ...          7544   \n",
       "\n",
       "       A_B_ORGNL_MDCR_BENES A_B_MA_AND_OTH_BENES PRSCRPTN_DRUG_TOT_BENES  \\\n",
       "count                460290               460290                  460290   \n",
       "unique                60221                50152                   68994   \n",
       "top                       *                    *                       *   \n",
       "freq                  15444                15444                    7656   \n",
       "\n",
       "       PRSCRPTN_DRUG_PDP_BENES PRSCRPTN_DRUG_MAPD_BENES  \\\n",
       "count                   460290                   460290   \n",
       "unique                   52106                    47287   \n",
       "top                          *                        *   \n",
       "freq                     22727                    22727   \n",
       "\n",
       "       PRSCRPTN_DRUG_DEEMED_ELIGIBLE_FULL_LIS_BENES  \\\n",
       "count                                        460290   \n",
       "unique                                        34782   \n",
       "top                                               *   \n",
       "freq                                           9675   \n",
       "\n",
       "       PRSCRPTN_DRUG_FULL_LIS_BENES PRSCRPTN_DRUG_PARTIAL_LIS_BENES  \\\n",
       "count                        460290                          460290   \n",
       "unique                        11266                            6931   \n",
       "top                               *                               *   \n",
       "freq                          85130                           85130   \n",
       "\n",
       "       PRSCRPTN_DRUG_NO_LIS_BENES  \n",
       "count                      460290  \n",
       "unique                      59910  \n",
       "top                             *  \n",
       "freq                         9675  \n",
       "\n",
       "[4 rows x 25 columns]"
      ]
     },
     "execution_count": 6,
     "metadata": {},
     "output_type": "execute_result"
    }
   ],
   "source": [
    "data.describe(include = \"object\")"
   ]
  },
  {
   "cell_type": "markdown",
   "id": "89131311",
   "metadata": {
    "papermill": {
     "duration": 0.016744,
     "end_time": "2024-10-11T21:29:49.993491",
     "exception": false,
     "start_time": "2024-10-11T21:29:49.976747",
     "status": "completed"
    },
    "tags": []
   },
   "source": [
    "<h3 style=\"color: #0c2461;\">Observations</h3>\n",
    "<h5 style=\"color: #0c2461;\">For the object data type column, the values are stored as \"*\". This should be replaced by 0. Conversion is required from object type to Integer for all columns which have counts of beneficiaries (integer datatype)</h5>"
   ]
  },
  {
   "cell_type": "code",
   "execution_count": 7,
   "id": "8de3139b",
   "metadata": {
    "execution": {
     "iopub.execute_input": "2024-10-11T21:29:50.029186Z",
     "iopub.status.busy": "2024-10-11T21:29:50.028629Z",
     "iopub.status.idle": "2024-10-11T21:29:50.245525Z",
     "shell.execute_reply": "2024-10-11T21:29:50.244492Z"
    },
    "papermill": {
     "duration": 0.237892,
     "end_time": "2024-10-11T21:29:50.248176",
     "exception": false,
     "start_time": "2024-10-11T21:29:50.010284",
     "status": "completed"
    },
    "tags": []
   },
   "outputs": [
    {
     "data": {
      "text/plain": [
       "array(['*', '0.0', '100.0', ..., '99994.0', '99995.0', '99997.0'],\n",
       "      dtype=object)"
      ]
     },
     "execution_count": 7,
     "metadata": {},
     "output_type": "execute_result"
    }
   ],
   "source": [
    "# get all the unique values in the 'TOT_BENS' column\n",
    "Total_ben = data['TOT_BENES'].unique()\n",
    "\n",
    "# sort them alphabetically and then take a closer look\n",
    "Total_ben.sort()\n",
    "Total_ben"
   ]
  },
  {
   "cell_type": "code",
   "execution_count": 8,
   "id": "7ac0946d",
   "metadata": {
    "execution": {
     "iopub.execute_input": "2024-10-11T21:29:50.284545Z",
     "iopub.status.busy": "2024-10-11T21:29:50.284140Z",
     "iopub.status.idle": "2024-10-11T21:29:50.291434Z",
     "shell.execute_reply": "2024-10-11T21:29:50.290383Z"
    },
    "papermill": {
     "duration": 0.029188,
     "end_time": "2024-10-11T21:29:50.294536",
     "exception": false,
     "start_time": "2024-10-11T21:29:50.265348",
     "status": "completed"
    },
    "tags": []
   },
   "outputs": [
    {
     "data": {
      "text/plain": [
       "(460290, 26)"
      ]
     },
     "execution_count": 8,
     "metadata": {},
     "output_type": "execute_result"
    }
   ],
   "source": [
    "data.shape"
   ]
  },
  {
   "cell_type": "markdown",
   "id": "87e1eaf0",
   "metadata": {
    "papermill": {
     "duration": 0.017883,
     "end_time": "2024-10-11T21:29:50.335919",
     "exception": false,
     "start_time": "2024-10-11T21:29:50.318036",
     "status": "completed"
    },
    "tags": []
   },
   "source": [
    "<h3 style=\"color: #0c2461;\">Observation</h3>\n",
    "<h5 style=\"color: #0c2461;\"> Since the value \"*\" exist in the dataset for the specific column and may produce inconsistent result,it is hence necessary to find out how many rows contains this value in the specific column. </h5>"
   ]
  },
  {
   "cell_type": "code",
   "execution_count": 9,
   "id": "efaa0c08",
   "metadata": {
    "execution": {
     "iopub.execute_input": "2024-10-11T21:29:50.372750Z",
     "iopub.status.busy": "2024-10-11T21:29:50.372345Z",
     "iopub.status.idle": "2024-10-11T21:29:50.401092Z",
     "shell.execute_reply": "2024-10-11T21:29:50.399807Z"
    },
    "papermill": {
     "duration": 0.050223,
     "end_time": "2024-10-11T21:29:50.403609",
     "exception": false,
     "start_time": "2024-10-11T21:29:50.353386",
     "status": "completed"
    },
    "tags": []
   },
   "outputs": [
    {
     "data": {
      "text/plain": [
       "7518"
      ]
     },
     "execution_count": 9,
     "metadata": {},
     "output_type": "execute_result"
    }
   ],
   "source": [
    "data[\"TOT_BENES\"].isin([\"*\"]).sum()"
   ]
  },
  {
   "cell_type": "markdown",
   "id": "d568c2ff",
   "metadata": {
    "papermill": {
     "duration": 0.017503,
     "end_time": "2024-10-11T21:29:50.438701",
     "exception": false,
     "start_time": "2024-10-11T21:29:50.421198",
     "status": "completed"
    },
    "tags": []
   },
   "source": [
    "<h5 style=\"color: #0c2461;\"> This data can be explored further by adding these rows to another dataframe. </h5>"
   ]
  },
  {
   "cell_type": "code",
   "execution_count": 10,
   "id": "37de742d",
   "metadata": {
    "execution": {
     "iopub.execute_input": "2024-10-11T21:29:50.476320Z",
     "iopub.status.busy": "2024-10-11T21:29:50.475237Z",
     "iopub.status.idle": "2024-10-11T21:29:50.586056Z",
     "shell.execute_reply": "2024-10-11T21:29:50.584857Z"
    },
    "papermill": {
     "duration": 0.132794,
     "end_time": "2024-10-11T21:29:50.589147",
     "exception": false,
     "start_time": "2024-10-11T21:29:50.456353",
     "status": "completed"
    },
    "tags": []
   },
   "outputs": [],
   "source": [
    "result_df=data[(data['TOT_BENES'] == \"*\")]"
   ]
  },
  {
   "cell_type": "code",
   "execution_count": 11,
   "id": "5b773f1e",
   "metadata": {
    "execution": {
     "iopub.execute_input": "2024-10-11T21:29:50.626927Z",
     "iopub.status.busy": "2024-10-11T21:29:50.626463Z",
     "iopub.status.idle": "2024-10-11T21:29:50.656542Z",
     "shell.execute_reply": "2024-10-11T21:29:50.655329Z"
    },
    "papermill": {
     "duration": 0.051948,
     "end_time": "2024-10-11T21:29:50.659314",
     "exception": false,
     "start_time": "2024-10-11T21:29:50.607366",
     "status": "completed"
    },
    "tags": []
   },
   "outputs": [
    {
     "data": {
      "text/html": [
       "<div>\n",
       "<style scoped>\n",
       "    .dataframe tbody tr th:only-of-type {\n",
       "        vertical-align: middle;\n",
       "    }\n",
       "\n",
       "    .dataframe tbody tr th {\n",
       "        vertical-align: top;\n",
       "    }\n",
       "\n",
       "    .dataframe thead th {\n",
       "        text-align: right;\n",
       "    }\n",
       "</style>\n",
       "<table border=\"1\" class=\"dataframe\">\n",
       "  <thead>\n",
       "    <tr style=\"text-align: right;\">\n",
       "      <th></th>\n",
       "      <th>YEAR</th>\n",
       "      <th>MONTH</th>\n",
       "      <th>BENE_GEO_LVL</th>\n",
       "      <th>BENE_STATE_ABRVTN</th>\n",
       "      <th>BENE_STATE_DESC</th>\n",
       "      <th>BENE_COUNTY_DESC</th>\n",
       "      <th>BENE_FIPS_CD</th>\n",
       "      <th>TOT_BENES</th>\n",
       "      <th>ORGNL_MDCR_BENES</th>\n",
       "      <th>MA_AND_OTH_BENES</th>\n",
       "      <th>...</th>\n",
       "      <th>A_B_TOT_BENES</th>\n",
       "      <th>A_B_ORGNL_MDCR_BENES</th>\n",
       "      <th>A_B_MA_AND_OTH_BENES</th>\n",
       "      <th>PRSCRPTN_DRUG_TOT_BENES</th>\n",
       "      <th>PRSCRPTN_DRUG_PDP_BENES</th>\n",
       "      <th>PRSCRPTN_DRUG_MAPD_BENES</th>\n",
       "      <th>PRSCRPTN_DRUG_DEEMED_ELIGIBLE_FULL_LIS_BENES</th>\n",
       "      <th>PRSCRPTN_DRUG_FULL_LIS_BENES</th>\n",
       "      <th>PRSCRPTN_DRUG_PARTIAL_LIS_BENES</th>\n",
       "      <th>PRSCRPTN_DRUG_NO_LIS_BENES</th>\n",
       "    </tr>\n",
       "  </thead>\n",
       "  <tbody>\n",
       "    <tr>\n",
       "      <th>69</th>\n",
       "      <td>2013</td>\n",
       "      <td>Year</td>\n",
       "      <td>County</td>\n",
       "      <td>AL</td>\n",
       "      <td>Alabama</td>\n",
       "      <td>Unknown</td>\n",
       "      <td>01999</td>\n",
       "      <td>*</td>\n",
       "      <td>*</td>\n",
       "      <td>*</td>\n",
       "      <td>...</td>\n",
       "      <td>*</td>\n",
       "      <td>*</td>\n",
       "      <td>*</td>\n",
       "      <td>*</td>\n",
       "      <td>*</td>\n",
       "      <td>*</td>\n",
       "      <td>*</td>\n",
       "      <td>*</td>\n",
       "      <td>*</td>\n",
       "      <td>*</td>\n",
       "    </tr>\n",
       "    <tr>\n",
       "      <th>100</th>\n",
       "      <td>2013</td>\n",
       "      <td>Year</td>\n",
       "      <td>County</td>\n",
       "      <td>AK</td>\n",
       "      <td>Alaska</td>\n",
       "      <td>Unknown</td>\n",
       "      <td>02999</td>\n",
       "      <td>*</td>\n",
       "      <td>*</td>\n",
       "      <td>*</td>\n",
       "      <td>...</td>\n",
       "      <td>*</td>\n",
       "      <td>*</td>\n",
       "      <td>*</td>\n",
       "      <td>*</td>\n",
       "      <td>*</td>\n",
       "      <td>*</td>\n",
       "      <td>*</td>\n",
       "      <td>*</td>\n",
       "      <td>*</td>\n",
       "      <td>*</td>\n",
       "    </tr>\n",
       "    <tr>\n",
       "      <th>117</th>\n",
       "      <td>2013</td>\n",
       "      <td>Year</td>\n",
       "      <td>County</td>\n",
       "      <td>AZ</td>\n",
       "      <td>Arizona</td>\n",
       "      <td>Unknown</td>\n",
       "      <td>04999</td>\n",
       "      <td>*</td>\n",
       "      <td>*</td>\n",
       "      <td>*</td>\n",
       "      <td>...</td>\n",
       "      <td>*</td>\n",
       "      <td>*</td>\n",
       "      <td>*</td>\n",
       "      <td>*</td>\n",
       "      <td>*</td>\n",
       "      <td>*</td>\n",
       "      <td>*</td>\n",
       "      <td>*</td>\n",
       "      <td>*</td>\n",
       "      <td>*</td>\n",
       "    </tr>\n",
       "    <tr>\n",
       "      <th>194</th>\n",
       "      <td>2013</td>\n",
       "      <td>Year</td>\n",
       "      <td>County</td>\n",
       "      <td>AR</td>\n",
       "      <td>Arkansas</td>\n",
       "      <td>Unknown</td>\n",
       "      <td>05999</td>\n",
       "      <td>*</td>\n",
       "      <td>*</td>\n",
       "      <td>*</td>\n",
       "      <td>...</td>\n",
       "      <td>*</td>\n",
       "      <td>*</td>\n",
       "      <td>*</td>\n",
       "      <td>*</td>\n",
       "      <td>*</td>\n",
       "      <td>*</td>\n",
       "      <td>*</td>\n",
       "      <td>*</td>\n",
       "      <td>*</td>\n",
       "      <td>*</td>\n",
       "    </tr>\n",
       "    <tr>\n",
       "      <th>254</th>\n",
       "      <td>2013</td>\n",
       "      <td>Year</td>\n",
       "      <td>County</td>\n",
       "      <td>CA</td>\n",
       "      <td>California</td>\n",
       "      <td>Unknown</td>\n",
       "      <td>06999</td>\n",
       "      <td>*</td>\n",
       "      <td>*</td>\n",
       "      <td>*</td>\n",
       "      <td>...</td>\n",
       "      <td>*</td>\n",
       "      <td>*</td>\n",
       "      <td>*</td>\n",
       "      <td>*</td>\n",
       "      <td>*</td>\n",
       "      <td>*</td>\n",
       "      <td>*</td>\n",
       "      <td>*</td>\n",
       "      <td>*</td>\n",
       "      <td>*</td>\n",
       "    </tr>\n",
       "    <tr>\n",
       "      <th>320</th>\n",
       "      <td>2013</td>\n",
       "      <td>Year</td>\n",
       "      <td>County</td>\n",
       "      <td>CO</td>\n",
       "      <td>Colorado</td>\n",
       "      <td>Unknown</td>\n",
       "      <td>08999</td>\n",
       "      <td>*</td>\n",
       "      <td>*</td>\n",
       "      <td>*</td>\n",
       "      <td>...</td>\n",
       "      <td>*</td>\n",
       "      <td>*</td>\n",
       "      <td>*</td>\n",
       "      <td>*</td>\n",
       "      <td>*</td>\n",
       "      <td>*</td>\n",
       "      <td>*</td>\n",
       "      <td>*</td>\n",
       "      <td>*</td>\n",
       "      <td>*</td>\n",
       "    </tr>\n",
       "    <tr>\n",
       "      <th>330</th>\n",
       "      <td>2013</td>\n",
       "      <td>Year</td>\n",
       "      <td>County</td>\n",
       "      <td>CT</td>\n",
       "      <td>Connecticut</td>\n",
       "      <td>Unknown</td>\n",
       "      <td>09999</td>\n",
       "      <td>*</td>\n",
       "      <td>*</td>\n",
       "      <td>*</td>\n",
       "      <td>...</td>\n",
       "      <td>*</td>\n",
       "      <td>*</td>\n",
       "      <td>*</td>\n",
       "      <td>*</td>\n",
       "      <td>*</td>\n",
       "      <td>*</td>\n",
       "      <td>*</td>\n",
       "      <td>*</td>\n",
       "      <td>*</td>\n",
       "      <td>*</td>\n",
       "    </tr>\n",
       "    <tr>\n",
       "      <th>335</th>\n",
       "      <td>2013</td>\n",
       "      <td>Year</td>\n",
       "      <td>County</td>\n",
       "      <td>DE</td>\n",
       "      <td>Delaware</td>\n",
       "      <td>Unknown</td>\n",
       "      <td>10999</td>\n",
       "      <td>*</td>\n",
       "      <td>*</td>\n",
       "      <td>*</td>\n",
       "      <td>...</td>\n",
       "      <td>*</td>\n",
       "      <td>*</td>\n",
       "      <td>*</td>\n",
       "      <td>*</td>\n",
       "      <td>*</td>\n",
       "      <td>*</td>\n",
       "      <td>*</td>\n",
       "      <td>*</td>\n",
       "      <td>*</td>\n",
       "      <td>*</td>\n",
       "    </tr>\n",
       "    <tr>\n",
       "      <th>338</th>\n",
       "      <td>2013</td>\n",
       "      <td>Year</td>\n",
       "      <td>County</td>\n",
       "      <td>DC</td>\n",
       "      <td>District of Columbia</td>\n",
       "      <td>Unknown</td>\n",
       "      <td>11999</td>\n",
       "      <td>*</td>\n",
       "      <td>*</td>\n",
       "      <td>*</td>\n",
       "      <td>...</td>\n",
       "      <td>*</td>\n",
       "      <td>*</td>\n",
       "      <td>*</td>\n",
       "      <td>*</td>\n",
       "      <td>*</td>\n",
       "      <td>*</td>\n",
       "      <td>*</td>\n",
       "      <td>*</td>\n",
       "      <td>*</td>\n",
       "      <td>*</td>\n",
       "    </tr>\n",
       "    <tr>\n",
       "      <th>407</th>\n",
       "      <td>2013</td>\n",
       "      <td>Year</td>\n",
       "      <td>County</td>\n",
       "      <td>FL</td>\n",
       "      <td>Florida</td>\n",
       "      <td>Unknown</td>\n",
       "      <td>12999</td>\n",
       "      <td>*</td>\n",
       "      <td>*</td>\n",
       "      <td>*</td>\n",
       "      <td>...</td>\n",
       "      <td>*</td>\n",
       "      <td>*</td>\n",
       "      <td>*</td>\n",
       "      <td>*</td>\n",
       "      <td>*</td>\n",
       "      <td>*</td>\n",
       "      <td>*</td>\n",
       "      <td>*</td>\n",
       "      <td>*</td>\n",
       "      <td>*</td>\n",
       "    </tr>\n",
       "  </tbody>\n",
       "</table>\n",
       "<p>10 rows × 26 columns</p>\n",
       "</div>"
      ],
      "text/plain": [
       "     YEAR MONTH BENE_GEO_LVL BENE_STATE_ABRVTN       BENE_STATE_DESC  \\\n",
       "69   2013  Year       County                AL               Alabama   \n",
       "100  2013  Year       County                AK                Alaska   \n",
       "117  2013  Year       County                AZ               Arizona   \n",
       "194  2013  Year       County                AR              Arkansas   \n",
       "254  2013  Year       County                CA            California   \n",
       "320  2013  Year       County                CO              Colorado   \n",
       "330  2013  Year       County                CT           Connecticut   \n",
       "335  2013  Year       County                DE              Delaware   \n",
       "338  2013  Year       County                DC  District of Columbia   \n",
       "407  2013  Year       County                FL               Florida   \n",
       "\n",
       "    BENE_COUNTY_DESC BENE_FIPS_CD TOT_BENES ORGNL_MDCR_BENES MA_AND_OTH_BENES  \\\n",
       "69           Unknown        01999         *                *                *   \n",
       "100          Unknown        02999         *                *                *   \n",
       "117          Unknown        04999         *                *                *   \n",
       "194          Unknown        05999         *                *                *   \n",
       "254          Unknown        06999         *                *                *   \n",
       "320          Unknown        08999         *                *                *   \n",
       "330          Unknown        09999         *                *                *   \n",
       "335          Unknown        10999         *                *                *   \n",
       "338          Unknown        11999         *                *                *   \n",
       "407          Unknown        12999         *                *                *   \n",
       "\n",
       "     ... A_B_TOT_BENES A_B_ORGNL_MDCR_BENES A_B_MA_AND_OTH_BENES  \\\n",
       "69   ...             *                    *                    *   \n",
       "100  ...             *                    *                    *   \n",
       "117  ...             *                    *                    *   \n",
       "194  ...             *                    *                    *   \n",
       "254  ...             *                    *                    *   \n",
       "320  ...             *                    *                    *   \n",
       "330  ...             *                    *                    *   \n",
       "335  ...             *                    *                    *   \n",
       "338  ...             *                    *                    *   \n",
       "407  ...             *                    *                    *   \n",
       "\n",
       "    PRSCRPTN_DRUG_TOT_BENES PRSCRPTN_DRUG_PDP_BENES PRSCRPTN_DRUG_MAPD_BENES  \\\n",
       "69                        *                       *                        *   \n",
       "100                       *                       *                        *   \n",
       "117                       *                       *                        *   \n",
       "194                       *                       *                        *   \n",
       "254                       *                       *                        *   \n",
       "320                       *                       *                        *   \n",
       "330                       *                       *                        *   \n",
       "335                       *                       *                        *   \n",
       "338                       *                       *                        *   \n",
       "407                       *                       *                        *   \n",
       "\n",
       "    PRSCRPTN_DRUG_DEEMED_ELIGIBLE_FULL_LIS_BENES PRSCRPTN_DRUG_FULL_LIS_BENES  \\\n",
       "69                                             *                            *   \n",
       "100                                            *                            *   \n",
       "117                                            *                            *   \n",
       "194                                            *                            *   \n",
       "254                                            *                            *   \n",
       "320                                            *                            *   \n",
       "330                                            *                            *   \n",
       "335                                            *                            *   \n",
       "338                                            *                            *   \n",
       "407                                            *                            *   \n",
       "\n",
       "    PRSCRPTN_DRUG_PARTIAL_LIS_BENES PRSCRPTN_DRUG_NO_LIS_BENES  \n",
       "69                                *                          *  \n",
       "100                               *                          *  \n",
       "117                               *                          *  \n",
       "194                               *                          *  \n",
       "254                               *                          *  \n",
       "320                               *                          *  \n",
       "330                               *                          *  \n",
       "335                               *                          *  \n",
       "338                               *                          *  \n",
       "407                               *                          *  \n",
       "\n",
       "[10 rows x 26 columns]"
      ]
     },
     "execution_count": 11,
     "metadata": {},
     "output_type": "execute_result"
    }
   ],
   "source": [
    "result_df.head(10)"
   ]
  },
  {
   "cell_type": "code",
   "execution_count": 12,
   "id": "26601dc3",
   "metadata": {
    "execution": {
     "iopub.execute_input": "2024-10-11T21:29:50.698020Z",
     "iopub.status.busy": "2024-10-11T21:29:50.697520Z",
     "iopub.status.idle": "2024-10-11T21:29:50.704049Z",
     "shell.execute_reply": "2024-10-11T21:29:50.702902Z"
    },
    "papermill": {
     "duration": 0.029002,
     "end_time": "2024-10-11T21:29:50.706641",
     "exception": false,
     "start_time": "2024-10-11T21:29:50.677639",
     "status": "completed"
    },
    "tags": []
   },
   "outputs": [
    {
     "name": "stdout",
     "output_type": "stream",
     "text": [
      "The Dataset have 7518 rows and 26 columns.\n"
     ]
    }
   ],
   "source": [
    "row, col = result_df.shape\n",
    "print(\"The Dataset have\",row,\"rows and\",col,\"columns.\")"
   ]
  },
  {
   "cell_type": "markdown",
   "id": "e4476f26",
   "metadata": {
    "papermill": {
     "duration": 0.017854,
     "end_time": "2024-10-11T21:29:50.742564",
     "exception": false,
     "start_time": "2024-10-11T21:29:50.724710",
     "status": "completed"
    },
    "tags": []
   },
   "source": [
    "**Few columns shows unclean data.**"
   ]
  },
  {
   "cell_type": "code",
   "execution_count": 13,
   "id": "97a6d25f",
   "metadata": {
    "execution": {
     "iopub.execute_input": "2024-10-11T21:29:50.780961Z",
     "iopub.status.busy": "2024-10-11T21:29:50.780499Z",
     "iopub.status.idle": "2024-10-11T21:29:50.807148Z",
     "shell.execute_reply": "2024-10-11T21:29:50.806195Z"
    },
    "papermill": {
     "duration": 0.049013,
     "end_time": "2024-10-11T21:29:50.809622",
     "exception": false,
     "start_time": "2024-10-11T21:29:50.760609",
     "status": "completed"
    },
    "tags": []
   },
   "outputs": [
    {
     "data": {
      "text/plain": [
       "10483"
      ]
     },
     "execution_count": 13,
     "metadata": {},
     "output_type": "execute_result"
    }
   ],
   "source": [
    "data[\"DSBLD_TOT_BENES\"].isin([\"*\"]).sum()"
   ]
  },
  {
   "cell_type": "code",
   "execution_count": 14,
   "id": "8a87bddc",
   "metadata": {
    "execution": {
     "iopub.execute_input": "2024-10-11T21:29:50.849208Z",
     "iopub.status.busy": "2024-10-11T21:29:50.848736Z",
     "iopub.status.idle": "2024-10-11T21:29:50.875390Z",
     "shell.execute_reply": "2024-10-11T21:29:50.874222Z"
    },
    "papermill": {
     "duration": 0.049031,
     "end_time": "2024-10-11T21:29:50.877975",
     "exception": false,
     "start_time": "2024-10-11T21:29:50.828944",
     "status": "completed"
    },
    "tags": []
   },
   "outputs": [
    {
     "data": {
      "text/plain": [
       "15439"
      ]
     },
     "execution_count": 14,
     "metadata": {},
     "output_type": "execute_result"
    }
   ],
   "source": [
    "data[\"ORGNL_MDCR_BENES\"].isin([\"*\"]).sum()"
   ]
  },
  {
   "cell_type": "code",
   "execution_count": 15,
   "id": "ffcca088",
   "metadata": {
    "execution": {
     "iopub.execute_input": "2024-10-11T21:29:50.917956Z",
     "iopub.status.busy": "2024-10-11T21:29:50.917503Z",
     "iopub.status.idle": "2024-10-11T21:29:50.944004Z",
     "shell.execute_reply": "2024-10-11T21:29:50.942863Z"
    },
    "papermill": {
     "duration": 0.049447,
     "end_time": "2024-10-11T21:29:50.946486",
     "exception": false,
     "start_time": "2024-10-11T21:29:50.897039",
     "status": "completed"
    },
    "tags": []
   },
   "outputs": [
    {
     "data": {
      "text/plain": [
       "10483"
      ]
     },
     "execution_count": 15,
     "metadata": {},
     "output_type": "execute_result"
    }
   ],
   "source": [
    "data[\"AGED_TOT_BENES\"].isin([\"*\"]).sum()"
   ]
  },
  {
   "cell_type": "code",
   "execution_count": 16,
   "id": "7408acdb",
   "metadata": {
    "execution": {
     "iopub.execute_input": "2024-10-11T21:29:50.986439Z",
     "iopub.status.busy": "2024-10-11T21:29:50.985359Z",
     "iopub.status.idle": "2024-10-11T21:29:51.011122Z",
     "shell.execute_reply": "2024-10-11T21:29:51.009864Z"
    },
    "papermill": {
     "duration": 0.048608,
     "end_time": "2024-10-11T21:29:51.013884",
     "exception": false,
     "start_time": "2024-10-11T21:29:50.965276",
     "status": "completed"
    },
    "tags": []
   },
   "outputs": [
    {
     "data": {
      "text/plain": [
       "15439"
      ]
     },
     "execution_count": 16,
     "metadata": {},
     "output_type": "execute_result"
    }
   ],
   "source": [
    "data[\"MA_AND_OTH_BENES\"].isin([\"*\"]).sum()"
   ]
  },
  {
   "cell_type": "markdown",
   "id": "9686399e",
   "metadata": {
    "papermill": {
     "duration": 0.018975,
     "end_time": "2024-10-11T21:29:51.052378",
     "exception": false,
     "start_time": "2024-10-11T21:29:51.033403",
     "status": "completed"
    },
    "tags": []
   },
   "source": [
    "**The irrelevant data found would be transformed and cleaned in the following section. Now we should also look for any missing data (NULLS) in the columns of the data set.**"
   ]
  },
  {
   "cell_type": "code",
   "execution_count": 17,
   "id": "f0202f5f",
   "metadata": {
    "execution": {
     "iopub.execute_input": "2024-10-11T21:29:51.092190Z",
     "iopub.status.busy": "2024-10-11T21:29:51.091726Z",
     "iopub.status.idle": "2024-10-11T21:29:52.359269Z",
     "shell.execute_reply": "2024-10-11T21:29:52.358103Z"
    },
    "papermill": {
     "duration": 1.290626,
     "end_time": "2024-10-11T21:29:52.361986",
     "exception": false,
     "start_time": "2024-10-11T21:29:51.071360",
     "status": "completed"
    },
    "tags": []
   },
   "outputs": [
    {
     "data": {
      "text/plain": [
       "YEAR                                            0\n",
       "MONTH                                           0\n",
       "BENE_GEO_LVL                                    0\n",
       "BENE_STATE_ABRVTN                               0\n",
       "BENE_STATE_DESC                                 0\n",
       "BENE_COUNTY_DESC                                0\n",
       "BENE_FIPS_CD                                    0\n",
       "TOT_BENES                                       0\n",
       "ORGNL_MDCR_BENES                                0\n",
       "MA_AND_OTH_BENES                                0\n",
       "AGED_TOT_BENES                                  0\n",
       "AGED_ESRD_BENES                                 0\n",
       "AGED_NO_ESRD_BENES                              0\n",
       "DSBLD_TOT_BENES                                 0\n",
       "DSBLD_ESRD_AND_ESRD_ONLY_BENES                  0\n",
       "DSBLD_NO_ESRD_BENES                             0\n",
       "A_B_TOT_BENES                                   0\n",
       "A_B_ORGNL_MDCR_BENES                            0\n",
       "A_B_MA_AND_OTH_BENES                            0\n",
       "PRSCRPTN_DRUG_TOT_BENES                         0\n",
       "PRSCRPTN_DRUG_PDP_BENES                         0\n",
       "PRSCRPTN_DRUG_MAPD_BENES                        0\n",
       "PRSCRPTN_DRUG_DEEMED_ELIGIBLE_FULL_LIS_BENES    0\n",
       "PRSCRPTN_DRUG_FULL_LIS_BENES                    0\n",
       "PRSCRPTN_DRUG_PARTIAL_LIS_BENES                 0\n",
       "PRSCRPTN_DRUG_NO_LIS_BENES                      0\n",
       "dtype: int64"
      ]
     },
     "execution_count": 17,
     "metadata": {},
     "output_type": "execute_result"
    }
   ],
   "source": [
    "# get the number of missing data points per column\n",
    "missing_values_count = data.isnull().sum()\n",
    "# look at the # of missing points in the first ten columns\n",
    "missing_values_count[0:26]"
   ]
  },
  {
   "cell_type": "markdown",
   "id": "4f7657ff",
   "metadata": {
    "papermill": {
     "duration": 0.01953,
     "end_time": "2024-10-11T21:29:52.401163",
     "exception": false,
     "start_time": "2024-10-11T21:29:52.381633",
     "status": "completed"
    },
    "tags": []
   },
   "source": [
    "<h3 style=\"color: #0c2461;\">Observations</h3>\n",
    "<h5 style=\"color: #0c2461;\">No missing values in the dataset.</h5>"
   ]
  },
  {
   "cell_type": "markdown",
   "id": "00e79dd0",
   "metadata": {
    "papermill": {
     "duration": 0.018697,
     "end_time": "2024-10-11T21:29:52.438994",
     "exception": false,
     "start_time": "2024-10-11T21:29:52.420297",
     "status": "completed"
    },
    "tags": []
   },
   "source": [
    "<h2 style=\"position: relative;\">\n",
    "    <span style=\"color: #6a89cc;\">3.</span> \n",
    "    <span style=\"color: #0c2461;\">Cleaning the Dataset</span> \n",
    "    <br/>\n",
    "</h2>\n"
   ]
  },
  {
   "cell_type": "markdown",
   "id": "47700c1e",
   "metadata": {
    "papermill": {
     "duration": 0.018713,
     "end_time": "2024-10-11T21:29:52.476466",
     "exception": false,
     "start_time": "2024-10-11T21:29:52.457753",
     "status": "completed"
    },
    "tags": []
   },
   "source": [
    "**To fix the data with \"*\" in the columns, change the the data type of columns from object to numeric. The data \"*\" is considered as bad data and is replaced by numeric value of zero.**"
   ]
  },
  {
   "cell_type": "code",
   "execution_count": 18,
   "id": "e677ee7e",
   "metadata": {
    "execution": {
     "iopub.execute_input": "2024-10-11T21:29:52.516168Z",
     "iopub.status.busy": "2024-10-11T21:29:52.515713Z",
     "iopub.status.idle": "2024-10-11T21:29:52.824106Z",
     "shell.execute_reply": "2024-10-11T21:29:52.822961Z"
    },
    "papermill": {
     "duration": 0.331508,
     "end_time": "2024-10-11T21:29:52.826878",
     "exception": false,
     "start_time": "2024-10-11T21:29:52.495370",
     "status": "completed"
    },
    "tags": []
   },
   "outputs": [],
   "source": [
    "data['TOT_BENES'] = pd.to_numeric(data['TOT_BENES'], errors='coerce').fillna(0).astype(int) "
   ]
  },
  {
   "cell_type": "code",
   "execution_count": 19,
   "id": "79b44bd8",
   "metadata": {
    "execution": {
     "iopub.execute_input": "2024-10-11T21:29:52.866716Z",
     "iopub.status.busy": "2024-10-11T21:29:52.866266Z",
     "iopub.status.idle": "2024-10-11T21:29:52.925312Z",
     "shell.execute_reply": "2024-10-11T21:29:52.924189Z"
    },
    "papermill": {
     "duration": 0.081891,
     "end_time": "2024-10-11T21:29:52.927855",
     "exception": false,
     "start_time": "2024-10-11T21:29:52.845964",
     "status": "completed"
    },
    "tags": []
   },
   "outputs": [
    {
     "data": {
      "text/plain": [
       "0"
      ]
     },
     "execution_count": 19,
     "metadata": {},
     "output_type": "execute_result"
    }
   ],
   "source": [
    "data[\"TOT_BENES\"].isin([\"*\"]).sum()"
   ]
  },
  {
   "cell_type": "code",
   "execution_count": 20,
   "id": "c9649ffd",
   "metadata": {
    "execution": {
     "iopub.execute_input": "2024-10-11T21:29:52.968058Z",
     "iopub.status.busy": "2024-10-11T21:29:52.967587Z",
     "iopub.status.idle": "2024-10-11T21:29:54.203433Z",
     "shell.execute_reply": "2024-10-11T21:29:54.201771Z"
    },
    "papermill": {
     "duration": 1.259698,
     "end_time": "2024-10-11T21:29:54.206761",
     "exception": false,
     "start_time": "2024-10-11T21:29:52.947063",
     "status": "completed"
    },
    "tags": []
   },
   "outputs": [],
   "source": [
    "# Data type conversion for other columns by filling 0 for irrelevant data that is not a number\n",
    "data['DSBLD_TOT_BENES'] = pd.to_numeric(data['DSBLD_TOT_BENES'], errors='coerce').fillna(0).astype(int) \n",
    "data['AGED_TOT_BENES'] = pd.to_numeric(data['AGED_TOT_BENES'], errors='coerce').fillna(0).astype(int) \n",
    "data['ORGNL_MDCR_BENES'] = pd.to_numeric(data['ORGNL_MDCR_BENES'], errors='coerce').fillna(0).astype(int) \n",
    "data['MA_AND_OTH_BENES'] = pd.to_numeric(data['MA_AND_OTH_BENES'], errors='coerce').fillna(0).astype(int) "
   ]
  },
  {
   "cell_type": "code",
   "execution_count": 21,
   "id": "39f9acb8",
   "metadata": {
    "execution": {
     "iopub.execute_input": "2024-10-11T21:29:54.247437Z",
     "iopub.status.busy": "2024-10-11T21:29:54.246969Z",
     "iopub.status.idle": "2024-10-11T21:29:55.263975Z",
     "shell.execute_reply": "2024-10-11T21:29:55.262749Z"
    },
    "papermill": {
     "duration": 1.041416,
     "end_time": "2024-10-11T21:29:55.267634",
     "exception": false,
     "start_time": "2024-10-11T21:29:54.226218",
     "status": "completed"
    },
    "tags": []
   },
   "outputs": [
    {
     "name": "stdout",
     "output_type": "stream",
     "text": [
      "<class 'pandas.core.frame.DataFrame'>\n",
      "RangeIndex: 460290 entries, 0 to 460289\n",
      "Data columns (total 26 columns):\n",
      " #   Column                                        Non-Null Count   Dtype \n",
      "---  ------                                        --------------   ----- \n",
      " 0   YEAR                                          460290 non-null  int64 \n",
      " 1   MONTH                                         460290 non-null  object\n",
      " 2   BENE_GEO_LVL                                  460290 non-null  object\n",
      " 3   BENE_STATE_ABRVTN                             460290 non-null  object\n",
      " 4   BENE_STATE_DESC                               460290 non-null  object\n",
      " 5   BENE_COUNTY_DESC                              460290 non-null  object\n",
      " 6   BENE_FIPS_CD                                  460290 non-null  object\n",
      " 7   TOT_BENES                                     460290 non-null  int64 \n",
      " 8   ORGNL_MDCR_BENES                              460290 non-null  int64 \n",
      " 9   MA_AND_OTH_BENES                              460290 non-null  int64 \n",
      " 10  AGED_TOT_BENES                                460290 non-null  int64 \n",
      " 11  AGED_ESRD_BENES                               460290 non-null  object\n",
      " 12  AGED_NO_ESRD_BENES                            460290 non-null  object\n",
      " 13  DSBLD_TOT_BENES                               460290 non-null  int64 \n",
      " 14  DSBLD_ESRD_AND_ESRD_ONLY_BENES                460290 non-null  object\n",
      " 15  DSBLD_NO_ESRD_BENES                           460290 non-null  object\n",
      " 16  A_B_TOT_BENES                                 460290 non-null  object\n",
      " 17  A_B_ORGNL_MDCR_BENES                          460290 non-null  object\n",
      " 18  A_B_MA_AND_OTH_BENES                          460290 non-null  object\n",
      " 19  PRSCRPTN_DRUG_TOT_BENES                       460290 non-null  object\n",
      " 20  PRSCRPTN_DRUG_PDP_BENES                       460290 non-null  object\n",
      " 21  PRSCRPTN_DRUG_MAPD_BENES                      460290 non-null  object\n",
      " 22  PRSCRPTN_DRUG_DEEMED_ELIGIBLE_FULL_LIS_BENES  460290 non-null  object\n",
      " 23  PRSCRPTN_DRUG_FULL_LIS_BENES                  460290 non-null  object\n",
      " 24  PRSCRPTN_DRUG_PARTIAL_LIS_BENES               460290 non-null  object\n",
      " 25  PRSCRPTN_DRUG_NO_LIS_BENES                    460290 non-null  object\n",
      "dtypes: int64(6), object(20)\n",
      "memory usage: 91.3+ MB\n"
     ]
    }
   ],
   "source": [
    "#Check the structure of the dataframe\n",
    "data.info()"
   ]
  },
  {
   "cell_type": "markdown",
   "id": "4247d5d7",
   "metadata": {
    "papermill": {
     "duration": 0.020964,
     "end_time": "2024-10-11T21:29:55.308838",
     "exception": false,
     "start_time": "2024-10-11T21:29:55.287874",
     "status": "completed"
    },
    "tags": []
   },
   "source": [
    "<h3 style=\"color: #0c2461;\">Observations</h3>\n",
    "<h5 style=\"color: #0c2461;\">Data type converted for the specific columns from object type to Integer.</h5>"
   ]
  },
  {
   "cell_type": "markdown",
   "id": "9f537640",
   "metadata": {
    "papermill": {
     "duration": 0.0193,
     "end_time": "2024-10-11T21:29:55.347703",
     "exception": false,
     "start_time": "2024-10-11T21:29:55.328403",
     "status": "completed"
    },
    "tags": []
   },
   "source": [
    "<h2 style=\"position: relative;\">\n",
    "    <span style=\"color: #6a89cc;\">4.</span> \n",
    "    <span style=\"color: #0c2461;\">Data Visualization</span> \n",
    "    <br/>\n",
    "</h2>"
   ]
  },
  {
   "cell_type": "markdown",
   "id": "358b7274",
   "metadata": {
    "papermill": {
     "duration": 0.019665,
     "end_time": "2024-10-11T21:29:55.387036",
     "exception": false,
     "start_time": "2024-10-11T21:29:55.367371",
     "status": "completed"
    },
    "tags": []
   },
   "source": [
    "**1. Trend for total beneficiaries by Year**"
   ]
  },
  {
   "cell_type": "code",
   "execution_count": 22,
   "id": "25ed7b9b",
   "metadata": {
    "execution": {
     "iopub.execute_input": "2024-10-11T21:29:55.429607Z",
     "iopub.status.busy": "2024-10-11T21:29:55.429169Z",
     "iopub.status.idle": "2024-10-11T21:29:55.435065Z",
     "shell.execute_reply": "2024-10-11T21:29:55.433853Z"
    },
    "papermill": {
     "duration": 0.029434,
     "end_time": "2024-10-11T21:29:55.437511",
     "exception": false,
     "start_time": "2024-10-11T21:29:55.408077",
     "status": "completed"
    },
    "tags": []
   },
   "outputs": [],
   "source": [
    "def round_to_million(df, column):\n",
    "    return df[column].round(-6) / 1000000"
   ]
  },
  {
   "cell_type": "code",
   "execution_count": 23,
   "id": "d015dd88",
   "metadata": {
    "execution": {
     "iopub.execute_input": "2024-10-11T21:29:55.481776Z",
     "iopub.status.busy": "2024-10-11T21:29:55.480155Z",
     "iopub.status.idle": "2024-10-11T21:29:56.086730Z",
     "shell.execute_reply": "2024-10-11T21:29:56.085265Z"
    },
    "papermill": {
     "duration": 0.631741,
     "end_time": "2024-10-11T21:29:56.088737",
     "exception": true,
     "start_time": "2024-10-11T21:29:55.456996",
     "status": "failed"
    },
    "tags": []
   },
   "outputs": [
    {
     "ename": "NameError",
     "evalue": "name 'df_yearly_national' is not defined",
     "output_type": "error",
     "traceback": [
      "\u001b[0;31m---------------------------------------------------------------------------\u001b[0m",
      "\u001b[0;31mNameError\u001b[0m                                 Traceback (most recent call last)",
      "Cell \u001b[0;32mIn[23], line 1\u001b[0m\n\u001b[0;32m----> 1\u001b[0m \u001b[43mdf_yearly_national\u001b[49m\u001b[38;5;241m.\u001b[39mgroupby(\u001b[38;5;124m'\u001b[39m\u001b[38;5;124mYEAR\u001b[39m\u001b[38;5;124m'\u001b[39m)[\u001b[38;5;124m'\u001b[39m\u001b[38;5;124mTOT_BENES\u001b[39m\u001b[38;5;124m'\u001b[39m]\u001b[38;5;241m.\u001b[39msum()\n\u001b[1;32m      2\u001b[0m \u001b[38;5;66;03m#Take only necessary columns\u001b[39;00m\n\u001b[1;32m      3\u001b[0m df_year\u001b[38;5;241m=\u001b[39m pd\u001b[38;5;241m.\u001b[39mDataFrame(df_yearly_national,columns \u001b[38;5;241m=\u001b[39m [\u001b[38;5;124m'\u001b[39m\u001b[38;5;124mYEAR\u001b[39m\u001b[38;5;124m'\u001b[39m, \u001b[38;5;124m'\u001b[39m\u001b[38;5;124mTOT_BENES\u001b[39m\u001b[38;5;124m'\u001b[39m])\u001b[38;5;241m.\u001b[39msort_values(\u001b[38;5;124m'\u001b[39m\u001b[38;5;124mTOT_BENES\u001b[39m\u001b[38;5;124m'\u001b[39m, ascending\u001b[38;5;241m=\u001b[39m\u001b[38;5;28;01mFalse\u001b[39;00m)\n",
      "\u001b[0;31mNameError\u001b[0m: name 'df_yearly_national' is not defined"
     ]
    }
   ],
   "source": [
    "df_yearly_national.groupby('YEAR')['TOT_BENES'].sum()\n",
    "#Take only necessary columns\n",
    "df_year= pd.DataFrame(df_yearly_national,columns = ['YEAR', 'TOT_BENES']).sort_values('TOT_BENES', ascending=False)\n",
    "df_year.reset_index(drop=True, inplace=True)\n",
    "#df_year.style.hide(axis='index')\n",
    "df_state1 = ps.sqldf(\"select Year, tot_benes from df_year\")\n",
    "df_state1['TotalBeneficiaries'] = round_to_million(df_state1, 'TOT_BENES')\n",
    "#df_state1 = df_state1.to_string(formatters={'TotalBeneficiaries': '{:,.0f}M'.format})\n",
    "pd.options.display.float_format = '{:,.0f}M'.format"
   ]
  },
  {
   "cell_type": "code",
   "execution_count": null,
   "id": "069ef2d3",
   "metadata": {
    "execution": {
     "iopub.execute_input": "2024-10-11T21:27:08.212480Z",
     "iopub.status.busy": "2024-10-11T21:27:08.212057Z",
     "iopub.status.idle": "2024-10-11T21:27:08.222166Z",
     "shell.execute_reply": "2024-10-11T21:27:08.220931Z",
     "shell.execute_reply.started": "2024-10-11T21:27:08.212435Z"
    },
    "papermill": {
     "duration": null,
     "end_time": null,
     "exception": null,
     "start_time": null,
     "status": "pending"
    },
    "tags": []
   },
   "outputs": [],
   "source": [
    "selected_columns = df_state1.iloc[:, [0, 2]] \n",
    "print(selected_columns)"
   ]
  },
  {
   "cell_type": "code",
   "execution_count": null,
   "id": "022186a1",
   "metadata": {
    "execution": {
     "iopub.execute_input": "2024-10-11T21:27:08.225041Z",
     "iopub.status.busy": "2024-10-11T21:27:08.224064Z",
     "iopub.status.idle": "2024-10-11T21:27:08.538890Z",
     "shell.execute_reply": "2024-10-11T21:27:08.537442Z",
     "shell.execute_reply.started": "2024-10-11T21:27:08.224988Z"
    },
    "papermill": {
     "duration": null,
     "end_time": null,
     "exception": null,
     "start_time": null,
     "status": "pending"
    },
    "tags": []
   },
   "outputs": [],
   "source": [
    "data = data[(data['TOT_BENES'] != 0) & (data['AGED_TOT_BENES'] != 0) & (data['DSBLD_TOT_BENES'] != 0) & (data['PRSCRPTN_DRUG_TOT_BENES'] != 0)]\n",
    "#Take only necessary columns\n",
    "data= pd.DataFrame(data,columns = ['YEAR','MONTH','BENE_GEO_LVL','BENE_STATE_ABRVTN','BENE_COUNTY_DESC', 'TOT_BENES','AGED_TOT_BENES', 'DSBLD_TOT_BENES','PRSCRPTN_DRUG_TOT_BENES']) "
   ]
  },
  {
   "cell_type": "markdown",
   "id": "537e783f",
   "metadata": {
    "papermill": {
     "duration": null,
     "end_time": null,
     "exception": null,
     "start_time": null,
     "status": "pending"
    },
    "tags": []
   },
   "source": [
    "**2. For the current year (Considering 2022 as the current year) ,****"
   ]
  },
  {
   "cell_type": "code",
   "execution_count": null,
   "id": "074ef618",
   "metadata": {
    "execution": {
     "iopub.execute_input": "2024-10-11T21:27:08.541260Z",
     "iopub.status.busy": "2024-10-11T21:27:08.540842Z",
     "iopub.status.idle": "2024-10-11T21:27:08.568756Z",
     "shell.execute_reply": "2024-10-11T21:27:08.567289Z",
     "shell.execute_reply.started": "2024-10-11T21:27:08.541216Z"
    },
    "papermill": {
     "duration": null,
     "end_time": null,
     "exception": null,
     "start_time": null,
     "status": "pending"
    },
    "tags": []
   },
   "outputs": [],
   "source": [
    "options = [2022]  \n",
    "data_flt = data[(data['YEAR'].isin(options))]\n",
    "#data_flt = data_flt[(data_flt['BENE_COUNTY_DESC'] == 'Total')]\n",
    "data_flt= data_flt[(data_flt['BENE_GEO_LVL'] == 'State')]\n",
    "data_flt = data_flt[(data_flt['MONTH'] == 'Year')]"
   ]
  },
  {
   "cell_type": "markdown",
   "id": "432b6e3c",
   "metadata": {
    "papermill": {
     "duration": null,
     "end_time": null,
     "exception": null,
     "start_time": null,
     "status": "pending"
    },
    "tags": []
   },
   "source": [
    "**Top 5 States with highest disablity count**"
   ]
  },
  {
   "cell_type": "code",
   "execution_count": null,
   "id": "68d08464",
   "metadata": {
    "execution": {
     "iopub.execute_input": "2024-10-11T21:27:08.571057Z",
     "iopub.status.busy": "2024-10-11T21:27:08.570643Z",
     "iopub.status.idle": "2024-10-11T21:27:08.619529Z",
     "shell.execute_reply": "2024-10-11T21:27:08.618189Z",
     "shell.execute_reply.started": "2024-10-11T21:27:08.571012Z"
    },
    "papermill": {
     "duration": null,
     "end_time": null,
     "exception": null,
     "start_time": null,
     "status": "pending"
    },
    "tags": []
   },
   "outputs": [],
   "source": [
    "# Top 5 states with highest disabled beneficiaries \n",
    "df_dsbld = ps.sqldf(\"select state as 'State', dsbld_tot_benes as 'Disabled Total Beneficiaries' from (select dsbld_tot_benes, bene_state_abrvtn as state, RANK() OVER(order by dsbld_tot_benes desc) as RN from data_flt  order by RN) as temp where RN < 6\")\n",
    "df_dsbld.head(30)"
   ]
  },
  {
   "cell_type": "code",
   "execution_count": null,
   "id": "b5741c4a",
   "metadata": {
    "execution": {
     "iopub.execute_input": "2024-10-11T21:27:08.621525Z",
     "iopub.status.busy": "2024-10-11T21:27:08.621060Z",
     "iopub.status.idle": "2024-10-11T21:27:08.636973Z",
     "shell.execute_reply": "2024-10-11T21:27:08.635520Z",
     "shell.execute_reply.started": "2024-10-11T21:27:08.621458Z"
    },
    "papermill": {
     "duration": null,
     "end_time": null,
     "exception": null,
     "start_time": null,
     "status": "pending"
    },
    "tags": []
   },
   "outputs": [],
   "source": [
    "data_flt.head(2)"
   ]
  },
  {
   "cell_type": "code",
   "execution_count": null,
   "id": "7abd2c3c",
   "metadata": {
    "execution": {
     "iopub.execute_input": "2024-10-11T21:27:08.644129Z",
     "iopub.status.busy": "2024-10-11T21:27:08.643197Z",
     "iopub.status.idle": "2024-10-11T21:27:08.692018Z",
     "shell.execute_reply": "2024-10-11T21:27:08.690884Z",
     "shell.execute_reply.started": "2024-10-11T21:27:08.644071Z"
    },
    "papermill": {
     "duration": null,
     "end_time": null,
     "exception": null,
     "start_time": null,
     "status": "pending"
    },
    "tags": []
   },
   "outputs": [],
   "source": [
    "#q1=''\n",
    "df_state = ps.sqldf(\"select tot_benes,BENE_STATE_ABRVTN as state from data_flt order by tot_benes desc \")\n",
    "#print(ps.sqldf(q1, locals()))\n",
    "df_state.head(30)\n"
   ]
  },
  {
   "cell_type": "code",
   "execution_count": null,
   "id": "485ecefe",
   "metadata": {
    "execution": {
     "iopub.execute_input": "2024-10-11T21:27:08.694046Z",
     "iopub.status.busy": "2024-10-11T21:27:08.693563Z",
     "iopub.status.idle": "2024-10-11T21:27:08.758212Z",
     "shell.execute_reply": "2024-10-11T21:27:08.756870Z",
     "shell.execute_reply.started": "2024-10-11T21:27:08.693989Z"
    },
    "papermill": {
     "duration": null,
     "end_time": null,
     "exception": null,
     "start_time": null,
     "status": "pending"
    },
    "tags": []
   },
   "outputs": [],
   "source": [
    "scl = [[0.0, 'rgb(248,255,206)'],[0.2, 'rgb(203,255,205)'],[0.4, 'rgb(155,255,164)'], [0.6, 'rgb(79,255,178)'],[0.8, 'rgb(15,183,132)'], [1, '#008059']]\n",
    "data = [ dict(\n",
    "        type='choropleth',\n",
    "        colorscale = scl,\n",
    "        autocolorscale = False,\n",
    "        locations = df_state.state,\n",
    "        z = df_state.TOT_BENES,\n",
    "        locationmode = 'USA-states',\n",
    "        text = df_state.state,\n",
    "        marker = dict(\n",
    "            line = dict (\n",
    "                color = 'rgb(255,255,255)',\n",
    "                width = 2\n",
    "            ) ),\n",
    "        colorbar = dict(\n",
    "            title = \"Total Beneficiaries by Different States \")\n",
    "        )\n",
    "       ]\n",
    "\n",
    "layout = dict(\n",
    "        title = 'Total Beneficiaries by Different States - year 2022',\n",
    "        geo = dict(\n",
    "            scope='usa',\n",
    "            projection=dict( type='albers usa' ),\n",
    "            showlakes = True,\n",
    "            lakecolor = 'rgb(255, 255, 255)'),\n",
    "             )\n",
    "    \n",
    "fig = dict( data=data, layout=layout )\n",
    "iplot( fig, filename='d3-cloropleth-map' )"
   ]
  },
  {
   "cell_type": "code",
   "execution_count": null,
   "id": "ed81e40d",
   "metadata": {
    "execution": {
     "iopub.execute_input": "2024-10-11T21:27:08.760384Z",
     "iopub.status.busy": "2024-10-11T21:27:08.759896Z",
     "iopub.status.idle": "2024-10-11T21:27:08.768943Z",
     "shell.execute_reply": "2024-10-11T21:27:08.767257Z",
     "shell.execute_reply.started": "2024-10-11T21:27:08.760323Z"
    },
    "papermill": {
     "duration": null,
     "end_time": null,
     "exception": null,
     "start_time": null,
     "status": "pending"
    },
    "tags": []
   },
   "outputs": [],
   "source": [
    "#t=This dataset has only yearly counts for geographical level as National\n",
    "row, col = df_yearly_national.shape\n",
    "print(\"The Dataset have\",row,\"rows and\",col,\"columns.\")"
   ]
  },
  {
   "cell_type": "code",
   "execution_count": null,
   "id": "e3e02be3",
   "metadata": {
    "execution": {
     "iopub.execute_input": "2024-10-11T21:27:08.771279Z",
     "iopub.status.busy": "2024-10-11T21:27:08.770837Z",
     "iopub.status.idle": "2024-10-11T21:27:08.810681Z",
     "shell.execute_reply": "2024-10-11T21:27:08.809297Z",
     "shell.execute_reply.started": "2024-10-11T21:27:08.771232Z"
    },
    "papermill": {
     "duration": null,
     "end_time": null,
     "exception": null,
     "start_time": null,
     "status": "pending"
    },
    "tags": []
   },
   "outputs": [],
   "source": [
    "df_yearly_national.head(10)"
   ]
  },
  {
   "cell_type": "code",
   "execution_count": null,
   "id": "97ce3649",
   "metadata": {
    "execution": {
     "iopub.execute_input": "2024-10-11T21:27:08.812870Z",
     "iopub.status.busy": "2024-10-11T21:27:08.812363Z",
     "iopub.status.idle": "2024-10-11T21:27:08.822452Z",
     "shell.execute_reply": "2024-10-11T21:27:08.821263Z",
     "shell.execute_reply.started": "2024-10-11T21:27:08.812821Z"
    },
    "papermill": {
     "duration": null,
     "end_time": null,
     "exception": null,
     "start_time": null,
     "status": "pending"
    },
    "tags": []
   },
   "outputs": [],
   "source": [
    "numerical_columns = list(df_yearly_national.loc[:,['TOT_BENES', 'AGED_TOT_BENES', 'DSBLD_TOT_BENES','PRSCRPTN_DRUG_TOT_BENES']])"
   ]
  },
  {
   "cell_type": "code",
   "execution_count": null,
   "id": "1f7aebec",
   "metadata": {
    "execution": {
     "iopub.execute_input": "2024-10-11T21:27:08.824375Z",
     "iopub.status.busy": "2024-10-11T21:27:08.823959Z",
     "iopub.status.idle": "2024-10-11T21:27:08.835289Z",
     "shell.execute_reply": "2024-10-11T21:27:08.834234Z",
     "shell.execute_reply.started": "2024-10-11T21:27:08.824331Z"
    },
    "papermill": {
     "duration": null,
     "end_time": null,
     "exception": null,
     "start_time": null,
     "status": "pending"
    },
    "tags": []
   },
   "outputs": [],
   "source": [
    "#Seaborn settings for visualizations!\n",
    "rc = {\n",
    "    \"axes.facecolor\": \"#f7f9fc\",\n",
    "    \"figure.facecolor\": \"#f7f9fc\",\n",
    "    \"axes.edgecolor\": \"#000000\",\n",
    "    \"grid.color\": \"#EBEBE7\",\n",
    "    \"font.family\": \"serif\",\n",
    "    \"axes.labelcolor\": \"#000000\",\n",
    "    \"xtick.color\": \"#000000\",\n",
    "    \"ytick.color\": \"#000000\",\n",
    "    \"grid.alpha\": 0.4\n",
    "}\n",
    "\n",
    "default_palette = 'YlOrRd'\n",
    "\n",
    "sns.set(rc=rc)\n",
    "pd.set_option('display.max_columns',35)\n",
    "pd.options.display.float_format = '{:,.2f}'.format"
   ]
  },
  {
   "cell_type": "code",
   "execution_count": null,
   "id": "6de7318f",
   "metadata": {
    "execution": {
     "iopub.execute_input": "2024-10-11T21:27:08.837269Z",
     "iopub.status.busy": "2024-10-11T21:27:08.836769Z",
     "iopub.status.idle": "2024-10-11T21:27:09.309895Z",
     "shell.execute_reply": "2024-10-11T21:27:09.308626Z",
     "shell.execute_reply.started": "2024-10-11T21:27:08.837208Z"
    },
    "papermill": {
     "duration": null,
     "end_time": null,
     "exception": null,
     "start_time": null,
     "status": "pending"
    },
    "tags": []
   },
   "outputs": [],
   "source": [
    "df_yearly_national['YEAR'] = pd.to_numeric(df_yearly_national['YEAR']).astype(int)\n",
    "#sns.barplot(x=df3['YEAR'], y=df3['TOT_BENES'])\n",
    "sns.barplot(x=df_yearly_national['YEAR'], y=df_yearly_national['TOT_BENES'])"
   ]
  }
 ],
 "metadata": {
  "kaggle": {
   "accelerator": "none",
   "dataSources": [
    {
     "datasetId": 4093442,
     "sourceId": 7101059,
     "sourceType": "datasetVersion"
    }
   ],
   "isGpuEnabled": false,
   "isInternetEnabled": true,
   "language": "python",
   "sourceType": "notebook"
  },
  "kernelspec": {
   "display_name": "Python 3",
   "language": "python",
   "name": "python3"
  },
  "language_info": {
   "codemirror_mode": {
    "name": "ipython",
    "version": 3
   },
   "file_extension": ".py",
   "mimetype": "text/x-python",
   "name": "python",
   "nbconvert_exporter": "python",
   "pygments_lexer": "ipython3",
   "version": "3.10.14"
  },
  "papermill": {
   "default_parameters": {},
   "duration": 25.16341,
   "end_time": "2024-10-11T21:29:57.031350",
   "environment_variables": {},
   "exception": true,
   "input_path": "__notebook__.ipynb",
   "output_path": "__notebook__.ipynb",
   "parameters": {},
   "start_time": "2024-10-11T21:29:31.867940",
   "version": "2.6.0"
  }
 },
 "nbformat": 4,
 "nbformat_minor": 5
}
