{
 "cells": [
  {
   "cell_type": "markdown",
   "id": "cbaf7242",
   "metadata": {
    "papermill": {
     "duration": 0.017472,
     "end_time": "2024-10-11T03:45:15.320742",
     "exception": false,
     "start_time": "2024-10-11T03:45:15.303270",
     "status": "completed"
    },
    "tags": []
   },
   "source": [
    "# Medicare Enrollment EDA Project Objective: Clean and analyze Medicare enrollment data to identify key trends."
   ]
  },
  {
   "cell_type": "markdown",
   "id": "352c15cf",
   "metadata": {
    "papermill": {
     "duration": 0.016709,
     "end_time": "2024-10-11T03:45:15.353623",
     "exception": false,
     "start_time": "2024-10-11T03:45:15.336914",
     "status": "completed"
    },
    "tags": []
   },
   "source": [
    "<div style=\"width: 100%; background-color: #DBC7BE; color: #0c2461; padding: 10px; border: 3px solid #0c2461; font-size: 15px;margin-bottom: 20px;border-radius:10px;\">\n",
    "    <h3 style=\"color: #0c2461;\">Project Description</h3>\n",
    "    The Medicare Monthly Enrollment data file contains the:\n",
    "    <ul style=\"list-style-type: none; padding-left: 0;\">\n",
    "        <li><span style=\"margin-left: -10px;\">&#8226;</span> Medicare monthly and yearly enrollee counts by geographic area (state/territory and county)</li> \n",
    "        <li><span style=\"margin-left: -10px;\">&#8226;</span> The data is from calendar year 2013 to calendar year 2022</li>\n",
    "        <li><span style=\"margin-left: -10px;\">&#8226;</span> Data Source => https://www2.ccwdata.org/web/guest/home/</li>\n",
    "    </ul>\n",
    "    </span>\n",
    "    <h4 style=\"color: #0c2461;\">The file includes counts for the following:</h4>\n",
    "    <ul style=\"list-style-type: none; padding-left: 0;\">\n",
    "        <li><span style=\"margin-left: -10px;\">&#8226;</span> Total Medicare beneficiaries (Column Name: tot_benes)</li>\n",
    "        <li><span style=\"margin-left: -10px;\">&#8226;</span> Original Medicare beneficiaries (Column Name: Orgnl_Mdcr_Benes)</li>\n",
    "        <li><span style=\"margin-left: -10px;\">&#8226;</span> Medicare Advantage & other health plan beneficiaries (Column Name: MA_and_Oth_Benes)</li>\n",
    "        <li><span style=\"margin-left: -10px;\">&#8226;</span> Aged beneficiaries (Column Name: Aged_Tot_Benes)</li>\n",
    "        <li><span style=\"margin-left: -10px;\">&#8226;</span> Disabled beneficiaries (Column Name: Dsbld_Tot_Benes)</li>\n",
    "        <li><span style=\"margin-left: -10px;\">&#8226;</span> Total Part D (prescription drug) beneficiaries (Column Name: Prscrptn_Drug_Tot_Benes)</li>\n",
    "        <li><span style=\"margin-left: -10px;\">&#8226;</span> Stand-Alone Prescription Drug Plan beneficiaries (Column Name: Prscrptn_Drug_Tot_Benes)</li>\n",
    "        <li><span style=\"margin-left: -10px;\">&#8226;</span> Medicare Advantage Prescription Drug Plan beneficiaries (Column Name: PPrscrptn_Drug_PDP_Benes)</li>\n",
    "        <li><span style=\"margin-left: -10px;\">&#8226;</span> Part D Low-income subsidy beneficiaries (Column Name: Prscrptn_Drug_Deemed_Eligible_Full_LIS_Benes)</li>\n",
    "    </ul>\n",
    "The yearly Medicare enrollee counts are determined using a person-year methodology. For each \n",
    "calendar year, total person-year counts are determined by summing the total number of months that \n",
    "each beneficiary is enrolled during the year and dividing by 12 (Aggregate of 12 months in a year).\n",
    "The monthly counts represent Medicare beneficiaries enrolled in the given month.\n",
    "Yearly counts are aggregated in the source file.\n",
    "\n",
    "\n",
    "<span>\n",
    "</span> \n",
    "</div>"
   ]
  },
  {
   "cell_type": "markdown",
   "id": "87b3d2ac",
   "metadata": {
    "papermill": {
     "duration": 0.015903,
     "end_time": "2024-10-11T03:45:15.386064",
     "exception": false,
     "start_time": "2024-10-11T03:45:15.370161",
     "status": "completed"
    },
    "tags": []
   },
   "source": [
    "Steps :\n",
    "* Removing irrelevant data.\n",
    "* Changing column type to get aggregates.\n",
    "* Find missing data, handling of missing data.\n",
    "* Getting insights from the data to understand trends statewise for the year 2022 and 2021."
   ]
  },
  {
   "cell_type": "markdown",
   "id": "0b42f284",
   "metadata": {
    "papermill": {
     "duration": 0.015815,
     "end_time": "2024-10-11T03:45:15.418008",
     "exception": false,
     "start_time": "2024-10-11T03:45:15.402193",
     "status": "completed"
    },
    "tags": []
   },
   "source": [
    "<h2 style=\"position: relative;\">\n",
    "    <span style=\"color: #6a89cc;\">1.</span> \n",
    "    <span style=\"color: #0c2461;\">Libraries and Warnings</span> \n",
    "    <br/>\n",
    "</h2>"
   ]
  },
  {
   "cell_type": "code",
   "execution_count": 1,
   "id": "06f32664",
   "metadata": {
    "_cell_guid": "b1076dfc-b9ad-4769-8c92-a6c4dae69d19",
    "_uuid": "8f2839f25d086af736a60e9eeb907d3b93b6e0e5",
    "execution": {
     "iopub.execute_input": "2024-10-11T03:45:15.451713Z",
     "iopub.status.busy": "2024-10-11T03:45:15.451273Z",
     "iopub.status.idle": "2024-10-11T03:45:19.316254Z",
     "shell.execute_reply": "2024-10-11T03:45:19.314956Z"
    },
    "papermill": {
     "duration": 3.884873,
     "end_time": "2024-10-11T03:45:19.318872",
     "exception": false,
     "start_time": "2024-10-11T03:45:15.433999",
     "status": "completed"
    },
    "tags": []
   },
   "outputs": [
    {
     "data": {
      "text/html": [
       "        <script type=\"text/javascript\">\n",
       "        window.PlotlyConfig = {MathJaxConfig: 'local'};\n",
       "        if (window.MathJax && window.MathJax.Hub && window.MathJax.Hub.Config) {window.MathJax.Hub.Config({SVG: {font: \"STIX-Web\"}});}\n",
       "        if (typeof require !== 'undefined') {\n",
       "        require.undef(\"plotly\");\n",
       "        requirejs.config({\n",
       "            paths: {\n",
       "                'plotly': ['https://cdn.plot.ly/plotly-2.32.0.min']\n",
       "            }\n",
       "        });\n",
       "        require(['plotly'], function(Plotly) {\n",
       "            window._Plotly = Plotly;\n",
       "        });\n",
       "        }\n",
       "        </script>\n",
       "        "
      ]
     },
     "metadata": {},
     "output_type": "display_data"
    }
   ],
   "source": [
    "import pandas as pd # data processing, CSV file I/O (e.g. pd.read_csv)\n",
    "import matplotlib.pyplot as plt\n",
    "from matplotlib import pyplot as pllt\n",
    "from plotly.offline import init_notebook_mode, iplot\n",
    "from wordcloud import WordCloud\n",
    "import plotly.graph_objs as go\n",
    "from plotly import tools\n",
    "import seaborn as sns\n",
    "import warnings\n",
    "warnings.filterwarnings(\"ignore\")\n",
    "import pandasql as ps\n",
    "init_notebook_mode(connected=True)"
   ]
  },
  {
   "cell_type": "markdown",
   "id": "f2f899f4",
   "metadata": {
    "papermill": {
     "duration": 0.016109,
     "end_time": "2024-10-11T03:45:19.351397",
     "exception": false,
     "start_time": "2024-10-11T03:45:19.335288",
     "status": "completed"
    },
    "tags": []
   },
   "source": [
    "<h2 style=\"position: relative;\">\n",
    "    <span style=\"color: #6a89cc;\">2.</span> \n",
    "    <span style=\"color: #0c2461;\">Explore the Medicare data set</span> \n",
    "    <br/>\n",
    "</h2>"
   ]
  },
  {
   "cell_type": "code",
   "execution_count": 2,
   "id": "702fb082",
   "metadata": {
    "execution": {
     "iopub.execute_input": "2024-10-11T03:45:19.386049Z",
     "iopub.status.busy": "2024-10-11T03:45:19.385579Z",
     "iopub.status.idle": "2024-10-11T03:45:24.123449Z",
     "shell.execute_reply": "2024-10-11T03:45:24.122271Z"
    },
    "papermill": {
     "duration": 4.758425,
     "end_time": "2024-10-11T03:45:24.126283",
     "exception": false,
     "start_time": "2024-10-11T03:45:19.367858",
     "status": "completed"
    },
    "tags": []
   },
   "outputs": [],
   "source": [
    "# Path of the file to read and read the data into the python pandas dataset\n",
    "filepath = \"/kaggle/input/medicare-monthly-enrollment-data/Medicare Monthly Enrollment Data_August 2023.csv\"\n",
    "#data=pd.read_csv(filepath,index_col=\"YEAR\", parse_dates=True, encoding='Windows-1252')\n",
    "data=pd.read_csv(filepath, parse_dates=True, encoding='Windows-1252')\n",
    "# importing the required library"
   ]
  },
  {
   "cell_type": "code",
   "execution_count": 3,
   "id": "d835a116",
   "metadata": {
    "execution": {
     "iopub.execute_input": "2024-10-11T03:45:24.160848Z",
     "iopub.status.busy": "2024-10-11T03:45:24.160410Z",
     "iopub.status.idle": "2024-10-11T03:45:24.203176Z",
     "shell.execute_reply": "2024-10-11T03:45:24.202118Z"
    },
    "papermill": {
     "duration": 0.063107,
     "end_time": "2024-10-11T03:45:24.205802",
     "exception": false,
     "start_time": "2024-10-11T03:45:24.142695",
     "status": "completed"
    },
    "tags": []
   },
   "outputs": [
    {
     "data": {
      "text/html": [
       "<div>\n",
       "<style scoped>\n",
       "    .dataframe tbody tr th:only-of-type {\n",
       "        vertical-align: middle;\n",
       "    }\n",
       "\n",
       "    .dataframe tbody tr th {\n",
       "        vertical-align: top;\n",
       "    }\n",
       "\n",
       "    .dataframe thead th {\n",
       "        text-align: right;\n",
       "    }\n",
       "</style>\n",
       "<table border=\"1\" class=\"dataframe\">\n",
       "  <thead>\n",
       "    <tr style=\"text-align: right;\">\n",
       "      <th></th>\n",
       "      <th>YEAR</th>\n",
       "      <th>MONTH</th>\n",
       "      <th>BENE_GEO_LVL</th>\n",
       "      <th>BENE_STATE_ABRVTN</th>\n",
       "      <th>BENE_STATE_DESC</th>\n",
       "      <th>BENE_COUNTY_DESC</th>\n",
       "      <th>BENE_FIPS_CD</th>\n",
       "      <th>TOT_BENES</th>\n",
       "      <th>ORGNL_MDCR_BENES</th>\n",
       "      <th>MA_AND_OTH_BENES</th>\n",
       "      <th>...</th>\n",
       "      <th>A_B_TOT_BENES</th>\n",
       "      <th>A_B_ORGNL_MDCR_BENES</th>\n",
       "      <th>A_B_MA_AND_OTH_BENES</th>\n",
       "      <th>PRSCRPTN_DRUG_TOT_BENES</th>\n",
       "      <th>PRSCRPTN_DRUG_PDP_BENES</th>\n",
       "      <th>PRSCRPTN_DRUG_MAPD_BENES</th>\n",
       "      <th>PRSCRPTN_DRUG_DEEMED_ELIGIBLE_FULL_LIS_BENES</th>\n",
       "      <th>PRSCRPTN_DRUG_FULL_LIS_BENES</th>\n",
       "      <th>PRSCRPTN_DRUG_PARTIAL_LIS_BENES</th>\n",
       "      <th>PRSCRPTN_DRUG_NO_LIS_BENES</th>\n",
       "    </tr>\n",
       "  </thead>\n",
       "  <tbody>\n",
       "    <tr>\n",
       "      <th>0</th>\n",
       "      <td>2013</td>\n",
       "      <td>Year</td>\n",
       "      <td>National</td>\n",
       "      <td>US</td>\n",
       "      <td>National</td>\n",
       "      <td>Total</td>\n",
       "      <td></td>\n",
       "      <td>52425659</td>\n",
       "      <td>37613096</td>\n",
       "      <td>14812563</td>\n",
       "      <td>...</td>\n",
       "      <td>47620905</td>\n",
       "      <td>32831884</td>\n",
       "      <td>14789022</td>\n",
       "      <td>35679758</td>\n",
       "      <td>22661451</td>\n",
       "      <td>13018307</td>\n",
       "      <td>10000861</td>\n",
       "      <td>1030113.0</td>\n",
       "      <td>409204.0</td>\n",
       "      <td>24239580</td>\n",
       "    </tr>\n",
       "    <tr>\n",
       "      <th>1</th>\n",
       "      <td>2013</td>\n",
       "      <td>Year</td>\n",
       "      <td>State</td>\n",
       "      <td>AL</td>\n",
       "      <td>Alabama</td>\n",
       "      <td>Total</td>\n",
       "      <td>01</td>\n",
       "      <td>921477.0</td>\n",
       "      <td>711448.0</td>\n",
       "      <td>210029.0</td>\n",
       "      <td>...</td>\n",
       "      <td>857619.0</td>\n",
       "      <td>647647.0</td>\n",
       "      <td>209972.0</td>\n",
       "      <td>637247.0</td>\n",
       "      <td>437749.0</td>\n",
       "      <td>199498.0</td>\n",
       "      <td>205496.0</td>\n",
       "      <td>32790.0</td>\n",
       "      <td>11452.0</td>\n",
       "      <td>387510.0</td>\n",
       "    </tr>\n",
       "    <tr>\n",
       "      <th>2</th>\n",
       "      <td>2013</td>\n",
       "      <td>Year</td>\n",
       "      <td>County</td>\n",
       "      <td>AL</td>\n",
       "      <td>Alabama</td>\n",
       "      <td>Autauga</td>\n",
       "      <td>01001</td>\n",
       "      <td>9323.0</td>\n",
       "      <td>6484.0</td>\n",
       "      <td>2840.0</td>\n",
       "      <td>...</td>\n",
       "      <td>8708.0</td>\n",
       "      <td>5868.0</td>\n",
       "      <td>2840.0</td>\n",
       "      <td>6036.0</td>\n",
       "      <td>3268.0</td>\n",
       "      <td>2767.0</td>\n",
       "      <td>1839.0</td>\n",
       "      <td>296.0</td>\n",
       "      <td>105.0</td>\n",
       "      <td>3796.0</td>\n",
       "    </tr>\n",
       "    <tr>\n",
       "      <th>3</th>\n",
       "      <td>2013</td>\n",
       "      <td>Year</td>\n",
       "      <td>County</td>\n",
       "      <td>AL</td>\n",
       "      <td>Alabama</td>\n",
       "      <td>Baldwin</td>\n",
       "      <td>01003</td>\n",
       "      <td>41033.0</td>\n",
       "      <td>28775.0</td>\n",
       "      <td>12258.0</td>\n",
       "      <td>...</td>\n",
       "      <td>38559.0</td>\n",
       "      <td>26304.0</td>\n",
       "      <td>12255.0</td>\n",
       "      <td>27352.0</td>\n",
       "      <td>15593.0</td>\n",
       "      <td>11759.0</td>\n",
       "      <td>5276.0</td>\n",
       "      <td>867.0</td>\n",
       "      <td>379.0</td>\n",
       "      <td>20830.0</td>\n",
       "    </tr>\n",
       "    <tr>\n",
       "      <th>4</th>\n",
       "      <td>2013</td>\n",
       "      <td>Year</td>\n",
       "      <td>County</td>\n",
       "      <td>AL</td>\n",
       "      <td>Alabama</td>\n",
       "      <td>Barbour</td>\n",
       "      <td>01005</td>\n",
       "      <td>5847.0</td>\n",
       "      <td>5036.0</td>\n",
       "      <td>810.0</td>\n",
       "      <td>...</td>\n",
       "      <td>5456.0</td>\n",
       "      <td>4645.0</td>\n",
       "      <td>810.0</td>\n",
       "      <td>4170.0</td>\n",
       "      <td>3410.0</td>\n",
       "      <td>759.0</td>\n",
       "      <td>1783.0</td>\n",
       "      <td>304.0</td>\n",
       "      <td>73.0</td>\n",
       "      <td>2009.0</td>\n",
       "    </tr>\n",
       "    <tr>\n",
       "      <th>5</th>\n",
       "      <td>2013</td>\n",
       "      <td>Year</td>\n",
       "      <td>County</td>\n",
       "      <td>AL</td>\n",
       "      <td>Alabama</td>\n",
       "      <td>Bibb</td>\n",
       "      <td>01007</td>\n",
       "      <td>4574.0</td>\n",
       "      <td>2994.0</td>\n",
       "      <td>1580.0</td>\n",
       "      <td>...</td>\n",
       "      <td>4338.0</td>\n",
       "      <td>2759.0</td>\n",
       "      <td>1580.0</td>\n",
       "      <td>3359.0</td>\n",
       "      <td>1850.0</td>\n",
       "      <td>1509.0</td>\n",
       "      <td>1298.0</td>\n",
       "      <td>228.0</td>\n",
       "      <td>85.0</td>\n",
       "      <td>1749.0</td>\n",
       "    </tr>\n",
       "    <tr>\n",
       "      <th>6</th>\n",
       "      <td>2013</td>\n",
       "      <td>Year</td>\n",
       "      <td>County</td>\n",
       "      <td>AL</td>\n",
       "      <td>Alabama</td>\n",
       "      <td>Blount</td>\n",
       "      <td>01009</td>\n",
       "      <td>11183.0</td>\n",
       "      <td>6695.0</td>\n",
       "      <td>4488.0</td>\n",
       "      <td>...</td>\n",
       "      <td>10502.0</td>\n",
       "      <td>6014.0</td>\n",
       "      <td>4488.0</td>\n",
       "      <td>8479.0</td>\n",
       "      <td>4148.0</td>\n",
       "      <td>4331.0</td>\n",
       "      <td>2302.0</td>\n",
       "      <td>387.0</td>\n",
       "      <td>174.0</td>\n",
       "      <td>5616.0</td>\n",
       "    </tr>\n",
       "    <tr>\n",
       "      <th>7</th>\n",
       "      <td>2013</td>\n",
       "      <td>Year</td>\n",
       "      <td>County</td>\n",
       "      <td>AL</td>\n",
       "      <td>Alabama</td>\n",
       "      <td>Bullock</td>\n",
       "      <td>01011</td>\n",
       "      <td>1886.0</td>\n",
       "      <td>1434.0</td>\n",
       "      <td>452.0</td>\n",
       "      <td>...</td>\n",
       "      <td>1719.0</td>\n",
       "      <td>1267.0</td>\n",
       "      <td>452.0</td>\n",
       "      <td>1446.0</td>\n",
       "      <td>1006.0</td>\n",
       "      <td>440.0</td>\n",
       "      <td>738.0</td>\n",
       "      <td>133.0</td>\n",
       "      <td>23.0</td>\n",
       "      <td>552.0</td>\n",
       "    </tr>\n",
       "    <tr>\n",
       "      <th>8</th>\n",
       "      <td>2013</td>\n",
       "      <td>Year</td>\n",
       "      <td>County</td>\n",
       "      <td>AL</td>\n",
       "      <td>Alabama</td>\n",
       "      <td>Butler</td>\n",
       "      <td>01013</td>\n",
       "      <td>4576.0</td>\n",
       "      <td>4151.0</td>\n",
       "      <td>425.0</td>\n",
       "      <td>...</td>\n",
       "      <td>4336.0</td>\n",
       "      <td>3911.0</td>\n",
       "      <td>425.0</td>\n",
       "      <td>3428.0</td>\n",
       "      <td>3030.0</td>\n",
       "      <td>397.0</td>\n",
       "      <td>1394.0</td>\n",
       "      <td>226.0</td>\n",
       "      <td>70.0</td>\n",
       "      <td>1737.0</td>\n",
       "    </tr>\n",
       "    <tr>\n",
       "      <th>9</th>\n",
       "      <td>2013</td>\n",
       "      <td>Year</td>\n",
       "      <td>County</td>\n",
       "      <td>AL</td>\n",
       "      <td>Alabama</td>\n",
       "      <td>Calhoun</td>\n",
       "      <td>01015</td>\n",
       "      <td>25108.0</td>\n",
       "      <td>22073.0</td>\n",
       "      <td>3036.0</td>\n",
       "      <td>...</td>\n",
       "      <td>23187.0</td>\n",
       "      <td>20151.0</td>\n",
       "      <td>3036.0</td>\n",
       "      <td>15167.0</td>\n",
       "      <td>12254.0</td>\n",
       "      <td>2913.0</td>\n",
       "      <td>5648.0</td>\n",
       "      <td>899.0</td>\n",
       "      <td>299.0</td>\n",
       "      <td>8321.0</td>\n",
       "    </tr>\n",
       "  </tbody>\n",
       "</table>\n",
       "<p>10 rows × 26 columns</p>\n",
       "</div>"
      ],
      "text/plain": [
       "   YEAR MONTH BENE_GEO_LVL BENE_STATE_ABRVTN BENE_STATE_DESC BENE_COUNTY_DESC  \\\n",
       "0  2013  Year     National                US        National            Total   \n",
       "1  2013  Year        State                AL         Alabama            Total   \n",
       "2  2013  Year       County                AL         Alabama          Autauga   \n",
       "3  2013  Year       County                AL         Alabama          Baldwin   \n",
       "4  2013  Year       County                AL         Alabama          Barbour   \n",
       "5  2013  Year       County                AL         Alabama             Bibb   \n",
       "6  2013  Year       County                AL         Alabama           Blount   \n",
       "7  2013  Year       County                AL         Alabama          Bullock   \n",
       "8  2013  Year       County                AL         Alabama           Butler   \n",
       "9  2013  Year       County                AL         Alabama          Calhoun   \n",
       "\n",
       "  BENE_FIPS_CD TOT_BENES ORGNL_MDCR_BENES MA_AND_OTH_BENES  ... A_B_TOT_BENES  \\\n",
       "0               52425659         37613096         14812563  ...      47620905   \n",
       "1           01  921477.0         711448.0         210029.0  ...      857619.0   \n",
       "2        01001    9323.0           6484.0           2840.0  ...        8708.0   \n",
       "3        01003   41033.0          28775.0          12258.0  ...       38559.0   \n",
       "4        01005    5847.0           5036.0            810.0  ...        5456.0   \n",
       "5        01007    4574.0           2994.0           1580.0  ...        4338.0   \n",
       "6        01009   11183.0           6695.0           4488.0  ...       10502.0   \n",
       "7        01011    1886.0           1434.0            452.0  ...        1719.0   \n",
       "8        01013    4576.0           4151.0            425.0  ...        4336.0   \n",
       "9        01015   25108.0          22073.0           3036.0  ...       23187.0   \n",
       "\n",
       "  A_B_ORGNL_MDCR_BENES A_B_MA_AND_OTH_BENES PRSCRPTN_DRUG_TOT_BENES  \\\n",
       "0             32831884             14789022                35679758   \n",
       "1             647647.0             209972.0                637247.0   \n",
       "2               5868.0               2840.0                  6036.0   \n",
       "3              26304.0              12255.0                 27352.0   \n",
       "4               4645.0                810.0                  4170.0   \n",
       "5               2759.0               1580.0                  3359.0   \n",
       "6               6014.0               4488.0                  8479.0   \n",
       "7               1267.0                452.0                  1446.0   \n",
       "8               3911.0                425.0                  3428.0   \n",
       "9              20151.0               3036.0                 15167.0   \n",
       "\n",
       "  PRSCRPTN_DRUG_PDP_BENES PRSCRPTN_DRUG_MAPD_BENES  \\\n",
       "0                22661451                 13018307   \n",
       "1                437749.0                 199498.0   \n",
       "2                  3268.0                   2767.0   \n",
       "3                 15593.0                  11759.0   \n",
       "4                  3410.0                    759.0   \n",
       "5                  1850.0                   1509.0   \n",
       "6                  4148.0                   4331.0   \n",
       "7                  1006.0                    440.0   \n",
       "8                  3030.0                    397.0   \n",
       "9                 12254.0                   2913.0   \n",
       "\n",
       "  PRSCRPTN_DRUG_DEEMED_ELIGIBLE_FULL_LIS_BENES PRSCRPTN_DRUG_FULL_LIS_BENES  \\\n",
       "0                                     10000861                    1030113.0   \n",
       "1                                     205496.0                      32790.0   \n",
       "2                                       1839.0                        296.0   \n",
       "3                                       5276.0                        867.0   \n",
       "4                                       1783.0                        304.0   \n",
       "5                                       1298.0                        228.0   \n",
       "6                                       2302.0                        387.0   \n",
       "7                                        738.0                        133.0   \n",
       "8                                       1394.0                        226.0   \n",
       "9                                       5648.0                        899.0   \n",
       "\n",
       "  PRSCRPTN_DRUG_PARTIAL_LIS_BENES PRSCRPTN_DRUG_NO_LIS_BENES  \n",
       "0                        409204.0                   24239580  \n",
       "1                         11452.0                   387510.0  \n",
       "2                           105.0                     3796.0  \n",
       "3                           379.0                    20830.0  \n",
       "4                            73.0                     2009.0  \n",
       "5                            85.0                     1749.0  \n",
       "6                           174.0                     5616.0  \n",
       "7                            23.0                      552.0  \n",
       "8                            70.0                     1737.0  \n",
       "9                           299.0                     8321.0  \n",
       "\n",
       "[10 rows x 26 columns]"
      ]
     },
     "execution_count": 3,
     "metadata": {},
     "output_type": "execute_result"
    }
   ],
   "source": [
    "data.head(10) #Reading the first 10 rows of the dataset"
   ]
  },
  {
   "cell_type": "markdown",
   "id": "727b872a",
   "metadata": {
    "papermill": {
     "duration": 0.016641,
     "end_time": "2024-10-11T03:45:24.239406",
     "exception": false,
     "start_time": "2024-10-11T03:45:24.222765",
     "status": "completed"
    },
    "tags": []
   },
   "source": [
    "**Observation: Medicare data is categorized by Year, Month, National, State and County.**"
   ]
  },
  {
   "cell_type": "code",
   "execution_count": 4,
   "id": "47c80732",
   "metadata": {
    "execution": {
     "iopub.execute_input": "2024-10-11T03:45:24.275235Z",
     "iopub.status.busy": "2024-10-11T03:45:24.274395Z",
     "iopub.status.idle": "2024-10-11T03:45:24.280757Z",
     "shell.execute_reply": "2024-10-11T03:45:24.279541Z"
    },
    "papermill": {
     "duration": 0.0276,
     "end_time": "2024-10-11T03:45:24.283833",
     "exception": false,
     "start_time": "2024-10-11T03:45:24.256233",
     "status": "completed"
    },
    "tags": []
   },
   "outputs": [
    {
     "name": "stdout",
     "output_type": "stream",
     "text": [
      "The Dataset have 460290 rows and 26 columns.\n"
     ]
    }
   ],
   "source": [
    "row, col = data.shape\n",
    "print(\"The Dataset have\",row,\"rows and\",col,\"columns.\")"
   ]
  },
  {
   "cell_type": "markdown",
   "id": "f549ae62",
   "metadata": {
    "papermill": {
     "duration": 0.016634,
     "end_time": "2024-10-11T03:45:24.317402",
     "exception": false,
     "start_time": "2024-10-11T03:45:24.300768",
     "status": "completed"
    },
    "tags": []
   },
   "source": [
    "**Observation: Medicare dataset has 460290 rows and 26 columns.**"
   ]
  },
  {
   "cell_type": "code",
   "execution_count": 5,
   "id": "4e639e81",
   "metadata": {
    "execution": {
     "iopub.execute_input": "2024-10-11T03:45:24.353769Z",
     "iopub.status.busy": "2024-10-11T03:45:24.352641Z",
     "iopub.status.idle": "2024-10-11T03:45:25.618181Z",
     "shell.execute_reply": "2024-10-11T03:45:25.617012Z"
    },
    "papermill": {
     "duration": 1.286538,
     "end_time": "2024-10-11T03:45:25.620873",
     "exception": false,
     "start_time": "2024-10-11T03:45:24.334335",
     "status": "completed"
    },
    "tags": []
   },
   "outputs": [
    {
     "name": "stdout",
     "output_type": "stream",
     "text": [
      "<class 'pandas.core.frame.DataFrame'>\n",
      "RangeIndex: 460290 entries, 0 to 460289\n",
      "Data columns (total 26 columns):\n",
      " #   Column                                        Non-Null Count   Dtype \n",
      "---  ------                                        --------------   ----- \n",
      " 0   YEAR                                          460290 non-null  int64 \n",
      " 1   MONTH                                         460290 non-null  object\n",
      " 2   BENE_GEO_LVL                                  460290 non-null  object\n",
      " 3   BENE_STATE_ABRVTN                             460290 non-null  object\n",
      " 4   BENE_STATE_DESC                               460290 non-null  object\n",
      " 5   BENE_COUNTY_DESC                              460290 non-null  object\n",
      " 6   BENE_FIPS_CD                                  460290 non-null  object\n",
      " 7   TOT_BENES                                     460290 non-null  object\n",
      " 8   ORGNL_MDCR_BENES                              460290 non-null  object\n",
      " 9   MA_AND_OTH_BENES                              460290 non-null  object\n",
      " 10  AGED_TOT_BENES                                460290 non-null  object\n",
      " 11  AGED_ESRD_BENES                               460290 non-null  object\n",
      " 12  AGED_NO_ESRD_BENES                            460290 non-null  object\n",
      " 13  DSBLD_TOT_BENES                               460290 non-null  object\n",
      " 14  DSBLD_ESRD_AND_ESRD_ONLY_BENES                460290 non-null  object\n",
      " 15  DSBLD_NO_ESRD_BENES                           460290 non-null  object\n",
      " 16  A_B_TOT_BENES                                 460290 non-null  object\n",
      " 17  A_B_ORGNL_MDCR_BENES                          460290 non-null  object\n",
      " 18  A_B_MA_AND_OTH_BENES                          460290 non-null  object\n",
      " 19  PRSCRPTN_DRUG_TOT_BENES                       460290 non-null  object\n",
      " 20  PRSCRPTN_DRUG_PDP_BENES                       460290 non-null  object\n",
      " 21  PRSCRPTN_DRUG_MAPD_BENES                      460290 non-null  object\n",
      " 22  PRSCRPTN_DRUG_DEEMED_ELIGIBLE_FULL_LIS_BENES  460290 non-null  object\n",
      " 23  PRSCRPTN_DRUG_FULL_LIS_BENES                  460290 non-null  object\n",
      " 24  PRSCRPTN_DRUG_PARTIAL_LIS_BENES               460290 non-null  object\n",
      " 25  PRSCRPTN_DRUG_NO_LIS_BENES                    460290 non-null  object\n",
      "dtypes: int64(1), object(25)\n",
      "memory usage: 91.3+ MB\n"
     ]
    }
   ],
   "source": [
    "#Check the structure of the dataframe\n",
    "data.info()"
   ]
  },
  {
   "cell_type": "markdown",
   "id": "dd0d533e",
   "metadata": {
    "papermill": {
     "duration": 0.016652,
     "end_time": "2024-10-11T03:45:25.654577",
     "exception": false,
     "start_time": "2024-10-11T03:45:25.637925",
     "status": "completed"
    },
    "tags": []
   },
   "source": [
    "<h3 style=\"color: #0c2461;\">Observation</h3>\n",
    "<h5 style=\"color: #0c2461;\">Most of the columns have object datatype. \n",
    "</h5>"
   ]
  },
  {
   "cell_type": "code",
   "execution_count": 6,
   "id": "1e9cb576",
   "metadata": {
    "execution": {
     "iopub.execute_input": "2024-10-11T03:45:25.691892Z",
     "iopub.status.busy": "2024-10-11T03:45:25.691425Z",
     "iopub.status.idle": "2024-10-11T03:45:30.183456Z",
     "shell.execute_reply": "2024-10-11T03:45:30.182330Z"
    },
    "papermill": {
     "duration": 4.513206,
     "end_time": "2024-10-11T03:45:30.186131",
     "exception": false,
     "start_time": "2024-10-11T03:45:25.672925",
     "status": "completed"
    },
    "tags": []
   },
   "outputs": [
    {
     "data": {
      "text/html": [
       "<div>\n",
       "<style scoped>\n",
       "    .dataframe tbody tr th:only-of-type {\n",
       "        vertical-align: middle;\n",
       "    }\n",
       "\n",
       "    .dataframe tbody tr th {\n",
       "        vertical-align: top;\n",
       "    }\n",
       "\n",
       "    .dataframe thead th {\n",
       "        text-align: right;\n",
       "    }\n",
       "</style>\n",
       "<table border=\"1\" class=\"dataframe\">\n",
       "  <thead>\n",
       "    <tr style=\"text-align: right;\">\n",
       "      <th></th>\n",
       "      <th>MONTH</th>\n",
       "      <th>BENE_GEO_LVL</th>\n",
       "      <th>BENE_STATE_ABRVTN</th>\n",
       "      <th>BENE_STATE_DESC</th>\n",
       "      <th>BENE_COUNTY_DESC</th>\n",
       "      <th>BENE_FIPS_CD</th>\n",
       "      <th>TOT_BENES</th>\n",
       "      <th>ORGNL_MDCR_BENES</th>\n",
       "      <th>MA_AND_OTH_BENES</th>\n",
       "      <th>AGED_TOT_BENES</th>\n",
       "      <th>...</th>\n",
       "      <th>A_B_TOT_BENES</th>\n",
       "      <th>A_B_ORGNL_MDCR_BENES</th>\n",
       "      <th>A_B_MA_AND_OTH_BENES</th>\n",
       "      <th>PRSCRPTN_DRUG_TOT_BENES</th>\n",
       "      <th>PRSCRPTN_DRUG_PDP_BENES</th>\n",
       "      <th>PRSCRPTN_DRUG_MAPD_BENES</th>\n",
       "      <th>PRSCRPTN_DRUG_DEEMED_ELIGIBLE_FULL_LIS_BENES</th>\n",
       "      <th>PRSCRPTN_DRUG_FULL_LIS_BENES</th>\n",
       "      <th>PRSCRPTN_DRUG_PARTIAL_LIS_BENES</th>\n",
       "      <th>PRSCRPTN_DRUG_NO_LIS_BENES</th>\n",
       "    </tr>\n",
       "  </thead>\n",
       "  <tbody>\n",
       "    <tr>\n",
       "      <th>count</th>\n",
       "      <td>460290</td>\n",
       "      <td>460290</td>\n",
       "      <td>460290</td>\n",
       "      <td>460290</td>\n",
       "      <td>460290</td>\n",
       "      <td>460290</td>\n",
       "      <td>460290</td>\n",
       "      <td>460290</td>\n",
       "      <td>460290</td>\n",
       "      <td>460290</td>\n",
       "      <td>...</td>\n",
       "      <td>460290</td>\n",
       "      <td>460290</td>\n",
       "      <td>460290</td>\n",
       "      <td>460290</td>\n",
       "      <td>460290</td>\n",
       "      <td>460290</td>\n",
       "      <td>460290</td>\n",
       "      <td>460290</td>\n",
       "      <td>460290</td>\n",
       "      <td>460290</td>\n",
       "    </tr>\n",
       "    <tr>\n",
       "      <th>unique</th>\n",
       "      <td>13</td>\n",
       "      <td>3</td>\n",
       "      <td>59</td>\n",
       "      <td>59</td>\n",
       "      <td>1931</td>\n",
       "      <td>3338</td>\n",
       "      <td>79910</td>\n",
       "      <td>64457</td>\n",
       "      <td>50211</td>\n",
       "      <td>74222</td>\n",
       "      <td>...</td>\n",
       "      <td>76732</td>\n",
       "      <td>60221</td>\n",
       "      <td>50152</td>\n",
       "      <td>68994</td>\n",
       "      <td>52106</td>\n",
       "      <td>47287</td>\n",
       "      <td>34782</td>\n",
       "      <td>11266</td>\n",
       "      <td>6931</td>\n",
       "      <td>59910</td>\n",
       "    </tr>\n",
       "    <tr>\n",
       "      <th>top</th>\n",
       "      <td>January</td>\n",
       "      <td>County</td>\n",
       "      <td>TX</td>\n",
       "      <td>Texas</td>\n",
       "      <td>Total</td>\n",
       "      <td></td>\n",
       "      <td>*</td>\n",
       "      <td>*</td>\n",
       "      <td>*</td>\n",
       "      <td>*</td>\n",
       "      <td>...</td>\n",
       "      <td>*</td>\n",
       "      <td>*</td>\n",
       "      <td>*</td>\n",
       "      <td>*</td>\n",
       "      <td>*</td>\n",
       "      <td>*</td>\n",
       "      <td>*</td>\n",
       "      <td>*</td>\n",
       "      <td>*</td>\n",
       "      <td>*</td>\n",
       "    </tr>\n",
       "    <tr>\n",
       "      <th>freq</th>\n",
       "      <td>36690</td>\n",
       "      <td>452148</td>\n",
       "      <td>35328</td>\n",
       "      <td>35328</td>\n",
       "      <td>8004</td>\n",
       "      <td>276</td>\n",
       "      <td>7518</td>\n",
       "      <td>15439</td>\n",
       "      <td>15439</td>\n",
       "      <td>10483</td>\n",
       "      <td>...</td>\n",
       "      <td>7544</td>\n",
       "      <td>15444</td>\n",
       "      <td>15444</td>\n",
       "      <td>7656</td>\n",
       "      <td>22727</td>\n",
       "      <td>22727</td>\n",
       "      <td>9675</td>\n",
       "      <td>85130</td>\n",
       "      <td>85130</td>\n",
       "      <td>9675</td>\n",
       "    </tr>\n",
       "  </tbody>\n",
       "</table>\n",
       "<p>4 rows × 25 columns</p>\n",
       "</div>"
      ],
      "text/plain": [
       "          MONTH BENE_GEO_LVL BENE_STATE_ABRVTN BENE_STATE_DESC  \\\n",
       "count    460290       460290            460290          460290   \n",
       "unique       13            3                59              59   \n",
       "top     January       County                TX           Texas   \n",
       "freq      36690       452148             35328           35328   \n",
       "\n",
       "       BENE_COUNTY_DESC BENE_FIPS_CD TOT_BENES ORGNL_MDCR_BENES  \\\n",
       "count            460290       460290    460290           460290   \n",
       "unique             1931         3338     79910            64457   \n",
       "top               Total                      *                *   \n",
       "freq               8004          276      7518            15439   \n",
       "\n",
       "       MA_AND_OTH_BENES AGED_TOT_BENES  ... A_B_TOT_BENES  \\\n",
       "count            460290         460290  ...        460290   \n",
       "unique            50211          74222  ...         76732   \n",
       "top                   *              *  ...             *   \n",
       "freq              15439          10483  ...          7544   \n",
       "\n",
       "       A_B_ORGNL_MDCR_BENES A_B_MA_AND_OTH_BENES PRSCRPTN_DRUG_TOT_BENES  \\\n",
       "count                460290               460290                  460290   \n",
       "unique                60221                50152                   68994   \n",
       "top                       *                    *                       *   \n",
       "freq                  15444                15444                    7656   \n",
       "\n",
       "       PRSCRPTN_DRUG_PDP_BENES PRSCRPTN_DRUG_MAPD_BENES  \\\n",
       "count                   460290                   460290   \n",
       "unique                   52106                    47287   \n",
       "top                          *                        *   \n",
       "freq                     22727                    22727   \n",
       "\n",
       "       PRSCRPTN_DRUG_DEEMED_ELIGIBLE_FULL_LIS_BENES  \\\n",
       "count                                        460290   \n",
       "unique                                        34782   \n",
       "top                                               *   \n",
       "freq                                           9675   \n",
       "\n",
       "       PRSCRPTN_DRUG_FULL_LIS_BENES PRSCRPTN_DRUG_PARTIAL_LIS_BENES  \\\n",
       "count                        460290                          460290   \n",
       "unique                        11266                            6931   \n",
       "top                               *                               *   \n",
       "freq                          85130                           85130   \n",
       "\n",
       "       PRSCRPTN_DRUG_NO_LIS_BENES  \n",
       "count                      460290  \n",
       "unique                      59910  \n",
       "top                             *  \n",
       "freq                         9675  \n",
       "\n",
       "[4 rows x 25 columns]"
      ]
     },
     "execution_count": 6,
     "metadata": {},
     "output_type": "execute_result"
    }
   ],
   "source": [
    "data.describe(include = \"object\")"
   ]
  },
  {
   "cell_type": "markdown",
   "id": "5864da15",
   "metadata": {
    "papermill": {
     "duration": 0.01716,
     "end_time": "2024-10-11T03:45:30.221258",
     "exception": false,
     "start_time": "2024-10-11T03:45:30.204098",
     "status": "completed"
    },
    "tags": []
   },
   "source": [
    "<h3 style=\"color: #0c2461;\">Observations</h3>\n",
    "<h5 style=\"color: #0c2461;\">For the object data type column, the values are stored as \"*\". This should be replaced by 0. Conversion is required from object type to Integer for all columns which have counts of beneficiaries (integer datatype)</h5>"
   ]
  },
  {
   "cell_type": "code",
   "execution_count": 7,
   "id": "9a410902",
   "metadata": {
    "execution": {
     "iopub.execute_input": "2024-10-11T03:45:30.258414Z",
     "iopub.status.busy": "2024-10-11T03:45:30.257458Z",
     "iopub.status.idle": "2024-10-11T03:45:30.465050Z",
     "shell.execute_reply": "2024-10-11T03:45:30.463678Z"
    },
    "papermill": {
     "duration": 0.228879,
     "end_time": "2024-10-11T03:45:30.467511",
     "exception": false,
     "start_time": "2024-10-11T03:45:30.238632",
     "status": "completed"
    },
    "tags": []
   },
   "outputs": [
    {
     "data": {
      "text/plain": [
       "array(['*', '0.0', '100.0', ..., '99994.0', '99995.0', '99997.0'],\n",
       "      dtype=object)"
      ]
     },
     "execution_count": 7,
     "metadata": {},
     "output_type": "execute_result"
    }
   ],
   "source": [
    "# get all the unique values in the 'TOT_BENS' column\n",
    "Total_ben = data['TOT_BENES'].unique()\n",
    "\n",
    "# sort them alphabetically and then take a closer look\n",
    "Total_ben.sort()\n",
    "Total_ben"
   ]
  },
  {
   "cell_type": "markdown",
   "id": "93169c7a",
   "metadata": {
    "papermill": {
     "duration": 0.017715,
     "end_time": "2024-10-11T03:45:30.502815",
     "exception": false,
     "start_time": "2024-10-11T03:45:30.485100",
     "status": "completed"
    },
    "tags": []
   },
   "source": [
    "<h3 style=\"color: #0c2461;\">Observation</h3>\n",
    "<h5 style=\"color: #0c2461;\"> Since the value \"*\" exist in the dataset for the specific column and may produce inconsistent result,it is hence necessary to find out how many rows contains this value in the specific column. </h5>"
   ]
  },
  {
   "cell_type": "code",
   "execution_count": 8,
   "id": "36014add",
   "metadata": {
    "execution": {
     "iopub.execute_input": "2024-10-11T03:45:30.541140Z",
     "iopub.status.busy": "2024-10-11T03:45:30.540140Z",
     "iopub.status.idle": "2024-10-11T03:45:30.567955Z",
     "shell.execute_reply": "2024-10-11T03:45:30.566910Z"
    },
    "papermill": {
     "duration": 0.049397,
     "end_time": "2024-10-11T03:45:30.570337",
     "exception": false,
     "start_time": "2024-10-11T03:45:30.520940",
     "status": "completed"
    },
    "tags": []
   },
   "outputs": [
    {
     "data": {
      "text/plain": [
       "7518"
      ]
     },
     "execution_count": 8,
     "metadata": {},
     "output_type": "execute_result"
    }
   ],
   "source": [
    "data[\"TOT_BENES\"].isin([\"*\"]).sum()"
   ]
  },
  {
   "cell_type": "markdown",
   "id": "51b121ed",
   "metadata": {
    "papermill": {
     "duration": 0.017795,
     "end_time": "2024-10-11T03:45:30.605977",
     "exception": false,
     "start_time": "2024-10-11T03:45:30.588182",
     "status": "completed"
    },
    "tags": []
   },
   "source": [
    "<h5 style=\"color: #0c2461;\"> This data can be explored further by adding these rows to another dataframe. </h5>"
   ]
  },
  {
   "cell_type": "code",
   "execution_count": 9,
   "id": "54f19e34",
   "metadata": {
    "execution": {
     "iopub.execute_input": "2024-10-11T03:45:30.643384Z",
     "iopub.status.busy": "2024-10-11T03:45:30.642960Z",
     "iopub.status.idle": "2024-10-11T03:45:30.753979Z",
     "shell.execute_reply": "2024-10-11T03:45:30.752667Z"
    },
    "papermill": {
     "duration": 0.132878,
     "end_time": "2024-10-11T03:45:30.756663",
     "exception": false,
     "start_time": "2024-10-11T03:45:30.623785",
     "status": "completed"
    },
    "tags": []
   },
   "outputs": [],
   "source": [
    "result_df=data[(data['TOT_BENES'] == \"*\")]"
   ]
  },
  {
   "cell_type": "code",
   "execution_count": 10,
   "id": "1800c65b",
   "metadata": {
    "execution": {
     "iopub.execute_input": "2024-10-11T03:45:30.794923Z",
     "iopub.status.busy": "2024-10-11T03:45:30.793953Z",
     "iopub.status.idle": "2024-10-11T03:45:30.821517Z",
     "shell.execute_reply": "2024-10-11T03:45:30.820421Z"
    },
    "papermill": {
     "duration": 0.049183,
     "end_time": "2024-10-11T03:45:30.823997",
     "exception": false,
     "start_time": "2024-10-11T03:45:30.774814",
     "status": "completed"
    },
    "tags": []
   },
   "outputs": [
    {
     "data": {
      "text/html": [
       "<div>\n",
       "<style scoped>\n",
       "    .dataframe tbody tr th:only-of-type {\n",
       "        vertical-align: middle;\n",
       "    }\n",
       "\n",
       "    .dataframe tbody tr th {\n",
       "        vertical-align: top;\n",
       "    }\n",
       "\n",
       "    .dataframe thead th {\n",
       "        text-align: right;\n",
       "    }\n",
       "</style>\n",
       "<table border=\"1\" class=\"dataframe\">\n",
       "  <thead>\n",
       "    <tr style=\"text-align: right;\">\n",
       "      <th></th>\n",
       "      <th>YEAR</th>\n",
       "      <th>MONTH</th>\n",
       "      <th>BENE_GEO_LVL</th>\n",
       "      <th>BENE_STATE_ABRVTN</th>\n",
       "      <th>BENE_STATE_DESC</th>\n",
       "      <th>BENE_COUNTY_DESC</th>\n",
       "      <th>BENE_FIPS_CD</th>\n",
       "      <th>TOT_BENES</th>\n",
       "      <th>ORGNL_MDCR_BENES</th>\n",
       "      <th>MA_AND_OTH_BENES</th>\n",
       "      <th>...</th>\n",
       "      <th>A_B_TOT_BENES</th>\n",
       "      <th>A_B_ORGNL_MDCR_BENES</th>\n",
       "      <th>A_B_MA_AND_OTH_BENES</th>\n",
       "      <th>PRSCRPTN_DRUG_TOT_BENES</th>\n",
       "      <th>PRSCRPTN_DRUG_PDP_BENES</th>\n",
       "      <th>PRSCRPTN_DRUG_MAPD_BENES</th>\n",
       "      <th>PRSCRPTN_DRUG_DEEMED_ELIGIBLE_FULL_LIS_BENES</th>\n",
       "      <th>PRSCRPTN_DRUG_FULL_LIS_BENES</th>\n",
       "      <th>PRSCRPTN_DRUG_PARTIAL_LIS_BENES</th>\n",
       "      <th>PRSCRPTN_DRUG_NO_LIS_BENES</th>\n",
       "    </tr>\n",
       "  </thead>\n",
       "  <tbody>\n",
       "    <tr>\n",
       "      <th>69</th>\n",
       "      <td>2013</td>\n",
       "      <td>Year</td>\n",
       "      <td>County</td>\n",
       "      <td>AL</td>\n",
       "      <td>Alabama</td>\n",
       "      <td>Unknown</td>\n",
       "      <td>01999</td>\n",
       "      <td>*</td>\n",
       "      <td>*</td>\n",
       "      <td>*</td>\n",
       "      <td>...</td>\n",
       "      <td>*</td>\n",
       "      <td>*</td>\n",
       "      <td>*</td>\n",
       "      <td>*</td>\n",
       "      <td>*</td>\n",
       "      <td>*</td>\n",
       "      <td>*</td>\n",
       "      <td>*</td>\n",
       "      <td>*</td>\n",
       "      <td>*</td>\n",
       "    </tr>\n",
       "    <tr>\n",
       "      <th>100</th>\n",
       "      <td>2013</td>\n",
       "      <td>Year</td>\n",
       "      <td>County</td>\n",
       "      <td>AK</td>\n",
       "      <td>Alaska</td>\n",
       "      <td>Unknown</td>\n",
       "      <td>02999</td>\n",
       "      <td>*</td>\n",
       "      <td>*</td>\n",
       "      <td>*</td>\n",
       "      <td>...</td>\n",
       "      <td>*</td>\n",
       "      <td>*</td>\n",
       "      <td>*</td>\n",
       "      <td>*</td>\n",
       "      <td>*</td>\n",
       "      <td>*</td>\n",
       "      <td>*</td>\n",
       "      <td>*</td>\n",
       "      <td>*</td>\n",
       "      <td>*</td>\n",
       "    </tr>\n",
       "    <tr>\n",
       "      <th>117</th>\n",
       "      <td>2013</td>\n",
       "      <td>Year</td>\n",
       "      <td>County</td>\n",
       "      <td>AZ</td>\n",
       "      <td>Arizona</td>\n",
       "      <td>Unknown</td>\n",
       "      <td>04999</td>\n",
       "      <td>*</td>\n",
       "      <td>*</td>\n",
       "      <td>*</td>\n",
       "      <td>...</td>\n",
       "      <td>*</td>\n",
       "      <td>*</td>\n",
       "      <td>*</td>\n",
       "      <td>*</td>\n",
       "      <td>*</td>\n",
       "      <td>*</td>\n",
       "      <td>*</td>\n",
       "      <td>*</td>\n",
       "      <td>*</td>\n",
       "      <td>*</td>\n",
       "    </tr>\n",
       "    <tr>\n",
       "      <th>194</th>\n",
       "      <td>2013</td>\n",
       "      <td>Year</td>\n",
       "      <td>County</td>\n",
       "      <td>AR</td>\n",
       "      <td>Arkansas</td>\n",
       "      <td>Unknown</td>\n",
       "      <td>05999</td>\n",
       "      <td>*</td>\n",
       "      <td>*</td>\n",
       "      <td>*</td>\n",
       "      <td>...</td>\n",
       "      <td>*</td>\n",
       "      <td>*</td>\n",
       "      <td>*</td>\n",
       "      <td>*</td>\n",
       "      <td>*</td>\n",
       "      <td>*</td>\n",
       "      <td>*</td>\n",
       "      <td>*</td>\n",
       "      <td>*</td>\n",
       "      <td>*</td>\n",
       "    </tr>\n",
       "    <tr>\n",
       "      <th>254</th>\n",
       "      <td>2013</td>\n",
       "      <td>Year</td>\n",
       "      <td>County</td>\n",
       "      <td>CA</td>\n",
       "      <td>California</td>\n",
       "      <td>Unknown</td>\n",
       "      <td>06999</td>\n",
       "      <td>*</td>\n",
       "      <td>*</td>\n",
       "      <td>*</td>\n",
       "      <td>...</td>\n",
       "      <td>*</td>\n",
       "      <td>*</td>\n",
       "      <td>*</td>\n",
       "      <td>*</td>\n",
       "      <td>*</td>\n",
       "      <td>*</td>\n",
       "      <td>*</td>\n",
       "      <td>*</td>\n",
       "      <td>*</td>\n",
       "      <td>*</td>\n",
       "    </tr>\n",
       "    <tr>\n",
       "      <th>320</th>\n",
       "      <td>2013</td>\n",
       "      <td>Year</td>\n",
       "      <td>County</td>\n",
       "      <td>CO</td>\n",
       "      <td>Colorado</td>\n",
       "      <td>Unknown</td>\n",
       "      <td>08999</td>\n",
       "      <td>*</td>\n",
       "      <td>*</td>\n",
       "      <td>*</td>\n",
       "      <td>...</td>\n",
       "      <td>*</td>\n",
       "      <td>*</td>\n",
       "      <td>*</td>\n",
       "      <td>*</td>\n",
       "      <td>*</td>\n",
       "      <td>*</td>\n",
       "      <td>*</td>\n",
       "      <td>*</td>\n",
       "      <td>*</td>\n",
       "      <td>*</td>\n",
       "    </tr>\n",
       "    <tr>\n",
       "      <th>330</th>\n",
       "      <td>2013</td>\n",
       "      <td>Year</td>\n",
       "      <td>County</td>\n",
       "      <td>CT</td>\n",
       "      <td>Connecticut</td>\n",
       "      <td>Unknown</td>\n",
       "      <td>09999</td>\n",
       "      <td>*</td>\n",
       "      <td>*</td>\n",
       "      <td>*</td>\n",
       "      <td>...</td>\n",
       "      <td>*</td>\n",
       "      <td>*</td>\n",
       "      <td>*</td>\n",
       "      <td>*</td>\n",
       "      <td>*</td>\n",
       "      <td>*</td>\n",
       "      <td>*</td>\n",
       "      <td>*</td>\n",
       "      <td>*</td>\n",
       "      <td>*</td>\n",
       "    </tr>\n",
       "    <tr>\n",
       "      <th>335</th>\n",
       "      <td>2013</td>\n",
       "      <td>Year</td>\n",
       "      <td>County</td>\n",
       "      <td>DE</td>\n",
       "      <td>Delaware</td>\n",
       "      <td>Unknown</td>\n",
       "      <td>10999</td>\n",
       "      <td>*</td>\n",
       "      <td>*</td>\n",
       "      <td>*</td>\n",
       "      <td>...</td>\n",
       "      <td>*</td>\n",
       "      <td>*</td>\n",
       "      <td>*</td>\n",
       "      <td>*</td>\n",
       "      <td>*</td>\n",
       "      <td>*</td>\n",
       "      <td>*</td>\n",
       "      <td>*</td>\n",
       "      <td>*</td>\n",
       "      <td>*</td>\n",
       "    </tr>\n",
       "    <tr>\n",
       "      <th>338</th>\n",
       "      <td>2013</td>\n",
       "      <td>Year</td>\n",
       "      <td>County</td>\n",
       "      <td>DC</td>\n",
       "      <td>District of Columbia</td>\n",
       "      <td>Unknown</td>\n",
       "      <td>11999</td>\n",
       "      <td>*</td>\n",
       "      <td>*</td>\n",
       "      <td>*</td>\n",
       "      <td>...</td>\n",
       "      <td>*</td>\n",
       "      <td>*</td>\n",
       "      <td>*</td>\n",
       "      <td>*</td>\n",
       "      <td>*</td>\n",
       "      <td>*</td>\n",
       "      <td>*</td>\n",
       "      <td>*</td>\n",
       "      <td>*</td>\n",
       "      <td>*</td>\n",
       "    </tr>\n",
       "    <tr>\n",
       "      <th>407</th>\n",
       "      <td>2013</td>\n",
       "      <td>Year</td>\n",
       "      <td>County</td>\n",
       "      <td>FL</td>\n",
       "      <td>Florida</td>\n",
       "      <td>Unknown</td>\n",
       "      <td>12999</td>\n",
       "      <td>*</td>\n",
       "      <td>*</td>\n",
       "      <td>*</td>\n",
       "      <td>...</td>\n",
       "      <td>*</td>\n",
       "      <td>*</td>\n",
       "      <td>*</td>\n",
       "      <td>*</td>\n",
       "      <td>*</td>\n",
       "      <td>*</td>\n",
       "      <td>*</td>\n",
       "      <td>*</td>\n",
       "      <td>*</td>\n",
       "      <td>*</td>\n",
       "    </tr>\n",
       "  </tbody>\n",
       "</table>\n",
       "<p>10 rows × 26 columns</p>\n",
       "</div>"
      ],
      "text/plain": [
       "     YEAR MONTH BENE_GEO_LVL BENE_STATE_ABRVTN       BENE_STATE_DESC  \\\n",
       "69   2013  Year       County                AL               Alabama   \n",
       "100  2013  Year       County                AK                Alaska   \n",
       "117  2013  Year       County                AZ               Arizona   \n",
       "194  2013  Year       County                AR              Arkansas   \n",
       "254  2013  Year       County                CA            California   \n",
       "320  2013  Year       County                CO              Colorado   \n",
       "330  2013  Year       County                CT           Connecticut   \n",
       "335  2013  Year       County                DE              Delaware   \n",
       "338  2013  Year       County                DC  District of Columbia   \n",
       "407  2013  Year       County                FL               Florida   \n",
       "\n",
       "    BENE_COUNTY_DESC BENE_FIPS_CD TOT_BENES ORGNL_MDCR_BENES MA_AND_OTH_BENES  \\\n",
       "69           Unknown        01999         *                *                *   \n",
       "100          Unknown        02999         *                *                *   \n",
       "117          Unknown        04999         *                *                *   \n",
       "194          Unknown        05999         *                *                *   \n",
       "254          Unknown        06999         *                *                *   \n",
       "320          Unknown        08999         *                *                *   \n",
       "330          Unknown        09999         *                *                *   \n",
       "335          Unknown        10999         *                *                *   \n",
       "338          Unknown        11999         *                *                *   \n",
       "407          Unknown        12999         *                *                *   \n",
       "\n",
       "     ... A_B_TOT_BENES A_B_ORGNL_MDCR_BENES A_B_MA_AND_OTH_BENES  \\\n",
       "69   ...             *                    *                    *   \n",
       "100  ...             *                    *                    *   \n",
       "117  ...             *                    *                    *   \n",
       "194  ...             *                    *                    *   \n",
       "254  ...             *                    *                    *   \n",
       "320  ...             *                    *                    *   \n",
       "330  ...             *                    *                    *   \n",
       "335  ...             *                    *                    *   \n",
       "338  ...             *                    *                    *   \n",
       "407  ...             *                    *                    *   \n",
       "\n",
       "    PRSCRPTN_DRUG_TOT_BENES PRSCRPTN_DRUG_PDP_BENES PRSCRPTN_DRUG_MAPD_BENES  \\\n",
       "69                        *                       *                        *   \n",
       "100                       *                       *                        *   \n",
       "117                       *                       *                        *   \n",
       "194                       *                       *                        *   \n",
       "254                       *                       *                        *   \n",
       "320                       *                       *                        *   \n",
       "330                       *                       *                        *   \n",
       "335                       *                       *                        *   \n",
       "338                       *                       *                        *   \n",
       "407                       *                       *                        *   \n",
       "\n",
       "    PRSCRPTN_DRUG_DEEMED_ELIGIBLE_FULL_LIS_BENES PRSCRPTN_DRUG_FULL_LIS_BENES  \\\n",
       "69                                             *                            *   \n",
       "100                                            *                            *   \n",
       "117                                            *                            *   \n",
       "194                                            *                            *   \n",
       "254                                            *                            *   \n",
       "320                                            *                            *   \n",
       "330                                            *                            *   \n",
       "335                                            *                            *   \n",
       "338                                            *                            *   \n",
       "407                                            *                            *   \n",
       "\n",
       "    PRSCRPTN_DRUG_PARTIAL_LIS_BENES PRSCRPTN_DRUG_NO_LIS_BENES  \n",
       "69                                *                          *  \n",
       "100                               *                          *  \n",
       "117                               *                          *  \n",
       "194                               *                          *  \n",
       "254                               *                          *  \n",
       "320                               *                          *  \n",
       "330                               *                          *  \n",
       "335                               *                          *  \n",
       "338                               *                          *  \n",
       "407                               *                          *  \n",
       "\n",
       "[10 rows x 26 columns]"
      ]
     },
     "execution_count": 10,
     "metadata": {},
     "output_type": "execute_result"
    }
   ],
   "source": [
    "result_df.head(10)"
   ]
  },
  {
   "cell_type": "code",
   "execution_count": 11,
   "id": "7b25f0e6",
   "metadata": {
    "execution": {
     "iopub.execute_input": "2024-10-11T03:45:30.862969Z",
     "iopub.status.busy": "2024-10-11T03:45:30.862137Z",
     "iopub.status.idle": "2024-10-11T03:45:30.868055Z",
     "shell.execute_reply": "2024-10-11T03:45:30.866996Z"
    },
    "papermill": {
     "duration": 0.027831,
     "end_time": "2024-10-11T03:45:30.870357",
     "exception": false,
     "start_time": "2024-10-11T03:45:30.842526",
     "status": "completed"
    },
    "tags": []
   },
   "outputs": [
    {
     "name": "stdout",
     "output_type": "stream",
     "text": [
      "The Dataset have 7518 rows and 26 columns.\n"
     ]
    }
   ],
   "source": [
    "row, col = result_df.shape\n",
    "print(\"The Dataset have\",row,\"rows and\",col,\"columns.\")"
   ]
  },
  {
   "cell_type": "markdown",
   "id": "af3b96ed",
   "metadata": {
    "papermill": {
     "duration": 0.01803,
     "end_time": "2024-10-11T03:45:30.906669",
     "exception": false,
     "start_time": "2024-10-11T03:45:30.888639",
     "status": "completed"
    },
    "tags": []
   },
   "source": [
    "**Similary, the data can be explored for other columns as well.**"
   ]
  },
  {
   "cell_type": "code",
   "execution_count": 12,
   "id": "b5609994",
   "metadata": {
    "execution": {
     "iopub.execute_input": "2024-10-11T03:45:30.945736Z",
     "iopub.status.busy": "2024-10-11T03:45:30.945005Z",
     "iopub.status.idle": "2024-10-11T03:45:30.970502Z",
     "shell.execute_reply": "2024-10-11T03:45:30.969459Z"
    },
    "papermill": {
     "duration": 0.047537,
     "end_time": "2024-10-11T03:45:30.972923",
     "exception": false,
     "start_time": "2024-10-11T03:45:30.925386",
     "status": "completed"
    },
    "tags": []
   },
   "outputs": [
    {
     "data": {
      "text/plain": [
       "10483"
      ]
     },
     "execution_count": 12,
     "metadata": {},
     "output_type": "execute_result"
    }
   ],
   "source": [
    "data[\"DSBLD_TOT_BENES\"].isin([\"*\"]).sum()"
   ]
  },
  {
   "cell_type": "code",
   "execution_count": 13,
   "id": "0f18c2b7",
   "metadata": {
    "execution": {
     "iopub.execute_input": "2024-10-11T03:45:31.012227Z",
     "iopub.status.busy": "2024-10-11T03:45:31.011787Z",
     "iopub.status.idle": "2024-10-11T03:45:31.038257Z",
     "shell.execute_reply": "2024-10-11T03:45:31.037083Z"
    },
    "papermill": {
     "duration": 0.048915,
     "end_time": "2024-10-11T03:45:31.040747",
     "exception": false,
     "start_time": "2024-10-11T03:45:30.991832",
     "status": "completed"
    },
    "tags": []
   },
   "outputs": [
    {
     "data": {
      "text/plain": [
       "15439"
      ]
     },
     "execution_count": 13,
     "metadata": {},
     "output_type": "execute_result"
    }
   ],
   "source": [
    "data[\"ORGNL_MDCR_BENES\"].isin([\"*\"]).sum()"
   ]
  },
  {
   "cell_type": "code",
   "execution_count": 14,
   "id": "da13ed8c",
   "metadata": {
    "execution": {
     "iopub.execute_input": "2024-10-11T03:45:31.080219Z",
     "iopub.status.busy": "2024-10-11T03:45:31.079781Z",
     "iopub.status.idle": "2024-10-11T03:45:31.105740Z",
     "shell.execute_reply": "2024-10-11T03:45:31.104657Z"
    },
    "papermill": {
     "duration": 0.048861,
     "end_time": "2024-10-11T03:45:31.108293",
     "exception": false,
     "start_time": "2024-10-11T03:45:31.059432",
     "status": "completed"
    },
    "tags": []
   },
   "outputs": [
    {
     "data": {
      "text/plain": [
       "10483"
      ]
     },
     "execution_count": 14,
     "metadata": {},
     "output_type": "execute_result"
    }
   ],
   "source": [
    "data[\"AGED_TOT_BENES\"].isin([\"*\"]).sum()"
   ]
  },
  {
   "cell_type": "code",
   "execution_count": 15,
   "id": "fbca0980",
   "metadata": {
    "execution": {
     "iopub.execute_input": "2024-10-11T03:45:31.147852Z",
     "iopub.status.busy": "2024-10-11T03:45:31.147442Z",
     "iopub.status.idle": "2024-10-11T03:45:31.173453Z",
     "shell.execute_reply": "2024-10-11T03:45:31.172045Z"
    },
    "papermill": {
     "duration": 0.048648,
     "end_time": "2024-10-11T03:45:31.175939",
     "exception": false,
     "start_time": "2024-10-11T03:45:31.127291",
     "status": "completed"
    },
    "tags": []
   },
   "outputs": [
    {
     "data": {
      "text/plain": [
       "15439"
      ]
     },
     "execution_count": 15,
     "metadata": {},
     "output_type": "execute_result"
    }
   ],
   "source": [
    "data[\"MA_AND_OTH_BENES\"].isin([\"*\"]).sum()"
   ]
  },
  {
   "cell_type": "markdown",
   "id": "f0e87162",
   "metadata": {
    "papermill": {
     "duration": 0.018827,
     "end_time": "2024-10-11T03:45:31.213877",
     "exception": false,
     "start_time": "2024-10-11T03:45:31.195050",
     "status": "completed"
    },
    "tags": []
   },
   "source": [
    "**Next, would be to find the missing data in the columns of the data set.**"
   ]
  },
  {
   "cell_type": "code",
   "execution_count": 16,
   "id": "e86d69c9",
   "metadata": {
    "execution": {
     "iopub.execute_input": "2024-10-11T03:45:31.254107Z",
     "iopub.status.busy": "2024-10-11T03:45:31.253685Z",
     "iopub.status.idle": "2024-10-11T03:45:32.512009Z",
     "shell.execute_reply": "2024-10-11T03:45:32.510823Z"
    },
    "papermill": {
     "duration": 1.281144,
     "end_time": "2024-10-11T03:45:32.514365",
     "exception": false,
     "start_time": "2024-10-11T03:45:31.233221",
     "status": "completed"
    },
    "tags": []
   },
   "outputs": [
    {
     "data": {
      "text/plain": [
       "YEAR                                            0\n",
       "MONTH                                           0\n",
       "BENE_GEO_LVL                                    0\n",
       "BENE_STATE_ABRVTN                               0\n",
       "BENE_STATE_DESC                                 0\n",
       "BENE_COUNTY_DESC                                0\n",
       "BENE_FIPS_CD                                    0\n",
       "TOT_BENES                                       0\n",
       "ORGNL_MDCR_BENES                                0\n",
       "MA_AND_OTH_BENES                                0\n",
       "AGED_TOT_BENES                                  0\n",
       "AGED_ESRD_BENES                                 0\n",
       "AGED_NO_ESRD_BENES                              0\n",
       "DSBLD_TOT_BENES                                 0\n",
       "DSBLD_ESRD_AND_ESRD_ONLY_BENES                  0\n",
       "DSBLD_NO_ESRD_BENES                             0\n",
       "A_B_TOT_BENES                                   0\n",
       "A_B_ORGNL_MDCR_BENES                            0\n",
       "A_B_MA_AND_OTH_BENES                            0\n",
       "PRSCRPTN_DRUG_TOT_BENES                         0\n",
       "PRSCRPTN_DRUG_PDP_BENES                         0\n",
       "PRSCRPTN_DRUG_MAPD_BENES                        0\n",
       "PRSCRPTN_DRUG_DEEMED_ELIGIBLE_FULL_LIS_BENES    0\n",
       "PRSCRPTN_DRUG_FULL_LIS_BENES                    0\n",
       "PRSCRPTN_DRUG_PARTIAL_LIS_BENES                 0\n",
       "PRSCRPTN_DRUG_NO_LIS_BENES                      0\n",
       "dtype: int64"
      ]
     },
     "execution_count": 16,
     "metadata": {},
     "output_type": "execute_result"
    }
   ],
   "source": [
    "# get the number of missing data points per column\n",
    "missing_values_count = data.isnull().sum()\n",
    "# look at the # of missing points in the first ten columns\n",
    "missing_values_count[0:26]"
   ]
  },
  {
   "cell_type": "markdown",
   "id": "ae5fe303",
   "metadata": {
    "papermill": {
     "duration": 0.019009,
     "end_time": "2024-10-11T03:45:32.552564",
     "exception": false,
     "start_time": "2024-10-11T03:45:32.533555",
     "status": "completed"
    },
    "tags": []
   },
   "source": [
    "<h3 style=\"color: #0c2461;\">Observations</h3>\n",
    "<h5 style=\"color: #0c2461;\">No missing values in the dataset.</h5>"
   ]
  },
  {
   "cell_type": "markdown",
   "id": "05b85fda",
   "metadata": {
    "papermill": {
     "duration": 0.019212,
     "end_time": "2024-10-11T03:45:32.591141",
     "exception": false,
     "start_time": "2024-10-11T03:45:32.571929",
     "status": "completed"
    },
    "tags": []
   },
   "source": [
    "<h2 style=\"position: relative;\">\n",
    "    <span style=\"color: #6a89cc;\">3.</span> \n",
    "    <span style=\"color: #0c2461;\">Cleaning the Dataset</span> \n",
    "    <br/>\n",
    "</h2>\n"
   ]
  },
  {
   "cell_type": "markdown",
   "id": "bd6bfef7",
   "metadata": {
    "papermill": {
     "duration": 0.019371,
     "end_time": "2024-10-11T03:45:32.629797",
     "exception": false,
     "start_time": "2024-10-11T03:45:32.610426",
     "status": "completed"
    },
    "tags": []
   },
   "source": [
    "**Change the the data type of columns from object to numeric. The data \"*\" is considered as an error and is replaced by numeric value of zero.**"
   ]
  },
  {
   "cell_type": "code",
   "execution_count": 17,
   "id": "7db46b63",
   "metadata": {
    "execution": {
     "iopub.execute_input": "2024-10-11T03:45:32.670218Z",
     "iopub.status.busy": "2024-10-11T03:45:32.669791Z",
     "iopub.status.idle": "2024-10-11T03:45:32.985966Z",
     "shell.execute_reply": "2024-10-11T03:45:32.984723Z"
    },
    "papermill": {
     "duration": 0.339624,
     "end_time": "2024-10-11T03:45:32.988690",
     "exception": false,
     "start_time": "2024-10-11T03:45:32.649066",
     "status": "completed"
    },
    "tags": []
   },
   "outputs": [],
   "source": [
    "data['TOT_BENES'] = pd.to_numeric(data['TOT_BENES'], errors='coerce').fillna(0).astype(int) "
   ]
  },
  {
   "cell_type": "code",
   "execution_count": 18,
   "id": "b8bd5d9e",
   "metadata": {
    "execution": {
     "iopub.execute_input": "2024-10-11T03:45:33.029695Z",
     "iopub.status.busy": "2024-10-11T03:45:33.029263Z",
     "iopub.status.idle": "2024-10-11T03:45:33.087563Z",
     "shell.execute_reply": "2024-10-11T03:45:33.086436Z"
    },
    "papermill": {
     "duration": 0.081898,
     "end_time": "2024-10-11T03:45:33.090240",
     "exception": false,
     "start_time": "2024-10-11T03:45:33.008342",
     "status": "completed"
    },
    "tags": []
   },
   "outputs": [
    {
     "data": {
      "text/plain": [
       "0"
      ]
     },
     "execution_count": 18,
     "metadata": {},
     "output_type": "execute_result"
    }
   ],
   "source": [
    "data[\"TOT_BENES\"].isin([\"*\"]).sum()"
   ]
  },
  {
   "cell_type": "code",
   "execution_count": 19,
   "id": "fa03484b",
   "metadata": {
    "execution": {
     "iopub.execute_input": "2024-10-11T03:45:33.131736Z",
     "iopub.status.busy": "2024-10-11T03:45:33.131324Z",
     "iopub.status.idle": "2024-10-11T03:45:34.348988Z",
     "shell.execute_reply": "2024-10-11T03:45:34.348002Z"
    },
    "papermill": {
     "duration": 1.241979,
     "end_time": "2024-10-11T03:45:34.351828",
     "exception": false,
     "start_time": "2024-10-11T03:45:33.109849",
     "status": "completed"
    },
    "tags": []
   },
   "outputs": [],
   "source": [
    "# Data type conversion for columns to get consistent data. \n",
    "data['DSBLD_TOT_BENES'] = pd.to_numeric(data['DSBLD_TOT_BENES'], errors='coerce').fillna(0).astype(int) \n",
    "data['AGED_TOT_BENES'] = pd.to_numeric(data['AGED_TOT_BENES'], errors='coerce').fillna(0).astype(int) \n",
    "data['ORGNL_MDCR_BENES'] = pd.to_numeric(data['ORGNL_MDCR_BENES'], errors='coerce').fillna(0).astype(int) \n",
    "data['MA_AND_OTH_BENES'] = pd.to_numeric(data['MA_AND_OTH_BENES'], errors='coerce').fillna(0).astype(int) "
   ]
  },
  {
   "cell_type": "code",
   "execution_count": 20,
   "id": "fbbf206f",
   "metadata": {
    "execution": {
     "iopub.execute_input": "2024-10-11T03:45:34.392521Z",
     "iopub.status.busy": "2024-10-11T03:45:34.392132Z",
     "iopub.status.idle": "2024-10-11T03:45:35.389342Z",
     "shell.execute_reply": "2024-10-11T03:45:35.388107Z"
    },
    "papermill": {
     "duration": 1.02109,
     "end_time": "2024-10-11T03:45:35.392497",
     "exception": false,
     "start_time": "2024-10-11T03:45:34.371407",
     "status": "completed"
    },
    "tags": []
   },
   "outputs": [
    {
     "name": "stdout",
     "output_type": "stream",
     "text": [
      "<class 'pandas.core.frame.DataFrame'>\n",
      "RangeIndex: 460290 entries, 0 to 460289\n",
      "Data columns (total 26 columns):\n",
      " #   Column                                        Non-Null Count   Dtype \n",
      "---  ------                                        --------------   ----- \n",
      " 0   YEAR                                          460290 non-null  int64 \n",
      " 1   MONTH                                         460290 non-null  object\n",
      " 2   BENE_GEO_LVL                                  460290 non-null  object\n",
      " 3   BENE_STATE_ABRVTN                             460290 non-null  object\n",
      " 4   BENE_STATE_DESC                               460290 non-null  object\n",
      " 5   BENE_COUNTY_DESC                              460290 non-null  object\n",
      " 6   BENE_FIPS_CD                                  460290 non-null  object\n",
      " 7   TOT_BENES                                     460290 non-null  int64 \n",
      " 8   ORGNL_MDCR_BENES                              460290 non-null  int64 \n",
      " 9   MA_AND_OTH_BENES                              460290 non-null  int64 \n",
      " 10  AGED_TOT_BENES                                460290 non-null  int64 \n",
      " 11  AGED_ESRD_BENES                               460290 non-null  object\n",
      " 12  AGED_NO_ESRD_BENES                            460290 non-null  object\n",
      " 13  DSBLD_TOT_BENES                               460290 non-null  int64 \n",
      " 14  DSBLD_ESRD_AND_ESRD_ONLY_BENES                460290 non-null  object\n",
      " 15  DSBLD_NO_ESRD_BENES                           460290 non-null  object\n",
      " 16  A_B_TOT_BENES                                 460290 non-null  object\n",
      " 17  A_B_ORGNL_MDCR_BENES                          460290 non-null  object\n",
      " 18  A_B_MA_AND_OTH_BENES                          460290 non-null  object\n",
      " 19  PRSCRPTN_DRUG_TOT_BENES                       460290 non-null  object\n",
      " 20  PRSCRPTN_DRUG_PDP_BENES                       460290 non-null  object\n",
      " 21  PRSCRPTN_DRUG_MAPD_BENES                      460290 non-null  object\n",
      " 22  PRSCRPTN_DRUG_DEEMED_ELIGIBLE_FULL_LIS_BENES  460290 non-null  object\n",
      " 23  PRSCRPTN_DRUG_FULL_LIS_BENES                  460290 non-null  object\n",
      " 24  PRSCRPTN_DRUG_PARTIAL_LIS_BENES               460290 non-null  object\n",
      " 25  PRSCRPTN_DRUG_NO_LIS_BENES                    460290 non-null  object\n",
      "dtypes: int64(6), object(20)\n",
      "memory usage: 91.3+ MB\n"
     ]
    }
   ],
   "source": [
    "#Check the structure of the dataframe\n",
    "data.info()"
   ]
  },
  {
   "cell_type": "markdown",
   "id": "a5d127cd",
   "metadata": {
    "papermill": {
     "duration": 0.020257,
     "end_time": "2024-10-11T03:45:35.432493",
     "exception": false,
     "start_time": "2024-10-11T03:45:35.412236",
     "status": "completed"
    },
    "tags": []
   },
   "source": [
    "<h3 style=\"color: #0c2461;\">Observations</h3>\n",
    "<h5 style=\"color: #0c2461;\">Conversion done for the specified columns from object type to Integer.</h5>"
   ]
  },
  {
   "cell_type": "markdown",
   "id": "c17c092a",
   "metadata": {
    "papermill": {
     "duration": 0.01924,
     "end_time": "2024-10-11T03:45:35.471358",
     "exception": false,
     "start_time": "2024-10-11T03:45:35.452118",
     "status": "completed"
    },
    "tags": []
   },
   "source": [
    "<h2 style=\"position: relative;\">\n",
    "    <span style=\"color: #6a89cc;\">4.</span> \n",
    "    <span style=\"color: #0c2461;\">Data Visualization</span> \n",
    "    <br/>\n",
    "</h2>"
   ]
  },
  {
   "cell_type": "markdown",
   "id": "9e11a6f9",
   "metadata": {
    "papermill": {
     "duration": 0.019247,
     "end_time": "2024-10-11T03:45:35.510342",
     "exception": false,
     "start_time": "2024-10-11T03:45:35.491095",
     "status": "completed"
    },
    "tags": []
   },
   "source": [
    "**Filter the data to get only specified columns into a new pandas dataframe**"
   ]
  },
  {
   "cell_type": "markdown",
   "id": "b518b540",
   "metadata": {
    "papermill": {
     "duration": 0.019328,
     "end_time": "2024-10-11T03:45:35.549146",
     "exception": false,
     "start_time": "2024-10-11T03:45:35.529818",
     "status": "completed"
    },
    "tags": []
   },
   "source": [
    "**Get Visualization for Year 2022 - State wise data**"
   ]
  },
  {
   "cell_type": "code",
   "execution_count": 21,
   "id": "dafa9481",
   "metadata": {
    "execution": {
     "iopub.execute_input": "2024-10-11T03:45:35.590802Z",
     "iopub.status.busy": "2024-10-11T03:45:35.589714Z",
     "iopub.status.idle": "2024-10-11T03:45:35.594823Z",
     "shell.execute_reply": "2024-10-11T03:45:35.593909Z"
    },
    "papermill": {
     "duration": 0.028425,
     "end_time": "2024-10-11T03:45:35.597213",
     "exception": false,
     "start_time": "2024-10-11T03:45:35.568788",
     "status": "completed"
    },
    "tags": []
   },
   "outputs": [],
   "source": [
    "data_original = data\n"
   ]
  },
  {
   "cell_type": "code",
   "execution_count": 22,
   "id": "0688d959",
   "metadata": {
    "execution": {
     "iopub.execute_input": "2024-10-11T03:45:35.638745Z",
     "iopub.status.busy": "2024-10-11T03:45:35.637891Z",
     "iopub.status.idle": "2024-10-11T03:45:35.905240Z",
     "shell.execute_reply": "2024-10-11T03:45:35.903899Z"
    },
    "papermill": {
     "duration": 0.291202,
     "end_time": "2024-10-11T03:45:35.908233",
     "exception": false,
     "start_time": "2024-10-11T03:45:35.617031",
     "status": "completed"
    },
    "tags": []
   },
   "outputs": [],
   "source": [
    "data = data[(data['TOT_BENES'] != 0) & (data['AGED_TOT_BENES'] != 0) & (data['DSBLD_TOT_BENES'] != 0) & (data['PRSCRPTN_DRUG_TOT_BENES'] != 0)]"
   ]
  },
  {
   "cell_type": "code",
   "execution_count": 23,
   "id": "ffecafb0",
   "metadata": {
    "execution": {
     "iopub.execute_input": "2024-10-11T03:45:35.949963Z",
     "iopub.status.busy": "2024-10-11T03:45:35.949503Z",
     "iopub.status.idle": "2024-10-11T03:45:36.031099Z",
     "shell.execute_reply": "2024-10-11T03:45:36.029998Z"
    },
    "papermill": {
     "duration": 0.105773,
     "end_time": "2024-10-11T03:45:36.033784",
     "exception": false,
     "start_time": "2024-10-11T03:45:35.928011",
     "status": "completed"
    },
    "tags": []
   },
   "outputs": [],
   "source": [
    "data= pd.DataFrame(data,columns = ['YEAR','BENE_GEO_LVL','BENE_STATE_ABRVTN','BENE_COUNTY_DESC', 'TOT_BENES','AGED_TOT_BENES', 'DSBLD_TOT_BENES','PRSCRPTN_DRUG_TOT_BENES']) "
   ]
  },
  {
   "cell_type": "code",
   "execution_count": 24,
   "id": "c1a81d09",
   "metadata": {
    "execution": {
     "iopub.execute_input": "2024-10-11T03:45:36.075406Z",
     "iopub.status.busy": "2024-10-11T03:45:36.074977Z",
     "iopub.status.idle": "2024-10-11T03:45:36.098466Z",
     "shell.execute_reply": "2024-10-11T03:45:36.097337Z"
    },
    "papermill": {
     "duration": 0.047878,
     "end_time": "2024-10-11T03:45:36.101357",
     "exception": false,
     "start_time": "2024-10-11T03:45:36.053479",
     "status": "completed"
    },
    "tags": []
   },
   "outputs": [],
   "source": [
    "options = [2022]\n",
    "data_flt = data[(data['YEAR'].isin(options))]\n",
    "data_flt = data_flt[(data_flt['BENE_COUNTY_DESC'] == 'Total')]\n",
    "data_flt= data_flt[(data_flt['BENE_GEO_LVL'] == 'State')]"
   ]
  },
  {
   "cell_type": "code",
   "execution_count": 25,
   "id": "7ae68835",
   "metadata": {
    "execution": {
     "iopub.execute_input": "2024-10-11T03:45:36.142820Z",
     "iopub.status.busy": "2024-10-11T03:45:36.142362Z",
     "iopub.status.idle": "2024-10-11T03:45:36.477476Z",
     "shell.execute_reply": "2024-10-11T03:45:36.476318Z"
    },
    "papermill": {
     "duration": 0.358777,
     "end_time": "2024-10-11T03:45:36.479913",
     "exception": false,
     "start_time": "2024-10-11T03:45:36.121136",
     "status": "completed"
    },
    "tags": []
   },
   "outputs": [
    {
     "data": {
      "text/html": [
       "<div>\n",
       "<style scoped>\n",
       "    .dataframe tbody tr th:only-of-type {\n",
       "        vertical-align: middle;\n",
       "    }\n",
       "\n",
       "    .dataframe tbody tr th {\n",
       "        vertical-align: top;\n",
       "    }\n",
       "\n",
       "    .dataframe thead th {\n",
       "        text-align: right;\n",
       "    }\n",
       "</style>\n",
       "<table border=\"1\" class=\"dataframe\">\n",
       "  <thead>\n",
       "    <tr style=\"text-align: right;\">\n",
       "      <th></th>\n",
       "      <th>tot_benes</th>\n",
       "      <th>state</th>\n",
       "      <th>rn</th>\n",
       "    </tr>\n",
       "  </thead>\n",
       "  <tbody>\n",
       "    <tr>\n",
       "      <th>0</th>\n",
       "      <td>6554209</td>\n",
       "      <td>CA</td>\n",
       "      <td>1</td>\n",
       "    </tr>\n",
       "    <tr>\n",
       "      <th>1</th>\n",
       "      <td>4882279</td>\n",
       "      <td>FL</td>\n",
       "      <td>1</td>\n",
       "    </tr>\n",
       "    <tr>\n",
       "      <th>2</th>\n",
       "      <td>4461923</td>\n",
       "      <td>TX</td>\n",
       "      <td>1</td>\n",
       "    </tr>\n",
       "    <tr>\n",
       "      <th>3</th>\n",
       "      <td>3722204</td>\n",
       "      <td>NY</td>\n",
       "      <td>1</td>\n",
       "    </tr>\n",
       "    <tr>\n",
       "      <th>4</th>\n",
       "      <td>2823902</td>\n",
       "      <td>PA</td>\n",
       "      <td>1</td>\n",
       "    </tr>\n",
       "    <tr>\n",
       "      <th>5</th>\n",
       "      <td>2423720</td>\n",
       "      <td>OH</td>\n",
       "      <td>1</td>\n",
       "    </tr>\n",
       "    <tr>\n",
       "      <th>6</th>\n",
       "      <td>2300582</td>\n",
       "      <td>IL</td>\n",
       "      <td>1</td>\n",
       "    </tr>\n",
       "    <tr>\n",
       "      <th>7</th>\n",
       "      <td>2146173</td>\n",
       "      <td>MI</td>\n",
       "      <td>1</td>\n",
       "    </tr>\n",
       "    <tr>\n",
       "      <th>8</th>\n",
       "      <td>2110028</td>\n",
       "      <td>NC</td>\n",
       "      <td>1</td>\n",
       "    </tr>\n",
       "    <tr>\n",
       "      <th>9</th>\n",
       "      <td>1835686</td>\n",
       "      <td>GA</td>\n",
       "      <td>1</td>\n",
       "    </tr>\n",
       "    <tr>\n",
       "      <th>10</th>\n",
       "      <td>1669257</td>\n",
       "      <td>NJ</td>\n",
       "      <td>1</td>\n",
       "    </tr>\n",
       "    <tr>\n",
       "      <th>11</th>\n",
       "      <td>1594532</td>\n",
       "      <td>VA</td>\n",
       "      <td>1</td>\n",
       "    </tr>\n",
       "    <tr>\n",
       "      <th>12</th>\n",
       "      <td>1445344</td>\n",
       "      <td>WA</td>\n",
       "      <td>1</td>\n",
       "    </tr>\n",
       "    <tr>\n",
       "      <th>13</th>\n",
       "      <td>1420900</td>\n",
       "      <td>TN</td>\n",
       "      <td>1</td>\n",
       "    </tr>\n",
       "    <tr>\n",
       "      <th>14</th>\n",
       "      <td>1418895</td>\n",
       "      <td>AZ</td>\n",
       "      <td>1</td>\n",
       "    </tr>\n",
       "    <tr>\n",
       "      <th>15</th>\n",
       "      <td>1385890</td>\n",
       "      <td>MA</td>\n",
       "      <td>1</td>\n",
       "    </tr>\n",
       "    <tr>\n",
       "      <th>16</th>\n",
       "      <td>1313007</td>\n",
       "      <td>IN</td>\n",
       "      <td>1</td>\n",
       "    </tr>\n",
       "    <tr>\n",
       "      <th>17</th>\n",
       "      <td>1275441</td>\n",
       "      <td>MO</td>\n",
       "      <td>1</td>\n",
       "    </tr>\n",
       "    <tr>\n",
       "      <th>18</th>\n",
       "      <td>1241539</td>\n",
       "      <td>WI</td>\n",
       "      <td>1</td>\n",
       "    </tr>\n",
       "    <tr>\n",
       "      <th>19</th>\n",
       "      <td>1157020</td>\n",
       "      <td>SC</td>\n",
       "      <td>1</td>\n",
       "    </tr>\n",
       "    <tr>\n",
       "      <th>20</th>\n",
       "      <td>1086040</td>\n",
       "      <td>MD</td>\n",
       "      <td>1</td>\n",
       "    </tr>\n",
       "    <tr>\n",
       "      <th>21</th>\n",
       "      <td>1081094</td>\n",
       "      <td>MN</td>\n",
       "      <td>1</td>\n",
       "    </tr>\n",
       "    <tr>\n",
       "      <th>22</th>\n",
       "      <td>1079774</td>\n",
       "      <td>AL</td>\n",
       "      <td>1</td>\n",
       "    </tr>\n",
       "    <tr>\n",
       "      <th>23</th>\n",
       "      <td>971923</td>\n",
       "      <td>CO</td>\n",
       "      <td>1</td>\n",
       "    </tr>\n",
       "    <tr>\n",
       "      <th>24</th>\n",
       "      <td>957555</td>\n",
       "      <td>KY</td>\n",
       "      <td>1</td>\n",
       "    </tr>\n",
       "    <tr>\n",
       "      <th>25</th>\n",
       "      <td>909317</td>\n",
       "      <td>OR</td>\n",
       "      <td>1</td>\n",
       "    </tr>\n",
       "    <tr>\n",
       "      <th>26</th>\n",
       "      <td>900180</td>\n",
       "      <td>LA</td>\n",
       "      <td>1</td>\n",
       "    </tr>\n",
       "    <tr>\n",
       "      <th>27</th>\n",
       "      <td>772113</td>\n",
       "      <td>OK</td>\n",
       "      <td>1</td>\n",
       "    </tr>\n",
       "    <tr>\n",
       "      <th>28</th>\n",
       "      <td>759067</td>\n",
       "      <td>PR</td>\n",
       "      <td>1</td>\n",
       "    </tr>\n",
       "    <tr>\n",
       "      <th>29</th>\n",
       "      <td>710090</td>\n",
       "      <td>CT</td>\n",
       "      <td>1</td>\n",
       "    </tr>\n",
       "  </tbody>\n",
       "</table>\n",
       "</div>"
      ],
      "text/plain": [
       "    tot_benes state  rn\n",
       "0     6554209    CA   1\n",
       "1     4882279    FL   1\n",
       "2     4461923    TX   1\n",
       "3     3722204    NY   1\n",
       "4     2823902    PA   1\n",
       "5     2423720    OH   1\n",
       "6     2300582    IL   1\n",
       "7     2146173    MI   1\n",
       "8     2110028    NC   1\n",
       "9     1835686    GA   1\n",
       "10    1669257    NJ   1\n",
       "11    1594532    VA   1\n",
       "12    1445344    WA   1\n",
       "13    1420900    TN   1\n",
       "14    1418895    AZ   1\n",
       "15    1385890    MA   1\n",
       "16    1313007    IN   1\n",
       "17    1275441    MO   1\n",
       "18    1241539    WI   1\n",
       "19    1157020    SC   1\n",
       "20    1086040    MD   1\n",
       "21    1081094    MN   1\n",
       "22    1079774    AL   1\n",
       "23     971923    CO   1\n",
       "24     957555    KY   1\n",
       "25     909317    OR   1\n",
       "26     900180    LA   1\n",
       "27     772113    OK   1\n",
       "28     759067    PR   1\n",
       "29     710090    CT   1"
      ]
     },
     "execution_count": 25,
     "metadata": {},
     "output_type": "execute_result"
    }
   ],
   "source": [
    "q1 = \"\"\" select tot_benes , BENE_STATE_ABRVTN from data_flt group by BENE_STATE_ABRVTN order by BENE_STATE_ABRVTN, year desc  \"\"\"\n",
    "data_flt = ps.sqldf(\"select tot_benes, state,rn from (select tot_benes , BENE_STATE_ABRVTN as state, RANK() OVER(partition by BENE_STATE_ABRVTN order by tot_benes ) as rn from data_flt order by tot_benes desc, rn) as temp where rn = 1  \")\n",
    "#print(ps.sqldf(q1, locals()))\n",
    "data_flt.head(30)\n"
   ]
  },
  {
   "cell_type": "code",
   "execution_count": 26,
   "id": "33c91e9c",
   "metadata": {
    "execution": {
     "iopub.execute_input": "2024-10-11T03:45:36.522220Z",
     "iopub.status.busy": "2024-10-11T03:45:36.521180Z",
     "iopub.status.idle": "2024-10-11T03:45:38.300366Z",
     "shell.execute_reply": "2024-10-11T03:45:38.299075Z"
    },
    "papermill": {
     "duration": 1.803537,
     "end_time": "2024-10-11T03:45:38.303392",
     "exception": false,
     "start_time": "2024-10-11T03:45:36.499855",
     "status": "completed"
    },
    "tags": []
   },
   "outputs": [
    {
     "data": {
      "application/vnd.plotly.v1+json": {
       "config": {
        "linkText": "Export to plot.ly",
        "plotlyServerURL": "https://plot.ly",
        "showLink": false
       },
       "data": [
        {
         "autocolorscale": false,
         "colorbar": {
          "title": {
           "text": "Total Beneficiaries by Different States - year 2022"
          }
         },
         "colorscale": [
          [
           0.0,
           "rgb(248,255,206)"
          ],
          [
           0.2,
           "rgb(203,255,205)"
          ],
          [
           0.4,
           "rgb(155,255,164)"
          ],
          [
           0.6,
           "rgb(79,255,178)"
          ],
          [
           0.8,
           "rgb(15,183,132)"
          ],
          [
           1,
           "#008059"
          ]
         ],
         "locationmode": "USA-states",
         "locations": [
          "CA",
          "FL",
          "TX",
          "NY",
          "PA",
          "OH",
          "IL",
          "MI",
          "NC",
          "GA",
          "NJ",
          "VA",
          "WA",
          "TN",
          "AZ",
          "MA",
          "IN",
          "MO",
          "WI",
          "SC",
          "MD",
          "MN",
          "AL",
          "CO",
          "KY",
          "OR",
          "LA",
          "OK",
          "PR",
          "CT",
          "AR",
          "IA",
          "MS",
          "NV",
          "KS",
          "FO",
          "WV",
          "NM",
          "UT",
          "ID",
          "NE",
          "ME",
          "NH",
          "HI",
          "MT",
          "RI",
          "DE",
          "SD",
          "VT",
          "ND",
          "WY",
          "AK",
          "DC",
          "VI",
          "GU",
          "AS",
          "MP"
         ],
         "marker": {
          "line": {
           "color": "rgb(255,255,255)",
           "width": 2
          }
         },
         "text": [
          "CA",
          "FL",
          "TX",
          "NY",
          "PA",
          "OH",
          "IL",
          "MI",
          "NC",
          "GA",
          "NJ",
          "VA",
          "WA",
          "TN",
          "AZ",
          "MA",
          "IN",
          "MO",
          "WI",
          "SC",
          "MD",
          "MN",
          "AL",
          "CO",
          "KY",
          "OR",
          "LA",
          "OK",
          "PR",
          "CT",
          "AR",
          "IA",
          "MS",
          "NV",
          "KS",
          "FO",
          "WV",
          "NM",
          "UT",
          "ID",
          "NE",
          "ME",
          "NH",
          "HI",
          "MT",
          "RI",
          "DE",
          "SD",
          "VT",
          "ND",
          "WY",
          "AK",
          "DC",
          "VI",
          "GU",
          "AS",
          "MP"
         ],
         "type": "choropleth",
         "z": [
          6554209,
          4882279,
          4461923,
          3722204,
          2823902,
          2423720,
          2300582,
          2146173,
          2110028,
          1835686,
          1669257,
          1594532,
          1445344,
          1420900,
          1418895,
          1385890,
          1313007,
          1275441,
          1241539,
          1157020,
          1086040,
          1081094,
          1079774,
          971923,
          957555,
          909317,
          900180,
          772113,
          759067,
          710090,
          658415,
          653597,
          619124,
          568320,
          562135,
          507554,
          444035,
          443568,
          434585,
          367893,
          364825,
          360760,
          321690,
          291875,
          247423,
          230322,
          227857,
          187201,
          156828,
          139003,
          119246,
          109320,
          93850,
          20327,
          18354,
          4838,
          2898
         ]
        }
       ],
       "layout": {
        "geo": {
         "lakecolor": "rgb(255, 255, 255)",
         "projection": {
          "type": "albers usa"
         },
         "scope": "usa",
         "showlakes": true
        },
        "template": {
         "data": {
          "bar": [
           {
            "error_x": {
             "color": "#2a3f5f"
            },
            "error_y": {
             "color": "#2a3f5f"
            },
            "marker": {
             "line": {
              "color": "#E5ECF6",
              "width": 0.5
             },
             "pattern": {
              "fillmode": "overlay",
              "size": 10,
              "solidity": 0.2
             }
            },
            "type": "bar"
           }
          ],
          "barpolar": [
           {
            "marker": {
             "line": {
              "color": "#E5ECF6",
              "width": 0.5
             },
             "pattern": {
              "fillmode": "overlay",
              "size": 10,
              "solidity": 0.2
             }
            },
            "type": "barpolar"
           }
          ],
          "carpet": [
           {
            "aaxis": {
             "endlinecolor": "#2a3f5f",
             "gridcolor": "white",
             "linecolor": "white",
             "minorgridcolor": "white",
             "startlinecolor": "#2a3f5f"
            },
            "baxis": {
             "endlinecolor": "#2a3f5f",
             "gridcolor": "white",
             "linecolor": "white",
             "minorgridcolor": "white",
             "startlinecolor": "#2a3f5f"
            },
            "type": "carpet"
           }
          ],
          "choropleth": [
           {
            "colorbar": {
             "outlinewidth": 0,
             "ticks": ""
            },
            "type": "choropleth"
           }
          ],
          "contour": [
           {
            "colorbar": {
             "outlinewidth": 0,
             "ticks": ""
            },
            "colorscale": [
             [
              0.0,
              "#0d0887"
             ],
             [
              0.1111111111111111,
              "#46039f"
             ],
             [
              0.2222222222222222,
              "#7201a8"
             ],
             [
              0.3333333333333333,
              "#9c179e"
             ],
             [
              0.4444444444444444,
              "#bd3786"
             ],
             [
              0.5555555555555556,
              "#d8576b"
             ],
             [
              0.6666666666666666,
              "#ed7953"
             ],
             [
              0.7777777777777778,
              "#fb9f3a"
             ],
             [
              0.8888888888888888,
              "#fdca26"
             ],
             [
              1.0,
              "#f0f921"
             ]
            ],
            "type": "contour"
           }
          ],
          "contourcarpet": [
           {
            "colorbar": {
             "outlinewidth": 0,
             "ticks": ""
            },
            "type": "contourcarpet"
           }
          ],
          "heatmap": [
           {
            "colorbar": {
             "outlinewidth": 0,
             "ticks": ""
            },
            "colorscale": [
             [
              0.0,
              "#0d0887"
             ],
             [
              0.1111111111111111,
              "#46039f"
             ],
             [
              0.2222222222222222,
              "#7201a8"
             ],
             [
              0.3333333333333333,
              "#9c179e"
             ],
             [
              0.4444444444444444,
              "#bd3786"
             ],
             [
              0.5555555555555556,
              "#d8576b"
             ],
             [
              0.6666666666666666,
              "#ed7953"
             ],
             [
              0.7777777777777778,
              "#fb9f3a"
             ],
             [
              0.8888888888888888,
              "#fdca26"
             ],
             [
              1.0,
              "#f0f921"
             ]
            ],
            "type": "heatmap"
           }
          ],
          "heatmapgl": [
           {
            "colorbar": {
             "outlinewidth": 0,
             "ticks": ""
            },
            "colorscale": [
             [
              0.0,
              "#0d0887"
             ],
             [
              0.1111111111111111,
              "#46039f"
             ],
             [
              0.2222222222222222,
              "#7201a8"
             ],
             [
              0.3333333333333333,
              "#9c179e"
             ],
             [
              0.4444444444444444,
              "#bd3786"
             ],
             [
              0.5555555555555556,
              "#d8576b"
             ],
             [
              0.6666666666666666,
              "#ed7953"
             ],
             [
              0.7777777777777778,
              "#fb9f3a"
             ],
             [
              0.8888888888888888,
              "#fdca26"
             ],
             [
              1.0,
              "#f0f921"
             ]
            ],
            "type": "heatmapgl"
           }
          ],
          "histogram": [
           {
            "marker": {
             "pattern": {
              "fillmode": "overlay",
              "size": 10,
              "solidity": 0.2
             }
            },
            "type": "histogram"
           }
          ],
          "histogram2d": [
           {
            "colorbar": {
             "outlinewidth": 0,
             "ticks": ""
            },
            "colorscale": [
             [
              0.0,
              "#0d0887"
             ],
             [
              0.1111111111111111,
              "#46039f"
             ],
             [
              0.2222222222222222,
              "#7201a8"
             ],
             [
              0.3333333333333333,
              "#9c179e"
             ],
             [
              0.4444444444444444,
              "#bd3786"
             ],
             [
              0.5555555555555556,
              "#d8576b"
             ],
             [
              0.6666666666666666,
              "#ed7953"
             ],
             [
              0.7777777777777778,
              "#fb9f3a"
             ],
             [
              0.8888888888888888,
              "#fdca26"
             ],
             [
              1.0,
              "#f0f921"
             ]
            ],
            "type": "histogram2d"
           }
          ],
          "histogram2dcontour": [
           {
            "colorbar": {
             "outlinewidth": 0,
             "ticks": ""
            },
            "colorscale": [
             [
              0.0,
              "#0d0887"
             ],
             [
              0.1111111111111111,
              "#46039f"
             ],
             [
              0.2222222222222222,
              "#7201a8"
             ],
             [
              0.3333333333333333,
              "#9c179e"
             ],
             [
              0.4444444444444444,
              "#bd3786"
             ],
             [
              0.5555555555555556,
              "#d8576b"
             ],
             [
              0.6666666666666666,
              "#ed7953"
             ],
             [
              0.7777777777777778,
              "#fb9f3a"
             ],
             [
              0.8888888888888888,
              "#fdca26"
             ],
             [
              1.0,
              "#f0f921"
             ]
            ],
            "type": "histogram2dcontour"
           }
          ],
          "mesh3d": [
           {
            "colorbar": {
             "outlinewidth": 0,
             "ticks": ""
            },
            "type": "mesh3d"
           }
          ],
          "parcoords": [
           {
            "line": {
             "colorbar": {
              "outlinewidth": 0,
              "ticks": ""
             }
            },
            "type": "parcoords"
           }
          ],
          "pie": [
           {
            "automargin": true,
            "type": "pie"
           }
          ],
          "scatter": [
           {
            "fillpattern": {
             "fillmode": "overlay",
             "size": 10,
             "solidity": 0.2
            },
            "type": "scatter"
           }
          ],
          "scatter3d": [
           {
            "line": {
             "colorbar": {
              "outlinewidth": 0,
              "ticks": ""
             }
            },
            "marker": {
             "colorbar": {
              "outlinewidth": 0,
              "ticks": ""
             }
            },
            "type": "scatter3d"
           }
          ],
          "scattercarpet": [
           {
            "marker": {
             "colorbar": {
              "outlinewidth": 0,
              "ticks": ""
             }
            },
            "type": "scattercarpet"
           }
          ],
          "scattergeo": [
           {
            "marker": {
             "colorbar": {
              "outlinewidth": 0,
              "ticks": ""
             }
            },
            "type": "scattergeo"
           }
          ],
          "scattergl": [
           {
            "marker": {
             "colorbar": {
              "outlinewidth": 0,
              "ticks": ""
             }
            },
            "type": "scattergl"
           }
          ],
          "scattermapbox": [
           {
            "marker": {
             "colorbar": {
              "outlinewidth": 0,
              "ticks": ""
             }
            },
            "type": "scattermapbox"
           }
          ],
          "scatterpolar": [
           {
            "marker": {
             "colorbar": {
              "outlinewidth": 0,
              "ticks": ""
             }
            },
            "type": "scatterpolar"
           }
          ],
          "scatterpolargl": [
           {
            "marker": {
             "colorbar": {
              "outlinewidth": 0,
              "ticks": ""
             }
            },
            "type": "scatterpolargl"
           }
          ],
          "scatterternary": [
           {
            "marker": {
             "colorbar": {
              "outlinewidth": 0,
              "ticks": ""
             }
            },
            "type": "scatterternary"
           }
          ],
          "surface": [
           {
            "colorbar": {
             "outlinewidth": 0,
             "ticks": ""
            },
            "colorscale": [
             [
              0.0,
              "#0d0887"
             ],
             [
              0.1111111111111111,
              "#46039f"
             ],
             [
              0.2222222222222222,
              "#7201a8"
             ],
             [
              0.3333333333333333,
              "#9c179e"
             ],
             [
              0.4444444444444444,
              "#bd3786"
             ],
             [
              0.5555555555555556,
              "#d8576b"
             ],
             [
              0.6666666666666666,
              "#ed7953"
             ],
             [
              0.7777777777777778,
              "#fb9f3a"
             ],
             [
              0.8888888888888888,
              "#fdca26"
             ],
             [
              1.0,
              "#f0f921"
             ]
            ],
            "type": "surface"
           }
          ],
          "table": [
           {
            "cells": {
             "fill": {
              "color": "#EBF0F8"
             },
             "line": {
              "color": "white"
             }
            },
            "header": {
             "fill": {
              "color": "#C8D4E3"
             },
             "line": {
              "color": "white"
             }
            },
            "type": "table"
           }
          ]
         },
         "layout": {
          "annotationdefaults": {
           "arrowcolor": "#2a3f5f",
           "arrowhead": 0,
           "arrowwidth": 1
          },
          "autotypenumbers": "strict",
          "coloraxis": {
           "colorbar": {
            "outlinewidth": 0,
            "ticks": ""
           }
          },
          "colorscale": {
           "diverging": [
            [
             0,
             "#8e0152"
            ],
            [
             0.1,
             "#c51b7d"
            ],
            [
             0.2,
             "#de77ae"
            ],
            [
             0.3,
             "#f1b6da"
            ],
            [
             0.4,
             "#fde0ef"
            ],
            [
             0.5,
             "#f7f7f7"
            ],
            [
             0.6,
             "#e6f5d0"
            ],
            [
             0.7,
             "#b8e186"
            ],
            [
             0.8,
             "#7fbc41"
            ],
            [
             0.9,
             "#4d9221"
            ],
            [
             1,
             "#276419"
            ]
           ],
           "sequential": [
            [
             0.0,
             "#0d0887"
            ],
            [
             0.1111111111111111,
             "#46039f"
            ],
            [
             0.2222222222222222,
             "#7201a8"
            ],
            [
             0.3333333333333333,
             "#9c179e"
            ],
            [
             0.4444444444444444,
             "#bd3786"
            ],
            [
             0.5555555555555556,
             "#d8576b"
            ],
            [
             0.6666666666666666,
             "#ed7953"
            ],
            [
             0.7777777777777778,
             "#fb9f3a"
            ],
            [
             0.8888888888888888,
             "#fdca26"
            ],
            [
             1.0,
             "#f0f921"
            ]
           ],
           "sequentialminus": [
            [
             0.0,
             "#0d0887"
            ],
            [
             0.1111111111111111,
             "#46039f"
            ],
            [
             0.2222222222222222,
             "#7201a8"
            ],
            [
             0.3333333333333333,
             "#9c179e"
            ],
            [
             0.4444444444444444,
             "#bd3786"
            ],
            [
             0.5555555555555556,
             "#d8576b"
            ],
            [
             0.6666666666666666,
             "#ed7953"
            ],
            [
             0.7777777777777778,
             "#fb9f3a"
            ],
            [
             0.8888888888888888,
             "#fdca26"
            ],
            [
             1.0,
             "#f0f921"
            ]
           ]
          },
          "colorway": [
           "#636efa",
           "#EF553B",
           "#00cc96",
           "#ab63fa",
           "#FFA15A",
           "#19d3f3",
           "#FF6692",
           "#B6E880",
           "#FF97FF",
           "#FECB52"
          ],
          "font": {
           "color": "#2a3f5f"
          },
          "geo": {
           "bgcolor": "white",
           "lakecolor": "white",
           "landcolor": "#E5ECF6",
           "showlakes": true,
           "showland": true,
           "subunitcolor": "white"
          },
          "hoverlabel": {
           "align": "left"
          },
          "hovermode": "closest",
          "mapbox": {
           "style": "light"
          },
          "paper_bgcolor": "white",
          "plot_bgcolor": "#E5ECF6",
          "polar": {
           "angularaxis": {
            "gridcolor": "white",
            "linecolor": "white",
            "ticks": ""
           },
           "bgcolor": "#E5ECF6",
           "radialaxis": {
            "gridcolor": "white",
            "linecolor": "white",
            "ticks": ""
           }
          },
          "scene": {
           "xaxis": {
            "backgroundcolor": "#E5ECF6",
            "gridcolor": "white",
            "gridwidth": 2,
            "linecolor": "white",
            "showbackground": true,
            "ticks": "",
            "zerolinecolor": "white"
           },
           "yaxis": {
            "backgroundcolor": "#E5ECF6",
            "gridcolor": "white",
            "gridwidth": 2,
            "linecolor": "white",
            "showbackground": true,
            "ticks": "",
            "zerolinecolor": "white"
           },
           "zaxis": {
            "backgroundcolor": "#E5ECF6",
            "gridcolor": "white",
            "gridwidth": 2,
            "linecolor": "white",
            "showbackground": true,
            "ticks": "",
            "zerolinecolor": "white"
           }
          },
          "shapedefaults": {
           "line": {
            "color": "#2a3f5f"
           }
          },
          "ternary": {
           "aaxis": {
            "gridcolor": "white",
            "linecolor": "white",
            "ticks": ""
           },
           "baxis": {
            "gridcolor": "white",
            "linecolor": "white",
            "ticks": ""
           },
           "bgcolor": "#E5ECF6",
           "caxis": {
            "gridcolor": "white",
            "linecolor": "white",
            "ticks": ""
           }
          },
          "title": {
           "x": 0.05
          },
          "xaxis": {
           "automargin": true,
           "gridcolor": "white",
           "linecolor": "white",
           "ticks": "",
           "title": {
            "standoff": 15
           },
           "zerolinecolor": "white",
           "zerolinewidth": 2
          },
          "yaxis": {
           "automargin": true,
           "gridcolor": "white",
           "linecolor": "white",
           "ticks": "",
           "title": {
            "standoff": 15
           },
           "zerolinecolor": "white",
           "zerolinewidth": 2
          }
         }
        },
        "title": {
         "text": "Total Beneficiaries by Different States"
        }
       }
      },
      "text/html": [
       "<div>                            <div id=\"fd431f48-56db-41a2-8eee-c6201ae243f7\" class=\"plotly-graph-div\" style=\"height:525px; width:100%;\"></div>            <script type=\"text/javascript\">                require([\"plotly\"], function(Plotly) {                    window.PLOTLYENV=window.PLOTLYENV || {};                                    if (document.getElementById(\"fd431f48-56db-41a2-8eee-c6201ae243f7\")) {                    Plotly.newPlot(                        \"fd431f48-56db-41a2-8eee-c6201ae243f7\",                        [{\"autocolorscale\":false,\"colorbar\":{\"title\":{\"text\":\"Total Beneficiaries by Different States - year 2022\"}},\"colorscale\":[[0.0,\"rgb(248,255,206)\"],[0.2,\"rgb(203,255,205)\"],[0.4,\"rgb(155,255,164)\"],[0.6,\"rgb(79,255,178)\"],[0.8,\"rgb(15,183,132)\"],[1,\"#008059\"]],\"locationmode\":\"USA-states\",\"locations\":[\"CA\",\"FL\",\"TX\",\"NY\",\"PA\",\"OH\",\"IL\",\"MI\",\"NC\",\"GA\",\"NJ\",\"VA\",\"WA\",\"TN\",\"AZ\",\"MA\",\"IN\",\"MO\",\"WI\",\"SC\",\"MD\",\"MN\",\"AL\",\"CO\",\"KY\",\"OR\",\"LA\",\"OK\",\"PR\",\"CT\",\"AR\",\"IA\",\"MS\",\"NV\",\"KS\",\"FO\",\"WV\",\"NM\",\"UT\",\"ID\",\"NE\",\"ME\",\"NH\",\"HI\",\"MT\",\"RI\",\"DE\",\"SD\",\"VT\",\"ND\",\"WY\",\"AK\",\"DC\",\"VI\",\"GU\",\"AS\",\"MP\"],\"marker\":{\"line\":{\"color\":\"rgb(255,255,255)\",\"width\":2}},\"text\":[\"CA\",\"FL\",\"TX\",\"NY\",\"PA\",\"OH\",\"IL\",\"MI\",\"NC\",\"GA\",\"NJ\",\"VA\",\"WA\",\"TN\",\"AZ\",\"MA\",\"IN\",\"MO\",\"WI\",\"SC\",\"MD\",\"MN\",\"AL\",\"CO\",\"KY\",\"OR\",\"LA\",\"OK\",\"PR\",\"CT\",\"AR\",\"IA\",\"MS\",\"NV\",\"KS\",\"FO\",\"WV\",\"NM\",\"UT\",\"ID\",\"NE\",\"ME\",\"NH\",\"HI\",\"MT\",\"RI\",\"DE\",\"SD\",\"VT\",\"ND\",\"WY\",\"AK\",\"DC\",\"VI\",\"GU\",\"AS\",\"MP\"],\"z\":[6554209,4882279,4461923,3722204,2823902,2423720,2300582,2146173,2110028,1835686,1669257,1594532,1445344,1420900,1418895,1385890,1313007,1275441,1241539,1157020,1086040,1081094,1079774,971923,957555,909317,900180,772113,759067,710090,658415,653597,619124,568320,562135,507554,444035,443568,434585,367893,364825,360760,321690,291875,247423,230322,227857,187201,156828,139003,119246,109320,93850,20327,18354,4838,2898],\"type\":\"choropleth\"}],                        {\"geo\":{\"lakecolor\":\"rgb(255, 255, 255)\",\"projection\":{\"type\":\"albers usa\"},\"scope\":\"usa\",\"showlakes\":true},\"template\":{\"data\":{\"barpolar\":[{\"marker\":{\"line\":{\"color\":\"#E5ECF6\",\"width\":0.5},\"pattern\":{\"fillmode\":\"overlay\",\"size\":10,\"solidity\":0.2}},\"type\":\"barpolar\"}],\"bar\":[{\"error_x\":{\"color\":\"#2a3f5f\"},\"error_y\":{\"color\":\"#2a3f5f\"},\"marker\":{\"line\":{\"color\":\"#E5ECF6\",\"width\":0.5},\"pattern\":{\"fillmode\":\"overlay\",\"size\":10,\"solidity\":0.2}},\"type\":\"bar\"}],\"carpet\":[{\"aaxis\":{\"endlinecolor\":\"#2a3f5f\",\"gridcolor\":\"white\",\"linecolor\":\"white\",\"minorgridcolor\":\"white\",\"startlinecolor\":\"#2a3f5f\"},\"baxis\":{\"endlinecolor\":\"#2a3f5f\",\"gridcolor\":\"white\",\"linecolor\":\"white\",\"minorgridcolor\":\"white\",\"startlinecolor\":\"#2a3f5f\"},\"type\":\"carpet\"}],\"choropleth\":[{\"colorbar\":{\"outlinewidth\":0,\"ticks\":\"\"},\"type\":\"choropleth\"}],\"contourcarpet\":[{\"colorbar\":{\"outlinewidth\":0,\"ticks\":\"\"},\"type\":\"contourcarpet\"}],\"contour\":[{\"colorbar\":{\"outlinewidth\":0,\"ticks\":\"\"},\"colorscale\":[[0.0,\"#0d0887\"],[0.1111111111111111,\"#46039f\"],[0.2222222222222222,\"#7201a8\"],[0.3333333333333333,\"#9c179e\"],[0.4444444444444444,\"#bd3786\"],[0.5555555555555556,\"#d8576b\"],[0.6666666666666666,\"#ed7953\"],[0.7777777777777778,\"#fb9f3a\"],[0.8888888888888888,\"#fdca26\"],[1.0,\"#f0f921\"]],\"type\":\"contour\"}],\"heatmapgl\":[{\"colorbar\":{\"outlinewidth\":0,\"ticks\":\"\"},\"colorscale\":[[0.0,\"#0d0887\"],[0.1111111111111111,\"#46039f\"],[0.2222222222222222,\"#7201a8\"],[0.3333333333333333,\"#9c179e\"],[0.4444444444444444,\"#bd3786\"],[0.5555555555555556,\"#d8576b\"],[0.6666666666666666,\"#ed7953\"],[0.7777777777777778,\"#fb9f3a\"],[0.8888888888888888,\"#fdca26\"],[1.0,\"#f0f921\"]],\"type\":\"heatmapgl\"}],\"heatmap\":[{\"colorbar\":{\"outlinewidth\":0,\"ticks\":\"\"},\"colorscale\":[[0.0,\"#0d0887\"],[0.1111111111111111,\"#46039f\"],[0.2222222222222222,\"#7201a8\"],[0.3333333333333333,\"#9c179e\"],[0.4444444444444444,\"#bd3786\"],[0.5555555555555556,\"#d8576b\"],[0.6666666666666666,\"#ed7953\"],[0.7777777777777778,\"#fb9f3a\"],[0.8888888888888888,\"#fdca26\"],[1.0,\"#f0f921\"]],\"type\":\"heatmap\"}],\"histogram2dcontour\":[{\"colorbar\":{\"outlinewidth\":0,\"ticks\":\"\"},\"colorscale\":[[0.0,\"#0d0887\"],[0.1111111111111111,\"#46039f\"],[0.2222222222222222,\"#7201a8\"],[0.3333333333333333,\"#9c179e\"],[0.4444444444444444,\"#bd3786\"],[0.5555555555555556,\"#d8576b\"],[0.6666666666666666,\"#ed7953\"],[0.7777777777777778,\"#fb9f3a\"],[0.8888888888888888,\"#fdca26\"],[1.0,\"#f0f921\"]],\"type\":\"histogram2dcontour\"}],\"histogram2d\":[{\"colorbar\":{\"outlinewidth\":0,\"ticks\":\"\"},\"colorscale\":[[0.0,\"#0d0887\"],[0.1111111111111111,\"#46039f\"],[0.2222222222222222,\"#7201a8\"],[0.3333333333333333,\"#9c179e\"],[0.4444444444444444,\"#bd3786\"],[0.5555555555555556,\"#d8576b\"],[0.6666666666666666,\"#ed7953\"],[0.7777777777777778,\"#fb9f3a\"],[0.8888888888888888,\"#fdca26\"],[1.0,\"#f0f921\"]],\"type\":\"histogram2d\"}],\"histogram\":[{\"marker\":{\"pattern\":{\"fillmode\":\"overlay\",\"size\":10,\"solidity\":0.2}},\"type\":\"histogram\"}],\"mesh3d\":[{\"colorbar\":{\"outlinewidth\":0,\"ticks\":\"\"},\"type\":\"mesh3d\"}],\"parcoords\":[{\"line\":{\"colorbar\":{\"outlinewidth\":0,\"ticks\":\"\"}},\"type\":\"parcoords\"}],\"pie\":[{\"automargin\":true,\"type\":\"pie\"}],\"scatter3d\":[{\"line\":{\"colorbar\":{\"outlinewidth\":0,\"ticks\":\"\"}},\"marker\":{\"colorbar\":{\"outlinewidth\":0,\"ticks\":\"\"}},\"type\":\"scatter3d\"}],\"scattercarpet\":[{\"marker\":{\"colorbar\":{\"outlinewidth\":0,\"ticks\":\"\"}},\"type\":\"scattercarpet\"}],\"scattergeo\":[{\"marker\":{\"colorbar\":{\"outlinewidth\":0,\"ticks\":\"\"}},\"type\":\"scattergeo\"}],\"scattergl\":[{\"marker\":{\"colorbar\":{\"outlinewidth\":0,\"ticks\":\"\"}},\"type\":\"scattergl\"}],\"scattermapbox\":[{\"marker\":{\"colorbar\":{\"outlinewidth\":0,\"ticks\":\"\"}},\"type\":\"scattermapbox\"}],\"scatterpolargl\":[{\"marker\":{\"colorbar\":{\"outlinewidth\":0,\"ticks\":\"\"}},\"type\":\"scatterpolargl\"}],\"scatterpolar\":[{\"marker\":{\"colorbar\":{\"outlinewidth\":0,\"ticks\":\"\"}},\"type\":\"scatterpolar\"}],\"scatter\":[{\"fillpattern\":{\"fillmode\":\"overlay\",\"size\":10,\"solidity\":0.2},\"type\":\"scatter\"}],\"scatterternary\":[{\"marker\":{\"colorbar\":{\"outlinewidth\":0,\"ticks\":\"\"}},\"type\":\"scatterternary\"}],\"surface\":[{\"colorbar\":{\"outlinewidth\":0,\"ticks\":\"\"},\"colorscale\":[[0.0,\"#0d0887\"],[0.1111111111111111,\"#46039f\"],[0.2222222222222222,\"#7201a8\"],[0.3333333333333333,\"#9c179e\"],[0.4444444444444444,\"#bd3786\"],[0.5555555555555556,\"#d8576b\"],[0.6666666666666666,\"#ed7953\"],[0.7777777777777778,\"#fb9f3a\"],[0.8888888888888888,\"#fdca26\"],[1.0,\"#f0f921\"]],\"type\":\"surface\"}],\"table\":[{\"cells\":{\"fill\":{\"color\":\"#EBF0F8\"},\"line\":{\"color\":\"white\"}},\"header\":{\"fill\":{\"color\":\"#C8D4E3\"},\"line\":{\"color\":\"white\"}},\"type\":\"table\"}]},\"layout\":{\"annotationdefaults\":{\"arrowcolor\":\"#2a3f5f\",\"arrowhead\":0,\"arrowwidth\":1},\"autotypenumbers\":\"strict\",\"coloraxis\":{\"colorbar\":{\"outlinewidth\":0,\"ticks\":\"\"}},\"colorscale\":{\"diverging\":[[0,\"#8e0152\"],[0.1,\"#c51b7d\"],[0.2,\"#de77ae\"],[0.3,\"#f1b6da\"],[0.4,\"#fde0ef\"],[0.5,\"#f7f7f7\"],[0.6,\"#e6f5d0\"],[0.7,\"#b8e186\"],[0.8,\"#7fbc41\"],[0.9,\"#4d9221\"],[1,\"#276419\"]],\"sequential\":[[0.0,\"#0d0887\"],[0.1111111111111111,\"#46039f\"],[0.2222222222222222,\"#7201a8\"],[0.3333333333333333,\"#9c179e\"],[0.4444444444444444,\"#bd3786\"],[0.5555555555555556,\"#d8576b\"],[0.6666666666666666,\"#ed7953\"],[0.7777777777777778,\"#fb9f3a\"],[0.8888888888888888,\"#fdca26\"],[1.0,\"#f0f921\"]],\"sequentialminus\":[[0.0,\"#0d0887\"],[0.1111111111111111,\"#46039f\"],[0.2222222222222222,\"#7201a8\"],[0.3333333333333333,\"#9c179e\"],[0.4444444444444444,\"#bd3786\"],[0.5555555555555556,\"#d8576b\"],[0.6666666666666666,\"#ed7953\"],[0.7777777777777778,\"#fb9f3a\"],[0.8888888888888888,\"#fdca26\"],[1.0,\"#f0f921\"]]},\"colorway\":[\"#636efa\",\"#EF553B\",\"#00cc96\",\"#ab63fa\",\"#FFA15A\",\"#19d3f3\",\"#FF6692\",\"#B6E880\",\"#FF97FF\",\"#FECB52\"],\"font\":{\"color\":\"#2a3f5f\"},\"geo\":{\"bgcolor\":\"white\",\"lakecolor\":\"white\",\"landcolor\":\"#E5ECF6\",\"showlakes\":true,\"showland\":true,\"subunitcolor\":\"white\"},\"hoverlabel\":{\"align\":\"left\"},\"hovermode\":\"closest\",\"mapbox\":{\"style\":\"light\"},\"paper_bgcolor\":\"white\",\"plot_bgcolor\":\"#E5ECF6\",\"polar\":{\"angularaxis\":{\"gridcolor\":\"white\",\"linecolor\":\"white\",\"ticks\":\"\"},\"bgcolor\":\"#E5ECF6\",\"radialaxis\":{\"gridcolor\":\"white\",\"linecolor\":\"white\",\"ticks\":\"\"}},\"scene\":{\"xaxis\":{\"backgroundcolor\":\"#E5ECF6\",\"gridcolor\":\"white\",\"gridwidth\":2,\"linecolor\":\"white\",\"showbackground\":true,\"ticks\":\"\",\"zerolinecolor\":\"white\"},\"yaxis\":{\"backgroundcolor\":\"#E5ECF6\",\"gridcolor\":\"white\",\"gridwidth\":2,\"linecolor\":\"white\",\"showbackground\":true,\"ticks\":\"\",\"zerolinecolor\":\"white\"},\"zaxis\":{\"backgroundcolor\":\"#E5ECF6\",\"gridcolor\":\"white\",\"gridwidth\":2,\"linecolor\":\"white\",\"showbackground\":true,\"ticks\":\"\",\"zerolinecolor\":\"white\"}},\"shapedefaults\":{\"line\":{\"color\":\"#2a3f5f\"}},\"ternary\":{\"aaxis\":{\"gridcolor\":\"white\",\"linecolor\":\"white\",\"ticks\":\"\"},\"baxis\":{\"gridcolor\":\"white\",\"linecolor\":\"white\",\"ticks\":\"\"},\"bgcolor\":\"#E5ECF6\",\"caxis\":{\"gridcolor\":\"white\",\"linecolor\":\"white\",\"ticks\":\"\"}},\"title\":{\"x\":0.05},\"xaxis\":{\"automargin\":true,\"gridcolor\":\"white\",\"linecolor\":\"white\",\"ticks\":\"\",\"title\":{\"standoff\":15},\"zerolinecolor\":\"white\",\"zerolinewidth\":2},\"yaxis\":{\"automargin\":true,\"gridcolor\":\"white\",\"linecolor\":\"white\",\"ticks\":\"\",\"title\":{\"standoff\":15},\"zerolinecolor\":\"white\",\"zerolinewidth\":2}}},\"title\":{\"text\":\"Total Beneficiaries by Different States\"}},                        {\"responsive\": true}                    ).then(function(){\n",
       "                            \n",
       "var gd = document.getElementById('fd431f48-56db-41a2-8eee-c6201ae243f7');\n",
       "var x = new MutationObserver(function (mutations, observer) {{\n",
       "        var display = window.getComputedStyle(gd).display;\n",
       "        if (!display || display === 'none') {{\n",
       "            console.log([gd, 'removed!']);\n",
       "            Plotly.purge(gd);\n",
       "            observer.disconnect();\n",
       "        }}\n",
       "}});\n",
       "\n",
       "// Listen for the removal of the full notebook cells\n",
       "var notebookContainer = gd.closest('#notebook-container');\n",
       "if (notebookContainer) {{\n",
       "    x.observe(notebookContainer, {childList: true});\n",
       "}}\n",
       "\n",
       "// Listen for the clearing of the current output cell\n",
       "var outputEl = gd.closest('.output');\n",
       "if (outputEl) {{\n",
       "    x.observe(outputEl, {childList: true});\n",
       "}}\n",
       "\n",
       "                        })                };                });            </script>        </div>"
      ]
     },
     "metadata": {},
     "output_type": "display_data"
    }
   ],
   "source": [
    "scl = [[0.0, 'rgb(248,255,206)'],[0.2, 'rgb(203,255,205)'],[0.4, 'rgb(155,255,164)'], [0.6, 'rgb(79,255,178)'],[0.8, 'rgb(15,183,132)'], [1, '#008059']]\n",
    "data = [ dict(\n",
    "        type='choropleth',\n",
    "        colorscale = scl,\n",
    "        autocolorscale = False,\n",
    "        locations = data_flt.state,\n",
    "        z = data_flt.tot_benes,\n",
    "        locationmode = 'USA-states',\n",
    "        text = data_flt.state,\n",
    "        marker = dict(\n",
    "            line = dict (\n",
    "                color = 'rgb(255,255,255)',\n",
    "                width = 2\n",
    "            ) ),\n",
    "        colorbar = dict(\n",
    "            title = \"Total Beneficiaries by Different States - year 2022\")\n",
    "        )\n",
    "       ]\n",
    "\n",
    "layout = dict(\n",
    "        title = 'Total Beneficiaries by Different States',\n",
    "        geo = dict(\n",
    "            scope='usa',\n",
    "            projection=dict( type='albers usa' ),\n",
    "            showlakes = True,\n",
    "            lakecolor = 'rgb(255, 255, 255)'),\n",
    "             )\n",
    "    \n",
    "fig = dict( data=data, layout=layout )\n",
    "iplot( fig, filename='d3-cloropleth-map' )"
   ]
  },
  {
   "cell_type": "code",
   "execution_count": 27,
   "id": "531369ea",
   "metadata": {
    "execution": {
     "iopub.execute_input": "2024-10-11T03:45:38.360607Z",
     "iopub.status.busy": "2024-10-11T03:45:38.360176Z",
     "iopub.status.idle": "2024-10-11T03:45:38.823544Z",
     "shell.execute_reply": "2024-10-11T03:45:38.822444Z"
    },
    "papermill": {
     "duration": 0.495193,
     "end_time": "2024-10-11T03:45:38.826270",
     "exception": false,
     "start_time": "2024-10-11T03:45:38.331077",
     "status": "completed"
    },
    "tags": []
   },
   "outputs": [
    {
     "data": {
      "text/html": [
       "<div>\n",
       "<style scoped>\n",
       "    .dataframe tbody tr th:only-of-type {\n",
       "        vertical-align: middle;\n",
       "    }\n",
       "\n",
       "    .dataframe tbody tr th {\n",
       "        vertical-align: top;\n",
       "    }\n",
       "\n",
       "    .dataframe thead th {\n",
       "        text-align: right;\n",
       "    }\n",
       "</style>\n",
       "<table border=\"1\" class=\"dataframe\">\n",
       "  <thead>\n",
       "    <tr style=\"text-align: right;\">\n",
       "      <th></th>\n",
       "      <th>tot_benes</th>\n",
       "      <th>state</th>\n",
       "      <th>rn</th>\n",
       "    </tr>\n",
       "  </thead>\n",
       "  <tbody>\n",
       "    <tr>\n",
       "      <th>0</th>\n",
       "      <td>6433915</td>\n",
       "      <td>CA</td>\n",
       "      <td>1</td>\n",
       "    </tr>\n",
       "    <tr>\n",
       "      <th>1</th>\n",
       "      <td>4772844</td>\n",
       "      <td>FL</td>\n",
       "      <td>1</td>\n",
       "    </tr>\n",
       "    <tr>\n",
       "      <th>2</th>\n",
       "      <td>4350777</td>\n",
       "      <td>TX</td>\n",
       "      <td>1</td>\n",
       "    </tr>\n",
       "    <tr>\n",
       "      <th>3</th>\n",
       "      <td>3674284</td>\n",
       "      <td>NY</td>\n",
       "      <td>1</td>\n",
       "    </tr>\n",
       "    <tr>\n",
       "      <th>4</th>\n",
       "      <td>2786542</td>\n",
       "      <td>PA</td>\n",
       "      <td>1</td>\n",
       "    </tr>\n",
       "    <tr>\n",
       "      <th>5</th>\n",
       "      <td>2392516</td>\n",
       "      <td>OH</td>\n",
       "      <td>1</td>\n",
       "    </tr>\n",
       "    <tr>\n",
       "      <th>6</th>\n",
       "      <td>2268637</td>\n",
       "      <td>IL</td>\n",
       "      <td>1</td>\n",
       "    </tr>\n",
       "    <tr>\n",
       "      <th>7</th>\n",
       "      <td>2114000</td>\n",
       "      <td>MI</td>\n",
       "      <td>1</td>\n",
       "    </tr>\n",
       "    <tr>\n",
       "      <th>8</th>\n",
       "      <td>2064843</td>\n",
       "      <td>NC</td>\n",
       "      <td>1</td>\n",
       "    </tr>\n",
       "    <tr>\n",
       "      <th>9</th>\n",
       "      <td>1796348</td>\n",
       "      <td>GA</td>\n",
       "      <td>1</td>\n",
       "    </tr>\n",
       "    <tr>\n",
       "      <th>10</th>\n",
       "      <td>1641892</td>\n",
       "      <td>NJ</td>\n",
       "      <td>1</td>\n",
       "    </tr>\n",
       "    <tr>\n",
       "      <th>11</th>\n",
       "      <td>1563130</td>\n",
       "      <td>VA</td>\n",
       "      <td>1</td>\n",
       "    </tr>\n",
       "    <tr>\n",
       "      <th>12</th>\n",
       "      <td>1416479</td>\n",
       "      <td>WA</td>\n",
       "      <td>1</td>\n",
       "    </tr>\n",
       "    <tr>\n",
       "      <th>13</th>\n",
       "      <td>1399493</td>\n",
       "      <td>TN</td>\n",
       "      <td>1</td>\n",
       "    </tr>\n",
       "    <tr>\n",
       "      <th>14</th>\n",
       "      <td>1390233</td>\n",
       "      <td>AZ</td>\n",
       "      <td>1</td>\n",
       "    </tr>\n",
       "    <tr>\n",
       "      <th>15</th>\n",
       "      <td>1361511</td>\n",
       "      <td>MA</td>\n",
       "      <td>1</td>\n",
       "    </tr>\n",
       "    <tr>\n",
       "      <th>16</th>\n",
       "      <td>1293038</td>\n",
       "      <td>IN</td>\n",
       "      <td>1</td>\n",
       "    </tr>\n",
       "    <tr>\n",
       "      <th>17</th>\n",
       "      <td>1256352</td>\n",
       "      <td>MO</td>\n",
       "      <td>1</td>\n",
       "    </tr>\n",
       "    <tr>\n",
       "      <th>18</th>\n",
       "      <td>1212592</td>\n",
       "      <td>WI</td>\n",
       "      <td>1</td>\n",
       "    </tr>\n",
       "    <tr>\n",
       "      <th>19</th>\n",
       "      <td>1127050</td>\n",
       "      <td>SC</td>\n",
       "      <td>1</td>\n",
       "    </tr>\n",
       "    <tr>\n",
       "      <th>20</th>\n",
       "      <td>1067162</td>\n",
       "      <td>AL</td>\n",
       "      <td>1</td>\n",
       "    </tr>\n",
       "    <tr>\n",
       "      <th>21</th>\n",
       "      <td>1065283</td>\n",
       "      <td>MD</td>\n",
       "      <td>1</td>\n",
       "    </tr>\n",
       "    <tr>\n",
       "      <th>22</th>\n",
       "      <td>1056411</td>\n",
       "      <td>MN</td>\n",
       "      <td>1</td>\n",
       "    </tr>\n",
       "    <tr>\n",
       "      <th>23</th>\n",
       "      <td>949390</td>\n",
       "      <td>CO</td>\n",
       "      <td>1</td>\n",
       "    </tr>\n",
       "    <tr>\n",
       "      <th>24</th>\n",
       "      <td>948991</td>\n",
       "      <td>KY</td>\n",
       "      <td>1</td>\n",
       "    </tr>\n",
       "    <tr>\n",
       "      <th>25</th>\n",
       "      <td>894838</td>\n",
       "      <td>OR</td>\n",
       "      <td>1</td>\n",
       "    </tr>\n",
       "    <tr>\n",
       "      <th>26</th>\n",
       "      <td>889016</td>\n",
       "      <td>LA</td>\n",
       "      <td>1</td>\n",
       "    </tr>\n",
       "    <tr>\n",
       "      <th>27</th>\n",
       "      <td>760259</td>\n",
       "      <td>OK</td>\n",
       "      <td>1</td>\n",
       "    </tr>\n",
       "    <tr>\n",
       "      <th>28</th>\n",
       "      <td>752659</td>\n",
       "      <td>PR</td>\n",
       "      <td>1</td>\n",
       "    </tr>\n",
       "    <tr>\n",
       "      <th>29</th>\n",
       "      <td>695648</td>\n",
       "      <td>CT</td>\n",
       "      <td>1</td>\n",
       "    </tr>\n",
       "  </tbody>\n",
       "</table>\n",
       "</div>"
      ],
      "text/plain": [
       "    tot_benes state  rn\n",
       "0     6433915    CA   1\n",
       "1     4772844    FL   1\n",
       "2     4350777    TX   1\n",
       "3     3674284    NY   1\n",
       "4     2786542    PA   1\n",
       "5     2392516    OH   1\n",
       "6     2268637    IL   1\n",
       "7     2114000    MI   1\n",
       "8     2064843    NC   1\n",
       "9     1796348    GA   1\n",
       "10    1641892    NJ   1\n",
       "11    1563130    VA   1\n",
       "12    1416479    WA   1\n",
       "13    1399493    TN   1\n",
       "14    1390233    AZ   1\n",
       "15    1361511    MA   1\n",
       "16    1293038    IN   1\n",
       "17    1256352    MO   1\n",
       "18    1212592    WI   1\n",
       "19    1127050    SC   1\n",
       "20    1067162    AL   1\n",
       "21    1065283    MD   1\n",
       "22    1056411    MN   1\n",
       "23     949390    CO   1\n",
       "24     948991    KY   1\n",
       "25     894838    OR   1\n",
       "26     889016    LA   1\n",
       "27     760259    OK   1\n",
       "28     752659    PR   1\n",
       "29     695648    CT   1"
      ]
     },
     "execution_count": 27,
     "metadata": {},
     "output_type": "execute_result"
    }
   ],
   "source": [
    "data = data_original\n",
    "data = data[(data['TOT_BENES'] != 0) & (data['AGED_TOT_BENES'] != 0) & (data['DSBLD_TOT_BENES'] != 0) & (data['PRSCRPTN_DRUG_TOT_BENES'] != 0)]\n",
    "options = [2021]\n",
    "data= pd.DataFrame(data,columns = ['YEAR','BENE_GEO_LVL','BENE_STATE_ABRVTN','BENE_COUNTY_DESC', 'TOT_BENES','AGED_TOT_BENES', 'DSBLD_TOT_BENES','PRSCRPTN_DRUG_TOT_BENES']) \n",
    "data_flt = data[(data['YEAR'].isin(options))]\n",
    "data_flt = data_flt[(data_flt['BENE_COUNTY_DESC'] == 'Total')]\n",
    "data_flt= data_flt[(data_flt['BENE_GEO_LVL'] == 'State')]\n",
    "q1 = \"\"\" select tot_benes , BENE_STATE_ABRVTN from data_flt group by BENE_STATE_ABRVTN order by BENE_STATE_ABRVTN, year desc  \"\"\"\n",
    "data_flt = ps.sqldf(\"select tot_benes, state,rn from (select tot_benes , BENE_STATE_ABRVTN as state, RANK() OVER(partition by BENE_STATE_ABRVTN order by tot_benes ) as rn from data_flt order by tot_benes desc, rn) as temp where rn = 1  \")\n",
    "#print(ps.sqldf(q1, locals()))\n",
    "data_flt.head(30)"
   ]
  },
  {
   "cell_type": "code",
   "execution_count": 28,
   "id": "5c50b562",
   "metadata": {
    "execution": {
     "iopub.execute_input": "2024-10-11T03:45:38.885177Z",
     "iopub.status.busy": "2024-10-11T03:45:38.884381Z",
     "iopub.status.idle": "2024-10-11T03:45:38.943672Z",
     "shell.execute_reply": "2024-10-11T03:45:38.942521Z"
    },
    "papermill": {
     "duration": 0.092177,
     "end_time": "2024-10-11T03:45:38.946960",
     "exception": false,
     "start_time": "2024-10-11T03:45:38.854783",
     "status": "completed"
    },
    "tags": []
   },
   "outputs": [
    {
     "data": {
      "application/vnd.plotly.v1+json": {
       "config": {
        "linkText": "Export to plot.ly",
        "plotlyServerURL": "https://plot.ly",
        "showLink": false
       },
       "data": [
        {
         "autocolorscale": false,
         "colorbar": {
          "title": {
           "text": "Total Beneficiaries by Different States - year 2021"
          }
         },
         "colorscale": [
          [
           0.0,
           "rgb(248,255,206)"
          ],
          [
           0.2,
           "rgb(203,255,205)"
          ],
          [
           0.4,
           "rgb(155,255,164)"
          ],
          [
           0.6,
           "rgb(79,255,178)"
          ],
          [
           0.8,
           "rgb(15,183,132)"
          ],
          [
           1,
           "#008059"
          ]
         ],
         "locationmode": "USA-states",
         "locations": [
          "CA",
          "FL",
          "TX",
          "NY",
          "PA",
          "OH",
          "IL",
          "MI",
          "NC",
          "GA",
          "NJ",
          "VA",
          "WA",
          "TN",
          "AZ",
          "MA",
          "IN",
          "MO",
          "WI",
          "SC",
          "AL",
          "MD",
          "MN",
          "CO",
          "KY",
          "OR",
          "LA",
          "OK",
          "PR",
          "CT",
          "AR",
          "IA",
          "MS",
          "NV",
          "KS",
          "FO",
          "WV",
          "NM",
          "UT",
          "ID",
          "NE",
          "ME",
          "NH",
          "HI",
          "MT",
          "RI",
          "DE",
          "SD",
          "VT",
          "ND",
          "WY",
          "AK",
          "DC",
          "VI",
          "GU",
          "AS",
          "AS",
          "MP"
         ],
         "marker": {
          "line": {
           "color": "rgb(255,255,255)",
           "width": 2
          }
         },
         "text": [
          "CA",
          "FL",
          "TX",
          "NY",
          "PA",
          "OH",
          "IL",
          "MI",
          "NC",
          "GA",
          "NJ",
          "VA",
          "WA",
          "TN",
          "AZ",
          "MA",
          "IN",
          "MO",
          "WI",
          "SC",
          "AL",
          "MD",
          "MN",
          "CO",
          "KY",
          "OR",
          "LA",
          "OK",
          "PR",
          "CT",
          "AR",
          "IA",
          "MS",
          "NV",
          "KS",
          "FO",
          "WV",
          "NM",
          "UT",
          "ID",
          "NE",
          "ME",
          "NH",
          "HI",
          "MT",
          "RI",
          "DE",
          "SD",
          "VT",
          "ND",
          "WY",
          "AK",
          "DC",
          "VI",
          "GU",
          "AS",
          "AS",
          "MP"
         ],
         "type": "choropleth",
         "z": [
          6433915,
          4772844,
          4350777,
          3674284,
          2786542,
          2392516,
          2268637,
          2114000,
          2064843,
          1796348,
          1641892,
          1563130,
          1416479,
          1399493,
          1390233,
          1361511,
          1293038,
          1256352,
          1212592,
          1127050,
          1067162,
          1065283,
          1056411,
          949390,
          948991,
          894838,
          889016,
          760259,
          752659,
          695648,
          651227,
          641662,
          612261,
          557457,
          551628,
          499849,
          443428,
          436111,
          422578,
          357847,
          357053,
          353335,
          312737,
          285113,
          241511,
          226233,
          220925,
          182567,
          153462,
          135501,
          115923,
          106154,
          93563,
          20145,
          17924,
          4731,
          4731,
          2733
         ]
        }
       ],
       "layout": {
        "geo": {
         "lakecolor": "rgb(255, 255, 255)",
         "projection": {
          "type": "albers usa"
         },
         "scope": "usa",
         "showlakes": true
        },
        "template": {
         "data": {
          "bar": [
           {
            "error_x": {
             "color": "#2a3f5f"
            },
            "error_y": {
             "color": "#2a3f5f"
            },
            "marker": {
             "line": {
              "color": "#E5ECF6",
              "width": 0.5
             },
             "pattern": {
              "fillmode": "overlay",
              "size": 10,
              "solidity": 0.2
             }
            },
            "type": "bar"
           }
          ],
          "barpolar": [
           {
            "marker": {
             "line": {
              "color": "#E5ECF6",
              "width": 0.5
             },
             "pattern": {
              "fillmode": "overlay",
              "size": 10,
              "solidity": 0.2
             }
            },
            "type": "barpolar"
           }
          ],
          "carpet": [
           {
            "aaxis": {
             "endlinecolor": "#2a3f5f",
             "gridcolor": "white",
             "linecolor": "white",
             "minorgridcolor": "white",
             "startlinecolor": "#2a3f5f"
            },
            "baxis": {
             "endlinecolor": "#2a3f5f",
             "gridcolor": "white",
             "linecolor": "white",
             "minorgridcolor": "white",
             "startlinecolor": "#2a3f5f"
            },
            "type": "carpet"
           }
          ],
          "choropleth": [
           {
            "colorbar": {
             "outlinewidth": 0,
             "ticks": ""
            },
            "type": "choropleth"
           }
          ],
          "contour": [
           {
            "colorbar": {
             "outlinewidth": 0,
             "ticks": ""
            },
            "colorscale": [
             [
              0.0,
              "#0d0887"
             ],
             [
              0.1111111111111111,
              "#46039f"
             ],
             [
              0.2222222222222222,
              "#7201a8"
             ],
             [
              0.3333333333333333,
              "#9c179e"
             ],
             [
              0.4444444444444444,
              "#bd3786"
             ],
             [
              0.5555555555555556,
              "#d8576b"
             ],
             [
              0.6666666666666666,
              "#ed7953"
             ],
             [
              0.7777777777777778,
              "#fb9f3a"
             ],
             [
              0.8888888888888888,
              "#fdca26"
             ],
             [
              1.0,
              "#f0f921"
             ]
            ],
            "type": "contour"
           }
          ],
          "contourcarpet": [
           {
            "colorbar": {
             "outlinewidth": 0,
             "ticks": ""
            },
            "type": "contourcarpet"
           }
          ],
          "heatmap": [
           {
            "colorbar": {
             "outlinewidth": 0,
             "ticks": ""
            },
            "colorscale": [
             [
              0.0,
              "#0d0887"
             ],
             [
              0.1111111111111111,
              "#46039f"
             ],
             [
              0.2222222222222222,
              "#7201a8"
             ],
             [
              0.3333333333333333,
              "#9c179e"
             ],
             [
              0.4444444444444444,
              "#bd3786"
             ],
             [
              0.5555555555555556,
              "#d8576b"
             ],
             [
              0.6666666666666666,
              "#ed7953"
             ],
             [
              0.7777777777777778,
              "#fb9f3a"
             ],
             [
              0.8888888888888888,
              "#fdca26"
             ],
             [
              1.0,
              "#f0f921"
             ]
            ],
            "type": "heatmap"
           }
          ],
          "heatmapgl": [
           {
            "colorbar": {
             "outlinewidth": 0,
             "ticks": ""
            },
            "colorscale": [
             [
              0.0,
              "#0d0887"
             ],
             [
              0.1111111111111111,
              "#46039f"
             ],
             [
              0.2222222222222222,
              "#7201a8"
             ],
             [
              0.3333333333333333,
              "#9c179e"
             ],
             [
              0.4444444444444444,
              "#bd3786"
             ],
             [
              0.5555555555555556,
              "#d8576b"
             ],
             [
              0.6666666666666666,
              "#ed7953"
             ],
             [
              0.7777777777777778,
              "#fb9f3a"
             ],
             [
              0.8888888888888888,
              "#fdca26"
             ],
             [
              1.0,
              "#f0f921"
             ]
            ],
            "type": "heatmapgl"
           }
          ],
          "histogram": [
           {
            "marker": {
             "pattern": {
              "fillmode": "overlay",
              "size": 10,
              "solidity": 0.2
             }
            },
            "type": "histogram"
           }
          ],
          "histogram2d": [
           {
            "colorbar": {
             "outlinewidth": 0,
             "ticks": ""
            },
            "colorscale": [
             [
              0.0,
              "#0d0887"
             ],
             [
              0.1111111111111111,
              "#46039f"
             ],
             [
              0.2222222222222222,
              "#7201a8"
             ],
             [
              0.3333333333333333,
              "#9c179e"
             ],
             [
              0.4444444444444444,
              "#bd3786"
             ],
             [
              0.5555555555555556,
              "#d8576b"
             ],
             [
              0.6666666666666666,
              "#ed7953"
             ],
             [
              0.7777777777777778,
              "#fb9f3a"
             ],
             [
              0.8888888888888888,
              "#fdca26"
             ],
             [
              1.0,
              "#f0f921"
             ]
            ],
            "type": "histogram2d"
           }
          ],
          "histogram2dcontour": [
           {
            "colorbar": {
             "outlinewidth": 0,
             "ticks": ""
            },
            "colorscale": [
             [
              0.0,
              "#0d0887"
             ],
             [
              0.1111111111111111,
              "#46039f"
             ],
             [
              0.2222222222222222,
              "#7201a8"
             ],
             [
              0.3333333333333333,
              "#9c179e"
             ],
             [
              0.4444444444444444,
              "#bd3786"
             ],
             [
              0.5555555555555556,
              "#d8576b"
             ],
             [
              0.6666666666666666,
              "#ed7953"
             ],
             [
              0.7777777777777778,
              "#fb9f3a"
             ],
             [
              0.8888888888888888,
              "#fdca26"
             ],
             [
              1.0,
              "#f0f921"
             ]
            ],
            "type": "histogram2dcontour"
           }
          ],
          "mesh3d": [
           {
            "colorbar": {
             "outlinewidth": 0,
             "ticks": ""
            },
            "type": "mesh3d"
           }
          ],
          "parcoords": [
           {
            "line": {
             "colorbar": {
              "outlinewidth": 0,
              "ticks": ""
             }
            },
            "type": "parcoords"
           }
          ],
          "pie": [
           {
            "automargin": true,
            "type": "pie"
           }
          ],
          "scatter": [
           {
            "fillpattern": {
             "fillmode": "overlay",
             "size": 10,
             "solidity": 0.2
            },
            "type": "scatter"
           }
          ],
          "scatter3d": [
           {
            "line": {
             "colorbar": {
              "outlinewidth": 0,
              "ticks": ""
             }
            },
            "marker": {
             "colorbar": {
              "outlinewidth": 0,
              "ticks": ""
             }
            },
            "type": "scatter3d"
           }
          ],
          "scattercarpet": [
           {
            "marker": {
             "colorbar": {
              "outlinewidth": 0,
              "ticks": ""
             }
            },
            "type": "scattercarpet"
           }
          ],
          "scattergeo": [
           {
            "marker": {
             "colorbar": {
              "outlinewidth": 0,
              "ticks": ""
             }
            },
            "type": "scattergeo"
           }
          ],
          "scattergl": [
           {
            "marker": {
             "colorbar": {
              "outlinewidth": 0,
              "ticks": ""
             }
            },
            "type": "scattergl"
           }
          ],
          "scattermapbox": [
           {
            "marker": {
             "colorbar": {
              "outlinewidth": 0,
              "ticks": ""
             }
            },
            "type": "scattermapbox"
           }
          ],
          "scatterpolar": [
           {
            "marker": {
             "colorbar": {
              "outlinewidth": 0,
              "ticks": ""
             }
            },
            "type": "scatterpolar"
           }
          ],
          "scatterpolargl": [
           {
            "marker": {
             "colorbar": {
              "outlinewidth": 0,
              "ticks": ""
             }
            },
            "type": "scatterpolargl"
           }
          ],
          "scatterternary": [
           {
            "marker": {
             "colorbar": {
              "outlinewidth": 0,
              "ticks": ""
             }
            },
            "type": "scatterternary"
           }
          ],
          "surface": [
           {
            "colorbar": {
             "outlinewidth": 0,
             "ticks": ""
            },
            "colorscale": [
             [
              0.0,
              "#0d0887"
             ],
             [
              0.1111111111111111,
              "#46039f"
             ],
             [
              0.2222222222222222,
              "#7201a8"
             ],
             [
              0.3333333333333333,
              "#9c179e"
             ],
             [
              0.4444444444444444,
              "#bd3786"
             ],
             [
              0.5555555555555556,
              "#d8576b"
             ],
             [
              0.6666666666666666,
              "#ed7953"
             ],
             [
              0.7777777777777778,
              "#fb9f3a"
             ],
             [
              0.8888888888888888,
              "#fdca26"
             ],
             [
              1.0,
              "#f0f921"
             ]
            ],
            "type": "surface"
           }
          ],
          "table": [
           {
            "cells": {
             "fill": {
              "color": "#EBF0F8"
             },
             "line": {
              "color": "white"
             }
            },
            "header": {
             "fill": {
              "color": "#C8D4E3"
             },
             "line": {
              "color": "white"
             }
            },
            "type": "table"
           }
          ]
         },
         "layout": {
          "annotationdefaults": {
           "arrowcolor": "#2a3f5f",
           "arrowhead": 0,
           "arrowwidth": 1
          },
          "autotypenumbers": "strict",
          "coloraxis": {
           "colorbar": {
            "outlinewidth": 0,
            "ticks": ""
           }
          },
          "colorscale": {
           "diverging": [
            [
             0,
             "#8e0152"
            ],
            [
             0.1,
             "#c51b7d"
            ],
            [
             0.2,
             "#de77ae"
            ],
            [
             0.3,
             "#f1b6da"
            ],
            [
             0.4,
             "#fde0ef"
            ],
            [
             0.5,
             "#f7f7f7"
            ],
            [
             0.6,
             "#e6f5d0"
            ],
            [
             0.7,
             "#b8e186"
            ],
            [
             0.8,
             "#7fbc41"
            ],
            [
             0.9,
             "#4d9221"
            ],
            [
             1,
             "#276419"
            ]
           ],
           "sequential": [
            [
             0.0,
             "#0d0887"
            ],
            [
             0.1111111111111111,
             "#46039f"
            ],
            [
             0.2222222222222222,
             "#7201a8"
            ],
            [
             0.3333333333333333,
             "#9c179e"
            ],
            [
             0.4444444444444444,
             "#bd3786"
            ],
            [
             0.5555555555555556,
             "#d8576b"
            ],
            [
             0.6666666666666666,
             "#ed7953"
            ],
            [
             0.7777777777777778,
             "#fb9f3a"
            ],
            [
             0.8888888888888888,
             "#fdca26"
            ],
            [
             1.0,
             "#f0f921"
            ]
           ],
           "sequentialminus": [
            [
             0.0,
             "#0d0887"
            ],
            [
             0.1111111111111111,
             "#46039f"
            ],
            [
             0.2222222222222222,
             "#7201a8"
            ],
            [
             0.3333333333333333,
             "#9c179e"
            ],
            [
             0.4444444444444444,
             "#bd3786"
            ],
            [
             0.5555555555555556,
             "#d8576b"
            ],
            [
             0.6666666666666666,
             "#ed7953"
            ],
            [
             0.7777777777777778,
             "#fb9f3a"
            ],
            [
             0.8888888888888888,
             "#fdca26"
            ],
            [
             1.0,
             "#f0f921"
            ]
           ]
          },
          "colorway": [
           "#636efa",
           "#EF553B",
           "#00cc96",
           "#ab63fa",
           "#FFA15A",
           "#19d3f3",
           "#FF6692",
           "#B6E880",
           "#FF97FF",
           "#FECB52"
          ],
          "font": {
           "color": "#2a3f5f"
          },
          "geo": {
           "bgcolor": "white",
           "lakecolor": "white",
           "landcolor": "#E5ECF6",
           "showlakes": true,
           "showland": true,
           "subunitcolor": "white"
          },
          "hoverlabel": {
           "align": "left"
          },
          "hovermode": "closest",
          "mapbox": {
           "style": "light"
          },
          "paper_bgcolor": "white",
          "plot_bgcolor": "#E5ECF6",
          "polar": {
           "angularaxis": {
            "gridcolor": "white",
            "linecolor": "white",
            "ticks": ""
           },
           "bgcolor": "#E5ECF6",
           "radialaxis": {
            "gridcolor": "white",
            "linecolor": "white",
            "ticks": ""
           }
          },
          "scene": {
           "xaxis": {
            "backgroundcolor": "#E5ECF6",
            "gridcolor": "white",
            "gridwidth": 2,
            "linecolor": "white",
            "showbackground": true,
            "ticks": "",
            "zerolinecolor": "white"
           },
           "yaxis": {
            "backgroundcolor": "#E5ECF6",
            "gridcolor": "white",
            "gridwidth": 2,
            "linecolor": "white",
            "showbackground": true,
            "ticks": "",
            "zerolinecolor": "white"
           },
           "zaxis": {
            "backgroundcolor": "#E5ECF6",
            "gridcolor": "white",
            "gridwidth": 2,
            "linecolor": "white",
            "showbackground": true,
            "ticks": "",
            "zerolinecolor": "white"
           }
          },
          "shapedefaults": {
           "line": {
            "color": "#2a3f5f"
           }
          },
          "ternary": {
           "aaxis": {
            "gridcolor": "white",
            "linecolor": "white",
            "ticks": ""
           },
           "baxis": {
            "gridcolor": "white",
            "linecolor": "white",
            "ticks": ""
           },
           "bgcolor": "#E5ECF6",
           "caxis": {
            "gridcolor": "white",
            "linecolor": "white",
            "ticks": ""
           }
          },
          "title": {
           "x": 0.05
          },
          "xaxis": {
           "automargin": true,
           "gridcolor": "white",
           "linecolor": "white",
           "ticks": "",
           "title": {
            "standoff": 15
           },
           "zerolinecolor": "white",
           "zerolinewidth": 2
          },
          "yaxis": {
           "automargin": true,
           "gridcolor": "white",
           "linecolor": "white",
           "ticks": "",
           "title": {
            "standoff": 15
           },
           "zerolinecolor": "white",
           "zerolinewidth": 2
          }
         }
        },
        "title": {
         "text": "Total Beneficiaries by Different States"
        }
       }
      },
      "text/html": [
       "<div>                            <div id=\"0355f88b-ad4d-4ad7-81a2-420c3083e4f2\" class=\"plotly-graph-div\" style=\"height:525px; width:100%;\"></div>            <script type=\"text/javascript\">                require([\"plotly\"], function(Plotly) {                    window.PLOTLYENV=window.PLOTLYENV || {};                                    if (document.getElementById(\"0355f88b-ad4d-4ad7-81a2-420c3083e4f2\")) {                    Plotly.newPlot(                        \"0355f88b-ad4d-4ad7-81a2-420c3083e4f2\",                        [{\"autocolorscale\":false,\"colorbar\":{\"title\":{\"text\":\"Total Beneficiaries by Different States - year 2021\"}},\"colorscale\":[[0.0,\"rgb(248,255,206)\"],[0.2,\"rgb(203,255,205)\"],[0.4,\"rgb(155,255,164)\"],[0.6,\"rgb(79,255,178)\"],[0.8,\"rgb(15,183,132)\"],[1,\"#008059\"]],\"locationmode\":\"USA-states\",\"locations\":[\"CA\",\"FL\",\"TX\",\"NY\",\"PA\",\"OH\",\"IL\",\"MI\",\"NC\",\"GA\",\"NJ\",\"VA\",\"WA\",\"TN\",\"AZ\",\"MA\",\"IN\",\"MO\",\"WI\",\"SC\",\"AL\",\"MD\",\"MN\",\"CO\",\"KY\",\"OR\",\"LA\",\"OK\",\"PR\",\"CT\",\"AR\",\"IA\",\"MS\",\"NV\",\"KS\",\"FO\",\"WV\",\"NM\",\"UT\",\"ID\",\"NE\",\"ME\",\"NH\",\"HI\",\"MT\",\"RI\",\"DE\",\"SD\",\"VT\",\"ND\",\"WY\",\"AK\",\"DC\",\"VI\",\"GU\",\"AS\",\"AS\",\"MP\"],\"marker\":{\"line\":{\"color\":\"rgb(255,255,255)\",\"width\":2}},\"text\":[\"CA\",\"FL\",\"TX\",\"NY\",\"PA\",\"OH\",\"IL\",\"MI\",\"NC\",\"GA\",\"NJ\",\"VA\",\"WA\",\"TN\",\"AZ\",\"MA\",\"IN\",\"MO\",\"WI\",\"SC\",\"AL\",\"MD\",\"MN\",\"CO\",\"KY\",\"OR\",\"LA\",\"OK\",\"PR\",\"CT\",\"AR\",\"IA\",\"MS\",\"NV\",\"KS\",\"FO\",\"WV\",\"NM\",\"UT\",\"ID\",\"NE\",\"ME\",\"NH\",\"HI\",\"MT\",\"RI\",\"DE\",\"SD\",\"VT\",\"ND\",\"WY\",\"AK\",\"DC\",\"VI\",\"GU\",\"AS\",\"AS\",\"MP\"],\"z\":[6433915,4772844,4350777,3674284,2786542,2392516,2268637,2114000,2064843,1796348,1641892,1563130,1416479,1399493,1390233,1361511,1293038,1256352,1212592,1127050,1067162,1065283,1056411,949390,948991,894838,889016,760259,752659,695648,651227,641662,612261,557457,551628,499849,443428,436111,422578,357847,357053,353335,312737,285113,241511,226233,220925,182567,153462,135501,115923,106154,93563,20145,17924,4731,4731,2733],\"type\":\"choropleth\"}],                        {\"geo\":{\"lakecolor\":\"rgb(255, 255, 255)\",\"projection\":{\"type\":\"albers usa\"},\"scope\":\"usa\",\"showlakes\":true},\"template\":{\"data\":{\"barpolar\":[{\"marker\":{\"line\":{\"color\":\"#E5ECF6\",\"width\":0.5},\"pattern\":{\"fillmode\":\"overlay\",\"size\":10,\"solidity\":0.2}},\"type\":\"barpolar\"}],\"bar\":[{\"error_x\":{\"color\":\"#2a3f5f\"},\"error_y\":{\"color\":\"#2a3f5f\"},\"marker\":{\"line\":{\"color\":\"#E5ECF6\",\"width\":0.5},\"pattern\":{\"fillmode\":\"overlay\",\"size\":10,\"solidity\":0.2}},\"type\":\"bar\"}],\"carpet\":[{\"aaxis\":{\"endlinecolor\":\"#2a3f5f\",\"gridcolor\":\"white\",\"linecolor\":\"white\",\"minorgridcolor\":\"white\",\"startlinecolor\":\"#2a3f5f\"},\"baxis\":{\"endlinecolor\":\"#2a3f5f\",\"gridcolor\":\"white\",\"linecolor\":\"white\",\"minorgridcolor\":\"white\",\"startlinecolor\":\"#2a3f5f\"},\"type\":\"carpet\"}],\"choropleth\":[{\"colorbar\":{\"outlinewidth\":0,\"ticks\":\"\"},\"type\":\"choropleth\"}],\"contourcarpet\":[{\"colorbar\":{\"outlinewidth\":0,\"ticks\":\"\"},\"type\":\"contourcarpet\"}],\"contour\":[{\"colorbar\":{\"outlinewidth\":0,\"ticks\":\"\"},\"colorscale\":[[0.0,\"#0d0887\"],[0.1111111111111111,\"#46039f\"],[0.2222222222222222,\"#7201a8\"],[0.3333333333333333,\"#9c179e\"],[0.4444444444444444,\"#bd3786\"],[0.5555555555555556,\"#d8576b\"],[0.6666666666666666,\"#ed7953\"],[0.7777777777777778,\"#fb9f3a\"],[0.8888888888888888,\"#fdca26\"],[1.0,\"#f0f921\"]],\"type\":\"contour\"}],\"heatmapgl\":[{\"colorbar\":{\"outlinewidth\":0,\"ticks\":\"\"},\"colorscale\":[[0.0,\"#0d0887\"],[0.1111111111111111,\"#46039f\"],[0.2222222222222222,\"#7201a8\"],[0.3333333333333333,\"#9c179e\"],[0.4444444444444444,\"#bd3786\"],[0.5555555555555556,\"#d8576b\"],[0.6666666666666666,\"#ed7953\"],[0.7777777777777778,\"#fb9f3a\"],[0.8888888888888888,\"#fdca26\"],[1.0,\"#f0f921\"]],\"type\":\"heatmapgl\"}],\"heatmap\":[{\"colorbar\":{\"outlinewidth\":0,\"ticks\":\"\"},\"colorscale\":[[0.0,\"#0d0887\"],[0.1111111111111111,\"#46039f\"],[0.2222222222222222,\"#7201a8\"],[0.3333333333333333,\"#9c179e\"],[0.4444444444444444,\"#bd3786\"],[0.5555555555555556,\"#d8576b\"],[0.6666666666666666,\"#ed7953\"],[0.7777777777777778,\"#fb9f3a\"],[0.8888888888888888,\"#fdca26\"],[1.0,\"#f0f921\"]],\"type\":\"heatmap\"}],\"histogram2dcontour\":[{\"colorbar\":{\"outlinewidth\":0,\"ticks\":\"\"},\"colorscale\":[[0.0,\"#0d0887\"],[0.1111111111111111,\"#46039f\"],[0.2222222222222222,\"#7201a8\"],[0.3333333333333333,\"#9c179e\"],[0.4444444444444444,\"#bd3786\"],[0.5555555555555556,\"#d8576b\"],[0.6666666666666666,\"#ed7953\"],[0.7777777777777778,\"#fb9f3a\"],[0.8888888888888888,\"#fdca26\"],[1.0,\"#f0f921\"]],\"type\":\"histogram2dcontour\"}],\"histogram2d\":[{\"colorbar\":{\"outlinewidth\":0,\"ticks\":\"\"},\"colorscale\":[[0.0,\"#0d0887\"],[0.1111111111111111,\"#46039f\"],[0.2222222222222222,\"#7201a8\"],[0.3333333333333333,\"#9c179e\"],[0.4444444444444444,\"#bd3786\"],[0.5555555555555556,\"#d8576b\"],[0.6666666666666666,\"#ed7953\"],[0.7777777777777778,\"#fb9f3a\"],[0.8888888888888888,\"#fdca26\"],[1.0,\"#f0f921\"]],\"type\":\"histogram2d\"}],\"histogram\":[{\"marker\":{\"pattern\":{\"fillmode\":\"overlay\",\"size\":10,\"solidity\":0.2}},\"type\":\"histogram\"}],\"mesh3d\":[{\"colorbar\":{\"outlinewidth\":0,\"ticks\":\"\"},\"type\":\"mesh3d\"}],\"parcoords\":[{\"line\":{\"colorbar\":{\"outlinewidth\":0,\"ticks\":\"\"}},\"type\":\"parcoords\"}],\"pie\":[{\"automargin\":true,\"type\":\"pie\"}],\"scatter3d\":[{\"line\":{\"colorbar\":{\"outlinewidth\":0,\"ticks\":\"\"}},\"marker\":{\"colorbar\":{\"outlinewidth\":0,\"ticks\":\"\"}},\"type\":\"scatter3d\"}],\"scattercarpet\":[{\"marker\":{\"colorbar\":{\"outlinewidth\":0,\"ticks\":\"\"}},\"type\":\"scattercarpet\"}],\"scattergeo\":[{\"marker\":{\"colorbar\":{\"outlinewidth\":0,\"ticks\":\"\"}},\"type\":\"scattergeo\"}],\"scattergl\":[{\"marker\":{\"colorbar\":{\"outlinewidth\":0,\"ticks\":\"\"}},\"type\":\"scattergl\"}],\"scattermapbox\":[{\"marker\":{\"colorbar\":{\"outlinewidth\":0,\"ticks\":\"\"}},\"type\":\"scattermapbox\"}],\"scatterpolargl\":[{\"marker\":{\"colorbar\":{\"outlinewidth\":0,\"ticks\":\"\"}},\"type\":\"scatterpolargl\"}],\"scatterpolar\":[{\"marker\":{\"colorbar\":{\"outlinewidth\":0,\"ticks\":\"\"}},\"type\":\"scatterpolar\"}],\"scatter\":[{\"fillpattern\":{\"fillmode\":\"overlay\",\"size\":10,\"solidity\":0.2},\"type\":\"scatter\"}],\"scatterternary\":[{\"marker\":{\"colorbar\":{\"outlinewidth\":0,\"ticks\":\"\"}},\"type\":\"scatterternary\"}],\"surface\":[{\"colorbar\":{\"outlinewidth\":0,\"ticks\":\"\"},\"colorscale\":[[0.0,\"#0d0887\"],[0.1111111111111111,\"#46039f\"],[0.2222222222222222,\"#7201a8\"],[0.3333333333333333,\"#9c179e\"],[0.4444444444444444,\"#bd3786\"],[0.5555555555555556,\"#d8576b\"],[0.6666666666666666,\"#ed7953\"],[0.7777777777777778,\"#fb9f3a\"],[0.8888888888888888,\"#fdca26\"],[1.0,\"#f0f921\"]],\"type\":\"surface\"}],\"table\":[{\"cells\":{\"fill\":{\"color\":\"#EBF0F8\"},\"line\":{\"color\":\"white\"}},\"header\":{\"fill\":{\"color\":\"#C8D4E3\"},\"line\":{\"color\":\"white\"}},\"type\":\"table\"}]},\"layout\":{\"annotationdefaults\":{\"arrowcolor\":\"#2a3f5f\",\"arrowhead\":0,\"arrowwidth\":1},\"autotypenumbers\":\"strict\",\"coloraxis\":{\"colorbar\":{\"outlinewidth\":0,\"ticks\":\"\"}},\"colorscale\":{\"diverging\":[[0,\"#8e0152\"],[0.1,\"#c51b7d\"],[0.2,\"#de77ae\"],[0.3,\"#f1b6da\"],[0.4,\"#fde0ef\"],[0.5,\"#f7f7f7\"],[0.6,\"#e6f5d0\"],[0.7,\"#b8e186\"],[0.8,\"#7fbc41\"],[0.9,\"#4d9221\"],[1,\"#276419\"]],\"sequential\":[[0.0,\"#0d0887\"],[0.1111111111111111,\"#46039f\"],[0.2222222222222222,\"#7201a8\"],[0.3333333333333333,\"#9c179e\"],[0.4444444444444444,\"#bd3786\"],[0.5555555555555556,\"#d8576b\"],[0.6666666666666666,\"#ed7953\"],[0.7777777777777778,\"#fb9f3a\"],[0.8888888888888888,\"#fdca26\"],[1.0,\"#f0f921\"]],\"sequentialminus\":[[0.0,\"#0d0887\"],[0.1111111111111111,\"#46039f\"],[0.2222222222222222,\"#7201a8\"],[0.3333333333333333,\"#9c179e\"],[0.4444444444444444,\"#bd3786\"],[0.5555555555555556,\"#d8576b\"],[0.6666666666666666,\"#ed7953\"],[0.7777777777777778,\"#fb9f3a\"],[0.8888888888888888,\"#fdca26\"],[1.0,\"#f0f921\"]]},\"colorway\":[\"#636efa\",\"#EF553B\",\"#00cc96\",\"#ab63fa\",\"#FFA15A\",\"#19d3f3\",\"#FF6692\",\"#B6E880\",\"#FF97FF\",\"#FECB52\"],\"font\":{\"color\":\"#2a3f5f\"},\"geo\":{\"bgcolor\":\"white\",\"lakecolor\":\"white\",\"landcolor\":\"#E5ECF6\",\"showlakes\":true,\"showland\":true,\"subunitcolor\":\"white\"},\"hoverlabel\":{\"align\":\"left\"},\"hovermode\":\"closest\",\"mapbox\":{\"style\":\"light\"},\"paper_bgcolor\":\"white\",\"plot_bgcolor\":\"#E5ECF6\",\"polar\":{\"angularaxis\":{\"gridcolor\":\"white\",\"linecolor\":\"white\",\"ticks\":\"\"},\"bgcolor\":\"#E5ECF6\",\"radialaxis\":{\"gridcolor\":\"white\",\"linecolor\":\"white\",\"ticks\":\"\"}},\"scene\":{\"xaxis\":{\"backgroundcolor\":\"#E5ECF6\",\"gridcolor\":\"white\",\"gridwidth\":2,\"linecolor\":\"white\",\"showbackground\":true,\"ticks\":\"\",\"zerolinecolor\":\"white\"},\"yaxis\":{\"backgroundcolor\":\"#E5ECF6\",\"gridcolor\":\"white\",\"gridwidth\":2,\"linecolor\":\"white\",\"showbackground\":true,\"ticks\":\"\",\"zerolinecolor\":\"white\"},\"zaxis\":{\"backgroundcolor\":\"#E5ECF6\",\"gridcolor\":\"white\",\"gridwidth\":2,\"linecolor\":\"white\",\"showbackground\":true,\"ticks\":\"\",\"zerolinecolor\":\"white\"}},\"shapedefaults\":{\"line\":{\"color\":\"#2a3f5f\"}},\"ternary\":{\"aaxis\":{\"gridcolor\":\"white\",\"linecolor\":\"white\",\"ticks\":\"\"},\"baxis\":{\"gridcolor\":\"white\",\"linecolor\":\"white\",\"ticks\":\"\"},\"bgcolor\":\"#E5ECF6\",\"caxis\":{\"gridcolor\":\"white\",\"linecolor\":\"white\",\"ticks\":\"\"}},\"title\":{\"x\":0.05},\"xaxis\":{\"automargin\":true,\"gridcolor\":\"white\",\"linecolor\":\"white\",\"ticks\":\"\",\"title\":{\"standoff\":15},\"zerolinecolor\":\"white\",\"zerolinewidth\":2},\"yaxis\":{\"automargin\":true,\"gridcolor\":\"white\",\"linecolor\":\"white\",\"ticks\":\"\",\"title\":{\"standoff\":15},\"zerolinecolor\":\"white\",\"zerolinewidth\":2}}},\"title\":{\"text\":\"Total Beneficiaries by Different States\"}},                        {\"responsive\": true}                    ).then(function(){\n",
       "                            \n",
       "var gd = document.getElementById('0355f88b-ad4d-4ad7-81a2-420c3083e4f2');\n",
       "var x = new MutationObserver(function (mutations, observer) {{\n",
       "        var display = window.getComputedStyle(gd).display;\n",
       "        if (!display || display === 'none') {{\n",
       "            console.log([gd, 'removed!']);\n",
       "            Plotly.purge(gd);\n",
       "            observer.disconnect();\n",
       "        }}\n",
       "}});\n",
       "\n",
       "// Listen for the removal of the full notebook cells\n",
       "var notebookContainer = gd.closest('#notebook-container');\n",
       "if (notebookContainer) {{\n",
       "    x.observe(notebookContainer, {childList: true});\n",
       "}}\n",
       "\n",
       "// Listen for the clearing of the current output cell\n",
       "var outputEl = gd.closest('.output');\n",
       "if (outputEl) {{\n",
       "    x.observe(outputEl, {childList: true});\n",
       "}}\n",
       "\n",
       "                        })                };                });            </script>        </div>"
      ]
     },
     "metadata": {},
     "output_type": "display_data"
    }
   ],
   "source": [
    "scl = [[0.0, 'rgb(248,255,206)'],[0.2, 'rgb(203,255,205)'],[0.4, 'rgb(155,255,164)'], [0.6, 'rgb(79,255,178)'],[0.8, 'rgb(15,183,132)'], [1, '#008059']]\n",
    "data = [ dict(\n",
    "        type='choropleth',\n",
    "        colorscale = scl,\n",
    "        autocolorscale = False,\n",
    "        locations = data_flt.state,\n",
    "        z = data_flt.tot_benes,\n",
    "        locationmode = 'USA-states',\n",
    "        text = data_flt.state,\n",
    "        marker = dict(\n",
    "            line = dict (\n",
    "                color = 'rgb(255,255,255)',\n",
    "                width = 2\n",
    "            ) ),\n",
    "        colorbar = dict(\n",
    "            title = \"Total Beneficiaries by Different States - year 2021\")\n",
    "        )\n",
    "       ]\n",
    "\n",
    "layout = dict(\n",
    "        title = 'Total Beneficiaries by Different States',\n",
    "        geo = dict(\n",
    "            scope='usa',\n",
    "            projection=dict( type='albers usa' ),\n",
    "            showlakes = True,\n",
    "            lakecolor = 'rgb(255, 255, 255)'),\n",
    "             )\n",
    "    \n",
    "fig = dict( data=data, layout=layout )\n",
    "iplot( fig, filename='d3-cloropleth-map' )"
   ]
  },
  {
   "cell_type": "code",
   "execution_count": 29,
   "id": "1d4019f3",
   "metadata": {
    "execution": {
     "iopub.execute_input": "2024-10-11T03:45:39.019401Z",
     "iopub.status.busy": "2024-10-11T03:45:39.018993Z",
     "iopub.status.idle": "2024-10-11T03:45:39.025879Z",
     "shell.execute_reply": "2024-10-11T03:45:39.024577Z"
    },
    "papermill": {
     "duration": 0.045987,
     "end_time": "2024-10-11T03:45:39.028338",
     "exception": false,
     "start_time": "2024-10-11T03:45:38.982351",
     "status": "completed"
    },
    "tags": []
   },
   "outputs": [],
   "source": [
    "data= pd.DataFrame(data,columns = ['YEAR','BENE_GEO_LVL','BENE_STATE_ABRVTN','BENE_COUNTY_DESC', 'TOT_BENES','AGED_TOT_BENES', 'DSBLD_TOT_BENES','PRSCRPTN_DRUG_TOT_BENES']) "
   ]
  },
  {
   "cell_type": "code",
   "execution_count": 30,
   "id": "8ab61751",
   "metadata": {
    "execution": {
     "iopub.execute_input": "2024-10-11T03:45:39.100979Z",
     "iopub.status.busy": "2024-10-11T03:45:39.100208Z",
     "iopub.status.idle": "2024-10-11T03:45:39.219451Z",
     "shell.execute_reply": "2024-10-11T03:45:39.218261Z"
    },
    "papermill": {
     "duration": 0.158875,
     "end_time": "2024-10-11T03:45:39.222429",
     "exception": false,
     "start_time": "2024-10-11T03:45:39.063554",
     "status": "completed"
    },
    "tags": []
   },
   "outputs": [],
   "source": [
    "options = ['2022'] # Current year data\n",
    "data=data_original\n",
    "df1 = data[data['BENE_COUNTY_DESC'] == \"Total\"]\n",
    "df_cy = df1[(df1['MONTH'] == \"Year\") & (df1['BENE_STATE_DESC'] != \"National\") & (df1['YEAR'].isin(options))]\n",
    "##df_cy = df2[df2['YEAR'].str.contains('2022')]  #Current year\n",
    "##df[df['Credit-Rating'].str.contains('Fair')] \n",
    "df_yearly_national = df1[(df1['MONTH'] == \"Year\") & (df1['BENE_STATE_DESC'] == \"National\") ]"
   ]
  },
  {
   "cell_type": "code",
   "execution_count": 31,
   "id": "21160ef6",
   "metadata": {
    "execution": {
     "iopub.execute_input": "2024-10-11T03:45:39.295019Z",
     "iopub.status.busy": "2024-10-11T03:45:39.294543Z",
     "iopub.status.idle": "2024-10-11T03:45:39.300637Z",
     "shell.execute_reply": "2024-10-11T03:45:39.299540Z"
    },
    "papermill": {
     "duration": 0.045339,
     "end_time": "2024-10-11T03:45:39.303270",
     "exception": false,
     "start_time": "2024-10-11T03:45:39.257931",
     "status": "completed"
    },
    "tags": []
   },
   "outputs": [
    {
     "name": "stdout",
     "output_type": "stream",
     "text": [
      "The Dataset have 10 rows and 26 columns.\n"
     ]
    }
   ],
   "source": [
    "#t=This dataset has only yearly counts for geographical level as National\n",
    "row, col = df_yearly_national.shape\n",
    "print(\"The Dataset have\",row,\"rows and\",col,\"columns.\")"
   ]
  },
  {
   "cell_type": "code",
   "execution_count": 32,
   "id": "357837b7",
   "metadata": {
    "execution": {
     "iopub.execute_input": "2024-10-11T03:45:39.376762Z",
     "iopub.status.busy": "2024-10-11T03:45:39.375544Z",
     "iopub.status.idle": "2024-10-11T03:45:39.403841Z",
     "shell.execute_reply": "2024-10-11T03:45:39.402644Z"
    },
    "papermill": {
     "duration": 0.067695,
     "end_time": "2024-10-11T03:45:39.406308",
     "exception": false,
     "start_time": "2024-10-11T03:45:39.338613",
     "status": "completed"
    },
    "tags": []
   },
   "outputs": [
    {
     "data": {
      "text/html": [
       "<div>\n",
       "<style scoped>\n",
       "    .dataframe tbody tr th:only-of-type {\n",
       "        vertical-align: middle;\n",
       "    }\n",
       "\n",
       "    .dataframe tbody tr th {\n",
       "        vertical-align: top;\n",
       "    }\n",
       "\n",
       "    .dataframe thead th {\n",
       "        text-align: right;\n",
       "    }\n",
       "</style>\n",
       "<table border=\"1\" class=\"dataframe\">\n",
       "  <thead>\n",
       "    <tr style=\"text-align: right;\">\n",
       "      <th></th>\n",
       "      <th>YEAR</th>\n",
       "      <th>MONTH</th>\n",
       "      <th>BENE_GEO_LVL</th>\n",
       "      <th>BENE_STATE_ABRVTN</th>\n",
       "      <th>BENE_STATE_DESC</th>\n",
       "      <th>BENE_COUNTY_DESC</th>\n",
       "      <th>BENE_FIPS_CD</th>\n",
       "      <th>TOT_BENES</th>\n",
       "      <th>ORGNL_MDCR_BENES</th>\n",
       "      <th>MA_AND_OTH_BENES</th>\n",
       "      <th>...</th>\n",
       "      <th>A_B_TOT_BENES</th>\n",
       "      <th>A_B_ORGNL_MDCR_BENES</th>\n",
       "      <th>A_B_MA_AND_OTH_BENES</th>\n",
       "      <th>PRSCRPTN_DRUG_TOT_BENES</th>\n",
       "      <th>PRSCRPTN_DRUG_PDP_BENES</th>\n",
       "      <th>PRSCRPTN_DRUG_MAPD_BENES</th>\n",
       "      <th>PRSCRPTN_DRUG_DEEMED_ELIGIBLE_FULL_LIS_BENES</th>\n",
       "      <th>PRSCRPTN_DRUG_FULL_LIS_BENES</th>\n",
       "      <th>PRSCRPTN_DRUG_PARTIAL_LIS_BENES</th>\n",
       "      <th>PRSCRPTN_DRUG_NO_LIS_BENES</th>\n",
       "    </tr>\n",
       "  </thead>\n",
       "  <tbody>\n",
       "    <tr>\n",
       "      <th>0</th>\n",
       "      <td>2013</td>\n",
       "      <td>Year</td>\n",
       "      <td>National</td>\n",
       "      <td>US</td>\n",
       "      <td>National</td>\n",
       "      <td>Total</td>\n",
       "      <td></td>\n",
       "      <td>52425659</td>\n",
       "      <td>37613096</td>\n",
       "      <td>14812563</td>\n",
       "      <td>...</td>\n",
       "      <td>47620905</td>\n",
       "      <td>32831884</td>\n",
       "      <td>14789022</td>\n",
       "      <td>35679758</td>\n",
       "      <td>22661451</td>\n",
       "      <td>13018307</td>\n",
       "      <td>10000861</td>\n",
       "      <td>1030113.0</td>\n",
       "      <td>409204.0</td>\n",
       "      <td>24239580</td>\n",
       "    </tr>\n",
       "    <tr>\n",
       "      <th>43355</th>\n",
       "      <td>2014</td>\n",
       "      <td>Year</td>\n",
       "      <td>National</td>\n",
       "      <td>US</td>\n",
       "      <td>National</td>\n",
       "      <td>Total</td>\n",
       "      <td></td>\n",
       "      <td>54013038</td>\n",
       "      <td>37790373</td>\n",
       "      <td>16222665</td>\n",
       "      <td>...</td>\n",
       "      <td>49073941</td>\n",
       "      <td>32876249</td>\n",
       "      <td>16197692</td>\n",
       "      <td>37720840</td>\n",
       "      <td>23437148</td>\n",
       "      <td>14283691</td>\n",
       "      <td>10313537</td>\n",
       "      <td>1051834.0</td>\n",
       "      <td>401548.0</td>\n",
       "      <td>25953921</td>\n",
       "    </tr>\n",
       "    <tr>\n",
       "      <th>86710</th>\n",
       "      <td>2015</td>\n",
       "      <td>Year</td>\n",
       "      <td>National</td>\n",
       "      <td>US</td>\n",
       "      <td>National</td>\n",
       "      <td>Total</td>\n",
       "      <td></td>\n",
       "      <td>55496222</td>\n",
       "      <td>38025274</td>\n",
       "      <td>17470948</td>\n",
       "      <td>...</td>\n",
       "      <td>50414746</td>\n",
       "      <td>32969578</td>\n",
       "      <td>17445168</td>\n",
       "      <td>39505335</td>\n",
       "      <td>24092868</td>\n",
       "      <td>15412467</td>\n",
       "      <td>10643165</td>\n",
       "      <td>1077947.0</td>\n",
       "      <td>406304.0</td>\n",
       "      <td>27377918</td>\n",
       "    </tr>\n",
       "    <tr>\n",
       "      <th>130065</th>\n",
       "      <td>2016</td>\n",
       "      <td>Year</td>\n",
       "      <td>National</td>\n",
       "      <td>US</td>\n",
       "      <td>National</td>\n",
       "      <td>Total</td>\n",
       "      <td></td>\n",
       "      <td>56981183</td>\n",
       "      <td>38610384</td>\n",
       "      <td>18370800</td>\n",
       "      <td>...</td>\n",
       "      <td>51743591</td>\n",
       "      <td>33393261</td>\n",
       "      <td>18350330</td>\n",
       "      <td>41203627</td>\n",
       "      <td>24831079</td>\n",
       "      <td>16372548</td>\n",
       "      <td>10915488</td>\n",
       "      <td>1086468.0</td>\n",
       "      <td>413970.0</td>\n",
       "      <td>28787701</td>\n",
       "    </tr>\n",
       "    <tr>\n",
       "      <th>173420</th>\n",
       "      <td>2017</td>\n",
       "      <td>Year</td>\n",
       "      <td>National</td>\n",
       "      <td>US</td>\n",
       "      <td>National</td>\n",
       "      <td>Total</td>\n",
       "      <td></td>\n",
       "      <td>58457244</td>\n",
       "      <td>38667830</td>\n",
       "      <td>19789414</td>\n",
       "      <td>...</td>\n",
       "      <td>53008234</td>\n",
       "      <td>33242085</td>\n",
       "      <td>19766149</td>\n",
       "      <td>42728443</td>\n",
       "      <td>25243684</td>\n",
       "      <td>17484759</td>\n",
       "      <td>10856130</td>\n",
       "      <td>1014289.0</td>\n",
       "      <td>383811.0</td>\n",
       "      <td>30474213</td>\n",
       "    </tr>\n",
       "    <tr>\n",
       "      <th>216775</th>\n",
       "      <td>2018</td>\n",
       "      <td>Year</td>\n",
       "      <td>National</td>\n",
       "      <td>US</td>\n",
       "      <td>National</td>\n",
       "      <td>Total</td>\n",
       "      <td></td>\n",
       "      <td>59989883</td>\n",
       "      <td>38665082</td>\n",
       "      <td>21324800</td>\n",
       "      <td>...</td>\n",
       "      <td>54349822</td>\n",
       "      <td>33052639</td>\n",
       "      <td>21297184</td>\n",
       "      <td>44249461</td>\n",
       "      <td>25563945</td>\n",
       "      <td>18685516</td>\n",
       "      <td>11374106</td>\n",
       "      <td>1103901.0</td>\n",
       "      <td>406367.0</td>\n",
       "      <td>31365087</td>\n",
       "    </tr>\n",
       "    <tr>\n",
       "      <th>260130</th>\n",
       "      <td>2019</td>\n",
       "      <td>Year</td>\n",
       "      <td>National</td>\n",
       "      <td>US</td>\n",
       "      <td>National</td>\n",
       "      <td>Total</td>\n",
       "      <td></td>\n",
       "      <td>61514510</td>\n",
       "      <td>38577012</td>\n",
       "      <td>22937498</td>\n",
       "      <td>...</td>\n",
       "      <td>55653848</td>\n",
       "      <td>32758741</td>\n",
       "      <td>22895108</td>\n",
       "      <td>45827091</td>\n",
       "      <td>25583137</td>\n",
       "      <td>20243954</td>\n",
       "      <td>11555190</td>\n",
       "      <td>1094264.0</td>\n",
       "      <td>410245.0</td>\n",
       "      <td>32767391</td>\n",
       "    </tr>\n",
       "    <tr>\n",
       "      <th>303498</th>\n",
       "      <td>2020</td>\n",
       "      <td>Year</td>\n",
       "      <td>National</td>\n",
       "      <td>US</td>\n",
       "      <td>National</td>\n",
       "      <td>Total</td>\n",
       "      <td></td>\n",
       "      <td>62840267</td>\n",
       "      <td>37776345</td>\n",
       "      <td>25063922</td>\n",
       "      <td>...</td>\n",
       "      <td>56966865</td>\n",
       "      <td>31934411</td>\n",
       "      <td>25032454</td>\n",
       "      <td>47413121</td>\n",
       "      <td>25171949</td>\n",
       "      <td>22241173</td>\n",
       "      <td>11655477</td>\n",
       "      <td>1112043.0</td>\n",
       "      <td>371211.0</td>\n",
       "      <td>34274390</td>\n",
       "    </tr>\n",
       "    <tr>\n",
       "      <th>346866</th>\n",
       "      <td>2021</td>\n",
       "      <td>Year</td>\n",
       "      <td>National</td>\n",
       "      <td>US</td>\n",
       "      <td>National</td>\n",
       "      <td>Total</td>\n",
       "      <td></td>\n",
       "      <td>63892626</td>\n",
       "      <td>36356380</td>\n",
       "      <td>27536246</td>\n",
       "      <td>...</td>\n",
       "      <td>58041288</td>\n",
       "      <td>30537829</td>\n",
       "      <td>27503460</td>\n",
       "      <td>48818849</td>\n",
       "      <td>24164736</td>\n",
       "      <td>24654113</td>\n",
       "      <td>11711263</td>\n",
       "      <td>1108918.0</td>\n",
       "      <td>323250.0</td>\n",
       "      <td>35675418</td>\n",
       "    </tr>\n",
       "    <tr>\n",
       "      <th>390234</th>\n",
       "      <td>2022</td>\n",
       "      <td>Year</td>\n",
       "      <td>National</td>\n",
       "      <td>US</td>\n",
       "      <td>National</td>\n",
       "      <td>Total</td>\n",
       "      <td></td>\n",
       "      <td>65116503</td>\n",
       "      <td>35288227</td>\n",
       "      <td>29828276</td>\n",
       "      <td>...</td>\n",
       "      <td>59108664</td>\n",
       "      <td>29327793</td>\n",
       "      <td>29780871</td>\n",
       "      <td>50295753</td>\n",
       "      <td>23400805</td>\n",
       "      <td>26894947</td>\n",
       "      <td>12231254</td>\n",
       "      <td>1050008.0</td>\n",
       "      <td>284815.0</td>\n",
       "      <td>36729676</td>\n",
       "    </tr>\n",
       "  </tbody>\n",
       "</table>\n",
       "<p>10 rows × 26 columns</p>\n",
       "</div>"
      ],
      "text/plain": [
       "        YEAR MONTH BENE_GEO_LVL BENE_STATE_ABRVTN BENE_STATE_DESC  \\\n",
       "0       2013  Year     National                US        National   \n",
       "43355   2014  Year     National                US        National   \n",
       "86710   2015  Year     National                US        National   \n",
       "130065  2016  Year     National                US        National   \n",
       "173420  2017  Year     National                US        National   \n",
       "216775  2018  Year     National                US        National   \n",
       "260130  2019  Year     National                US        National   \n",
       "303498  2020  Year     National                US        National   \n",
       "346866  2021  Year     National                US        National   \n",
       "390234  2022  Year     National                US        National   \n",
       "\n",
       "       BENE_COUNTY_DESC BENE_FIPS_CD  TOT_BENES  ORGNL_MDCR_BENES  \\\n",
       "0                 Total                52425659          37613096   \n",
       "43355             Total                54013038          37790373   \n",
       "86710             Total                55496222          38025274   \n",
       "130065            Total                56981183          38610384   \n",
       "173420            Total                58457244          38667830   \n",
       "216775            Total                59989883          38665082   \n",
       "260130            Total                61514510          38577012   \n",
       "303498            Total                62840267          37776345   \n",
       "346866            Total                63892626          36356380   \n",
       "390234            Total                65116503          35288227   \n",
       "\n",
       "        MA_AND_OTH_BENES  ...  A_B_TOT_BENES A_B_ORGNL_MDCR_BENES  \\\n",
       "0               14812563  ...       47620905             32831884   \n",
       "43355           16222665  ...       49073941             32876249   \n",
       "86710           17470948  ...       50414746             32969578   \n",
       "130065          18370800  ...       51743591             33393261   \n",
       "173420          19789414  ...       53008234             33242085   \n",
       "216775          21324800  ...       54349822             33052639   \n",
       "260130          22937498  ...       55653848             32758741   \n",
       "303498          25063922  ...       56966865             31934411   \n",
       "346866          27536246  ...       58041288             30537829   \n",
       "390234          29828276  ...       59108664             29327793   \n",
       "\n",
       "       A_B_MA_AND_OTH_BENES  PRSCRPTN_DRUG_TOT_BENES PRSCRPTN_DRUG_PDP_BENES  \\\n",
       "0                  14789022                 35679758                22661451   \n",
       "43355              16197692                 37720840                23437148   \n",
       "86710              17445168                 39505335                24092868   \n",
       "130065             18350330                 41203627                24831079   \n",
       "173420             19766149                 42728443                25243684   \n",
       "216775             21297184                 44249461                25563945   \n",
       "260130             22895108                 45827091                25583137   \n",
       "303498             25032454                 47413121                25171949   \n",
       "346866             27503460                 48818849                24164736   \n",
       "390234             29780871                 50295753                23400805   \n",
       "\n",
       "       PRSCRPTN_DRUG_MAPD_BENES PRSCRPTN_DRUG_DEEMED_ELIGIBLE_FULL_LIS_BENES  \\\n",
       "0                      13018307                                     10000861   \n",
       "43355                  14283691                                     10313537   \n",
       "86710                  15412467                                     10643165   \n",
       "130065                 16372548                                     10915488   \n",
       "173420                 17484759                                     10856130   \n",
       "216775                 18685516                                     11374106   \n",
       "260130                 20243954                                     11555190   \n",
       "303498                 22241173                                     11655477   \n",
       "346866                 24654113                                     11711263   \n",
       "390234                 26894947                                     12231254   \n",
       "\n",
       "       PRSCRPTN_DRUG_FULL_LIS_BENES PRSCRPTN_DRUG_PARTIAL_LIS_BENES  \\\n",
       "0                         1030113.0                        409204.0   \n",
       "43355                     1051834.0                        401548.0   \n",
       "86710                     1077947.0                        406304.0   \n",
       "130065                    1086468.0                        413970.0   \n",
       "173420                    1014289.0                        383811.0   \n",
       "216775                    1103901.0                        406367.0   \n",
       "260130                    1094264.0                        410245.0   \n",
       "303498                    1112043.0                        371211.0   \n",
       "346866                    1108918.0                        323250.0   \n",
       "390234                    1050008.0                        284815.0   \n",
       "\n",
       "       PRSCRPTN_DRUG_NO_LIS_BENES  \n",
       "0                        24239580  \n",
       "43355                    25953921  \n",
       "86710                    27377918  \n",
       "130065                   28787701  \n",
       "173420                   30474213  \n",
       "216775                   31365087  \n",
       "260130                   32767391  \n",
       "303498                   34274390  \n",
       "346866                   35675418  \n",
       "390234                   36729676  \n",
       "\n",
       "[10 rows x 26 columns]"
      ]
     },
     "execution_count": 32,
     "metadata": {},
     "output_type": "execute_result"
    }
   ],
   "source": [
    "df_yearly_national.head(10)"
   ]
  },
  {
   "cell_type": "code",
   "execution_count": 33,
   "id": "c14554d2",
   "metadata": {
    "execution": {
     "iopub.execute_input": "2024-10-11T03:45:39.480109Z",
     "iopub.status.busy": "2024-10-11T03:45:39.479699Z",
     "iopub.status.idle": "2024-10-11T03:45:39.486189Z",
     "shell.execute_reply": "2024-10-11T03:45:39.485081Z"
    },
    "papermill": {
     "duration": 0.046473,
     "end_time": "2024-10-11T03:45:39.488673",
     "exception": false,
     "start_time": "2024-10-11T03:45:39.442200",
     "status": "completed"
    },
    "tags": []
   },
   "outputs": [],
   "source": [
    "numerical_columns = list(df_yearly_national.loc[:,['TOT_BENES', 'AGED_TOT_BENES', 'DSBLD_TOT_BENES','PRSCRPTN_DRUG_TOT_BENES']])"
   ]
  },
  {
   "cell_type": "code",
   "execution_count": 34,
   "id": "b0d1346e",
   "metadata": {
    "execution": {
     "iopub.execute_input": "2024-10-11T03:45:39.563407Z",
     "iopub.status.busy": "2024-10-11T03:45:39.562317Z",
     "iopub.status.idle": "2024-10-11T03:45:39.570582Z",
     "shell.execute_reply": "2024-10-11T03:45:39.569380Z"
    },
    "papermill": {
     "duration": 0.048681,
     "end_time": "2024-10-11T03:45:39.573140",
     "exception": false,
     "start_time": "2024-10-11T03:45:39.524459",
     "status": "completed"
    },
    "tags": []
   },
   "outputs": [],
   "source": [
    "#Seaborn settings for visualizations!\n",
    "rc = {\n",
    "    \"axes.facecolor\": \"#f7f9fc\",\n",
    "    \"figure.facecolor\": \"#f7f9fc\",\n",
    "    \"axes.edgecolor\": \"#000000\",\n",
    "    \"grid.color\": \"#EBEBE7\",\n",
    "    \"font.family\": \"serif\",\n",
    "    \"axes.labelcolor\": \"#000000\",\n",
    "    \"xtick.color\": \"#000000\",\n",
    "    \"ytick.color\": \"#000000\",\n",
    "    \"grid.alpha\": 0.4\n",
    "}\n",
    "\n",
    "default_palette = 'YlOrRd'\n",
    "\n",
    "sns.set(rc=rc)\n",
    "pd.set_option('display.max_columns',35)\n",
    "pd.options.display.float_format = '{:,.2f}'.format"
   ]
  },
  {
   "cell_type": "code",
   "execution_count": 35,
   "id": "d37559cd",
   "metadata": {
    "execution": {
     "iopub.execute_input": "2024-10-11T03:45:39.647955Z",
     "iopub.status.busy": "2024-10-11T03:45:39.647489Z",
     "iopub.status.idle": "2024-10-11T03:45:39.677486Z",
     "shell.execute_reply": "2024-10-11T03:45:39.676158Z"
    },
    "papermill": {
     "duration": 0.070434,
     "end_time": "2024-10-11T03:45:39.679844",
     "exception": false,
     "start_time": "2024-10-11T03:45:39.609410",
     "status": "completed"
    },
    "tags": []
   },
   "outputs": [
    {
     "data": {
      "text/html": [
       "<div>\n",
       "<style scoped>\n",
       "    .dataframe tbody tr th:only-of-type {\n",
       "        vertical-align: middle;\n",
       "    }\n",
       "\n",
       "    .dataframe tbody tr th {\n",
       "        vertical-align: top;\n",
       "    }\n",
       "\n",
       "    .dataframe thead th {\n",
       "        text-align: right;\n",
       "    }\n",
       "</style>\n",
       "<table border=\"1\" class=\"dataframe\">\n",
       "  <thead>\n",
       "    <tr style=\"text-align: right;\">\n",
       "      <th></th>\n",
       "      <th>YEAR</th>\n",
       "      <th>MONTH</th>\n",
       "      <th>BENE_GEO_LVL</th>\n",
       "      <th>BENE_STATE_ABRVTN</th>\n",
       "      <th>BENE_STATE_DESC</th>\n",
       "      <th>BENE_COUNTY_DESC</th>\n",
       "      <th>BENE_FIPS_CD</th>\n",
       "      <th>TOT_BENES</th>\n",
       "      <th>ORGNL_MDCR_BENES</th>\n",
       "      <th>MA_AND_OTH_BENES</th>\n",
       "      <th>AGED_TOT_BENES</th>\n",
       "      <th>AGED_ESRD_BENES</th>\n",
       "      <th>AGED_NO_ESRD_BENES</th>\n",
       "      <th>DSBLD_TOT_BENES</th>\n",
       "      <th>DSBLD_ESRD_AND_ESRD_ONLY_BENES</th>\n",
       "      <th>DSBLD_NO_ESRD_BENES</th>\n",
       "      <th>A_B_TOT_BENES</th>\n",
       "      <th>A_B_ORGNL_MDCR_BENES</th>\n",
       "      <th>A_B_MA_AND_OTH_BENES</th>\n",
       "      <th>PRSCRPTN_DRUG_TOT_BENES</th>\n",
       "      <th>PRSCRPTN_DRUG_PDP_BENES</th>\n",
       "      <th>PRSCRPTN_DRUG_MAPD_BENES</th>\n",
       "      <th>PRSCRPTN_DRUG_DEEMED_ELIGIBLE_FULL_LIS_BENES</th>\n",
       "      <th>PRSCRPTN_DRUG_FULL_LIS_BENES</th>\n",
       "      <th>PRSCRPTN_DRUG_PARTIAL_LIS_BENES</th>\n",
       "      <th>PRSCRPTN_DRUG_NO_LIS_BENES</th>\n",
       "    </tr>\n",
       "  </thead>\n",
       "  <tbody>\n",
       "    <tr>\n",
       "      <th>0</th>\n",
       "      <td>2013</td>\n",
       "      <td>Year</td>\n",
       "      <td>National</td>\n",
       "      <td>US</td>\n",
       "      <td>National</td>\n",
       "      <td>Total</td>\n",
       "      <td></td>\n",
       "      <td>52425659</td>\n",
       "      <td>37613096</td>\n",
       "      <td>14812563</td>\n",
       "      <td>43761388</td>\n",
       "      <td>234590.0</td>\n",
       "      <td>43526798</td>\n",
       "      <td>8664271</td>\n",
       "      <td>243169.0</td>\n",
       "      <td>8421102.0</td>\n",
       "      <td>47620905</td>\n",
       "      <td>32831884</td>\n",
       "      <td>14789022</td>\n",
       "      <td>35679758</td>\n",
       "      <td>22661451</td>\n",
       "      <td>13018307</td>\n",
       "      <td>10000861</td>\n",
       "      <td>1030113.0</td>\n",
       "      <td>409204.0</td>\n",
       "      <td>24239580</td>\n",
       "    </tr>\n",
       "    <tr>\n",
       "      <th>43355</th>\n",
       "      <td>2014</td>\n",
       "      <td>Year</td>\n",
       "      <td>National</td>\n",
       "      <td>US</td>\n",
       "      <td>National</td>\n",
       "      <td>Total</td>\n",
       "      <td></td>\n",
       "      <td>54013038</td>\n",
       "      <td>37790373</td>\n",
       "      <td>16222665</td>\n",
       "      <td>45216665</td>\n",
       "      <td>245705.0</td>\n",
       "      <td>44970960</td>\n",
       "      <td>8796373</td>\n",
       "      <td>249051.0</td>\n",
       "      <td>8547322.0</td>\n",
       "      <td>49073941</td>\n",
       "      <td>32876249</td>\n",
       "      <td>16197692</td>\n",
       "      <td>37720840</td>\n",
       "      <td>23437148</td>\n",
       "      <td>14283691</td>\n",
       "      <td>10313537</td>\n",
       "      <td>1051834.0</td>\n",
       "      <td>401548.0</td>\n",
       "      <td>25953921</td>\n",
       "    </tr>\n",
       "    <tr>\n",
       "      <th>86710</th>\n",
       "      <td>2015</td>\n",
       "      <td>Year</td>\n",
       "      <td>National</td>\n",
       "      <td>US</td>\n",
       "      <td>National</td>\n",
       "      <td>Total</td>\n",
       "      <td></td>\n",
       "      <td>55496222</td>\n",
       "      <td>38025274</td>\n",
       "      <td>17470948</td>\n",
       "      <td>46630952</td>\n",
       "      <td>258350.0</td>\n",
       "      <td>46372603</td>\n",
       "      <td>8865269</td>\n",
       "      <td>254536.0</td>\n",
       "      <td>8610733.0</td>\n",
       "      <td>50414746</td>\n",
       "      <td>32969578</td>\n",
       "      <td>17445168</td>\n",
       "      <td>39505335</td>\n",
       "      <td>24092868</td>\n",
       "      <td>15412467</td>\n",
       "      <td>10643165</td>\n",
       "      <td>1077947.0</td>\n",
       "      <td>406304.0</td>\n",
       "      <td>27377918</td>\n",
       "    </tr>\n",
       "    <tr>\n",
       "      <th>130065</th>\n",
       "      <td>2016</td>\n",
       "      <td>Year</td>\n",
       "      <td>National</td>\n",
       "      <td>US</td>\n",
       "      <td>National</td>\n",
       "      <td>Total</td>\n",
       "      <td></td>\n",
       "      <td>56981183</td>\n",
       "      <td>38610384</td>\n",
       "      <td>18370800</td>\n",
       "      <td>48143217</td>\n",
       "      <td>269019.0</td>\n",
       "      <td>47874199</td>\n",
       "      <td>8837966</td>\n",
       "      <td>256347.0</td>\n",
       "      <td>8581619.0</td>\n",
       "      <td>51743591</td>\n",
       "      <td>33393261</td>\n",
       "      <td>18350330</td>\n",
       "      <td>41203627</td>\n",
       "      <td>24831079</td>\n",
       "      <td>16372548</td>\n",
       "      <td>10915488</td>\n",
       "      <td>1086468.0</td>\n",
       "      <td>413970.0</td>\n",
       "      <td>28787701</td>\n",
       "    </tr>\n",
       "    <tr>\n",
       "      <th>173420</th>\n",
       "      <td>2017</td>\n",
       "      <td>Year</td>\n",
       "      <td>National</td>\n",
       "      <td>US</td>\n",
       "      <td>National</td>\n",
       "      <td>Total</td>\n",
       "      <td></td>\n",
       "      <td>58457244</td>\n",
       "      <td>38667830</td>\n",
       "      <td>19789414</td>\n",
       "      <td>49678033</td>\n",
       "      <td>278642.0</td>\n",
       "      <td>49399391</td>\n",
       "      <td>8779211</td>\n",
       "      <td>258366.0</td>\n",
       "      <td>8520845.0</td>\n",
       "      <td>53008234</td>\n",
       "      <td>33242085</td>\n",
       "      <td>19766149</td>\n",
       "      <td>42728443</td>\n",
       "      <td>25243684</td>\n",
       "      <td>17484759</td>\n",
       "      <td>10856130</td>\n",
       "      <td>1014289.0</td>\n",
       "      <td>383811.0</td>\n",
       "      <td>30474213</td>\n",
       "    </tr>\n",
       "    <tr>\n",
       "      <th>216775</th>\n",
       "      <td>2018</td>\n",
       "      <td>Year</td>\n",
       "      <td>National</td>\n",
       "      <td>US</td>\n",
       "      <td>National</td>\n",
       "      <td>Total</td>\n",
       "      <td></td>\n",
       "      <td>59989883</td>\n",
       "      <td>38665082</td>\n",
       "      <td>21324800</td>\n",
       "      <td>51303898</td>\n",
       "      <td>290243.0</td>\n",
       "      <td>51013655</td>\n",
       "      <td>8685985</td>\n",
       "      <td>261246.0</td>\n",
       "      <td>8424739.0</td>\n",
       "      <td>54349822</td>\n",
       "      <td>33052639</td>\n",
       "      <td>21297184</td>\n",
       "      <td>44249461</td>\n",
       "      <td>25563945</td>\n",
       "      <td>18685516</td>\n",
       "      <td>11374106</td>\n",
       "      <td>1103901.0</td>\n",
       "      <td>406367.0</td>\n",
       "      <td>31365087</td>\n",
       "    </tr>\n",
       "    <tr>\n",
       "      <th>260130</th>\n",
       "      <td>2019</td>\n",
       "      <td>Year</td>\n",
       "      <td>National</td>\n",
       "      <td>US</td>\n",
       "      <td>National</td>\n",
       "      <td>Total</td>\n",
       "      <td></td>\n",
       "      <td>61514510</td>\n",
       "      <td>38577012</td>\n",
       "      <td>22937498</td>\n",
       "      <td>52991455</td>\n",
       "      <td>301798.0</td>\n",
       "      <td>52689658</td>\n",
       "      <td>8523055</td>\n",
       "      <td>262179.0</td>\n",
       "      <td>8260876.0</td>\n",
       "      <td>55653848</td>\n",
       "      <td>32758741</td>\n",
       "      <td>22895108</td>\n",
       "      <td>45827091</td>\n",
       "      <td>25583137</td>\n",
       "      <td>20243954</td>\n",
       "      <td>11555190</td>\n",
       "      <td>1094264.0</td>\n",
       "      <td>410245.0</td>\n",
       "      <td>32767391</td>\n",
       "    </tr>\n",
       "    <tr>\n",
       "      <th>303498</th>\n",
       "      <td>2020</td>\n",
       "      <td>Year</td>\n",
       "      <td>National</td>\n",
       "      <td>US</td>\n",
       "      <td>National</td>\n",
       "      <td>Total</td>\n",
       "      <td></td>\n",
       "      <td>62840267</td>\n",
       "      <td>37776345</td>\n",
       "      <td>25063922</td>\n",
       "      <td>54531919</td>\n",
       "      <td>305080.0</td>\n",
       "      <td>54226839</td>\n",
       "      <td>8308348</td>\n",
       "      <td>255949.0</td>\n",
       "      <td>8052399.0</td>\n",
       "      <td>56966865</td>\n",
       "      <td>31934411</td>\n",
       "      <td>25032454</td>\n",
       "      <td>47413121</td>\n",
       "      <td>25171949</td>\n",
       "      <td>22241173</td>\n",
       "      <td>11655477</td>\n",
       "      <td>1112043.0</td>\n",
       "      <td>371211.0</td>\n",
       "      <td>34274390</td>\n",
       "    </tr>\n",
       "    <tr>\n",
       "      <th>346866</th>\n",
       "      <td>2021</td>\n",
       "      <td>Year</td>\n",
       "      <td>National</td>\n",
       "      <td>US</td>\n",
       "      <td>National</td>\n",
       "      <td>Total</td>\n",
       "      <td></td>\n",
       "      <td>63892626</td>\n",
       "      <td>36356380</td>\n",
       "      <td>27536246</td>\n",
       "      <td>55851321</td>\n",
       "      <td>305227.0</td>\n",
       "      <td>55546095</td>\n",
       "      <td>8041304</td>\n",
       "      <td>248871.0</td>\n",
       "      <td>7792434.0</td>\n",
       "      <td>58041288</td>\n",
       "      <td>30537829</td>\n",
       "      <td>27503460</td>\n",
       "      <td>48818849</td>\n",
       "      <td>24164736</td>\n",
       "      <td>24654113</td>\n",
       "      <td>11711263</td>\n",
       "      <td>1108918.0</td>\n",
       "      <td>323250.0</td>\n",
       "      <td>35675418</td>\n",
       "    </tr>\n",
       "    <tr>\n",
       "      <th>390234</th>\n",
       "      <td>2022</td>\n",
       "      <td>Year</td>\n",
       "      <td>National</td>\n",
       "      <td>US</td>\n",
       "      <td>National</td>\n",
       "      <td>Total</td>\n",
       "      <td></td>\n",
       "      <td>65116503</td>\n",
       "      <td>35288227</td>\n",
       "      <td>29828276</td>\n",
       "      <td>57362936</td>\n",
       "      <td>311070.0</td>\n",
       "      <td>57051865</td>\n",
       "      <td>7753567</td>\n",
       "      <td>244565.0</td>\n",
       "      <td>7509003.0</td>\n",
       "      <td>59108664</td>\n",
       "      <td>29327793</td>\n",
       "      <td>29780871</td>\n",
       "      <td>50295753</td>\n",
       "      <td>23400805</td>\n",
       "      <td>26894947</td>\n",
       "      <td>12231254</td>\n",
       "      <td>1050008.0</td>\n",
       "      <td>284815.0</td>\n",
       "      <td>36729676</td>\n",
       "    </tr>\n",
       "  </tbody>\n",
       "</table>\n",
       "</div>"
      ],
      "text/plain": [
       "        YEAR MONTH BENE_GEO_LVL BENE_STATE_ABRVTN BENE_STATE_DESC  \\\n",
       "0       2013  Year     National                US        National   \n",
       "43355   2014  Year     National                US        National   \n",
       "86710   2015  Year     National                US        National   \n",
       "130065  2016  Year     National                US        National   \n",
       "173420  2017  Year     National                US        National   \n",
       "216775  2018  Year     National                US        National   \n",
       "260130  2019  Year     National                US        National   \n",
       "303498  2020  Year     National                US        National   \n",
       "346866  2021  Year     National                US        National   \n",
       "390234  2022  Year     National                US        National   \n",
       "\n",
       "       BENE_COUNTY_DESC BENE_FIPS_CD  TOT_BENES  ORGNL_MDCR_BENES  \\\n",
       "0                 Total                52425659          37613096   \n",
       "43355             Total                54013038          37790373   \n",
       "86710             Total                55496222          38025274   \n",
       "130065            Total                56981183          38610384   \n",
       "173420            Total                58457244          38667830   \n",
       "216775            Total                59989883          38665082   \n",
       "260130            Total                61514510          38577012   \n",
       "303498            Total                62840267          37776345   \n",
       "346866            Total                63892626          36356380   \n",
       "390234            Total                65116503          35288227   \n",
       "\n",
       "        MA_AND_OTH_BENES  AGED_TOT_BENES AGED_ESRD_BENES AGED_NO_ESRD_BENES  \\\n",
       "0               14812563        43761388        234590.0           43526798   \n",
       "43355           16222665        45216665        245705.0           44970960   \n",
       "86710           17470948        46630952        258350.0           46372603   \n",
       "130065          18370800        48143217        269019.0           47874199   \n",
       "173420          19789414        49678033        278642.0           49399391   \n",
       "216775          21324800        51303898        290243.0           51013655   \n",
       "260130          22937498        52991455        301798.0           52689658   \n",
       "303498          25063922        54531919        305080.0           54226839   \n",
       "346866          27536246        55851321        305227.0           55546095   \n",
       "390234          29828276        57362936        311070.0           57051865   \n",
       "\n",
       "        DSBLD_TOT_BENES DSBLD_ESRD_AND_ESRD_ONLY_BENES DSBLD_NO_ESRD_BENES  \\\n",
       "0               8664271                       243169.0           8421102.0   \n",
       "43355           8796373                       249051.0           8547322.0   \n",
       "86710           8865269                       254536.0           8610733.0   \n",
       "130065          8837966                       256347.0           8581619.0   \n",
       "173420          8779211                       258366.0           8520845.0   \n",
       "216775          8685985                       261246.0           8424739.0   \n",
       "260130          8523055                       262179.0           8260876.0   \n",
       "303498          8308348                       255949.0           8052399.0   \n",
       "346866          8041304                       248871.0           7792434.0   \n",
       "390234          7753567                       244565.0           7509003.0   \n",
       "\n",
       "       A_B_TOT_BENES A_B_ORGNL_MDCR_BENES A_B_MA_AND_OTH_BENES  \\\n",
       "0           47620905             32831884             14789022   \n",
       "43355       49073941             32876249             16197692   \n",
       "86710       50414746             32969578             17445168   \n",
       "130065      51743591             33393261             18350330   \n",
       "173420      53008234             33242085             19766149   \n",
       "216775      54349822             33052639             21297184   \n",
       "260130      55653848             32758741             22895108   \n",
       "303498      56966865             31934411             25032454   \n",
       "346866      58041288             30537829             27503460   \n",
       "390234      59108664             29327793             29780871   \n",
       "\n",
       "       PRSCRPTN_DRUG_TOT_BENES PRSCRPTN_DRUG_PDP_BENES  \\\n",
       "0                     35679758                22661451   \n",
       "43355                 37720840                23437148   \n",
       "86710                 39505335                24092868   \n",
       "130065                41203627                24831079   \n",
       "173420                42728443                25243684   \n",
       "216775                44249461                25563945   \n",
       "260130                45827091                25583137   \n",
       "303498                47413121                25171949   \n",
       "346866                48818849                24164736   \n",
       "390234                50295753                23400805   \n",
       "\n",
       "       PRSCRPTN_DRUG_MAPD_BENES PRSCRPTN_DRUG_DEEMED_ELIGIBLE_FULL_LIS_BENES  \\\n",
       "0                      13018307                                     10000861   \n",
       "43355                  14283691                                     10313537   \n",
       "86710                  15412467                                     10643165   \n",
       "130065                 16372548                                     10915488   \n",
       "173420                 17484759                                     10856130   \n",
       "216775                 18685516                                     11374106   \n",
       "260130                 20243954                                     11555190   \n",
       "303498                 22241173                                     11655477   \n",
       "346866                 24654113                                     11711263   \n",
       "390234                 26894947                                     12231254   \n",
       "\n",
       "       PRSCRPTN_DRUG_FULL_LIS_BENES PRSCRPTN_DRUG_PARTIAL_LIS_BENES  \\\n",
       "0                         1030113.0                        409204.0   \n",
       "43355                     1051834.0                        401548.0   \n",
       "86710                     1077947.0                        406304.0   \n",
       "130065                    1086468.0                        413970.0   \n",
       "173420                    1014289.0                        383811.0   \n",
       "216775                    1103901.0                        406367.0   \n",
       "260130                    1094264.0                        410245.0   \n",
       "303498                    1112043.0                        371211.0   \n",
       "346866                    1108918.0                        323250.0   \n",
       "390234                    1050008.0                        284815.0   \n",
       "\n",
       "       PRSCRPTN_DRUG_NO_LIS_BENES  \n",
       "0                        24239580  \n",
       "43355                    25953921  \n",
       "86710                    27377918  \n",
       "130065                   28787701  \n",
       "173420                   30474213  \n",
       "216775                   31365087  \n",
       "260130                   32767391  \n",
       "303498                   34274390  \n",
       "346866                   35675418  \n",
       "390234                   36729676  "
      ]
     },
     "execution_count": 35,
     "metadata": {},
     "output_type": "execute_result"
    }
   ],
   "source": [
    "df_yearly_national.head(20)"
   ]
  },
  {
   "cell_type": "code",
   "execution_count": 36,
   "id": "ab26f0f3",
   "metadata": {
    "execution": {
     "iopub.execute_input": "2024-10-11T03:45:39.757266Z",
     "iopub.status.busy": "2024-10-11T03:45:39.756421Z",
     "iopub.status.idle": "2024-10-11T03:45:40.227069Z",
     "shell.execute_reply": "2024-10-11T03:45:40.225990Z"
    },
    "papermill": {
     "duration": 0.512617,
     "end_time": "2024-10-11T03:45:40.229578",
     "exception": false,
     "start_time": "2024-10-11T03:45:39.716961",
     "status": "completed"
    },
    "tags": []
   },
   "outputs": [
    {
     "data": {
      "text/plain": [
       "<Axes: xlabel='YEAR', ylabel='TOT_BENES'>"
      ]
     },
     "execution_count": 36,
     "metadata": {},
     "output_type": "execute_result"
    },
    {
     "data": {
      "image/png": "[encoded data removed]",
      "text/plain": [
       "<Figure size 640x480 with 1 Axes>"
      ]
     },
     "metadata": {},
     "output_type": "display_data"
    }
   ],
   "source": [
    "df_yearly_national['YEAR'] = pd.to_numeric(df_yearly_national['YEAR']).astype(int)\n",
    "#sns.barplot(x=df3['YEAR'], y=df3['TOT_BENES'])\n",
    "sns.barplot(x=df_yearly_national['YEAR'], y=df_yearly_national['TOT_BENES'])"
   ]
  },
  {
   "cell_type": "code",
   "execution_count": 37,
   "id": "6ee9aaa2",
   "metadata": {
    "execution": {
     "iopub.execute_input": "2024-10-11T03:45:40.359818Z",
     "iopub.status.busy": "2024-10-11T03:45:40.359344Z",
     "iopub.status.idle": "2024-10-11T03:45:40.385054Z",
     "shell.execute_reply": "2024-10-11T03:45:40.383865Z"
    },
    "papermill": {
     "duration": 0.121391,
     "end_time": "2024-10-11T03:45:40.387790",
     "exception": false,
     "start_time": "2024-10-11T03:45:40.266399",
     "status": "completed"
    },
    "tags": []
   },
   "outputs": [
    {
     "data": {
      "text/html": [
       "<div>\n",
       "<style scoped>\n",
       "    .dataframe tbody tr th:only-of-type {\n",
       "        vertical-align: middle;\n",
       "    }\n",
       "\n",
       "    .dataframe tbody tr th {\n",
       "        vertical-align: top;\n",
       "    }\n",
       "\n",
       "    .dataframe thead th {\n",
       "        text-align: right;\n",
       "    }\n",
       "</style>\n",
       "<table border=\"1\" class=\"dataframe\">\n",
       "  <thead>\n",
       "    <tr style=\"text-align: right;\">\n",
       "      <th></th>\n",
       "      <th>TOT_BENES</th>\n",
       "      <th>AGED_TOT_BENES</th>\n",
       "      <th>DSBLD_TOT_BENES</th>\n",
       "    </tr>\n",
       "  </thead>\n",
       "  <tbody>\n",
       "    <tr>\n",
       "      <th>count</th>\n",
       "      <td>8,004.00</td>\n",
       "      <td>8,004.00</td>\n",
       "      <td>8,004.00</td>\n",
       "    </tr>\n",
       "    <tr>\n",
       "      <th>mean</th>\n",
       "      <td>2,050,967.16</td>\n",
       "      <td>1,758,986.62</td>\n",
       "      <td>291,980.55</td>\n",
       "    </tr>\n",
       "    <tr>\n",
       "      <th>std</th>\n",
       "      <td>7,715,317.96</td>\n",
       "      <td>6,630,868.78</td>\n",
       "      <td>1,094,593.35</td>\n",
       "    </tr>\n",
       "    <tr>\n",
       "      <th>min</th>\n",
       "      <td>1,836.00</td>\n",
       "      <td>1,501.00</td>\n",
       "      <td>335.00</td>\n",
       "    </tr>\n",
       "    <tr>\n",
       "      <th>25%</th>\n",
       "      <td>285,351.50</td>\n",
       "      <td>243,330.50</td>\n",
       "      <td>35,468.00</td>\n",
       "    </tr>\n",
       "    <tr>\n",
       "      <th>50%</th>\n",
       "      <td>732,446.00</td>\n",
       "      <td>601,463.50</td>\n",
       "      <td>118,840.00</td>\n",
       "    </tr>\n",
       "    <tr>\n",
       "      <th>75%</th>\n",
       "      <td>1,334,662.25</td>\n",
       "      <td>1,138,092.25</td>\n",
       "      <td>204,125.00</td>\n",
       "    </tr>\n",
       "    <tr>\n",
       "      <th>max</th>\n",
       "      <td>66,338,178.00</td>\n",
       "      <td>58,759,355.00</td>\n",
       "      <td>9,095,609.00</td>\n",
       "    </tr>\n",
       "  </tbody>\n",
       "</table>\n",
       "</div>"
      ],
      "text/plain": [
       "          TOT_BENES  AGED_TOT_BENES  DSBLD_TOT_BENES\n",
       "count      8,004.00        8,004.00         8,004.00\n",
       "mean   2,050,967.16    1,758,986.62       291,980.55\n",
       "std    7,715,317.96    6,630,868.78     1,094,593.35\n",
       "min        1,836.00        1,501.00           335.00\n",
       "25%      285,351.50      243,330.50        35,468.00\n",
       "50%      732,446.00      601,463.50       118,840.00\n",
       "75%    1,334,662.25    1,138,092.25       204,125.00\n",
       "max   66,338,178.00   58,759,355.00     9,095,609.00"
      ]
     },
     "execution_count": 37,
     "metadata": {},
     "output_type": "execute_result"
    }
   ],
   "source": [
    "#we're choosing the important columns that may give us meaningful results\n",
    "imp_col = ['TOT_BENES','AGED_TOT_BENES','DSBLD_TOT_BENES','PRSCRPTN_DRUG_TOT_BENES']\n",
    "merged_details=df1\n",
    "numerical_merged_cols = merged_details[imp_col]\n",
    "numerical_merged_cols.describe()"
   ]
  },
  {
   "cell_type": "code",
   "execution_count": 38,
   "id": "fee4075a",
   "metadata": {
    "execution": {
     "iopub.execute_input": "2024-10-11T03:45:40.468514Z",
     "iopub.status.busy": "2024-10-11T03:45:40.468086Z",
     "iopub.status.idle": "2024-10-11T03:45:40.477857Z",
     "shell.execute_reply": "2024-10-11T03:45:40.476665Z"
    },
    "papermill": {
     "duration": 0.054142,
     "end_time": "2024-10-11T03:45:40.480465",
     "exception": false,
     "start_time": "2024-10-11T03:45:40.426323",
     "status": "completed"
    },
    "tags": []
   },
   "outputs": [
    {
     "data": {
      "text/plain": [
       "YEAR\n",
       "2013    52425659\n",
       "2014    54013038\n",
       "2015    55496222\n",
       "2016    56981183\n",
       "2017    58457244\n",
       "2018    59989883\n",
       "2019    61514510\n",
       "2020    62840267\n",
       "2021    63892626\n",
       "2022    65116503\n",
       "Name: TOT_BENES, dtype: int64"
      ]
     },
     "execution_count": 38,
     "metadata": {},
     "output_type": "execute_result"
    }
   ],
   "source": [
    "df_yearly_national.groupby('YEAR')['TOT_BENES'].sum()\n"
   ]
  }
 ],
 "metadata": {
  "kaggle": {
   "accelerator": "none",
   "dataSources": [
    {
     "datasetId": 4093442,
     "sourceId": 7101059,
     "sourceType": "datasetVersion"
    }
   ],
   "isGpuEnabled": false,
   "isInternetEnabled": true,
   "language": "python",
   "sourceType": "notebook"
  },
  "kernelspec": {
   "display_name": "Python 3",
   "language": "python",
   "name": "python3"
  },
  "language_info": {
   "codemirror_mode": {
    "name": "ipython",
    "version": 3
   },
   "file_extension": ".py",
   "mimetype": "text/x-python",
   "name": "python",
   "nbconvert_exporter": "python",
   "pygments_lexer": "ipython3",
   "version": "3.10.14"
  },
  "papermill": {
   "default_parameters": {},
   "duration": 29.196236,
   "end_time": "2024-10-11T03:45:41.441959",
   "environment_variables": {},
   "exception": null,
   "input_path": "__notebook__.ipynb",
   "output_path": "__notebook__.ipynb",
   "parameters": {},
   "start_time": "2024-10-11T03:45:12.245723",
   "version": "2.6.0"
  }
 },
 "nbformat": 4,
 "nbformat_minor": 5
}
