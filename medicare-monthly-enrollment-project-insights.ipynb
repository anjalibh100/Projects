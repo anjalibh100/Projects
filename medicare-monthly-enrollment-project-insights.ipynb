{
 "cells": [
  {
   "cell_type": "markdown",
   "id": "6879a0de",
   "metadata": {
    "papermill": {
     "duration": 0.011798,
     "end_time": "2024-10-15T23:23:26.950282",
     "exception": false,
     "start_time": "2024-10-15T23:23:26.938484",
     "status": "completed"
    },
    "tags": []
   },
   "source": [
    "# Medicare Enrollment EDA Project Objective: Clean and analyze Medicare enrollment data to identify key trends."
   ]
  },
  {
   "cell_type": "markdown",
   "id": "4b7b39e0",
   "metadata": {
    "papermill": {
     "duration": 0.011415,
     "end_time": "2024-10-15T23:23:26.972646",
     "exception": false,
     "start_time": "2024-10-15T23:23:26.961231",
     "status": "completed"
    },
    "tags": []
   },
   "source": [
    "<div style=\"width: 100%; background-color: #DBC7BE; color: #0c2461; padding: 10px; border: 3px solid #0c2461; font-size: 15px;margin-bottom: 20px;border-radius:10px;\">\n",
    "    <h3 style=\"color: #0c2461;\">Project Description</h3>\n",
    "    The Medicare Monthly Enrollment data file contains the:\n",
    "    <ul style=\"list-style-type: none; padding-left: 0;\">\n",
    "        <li><span style=\"margin-left: -10px;\">&#8226;</span> Medicare monthly and yearly enrollee counts by geographic area (state/territory and county)</li> \n",
    "        <li><span style=\"margin-left: -10px;\">&#8226;</span> The data is from calendar year 2013 to calendar year 2022</li>\n",
    "        <li><span style=\"margin-left: -10px;\">&#8226;</span> Data Source => https://www2.ccwdata.org/web/guest/home/</li>\n",
    "    </ul>\n",
    "    </span>\n",
    "    <h4 style=\"color: #0c2461;\">The file includes counts for the following:</h4>\n",
    "    <ul style=\"list-style-type: none; padding-left: 0;\">\n",
    "        <li><span style=\"margin-left: -10px;\">&#8226;</span> Total Medicare beneficiaries (Column Name: tot_benes)</li>\n",
    "        <li><span style=\"margin-left: -10px;\">&#8226;</span> Original Medicare beneficiaries (Column Name: Orgnl_Mdcr_Benes)</li>\n",
    "        <li><span style=\"margin-left: -10px;\">&#8226;</span> Medicare Advantage & other health plan beneficiaries (Column Name: MA_and_Oth_Benes)</li>\n",
    "        <li><span style=\"margin-left: -10px;\">&#8226;</span> Aged beneficiaries (Column Name: Aged_Tot_Benes)</li>\n",
    "        <li><span style=\"margin-left: -10px;\">&#8226;</span> Disabled beneficiaries (Column Name: Dsbld_Tot_Benes)</li>\n",
    "        <li><span style=\"margin-left: -10px;\">&#8226;</span> Total Part D (prescription drug) beneficiaries (Column Name: Prscrptn_Drug_Tot_Benes)</li>\n",
    "        <li><span style=\"margin-left: -10px;\">&#8226;</span> Stand-Alone Prescription Drug Plan beneficiaries (Column Name: Prscrptn_Drug_Tot_Benes)</li>\n",
    "        <li><span style=\"margin-left: -10px;\">&#8226;</span> Medicare Advantage Prescription Drug Plan beneficiaries (Column Name: PPrscrptn_Drug_PDP_Benes)</li>\n",
    "        <li><span style=\"margin-left: -10px;\">&#8226;</span> Part D Low-income subsidy beneficiaries (Column Name: Prscrptn_Drug_Deemed_Eligible_Full_LIS_Benes)</li>\n",
    "    </ul>\n",
    "The yearly Medicare enrollee counts are determined using a person-year methodology. For each \n",
    "calendar year, total person-year counts are determined by summing the total number of months that \n",
    "each beneficiary is enrolled during the year and dividing by 12 (Aggregate of 12 months in a year).\n",
    "The monthly counts represent Medicare beneficiaries enrolled in the given month.\n",
    "Yearly counts are aggregated in the source file.\n",
    "\n",
    "\n",
    "<span>\n",
    "</span> \n",
    "</div>"
   ]
  },
  {
   "cell_type": "markdown",
   "id": "ce60fb14",
   "metadata": {
    "papermill": {
     "duration": 0.01026,
     "end_time": "2024-10-15T23:23:26.993598",
     "exception": false,
     "start_time": "2024-10-15T23:23:26.983338",
     "status": "completed"
    },
    "tags": []
   },
   "source": [
    "Steps :\n",
    "* Reading source file into pandas dataframe\n",
    "* Identifying irrelevant data and transforming the data.\n",
    "* Explore data for missing values.\n",
    "* Getting insights from the data to understand trends."
   ]
  },
  {
   "cell_type": "markdown",
   "id": "8bc533ca",
   "metadata": {
    "papermill": {
     "duration": 0.010434,
     "end_time": "2024-10-15T23:23:27.014629",
     "exception": false,
     "start_time": "2024-10-15T23:23:27.004195",
     "status": "completed"
    },
    "tags": []
   },
   "source": [
    "<h2 style=\"position: relative;\">\n",
    "    <span style=\"color: #6a89cc;\">1.</span> \n",
    "    <span style=\"color: #0c2461;\">Libraries and Warnings</span> \n",
    "    <br/>\n",
    "</h2>"
   ]
  },
  {
   "cell_type": "code",
   "execution_count": 1,
   "id": "76674856",
   "metadata": {
    "execution": {
     "iopub.execute_input": "2024-10-15T23:23:27.037483Z",
     "iopub.status.busy": "2024-10-15T23:23:27.037085Z",
     "iopub.status.idle": "2024-10-15T23:23:29.493949Z",
     "shell.execute_reply": "2024-10-15T23:23:29.493109Z"
    },
    "papermill": {
     "duration": 2.470926,
     "end_time": "2024-10-15T23:23:29.496214",
     "exception": false,
     "start_time": "2024-10-15T23:23:27.025288",
     "status": "completed"
    },
    "tags": []
   },
   "outputs": [],
   "source": [
    "import pandas as pd # data processing, CSV file I/O (e.g. pd.read_csv)\n",
    "import matplotlib.pyplot as plt\n",
    "from matplotlib import pyplot as pllt\n",
    "import seaborn as sns"
   ]
  },
  {
   "cell_type": "code",
   "execution_count": 2,
   "id": "118ed7d9",
   "metadata": {
    "_cell_guid": "b1076dfc-b9ad-4769-8c92-a6c4dae69d19",
    "_uuid": "8f2839f25d086af736a60e9eeb907d3b93b6e0e5",
    "execution": {
     "iopub.execute_input": "2024-10-15T23:23:29.519975Z",
     "iopub.status.busy": "2024-10-15T23:23:29.519196Z",
     "iopub.status.idle": "2024-10-15T23:23:29.601132Z",
     "shell.execute_reply": "2024-10-15T23:23:29.600292Z"
    },
    "papermill": {
     "duration": 0.096461,
     "end_time": "2024-10-15T23:23:29.603501",
     "exception": false,
     "start_time": "2024-10-15T23:23:29.507040",
     "status": "completed"
    },
    "tags": []
   },
   "outputs": [],
   "source": [
    "from plotly.offline import init_notebook_mode, iplot\n",
    "from wordcloud import WordCloud\n",
    "import plotly.graph_objs as go\n",
    "from plotly import tools\n",
    "import seaborn as sns\n"
   ]
  },
  {
   "cell_type": "code",
   "execution_count": 3,
   "id": "83270e86",
   "metadata": {
    "execution": {
     "iopub.execute_input": "2024-10-15T23:23:29.627047Z",
     "iopub.status.busy": "2024-10-15T23:23:29.626171Z",
     "iopub.status.idle": "2024-10-15T23:23:30.474885Z",
     "shell.execute_reply": "2024-10-15T23:23:30.473795Z"
    },
    "papermill": {
     "duration": 0.862569,
     "end_time": "2024-10-15T23:23:30.476883",
     "exception": false,
     "start_time": "2024-10-15T23:23:29.614314",
     "status": "completed"
    },
    "tags": []
   },
   "outputs": [
    {
     "data": {
      "text/html": [
       "        <script type=\"text/javascript\">\n",
       "        window.PlotlyConfig = {MathJaxConfig: 'local'};\n",
       "        if (window.MathJax && window.MathJax.Hub && window.MathJax.Hub.Config) {window.MathJax.Hub.Config({SVG: {font: \"STIX-Web\"}});}\n",
       "        if (typeof require !== 'undefined') {\n",
       "        require.undef(\"plotly\");\n",
       "        requirejs.config({\n",
       "            paths: {\n",
       "                'plotly': ['https://cdn.plot.ly/plotly-2.32.0.min']\n",
       "            }\n",
       "        });\n",
       "        require(['plotly'], function(Plotly) {\n",
       "            window._Plotly = Plotly;\n",
       "        });\n",
       "        }\n",
       "        </script>\n",
       "        "
      ]
     },
     "metadata": {},
     "output_type": "display_data"
    }
   ],
   "source": [
    "import warnings\n",
    "warnings.filterwarnings(\"ignore\")\n",
    "import pandasql as ps\n",
    "init_notebook_mode(connected=True)"
   ]
  },
  {
   "cell_type": "markdown",
   "id": "30a72c60",
   "metadata": {
    "papermill": {
     "duration": 0.010434,
     "end_time": "2024-10-15T23:23:30.498163",
     "exception": false,
     "start_time": "2024-10-15T23:23:30.487729",
     "status": "completed"
    },
    "tags": []
   },
   "source": [
    "<h2 style=\"position: relative;\">\n",
    "    <span style=\"color: #6a89cc;\">2.</span> \n",
    "    <span style=\"color: #0c2461;\">Explore the Medicare data set</span> \n",
    "    <br/>\n",
    "</h2>"
   ]
  },
  {
   "cell_type": "code",
   "execution_count": 4,
   "id": "cf69edb0",
   "metadata": {
    "execution": {
     "iopub.execute_input": "2024-10-15T23:23:30.521597Z",
     "iopub.status.busy": "2024-10-15T23:23:30.520571Z",
     "iopub.status.idle": "2024-10-15T23:23:34.494572Z",
     "shell.execute_reply": "2024-10-15T23:23:34.493102Z"
    },
    "papermill": {
     "duration": 3.989256,
     "end_time": "2024-10-15T23:23:34.498053",
     "exception": false,
     "start_time": "2024-10-15T23:23:30.508797",
     "status": "completed"
    },
    "tags": []
   },
   "outputs": [],
   "source": [
    "# Path of the file to read and read the data into the python pandas dataset\n",
    "filepath = \"/kaggle/input/Medicare Monthly Enrollment Data_August 2023.csv\"\n",
    "#data=pd.read_csv(filepath,index_col=\"YEAR\", parse_dates=True, encoding='Windows-1252')\n",
    "data=pd.read_csv(filepath, parse_dates=True, encoding='Windows-1252')\n",
    "# importing the required library"
   ]
  },
  {
   "cell_type": "code",
   "execution_count": 5,
   "id": "29b6ada9",
   "metadata": {
    "execution": {
     "iopub.execute_input": "2024-10-15T23:23:34.524853Z",
     "iopub.status.busy": "2024-10-15T23:23:34.524367Z",
     "iopub.status.idle": "2024-10-15T23:23:34.560549Z",
     "shell.execute_reply": "2024-10-15T23:23:34.559576Z"
    },
    "papermill": {
     "duration": 0.052536,
     "end_time": "2024-10-15T23:23:34.562953",
     "exception": false,
     "start_time": "2024-10-15T23:23:34.510417",
     "status": "completed"
    },
    "tags": []
   },
   "outputs": [
    {
     "data": {
      "text/html": [
       "<div>\n",
       "<style scoped>\n",
       "    .dataframe tbody tr th:only-of-type {\n",
       "        vertical-align: middle;\n",
       "    }\n",
       "\n",
       "    .dataframe tbody tr th {\n",
       "        vertical-align: top;\n",
       "    }\n",
       "\n",
       "    .dataframe thead th {\n",
       "        text-align: right;\n",
       "    }\n",
       "</style>\n",
       "<table border=\"1\" class=\"dataframe\">\n",
       "  <thead>\n",
       "    <tr style=\"text-align: right;\">\n",
       "      <th></th>\n",
       "      <th>YEAR</th>\n",
       "      <th>MONTH</th>\n",
       "      <th>BENE_GEO_LVL</th>\n",
       "      <th>BENE_STATE_ABRVTN</th>\n",
       "      <th>BENE_STATE_DESC</th>\n",
       "      <th>BENE_COUNTY_DESC</th>\n",
       "      <th>BENE_FIPS_CD</th>\n",
       "      <th>TOT_BENES</th>\n",
       "      <th>ORGNL_MDCR_BENES</th>\n",
       "      <th>MA_AND_OTH_BENES</th>\n",
       "      <th>...</th>\n",
       "      <th>A_B_TOT_BENES</th>\n",
       "      <th>A_B_ORGNL_MDCR_BENES</th>\n",
       "      <th>A_B_MA_AND_OTH_BENES</th>\n",
       "      <th>PRSCRPTN_DRUG_TOT_BENES</th>\n",
       "      <th>PRSCRPTN_DRUG_PDP_BENES</th>\n",
       "      <th>PRSCRPTN_DRUG_MAPD_BENES</th>\n",
       "      <th>PRSCRPTN_DRUG_DEEMED_ELIGIBLE_FULL_LIS_BENES</th>\n",
       "      <th>PRSCRPTN_DRUG_FULL_LIS_BENES</th>\n",
       "      <th>PRSCRPTN_DRUG_PARTIAL_LIS_BENES</th>\n",
       "      <th>PRSCRPTN_DRUG_NO_LIS_BENES</th>\n",
       "    </tr>\n",
       "  </thead>\n",
       "  <tbody>\n",
       "    <tr>\n",
       "      <th>0</th>\n",
       "      <td>2013</td>\n",
       "      <td>Year</td>\n",
       "      <td>National</td>\n",
       "      <td>US</td>\n",
       "      <td>National</td>\n",
       "      <td>Total</td>\n",
       "      <td></td>\n",
       "      <td>52425659</td>\n",
       "      <td>37613096</td>\n",
       "      <td>14812563</td>\n",
       "      <td>...</td>\n",
       "      <td>47620905</td>\n",
       "      <td>32831884</td>\n",
       "      <td>14789022</td>\n",
       "      <td>35679758</td>\n",
       "      <td>22661451</td>\n",
       "      <td>13018307</td>\n",
       "      <td>10000861</td>\n",
       "      <td>1030113.0</td>\n",
       "      <td>409204.0</td>\n",
       "      <td>24239580</td>\n",
       "    </tr>\n",
       "    <tr>\n",
       "      <th>1</th>\n",
       "      <td>2013</td>\n",
       "      <td>Year</td>\n",
       "      <td>State</td>\n",
       "      <td>AL</td>\n",
       "      <td>Alabama</td>\n",
       "      <td>Total</td>\n",
       "      <td>01</td>\n",
       "      <td>921477.0</td>\n",
       "      <td>711448.0</td>\n",
       "      <td>210029.0</td>\n",
       "      <td>...</td>\n",
       "      <td>857619.0</td>\n",
       "      <td>647647.0</td>\n",
       "      <td>209972.0</td>\n",
       "      <td>637247.0</td>\n",
       "      <td>437749.0</td>\n",
       "      <td>199498.0</td>\n",
       "      <td>205496.0</td>\n",
       "      <td>32790.0</td>\n",
       "      <td>11452.0</td>\n",
       "      <td>387510.0</td>\n",
       "    </tr>\n",
       "    <tr>\n",
       "      <th>2</th>\n",
       "      <td>2013</td>\n",
       "      <td>Year</td>\n",
       "      <td>County</td>\n",
       "      <td>AL</td>\n",
       "      <td>Alabama</td>\n",
       "      <td>Autauga</td>\n",
       "      <td>01001</td>\n",
       "      <td>9323.0</td>\n",
       "      <td>6484.0</td>\n",
       "      <td>2840.0</td>\n",
       "      <td>...</td>\n",
       "      <td>8708.0</td>\n",
       "      <td>5868.0</td>\n",
       "      <td>2840.0</td>\n",
       "      <td>6036.0</td>\n",
       "      <td>3268.0</td>\n",
       "      <td>2767.0</td>\n",
       "      <td>1839.0</td>\n",
       "      <td>296.0</td>\n",
       "      <td>105.0</td>\n",
       "      <td>3796.0</td>\n",
       "    </tr>\n",
       "    <tr>\n",
       "      <th>3</th>\n",
       "      <td>2013</td>\n",
       "      <td>Year</td>\n",
       "      <td>County</td>\n",
       "      <td>AL</td>\n",
       "      <td>Alabama</td>\n",
       "      <td>Baldwin</td>\n",
       "      <td>01003</td>\n",
       "      <td>41033.0</td>\n",
       "      <td>28775.0</td>\n",
       "      <td>12258.0</td>\n",
       "      <td>...</td>\n",
       "      <td>38559.0</td>\n",
       "      <td>26304.0</td>\n",
       "      <td>12255.0</td>\n",
       "      <td>27352.0</td>\n",
       "      <td>15593.0</td>\n",
       "      <td>11759.0</td>\n",
       "      <td>5276.0</td>\n",
       "      <td>867.0</td>\n",
       "      <td>379.0</td>\n",
       "      <td>20830.0</td>\n",
       "    </tr>\n",
       "    <tr>\n",
       "      <th>4</th>\n",
       "      <td>2013</td>\n",
       "      <td>Year</td>\n",
       "      <td>County</td>\n",
       "      <td>AL</td>\n",
       "      <td>Alabama</td>\n",
       "      <td>Barbour</td>\n",
       "      <td>01005</td>\n",
       "      <td>5847.0</td>\n",
       "      <td>5036.0</td>\n",
       "      <td>810.0</td>\n",
       "      <td>...</td>\n",
       "      <td>5456.0</td>\n",
       "      <td>4645.0</td>\n",
       "      <td>810.0</td>\n",
       "      <td>4170.0</td>\n",
       "      <td>3410.0</td>\n",
       "      <td>759.0</td>\n",
       "      <td>1783.0</td>\n",
       "      <td>304.0</td>\n",
       "      <td>73.0</td>\n",
       "      <td>2009.0</td>\n",
       "    </tr>\n",
       "    <tr>\n",
       "      <th>5</th>\n",
       "      <td>2013</td>\n",
       "      <td>Year</td>\n",
       "      <td>County</td>\n",
       "      <td>AL</td>\n",
       "      <td>Alabama</td>\n",
       "      <td>Bibb</td>\n",
       "      <td>01007</td>\n",
       "      <td>4574.0</td>\n",
       "      <td>2994.0</td>\n",
       "      <td>1580.0</td>\n",
       "      <td>...</td>\n",
       "      <td>4338.0</td>\n",
       "      <td>2759.0</td>\n",
       "      <td>1580.0</td>\n",
       "      <td>3359.0</td>\n",
       "      <td>1850.0</td>\n",
       "      <td>1509.0</td>\n",
       "      <td>1298.0</td>\n",
       "      <td>228.0</td>\n",
       "      <td>85.0</td>\n",
       "      <td>1749.0</td>\n",
       "    </tr>\n",
       "    <tr>\n",
       "      <th>6</th>\n",
       "      <td>2013</td>\n",
       "      <td>Year</td>\n",
       "      <td>County</td>\n",
       "      <td>AL</td>\n",
       "      <td>Alabama</td>\n",
       "      <td>Blount</td>\n",
       "      <td>01009</td>\n",
       "      <td>11183.0</td>\n",
       "      <td>6695.0</td>\n",
       "      <td>4488.0</td>\n",
       "      <td>...</td>\n",
       "      <td>10502.0</td>\n",
       "      <td>6014.0</td>\n",
       "      <td>4488.0</td>\n",
       "      <td>8479.0</td>\n",
       "      <td>4148.0</td>\n",
       "      <td>4331.0</td>\n",
       "      <td>2302.0</td>\n",
       "      <td>387.0</td>\n",
       "      <td>174.0</td>\n",
       "      <td>5616.0</td>\n",
       "    </tr>\n",
       "    <tr>\n",
       "      <th>7</th>\n",
       "      <td>2013</td>\n",
       "      <td>Year</td>\n",
       "      <td>County</td>\n",
       "      <td>AL</td>\n",
       "      <td>Alabama</td>\n",
       "      <td>Bullock</td>\n",
       "      <td>01011</td>\n",
       "      <td>1886.0</td>\n",
       "      <td>1434.0</td>\n",
       "      <td>452.0</td>\n",
       "      <td>...</td>\n",
       "      <td>1719.0</td>\n",
       "      <td>1267.0</td>\n",
       "      <td>452.0</td>\n",
       "      <td>1446.0</td>\n",
       "      <td>1006.0</td>\n",
       "      <td>440.0</td>\n",
       "      <td>738.0</td>\n",
       "      <td>133.0</td>\n",
       "      <td>23.0</td>\n",
       "      <td>552.0</td>\n",
       "    </tr>\n",
       "    <tr>\n",
       "      <th>8</th>\n",
       "      <td>2013</td>\n",
       "      <td>Year</td>\n",
       "      <td>County</td>\n",
       "      <td>AL</td>\n",
       "      <td>Alabama</td>\n",
       "      <td>Butler</td>\n",
       "      <td>01013</td>\n",
       "      <td>4576.0</td>\n",
       "      <td>4151.0</td>\n",
       "      <td>425.0</td>\n",
       "      <td>...</td>\n",
       "      <td>4336.0</td>\n",
       "      <td>3911.0</td>\n",
       "      <td>425.0</td>\n",
       "      <td>3428.0</td>\n",
       "      <td>3030.0</td>\n",
       "      <td>397.0</td>\n",
       "      <td>1394.0</td>\n",
       "      <td>226.0</td>\n",
       "      <td>70.0</td>\n",
       "      <td>1737.0</td>\n",
       "    </tr>\n",
       "    <tr>\n",
       "      <th>9</th>\n",
       "      <td>2013</td>\n",
       "      <td>Year</td>\n",
       "      <td>County</td>\n",
       "      <td>AL</td>\n",
       "      <td>Alabama</td>\n",
       "      <td>Calhoun</td>\n",
       "      <td>01015</td>\n",
       "      <td>25108.0</td>\n",
       "      <td>22073.0</td>\n",
       "      <td>3036.0</td>\n",
       "      <td>...</td>\n",
       "      <td>23187.0</td>\n",
       "      <td>20151.0</td>\n",
       "      <td>3036.0</td>\n",
       "      <td>15167.0</td>\n",
       "      <td>12254.0</td>\n",
       "      <td>2913.0</td>\n",
       "      <td>5648.0</td>\n",
       "      <td>899.0</td>\n",
       "      <td>299.0</td>\n",
       "      <td>8321.0</td>\n",
       "    </tr>\n",
       "  </tbody>\n",
       "</table>\n",
       "<p>10 rows × 26 columns</p>\n",
       "</div>"
      ],
      "text/plain": [
       "   YEAR MONTH BENE_GEO_LVL BENE_STATE_ABRVTN BENE_STATE_DESC BENE_COUNTY_DESC  \\\n",
       "0  2013  Year     National                US        National            Total   \n",
       "1  2013  Year        State                AL         Alabama            Total   \n",
       "2  2013  Year       County                AL         Alabama          Autauga   \n",
       "3  2013  Year       County                AL         Alabama          Baldwin   \n",
       "4  2013  Year       County                AL         Alabama          Barbour   \n",
       "5  2013  Year       County                AL         Alabama             Bibb   \n",
       "6  2013  Year       County                AL         Alabama           Blount   \n",
       "7  2013  Year       County                AL         Alabama          Bullock   \n",
       "8  2013  Year       County                AL         Alabama           Butler   \n",
       "9  2013  Year       County                AL         Alabama          Calhoun   \n",
       "\n",
       "  BENE_FIPS_CD TOT_BENES ORGNL_MDCR_BENES MA_AND_OTH_BENES  ... A_B_TOT_BENES  \\\n",
       "0               52425659         37613096         14812563  ...      47620905   \n",
       "1           01  921477.0         711448.0         210029.0  ...      857619.0   \n",
       "2        01001    9323.0           6484.0           2840.0  ...        8708.0   \n",
       "3        01003   41033.0          28775.0          12258.0  ...       38559.0   \n",
       "4        01005    5847.0           5036.0            810.0  ...        5456.0   \n",
       "5        01007    4574.0           2994.0           1580.0  ...        4338.0   \n",
       "6        01009   11183.0           6695.0           4488.0  ...       10502.0   \n",
       "7        01011    1886.0           1434.0            452.0  ...        1719.0   \n",
       "8        01013    4576.0           4151.0            425.0  ...        4336.0   \n",
       "9        01015   25108.0          22073.0           3036.0  ...       23187.0   \n",
       "\n",
       "  A_B_ORGNL_MDCR_BENES A_B_MA_AND_OTH_BENES PRSCRPTN_DRUG_TOT_BENES  \\\n",
       "0             32831884             14789022                35679758   \n",
       "1             647647.0             209972.0                637247.0   \n",
       "2               5868.0               2840.0                  6036.0   \n",
       "3              26304.0              12255.0                 27352.0   \n",
       "4               4645.0                810.0                  4170.0   \n",
       "5               2759.0               1580.0                  3359.0   \n",
       "6               6014.0               4488.0                  8479.0   \n",
       "7               1267.0                452.0                  1446.0   \n",
       "8               3911.0                425.0                  3428.0   \n",
       "9              20151.0               3036.0                 15167.0   \n",
       "\n",
       "  PRSCRPTN_DRUG_PDP_BENES PRSCRPTN_DRUG_MAPD_BENES  \\\n",
       "0                22661451                 13018307   \n",
       "1                437749.0                 199498.0   \n",
       "2                  3268.0                   2767.0   \n",
       "3                 15593.0                  11759.0   \n",
       "4                  3410.0                    759.0   \n",
       "5                  1850.0                   1509.0   \n",
       "6                  4148.0                   4331.0   \n",
       "7                  1006.0                    440.0   \n",
       "8                  3030.0                    397.0   \n",
       "9                 12254.0                   2913.0   \n",
       "\n",
       "  PRSCRPTN_DRUG_DEEMED_ELIGIBLE_FULL_LIS_BENES PRSCRPTN_DRUG_FULL_LIS_BENES  \\\n",
       "0                                     10000861                    1030113.0   \n",
       "1                                     205496.0                      32790.0   \n",
       "2                                       1839.0                        296.0   \n",
       "3                                       5276.0                        867.0   \n",
       "4                                       1783.0                        304.0   \n",
       "5                                       1298.0                        228.0   \n",
       "6                                       2302.0                        387.0   \n",
       "7                                        738.0                        133.0   \n",
       "8                                       1394.0                        226.0   \n",
       "9                                       5648.0                        899.0   \n",
       "\n",
       "  PRSCRPTN_DRUG_PARTIAL_LIS_BENES PRSCRPTN_DRUG_NO_LIS_BENES  \n",
       "0                        409204.0                   24239580  \n",
       "1                         11452.0                   387510.0  \n",
       "2                           105.0                     3796.0  \n",
       "3                           379.0                    20830.0  \n",
       "4                            73.0                     2009.0  \n",
       "5                            85.0                     1749.0  \n",
       "6                           174.0                     5616.0  \n",
       "7                            23.0                      552.0  \n",
       "8                            70.0                     1737.0  \n",
       "9                           299.0                     8321.0  \n",
       "\n",
       "[10 rows x 26 columns]"
      ]
     },
     "execution_count": 5,
     "metadata": {},
     "output_type": "execute_result"
    }
   ],
   "source": [
    "data.head(10) #Reading the first 10 rows of the dataset"
   ]
  },
  {
   "cell_type": "markdown",
   "id": "d0379f9b",
   "metadata": {
    "papermill": {
     "duration": 0.014714,
     "end_time": "2024-10-15T23:23:34.593089",
     "exception": false,
     "start_time": "2024-10-15T23:23:34.578375",
     "status": "completed"
    },
    "tags": []
   },
   "source": [
    "**Observation: Medicare data is categorized by Year, Month, National, State and County.**"
   ]
  },
  {
   "cell_type": "code",
   "execution_count": 6,
   "id": "aa583f09",
   "metadata": {
    "execution": {
     "iopub.execute_input": "2024-10-15T23:23:34.617646Z",
     "iopub.status.busy": "2024-10-15T23:23:34.617252Z",
     "iopub.status.idle": "2024-10-15T23:23:34.622776Z",
     "shell.execute_reply": "2024-10-15T23:23:34.621801Z"
    },
    "papermill": {
     "duration": 0.020224,
     "end_time": "2024-10-15T23:23:34.624880",
     "exception": false,
     "start_time": "2024-10-15T23:23:34.604656",
     "status": "completed"
    },
    "tags": []
   },
   "outputs": [
    {
     "name": "stdout",
     "output_type": "stream",
     "text": [
      "The Dataset have 460290 rows and 26 columns.\n"
     ]
    }
   ],
   "source": [
    "row, col = data.shape\n",
    "print(\"The Dataset have\",row,\"rows and\",col,\"columns.\")"
   ]
  },
  {
   "cell_type": "markdown",
   "id": "6f6b1277",
   "metadata": {
    "papermill": {
     "duration": 0.011112,
     "end_time": "2024-10-15T23:23:34.647408",
     "exception": false,
     "start_time": "2024-10-15T23:23:34.636296",
     "status": "completed"
    },
    "tags": []
   },
   "source": [
    "**Observation: Medicare dataset has 460290 rows and 26 columns.**"
   ]
  },
  {
   "cell_type": "code",
   "execution_count": 7,
   "id": "750acd1a",
   "metadata": {
    "execution": {
     "iopub.execute_input": "2024-10-15T23:23:34.672142Z",
     "iopub.status.busy": "2024-10-15T23:23:34.671390Z",
     "iopub.status.idle": "2024-10-15T23:23:35.232810Z",
     "shell.execute_reply": "2024-10-15T23:23:35.231826Z"
    },
    "papermill": {
     "duration": 0.576088,
     "end_time": "2024-10-15T23:23:35.234963",
     "exception": false,
     "start_time": "2024-10-15T23:23:34.658875",
     "status": "completed"
    },
    "tags": []
   },
   "outputs": [
    {
     "name": "stdout",
     "output_type": "stream",
     "text": [
      "<class 'pandas.core.frame.DataFrame'>\n",
      "RangeIndex: 460290 entries, 0 to 460289\n",
      "Data columns (total 26 columns):\n",
      " #   Column                                        Non-Null Count   Dtype \n",
      "---  ------                                        --------------   ----- \n",
      " 0   YEAR                                          460290 non-null  int64 \n",
      " 1   MONTH                                         460290 non-null  object\n",
      " 2   BENE_GEO_LVL                                  460290 non-null  object\n",
      " 3   BENE_STATE_ABRVTN                             460290 non-null  object\n",
      " 4   BENE_STATE_DESC                               460290 non-null  object\n",
      " 5   BENE_COUNTY_DESC                              460290 non-null  object\n",
      " 6   BENE_FIPS_CD                                  460290 non-null  object\n",
      " 7   TOT_BENES                                     460290 non-null  object\n",
      " 8   ORGNL_MDCR_BENES                              460290 non-null  object\n",
      " 9   MA_AND_OTH_BENES                              460290 non-null  object\n",
      " 10  AGED_TOT_BENES                                460290 non-null  object\n",
      " 11  AGED_ESRD_BENES                               460290 non-null  object\n",
      " 12  AGED_NO_ESRD_BENES                            460290 non-null  object\n",
      " 13  DSBLD_TOT_BENES                               460290 non-null  object\n",
      " 14  DSBLD_ESRD_AND_ESRD_ONLY_BENES                460290 non-null  object\n",
      " 15  DSBLD_NO_ESRD_BENES                           460290 non-null  object\n",
      " 16  A_B_TOT_BENES                                 460290 non-null  object\n",
      " 17  A_B_ORGNL_MDCR_BENES                          460290 non-null  object\n",
      " 18  A_B_MA_AND_OTH_BENES                          460290 non-null  object\n",
      " 19  PRSCRPTN_DRUG_TOT_BENES                       460290 non-null  object\n",
      " 20  PRSCRPTN_DRUG_PDP_BENES                       460290 non-null  object\n",
      " 21  PRSCRPTN_DRUG_MAPD_BENES                      460290 non-null  object\n",
      " 22  PRSCRPTN_DRUG_DEEMED_ELIGIBLE_FULL_LIS_BENES  460290 non-null  object\n",
      " 23  PRSCRPTN_DRUG_FULL_LIS_BENES                  460290 non-null  object\n",
      " 24  PRSCRPTN_DRUG_PARTIAL_LIS_BENES               460290 non-null  object\n",
      " 25  PRSCRPTN_DRUG_NO_LIS_BENES                    460290 non-null  object\n",
      "dtypes: int64(1), object(25)\n",
      "memory usage: 91.3+ MB\n"
     ]
    }
   ],
   "source": [
    "#Check the structure of the dataframe\n",
    "data.info()"
   ]
  },
  {
   "cell_type": "markdown",
   "id": "a5497b48",
   "metadata": {
    "papermill": {
     "duration": 0.011274,
     "end_time": "2024-10-15T23:23:35.257974",
     "exception": false,
     "start_time": "2024-10-15T23:23:35.246700",
     "status": "completed"
    },
    "tags": []
   },
   "source": [
    "<h3 style=\"color: #0c2461;\">Observation</h3>\n",
    "<h5 style=\"color: #0c2461;\">Most of the columns have object datatype. \n",
    "</h5>"
   ]
  },
  {
   "cell_type": "code",
   "execution_count": 8,
   "id": "784f6846",
   "metadata": {
    "execution": {
     "iopub.execute_input": "2024-10-15T23:23:35.282883Z",
     "iopub.status.busy": "2024-10-15T23:23:35.282490Z",
     "iopub.status.idle": "2024-10-15T23:23:37.763689Z",
     "shell.execute_reply": "2024-10-15T23:23:37.762659Z"
    },
    "papermill": {
     "duration": 2.495835,
     "end_time": "2024-10-15T23:23:37.765735",
     "exception": false,
     "start_time": "2024-10-15T23:23:35.269900",
     "status": "completed"
    },
    "tags": []
   },
   "outputs": [
    {
     "data": {
      "text/html": [
       "<div>\n",
       "<style scoped>\n",
       "    .dataframe tbody tr th:only-of-type {\n",
       "        vertical-align: middle;\n",
       "    }\n",
       "\n",
       "    .dataframe tbody tr th {\n",
       "        vertical-align: top;\n",
       "    }\n",
       "\n",
       "    .dataframe thead th {\n",
       "        text-align: right;\n",
       "    }\n",
       "</style>\n",
       "<table border=\"1\" class=\"dataframe\">\n",
       "  <thead>\n",
       "    <tr style=\"text-align: right;\">\n",
       "      <th></th>\n",
       "      <th>MONTH</th>\n",
       "      <th>BENE_GEO_LVL</th>\n",
       "      <th>BENE_STATE_ABRVTN</th>\n",
       "      <th>BENE_STATE_DESC</th>\n",
       "      <th>BENE_COUNTY_DESC</th>\n",
       "      <th>BENE_FIPS_CD</th>\n",
       "      <th>TOT_BENES</th>\n",
       "      <th>ORGNL_MDCR_BENES</th>\n",
       "      <th>MA_AND_OTH_BENES</th>\n",
       "      <th>AGED_TOT_BENES</th>\n",
       "      <th>...</th>\n",
       "      <th>A_B_TOT_BENES</th>\n",
       "      <th>A_B_ORGNL_MDCR_BENES</th>\n",
       "      <th>A_B_MA_AND_OTH_BENES</th>\n",
       "      <th>PRSCRPTN_DRUG_TOT_BENES</th>\n",
       "      <th>PRSCRPTN_DRUG_PDP_BENES</th>\n",
       "      <th>PRSCRPTN_DRUG_MAPD_BENES</th>\n",
       "      <th>PRSCRPTN_DRUG_DEEMED_ELIGIBLE_FULL_LIS_BENES</th>\n",
       "      <th>PRSCRPTN_DRUG_FULL_LIS_BENES</th>\n",
       "      <th>PRSCRPTN_DRUG_PARTIAL_LIS_BENES</th>\n",
       "      <th>PRSCRPTN_DRUG_NO_LIS_BENES</th>\n",
       "    </tr>\n",
       "  </thead>\n",
       "  <tbody>\n",
       "    <tr>\n",
       "      <th>count</th>\n",
       "      <td>460290</td>\n",
       "      <td>460290</td>\n",
       "      <td>460290</td>\n",
       "      <td>460290</td>\n",
       "      <td>460290</td>\n",
       "      <td>460290</td>\n",
       "      <td>460290</td>\n",
       "      <td>460290</td>\n",
       "      <td>460290</td>\n",
       "      <td>460290</td>\n",
       "      <td>...</td>\n",
       "      <td>460290</td>\n",
       "      <td>460290</td>\n",
       "      <td>460290</td>\n",
       "      <td>460290</td>\n",
       "      <td>460290</td>\n",
       "      <td>460290</td>\n",
       "      <td>460290</td>\n",
       "      <td>460290</td>\n",
       "      <td>460290</td>\n",
       "      <td>460290</td>\n",
       "    </tr>\n",
       "    <tr>\n",
       "      <th>unique</th>\n",
       "      <td>13</td>\n",
       "      <td>3</td>\n",
       "      <td>59</td>\n",
       "      <td>59</td>\n",
       "      <td>1931</td>\n",
       "      <td>3338</td>\n",
       "      <td>79910</td>\n",
       "      <td>64457</td>\n",
       "      <td>50211</td>\n",
       "      <td>74222</td>\n",
       "      <td>...</td>\n",
       "      <td>76732</td>\n",
       "      <td>60221</td>\n",
       "      <td>50152</td>\n",
       "      <td>68994</td>\n",
       "      <td>52106</td>\n",
       "      <td>47287</td>\n",
       "      <td>34782</td>\n",
       "      <td>11266</td>\n",
       "      <td>6931</td>\n",
       "      <td>59910</td>\n",
       "    </tr>\n",
       "    <tr>\n",
       "      <th>top</th>\n",
       "      <td>January</td>\n",
       "      <td>County</td>\n",
       "      <td>TX</td>\n",
       "      <td>Texas</td>\n",
       "      <td>Total</td>\n",
       "      <td></td>\n",
       "      <td>*</td>\n",
       "      <td>*</td>\n",
       "      <td>*</td>\n",
       "      <td>*</td>\n",
       "      <td>...</td>\n",
       "      <td>*</td>\n",
       "      <td>*</td>\n",
       "      <td>*</td>\n",
       "      <td>*</td>\n",
       "      <td>*</td>\n",
       "      <td>*</td>\n",
       "      <td>*</td>\n",
       "      <td>*</td>\n",
       "      <td>*</td>\n",
       "      <td>*</td>\n",
       "    </tr>\n",
       "    <tr>\n",
       "      <th>freq</th>\n",
       "      <td>36690</td>\n",
       "      <td>452148</td>\n",
       "      <td>35328</td>\n",
       "      <td>35328</td>\n",
       "      <td>8004</td>\n",
       "      <td>276</td>\n",
       "      <td>7518</td>\n",
       "      <td>15439</td>\n",
       "      <td>15439</td>\n",
       "      <td>10483</td>\n",
       "      <td>...</td>\n",
       "      <td>7544</td>\n",
       "      <td>15444</td>\n",
       "      <td>15444</td>\n",
       "      <td>7656</td>\n",
       "      <td>22727</td>\n",
       "      <td>22727</td>\n",
       "      <td>9675</td>\n",
       "      <td>85130</td>\n",
       "      <td>85130</td>\n",
       "      <td>9675</td>\n",
       "    </tr>\n",
       "  </tbody>\n",
       "</table>\n",
       "<p>4 rows × 25 columns</p>\n",
       "</div>"
      ],
      "text/plain": [
       "          MONTH BENE_GEO_LVL BENE_STATE_ABRVTN BENE_STATE_DESC  \\\n",
       "count    460290       460290            460290          460290   \n",
       "unique       13            3                59              59   \n",
       "top     January       County                TX           Texas   \n",
       "freq      36690       452148             35328           35328   \n",
       "\n",
       "       BENE_COUNTY_DESC BENE_FIPS_CD TOT_BENES ORGNL_MDCR_BENES  \\\n",
       "count            460290       460290    460290           460290   \n",
       "unique             1931         3338     79910            64457   \n",
       "top               Total                      *                *   \n",
       "freq               8004          276      7518            15439   \n",
       "\n",
       "       MA_AND_OTH_BENES AGED_TOT_BENES  ... A_B_TOT_BENES  \\\n",
       "count            460290         460290  ...        460290   \n",
       "unique            50211          74222  ...         76732   \n",
       "top                   *              *  ...             *   \n",
       "freq              15439          10483  ...          7544   \n",
       "\n",
       "       A_B_ORGNL_MDCR_BENES A_B_MA_AND_OTH_BENES PRSCRPTN_DRUG_TOT_BENES  \\\n",
       "count                460290               460290                  460290   \n",
       "unique                60221                50152                   68994   \n",
       "top                       *                    *                       *   \n",
       "freq                  15444                15444                    7656   \n",
       "\n",
       "       PRSCRPTN_DRUG_PDP_BENES PRSCRPTN_DRUG_MAPD_BENES  \\\n",
       "count                   460290                   460290   \n",
       "unique                   52106                    47287   \n",
       "top                          *                        *   \n",
       "freq                     22727                    22727   \n",
       "\n",
       "       PRSCRPTN_DRUG_DEEMED_ELIGIBLE_FULL_LIS_BENES  \\\n",
       "count                                        460290   \n",
       "unique                                        34782   \n",
       "top                                               *   \n",
       "freq                                           9675   \n",
       "\n",
       "       PRSCRPTN_DRUG_FULL_LIS_BENES PRSCRPTN_DRUG_PARTIAL_LIS_BENES  \\\n",
       "count                        460290                          460290   \n",
       "unique                        11266                            6931   \n",
       "top                               *                               *   \n",
       "freq                          85130                           85130   \n",
       "\n",
       "       PRSCRPTN_DRUG_NO_LIS_BENES  \n",
       "count                      460290  \n",
       "unique                      59910  \n",
       "top                             *  \n",
       "freq                         9675  \n",
       "\n",
       "[4 rows x 25 columns]"
      ]
     },
     "execution_count": 8,
     "metadata": {},
     "output_type": "execute_result"
    }
   ],
   "source": [
    "data.describe(include = \"object\")"
   ]
  },
  {
   "cell_type": "markdown",
   "id": "9b3a2c1d",
   "metadata": {
    "papermill": {
     "duration": 0.011566,
     "end_time": "2024-10-15T23:23:37.789473",
     "exception": false,
     "start_time": "2024-10-15T23:23:37.777907",
     "status": "completed"
    },
    "tags": []
   },
   "source": [
    "<h3 style=\"color: #0c2461;\">Observations</h3>\n",
    "<h5 style=\"color: #0c2461;\">For the object data type column, the values are stored as \"*\". This should be replaced by 0. Conversion is required from object type to Integer for all columns which have counts of beneficiaries (integer datatype)</h5>"
   ]
  },
  {
   "cell_type": "code",
   "execution_count": 9,
   "id": "f7225ec5",
   "metadata": {
    "execution": {
     "iopub.execute_input": "2024-10-15T23:23:37.814769Z",
     "iopub.status.busy": "2024-10-15T23:23:37.814378Z",
     "iopub.status.idle": "2024-10-15T23:23:37.945709Z",
     "shell.execute_reply": "2024-10-15T23:23:37.944693Z"
    },
    "papermill": {
     "duration": 0.146397,
     "end_time": "2024-10-15T23:23:37.947976",
     "exception": false,
     "start_time": "2024-10-15T23:23:37.801579",
     "status": "completed"
    },
    "tags": []
   },
   "outputs": [
    {
     "data": {
      "text/plain": [
       "array(['*', '0.0', '100.0', ..., '99994.0', '99995.0', '99997.0'],\n",
       "      dtype=object)"
      ]
     },
     "execution_count": 9,
     "metadata": {},
     "output_type": "execute_result"
    }
   ],
   "source": [
    "# get all the unique values in the 'TOT_BENS' column\n",
    "Total_ben = data['TOT_BENES'].unique()\n",
    "\n",
    "# sort them alphabetically and then take a closer look\n",
    "Total_ben.sort()\n",
    "Total_ben"
   ]
  },
  {
   "cell_type": "code",
   "execution_count": 10,
   "id": "2972487b",
   "metadata": {
    "execution": {
     "iopub.execute_input": "2024-10-15T23:23:37.974101Z",
     "iopub.status.busy": "2024-10-15T23:23:37.973706Z",
     "iopub.status.idle": "2024-10-15T23:23:37.979794Z",
     "shell.execute_reply": "2024-10-15T23:23:37.978873Z"
    },
    "papermill": {
     "duration": 0.021182,
     "end_time": "2024-10-15T23:23:37.981814",
     "exception": false,
     "start_time": "2024-10-15T23:23:37.960632",
     "status": "completed"
    },
    "tags": []
   },
   "outputs": [
    {
     "data": {
      "text/plain": [
       "(460290, 26)"
      ]
     },
     "execution_count": 10,
     "metadata": {},
     "output_type": "execute_result"
    }
   ],
   "source": [
    "data.shape"
   ]
  },
  {
   "cell_type": "markdown",
   "id": "58d9a644",
   "metadata": {
    "papermill": {
     "duration": 0.011804,
     "end_time": "2024-10-15T23:23:38.005738",
     "exception": false,
     "start_time": "2024-10-15T23:23:37.993934",
     "status": "completed"
    },
    "tags": []
   },
   "source": [
    "<h3 style=\"color: #0c2461;\">Observation</h3>\n",
    "<h5 style=\"color: #0c2461;\"> Since the value \"*\" exist in the dataset for the specific column and may produce inconsistent result,it is hence necessary to find out how many rows contains this value in the specific column. </h5>"
   ]
  },
  {
   "cell_type": "code",
   "execution_count": 11,
   "id": "d756ddf7",
   "metadata": {
    "execution": {
     "iopub.execute_input": "2024-10-15T23:23:38.031770Z",
     "iopub.status.busy": "2024-10-15T23:23:38.031105Z",
     "iopub.status.idle": "2024-10-15T23:23:38.052860Z",
     "shell.execute_reply": "2024-10-15T23:23:38.051832Z"
    },
    "papermill": {
     "duration": 0.036969,
     "end_time": "2024-10-15T23:23:38.054854",
     "exception": false,
     "start_time": "2024-10-15T23:23:38.017885",
     "status": "completed"
    },
    "tags": []
   },
   "outputs": [
    {
     "data": {
      "text/plain": [
       "7518"
      ]
     },
     "execution_count": 11,
     "metadata": {},
     "output_type": "execute_result"
    }
   ],
   "source": [
    "data[\"TOT_BENES\"].isin([\"*\"]).sum()"
   ]
  },
  {
   "cell_type": "markdown",
   "id": "5d652772",
   "metadata": {
    "papermill": {
     "duration": 0.011795,
     "end_time": "2024-10-15T23:23:38.078951",
     "exception": false,
     "start_time": "2024-10-15T23:23:38.067156",
     "status": "completed"
    },
    "tags": []
   },
   "source": [
    "<h5 style=\"color: #0c2461;\"> This data can be explored further by adding these rows to another dataframe. </h5>"
   ]
  },
  {
   "cell_type": "code",
   "execution_count": 12,
   "id": "7c95dbe3",
   "metadata": {
    "execution": {
     "iopub.execute_input": "2024-10-15T23:23:38.104819Z",
     "iopub.status.busy": "2024-10-15T23:23:38.104422Z",
     "iopub.status.idle": "2024-10-15T23:23:38.164495Z",
     "shell.execute_reply": "2024-10-15T23:23:38.163449Z"
    },
    "papermill": {
     "duration": 0.07574,
     "end_time": "2024-10-15T23:23:38.166885",
     "exception": false,
     "start_time": "2024-10-15T23:23:38.091145",
     "status": "completed"
    },
    "tags": []
   },
   "outputs": [],
   "source": [
    "result_df=data[(data['TOT_BENES'] == \"*\")]"
   ]
  },
  {
   "cell_type": "code",
   "execution_count": 13,
   "id": "f30575da",
   "metadata": {
    "execution": {
     "iopub.execute_input": "2024-10-15T23:23:38.193516Z",
     "iopub.status.busy": "2024-10-15T23:23:38.193072Z",
     "iopub.status.idle": "2024-10-15T23:23:38.216656Z",
     "shell.execute_reply": "2024-10-15T23:23:38.215692Z"
    },
    "papermill": {
     "duration": 0.039779,
     "end_time": "2024-10-15T23:23:38.218974",
     "exception": false,
     "start_time": "2024-10-15T23:23:38.179195",
     "status": "completed"
    },
    "tags": []
   },
   "outputs": [
    {
     "data": {
      "text/html": [
       "<div>\n",
       "<style scoped>\n",
       "    .dataframe tbody tr th:only-of-type {\n",
       "        vertical-align: middle;\n",
       "    }\n",
       "\n",
       "    .dataframe tbody tr th {\n",
       "        vertical-align: top;\n",
       "    }\n",
       "\n",
       "    .dataframe thead th {\n",
       "        text-align: right;\n",
       "    }\n",
       "</style>\n",
       "<table border=\"1\" class=\"dataframe\">\n",
       "  <thead>\n",
       "    <tr style=\"text-align: right;\">\n",
       "      <th></th>\n",
       "      <th>YEAR</th>\n",
       "      <th>MONTH</th>\n",
       "      <th>BENE_GEO_LVL</th>\n",
       "      <th>BENE_STATE_ABRVTN</th>\n",
       "      <th>BENE_STATE_DESC</th>\n",
       "      <th>BENE_COUNTY_DESC</th>\n",
       "      <th>BENE_FIPS_CD</th>\n",
       "      <th>TOT_BENES</th>\n",
       "      <th>ORGNL_MDCR_BENES</th>\n",
       "      <th>MA_AND_OTH_BENES</th>\n",
       "      <th>...</th>\n",
       "      <th>A_B_TOT_BENES</th>\n",
       "      <th>A_B_ORGNL_MDCR_BENES</th>\n",
       "      <th>A_B_MA_AND_OTH_BENES</th>\n",
       "      <th>PRSCRPTN_DRUG_TOT_BENES</th>\n",
       "      <th>PRSCRPTN_DRUG_PDP_BENES</th>\n",
       "      <th>PRSCRPTN_DRUG_MAPD_BENES</th>\n",
       "      <th>PRSCRPTN_DRUG_DEEMED_ELIGIBLE_FULL_LIS_BENES</th>\n",
       "      <th>PRSCRPTN_DRUG_FULL_LIS_BENES</th>\n",
       "      <th>PRSCRPTN_DRUG_PARTIAL_LIS_BENES</th>\n",
       "      <th>PRSCRPTN_DRUG_NO_LIS_BENES</th>\n",
       "    </tr>\n",
       "  </thead>\n",
       "  <tbody>\n",
       "    <tr>\n",
       "      <th>69</th>\n",
       "      <td>2013</td>\n",
       "      <td>Year</td>\n",
       "      <td>County</td>\n",
       "      <td>AL</td>\n",
       "      <td>Alabama</td>\n",
       "      <td>Unknown</td>\n",
       "      <td>01999</td>\n",
       "      <td>*</td>\n",
       "      <td>*</td>\n",
       "      <td>*</td>\n",
       "      <td>...</td>\n",
       "      <td>*</td>\n",
       "      <td>*</td>\n",
       "      <td>*</td>\n",
       "      <td>*</td>\n",
       "      <td>*</td>\n",
       "      <td>*</td>\n",
       "      <td>*</td>\n",
       "      <td>*</td>\n",
       "      <td>*</td>\n",
       "      <td>*</td>\n",
       "    </tr>\n",
       "    <tr>\n",
       "      <th>100</th>\n",
       "      <td>2013</td>\n",
       "      <td>Year</td>\n",
       "      <td>County</td>\n",
       "      <td>AK</td>\n",
       "      <td>Alaska</td>\n",
       "      <td>Unknown</td>\n",
       "      <td>02999</td>\n",
       "      <td>*</td>\n",
       "      <td>*</td>\n",
       "      <td>*</td>\n",
       "      <td>...</td>\n",
       "      <td>*</td>\n",
       "      <td>*</td>\n",
       "      <td>*</td>\n",
       "      <td>*</td>\n",
       "      <td>*</td>\n",
       "      <td>*</td>\n",
       "      <td>*</td>\n",
       "      <td>*</td>\n",
       "      <td>*</td>\n",
       "      <td>*</td>\n",
       "    </tr>\n",
       "    <tr>\n",
       "      <th>117</th>\n",
       "      <td>2013</td>\n",
       "      <td>Year</td>\n",
       "      <td>County</td>\n",
       "      <td>AZ</td>\n",
       "      <td>Arizona</td>\n",
       "      <td>Unknown</td>\n",
       "      <td>04999</td>\n",
       "      <td>*</td>\n",
       "      <td>*</td>\n",
       "      <td>*</td>\n",
       "      <td>...</td>\n",
       "      <td>*</td>\n",
       "      <td>*</td>\n",
       "      <td>*</td>\n",
       "      <td>*</td>\n",
       "      <td>*</td>\n",
       "      <td>*</td>\n",
       "      <td>*</td>\n",
       "      <td>*</td>\n",
       "      <td>*</td>\n",
       "      <td>*</td>\n",
       "    </tr>\n",
       "    <tr>\n",
       "      <th>194</th>\n",
       "      <td>2013</td>\n",
       "      <td>Year</td>\n",
       "      <td>County</td>\n",
       "      <td>AR</td>\n",
       "      <td>Arkansas</td>\n",
       "      <td>Unknown</td>\n",
       "      <td>05999</td>\n",
       "      <td>*</td>\n",
       "      <td>*</td>\n",
       "      <td>*</td>\n",
       "      <td>...</td>\n",
       "      <td>*</td>\n",
       "      <td>*</td>\n",
       "      <td>*</td>\n",
       "      <td>*</td>\n",
       "      <td>*</td>\n",
       "      <td>*</td>\n",
       "      <td>*</td>\n",
       "      <td>*</td>\n",
       "      <td>*</td>\n",
       "      <td>*</td>\n",
       "    </tr>\n",
       "    <tr>\n",
       "      <th>254</th>\n",
       "      <td>2013</td>\n",
       "      <td>Year</td>\n",
       "      <td>County</td>\n",
       "      <td>CA</td>\n",
       "      <td>California</td>\n",
       "      <td>Unknown</td>\n",
       "      <td>06999</td>\n",
       "      <td>*</td>\n",
       "      <td>*</td>\n",
       "      <td>*</td>\n",
       "      <td>...</td>\n",
       "      <td>*</td>\n",
       "      <td>*</td>\n",
       "      <td>*</td>\n",
       "      <td>*</td>\n",
       "      <td>*</td>\n",
       "      <td>*</td>\n",
       "      <td>*</td>\n",
       "      <td>*</td>\n",
       "      <td>*</td>\n",
       "      <td>*</td>\n",
       "    </tr>\n",
       "    <tr>\n",
       "      <th>320</th>\n",
       "      <td>2013</td>\n",
       "      <td>Year</td>\n",
       "      <td>County</td>\n",
       "      <td>CO</td>\n",
       "      <td>Colorado</td>\n",
       "      <td>Unknown</td>\n",
       "      <td>08999</td>\n",
       "      <td>*</td>\n",
       "      <td>*</td>\n",
       "      <td>*</td>\n",
       "      <td>...</td>\n",
       "      <td>*</td>\n",
       "      <td>*</td>\n",
       "      <td>*</td>\n",
       "      <td>*</td>\n",
       "      <td>*</td>\n",
       "      <td>*</td>\n",
       "      <td>*</td>\n",
       "      <td>*</td>\n",
       "      <td>*</td>\n",
       "      <td>*</td>\n",
       "    </tr>\n",
       "    <tr>\n",
       "      <th>330</th>\n",
       "      <td>2013</td>\n",
       "      <td>Year</td>\n",
       "      <td>County</td>\n",
       "      <td>CT</td>\n",
       "      <td>Connecticut</td>\n",
       "      <td>Unknown</td>\n",
       "      <td>09999</td>\n",
       "      <td>*</td>\n",
       "      <td>*</td>\n",
       "      <td>*</td>\n",
       "      <td>...</td>\n",
       "      <td>*</td>\n",
       "      <td>*</td>\n",
       "      <td>*</td>\n",
       "      <td>*</td>\n",
       "      <td>*</td>\n",
       "      <td>*</td>\n",
       "      <td>*</td>\n",
       "      <td>*</td>\n",
       "      <td>*</td>\n",
       "      <td>*</td>\n",
       "    </tr>\n",
       "    <tr>\n",
       "      <th>335</th>\n",
       "      <td>2013</td>\n",
       "      <td>Year</td>\n",
       "      <td>County</td>\n",
       "      <td>DE</td>\n",
       "      <td>Delaware</td>\n",
       "      <td>Unknown</td>\n",
       "      <td>10999</td>\n",
       "      <td>*</td>\n",
       "      <td>*</td>\n",
       "      <td>*</td>\n",
       "      <td>...</td>\n",
       "      <td>*</td>\n",
       "      <td>*</td>\n",
       "      <td>*</td>\n",
       "      <td>*</td>\n",
       "      <td>*</td>\n",
       "      <td>*</td>\n",
       "      <td>*</td>\n",
       "      <td>*</td>\n",
       "      <td>*</td>\n",
       "      <td>*</td>\n",
       "    </tr>\n",
       "    <tr>\n",
       "      <th>338</th>\n",
       "      <td>2013</td>\n",
       "      <td>Year</td>\n",
       "      <td>County</td>\n",
       "      <td>DC</td>\n",
       "      <td>District of Columbia</td>\n",
       "      <td>Unknown</td>\n",
       "      <td>11999</td>\n",
       "      <td>*</td>\n",
       "      <td>*</td>\n",
       "      <td>*</td>\n",
       "      <td>...</td>\n",
       "      <td>*</td>\n",
       "      <td>*</td>\n",
       "      <td>*</td>\n",
       "      <td>*</td>\n",
       "      <td>*</td>\n",
       "      <td>*</td>\n",
       "      <td>*</td>\n",
       "      <td>*</td>\n",
       "      <td>*</td>\n",
       "      <td>*</td>\n",
       "    </tr>\n",
       "    <tr>\n",
       "      <th>407</th>\n",
       "      <td>2013</td>\n",
       "      <td>Year</td>\n",
       "      <td>County</td>\n",
       "      <td>FL</td>\n",
       "      <td>Florida</td>\n",
       "      <td>Unknown</td>\n",
       "      <td>12999</td>\n",
       "      <td>*</td>\n",
       "      <td>*</td>\n",
       "      <td>*</td>\n",
       "      <td>...</td>\n",
       "      <td>*</td>\n",
       "      <td>*</td>\n",
       "      <td>*</td>\n",
       "      <td>*</td>\n",
       "      <td>*</td>\n",
       "      <td>*</td>\n",
       "      <td>*</td>\n",
       "      <td>*</td>\n",
       "      <td>*</td>\n",
       "      <td>*</td>\n",
       "    </tr>\n",
       "  </tbody>\n",
       "</table>\n",
       "<p>10 rows × 26 columns</p>\n",
       "</div>"
      ],
      "text/plain": [
       "     YEAR MONTH BENE_GEO_LVL BENE_STATE_ABRVTN       BENE_STATE_DESC  \\\n",
       "69   2013  Year       County                AL               Alabama   \n",
       "100  2013  Year       County                AK                Alaska   \n",
       "117  2013  Year       County                AZ               Arizona   \n",
       "194  2013  Year       County                AR              Arkansas   \n",
       "254  2013  Year       County                CA            California   \n",
       "320  2013  Year       County                CO              Colorado   \n",
       "330  2013  Year       County                CT           Connecticut   \n",
       "335  2013  Year       County                DE              Delaware   \n",
       "338  2013  Year       County                DC  District of Columbia   \n",
       "407  2013  Year       County                FL               Florida   \n",
       "\n",
       "    BENE_COUNTY_DESC BENE_FIPS_CD TOT_BENES ORGNL_MDCR_BENES MA_AND_OTH_BENES  \\\n",
       "69           Unknown        01999         *                *                *   \n",
       "100          Unknown        02999         *                *                *   \n",
       "117          Unknown        04999         *                *                *   \n",
       "194          Unknown        05999         *                *                *   \n",
       "254          Unknown        06999         *                *                *   \n",
       "320          Unknown        08999         *                *                *   \n",
       "330          Unknown        09999         *                *                *   \n",
       "335          Unknown        10999         *                *                *   \n",
       "338          Unknown        11999         *                *                *   \n",
       "407          Unknown        12999         *                *                *   \n",
       "\n",
       "     ... A_B_TOT_BENES A_B_ORGNL_MDCR_BENES A_B_MA_AND_OTH_BENES  \\\n",
       "69   ...             *                    *                    *   \n",
       "100  ...             *                    *                    *   \n",
       "117  ...             *                    *                    *   \n",
       "194  ...             *                    *                    *   \n",
       "254  ...             *                    *                    *   \n",
       "320  ...             *                    *                    *   \n",
       "330  ...             *                    *                    *   \n",
       "335  ...             *                    *                    *   \n",
       "338  ...             *                    *                    *   \n",
       "407  ...             *                    *                    *   \n",
       "\n",
       "    PRSCRPTN_DRUG_TOT_BENES PRSCRPTN_DRUG_PDP_BENES PRSCRPTN_DRUG_MAPD_BENES  \\\n",
       "69                        *                       *                        *   \n",
       "100                       *                       *                        *   \n",
       "117                       *                       *                        *   \n",
       "194                       *                       *                        *   \n",
       "254                       *                       *                        *   \n",
       "320                       *                       *                        *   \n",
       "330                       *                       *                        *   \n",
       "335                       *                       *                        *   \n",
       "338                       *                       *                        *   \n",
       "407                       *                       *                        *   \n",
       "\n",
       "    PRSCRPTN_DRUG_DEEMED_ELIGIBLE_FULL_LIS_BENES PRSCRPTN_DRUG_FULL_LIS_BENES  \\\n",
       "69                                             *                            *   \n",
       "100                                            *                            *   \n",
       "117                                            *                            *   \n",
       "194                                            *                            *   \n",
       "254                                            *                            *   \n",
       "320                                            *                            *   \n",
       "330                                            *                            *   \n",
       "335                                            *                            *   \n",
       "338                                            *                            *   \n",
       "407                                            *                            *   \n",
       "\n",
       "    PRSCRPTN_DRUG_PARTIAL_LIS_BENES PRSCRPTN_DRUG_NO_LIS_BENES  \n",
       "69                                *                          *  \n",
       "100                               *                          *  \n",
       "117                               *                          *  \n",
       "194                               *                          *  \n",
       "254                               *                          *  \n",
       "320                               *                          *  \n",
       "330                               *                          *  \n",
       "335                               *                          *  \n",
       "338                               *                          *  \n",
       "407                               *                          *  \n",
       "\n",
       "[10 rows x 26 columns]"
      ]
     },
     "execution_count": 13,
     "metadata": {},
     "output_type": "execute_result"
    }
   ],
   "source": [
    "result_df.head(10)"
   ]
  },
  {
   "cell_type": "code",
   "execution_count": 14,
   "id": "983b41b4",
   "metadata": {
    "execution": {
     "iopub.execute_input": "2024-10-15T23:23:38.247144Z",
     "iopub.status.busy": "2024-10-15T23:23:38.246720Z",
     "iopub.status.idle": "2024-10-15T23:23:38.251753Z",
     "shell.execute_reply": "2024-10-15T23:23:38.250813Z"
    },
    "papermill": {
     "duration": 0.021685,
     "end_time": "2024-10-15T23:23:38.254091",
     "exception": false,
     "start_time": "2024-10-15T23:23:38.232406",
     "status": "completed"
    },
    "tags": []
   },
   "outputs": [
    {
     "name": "stdout",
     "output_type": "stream",
     "text": [
      "The Dataset have 7518 rows and 26 columns.\n"
     ]
    }
   ],
   "source": [
    "row, col = result_df.shape\n",
    "print(\"The Dataset have\",row,\"rows and\",col,\"columns.\")"
   ]
  },
  {
   "cell_type": "markdown",
   "id": "e5937ade",
   "metadata": {
    "papermill": {
     "duration": 0.012383,
     "end_time": "2024-10-15T23:23:38.279222",
     "exception": false,
     "start_time": "2024-10-15T23:23:38.266839",
     "status": "completed"
    },
    "tags": []
   },
   "source": [
    "**Few columns contain inconsistent data.**"
   ]
  },
  {
   "cell_type": "code",
   "execution_count": 15,
   "id": "6ccd2d47",
   "metadata": {
    "execution": {
     "iopub.execute_input": "2024-10-15T23:23:38.305641Z",
     "iopub.status.busy": "2024-10-15T23:23:38.305267Z",
     "iopub.status.idle": "2024-10-15T23:23:38.323811Z",
     "shell.execute_reply": "2024-10-15T23:23:38.322818Z"
    },
    "papermill": {
     "duration": 0.03417,
     "end_time": "2024-10-15T23:23:38.325872",
     "exception": false,
     "start_time": "2024-10-15T23:23:38.291702",
     "status": "completed"
    },
    "tags": []
   },
   "outputs": [
    {
     "data": {
      "text/plain": [
       "10483"
      ]
     },
     "execution_count": 15,
     "metadata": {},
     "output_type": "execute_result"
    }
   ],
   "source": [
    "data[\"DSBLD_TOT_BENES\"].isin([\"*\"]).sum()"
   ]
  },
  {
   "cell_type": "code",
   "execution_count": 16,
   "id": "27f8c125",
   "metadata": {
    "execution": {
     "iopub.execute_input": "2024-10-15T23:23:38.353253Z",
     "iopub.status.busy": "2024-10-15T23:23:38.352392Z",
     "iopub.status.idle": "2024-10-15T23:23:38.371615Z",
     "shell.execute_reply": "2024-10-15T23:23:38.370675Z"
    },
    "papermill": {
     "duration": 0.035047,
     "end_time": "2024-10-15T23:23:38.373632",
     "exception": false,
     "start_time": "2024-10-15T23:23:38.338585",
     "status": "completed"
    },
    "tags": []
   },
   "outputs": [
    {
     "data": {
      "text/plain": [
       "15439"
      ]
     },
     "execution_count": 16,
     "metadata": {},
     "output_type": "execute_result"
    }
   ],
   "source": [
    "data[\"ORGNL_MDCR_BENES\"].isin([\"*\"]).sum()"
   ]
  },
  {
   "cell_type": "code",
   "execution_count": 17,
   "id": "332024b5",
   "metadata": {
    "execution": {
     "iopub.execute_input": "2024-10-15T23:23:38.401329Z",
     "iopub.status.busy": "2024-10-15T23:23:38.400615Z",
     "iopub.status.idle": "2024-10-15T23:23:38.420339Z",
     "shell.execute_reply": "2024-10-15T23:23:38.419372Z"
    },
    "papermill": {
     "duration": 0.035675,
     "end_time": "2024-10-15T23:23:38.422255",
     "exception": false,
     "start_time": "2024-10-15T23:23:38.386580",
     "status": "completed"
    },
    "tags": []
   },
   "outputs": [
    {
     "data": {
      "text/plain": [
       "10483"
      ]
     },
     "execution_count": 17,
     "metadata": {},
     "output_type": "execute_result"
    }
   ],
   "source": [
    "data[\"AGED_TOT_BENES\"].isin([\"*\"]).sum()"
   ]
  },
  {
   "cell_type": "code",
   "execution_count": 18,
   "id": "63c91a56",
   "metadata": {
    "execution": {
     "iopub.execute_input": "2024-10-15T23:23:38.450089Z",
     "iopub.status.busy": "2024-10-15T23:23:38.449467Z",
     "iopub.status.idle": "2024-10-15T23:23:38.468128Z",
     "shell.execute_reply": "2024-10-15T23:23:38.467181Z"
    },
    "papermill": {
     "duration": 0.034855,
     "end_time": "2024-10-15T23:23:38.470126",
     "exception": false,
     "start_time": "2024-10-15T23:23:38.435271",
     "status": "completed"
    },
    "tags": []
   },
   "outputs": [
    {
     "data": {
      "text/plain": [
       "15439"
      ]
     },
     "execution_count": 18,
     "metadata": {},
     "output_type": "execute_result"
    }
   ],
   "source": [
    "data[\"MA_AND_OTH_BENES\"].isin([\"*\"]).sum()"
   ]
  },
  {
   "cell_type": "markdown",
   "id": "2de0b214",
   "metadata": {
    "papermill": {
     "duration": 0.012722,
     "end_time": "2024-10-15T23:23:38.495906",
     "exception": false,
     "start_time": "2024-10-15T23:23:38.483184",
     "status": "completed"
    },
    "tags": []
   },
   "source": [
    "**The inconsistent data is transformed and cleaned in the following section. Now we should also look for any missing data (NULLS) in the columns of the data set.**"
   ]
  },
  {
   "cell_type": "code",
   "execution_count": 19,
   "id": "4c9d435e",
   "metadata": {
    "execution": {
     "iopub.execute_input": "2024-10-15T23:23:38.523395Z",
     "iopub.status.busy": "2024-10-15T23:23:38.523026Z",
     "iopub.status.idle": "2024-10-15T23:23:39.043375Z",
     "shell.execute_reply": "2024-10-15T23:23:39.042382Z"
    },
    "papermill": {
     "duration": 0.536699,
     "end_time": "2024-10-15T23:23:39.045430",
     "exception": false,
     "start_time": "2024-10-15T23:23:38.508731",
     "status": "completed"
    },
    "tags": []
   },
   "outputs": [
    {
     "data": {
      "text/plain": [
       "YEAR                                            0\n",
       "MONTH                                           0\n",
       "BENE_GEO_LVL                                    0\n",
       "BENE_STATE_ABRVTN                               0\n",
       "BENE_STATE_DESC                                 0\n",
       "BENE_COUNTY_DESC                                0\n",
       "BENE_FIPS_CD                                    0\n",
       "TOT_BENES                                       0\n",
       "ORGNL_MDCR_BENES                                0\n",
       "MA_AND_OTH_BENES                                0\n",
       "AGED_TOT_BENES                                  0\n",
       "AGED_ESRD_BENES                                 0\n",
       "AGED_NO_ESRD_BENES                              0\n",
       "DSBLD_TOT_BENES                                 0\n",
       "DSBLD_ESRD_AND_ESRD_ONLY_BENES                  0\n",
       "DSBLD_NO_ESRD_BENES                             0\n",
       "A_B_TOT_BENES                                   0\n",
       "A_B_ORGNL_MDCR_BENES                            0\n",
       "A_B_MA_AND_OTH_BENES                            0\n",
       "PRSCRPTN_DRUG_TOT_BENES                         0\n",
       "PRSCRPTN_DRUG_PDP_BENES                         0\n",
       "PRSCRPTN_DRUG_MAPD_BENES                        0\n",
       "PRSCRPTN_DRUG_DEEMED_ELIGIBLE_FULL_LIS_BENES    0\n",
       "PRSCRPTN_DRUG_FULL_LIS_BENES                    0\n",
       "PRSCRPTN_DRUG_PARTIAL_LIS_BENES                 0\n",
       "PRSCRPTN_DRUG_NO_LIS_BENES                      0\n",
       "dtype: int64"
      ]
     },
     "execution_count": 19,
     "metadata": {},
     "output_type": "execute_result"
    }
   ],
   "source": [
    "# get the number of missing data points per column\n",
    "missing_values_count = data.isnull().sum()\n",
    "# look at the # of missing points in the first ten columns\n",
    "missing_values_count[0:26]"
   ]
  },
  {
   "cell_type": "markdown",
   "id": "3c7542c5",
   "metadata": {
    "papermill": {
     "duration": 0.012851,
     "end_time": "2024-10-15T23:23:39.071471",
     "exception": false,
     "start_time": "2024-10-15T23:23:39.058620",
     "status": "completed"
    },
    "tags": []
   },
   "source": [
    "<h3 style=\"color: #0c2461;\">Observations</h3>\n",
    "<h5 style=\"color: #0c2461;\">No missing values in the dataset.</h5>"
   ]
  },
  {
   "cell_type": "markdown",
   "id": "90e75338",
   "metadata": {
    "papermill": {
     "duration": 0.012749,
     "end_time": "2024-10-15T23:23:39.097209",
     "exception": false,
     "start_time": "2024-10-15T23:23:39.084460",
     "status": "completed"
    },
    "tags": []
   },
   "source": [
    "<h2 style=\"position: relative;\">\n",
    "    <span style=\"color: #6a89cc;\">3.</span> \n",
    "    <span style=\"color: #0c2461;\">Cleaning the Dataset</span> \n",
    "    <br/>\n",
    "</h2>\n"
   ]
  },
  {
   "cell_type": "markdown",
   "id": "2e42c2d0",
   "metadata": {
    "papermill": {
     "duration": 0.012699,
     "end_time": "2024-10-15T23:23:39.122939",
     "exception": false,
     "start_time": "2024-10-15T23:23:39.110240",
     "status": "completed"
    },
    "tags": []
   },
   "source": [
    "**To fix the data with \"*\" in the columns, change the the data type of columns from object to numeric. The data \"*\" is considered as bad data and is replaced by numeric value of zero.**"
   ]
  },
  {
   "cell_type": "code",
   "execution_count": 20,
   "id": "2269217e",
   "metadata": {
    "execution": {
     "iopub.execute_input": "2024-10-15T23:23:39.152661Z",
     "iopub.status.busy": "2024-10-15T23:23:39.151728Z",
     "iopub.status.idle": "2024-10-15T23:23:39.319860Z",
     "shell.execute_reply": "2024-10-15T23:23:39.318816Z"
    },
    "papermill": {
     "duration": 0.186183,
     "end_time": "2024-10-15T23:23:39.322104",
     "exception": false,
     "start_time": "2024-10-15T23:23:39.135921",
     "status": "completed"
    },
    "tags": []
   },
   "outputs": [],
   "source": [
    "data['TOT_BENES'] = pd.to_numeric(data['TOT_BENES'], errors='coerce').fillna(0).astype(int) "
   ]
  },
  {
   "cell_type": "code",
   "execution_count": 21,
   "id": "abc703f7",
   "metadata": {
    "execution": {
     "iopub.execute_input": "2024-10-15T23:23:39.350544Z",
     "iopub.status.busy": "2024-10-15T23:23:39.349683Z",
     "iopub.status.idle": "2024-10-15T23:23:39.389003Z",
     "shell.execute_reply": "2024-10-15T23:23:39.388038Z"
    },
    "papermill": {
     "duration": 0.055769,
     "end_time": "2024-10-15T23:23:39.391071",
     "exception": false,
     "start_time": "2024-10-15T23:23:39.335302",
     "status": "completed"
    },
    "tags": []
   },
   "outputs": [
    {
     "data": {
      "text/plain": [
       "0"
      ]
     },
     "execution_count": 21,
     "metadata": {},
     "output_type": "execute_result"
    }
   ],
   "source": [
    "data[\"TOT_BENES\"].isin([\"*\"]).sum()"
   ]
  },
  {
   "cell_type": "code",
   "execution_count": 22,
   "id": "5dddf134",
   "metadata": {
    "execution": {
     "iopub.execute_input": "2024-10-15T23:23:39.419643Z",
     "iopub.status.busy": "2024-10-15T23:23:39.418802Z",
     "iopub.status.idle": "2024-10-15T23:23:40.046711Z",
     "shell.execute_reply": "2024-10-15T23:23:40.045562Z"
    },
    "papermill": {
     "duration": 0.645065,
     "end_time": "2024-10-15T23:23:40.049375",
     "exception": false,
     "start_time": "2024-10-15T23:23:39.404310",
     "status": "completed"
    },
    "tags": []
   },
   "outputs": [],
   "source": [
    "# Data type conversion for other columns by filling 0 for irrelevant data that is not a number\n",
    "data['DSBLD_TOT_BENES'] = pd.to_numeric(data['DSBLD_TOT_BENES'], errors='coerce').fillna(0).astype(int) \n",
    "data['AGED_TOT_BENES'] = pd.to_numeric(data['AGED_TOT_BENES'], errors='coerce').fillna(0).astype(int) \n",
    "data['ORGNL_MDCR_BENES'] = pd.to_numeric(data['ORGNL_MDCR_BENES'], errors='coerce').fillna(0).astype(int) \n",
    "data['MA_AND_OTH_BENES'] = pd.to_numeric(data['MA_AND_OTH_BENES'], errors='coerce').fillna(0).astype(int) "
   ]
  },
  {
   "cell_type": "markdown",
   "id": "837b6d28",
   "metadata": {
    "papermill": {
     "duration": 0.013312,
     "end_time": "2024-10-15T23:23:40.076483",
     "exception": false,
     "start_time": "2024-10-15T23:23:40.063171",
     "status": "completed"
    },
    "tags": []
   },
   "source": [
    "**Data type converted for the specific columns from object type to Integer.**"
   ]
  },
  {
   "cell_type": "code",
   "execution_count": 23,
   "id": "0afff158",
   "metadata": {
    "execution": {
     "iopub.execute_input": "2024-10-15T23:23:40.105580Z",
     "iopub.status.busy": "2024-10-15T23:23:40.104661Z",
     "iopub.status.idle": "2024-10-15T23:23:40.535430Z",
     "shell.execute_reply": "2024-10-15T23:23:40.534413Z"
    },
    "papermill": {
     "duration": 0.448019,
     "end_time": "2024-10-15T23:23:40.538076",
     "exception": false,
     "start_time": "2024-10-15T23:23:40.090057",
     "status": "completed"
    },
    "tags": []
   },
   "outputs": [
    {
     "name": "stdout",
     "output_type": "stream",
     "text": [
      "<class 'pandas.core.frame.DataFrame'>\n",
      "RangeIndex: 460290 entries, 0 to 460289\n",
      "Data columns (total 26 columns):\n",
      " #   Column                                        Non-Null Count   Dtype \n",
      "---  ------                                        --------------   ----- \n",
      " 0   YEAR                                          460290 non-null  int64 \n",
      " 1   MONTH                                         460290 non-null  object\n",
      " 2   BENE_GEO_LVL                                  460290 non-null  object\n",
      " 3   BENE_STATE_ABRVTN                             460290 non-null  object\n",
      " 4   BENE_STATE_DESC                               460290 non-null  object\n",
      " 5   BENE_COUNTY_DESC                              460290 non-null  object\n",
      " 6   BENE_FIPS_CD                                  460290 non-null  object\n",
      " 7   TOT_BENES                                     460290 non-null  int64 \n",
      " 8   ORGNL_MDCR_BENES                              460290 non-null  int64 \n",
      " 9   MA_AND_OTH_BENES                              460290 non-null  int64 \n",
      " 10  AGED_TOT_BENES                                460290 non-null  int64 \n",
      " 11  AGED_ESRD_BENES                               460290 non-null  object\n",
      " 12  AGED_NO_ESRD_BENES                            460290 non-null  object\n",
      " 13  DSBLD_TOT_BENES                               460290 non-null  int64 \n",
      " 14  DSBLD_ESRD_AND_ESRD_ONLY_BENES                460290 non-null  object\n",
      " 15  DSBLD_NO_ESRD_BENES                           460290 non-null  object\n",
      " 16  A_B_TOT_BENES                                 460290 non-null  object\n",
      " 17  A_B_ORGNL_MDCR_BENES                          460290 non-null  object\n",
      " 18  A_B_MA_AND_OTH_BENES                          460290 non-null  object\n",
      " 19  PRSCRPTN_DRUG_TOT_BENES                       460290 non-null  object\n",
      " 20  PRSCRPTN_DRUG_PDP_BENES                       460290 non-null  object\n",
      " 21  PRSCRPTN_DRUG_MAPD_BENES                      460290 non-null  object\n",
      " 22  PRSCRPTN_DRUG_DEEMED_ELIGIBLE_FULL_LIS_BENES  460290 non-null  object\n",
      " 23  PRSCRPTN_DRUG_FULL_LIS_BENES                  460290 non-null  object\n",
      " 24  PRSCRPTN_DRUG_PARTIAL_LIS_BENES               460290 non-null  object\n",
      " 25  PRSCRPTN_DRUG_NO_LIS_BENES                    460290 non-null  object\n",
      "dtypes: int64(6), object(20)\n",
      "memory usage: 91.3+ MB\n"
     ]
    }
   ],
   "source": [
    "#Check the structure of the dataframe\n",
    "data.info()"
   ]
  },
  {
   "cell_type": "code",
   "execution_count": 24,
   "id": "978385f6",
   "metadata": {
    "execution": {
     "iopub.execute_input": "2024-10-15T23:23:40.566291Z",
     "iopub.status.busy": "2024-10-15T23:23:40.565933Z",
     "iopub.status.idle": "2024-10-15T23:23:40.828134Z",
     "shell.execute_reply": "2024-10-15T23:23:40.827280Z"
    },
    "papermill": {
     "duration": 0.279085,
     "end_time": "2024-10-15T23:23:40.830696",
     "exception": false,
     "start_time": "2024-10-15T23:23:40.551611",
     "status": "completed"
    },
    "tags": []
   },
   "outputs": [],
   "source": [
    "# Transform the data \n",
    "data = data[(data['TOT_BENES'] != 0) & (data['AGED_TOT_BENES'] != 0) & (data['DSBLD_TOT_BENES'] != 0) & (data['PRSCRPTN_DRUG_TOT_BENES'] != 0)]\n",
    "#Take only necessary columns\n",
    "data= pd.DataFrame(data,columns = ['YEAR','MONTH','BENE_GEO_LVL','BENE_STATE_ABRVTN','BENE_COUNTY_DESC', 'TOT_BENES','AGED_TOT_BENES', 'DSBLD_TOT_BENES','PRSCRPTN_DRUG_TOT_BENES']) "
   ]
  },
  {
   "cell_type": "markdown",
   "id": "113d1436",
   "metadata": {
    "papermill": {
     "duration": 0.013121,
     "end_time": "2024-10-15T23:23:40.857639",
     "exception": false,
     "start_time": "2024-10-15T23:23:40.844518",
     "status": "completed"
    },
    "tags": []
   },
   "source": [
    "<h2 style=\"position: relative;\">\n",
    "    <span style=\"color: #6a89cc;\">4.</span> \n",
    "    <span style=\"color: #0c2461;\">Data Visualization</span> \n",
    "    <br/>\n",
    "</h2>"
   ]
  },
  {
   "cell_type": "markdown",
   "id": "6332b964",
   "metadata": {
    "papermill": {
     "duration": 0.013538,
     "end_time": "2024-10-15T23:23:40.884548",
     "exception": false,
     "start_time": "2024-10-15T23:23:40.871010",
     "status": "completed"
    },
    "tags": []
   },
   "source": [
    "**1. Trend for total beneficiaries by Year**"
   ]
  },
  {
   "cell_type": "code",
   "execution_count": 25,
   "id": "dd7b89d6",
   "metadata": {
    "execution": {
     "iopub.execute_input": "2024-10-15T23:23:40.913670Z",
     "iopub.status.busy": "2024-10-15T23:23:40.912736Z",
     "iopub.status.idle": "2024-10-15T23:23:40.917553Z",
     "shell.execute_reply": "2024-10-15T23:23:40.916616Z"
    },
    "papermill": {
     "duration": 0.021464,
     "end_time": "2024-10-15T23:23:40.919678",
     "exception": false,
     "start_time": "2024-10-15T23:23:40.898214",
     "status": "completed"
    },
    "tags": []
   },
   "outputs": [],
   "source": [
    "def round_to_million(df, column):\n",
    "    return df[column].round(-6) / 1000000"
   ]
  },
  {
   "cell_type": "code",
   "execution_count": 26,
   "id": "2891219b",
   "metadata": {
    "execution": {
     "iopub.execute_input": "2024-10-15T23:23:40.948305Z",
     "iopub.status.busy": "2024-10-15T23:23:40.947942Z",
     "iopub.status.idle": "2024-10-15T23:23:41.218592Z",
     "shell.execute_reply": "2024-10-15T23:23:41.217763Z"
    },
    "papermill": {
     "duration": 0.287753,
     "end_time": "2024-10-15T23:23:41.220989",
     "exception": false,
     "start_time": "2024-10-15T23:23:40.933236",
     "status": "completed"
    },
    "tags": []
   },
   "outputs": [],
   "source": [
    "# This code creates temporary dataframes (filtered data)\n",
    "df_yearly_national = data\n",
    "df_yearly_national = data[(data['BENE_COUNTY_DESC'] == 'Total')]\n",
    "df_yearly_national= df_yearly_national[(df_yearly_national['BENE_GEO_LVL'] == 'National')]\n",
    "df_yearly_national = df_yearly_national[(df_yearly_national['MONTH'] == 'Year')]\n",
    "df_yearly_national.groupby('YEAR')['TOT_BENES'].sum()\n",
    "#Take only necessary columns\n",
    "df_year_temp1= pd.DataFrame(df_yearly_national,columns = ['YEAR', 'TOT_BENES']).sort_values('TOT_BENES', ascending=False)\n",
    "df_year_temp1.reset_index(drop=True, inplace=True)\n",
    "#df_year.style.hide(axis='index')\n",
    "df_year_temp2 = ps.sqldf(\"select Year, tot_benes from df_year_temp1\")\n",
    "df_year_temp2['TotalBeneficiaries'] = round_to_million(df_year_temp2, 'TOT_BENES')\n",
    "#df_state1 = df_state1.to_string(formatters={'TotalBeneficiaries': '{:,.0f}M'.format})\n",
    "pd.options.display.float_format = '{:,.0f}M'.format"
   ]
  },
  {
   "cell_type": "code",
   "execution_count": 27,
   "id": "26e9c6e9",
   "metadata": {
    "execution": {
     "iopub.execute_input": "2024-10-15T23:23:41.249590Z",
     "iopub.status.busy": "2024-10-15T23:23:41.249207Z",
     "iopub.status.idle": "2024-10-15T23:23:41.256768Z",
     "shell.execute_reply": "2024-10-15T23:23:41.255820Z"
    },
    "papermill": {
     "duration": 0.024361,
     "end_time": "2024-10-15T23:23:41.258961",
     "exception": false,
     "start_time": "2024-10-15T23:23:41.234600",
     "status": "completed"
    },
    "tags": []
   },
   "outputs": [
    {
     "name": "stdout",
     "output_type": "stream",
     "text": [
      "   YEAR  TotalBeneficiaries\n",
      "0  2022                 65M\n",
      "1  2021                 64M\n",
      "2  2020                 63M\n",
      "3  2019                 62M\n",
      "4  2018                 60M\n",
      "5  2017                 58M\n",
      "6  2016                 57M\n",
      "7  2015                 55M\n",
      "8  2014                 54M\n",
      "9  2013                 52M\n"
     ]
    }
   ],
   "source": [
    "selected_columns = df_year_temp2.iloc[:, [0, 2]] \n",
    "print(selected_columns)"
   ]
  },
  {
   "cell_type": "markdown",
   "id": "ce8ddfdd",
   "metadata": {
    "papermill": {
     "duration": 0.013256,
     "end_time": "2024-10-15T23:23:41.285814",
     "exception": false,
     "start_time": "2024-10-15T23:23:41.272558",
     "status": "completed"
    },
    "tags": []
   },
   "source": [
    "**Observation: This shows that total beneficiaries have increased significantly from year 2013 to year 2022.**"
   ]
  },
  {
   "cell_type": "markdown",
   "id": "4ed1f0ba",
   "metadata": {
    "papermill": {
     "duration": 0.013062,
     "end_time": "2024-10-15T23:23:41.312696",
     "exception": false,
     "start_time": "2024-10-15T23:23:41.299634",
     "status": "completed"
    },
    "tags": []
   },
   "source": [
    "**2. For the current year (Considering 2022 as the current year) , List top 5 states with the highest Total beneficiary count****"
   ]
  },
  {
   "cell_type": "code",
   "execution_count": 28,
   "id": "1f88f332",
   "metadata": {
    "execution": {
     "iopub.execute_input": "2024-10-15T23:23:41.341458Z",
     "iopub.status.busy": "2024-10-15T23:23:41.340583Z",
     "iopub.status.idle": "2024-10-15T23:23:41.381532Z",
     "shell.execute_reply": "2024-10-15T23:23:41.380510Z"
    },
    "papermill": {
     "duration": 0.057435,
     "end_time": "2024-10-15T23:23:41.383559",
     "exception": false,
     "start_time": "2024-10-15T23:23:41.326124",
     "status": "completed"
    },
    "tags": []
   },
   "outputs": [
    {
     "data": {
      "text/html": [
       "<div>\n",
       "<style scoped>\n",
       "    .dataframe tbody tr th:only-of-type {\n",
       "        vertical-align: middle;\n",
       "    }\n",
       "\n",
       "    .dataframe tbody tr th {\n",
       "        vertical-align: top;\n",
       "    }\n",
       "\n",
       "    .dataframe thead th {\n",
       "        text-align: right;\n",
       "    }\n",
       "</style>\n",
       "<table border=\"1\" class=\"dataframe\">\n",
       "  <thead>\n",
       "    <tr style=\"text-align: right;\">\n",
       "      <th></th>\n",
       "      <th>TOT_BENES</th>\n",
       "      <th>state</th>\n",
       "    </tr>\n",
       "  </thead>\n",
       "  <tbody>\n",
       "    <tr>\n",
       "      <th>0</th>\n",
       "      <td>6626725</td>\n",
       "      <td>CA</td>\n",
       "    </tr>\n",
       "    <tr>\n",
       "      <th>1</th>\n",
       "      <td>4920095</td>\n",
       "      <td>FL</td>\n",
       "    </tr>\n",
       "    <tr>\n",
       "      <th>2</th>\n",
       "      <td>4508562</td>\n",
       "      <td>TX</td>\n",
       "    </tr>\n",
       "    <tr>\n",
       "      <th>3</th>\n",
       "      <td>3759903</td>\n",
       "      <td>NY</td>\n",
       "    </tr>\n",
       "    <tr>\n",
       "      <th>4</th>\n",
       "      <td>2845419</td>\n",
       "      <td>PA</td>\n",
       "    </tr>\n",
       "  </tbody>\n",
       "</table>\n",
       "</div>"
      ],
      "text/plain": [
       "   TOT_BENES state\n",
       "0    6626725    CA\n",
       "1    4920095    FL\n",
       "2    4508562    TX\n",
       "3    3759903    NY\n",
       "4    2845419    PA"
      ]
     },
     "execution_count": 28,
     "metadata": {},
     "output_type": "execute_result"
    }
   ],
   "source": [
    "options = [2022]  \n",
    "data_flt = data[(data['YEAR'].isin(options))]\n",
    "#data_flt = data_flt[(data_flt['BENE_COUNTY_DESC'] == 'Total')]\n",
    "data_flt= data_flt[(data_flt['BENE_GEO_LVL'] == 'State')]\n",
    "data_flt = data_flt[(data_flt['MONTH'] == 'Year')]\n",
    "#q1=''\n",
    "df_state = ps.sqldf(\"select tot_benes,BENE_STATE_ABRVTN as state from data_flt order by tot_benes desc \")\n",
    "#print(ps.sqldf(q1, locals()))\n",
    "df_state.head(5)\n"
   ]
  },
  {
   "cell_type": "markdown",
   "id": "05efb411",
   "metadata": {
    "papermill": {
     "duration": 0.013521,
     "end_time": "2024-10-15T23:23:41.411000",
     "exception": false,
     "start_time": "2024-10-15T23:23:41.397479",
     "status": "completed"
    },
    "tags": []
   },
   "source": [
    "**2b. For the current year (Considering 2022 as the current year) , List top 5 states with the lowest Total beneficiary count****"
   ]
  },
  {
   "cell_type": "code",
   "execution_count": 29,
   "id": "3c68ecf4",
   "metadata": {
    "execution": {
     "iopub.execute_input": "2024-10-15T23:23:41.440172Z",
     "iopub.status.busy": "2024-10-15T23:23:41.439258Z",
     "iopub.status.idle": "2024-10-15T23:23:41.466801Z",
     "shell.execute_reply": "2024-10-15T23:23:41.465824Z"
    },
    "papermill": {
     "duration": 0.044383,
     "end_time": "2024-10-15T23:23:41.468930",
     "exception": false,
     "start_time": "2024-10-15T23:23:41.424547",
     "status": "completed"
    },
    "tags": []
   },
   "outputs": [
    {
     "data": {
      "text/html": [
       "<div>\n",
       "<style scoped>\n",
       "    .dataframe tbody tr th:only-of-type {\n",
       "        vertical-align: middle;\n",
       "    }\n",
       "\n",
       "    .dataframe tbody tr th {\n",
       "        vertical-align: top;\n",
       "    }\n",
       "\n",
       "    .dataframe thead th {\n",
       "        text-align: right;\n",
       "    }\n",
       "</style>\n",
       "<table border=\"1\" class=\"dataframe\">\n",
       "  <thead>\n",
       "    <tr style=\"text-align: right;\">\n",
       "      <th></th>\n",
       "      <th>TOT_BENES</th>\n",
       "      <th>state</th>\n",
       "    </tr>\n",
       "  </thead>\n",
       "  <tbody>\n",
       "    <tr>\n",
       "      <th>0</th>\n",
       "      <td>2958</td>\n",
       "      <td>MP</td>\n",
       "    </tr>\n",
       "    <tr>\n",
       "      <th>1</th>\n",
       "      <td>4862</td>\n",
       "      <td>AS</td>\n",
       "    </tr>\n",
       "    <tr>\n",
       "      <th>2</th>\n",
       "      <td>18697</td>\n",
       "      <td>GU</td>\n",
       "    </tr>\n",
       "    <tr>\n",
       "      <th>3</th>\n",
       "      <td>20478</td>\n",
       "      <td>VI</td>\n",
       "    </tr>\n",
       "    <tr>\n",
       "      <th>4</th>\n",
       "      <td>94560</td>\n",
       "      <td>DC</td>\n",
       "    </tr>\n",
       "  </tbody>\n",
       "</table>\n",
       "</div>"
      ],
      "text/plain": [
       "   TOT_BENES state\n",
       "0       2958    MP\n",
       "1       4862    AS\n",
       "2      18697    GU\n",
       "3      20478    VI\n",
       "4      94560    DC"
      ]
     },
     "execution_count": 29,
     "metadata": {},
     "output_type": "execute_result"
    }
   ],
   "source": [
    "#q1=''\n",
    "df_state_low = ps.sqldf(\"select tot_benes,BENE_STATE_ABRVTN as state from data_flt order by tot_benes asc\")\n",
    "#print(ps.sqldf(q1, locals()))\n",
    "df_state_low.head(5)\n"
   ]
  },
  {
   "cell_type": "markdown",
   "id": "b88c597e",
   "metadata": {
    "papermill": {
     "duration": 0.013293,
     "end_time": "2024-10-15T23:23:41.496097",
     "exception": false,
     "start_time": "2024-10-15T23:23:41.482804",
     "status": "completed"
    },
    "tags": []
   },
   "source": [
    "**3. For the current year (Considering 2022 as the current year) , List top 5 states with the highest disability count****"
   ]
  },
  {
   "cell_type": "code",
   "execution_count": 30,
   "id": "fbe338eb",
   "metadata": {
    "execution": {
     "iopub.execute_input": "2024-10-15T23:23:41.524854Z",
     "iopub.status.busy": "2024-10-15T23:23:41.524467Z",
     "iopub.status.idle": "2024-10-15T23:23:41.551948Z",
     "shell.execute_reply": "2024-10-15T23:23:41.551051Z"
    },
    "papermill": {
     "duration": 0.04434,
     "end_time": "2024-10-15T23:23:41.553963",
     "exception": false,
     "start_time": "2024-10-15T23:23:41.509623",
     "status": "completed"
    },
    "tags": []
   },
   "outputs": [
    {
     "data": {
      "text/html": [
       "<div>\n",
       "<style scoped>\n",
       "    .dataframe tbody tr th:only-of-type {\n",
       "        vertical-align: middle;\n",
       "    }\n",
       "\n",
       "    .dataframe tbody tr th {\n",
       "        vertical-align: top;\n",
       "    }\n",
       "\n",
       "    .dataframe thead th {\n",
       "        text-align: right;\n",
       "    }\n",
       "</style>\n",
       "<table border=\"1\" class=\"dataframe\">\n",
       "  <thead>\n",
       "    <tr style=\"text-align: right;\">\n",
       "      <th></th>\n",
       "      <th>State</th>\n",
       "      <th>Total Beneficiaries(Disabled)</th>\n",
       "    </tr>\n",
       "  </thead>\n",
       "  <tbody>\n",
       "    <tr>\n",
       "      <th>0</th>\n",
       "      <td>CA</td>\n",
       "      <td>572698</td>\n",
       "    </tr>\n",
       "    <tr>\n",
       "      <th>1</th>\n",
       "      <td>TX</td>\n",
       "      <td>520387</td>\n",
       "    </tr>\n",
       "    <tr>\n",
       "      <th>2</th>\n",
       "      <td>FL</td>\n",
       "      <td>495622</td>\n",
       "    </tr>\n",
       "    <tr>\n",
       "      <th>3</th>\n",
       "      <td>NY</td>\n",
       "      <td>446985</td>\n",
       "    </tr>\n",
       "    <tr>\n",
       "      <th>4</th>\n",
       "      <td>PA</td>\n",
       "      <td>353378</td>\n",
       "    </tr>\n",
       "  </tbody>\n",
       "</table>\n",
       "</div>"
      ],
      "text/plain": [
       "  State  Total Beneficiaries(Disabled)\n",
       "0    CA                         572698\n",
       "1    TX                         520387\n",
       "2    FL                         495622\n",
       "3    NY                         446985\n",
       "4    PA                         353378"
      ]
     },
     "execution_count": 30,
     "metadata": {},
     "output_type": "execute_result"
    }
   ],
   "source": [
    "# Top 5 states with highest disabled beneficiaries \n",
    "df_dsbld = ps.sqldf(\"select state as 'State', dsbld_tot_benes as 'Total Beneficiaries(Disabled)' from (select dsbld_tot_benes, bene_state_abrvtn as state, RANK() OVER(order by dsbld_tot_benes desc) as RN from data_flt  order by RN) as temp where RN < 6\")\n",
    "df_dsbld.head(5)"
   ]
  },
  {
   "cell_type": "markdown",
   "id": "f9a2136a",
   "metadata": {
    "papermill": {
     "duration": 0.013644,
     "end_time": "2024-10-15T23:23:41.581653",
     "exception": false,
     "start_time": "2024-10-15T23:23:41.568009",
     "status": "completed"
    },
    "tags": []
   },
   "source": [
    "**4. Visualization (A choropleth map ) for Total beneficiaries by states (Refer to newplot.png) **"
   ]
  },
  {
   "cell_type": "code",
   "execution_count": 31,
   "id": "35c3ddf2",
   "metadata": {
    "execution": {
     "iopub.execute_input": "2024-10-15T23:23:41.611271Z",
     "iopub.status.busy": "2024-10-15T23:23:41.610628Z",
     "iopub.status.idle": "2024-10-15T23:23:43.234140Z",
     "shell.execute_reply": "2024-10-15T23:23:43.233072Z"
    },
    "papermill": {
     "duration": 1.641391,
     "end_time": "2024-10-15T23:23:43.237055",
     "exception": false,
     "start_time": "2024-10-15T23:23:41.595664",
     "status": "completed"
    },
    "tags": []
   },
   "outputs": [
    {
     "data": {
      "application/vnd.plotly.v1+json": {
       "config": {
        "linkText": "Export to plot.ly",
        "plotlyServerURL": "https://plot.ly",
        "showLink": false
       },
       "data": [
        {
         "autocolorscale": false,
         "colorbar": {
          "title": {
           "text": "Top States by Total beneficiaries"
          }
         },
         "colorscale": [
          [
           0,
           "rgb(240,240,240)"
          ],
          [
           0.005,
           "rgb(13,136,198)"
          ],
          [
           0.1,
           "rgb(191,247,202)"
          ],
          [
           0.2,
           "rgb(4,145,32)"
          ],
          [
           1,
           "rgb(227,26,28,0.5)"
          ]
         ],
         "locationmode": "USA-states",
         "locations": [
          "CA",
          "FL",
          "TX",
          "NY",
          "PA",
          "OH",
          "IL",
          "MI",
          "NC",
          "GA",
          "NJ",
          "VA",
          "WA",
          "AZ",
          "TN",
          "MA",
          "IN",
          "MO",
          "WI",
          "SC",
          "MD",
          "MN",
          "AL",
          "CO",
          "KY",
          "OR",
          "LA",
          "OK",
          "PR",
          "CT",
          "AR",
          "IA",
          "MS",
          "NV",
          "KS",
          "FO",
          "NM",
          "WV",
          "UT",
          "ID",
          "NE",
          "ME",
          "NH",
          "HI",
          "MT",
          "RI",
          "DE",
          "SD",
          "VT",
          "ND",
          "WY",
          "AK",
          "DC",
          "VI",
          "GU",
          "AS",
          "MP"
         ],
         "marker": {
          "line": {
           "color": "rgb(255,255,255)",
           "width": 2
          }
         },
         "text": [
          "CA",
          "FL",
          "TX",
          "NY",
          "PA",
          "OH",
          "IL",
          "MI",
          "NC",
          "GA",
          "NJ",
          "VA",
          "WA",
          "AZ",
          "TN",
          "MA",
          "IN",
          "MO",
          "WI",
          "SC",
          "MD",
          "MN",
          "AL",
          "CO",
          "KY",
          "OR",
          "LA",
          "OK",
          "PR",
          "CT",
          "AR",
          "IA",
          "MS",
          "NV",
          "KS",
          "FO",
          "NM",
          "WV",
          "UT",
          "ID",
          "NE",
          "ME",
          "NH",
          "HI",
          "MT",
          "RI",
          "DE",
          "SD",
          "VT",
          "ND",
          "WY",
          "AK",
          "DC",
          "VI",
          "GU",
          "AS",
          "MP"
         ],
         "type": "choropleth",
         "z": [
          6626725,
          4920095,
          4508562,
          3759903,
          2845419,
          2442243,
          2320668,
          2163215,
          2124432,
          1851219,
          1687187,
          1608555,
          1459513,
          1429562,
          1428337,
          1399105,
          1322452,
          1283482,
          1253530,
          1165048,
          1096897,
          1093231,
          1084414,
          983846,
          961541,
          915824,
          906276,
          776043,
          760829,
          717320,
          660847,
          658644,
          622011,
          573317,
          566292,
          510365,
          446906,
          445108,
          439398,
          371589,
          367965,
          363592,
          325595,
          294835,
          249947,
          232532,
          229894,
          189202,
          158484,
          140621,
          120658,
          111388,
          94560,
          20478,
          18697,
          4862,
          2958
         ]
        }
       ],
       "layout": {
        "geo": {
         "lakecolor": "rgb(255, 255, 255)",
         "projection": {
          "type": "albers usa"
         },
         "scope": "usa",
         "showlakes": true
        },
        "template": {
         "data": {
          "bar": [
           {
            "error_x": {
             "color": "#2a3f5f"
            },
            "error_y": {
             "color": "#2a3f5f"
            },
            "marker": {
             "line": {
              "color": "#E5ECF6",
              "width": 0.5
             },
             "pattern": {
              "fillmode": "overlay",
              "size": 10,
              "solidity": 0.2
             }
            },
            "type": "bar"
           }
          ],
          "barpolar": [
           {
            "marker": {
             "line": {
              "color": "#E5ECF6",
              "width": 0.5
             },
             "pattern": {
              "fillmode": "overlay",
              "size": 10,
              "solidity": 0.2
             }
            },
            "type": "barpolar"
           }
          ],
          "carpet": [
           {
            "aaxis": {
             "endlinecolor": "#2a3f5f",
             "gridcolor": "white",
             "linecolor": "white",
             "minorgridcolor": "white",
             "startlinecolor": "#2a3f5f"
            },
            "baxis": {
             "endlinecolor": "#2a3f5f",
             "gridcolor": "white",
             "linecolor": "white",
             "minorgridcolor": "white",
             "startlinecolor": "#2a3f5f"
            },
            "type": "carpet"
           }
          ],
          "choropleth": [
           {
            "colorbar": {
             "outlinewidth": 0,
             "ticks": ""
            },
            "type": "choropleth"
           }
          ],
          "contour": [
           {
            "colorbar": {
             "outlinewidth": 0,
             "ticks": ""
            },
            "colorscale": [
             [
              0.0,
              "#0d0887"
             ],
             [
              0.1111111111111111,
              "#46039f"
             ],
             [
              0.2222222222222222,
              "#7201a8"
             ],
             [
              0.3333333333333333,
              "#9c179e"
             ],
             [
              0.4444444444444444,
              "#bd3786"
             ],
             [
              0.5555555555555556,
              "#d8576b"
             ],
             [
              0.6666666666666666,
              "#ed7953"
             ],
             [
              0.7777777777777778,
              "#fb9f3a"
             ],
             [
              0.8888888888888888,
              "#fdca26"
             ],
             [
              1.0,
              "#f0f921"
             ]
            ],
            "type": "contour"
           }
          ],
          "contourcarpet": [
           {
            "colorbar": {
             "outlinewidth": 0,
             "ticks": ""
            },
            "type": "contourcarpet"
           }
          ],
          "heatmap": [
           {
            "colorbar": {
             "outlinewidth": 0,
             "ticks": ""
            },
            "colorscale": [
             [
              0.0,
              "#0d0887"
             ],
             [
              0.1111111111111111,
              "#46039f"
             ],
             [
              0.2222222222222222,
              "#7201a8"
             ],
             [
              0.3333333333333333,
              "#9c179e"
             ],
             [
              0.4444444444444444,
              "#bd3786"
             ],
             [
              0.5555555555555556,
              "#d8576b"
             ],
             [
              0.6666666666666666,
              "#ed7953"
             ],
             [
              0.7777777777777778,
              "#fb9f3a"
             ],
             [
              0.8888888888888888,
              "#fdca26"
             ],
             [
              1.0,
              "#f0f921"
             ]
            ],
            "type": "heatmap"
           }
          ],
          "heatmapgl": [
           {
            "colorbar": {
             "outlinewidth": 0,
             "ticks": ""
            },
            "colorscale": [
             [
              0.0,
              "#0d0887"
             ],
             [
              0.1111111111111111,
              "#46039f"
             ],
             [
              0.2222222222222222,
              "#7201a8"
             ],
             [
              0.3333333333333333,
              "#9c179e"
             ],
             [
              0.4444444444444444,
              "#bd3786"
             ],
             [
              0.5555555555555556,
              "#d8576b"
             ],
             [
              0.6666666666666666,
              "#ed7953"
             ],
             [
              0.7777777777777778,
              "#fb9f3a"
             ],
             [
              0.8888888888888888,
              "#fdca26"
             ],
             [
              1.0,
              "#f0f921"
             ]
            ],
            "type": "heatmapgl"
           }
          ],
          "histogram": [
           {
            "marker": {
             "pattern": {
              "fillmode": "overlay",
              "size": 10,
              "solidity": 0.2
             }
            },
            "type": "histogram"
           }
          ],
          "histogram2d": [
           {
            "colorbar": {
             "outlinewidth": 0,
             "ticks": ""
            },
            "colorscale": [
             [
              0.0,
              "#0d0887"
             ],
             [
              0.1111111111111111,
              "#46039f"
             ],
             [
              0.2222222222222222,
              "#7201a8"
             ],
             [
              0.3333333333333333,
              "#9c179e"
             ],
             [
              0.4444444444444444,
              "#bd3786"
             ],
             [
              0.5555555555555556,
              "#d8576b"
             ],
             [
              0.6666666666666666,
              "#ed7953"
             ],
             [
              0.7777777777777778,
              "#fb9f3a"
             ],
             [
              0.8888888888888888,
              "#fdca26"
             ],
             [
              1.0,
              "#f0f921"
             ]
            ],
            "type": "histogram2d"
           }
          ],
          "histogram2dcontour": [
           {
            "colorbar": {
             "outlinewidth": 0,
             "ticks": ""
            },
            "colorscale": [
             [
              0.0,
              "#0d0887"
             ],
             [
              0.1111111111111111,
              "#46039f"
             ],
             [
              0.2222222222222222,
              "#7201a8"
             ],
             [
              0.3333333333333333,
              "#9c179e"
             ],
             [
              0.4444444444444444,
              "#bd3786"
             ],
             [
              0.5555555555555556,
              "#d8576b"
             ],
             [
              0.6666666666666666,
              "#ed7953"
             ],
             [
              0.7777777777777778,
              "#fb9f3a"
             ],
             [
              0.8888888888888888,
              "#fdca26"
             ],
             [
              1.0,
              "#f0f921"
             ]
            ],
            "type": "histogram2dcontour"
           }
          ],
          "mesh3d": [
           {
            "colorbar": {
             "outlinewidth": 0,
             "ticks": ""
            },
            "type": "mesh3d"
           }
          ],
          "parcoords": [
           {
            "line": {
             "colorbar": {
              "outlinewidth": 0,
              "ticks": ""
             }
            },
            "type": "parcoords"
           }
          ],
          "pie": [
           {
            "automargin": true,
            "type": "pie"
           }
          ],
          "scatter": [
           {
            "fillpattern": {
             "fillmode": "overlay",
             "size": 10,
             "solidity": 0.2
            },
            "type": "scatter"
           }
          ],
          "scatter3d": [
           {
            "line": {
             "colorbar": {
              "outlinewidth": 0,
              "ticks": ""
             }
            },
            "marker": {
             "colorbar": {
              "outlinewidth": 0,
              "ticks": ""
             }
            },
            "type": "scatter3d"
           }
          ],
          "scattercarpet": [
           {
            "marker": {
             "colorbar": {
              "outlinewidth": 0,
              "ticks": ""
             }
            },
            "type": "scattercarpet"
           }
          ],
          "scattergeo": [
           {
            "marker": {
             "colorbar": {
              "outlinewidth": 0,
              "ticks": ""
             }
            },
            "type": "scattergeo"
           }
          ],
          "scattergl": [
           {
            "marker": {
             "colorbar": {
              "outlinewidth": 0,
              "ticks": ""
             }
            },
            "type": "scattergl"
           }
          ],
          "scattermapbox": [
           {
            "marker": {
             "colorbar": {
              "outlinewidth": 0,
              "ticks": ""
             }
            },
            "type": "scattermapbox"
           }
          ],
          "scatterpolar": [
           {
            "marker": {
             "colorbar": {
              "outlinewidth": 0,
              "ticks": ""
             }
            },
            "type": "scatterpolar"
           }
          ],
          "scatterpolargl": [
           {
            "marker": {
             "colorbar": {
              "outlinewidth": 0,
              "ticks": ""
             }
            },
            "type": "scatterpolargl"
           }
          ],
          "scatterternary": [
           {
            "marker": {
             "colorbar": {
              "outlinewidth": 0,
              "ticks": ""
             }
            },
            "type": "scatterternary"
           }
          ],
          "surface": [
           {
            "colorbar": {
             "outlinewidth": 0,
             "ticks": ""
            },
            "colorscale": [
             [
              0.0,
              "#0d0887"
             ],
             [
              0.1111111111111111,
              "#46039f"
             ],
             [
              0.2222222222222222,
              "#7201a8"
             ],
             [
              0.3333333333333333,
              "#9c179e"
             ],
             [
              0.4444444444444444,
              "#bd3786"
             ],
             [
              0.5555555555555556,
              "#d8576b"
             ],
             [
              0.6666666666666666,
              "#ed7953"
             ],
             [
              0.7777777777777778,
              "#fb9f3a"
             ],
             [
              0.8888888888888888,
              "#fdca26"
             ],
             [
              1.0,
              "#f0f921"
             ]
            ],
            "type": "surface"
           }
          ],
          "table": [
           {
            "cells": {
             "fill": {
              "color": "#EBF0F8"
             },
             "line": {
              "color": "white"
             }
            },
            "header": {
             "fill": {
              "color": "#C8D4E3"
             },
             "line": {
              "color": "white"
             }
            },
            "type": "table"
           }
          ]
         },
         "layout": {
          "annotationdefaults": {
           "arrowcolor": "#2a3f5f",
           "arrowhead": 0,
           "arrowwidth": 1
          },
          "autotypenumbers": "strict",
          "coloraxis": {
           "colorbar": {
            "outlinewidth": 0,
            "ticks": ""
           }
          },
          "colorscale": {
           "diverging": [
            [
             0,
             "#8e0152"
            ],
            [
             0.1,
             "#c51b7d"
            ],
            [
             0.2,
             "#de77ae"
            ],
            [
             0.3,
             "#f1b6da"
            ],
            [
             0.4,
             "#fde0ef"
            ],
            [
             0.5,
             "#f7f7f7"
            ],
            [
             0.6,
             "#e6f5d0"
            ],
            [
             0.7,
             "#b8e186"
            ],
            [
             0.8,
             "#7fbc41"
            ],
            [
             0.9,
             "#4d9221"
            ],
            [
             1,
             "#276419"
            ]
           ],
           "sequential": [
            [
             0.0,
             "#0d0887"
            ],
            [
             0.1111111111111111,
             "#46039f"
            ],
            [
             0.2222222222222222,
             "#7201a8"
            ],
            [
             0.3333333333333333,
             "#9c179e"
            ],
            [
             0.4444444444444444,
             "#bd3786"
            ],
            [
             0.5555555555555556,
             "#d8576b"
            ],
            [
             0.6666666666666666,
             "#ed7953"
            ],
            [
             0.7777777777777778,
             "#fb9f3a"
            ],
            [
             0.8888888888888888,
             "#fdca26"
            ],
            [
             1.0,
             "#f0f921"
            ]
           ],
           "sequentialminus": [
            [
             0.0,
             "#0d0887"
            ],
            [
             0.1111111111111111,
             "#46039f"
            ],
            [
             0.2222222222222222,
             "#7201a8"
            ],
            [
             0.3333333333333333,
             "#9c179e"
            ],
            [
             0.4444444444444444,
             "#bd3786"
            ],
            [
             0.5555555555555556,
             "#d8576b"
            ],
            [
             0.6666666666666666,
             "#ed7953"
            ],
            [
             0.7777777777777778,
             "#fb9f3a"
            ],
            [
             0.8888888888888888,
             "#fdca26"
            ],
            [
             1.0,
             "#f0f921"
            ]
           ]
          },
          "colorway": [
           "#636efa",
           "#EF553B",
           "#00cc96",
           "#ab63fa",
           "#FFA15A",
           "#19d3f3",
           "#FF6692",
           "#B6E880",
           "#FF97FF",
           "#FECB52"
          ],
          "font": {
           "color": "#2a3f5f"
          },
          "geo": {
           "bgcolor": "white",
           "lakecolor": "white",
           "landcolor": "#E5ECF6",
           "showlakes": true,
           "showland": true,
           "subunitcolor": "white"
          },
          "hoverlabel": {
           "align": "left"
          },
          "hovermode": "closest",
          "mapbox": {
           "style": "light"
          },
          "paper_bgcolor": "white",
          "plot_bgcolor": "#E5ECF6",
          "polar": {
           "angularaxis": {
            "gridcolor": "white",
            "linecolor": "white",
            "ticks": ""
           },
           "bgcolor": "#E5ECF6",
           "radialaxis": {
            "gridcolor": "white",
            "linecolor": "white",
            "ticks": ""
           }
          },
          "scene": {
           "xaxis": {
            "backgroundcolor": "#E5ECF6",
            "gridcolor": "white",
            "gridwidth": 2,
            "linecolor": "white",
            "showbackground": true,
            "ticks": "",
            "zerolinecolor": "white"
           },
           "yaxis": {
            "backgroundcolor": "#E5ECF6",
            "gridcolor": "white",
            "gridwidth": 2,
            "linecolor": "white",
            "showbackground": true,
            "ticks": "",
            "zerolinecolor": "white"
           },
           "zaxis": {
            "backgroundcolor": "#E5ECF6",
            "gridcolor": "white",
            "gridwidth": 2,
            "linecolor": "white",
            "showbackground": true,
            "ticks": "",
            "zerolinecolor": "white"
           }
          },
          "shapedefaults": {
           "line": {
            "color": "#2a3f5f"
           }
          },
          "ternary": {
           "aaxis": {
            "gridcolor": "white",
            "linecolor": "white",
            "ticks": ""
           },
           "baxis": {
            "gridcolor": "white",
            "linecolor": "white",
            "ticks": ""
           },
           "bgcolor": "#E5ECF6",
           "caxis": {
            "gridcolor": "white",
            "linecolor": "white",
            "ticks": ""
           }
          },
          "title": {
           "x": 0.05
          },
          "xaxis": {
           "automargin": true,
           "gridcolor": "white",
           "linecolor": "white",
           "ticks": "",
           "title": {
            "standoff": 15
           },
           "zerolinecolor": "white",
           "zerolinewidth": 2
          },
          "yaxis": {
           "automargin": true,
           "gridcolor": "white",
           "linecolor": "white",
           "ticks": "",
           "title": {
            "standoff": 15
           },
           "zerolinecolor": "white",
           "zerolinewidth": 2
          }
         }
        },
        "title": {
         "text": "Top States by Total beneficiaries - year 2022"
        }
       }
      },
      "text/html": [
       "<div>                            <div id=\"2279311b-a3be-4f0a-a04e-4822bc205112\" class=\"plotly-graph-div\" style=\"height:525px; width:100%;\"></div>            <script type=\"text/javascript\">                require([\"plotly\"], function(Plotly) {                    window.PLOTLYENV=window.PLOTLYENV || {};                                    if (document.getElementById(\"2279311b-a3be-4f0a-a04e-4822bc205112\")) {                    Plotly.newPlot(                        \"2279311b-a3be-4f0a-a04e-4822bc205112\",                        [{\"autocolorscale\":false,\"colorbar\":{\"title\":{\"text\":\"Top States by Total beneficiaries\"}},\"colorscale\":[[0,\"rgb(240,240,240)\"],[0.005,\"rgb(13,136,198)\"],[0.1,\"rgb(191,247,202)\"],[0.2,\"rgb(4,145,32)\"],[1,\"rgb(227,26,28,0.5)\"]],\"locationmode\":\"USA-states\",\"locations\":[\"CA\",\"FL\",\"TX\",\"NY\",\"PA\",\"OH\",\"IL\",\"MI\",\"NC\",\"GA\",\"NJ\",\"VA\",\"WA\",\"AZ\",\"TN\",\"MA\",\"IN\",\"MO\",\"WI\",\"SC\",\"MD\",\"MN\",\"AL\",\"CO\",\"KY\",\"OR\",\"LA\",\"OK\",\"PR\",\"CT\",\"AR\",\"IA\",\"MS\",\"NV\",\"KS\",\"FO\",\"NM\",\"WV\",\"UT\",\"ID\",\"NE\",\"ME\",\"NH\",\"HI\",\"MT\",\"RI\",\"DE\",\"SD\",\"VT\",\"ND\",\"WY\",\"AK\",\"DC\",\"VI\",\"GU\",\"AS\",\"MP\"],\"marker\":{\"line\":{\"color\":\"rgb(255,255,255)\",\"width\":2}},\"text\":[\"CA\",\"FL\",\"TX\",\"NY\",\"PA\",\"OH\",\"IL\",\"MI\",\"NC\",\"GA\",\"NJ\",\"VA\",\"WA\",\"AZ\",\"TN\",\"MA\",\"IN\",\"MO\",\"WI\",\"SC\",\"MD\",\"MN\",\"AL\",\"CO\",\"KY\",\"OR\",\"LA\",\"OK\",\"PR\",\"CT\",\"AR\",\"IA\",\"MS\",\"NV\",\"KS\",\"FO\",\"NM\",\"WV\",\"UT\",\"ID\",\"NE\",\"ME\",\"NH\",\"HI\",\"MT\",\"RI\",\"DE\",\"SD\",\"VT\",\"ND\",\"WY\",\"AK\",\"DC\",\"VI\",\"GU\",\"AS\",\"MP\"],\"z\":[6626725,4920095,4508562,3759903,2845419,2442243,2320668,2163215,2124432,1851219,1687187,1608555,1459513,1429562,1428337,1399105,1322452,1283482,1253530,1165048,1096897,1093231,1084414,983846,961541,915824,906276,776043,760829,717320,660847,658644,622011,573317,566292,510365,446906,445108,439398,371589,367965,363592,325595,294835,249947,232532,229894,189202,158484,140621,120658,111388,94560,20478,18697,4862,2958],\"type\":\"choropleth\"}],                        {\"geo\":{\"lakecolor\":\"rgb(255, 255, 255)\",\"projection\":{\"type\":\"albers usa\"},\"scope\":\"usa\",\"showlakes\":true},\"template\":{\"data\":{\"barpolar\":[{\"marker\":{\"line\":{\"color\":\"#E5ECF6\",\"width\":0.5},\"pattern\":{\"fillmode\":\"overlay\",\"size\":10,\"solidity\":0.2}},\"type\":\"barpolar\"}],\"bar\":[{\"error_x\":{\"color\":\"#2a3f5f\"},\"error_y\":{\"color\":\"#2a3f5f\"},\"marker\":{\"line\":{\"color\":\"#E5ECF6\",\"width\":0.5},\"pattern\":{\"fillmode\":\"overlay\",\"size\":10,\"solidity\":0.2}},\"type\":\"bar\"}],\"carpet\":[{\"aaxis\":{\"endlinecolor\":\"#2a3f5f\",\"gridcolor\":\"white\",\"linecolor\":\"white\",\"minorgridcolor\":\"white\",\"startlinecolor\":\"#2a3f5f\"},\"baxis\":{\"endlinecolor\":\"#2a3f5f\",\"gridcolor\":\"white\",\"linecolor\":\"white\",\"minorgridcolor\":\"white\",\"startlinecolor\":\"#2a3f5f\"},\"type\":\"carpet\"}],\"choropleth\":[{\"colorbar\":{\"outlinewidth\":0,\"ticks\":\"\"},\"type\":\"choropleth\"}],\"contourcarpet\":[{\"colorbar\":{\"outlinewidth\":0,\"ticks\":\"\"},\"type\":\"contourcarpet\"}],\"contour\":[{\"colorbar\":{\"outlinewidth\":0,\"ticks\":\"\"},\"colorscale\":[[0.0,\"#0d0887\"],[0.1111111111111111,\"#46039f\"],[0.2222222222222222,\"#7201a8\"],[0.3333333333333333,\"#9c179e\"],[0.4444444444444444,\"#bd3786\"],[0.5555555555555556,\"#d8576b\"],[0.6666666666666666,\"#ed7953\"],[0.7777777777777778,\"#fb9f3a\"],[0.8888888888888888,\"#fdca26\"],[1.0,\"#f0f921\"]],\"type\":\"contour\"}],\"heatmapgl\":[{\"colorbar\":{\"outlinewidth\":0,\"ticks\":\"\"},\"colorscale\":[[0.0,\"#0d0887\"],[0.1111111111111111,\"#46039f\"],[0.2222222222222222,\"#7201a8\"],[0.3333333333333333,\"#9c179e\"],[0.4444444444444444,\"#bd3786\"],[0.5555555555555556,\"#d8576b\"],[0.6666666666666666,\"#ed7953\"],[0.7777777777777778,\"#fb9f3a\"],[0.8888888888888888,\"#fdca26\"],[1.0,\"#f0f921\"]],\"type\":\"heatmapgl\"}],\"heatmap\":[{\"colorbar\":{\"outlinewidth\":0,\"ticks\":\"\"},\"colorscale\":[[0.0,\"#0d0887\"],[0.1111111111111111,\"#46039f\"],[0.2222222222222222,\"#7201a8\"],[0.3333333333333333,\"#9c179e\"],[0.4444444444444444,\"#bd3786\"],[0.5555555555555556,\"#d8576b\"],[0.6666666666666666,\"#ed7953\"],[0.7777777777777778,\"#fb9f3a\"],[0.8888888888888888,\"#fdca26\"],[1.0,\"#f0f921\"]],\"type\":\"heatmap\"}],\"histogram2dcontour\":[{\"colorbar\":{\"outlinewidth\":0,\"ticks\":\"\"},\"colorscale\":[[0.0,\"#0d0887\"],[0.1111111111111111,\"#46039f\"],[0.2222222222222222,\"#7201a8\"],[0.3333333333333333,\"#9c179e\"],[0.4444444444444444,\"#bd3786\"],[0.5555555555555556,\"#d8576b\"],[0.6666666666666666,\"#ed7953\"],[0.7777777777777778,\"#fb9f3a\"],[0.8888888888888888,\"#fdca26\"],[1.0,\"#f0f921\"]],\"type\":\"histogram2dcontour\"}],\"histogram2d\":[{\"colorbar\":{\"outlinewidth\":0,\"ticks\":\"\"},\"colorscale\":[[0.0,\"#0d0887\"],[0.1111111111111111,\"#46039f\"],[0.2222222222222222,\"#7201a8\"],[0.3333333333333333,\"#9c179e\"],[0.4444444444444444,\"#bd3786\"],[0.5555555555555556,\"#d8576b\"],[0.6666666666666666,\"#ed7953\"],[0.7777777777777778,\"#fb9f3a\"],[0.8888888888888888,\"#fdca26\"],[1.0,\"#f0f921\"]],\"type\":\"histogram2d\"}],\"histogram\":[{\"marker\":{\"pattern\":{\"fillmode\":\"overlay\",\"size\":10,\"solidity\":0.2}},\"type\":\"histogram\"}],\"mesh3d\":[{\"colorbar\":{\"outlinewidth\":0,\"ticks\":\"\"},\"type\":\"mesh3d\"}],\"parcoords\":[{\"line\":{\"colorbar\":{\"outlinewidth\":0,\"ticks\":\"\"}},\"type\":\"parcoords\"}],\"pie\":[{\"automargin\":true,\"type\":\"pie\"}],\"scatter3d\":[{\"line\":{\"colorbar\":{\"outlinewidth\":0,\"ticks\":\"\"}},\"marker\":{\"colorbar\":{\"outlinewidth\":0,\"ticks\":\"\"}},\"type\":\"scatter3d\"}],\"scattercarpet\":[{\"marker\":{\"colorbar\":{\"outlinewidth\":0,\"ticks\":\"\"}},\"type\":\"scattercarpet\"}],\"scattergeo\":[{\"marker\":{\"colorbar\":{\"outlinewidth\":0,\"ticks\":\"\"}},\"type\":\"scattergeo\"}],\"scattergl\":[{\"marker\":{\"colorbar\":{\"outlinewidth\":0,\"ticks\":\"\"}},\"type\":\"scattergl\"}],\"scattermapbox\":[{\"marker\":{\"colorbar\":{\"outlinewidth\":0,\"ticks\":\"\"}},\"type\":\"scattermapbox\"}],\"scatterpolargl\":[{\"marker\":{\"colorbar\":{\"outlinewidth\":0,\"ticks\":\"\"}},\"type\":\"scatterpolargl\"}],\"scatterpolar\":[{\"marker\":{\"colorbar\":{\"outlinewidth\":0,\"ticks\":\"\"}},\"type\":\"scatterpolar\"}],\"scatter\":[{\"fillpattern\":{\"fillmode\":\"overlay\",\"size\":10,\"solidity\":0.2},\"type\":\"scatter\"}],\"scatterternary\":[{\"marker\":{\"colorbar\":{\"outlinewidth\":0,\"ticks\":\"\"}},\"type\":\"scatterternary\"}],\"surface\":[{\"colorbar\":{\"outlinewidth\":0,\"ticks\":\"\"},\"colorscale\":[[0.0,\"#0d0887\"],[0.1111111111111111,\"#46039f\"],[0.2222222222222222,\"#7201a8\"],[0.3333333333333333,\"#9c179e\"],[0.4444444444444444,\"#bd3786\"],[0.5555555555555556,\"#d8576b\"],[0.6666666666666666,\"#ed7953\"],[0.7777777777777778,\"#fb9f3a\"],[0.8888888888888888,\"#fdca26\"],[1.0,\"#f0f921\"]],\"type\":\"surface\"}],\"table\":[{\"cells\":{\"fill\":{\"color\":\"#EBF0F8\"},\"line\":{\"color\":\"white\"}},\"header\":{\"fill\":{\"color\":\"#C8D4E3\"},\"line\":{\"color\":\"white\"}},\"type\":\"table\"}]},\"layout\":{\"annotationdefaults\":{\"arrowcolor\":\"#2a3f5f\",\"arrowhead\":0,\"arrowwidth\":1},\"autotypenumbers\":\"strict\",\"coloraxis\":{\"colorbar\":{\"outlinewidth\":0,\"ticks\":\"\"}},\"colorscale\":{\"diverging\":[[0,\"#8e0152\"],[0.1,\"#c51b7d\"],[0.2,\"#de77ae\"],[0.3,\"#f1b6da\"],[0.4,\"#fde0ef\"],[0.5,\"#f7f7f7\"],[0.6,\"#e6f5d0\"],[0.7,\"#b8e186\"],[0.8,\"#7fbc41\"],[0.9,\"#4d9221\"],[1,\"#276419\"]],\"sequential\":[[0.0,\"#0d0887\"],[0.1111111111111111,\"#46039f\"],[0.2222222222222222,\"#7201a8\"],[0.3333333333333333,\"#9c179e\"],[0.4444444444444444,\"#bd3786\"],[0.5555555555555556,\"#d8576b\"],[0.6666666666666666,\"#ed7953\"],[0.7777777777777778,\"#fb9f3a\"],[0.8888888888888888,\"#fdca26\"],[1.0,\"#f0f921\"]],\"sequentialminus\":[[0.0,\"#0d0887\"],[0.1111111111111111,\"#46039f\"],[0.2222222222222222,\"#7201a8\"],[0.3333333333333333,\"#9c179e\"],[0.4444444444444444,\"#bd3786\"],[0.5555555555555556,\"#d8576b\"],[0.6666666666666666,\"#ed7953\"],[0.7777777777777778,\"#fb9f3a\"],[0.8888888888888888,\"#fdca26\"],[1.0,\"#f0f921\"]]},\"colorway\":[\"#636efa\",\"#EF553B\",\"#00cc96\",\"#ab63fa\",\"#FFA15A\",\"#19d3f3\",\"#FF6692\",\"#B6E880\",\"#FF97FF\",\"#FECB52\"],\"font\":{\"color\":\"#2a3f5f\"},\"geo\":{\"bgcolor\":\"white\",\"lakecolor\":\"white\",\"landcolor\":\"#E5ECF6\",\"showlakes\":true,\"showland\":true,\"subunitcolor\":\"white\"},\"hoverlabel\":{\"align\":\"left\"},\"hovermode\":\"closest\",\"mapbox\":{\"style\":\"light\"},\"paper_bgcolor\":\"white\",\"plot_bgcolor\":\"#E5ECF6\",\"polar\":{\"angularaxis\":{\"gridcolor\":\"white\",\"linecolor\":\"white\",\"ticks\":\"\"},\"bgcolor\":\"#E5ECF6\",\"radialaxis\":{\"gridcolor\":\"white\",\"linecolor\":\"white\",\"ticks\":\"\"}},\"scene\":{\"xaxis\":{\"backgroundcolor\":\"#E5ECF6\",\"gridcolor\":\"white\",\"gridwidth\":2,\"linecolor\":\"white\",\"showbackground\":true,\"ticks\":\"\",\"zerolinecolor\":\"white\"},\"yaxis\":{\"backgroundcolor\":\"#E5ECF6\",\"gridcolor\":\"white\",\"gridwidth\":2,\"linecolor\":\"white\",\"showbackground\":true,\"ticks\":\"\",\"zerolinecolor\":\"white\"},\"zaxis\":{\"backgroundcolor\":\"#E5ECF6\",\"gridcolor\":\"white\",\"gridwidth\":2,\"linecolor\":\"white\",\"showbackground\":true,\"ticks\":\"\",\"zerolinecolor\":\"white\"}},\"shapedefaults\":{\"line\":{\"color\":\"#2a3f5f\"}},\"ternary\":{\"aaxis\":{\"gridcolor\":\"white\",\"linecolor\":\"white\",\"ticks\":\"\"},\"baxis\":{\"gridcolor\":\"white\",\"linecolor\":\"white\",\"ticks\":\"\"},\"bgcolor\":\"#E5ECF6\",\"caxis\":{\"gridcolor\":\"white\",\"linecolor\":\"white\",\"ticks\":\"\"}},\"title\":{\"x\":0.05},\"xaxis\":{\"automargin\":true,\"gridcolor\":\"white\",\"linecolor\":\"white\",\"ticks\":\"\",\"title\":{\"standoff\":15},\"zerolinecolor\":\"white\",\"zerolinewidth\":2},\"yaxis\":{\"automargin\":true,\"gridcolor\":\"white\",\"linecolor\":\"white\",\"ticks\":\"\",\"title\":{\"standoff\":15},\"zerolinecolor\":\"white\",\"zerolinewidth\":2}}},\"title\":{\"text\":\"Top States by Total beneficiaries - year 2022\"}},                        {\"responsive\": true}                    ).then(function(){\n",
       "                            \n",
       "var gd = document.getElementById('2279311b-a3be-4f0a-a04e-4822bc205112');\n",
       "var x = new MutationObserver(function (mutations, observer) {{\n",
       "        var display = window.getComputedStyle(gd).display;\n",
       "        if (!display || display === 'none') {{\n",
       "            console.log([gd, 'removed!']);\n",
       "            Plotly.purge(gd);\n",
       "            observer.disconnect();\n",
       "        }}\n",
       "}});\n",
       "\n",
       "// Listen for the removal of the full notebook cells\n",
       "var notebookContainer = gd.closest('#notebook-container');\n",
       "if (notebookContainer) {{\n",
       "    x.observe(notebookContainer, {childList: true});\n",
       "}}\n",
       "\n",
       "// Listen for the clearing of the current output cell\n",
       "var outputEl = gd.closest('.output');\n",
       "if (outputEl) {{\n",
       "    x.observe(outputEl, {childList: true});\n",
       "}}\n",
       "\n",
       "                        })                };                });            </script>        </div>"
      ]
     },
     "metadata": {},
     "output_type": "display_data"
    }
   ],
   "source": [
    "#scl = [[0.0, 'rgb(248,255,206)'],[0.2, 'rgb(203,255,205)'],[0.4, 'rgb(155,255,164)'], [0.6, 'rgb(79,255,178)'],[0.8, 'rgb(15,183,132)'], [1, '#008059']]\n",
    "color_continuous_scale=[[0, 'rgb(240,240,240)'],[0.005, 'rgb(13,136,198)'],[0.1, 'rgb(191,247,202)'],[0.20, 'rgb(4,145,32)'],[1, 'rgb(227,26,28,0.5)']]\n",
    "data = [ dict(\n",
    "        type='choropleth',\n",
    "        colorscale = color_continuous_scale,\n",
    "        autocolorscale = False,\n",
    "        locations = df_state.state,\n",
    "        z = df_state.TOT_BENES,\n",
    "        locationmode = 'USA-states',\n",
    "        text = df_state.state,\n",
    "        marker = dict(\n",
    "            line = dict (\n",
    "                color = 'rgb(255,255,255)',\n",
    "                width = 2\n",
    "            ) ),\n",
    "        colorbar = dict(\n",
    "            title = \"Top States by Total beneficiaries\")\n",
    "        )\n",
    "       ]\n",
    "\n",
    "layout = dict(\n",
    "        title = 'Top States by Total beneficiaries - year 2022',\n",
    "        geo = dict(\n",
    "            scope='usa',\n",
    "            projection=dict( type='albers usa' ),\n",
    "            showlakes = True,\n",
    "            lakecolor = 'rgb(255, 255, 255)'),\n",
    "             )\n",
    "    \n",
    "fig = dict( data=data, layout=layout )\n",
    "iplot( fig, filename='d3-cloropleth-map' )"
   ]
  },
  {
   "cell_type": "code",
   "execution_count": 32,
   "id": "086ac4f2",
   "metadata": {
    "execution": {
     "iopub.execute_input": "2024-10-15T23:23:43.278177Z",
     "iopub.status.busy": "2024-10-15T23:23:43.277801Z",
     "iopub.status.idle": "2024-10-15T23:23:43.283412Z",
     "shell.execute_reply": "2024-10-15T23:23:43.282347Z"
    },
    "papermill": {
     "duration": 0.028693,
     "end_time": "2024-10-15T23:23:43.285649",
     "exception": false,
     "start_time": "2024-10-15T23:23:43.256956",
     "status": "completed"
    },
    "tags": []
   },
   "outputs": [
    {
     "name": "stdout",
     "output_type": "stream",
     "text": [
      "The Dataset have 10 rows and 9 columns.\n"
     ]
    }
   ],
   "source": [
    "#t=This dataset has only yearly counts for geographical level as National\n",
    "row, col = df_yearly_national.shape\n",
    "print(\"The Dataset have\",row,\"rows and\",col,\"columns.\")"
   ]
  },
  {
   "cell_type": "code",
   "execution_count": 33,
   "id": "3b42c667",
   "metadata": {
    "execution": {
     "iopub.execute_input": "2024-10-15T23:23:43.326442Z",
     "iopub.status.busy": "2024-10-15T23:23:43.325488Z",
     "iopub.status.idle": "2024-10-15T23:23:43.342432Z",
     "shell.execute_reply": "2024-10-15T23:23:43.341351Z"
    },
    "papermill": {
     "duration": 0.039514,
     "end_time": "2024-10-15T23:23:43.344512",
     "exception": false,
     "start_time": "2024-10-15T23:23:43.304998",
     "status": "completed"
    },
    "tags": []
   },
   "outputs": [
    {
     "data": {
      "text/html": [
       "<div>\n",
       "<style scoped>\n",
       "    .dataframe tbody tr th:only-of-type {\n",
       "        vertical-align: middle;\n",
       "    }\n",
       "\n",
       "    .dataframe tbody tr th {\n",
       "        vertical-align: top;\n",
       "    }\n",
       "\n",
       "    .dataframe thead th {\n",
       "        text-align: right;\n",
       "    }\n",
       "</style>\n",
       "<table border=\"1\" class=\"dataframe\">\n",
       "  <thead>\n",
       "    <tr style=\"text-align: right;\">\n",
       "      <th></th>\n",
       "      <th>YEAR</th>\n",
       "      <th>MONTH</th>\n",
       "      <th>BENE_GEO_LVL</th>\n",
       "      <th>BENE_STATE_ABRVTN</th>\n",
       "      <th>BENE_COUNTY_DESC</th>\n",
       "      <th>TOT_BENES</th>\n",
       "      <th>AGED_TOT_BENES</th>\n",
       "      <th>DSBLD_TOT_BENES</th>\n",
       "      <th>PRSCRPTN_DRUG_TOT_BENES</th>\n",
       "    </tr>\n",
       "  </thead>\n",
       "  <tbody>\n",
       "    <tr>\n",
       "      <th>0</th>\n",
       "      <td>2013</td>\n",
       "      <td>Year</td>\n",
       "      <td>National</td>\n",
       "      <td>US</td>\n",
       "      <td>Total</td>\n",
       "      <td>52425659</td>\n",
       "      <td>43761388</td>\n",
       "      <td>8664271</td>\n",
       "      <td>35679758</td>\n",
       "    </tr>\n",
       "    <tr>\n",
       "      <th>43355</th>\n",
       "      <td>2014</td>\n",
       "      <td>Year</td>\n",
       "      <td>National</td>\n",
       "      <td>US</td>\n",
       "      <td>Total</td>\n",
       "      <td>54013038</td>\n",
       "      <td>45216665</td>\n",
       "      <td>8796373</td>\n",
       "      <td>37720840</td>\n",
       "    </tr>\n",
       "    <tr>\n",
       "      <th>86710</th>\n",
       "      <td>2015</td>\n",
       "      <td>Year</td>\n",
       "      <td>National</td>\n",
       "      <td>US</td>\n",
       "      <td>Total</td>\n",
       "      <td>55496222</td>\n",
       "      <td>46630952</td>\n",
       "      <td>8865269</td>\n",
       "      <td>39505335</td>\n",
       "    </tr>\n",
       "    <tr>\n",
       "      <th>130065</th>\n",
       "      <td>2016</td>\n",
       "      <td>Year</td>\n",
       "      <td>National</td>\n",
       "      <td>US</td>\n",
       "      <td>Total</td>\n",
       "      <td>56981183</td>\n",
       "      <td>48143217</td>\n",
       "      <td>8837966</td>\n",
       "      <td>41203627</td>\n",
       "    </tr>\n",
       "    <tr>\n",
       "      <th>173420</th>\n",
       "      <td>2017</td>\n",
       "      <td>Year</td>\n",
       "      <td>National</td>\n",
       "      <td>US</td>\n",
       "      <td>Total</td>\n",
       "      <td>58457244</td>\n",
       "      <td>49678033</td>\n",
       "      <td>8779211</td>\n",
       "      <td>42728443</td>\n",
       "    </tr>\n",
       "    <tr>\n",
       "      <th>216775</th>\n",
       "      <td>2018</td>\n",
       "      <td>Year</td>\n",
       "      <td>National</td>\n",
       "      <td>US</td>\n",
       "      <td>Total</td>\n",
       "      <td>59989883</td>\n",
       "      <td>51303898</td>\n",
       "      <td>8685985</td>\n",
       "      <td>44249461</td>\n",
       "    </tr>\n",
       "    <tr>\n",
       "      <th>260130</th>\n",
       "      <td>2019</td>\n",
       "      <td>Year</td>\n",
       "      <td>National</td>\n",
       "      <td>US</td>\n",
       "      <td>Total</td>\n",
       "      <td>61514510</td>\n",
       "      <td>52991455</td>\n",
       "      <td>8523055</td>\n",
       "      <td>45827091</td>\n",
       "    </tr>\n",
       "    <tr>\n",
       "      <th>303498</th>\n",
       "      <td>2020</td>\n",
       "      <td>Year</td>\n",
       "      <td>National</td>\n",
       "      <td>US</td>\n",
       "      <td>Total</td>\n",
       "      <td>62840267</td>\n",
       "      <td>54531919</td>\n",
       "      <td>8308348</td>\n",
       "      <td>47413121</td>\n",
       "    </tr>\n",
       "    <tr>\n",
       "      <th>346866</th>\n",
       "      <td>2021</td>\n",
       "      <td>Year</td>\n",
       "      <td>National</td>\n",
       "      <td>US</td>\n",
       "      <td>Total</td>\n",
       "      <td>63892626</td>\n",
       "      <td>55851321</td>\n",
       "      <td>8041304</td>\n",
       "      <td>48818849</td>\n",
       "    </tr>\n",
       "    <tr>\n",
       "      <th>390234</th>\n",
       "      <td>2022</td>\n",
       "      <td>Year</td>\n",
       "      <td>National</td>\n",
       "      <td>US</td>\n",
       "      <td>Total</td>\n",
       "      <td>65116503</td>\n",
       "      <td>57362936</td>\n",
       "      <td>7753567</td>\n",
       "      <td>50295753</td>\n",
       "    </tr>\n",
       "  </tbody>\n",
       "</table>\n",
       "</div>"
      ],
      "text/plain": [
       "        YEAR MONTH BENE_GEO_LVL BENE_STATE_ABRVTN BENE_COUNTY_DESC  TOT_BENES  \\\n",
       "0       2013  Year     National                US            Total   52425659   \n",
       "43355   2014  Year     National                US            Total   54013038   \n",
       "86710   2015  Year     National                US            Total   55496222   \n",
       "130065  2016  Year     National                US            Total   56981183   \n",
       "173420  2017  Year     National                US            Total   58457244   \n",
       "216775  2018  Year     National                US            Total   59989883   \n",
       "260130  2019  Year     National                US            Total   61514510   \n",
       "303498  2020  Year     National                US            Total   62840267   \n",
       "346866  2021  Year     National                US            Total   63892626   \n",
       "390234  2022  Year     National                US            Total   65116503   \n",
       "\n",
       "        AGED_TOT_BENES  DSBLD_TOT_BENES PRSCRPTN_DRUG_TOT_BENES  \n",
       "0             43761388          8664271                35679758  \n",
       "43355         45216665          8796373                37720840  \n",
       "86710         46630952          8865269                39505335  \n",
       "130065        48143217          8837966                41203627  \n",
       "173420        49678033          8779211                42728443  \n",
       "216775        51303898          8685985                44249461  \n",
       "260130        52991455          8523055                45827091  \n",
       "303498        54531919          8308348                47413121  \n",
       "346866        55851321          8041304                48818849  \n",
       "390234        57362936          7753567                50295753  "
      ]
     },
     "execution_count": 33,
     "metadata": {},
     "output_type": "execute_result"
    }
   ],
   "source": [
    "df_yearly_national.head(10)"
   ]
  },
  {
   "cell_type": "code",
   "execution_count": 34,
   "id": "d31b4523",
   "metadata": {
    "execution": {
     "iopub.execute_input": "2024-10-15T23:23:43.386117Z",
     "iopub.status.busy": "2024-10-15T23:23:43.385323Z",
     "iopub.status.idle": "2024-10-15T23:23:43.392149Z",
     "shell.execute_reply": "2024-10-15T23:23:43.391168Z"
    },
    "papermill": {
     "duration": 0.029675,
     "end_time": "2024-10-15T23:23:43.394175",
     "exception": false,
     "start_time": "2024-10-15T23:23:43.364500",
     "status": "completed"
    },
    "tags": []
   },
   "outputs": [],
   "source": [
    "numerical_columns = list(df_yearly_national.loc[:,['TOT_BENES', 'AGED_TOT_BENES', 'DSBLD_TOT_BENES','PRSCRPTN_DRUG_TOT_BENES']])"
   ]
  },
  {
   "cell_type": "code",
   "execution_count": 35,
   "id": "0bf9aa08",
   "metadata": {
    "execution": {
     "iopub.execute_input": "2024-10-15T23:23:43.435714Z",
     "iopub.status.busy": "2024-10-15T23:23:43.435239Z",
     "iopub.status.idle": "2024-10-15T23:23:43.443573Z",
     "shell.execute_reply": "2024-10-15T23:23:43.442484Z"
    },
    "papermill": {
     "duration": 0.032109,
     "end_time": "2024-10-15T23:23:43.446093",
     "exception": false,
     "start_time": "2024-10-15T23:23:43.413984",
     "status": "completed"
    },
    "tags": []
   },
   "outputs": [],
   "source": [
    "#Seaborn settings for visualizations!\n",
    "rc = {\n",
    "    \"axes.facecolor\": \"#f7f9fc\",\n",
    "    \"figure.facecolor\": \"#f7f9fc\",\n",
    "    \"axes.edgecolor\": \"#000000\",\n",
    "    \"grid.color\": \"#EBEBE7\",\n",
    "    \"font.family\": \"serif\",\n",
    "    \"axes.labelcolor\": \"#000000\",\n",
    "    \"xtick.color\": \"#000000\",\n",
    "    \"ytick.color\": \"#000000\",\n",
    "    \"grid.alpha\": 0.4\n",
    "}\n",
    "\n",
    "default_palette = 'YlOrRd'\n",
    "\n",
    "sns.set(rc=rc)\n",
    "pd.set_option('display.max_columns',35)\n",
    "pd.options.display.float_format = '{:,.2f}'.format"
   ]
  },
  {
   "cell_type": "code",
   "execution_count": 36,
   "id": "83730609",
   "metadata": {
    "execution": {
     "iopub.execute_input": "2024-10-15T23:23:43.488049Z",
     "iopub.status.busy": "2024-10-15T23:23:43.487247Z",
     "iopub.status.idle": "2024-10-15T23:23:43.873486Z",
     "shell.execute_reply": "2024-10-15T23:23:43.872418Z"
    },
    "papermill": {
     "duration": 0.410241,
     "end_time": "2024-10-15T23:23:43.876432",
     "exception": false,
     "start_time": "2024-10-15T23:23:43.466191",
     "status": "completed"
    },
    "tags": []
   },
   "outputs": [
    {
     "data": {
      "text/plain": [
       "<Axes: xlabel='YEAR', ylabel='TOT_BENES'>"
      ]
     },
     "execution_count": 36,
     "metadata": {},
     "output_type": "execute_result"
    },
    {
     "data": {
      "image/png": "[encoded data removed]",
      "text/plain": [
       "<Figure size 640x480 with 1 Axes>"
      ]
     },
     "metadata": {},
     "output_type": "display_data"
    }
   ],
   "source": [
    "df_yearly_national['YEAR'] = pd.to_numeric(df_yearly_national['YEAR']).astype(int)\n",
    "#sns.barplot(x=df3['YEAR'], y=df3['TOT_BENES'])\n",
    "sns.barplot(x=df_yearly_national['YEAR'], y=df_yearly_national['TOT_BENES'])"
   ]
  }
 ],
 "metadata": {
  "kaggle": {
   "accelerator": "none",
   "dataSources": [
    {
     "datasetId": 4093442,
     "sourceId": 7101059,
     "sourceType": "datasetVersion"
    }
   ],
   "dockerImageVersionId": 30786,
   "isGpuEnabled": false,
   "isInternetEnabled": true,
   "language": "python",
   "sourceType": "notebook"
  },
  "kernelspec": {
   "display_name": "Python 3",
   "language": "python",
   "name": "python3"
  },
  "language_info": {
   "codemirror_mode": {
    "name": "ipython",
    "version": 3
   },
   "file_extension": ".py",
   "mimetype": "text/x-python",
   "name": "python",
   "nbconvert_exporter": "python",
   "pygments_lexer": "ipython3",
   "version": "3.10.14"
  },
  "papermill": {
   "default_parameters": {},
   "duration": 20.36552,
   "end_time": "2024-10-15T23:23:44.722943",
   "environment_variables": {},
   "exception": null,
   "input_path": "__notebook__.ipynb",
   "output_path": "__notebook__.ipynb",
   "parameters": {},
   "start_time": "2024-10-15T23:23:24.357423",
   "version": "2.6.0"
  }
 },
 "nbformat": 4,
 "nbformat_minor": 5
}
