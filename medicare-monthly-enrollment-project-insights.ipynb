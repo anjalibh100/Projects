{
 "cells": [
  {
   "cell_type": "markdown",
   "id": "dce37c7b",
   "metadata": {
    "papermill": {
     "duration": 0.01101,
     "end_time": "2024-03-09T00:12:10.805614",
     "exception": false,
     "start_time": "2024-03-09T00:12:10.794604",
     "status": "completed"
    },
    "tags": []
   },
   "source": [
    "<div style=\"width: 100%; height: 100px; background-color: #DBC7BE; border: 4px solid #0c2461; text-align: center; line-height: 100px; color: #0c2461; font-size: 24px; font-weight: bold; border-radius:6px;\">\n",
    "    Medicare Monthly Enrollment Methodology Analytics Project  🏥\n",
    "</div>"
   ]
  },
  {
   "cell_type": "markdown",
   "id": "19a6b634",
   "metadata": {
    "papermill": {
     "duration": 0.010223,
     "end_time": "2024-03-09T00:12:10.826347",
     "exception": false,
     "start_time": "2024-03-09T00:12:10.816124",
     "status": "completed"
    },
    "tags": []
   },
   "source": [
    "<div style=\"width: 100%; background-color: #DBC7BE; color: #0c2461; padding: 10px; border: 3px solid #0c2461; font-size: 15px;margin-bottom: 20px;border-radius:10px;\">\n",
    "    <h3 style=\"color: #0c2461;\">Project Description</h3>\n",
    "    The Medicare Monthly Enrollment data file presents Medicare monthly and yearly enrollee counts by geographic area (state/territory and county) from calendar year 2013 to calendar year 2022. \n",
    "    <span>\n",
    "    </span>\n",
    "    <h4 style=\"color: #0c2461;\">The file includes counts for the following:</h4>\n",
    "    <ul style=\"list-style-type: none; padding-left: 0;\">\n",
    "        <li><span style=\"margin-left: -10px;\">&#8226;</span> Total Medicare beneficiaries</li>\n",
    "        <li><span style=\"margin-left: -10px;\">&#8226;</span> Original Medicare beneficiaries (i.e. Fee-for-Service)</li>\n",
    "        <li><span style=\"margin-left: -10px;\">&#8226;</span> Medicare Advantage & other health plan beneficiaries</li>\n",
    "        <li><span style=\"margin-left: -10px;\">&#8226;</span> Aged beneficiaries</li>\n",
    "        <li><span style=\"margin-left: -10px;\">&#8226;</span> Disabled beneficiaries</li>\n",
    "        <li><span style=\"margin-left: -10px;\">&#8226;</span> Total Part D (prescription drug) beneficiaries</li>\n",
    "        <li><span style=\"margin-left: -10px;\">&#8226;</span> Stand-Alone Prescription Drug Plan beneficiaries</li>\n",
    "        <li><span style=\"margin-left: -10px;\">&#8226;</span> Medicare Advantage Prescription Drug Plan beneficiaries</li>\n",
    "        <li><span style=\"margin-left: -10px;\">&#8226;</span> Part D Low-income subsidy beneficiaries</li>\n",
    "    </ul>\n",
    "The yearly Medicare enrollee counts are determined using a person-year methodology. For each \n",
    "calendar year, total person-year counts are determined by summing the total number of months that \n",
    "each beneficiary is enrolled during the year and dividing by 12. Using this methodology, a beneficiary’s \n",
    "partial-year enrollment may be counted in more than 1 category (i.e., entitlement type, health care \n",
    "delivery, plan type, and low-income subsidy eligibility category). \n",
    "The monthly counts represent Medicare beneficiaries enrolled in the given month\n",
    "<span>\n",
    "</span> \n",
    "    <h3 style=\"color: #0c2461;\">Tasks in this notebook</h3>\n",
    "    <ul style=\"list-style-type: none; padding-left: 0;\">\n",
    "        <li><span style=\"margin-left: -10px;\">&#8226;</span> Import libraries</li>\n",
    "        <li><span style=\"margin-left: -10px;\">&#8226;</span> Read dataset and get information from data</li>\n",
    "        <li><span style=\"margin-left: -10px;\">&#8226;</span> Cleaning Dataset</li>\n",
    "        <li><span style=\"margin-left: -10px;\">&#8226;</span> Features</li>\n",
    "        <li>\n",
    "            <span style=\"margin-left: -10px;\">&#8226;</span> Modeling\n",
    "            <ul style=\"list-style-type: none; padding-left: 20px;\">\n",
    "                <li><span style=\"margin-left: -10px;\">&#8226;</span> Logestic Regression</li>\n",
    "                <li><span style=\"margin-left: -10px;\">&#8226;</span> Complement Naive Bayes (CNB)</li>\n",
    "                <li><span style=\"margin-left: -10px;\">&#8226;</span> KNN (K-Nearest Neighbors)</li>\n",
    "                <li><span style=\"margin-left: -10px;\">&#8226;</span> Decision Tree classifier</li>\n",
    "                <li><span style=\"margin-left: -10px;\">&#8226;</span> Random Forest classifier</li>\n",
    "            </ul>\n",
    "        </li>\n",
    "    </ul>\n",
    "</div>"
   ]
  },
  {
   "cell_type": "markdown",
   "id": "7c3c2a61",
   "metadata": {
    "papermill": {
     "duration": 0.01005,
     "end_time": "2024-03-09T00:12:10.846708",
     "exception": false,
     "start_time": "2024-03-09T00:12:10.836658",
     "status": "completed"
    },
    "tags": []
   },
   "source": [
    "<h2 style=\"position: relative;\">\n",
    "    <span style=\"color: #0c2461;\">Dataset Overview</span> \n",
    "    <br/>\n",
    "    <br/>\n",
    "    <hr style=\"position: absolute; bottom: -8px; border: none; height: 4px; width: 100%; background-color: #6a89cc;\">\n",
    "</h2>\n"
   ]
  },
  {
   "cell_type": "markdown",
   "id": "d16899a4",
   "metadata": {
    "papermill": {
     "duration": 0.010042,
     "end_time": "2024-03-09T00:12:10.867011",
     "exception": false,
     "start_time": "2024-03-09T00:12:10.856969",
     "status": "completed"
    },
    "tags": []
   },
   "source": [
    "<h2 style=\"position: relative;\">\n",
    "    <span style=\"color: #6a89cc;\">1.</span> \n",
    "    <span style=\"color: #0c2461;\">Libraries and Warnings</span> \n",
    "    <br/>\n",
    "</h2>"
   ]
  },
  {
   "cell_type": "markdown",
   "id": "5c388117",
   "metadata": {
    "papermill": {
     "duration": 0.01002,
     "end_time": "2024-03-09T00:12:10.887218",
     "exception": false,
     "start_time": "2024-03-09T00:12:10.877198",
     "status": "completed"
    },
    "tags": []
   },
   "source": [
    "<h2 style=\"position: relative;\">\n",
    "    <span style=\"color: #6a89cc;\">1.1</span> \n",
    "    <span style=\"color: #0c2461;\">Import Libraries</span> \n",
    "    <br/>\n",
    "    <br/>\n",
    "    <hr style=\"position: absolute; bottom: -8px; border: none; height: 4px; width: 100%; background-color: #6a89cc;\">\n",
    "</h2>"
   ]
  },
  {
   "cell_type": "code",
   "execution_count": 1,
   "id": "bd0fd4eb",
   "metadata": {
    "_cell_guid": "b1076dfc-b9ad-4769-8c92-a6c4dae69d19",
    "_uuid": "8f2839f25d086af736a60e9eeb907d3b93b6e0e5",
    "execution": {
     "iopub.execute_input": "2024-03-09T00:12:10.909491Z",
     "iopub.status.busy": "2024-03-09T00:12:10.909142Z",
     "iopub.status.idle": "2024-03-09T00:12:12.684446Z",
     "shell.execute_reply": "2024-03-09T00:12:12.683189Z"
    },
    "papermill": {
     "duration": 1.78987,
     "end_time": "2024-03-09T00:12:12.687420",
     "exception": false,
     "start_time": "2024-03-09T00:12:10.897550",
     "status": "completed"
    },
    "tags": []
   },
   "outputs": [],
   "source": [
    "import os\n",
    "import numpy as np # linear algebra\n",
    "import pandas as pd # data processing, CSV file I/O (e.g. pd.read_csv)\n",
    "import matplotlib.pyplot as plt\n",
    "from matplotlib import pyplot as pllt\n",
    "import seaborn as sns"
   ]
  },
  {
   "cell_type": "markdown",
   "id": "97248bba",
   "metadata": {
    "papermill": {
     "duration": 0.010947,
     "end_time": "2024-03-09T00:12:12.709614",
     "exception": false,
     "start_time": "2024-03-09T00:12:12.698667",
     "status": "completed"
    },
    "tags": []
   },
   "source": [
    "<h2 style=\"position: relative;\">\n",
    "    <span style=\"color: #6a89cc;\">1.2</span> \n",
    "    <span style=\"color: #0c2461;\">Ignore warnings</span> \n",
    "    <br/>\n",
    "    <br/>\n",
    "    <hr style=\"position: absolute; bottom: -8px; border: none; height: 4px; width: 100%; background-color: #6a89cc;\">\n",
    "</h2>\n"
   ]
  },
  {
   "cell_type": "code",
   "execution_count": 2,
   "id": "46b4a439",
   "metadata": {
    "execution": {
     "iopub.execute_input": "2024-03-09T00:12:12.733417Z",
     "iopub.status.busy": "2024-03-09T00:12:12.732897Z",
     "iopub.status.idle": "2024-03-09T00:12:12.738297Z",
     "shell.execute_reply": "2024-03-09T00:12:12.737141Z"
    },
    "papermill": {
     "duration": 0.019489,
     "end_time": "2024-03-09T00:12:12.740236",
     "exception": false,
     "start_time": "2024-03-09T00:12:12.720747",
     "status": "completed"
    },
    "tags": []
   },
   "outputs": [],
   "source": [
    "import warnings\n",
    "warnings.filterwarnings(\"ignore\")"
   ]
  },
  {
   "cell_type": "code",
   "execution_count": 3,
   "id": "a6356c8f",
   "metadata": {
    "execution": {
     "iopub.execute_input": "2024-03-09T00:12:12.763672Z",
     "iopub.status.busy": "2024-03-09T00:12:12.763357Z",
     "iopub.status.idle": "2024-03-09T00:12:13.032466Z",
     "shell.execute_reply": "2024-03-09T00:12:13.031418Z"
    },
    "papermill": {
     "duration": 0.283444,
     "end_time": "2024-03-09T00:12:13.034838",
     "exception": false,
     "start_time": "2024-03-09T00:12:12.751394",
     "status": "completed"
    },
    "tags": []
   },
   "outputs": [
    {
     "data": {
      "text/html": [
       "        <script type=\"text/javascript\">\n",
       "        window.PlotlyConfig = {MathJaxConfig: 'local'};\n",
       "        if (window.MathJax && window.MathJax.Hub && window.MathJax.Hub.Config) {window.MathJax.Hub.Config({SVG: {font: \"STIX-Web\"}});}\n",
       "        if (typeof require !== 'undefined') {\n",
       "        require.undef(\"plotly\");\n",
       "        requirejs.config({\n",
       "            paths: {\n",
       "                'plotly': ['https://cdn.plot.ly/plotly-2.25.2.min']\n",
       "            }\n",
       "        });\n",
       "        require(['plotly'], function(Plotly) {\n",
       "            window._Plotly = Plotly;\n",
       "        });\n",
       "        }\n",
       "        </script>\n",
       "        "
      ]
     },
     "metadata": {},
     "output_type": "display_data"
    }
   ],
   "source": [
    "from plotly.offline import init_notebook_mode, iplot\n",
    "init_notebook_mode(connected=True)"
   ]
  },
  {
   "cell_type": "markdown",
   "id": "f0df377d",
   "metadata": {
    "papermill": {
     "duration": 0.011019,
     "end_time": "2024-03-09T00:12:13.057391",
     "exception": false,
     "start_time": "2024-03-09T00:12:13.046372",
     "status": "completed"
    },
    "tags": []
   },
   "source": [
    "<h2 style=\"position: relative;\">\n",
    "    <span style=\"color: #6a89cc;\">2.</span> \n",
    "    <span style=\"color: #0c2461;\">Read dataset and get information from data</span> \n",
    "    <br/>\n",
    "</h2>\n"
   ]
  },
  {
   "cell_type": "markdown",
   "id": "c104042d",
   "metadata": {
    "papermill": {
     "duration": 0.011044,
     "end_time": "2024-03-09T00:12:13.079811",
     "exception": false,
     "start_time": "2024-03-09T00:12:13.068767",
     "status": "completed"
    },
    "tags": []
   },
   "source": [
    "<h2 style=\"position: relative;\">\n",
    "    <span style=\"color: #6a89cc;\">2.1.</span> \n",
    "    <span style=\"color: #0c2461;\">Read Dataset</span> \n",
    "    <br/>\n",
    "    <br/>\n",
    "    <hr style=\"position: absolute; bottom: -8px; border: none; height: 4px; width: 100%; background-color: #6a89cc;\">\n",
    "</h2>\n"
   ]
  },
  {
   "cell_type": "code",
   "execution_count": 4,
   "id": "abf82944",
   "metadata": {
    "execution": {
     "iopub.execute_input": "2024-03-09T00:12:13.155038Z",
     "iopub.status.busy": "2024-03-09T00:12:13.154155Z",
     "iopub.status.idle": "2024-03-09T00:12:15.778172Z",
     "shell.execute_reply": "2024-03-09T00:12:15.777383Z"
    },
    "papermill": {
     "duration": 2.688397,
     "end_time": "2024-03-09T00:12:15.780916",
     "exception": false,
     "start_time": "2024-03-09T00:12:13.092519",
     "status": "completed"
    },
    "tags": []
   },
   "outputs": [],
   "source": [
    "# Path of the file to read\n",
    "filepath = \"/kaggle/input/medicare-monthly-enrollment-data/Medicare Monthly Enrollment Data_August 2023.csv\"\n",
    "#data=pd.read_csv(filepath,index_col=\"YEAR\", parse_dates=True, encoding='Windows-1252')\n",
    "data=pd.read_csv(filepath, parse_dates=True, encoding='Windows-1252')\n",
    "# importing the required library"
   ]
  },
  {
   "cell_type": "code",
   "execution_count": 5,
   "id": "4a84d7fa",
   "metadata": {
    "execution": {
     "iopub.execute_input": "2024-03-09T00:12:15.809083Z",
     "iopub.status.busy": "2024-03-09T00:12:15.808704Z",
     "iopub.status.idle": "2024-03-09T00:12:15.839501Z",
     "shell.execute_reply": "2024-03-09T00:12:15.838697Z"
    },
    "papermill": {
     "duration": 0.045725,
     "end_time": "2024-03-09T00:12:15.841232",
     "exception": false,
     "start_time": "2024-03-09T00:12:15.795507",
     "status": "completed"
    },
    "tags": []
   },
   "outputs": [
    {
     "data": {
      "text/html": [
       "<div>\n",
       "<style scoped>\n",
       "    .dataframe tbody tr th:only-of-type {\n",
       "        vertical-align: middle;\n",
       "    }\n",
       "\n",
       "    .dataframe tbody tr th {\n",
       "        vertical-align: top;\n",
       "    }\n",
       "\n",
       "    .dataframe thead th {\n",
       "        text-align: right;\n",
       "    }\n",
       "</style>\n",
       "<table border=\"1\" class=\"dataframe\">\n",
       "  <thead>\n",
       "    <tr style=\"text-align: right;\">\n",
       "      <th></th>\n",
       "      <th>YEAR</th>\n",
       "      <th>MONTH</th>\n",
       "      <th>BENE_GEO_LVL</th>\n",
       "      <th>BENE_STATE_ABRVTN</th>\n",
       "      <th>BENE_STATE_DESC</th>\n",
       "      <th>BENE_COUNTY_DESC</th>\n",
       "      <th>BENE_FIPS_CD</th>\n",
       "      <th>TOT_BENES</th>\n",
       "      <th>ORGNL_MDCR_BENES</th>\n",
       "      <th>MA_AND_OTH_BENES</th>\n",
       "      <th>...</th>\n",
       "      <th>A_B_TOT_BENES</th>\n",
       "      <th>A_B_ORGNL_MDCR_BENES</th>\n",
       "      <th>A_B_MA_AND_OTH_BENES</th>\n",
       "      <th>PRSCRPTN_DRUG_TOT_BENES</th>\n",
       "      <th>PRSCRPTN_DRUG_PDP_BENES</th>\n",
       "      <th>PRSCRPTN_DRUG_MAPD_BENES</th>\n",
       "      <th>PRSCRPTN_DRUG_DEEMED_ELIGIBLE_FULL_LIS_BENES</th>\n",
       "      <th>PRSCRPTN_DRUG_FULL_LIS_BENES</th>\n",
       "      <th>PRSCRPTN_DRUG_PARTIAL_LIS_BENES</th>\n",
       "      <th>PRSCRPTN_DRUG_NO_LIS_BENES</th>\n",
       "    </tr>\n",
       "  </thead>\n",
       "  <tbody>\n",
       "    <tr>\n",
       "      <th>0</th>\n",
       "      <td>2013</td>\n",
       "      <td>Year</td>\n",
       "      <td>National</td>\n",
       "      <td>US</td>\n",
       "      <td>National</td>\n",
       "      <td>Total</td>\n",
       "      <td></td>\n",
       "      <td>52425659</td>\n",
       "      <td>37613096</td>\n",
       "      <td>14812563</td>\n",
       "      <td>...</td>\n",
       "      <td>47620905</td>\n",
       "      <td>32831884</td>\n",
       "      <td>14789022</td>\n",
       "      <td>35679758</td>\n",
       "      <td>22661451</td>\n",
       "      <td>13018307</td>\n",
       "      <td>10000861</td>\n",
       "      <td>1030113.0</td>\n",
       "      <td>409204.0</td>\n",
       "      <td>24239580</td>\n",
       "    </tr>\n",
       "    <tr>\n",
       "      <th>1</th>\n",
       "      <td>2013</td>\n",
       "      <td>Year</td>\n",
       "      <td>State</td>\n",
       "      <td>AL</td>\n",
       "      <td>Alabama</td>\n",
       "      <td>Total</td>\n",
       "      <td>01</td>\n",
       "      <td>921477.0</td>\n",
       "      <td>711448.0</td>\n",
       "      <td>210029.0</td>\n",
       "      <td>...</td>\n",
       "      <td>857619.0</td>\n",
       "      <td>647647.0</td>\n",
       "      <td>209972.0</td>\n",
       "      <td>637247.0</td>\n",
       "      <td>437749.0</td>\n",
       "      <td>199498.0</td>\n",
       "      <td>205496.0</td>\n",
       "      <td>32790.0</td>\n",
       "      <td>11452.0</td>\n",
       "      <td>387510.0</td>\n",
       "    </tr>\n",
       "    <tr>\n",
       "      <th>2</th>\n",
       "      <td>2013</td>\n",
       "      <td>Year</td>\n",
       "      <td>County</td>\n",
       "      <td>AL</td>\n",
       "      <td>Alabama</td>\n",
       "      <td>Autauga</td>\n",
       "      <td>01001</td>\n",
       "      <td>9323.0</td>\n",
       "      <td>6484.0</td>\n",
       "      <td>2840.0</td>\n",
       "      <td>...</td>\n",
       "      <td>8708.0</td>\n",
       "      <td>5868.0</td>\n",
       "      <td>2840.0</td>\n",
       "      <td>6036.0</td>\n",
       "      <td>3268.0</td>\n",
       "      <td>2767.0</td>\n",
       "      <td>1839.0</td>\n",
       "      <td>296.0</td>\n",
       "      <td>105.0</td>\n",
       "      <td>3796.0</td>\n",
       "    </tr>\n",
       "  </tbody>\n",
       "</table>\n",
       "<p>3 rows × 26 columns</p>\n",
       "</div>"
      ],
      "text/plain": [
       "   YEAR MONTH BENE_GEO_LVL BENE_STATE_ABRVTN BENE_STATE_DESC BENE_COUNTY_DESC  \\\n",
       "0  2013  Year     National                US        National            Total   \n",
       "1  2013  Year        State                AL         Alabama            Total   \n",
       "2  2013  Year       County                AL         Alabama          Autauga   \n",
       "\n",
       "  BENE_FIPS_CD TOT_BENES ORGNL_MDCR_BENES MA_AND_OTH_BENES  ... A_B_TOT_BENES  \\\n",
       "0               52425659         37613096         14812563  ...      47620905   \n",
       "1           01  921477.0         711448.0         210029.0  ...      857619.0   \n",
       "2        01001    9323.0           6484.0           2840.0  ...        8708.0   \n",
       "\n",
       "  A_B_ORGNL_MDCR_BENES A_B_MA_AND_OTH_BENES PRSCRPTN_DRUG_TOT_BENES  \\\n",
       "0             32831884             14789022                35679758   \n",
       "1             647647.0             209972.0                637247.0   \n",
       "2               5868.0               2840.0                  6036.0   \n",
       "\n",
       "  PRSCRPTN_DRUG_PDP_BENES PRSCRPTN_DRUG_MAPD_BENES  \\\n",
       "0                22661451                 13018307   \n",
       "1                437749.0                 199498.0   \n",
       "2                  3268.0                   2767.0   \n",
       "\n",
       "  PRSCRPTN_DRUG_DEEMED_ELIGIBLE_FULL_LIS_BENES PRSCRPTN_DRUG_FULL_LIS_BENES  \\\n",
       "0                                     10000861                    1030113.0   \n",
       "1                                     205496.0                      32790.0   \n",
       "2                                       1839.0                        296.0   \n",
       "\n",
       "  PRSCRPTN_DRUG_PARTIAL_LIS_BENES PRSCRPTN_DRUG_NO_LIS_BENES  \n",
       "0                        409204.0                   24239580  \n",
       "1                         11452.0                   387510.0  \n",
       "2                           105.0                     3796.0  \n",
       "\n",
       "[3 rows x 26 columns]"
      ]
     },
     "execution_count": 5,
     "metadata": {},
     "output_type": "execute_result"
    }
   ],
   "source": [
    "data.head(3)"
   ]
  },
  {
   "cell_type": "markdown",
   "id": "ebca0e60",
   "metadata": {
    "papermill": {
     "duration": 0.010854,
     "end_time": "2024-03-09T00:12:15.863468",
     "exception": false,
     "start_time": "2024-03-09T00:12:15.852614",
     "status": "completed"
    },
    "tags": []
   },
   "source": [
    "<h2 style=\"position: relative;\">\n",
    "    <span style=\"color: #6a89cc;\">2.2.</span> \n",
    "    <span style=\"color: #0c2461;\">information about Datasets</span> \n",
    "    <br/>\n",
    "    <br/>\n",
    "    <hr style=\"position: absolute; bottom: -8px; border: none; height: 4px; width: 100%; background-color: #6a89cc;\">\n",
    "</h2>"
   ]
  },
  {
   "cell_type": "code",
   "execution_count": 6,
   "id": "6a4f4cf3",
   "metadata": {
    "execution": {
     "iopub.execute_input": "2024-03-09T00:12:15.886840Z",
     "iopub.status.busy": "2024-03-09T00:12:15.886505Z",
     "iopub.status.idle": "2024-03-09T00:12:15.891212Z",
     "shell.execute_reply": "2024-03-09T00:12:15.890409Z"
    },
    "papermill": {
     "duration": 0.019197,
     "end_time": "2024-03-09T00:12:15.893596",
     "exception": false,
     "start_time": "2024-03-09T00:12:15.874399",
     "status": "completed"
    },
    "tags": []
   },
   "outputs": [
    {
     "name": "stdout",
     "output_type": "stream",
     "text": [
      "The Dataset have 460290 rows and 26 columns.\n"
     ]
    }
   ],
   "source": [
    "row, col = data.shape\n",
    "print(\"The Dataset have\",row,\"rows and\",col,\"columns.\")"
   ]
  },
  {
   "cell_type": "code",
   "execution_count": 7,
   "id": "0d67b7ce",
   "metadata": {
    "execution": {
     "iopub.execute_input": "2024-03-09T00:12:15.918983Z",
     "iopub.status.busy": "2024-03-09T00:12:15.918649Z",
     "iopub.status.idle": "2024-03-09T00:12:16.297226Z",
     "shell.execute_reply": "2024-03-09T00:12:16.295962Z"
    },
    "papermill": {
     "duration": 0.393979,
     "end_time": "2024-03-09T00:12:16.299621",
     "exception": false,
     "start_time": "2024-03-09T00:12:15.905642",
     "status": "completed"
    },
    "tags": []
   },
   "outputs": [
    {
     "name": "stdout",
     "output_type": "stream",
     "text": [
      "<class 'pandas.core.frame.DataFrame'>\n",
      "RangeIndex: 460290 entries, 0 to 460289\n",
      "Data columns (total 26 columns):\n",
      " #   Column                                        Non-Null Count   Dtype \n",
      "---  ------                                        --------------   ----- \n",
      " 0   YEAR                                          460290 non-null  int64 \n",
      " 1   MONTH                                         460290 non-null  object\n",
      " 2   BENE_GEO_LVL                                  460290 non-null  object\n",
      " 3   BENE_STATE_ABRVTN                             460290 non-null  object\n",
      " 4   BENE_STATE_DESC                               460290 non-null  object\n",
      " 5   BENE_COUNTY_DESC                              460290 non-null  object\n",
      " 6   BENE_FIPS_CD                                  460290 non-null  object\n",
      " 7   TOT_BENES                                     460290 non-null  object\n",
      " 8   ORGNL_MDCR_BENES                              460290 non-null  object\n",
      " 9   MA_AND_OTH_BENES                              460290 non-null  object\n",
      " 10  AGED_TOT_BENES                                460290 non-null  object\n",
      " 11  AGED_ESRD_BENES                               460290 non-null  object\n",
      " 12  AGED_NO_ESRD_BENES                            460290 non-null  object\n",
      " 13  DSBLD_TOT_BENES                               460290 non-null  object\n",
      " 14  DSBLD_ESRD_AND_ESRD_ONLY_BENES                460290 non-null  object\n",
      " 15  DSBLD_NO_ESRD_BENES                           460290 non-null  object\n",
      " 16  A_B_TOT_BENES                                 460290 non-null  object\n",
      " 17  A_B_ORGNL_MDCR_BENES                          460290 non-null  object\n",
      " 18  A_B_MA_AND_OTH_BENES                          460290 non-null  object\n",
      " 19  PRSCRPTN_DRUG_TOT_BENES                       460290 non-null  object\n",
      " 20  PRSCRPTN_DRUG_PDP_BENES                       460290 non-null  object\n",
      " 21  PRSCRPTN_DRUG_MAPD_BENES                      460290 non-null  object\n",
      " 22  PRSCRPTN_DRUG_DEEMED_ELIGIBLE_FULL_LIS_BENES  460290 non-null  object\n",
      " 23  PRSCRPTN_DRUG_FULL_LIS_BENES                  460290 non-null  object\n",
      " 24  PRSCRPTN_DRUG_PARTIAL_LIS_BENES               460290 non-null  object\n",
      " 25  PRSCRPTN_DRUG_NO_LIS_BENES                    460290 non-null  object\n",
      "dtypes: int64(1), object(25)\n",
      "memory usage: 91.3+ MB\n"
     ]
    }
   ],
   "source": [
    "#Check the structure of the dataframe\n",
    "data.info()"
   ]
  },
  {
   "cell_type": "code",
   "execution_count": 8,
   "id": "728227f2",
   "metadata": {
    "execution": {
     "iopub.execute_input": "2024-03-09T00:12:16.326377Z",
     "iopub.status.busy": "2024-03-09T00:12:16.326027Z",
     "iopub.status.idle": "2024-03-09T00:12:18.234289Z",
     "shell.execute_reply": "2024-03-09T00:12:18.233654Z"
    },
    "papermill": {
     "duration": 1.923425,
     "end_time": "2024-03-09T00:12:18.235891",
     "exception": false,
     "start_time": "2024-03-09T00:12:16.312466",
     "status": "completed"
    },
    "tags": []
   },
   "outputs": [
    {
     "data": {
      "text/html": [
       "<div>\n",
       "<style scoped>\n",
       "    .dataframe tbody tr th:only-of-type {\n",
       "        vertical-align: middle;\n",
       "    }\n",
       "\n",
       "    .dataframe tbody tr th {\n",
       "        vertical-align: top;\n",
       "    }\n",
       "\n",
       "    .dataframe thead th {\n",
       "        text-align: right;\n",
       "    }\n",
       "</style>\n",
       "<table border=\"1\" class=\"dataframe\">\n",
       "  <thead>\n",
       "    <tr style=\"text-align: right;\">\n",
       "      <th></th>\n",
       "      <th>MONTH</th>\n",
       "      <th>BENE_GEO_LVL</th>\n",
       "      <th>BENE_STATE_ABRVTN</th>\n",
       "      <th>BENE_STATE_DESC</th>\n",
       "      <th>BENE_COUNTY_DESC</th>\n",
       "      <th>BENE_FIPS_CD</th>\n",
       "      <th>TOT_BENES</th>\n",
       "      <th>ORGNL_MDCR_BENES</th>\n",
       "      <th>MA_AND_OTH_BENES</th>\n",
       "      <th>AGED_TOT_BENES</th>\n",
       "      <th>...</th>\n",
       "      <th>A_B_TOT_BENES</th>\n",
       "      <th>A_B_ORGNL_MDCR_BENES</th>\n",
       "      <th>A_B_MA_AND_OTH_BENES</th>\n",
       "      <th>PRSCRPTN_DRUG_TOT_BENES</th>\n",
       "      <th>PRSCRPTN_DRUG_PDP_BENES</th>\n",
       "      <th>PRSCRPTN_DRUG_MAPD_BENES</th>\n",
       "      <th>PRSCRPTN_DRUG_DEEMED_ELIGIBLE_FULL_LIS_BENES</th>\n",
       "      <th>PRSCRPTN_DRUG_FULL_LIS_BENES</th>\n",
       "      <th>PRSCRPTN_DRUG_PARTIAL_LIS_BENES</th>\n",
       "      <th>PRSCRPTN_DRUG_NO_LIS_BENES</th>\n",
       "    </tr>\n",
       "  </thead>\n",
       "  <tbody>\n",
       "    <tr>\n",
       "      <th>count</th>\n",
       "      <td>460290</td>\n",
       "      <td>460290</td>\n",
       "      <td>460290</td>\n",
       "      <td>460290</td>\n",
       "      <td>460290</td>\n",
       "      <td>460290</td>\n",
       "      <td>460290</td>\n",
       "      <td>460290</td>\n",
       "      <td>460290</td>\n",
       "      <td>460290</td>\n",
       "      <td>...</td>\n",
       "      <td>460290</td>\n",
       "      <td>460290</td>\n",
       "      <td>460290</td>\n",
       "      <td>460290</td>\n",
       "      <td>460290</td>\n",
       "      <td>460290</td>\n",
       "      <td>460290</td>\n",
       "      <td>460290</td>\n",
       "      <td>460290</td>\n",
       "      <td>460290</td>\n",
       "    </tr>\n",
       "    <tr>\n",
       "      <th>unique</th>\n",
       "      <td>13</td>\n",
       "      <td>3</td>\n",
       "      <td>59</td>\n",
       "      <td>59</td>\n",
       "      <td>1931</td>\n",
       "      <td>3338</td>\n",
       "      <td>79910</td>\n",
       "      <td>64457</td>\n",
       "      <td>50211</td>\n",
       "      <td>74222</td>\n",
       "      <td>...</td>\n",
       "      <td>76732</td>\n",
       "      <td>60221</td>\n",
       "      <td>50152</td>\n",
       "      <td>68994</td>\n",
       "      <td>52106</td>\n",
       "      <td>47287</td>\n",
       "      <td>34782</td>\n",
       "      <td>11266</td>\n",
       "      <td>6931</td>\n",
       "      <td>59910</td>\n",
       "    </tr>\n",
       "    <tr>\n",
       "      <th>top</th>\n",
       "      <td>January</td>\n",
       "      <td>County</td>\n",
       "      <td>TX</td>\n",
       "      <td>Texas</td>\n",
       "      <td>Total</td>\n",
       "      <td></td>\n",
       "      <td>*</td>\n",
       "      <td>*</td>\n",
       "      <td>*</td>\n",
       "      <td>*</td>\n",
       "      <td>...</td>\n",
       "      <td>*</td>\n",
       "      <td>*</td>\n",
       "      <td>*</td>\n",
       "      <td>*</td>\n",
       "      <td>*</td>\n",
       "      <td>*</td>\n",
       "      <td>*</td>\n",
       "      <td>*</td>\n",
       "      <td>*</td>\n",
       "      <td>*</td>\n",
       "    </tr>\n",
       "    <tr>\n",
       "      <th>freq</th>\n",
       "      <td>36690</td>\n",
       "      <td>452148</td>\n",
       "      <td>35328</td>\n",
       "      <td>35328</td>\n",
       "      <td>8004</td>\n",
       "      <td>276</td>\n",
       "      <td>7518</td>\n",
       "      <td>15439</td>\n",
       "      <td>15439</td>\n",
       "      <td>10483</td>\n",
       "      <td>...</td>\n",
       "      <td>7544</td>\n",
       "      <td>15444</td>\n",
       "      <td>15444</td>\n",
       "      <td>7656</td>\n",
       "      <td>22727</td>\n",
       "      <td>22727</td>\n",
       "      <td>9675</td>\n",
       "      <td>85130</td>\n",
       "      <td>85130</td>\n",
       "      <td>9675</td>\n",
       "    </tr>\n",
       "  </tbody>\n",
       "</table>\n",
       "<p>4 rows × 25 columns</p>\n",
       "</div>"
      ],
      "text/plain": [
       "          MONTH BENE_GEO_LVL BENE_STATE_ABRVTN BENE_STATE_DESC  \\\n",
       "count    460290       460290            460290          460290   \n",
       "unique       13            3                59              59   \n",
       "top     January       County                TX           Texas   \n",
       "freq      36690       452148             35328           35328   \n",
       "\n",
       "       BENE_COUNTY_DESC BENE_FIPS_CD TOT_BENES ORGNL_MDCR_BENES  \\\n",
       "count            460290       460290    460290           460290   \n",
       "unique             1931         3338     79910            64457   \n",
       "top               Total                      *                *   \n",
       "freq               8004          276      7518            15439   \n",
       "\n",
       "       MA_AND_OTH_BENES AGED_TOT_BENES  ... A_B_TOT_BENES  \\\n",
       "count            460290         460290  ...        460290   \n",
       "unique            50211          74222  ...         76732   \n",
       "top                   *              *  ...             *   \n",
       "freq              15439          10483  ...          7544   \n",
       "\n",
       "       A_B_ORGNL_MDCR_BENES A_B_MA_AND_OTH_BENES PRSCRPTN_DRUG_TOT_BENES  \\\n",
       "count                460290               460290                  460290   \n",
       "unique                60221                50152                   68994   \n",
       "top                       *                    *                       *   \n",
       "freq                  15444                15444                    7656   \n",
       "\n",
       "       PRSCRPTN_DRUG_PDP_BENES PRSCRPTN_DRUG_MAPD_BENES  \\\n",
       "count                   460290                   460290   \n",
       "unique                   52106                    47287   \n",
       "top                          *                        *   \n",
       "freq                     22727                    22727   \n",
       "\n",
       "       PRSCRPTN_DRUG_DEEMED_ELIGIBLE_FULL_LIS_BENES  \\\n",
       "count                                        460290   \n",
       "unique                                        34782   \n",
       "top                                               *   \n",
       "freq                                           9675   \n",
       "\n",
       "       PRSCRPTN_DRUG_FULL_LIS_BENES PRSCRPTN_DRUG_PARTIAL_LIS_BENES  \\\n",
       "count                        460290                          460290   \n",
       "unique                        11266                            6931   \n",
       "top                               *                               *   \n",
       "freq                          85130                           85130   \n",
       "\n",
       "       PRSCRPTN_DRUG_NO_LIS_BENES  \n",
       "count                      460290  \n",
       "unique                      59910  \n",
       "top                             *  \n",
       "freq                         9675  \n",
       "\n",
       "[4 rows x 25 columns]"
      ]
     },
     "execution_count": 8,
     "metadata": {},
     "output_type": "execute_result"
    }
   ],
   "source": [
    "data.describe(include = \"object\")"
   ]
  },
  {
   "cell_type": "markdown",
   "id": "9dba4bde",
   "metadata": {
    "papermill": {
     "duration": 0.012363,
     "end_time": "2024-03-09T00:12:18.261154",
     "exception": false,
     "start_time": "2024-03-09T00:12:18.248791",
     "status": "completed"
    },
    "tags": []
   },
   "source": [
    "<h3 style=\"color: #0c2461;\">Observations</h3>\n",
    "<h5 style=\"color: #0c2461;\">Most of the columns have object datatype. Conversion is required from object type to Integer for all columns which have counts of beneficiaries.</h5>"
   ]
  },
  {
   "cell_type": "markdown",
   "id": "7066ff62",
   "metadata": {
    "papermill": {
     "duration": 0.012522,
     "end_time": "2024-03-09T00:12:18.286155",
     "exception": false,
     "start_time": "2024-03-09T00:12:18.273633",
     "status": "completed"
    },
    "tags": []
   },
   "source": [
    "<h3 style=\"color: #0c2461;\">Few more observations</h3>\n",
    "<h5 style=\"color: #0c2461;\">The columns have values like \"*\". This should be replaced by 0. Conversion is required from object type to Integer for all columns which have counts of beneficiaries.</h5>"
   ]
  },
  {
   "cell_type": "code",
   "execution_count": 9,
   "id": "e9184211",
   "metadata": {
    "execution": {
     "iopub.execute_input": "2024-03-09T00:12:18.313487Z",
     "iopub.status.busy": "2024-03-09T00:12:18.312317Z",
     "iopub.status.idle": "2024-03-09T00:12:18.436152Z",
     "shell.execute_reply": "2024-03-09T00:12:18.435459Z"
    },
    "papermill": {
     "duration": 0.139159,
     "end_time": "2024-03-09T00:12:18.437771",
     "exception": false,
     "start_time": "2024-03-09T00:12:18.298612",
     "status": "completed"
    },
    "tags": []
   },
   "outputs": [
    {
     "data": {
      "text/plain": [
       "array(['*', '0.0', '100.0', ..., '99994.0', '99995.0', '99997.0'],\n",
       "      dtype=object)"
      ]
     },
     "execution_count": 9,
     "metadata": {},
     "output_type": "execute_result"
    }
   ],
   "source": [
    "# get all the unique values in the 'TOT_BENS' column\n",
    "Total_ben = data['TOT_BENES'].unique()\n",
    "\n",
    "# sort them alphabetically and then take a closer look\n",
    "Total_ben.sort()\n",
    "Total_ben"
   ]
  },
  {
   "cell_type": "code",
   "execution_count": 10,
   "id": "2c4b528d",
   "metadata": {
    "execution": {
     "iopub.execute_input": "2024-03-09T00:12:18.463439Z",
     "iopub.status.busy": "2024-03-09T00:12:18.463102Z",
     "iopub.status.idle": "2024-03-09T00:12:18.478816Z",
     "shell.execute_reply": "2024-03-09T00:12:18.478065Z"
    },
    "papermill": {
     "duration": 0.031273,
     "end_time": "2024-03-09T00:12:18.481068",
     "exception": false,
     "start_time": "2024-03-09T00:12:18.449795",
     "status": "completed"
    },
    "tags": []
   },
   "outputs": [
    {
     "data": {
      "text/plain": [
       "7518"
      ]
     },
     "execution_count": 10,
     "metadata": {},
     "output_type": "execute_result"
    }
   ],
   "source": [
    "data[\"TOT_BENES\"].isin([\"*\"]).sum()"
   ]
  },
  {
   "cell_type": "code",
   "execution_count": 11,
   "id": "1a9e9908",
   "metadata": {
    "execution": {
     "iopub.execute_input": "2024-03-09T00:12:18.506108Z",
     "iopub.status.busy": "2024-03-09T00:12:18.505817Z",
     "iopub.status.idle": "2024-03-09T00:12:18.519919Z",
     "shell.execute_reply": "2024-03-09T00:12:18.519091Z"
    },
    "papermill": {
     "duration": 0.028571,
     "end_time": "2024-03-09T00:12:18.521777",
     "exception": false,
     "start_time": "2024-03-09T00:12:18.493206",
     "status": "completed"
    },
    "tags": []
   },
   "outputs": [
    {
     "data": {
      "text/plain": [
       "10483"
      ]
     },
     "execution_count": 11,
     "metadata": {},
     "output_type": "execute_result"
    }
   ],
   "source": [
    "data[\"DSBLD_TOT_BENES\"].isin([\"*\"]).sum()"
   ]
  },
  {
   "cell_type": "code",
   "execution_count": 12,
   "id": "9c7adbe5",
   "metadata": {
    "execution": {
     "iopub.execute_input": "2024-03-09T00:12:18.547538Z",
     "iopub.status.busy": "2024-03-09T00:12:18.547235Z",
     "iopub.status.idle": "2024-03-09T00:12:18.564073Z",
     "shell.execute_reply": "2024-03-09T00:12:18.563161Z"
    },
    "papermill": {
     "duration": 0.031406,
     "end_time": "2024-03-09T00:12:18.565813",
     "exception": false,
     "start_time": "2024-03-09T00:12:18.534407",
     "status": "completed"
    },
    "tags": []
   },
   "outputs": [
    {
     "data": {
      "text/plain": [
       "15439"
      ]
     },
     "execution_count": 12,
     "metadata": {},
     "output_type": "execute_result"
    }
   ],
   "source": [
    "data[\"ORGNL_MDCR_BENES\"].isin([\"*\"]).sum()"
   ]
  },
  {
   "cell_type": "code",
   "execution_count": 13,
   "id": "620d61f5",
   "metadata": {
    "execution": {
     "iopub.execute_input": "2024-03-09T00:12:18.591840Z",
     "iopub.status.busy": "2024-03-09T00:12:18.591063Z",
     "iopub.status.idle": "2024-03-09T00:12:18.608173Z",
     "shell.execute_reply": "2024-03-09T00:12:18.606889Z"
    },
    "papermill": {
     "duration": 0.032066,
     "end_time": "2024-03-09T00:12:18.610259",
     "exception": false,
     "start_time": "2024-03-09T00:12:18.578193",
     "status": "completed"
    },
    "tags": []
   },
   "outputs": [
    {
     "data": {
      "text/plain": [
       "10483"
      ]
     },
     "execution_count": 13,
     "metadata": {},
     "output_type": "execute_result"
    }
   ],
   "source": [
    "data[\"AGED_TOT_BENES\"].isin([\"*\"]).sum()"
   ]
  },
  {
   "cell_type": "code",
   "execution_count": 14,
   "id": "60f00420",
   "metadata": {
    "execution": {
     "iopub.execute_input": "2024-03-09T00:12:18.637813Z",
     "iopub.status.busy": "2024-03-09T00:12:18.637464Z",
     "iopub.status.idle": "2024-03-09T00:12:18.652660Z",
     "shell.execute_reply": "2024-03-09T00:12:18.651807Z"
    },
    "papermill": {
     "duration": 0.031544,
     "end_time": "2024-03-09T00:12:18.654889",
     "exception": false,
     "start_time": "2024-03-09T00:12:18.623345",
     "status": "completed"
    },
    "tags": []
   },
   "outputs": [
    {
     "data": {
      "text/plain": [
       "15439"
      ]
     },
     "execution_count": 14,
     "metadata": {},
     "output_type": "execute_result"
    }
   ],
   "source": [
    "data[\"MA_AND_OTH_BENES\"].isin([\"*\"]).sum()"
   ]
  },
  {
   "cell_type": "code",
   "execution_count": 15,
   "id": "88f14b16",
   "metadata": {
    "execution": {
     "iopub.execute_input": "2024-03-09T00:12:18.681027Z",
     "iopub.status.busy": "2024-03-09T00:12:18.680688Z",
     "iopub.status.idle": "2024-03-09T00:12:19.030080Z",
     "shell.execute_reply": "2024-03-09T00:12:19.029213Z"
    },
    "papermill": {
     "duration": 0.364425,
     "end_time": "2024-03-09T00:12:19.032107",
     "exception": false,
     "start_time": "2024-03-09T00:12:18.667682",
     "status": "completed"
    },
    "tags": []
   },
   "outputs": [
    {
     "data": {
      "text/plain": [
       "YEAR                                            0\n",
       "MONTH                                           0\n",
       "BENE_GEO_LVL                                    0\n",
       "BENE_STATE_ABRVTN                               0\n",
       "BENE_STATE_DESC                                 0\n",
       "BENE_COUNTY_DESC                                0\n",
       "BENE_FIPS_CD                                    0\n",
       "TOT_BENES                                       0\n",
       "ORGNL_MDCR_BENES                                0\n",
       "MA_AND_OTH_BENES                                0\n",
       "AGED_TOT_BENES                                  0\n",
       "AGED_ESRD_BENES                                 0\n",
       "AGED_NO_ESRD_BENES                              0\n",
       "DSBLD_TOT_BENES                                 0\n",
       "DSBLD_ESRD_AND_ESRD_ONLY_BENES                  0\n",
       "DSBLD_NO_ESRD_BENES                             0\n",
       "A_B_TOT_BENES                                   0\n",
       "A_B_ORGNL_MDCR_BENES                            0\n",
       "A_B_MA_AND_OTH_BENES                            0\n",
       "PRSCRPTN_DRUG_TOT_BENES                         0\n",
       "PRSCRPTN_DRUG_PDP_BENES                         0\n",
       "PRSCRPTN_DRUG_MAPD_BENES                        0\n",
       "PRSCRPTN_DRUG_DEEMED_ELIGIBLE_FULL_LIS_BENES    0\n",
       "PRSCRPTN_DRUG_FULL_LIS_BENES                    0\n",
       "PRSCRPTN_DRUG_PARTIAL_LIS_BENES                 0\n",
       "PRSCRPTN_DRUG_NO_LIS_BENES                      0\n",
       "dtype: int64"
      ]
     },
     "execution_count": 15,
     "metadata": {},
     "output_type": "execute_result"
    }
   ],
   "source": [
    "# get the number of missing data points per column\n",
    "missing_values_count = data.isnull().sum()\n",
    "# look at the # of missing points in the first ten columns\n",
    "missing_values_count[0:26]"
   ]
  },
  {
   "cell_type": "markdown",
   "id": "75503d67",
   "metadata": {
    "papermill": {
     "duration": 0.012648,
     "end_time": "2024-03-09T00:12:19.057764",
     "exception": false,
     "start_time": "2024-03-09T00:12:19.045116",
     "status": "completed"
    },
    "tags": []
   },
   "source": [
    "<h3 style=\"color: #0c2461;\">Observations</h3>\n",
    "<h5 style=\"color: #0c2461;\">No missing values in the dataset.</h5>"
   ]
  },
  {
   "cell_type": "markdown",
   "id": "b3bd8ed1",
   "metadata": {
    "papermill": {
     "duration": 0.012637,
     "end_time": "2024-03-09T00:12:19.083253",
     "exception": false,
     "start_time": "2024-03-09T00:12:19.070616",
     "status": "completed"
    },
    "tags": []
   },
   "source": [
    "<h2 style=\"position: relative;\">\n",
    "    <span style=\"color: #6a89cc;\">3.</span> \n",
    "    <span style=\"color: #0c2461;\">Cleaning the Dataset</span> \n",
    "    <br/>\n",
    "</h2>\n"
   ]
  },
  {
   "cell_type": "code",
   "execution_count": 16,
   "id": "7d7a8c14",
   "metadata": {
    "execution": {
     "iopub.execute_input": "2024-03-09T00:12:19.111614Z",
     "iopub.status.busy": "2024-03-09T00:12:19.111273Z",
     "iopub.status.idle": "2024-03-09T00:12:19.793124Z",
     "shell.execute_reply": "2024-03-09T00:12:19.792275Z"
    },
    "papermill": {
     "duration": 0.6987,
     "end_time": "2024-03-09T00:12:19.795330",
     "exception": false,
     "start_time": "2024-03-09T00:12:19.096630",
     "status": "completed"
    },
    "tags": []
   },
   "outputs": [],
   "source": [
    "data['TOT_BENES'] = pd.to_numeric(data['TOT_BENES'], errors='coerce').fillna(0).astype(int) \n",
    "data['DSBLD_TOT_BENES'] = pd.to_numeric(data['DSBLD_TOT_BENES'], errors='coerce').fillna(0).astype(int) \n",
    "data['AGED_TOT_BENES'] = pd.to_numeric(data['AGED_TOT_BENES'], errors='coerce').fillna(0).astype(int) \n",
    "data['ORGNL_MDCR_BENES'] = pd.to_numeric(data['ORGNL_MDCR_BENES'], errors='coerce').fillna(0).astype(int) \n",
    "data['MA_AND_OTH_BENES'] = pd.to_numeric(data['MA_AND_OTH_BENES'], errors='coerce').fillna(0).astype(int) "
   ]
  },
  {
   "cell_type": "code",
   "execution_count": 17,
   "id": "9707f02e",
   "metadata": {
    "execution": {
     "iopub.execute_input": "2024-03-09T00:12:19.821864Z",
     "iopub.status.busy": "2024-03-09T00:12:19.821548Z",
     "iopub.status.idle": "2024-03-09T00:12:19.825401Z",
     "shell.execute_reply": "2024-03-09T00:12:19.824554Z"
    },
    "papermill": {
     "duration": 0.018884,
     "end_time": "2024-03-09T00:12:19.827031",
     "exception": false,
     "start_time": "2024-03-09T00:12:19.808147",
     "status": "completed"
    },
    "tags": []
   },
   "outputs": [],
   "source": [
    "## remove all the rows that contain a missing value\n",
    "#nfl_data.dropna()\n",
    "#df.replace('*', pd.NA, inplace=True)"
   ]
  },
  {
   "cell_type": "code",
   "execution_count": 18,
   "id": "e9fb47d5",
   "metadata": {
    "execution": {
     "iopub.execute_input": "2024-03-09T00:12:19.852687Z",
     "iopub.status.busy": "2024-03-09T00:12:19.852409Z",
     "iopub.status.idle": "2024-03-09T00:12:20.135687Z",
     "shell.execute_reply": "2024-03-09T00:12:20.134814Z"
    },
    "papermill": {
     "duration": 0.298519,
     "end_time": "2024-03-09T00:12:20.137799",
     "exception": false,
     "start_time": "2024-03-09T00:12:19.839280",
     "status": "completed"
    },
    "tags": []
   },
   "outputs": [
    {
     "name": "stdout",
     "output_type": "stream",
     "text": [
      "<class 'pandas.core.frame.DataFrame'>\n",
      "RangeIndex: 460290 entries, 0 to 460289\n",
      "Data columns (total 26 columns):\n",
      " #   Column                                        Non-Null Count   Dtype \n",
      "---  ------                                        --------------   ----- \n",
      " 0   YEAR                                          460290 non-null  int64 \n",
      " 1   MONTH                                         460290 non-null  object\n",
      " 2   BENE_GEO_LVL                                  460290 non-null  object\n",
      " 3   BENE_STATE_ABRVTN                             460290 non-null  object\n",
      " 4   BENE_STATE_DESC                               460290 non-null  object\n",
      " 5   BENE_COUNTY_DESC                              460290 non-null  object\n",
      " 6   BENE_FIPS_CD                                  460290 non-null  object\n",
      " 7   TOT_BENES                                     460290 non-null  int64 \n",
      " 8   ORGNL_MDCR_BENES                              460290 non-null  int64 \n",
      " 9   MA_AND_OTH_BENES                              460290 non-null  int64 \n",
      " 10  AGED_TOT_BENES                                460290 non-null  int64 \n",
      " 11  AGED_ESRD_BENES                               460290 non-null  object\n",
      " 12  AGED_NO_ESRD_BENES                            460290 non-null  object\n",
      " 13  DSBLD_TOT_BENES                               460290 non-null  int64 \n",
      " 14  DSBLD_ESRD_AND_ESRD_ONLY_BENES                460290 non-null  object\n",
      " 15  DSBLD_NO_ESRD_BENES                           460290 non-null  object\n",
      " 16  A_B_TOT_BENES                                 460290 non-null  object\n",
      " 17  A_B_ORGNL_MDCR_BENES                          460290 non-null  object\n",
      " 18  A_B_MA_AND_OTH_BENES                          460290 non-null  object\n",
      " 19  PRSCRPTN_DRUG_TOT_BENES                       460290 non-null  object\n",
      " 20  PRSCRPTN_DRUG_PDP_BENES                       460290 non-null  object\n",
      " 21  PRSCRPTN_DRUG_MAPD_BENES                      460290 non-null  object\n",
      " 22  PRSCRPTN_DRUG_DEEMED_ELIGIBLE_FULL_LIS_BENES  460290 non-null  object\n",
      " 23  PRSCRPTN_DRUG_FULL_LIS_BENES                  460290 non-null  object\n",
      " 24  PRSCRPTN_DRUG_PARTIAL_LIS_BENES               460290 non-null  object\n",
      " 25  PRSCRPTN_DRUG_NO_LIS_BENES                    460290 non-null  object\n",
      "dtypes: int64(6), object(20)\n",
      "memory usage: 91.3+ MB\n"
     ]
    }
   ],
   "source": [
    "#Check the structure of the dataframe\n",
    "data.info()"
   ]
  },
  {
   "cell_type": "markdown",
   "id": "fc9a5af7",
   "metadata": {
    "papermill": {
     "duration": 0.012342,
     "end_time": "2024-03-09T00:12:20.162524",
     "exception": false,
     "start_time": "2024-03-09T00:12:20.150182",
     "status": "completed"
    },
    "tags": []
   },
   "source": [
    "<h3 style=\"color: #0c2461;\">Observations</h3>\n",
    "<h5 style=\"color: #0c2461;\">Conversion done for the specified columns from object type to Integer.</h5>"
   ]
  },
  {
   "cell_type": "code",
   "execution_count": 19,
   "id": "906b6105",
   "metadata": {
    "execution": {
     "iopub.execute_input": "2024-03-09T00:12:20.188828Z",
     "iopub.status.busy": "2024-03-09T00:12:20.188507Z",
     "iopub.status.idle": "2024-03-09T00:12:20.195165Z",
     "shell.execute_reply": "2024-03-09T00:12:20.194257Z"
    },
    "papermill": {
     "duration": 0.02182,
     "end_time": "2024-03-09T00:12:20.196874",
     "exception": false,
     "start_time": "2024-03-09T00:12:20.175054",
     "status": "completed"
    },
    "tags": []
   },
   "outputs": [
    {
     "data": {
      "text/plain": [
       "['YEAR',\n",
       " 'MONTH',\n",
       " 'BENE_GEO_LVL',\n",
       " 'BENE_STATE_ABRVTN',\n",
       " 'BENE_STATE_DESC',\n",
       " 'BENE_COUNTY_DESC',\n",
       " 'BENE_FIPS_CD',\n",
       " 'TOT_BENES',\n",
       " 'ORGNL_MDCR_BENES',\n",
       " 'MA_AND_OTH_BENES',\n",
       " 'AGED_TOT_BENES',\n",
       " 'AGED_ESRD_BENES',\n",
       " 'AGED_NO_ESRD_BENES',\n",
       " 'DSBLD_TOT_BENES',\n",
       " 'DSBLD_ESRD_AND_ESRD_ONLY_BENES',\n",
       " 'DSBLD_NO_ESRD_BENES',\n",
       " 'A_B_TOT_BENES',\n",
       " 'A_B_ORGNL_MDCR_BENES',\n",
       " 'A_B_MA_AND_OTH_BENES',\n",
       " 'PRSCRPTN_DRUG_TOT_BENES',\n",
       " 'PRSCRPTN_DRUG_PDP_BENES',\n",
       " 'PRSCRPTN_DRUG_MAPD_BENES',\n",
       " 'PRSCRPTN_DRUG_DEEMED_ELIGIBLE_FULL_LIS_BENES',\n",
       " 'PRSCRPTN_DRUG_FULL_LIS_BENES',\n",
       " 'PRSCRPTN_DRUG_PARTIAL_LIS_BENES',\n",
       " 'PRSCRPTN_DRUG_NO_LIS_BENES']"
      ]
     },
     "execution_count": 19,
     "metadata": {},
     "output_type": "execute_result"
    }
   ],
   "source": [
    "#column to list \n",
    "data.columns.tolist()"
   ]
  },
  {
   "cell_type": "code",
   "execution_count": 20,
   "id": "5baea53e",
   "metadata": {
    "execution": {
     "iopub.execute_input": "2024-03-09T00:12:20.223439Z",
     "iopub.status.busy": "2024-03-09T00:12:20.223122Z",
     "iopub.status.idle": "2024-03-09T00:12:20.252039Z",
     "shell.execute_reply": "2024-03-09T00:12:20.251012Z"
    },
    "papermill": {
     "duration": 0.044402,
     "end_time": "2024-03-09T00:12:20.253999",
     "exception": false,
     "start_time": "2024-03-09T00:12:20.209597",
     "status": "completed"
    },
    "tags": []
   },
   "outputs": [
    {
     "data": {
      "text/plain": [
       "0"
      ]
     },
     "execution_count": 20,
     "metadata": {},
     "output_type": "execute_result"
    }
   ],
   "source": [
    "data[\"TOT_BENES\"].isin([\"*\"]).sum()"
   ]
  },
  {
   "cell_type": "code",
   "execution_count": 21,
   "id": "ccfa6b4b",
   "metadata": {
    "execution": {
     "iopub.execute_input": "2024-03-09T00:12:20.281685Z",
     "iopub.status.busy": "2024-03-09T00:12:20.281346Z",
     "iopub.status.idle": "2024-03-09T00:12:20.312583Z",
     "shell.execute_reply": "2024-03-09T00:12:20.311464Z"
    },
    "papermill": {
     "duration": 0.047414,
     "end_time": "2024-03-09T00:12:20.314712",
     "exception": false,
     "start_time": "2024-03-09T00:12:20.267298",
     "status": "completed"
    },
    "tags": []
   },
   "outputs": [
    {
     "data": {
      "text/plain": [
       "0"
      ]
     },
     "execution_count": 21,
     "metadata": {},
     "output_type": "execute_result"
    }
   ],
   "source": [
    "data[\"ORGNL_MDCR_BENES\"].isin([\"*\"]).sum()"
   ]
  },
  {
   "cell_type": "code",
   "execution_count": 22,
   "id": "8f72b3be",
   "metadata": {
    "execution": {
     "iopub.execute_input": "2024-03-09T00:12:20.342695Z",
     "iopub.status.busy": "2024-03-09T00:12:20.342372Z",
     "iopub.status.idle": "2024-03-09T00:12:20.347054Z",
     "shell.execute_reply": "2024-03-09T00:12:20.346025Z"
    },
    "papermill": {
     "duration": 0.020887,
     "end_time": "2024-03-09T00:12:20.348804",
     "exception": false,
     "start_time": "2024-03-09T00:12:20.327917",
     "status": "completed"
    },
    "tags": []
   },
   "outputs": [
    {
     "name": "stdout",
     "output_type": "stream",
     "text": [
      "Index(['YEAR', 'MONTH', 'BENE_GEO_LVL', 'BENE_STATE_ABRVTN', 'BENE_STATE_DESC',\n",
      "       'BENE_COUNTY_DESC', 'BENE_FIPS_CD', 'TOT_BENES', 'ORGNL_MDCR_BENES',\n",
      "       'MA_AND_OTH_BENES', 'AGED_TOT_BENES', 'AGED_ESRD_BENES',\n",
      "       'AGED_NO_ESRD_BENES', 'DSBLD_TOT_BENES',\n",
      "       'DSBLD_ESRD_AND_ESRD_ONLY_BENES', 'DSBLD_NO_ESRD_BENES',\n",
      "       'A_B_TOT_BENES', 'A_B_ORGNL_MDCR_BENES', 'A_B_MA_AND_OTH_BENES',\n",
      "       'PRSCRPTN_DRUG_TOT_BENES', 'PRSCRPTN_DRUG_PDP_BENES',\n",
      "       'PRSCRPTN_DRUG_MAPD_BENES',\n",
      "       'PRSCRPTN_DRUG_DEEMED_ELIGIBLE_FULL_LIS_BENES',\n",
      "       'PRSCRPTN_DRUG_FULL_LIS_BENES', 'PRSCRPTN_DRUG_PARTIAL_LIS_BENES',\n",
      "       'PRSCRPTN_DRUG_NO_LIS_BENES'],\n",
      "      dtype='object')\n"
     ]
    }
   ],
   "source": [
    "print(data.columns)"
   ]
  },
  {
   "cell_type": "code",
   "execution_count": 23,
   "id": "8cd0a966",
   "metadata": {
    "execution": {
     "iopub.execute_input": "2024-03-09T00:12:20.378424Z",
     "iopub.status.busy": "2024-03-09T00:12:20.376711Z",
     "iopub.status.idle": "2024-03-09T00:12:20.397122Z",
     "shell.execute_reply": "2024-03-09T00:12:20.396258Z"
    },
    "papermill": {
     "duration": 0.03686,
     "end_time": "2024-03-09T00:12:20.399035",
     "exception": false,
     "start_time": "2024-03-09T00:12:20.362175",
     "status": "completed"
    },
    "tags": []
   },
   "outputs": [
    {
     "data": {
      "text/html": [
       "<div>\n",
       "<style scoped>\n",
       "    .dataframe tbody tr th:only-of-type {\n",
       "        vertical-align: middle;\n",
       "    }\n",
       "\n",
       "    .dataframe tbody tr th {\n",
       "        vertical-align: top;\n",
       "    }\n",
       "\n",
       "    .dataframe thead th {\n",
       "        text-align: right;\n",
       "    }\n",
       "</style>\n",
       "<table border=\"1\" class=\"dataframe\">\n",
       "  <thead>\n",
       "    <tr style=\"text-align: right;\">\n",
       "      <th></th>\n",
       "      <th>YEAR</th>\n",
       "      <th>TOT_BENES</th>\n",
       "      <th>AGED_TOT_BENES</th>\n",
       "      <th>DSBLD_TOT_BENES</th>\n",
       "      <th>PRSCRPTN_DRUG_TOT_BENES</th>\n",
       "    </tr>\n",
       "  </thead>\n",
       "  <tbody>\n",
       "    <tr>\n",
       "      <th>0</th>\n",
       "      <td>2013</td>\n",
       "      <td>52425659</td>\n",
       "      <td>43761388</td>\n",
       "      <td>8664271</td>\n",
       "      <td>35679758</td>\n",
       "    </tr>\n",
       "    <tr>\n",
       "      <th>1</th>\n",
       "      <td>2013</td>\n",
       "      <td>921477</td>\n",
       "      <td>698720</td>\n",
       "      <td>222758</td>\n",
       "      <td>637247.0</td>\n",
       "    </tr>\n",
       "  </tbody>\n",
       "</table>\n",
       "</div>"
      ],
      "text/plain": [
       "   YEAR  TOT_BENES  AGED_TOT_BENES  DSBLD_TOT_BENES PRSCRPTN_DRUG_TOT_BENES\n",
       "0  2013   52425659        43761388          8664271                35679758\n",
       "1  2013     921477          698720           222758                637247.0"
      ]
     },
     "execution_count": 23,
     "metadata": {},
     "output_type": "execute_result"
    }
   ],
   "source": [
    "data_flt = pd.DataFrame(data,columns = ['YEAR', 'TOT_BENES','AGED_TOT_BENES', 'DSBLD_TOT_BENES','PRSCRPTN_DRUG_TOT_BENES']) \n",
    "data_flt.head(2)"
   ]
  },
  {
   "cell_type": "code",
   "execution_count": 24,
   "id": "9bfe794d",
   "metadata": {
    "execution": {
     "iopub.execute_input": "2024-03-09T00:12:20.427318Z",
     "iopub.status.busy": "2024-03-09T00:12:20.426980Z",
     "iopub.status.idle": "2024-03-09T00:12:20.483720Z",
     "shell.execute_reply": "2024-03-09T00:12:20.482688Z"
    },
    "papermill": {
     "duration": 0.073405,
     "end_time": "2024-03-09T00:12:20.485879",
     "exception": false,
     "start_time": "2024-03-09T00:12:20.412474",
     "status": "completed"
    },
    "tags": []
   },
   "outputs": [],
   "source": [
    "#data['YEAR'] = pd.to_numeric(data['YEAR']).astype(str) \n",
    "#options = ['2021' ,'2022'] # Last 2 years of data\n",
    "options = ['2022'] # Current year data\n",
    "\n",
    "df1 = data[data['BENE_COUNTY_DESC'] == \"Total\"]\n",
    "df_cy = df1[(df1['MONTH'] == \"Year\") & (df1['BENE_STATE_DESC'] != \"National\") & (df1['YEAR'].isin(options))]\n",
    "##df_cy = df2[df2['YEAR'].str.contains('2022')]  #Current year\n",
    "##df[df['Credit-Rating'].str.contains('Fair')] \n",
    "df3 = df1[(df1['MONTH'] == \"Year\") & (df1['BENE_STATE_DESC'] == \"National\") ]"
   ]
  },
  {
   "cell_type": "code",
   "execution_count": 25,
   "id": "35e679aa",
   "metadata": {
    "execution": {
     "iopub.execute_input": "2024-03-09T00:12:20.514917Z",
     "iopub.status.busy": "2024-03-09T00:12:20.513541Z",
     "iopub.status.idle": "2024-03-09T00:12:20.525390Z",
     "shell.execute_reply": "2024-03-09T00:12:20.524608Z"
    },
    "papermill": {
     "duration": 0.027287,
     "end_time": "2024-03-09T00:12:20.526923",
     "exception": false,
     "start_time": "2024-03-09T00:12:20.499636",
     "status": "completed"
    },
    "tags": []
   },
   "outputs": [
    {
     "data": {
      "text/html": [
       "<div>\n",
       "<style scoped>\n",
       "    .dataframe tbody tr th:only-of-type {\n",
       "        vertical-align: middle;\n",
       "    }\n",
       "\n",
       "    .dataframe tbody tr th {\n",
       "        vertical-align: top;\n",
       "    }\n",
       "\n",
       "    .dataframe thead th {\n",
       "        text-align: right;\n",
       "    }\n",
       "</style>\n",
       "<table border=\"1\" class=\"dataframe\">\n",
       "  <thead>\n",
       "    <tr style=\"text-align: right;\">\n",
       "      <th></th>\n",
       "      <th>YEAR</th>\n",
       "      <th>MONTH</th>\n",
       "      <th>BENE_GEO_LVL</th>\n",
       "      <th>BENE_STATE_ABRVTN</th>\n",
       "      <th>BENE_STATE_DESC</th>\n",
       "      <th>BENE_COUNTY_DESC</th>\n",
       "      <th>BENE_FIPS_CD</th>\n",
       "      <th>TOT_BENES</th>\n",
       "      <th>ORGNL_MDCR_BENES</th>\n",
       "      <th>MA_AND_OTH_BENES</th>\n",
       "      <th>...</th>\n",
       "      <th>A_B_TOT_BENES</th>\n",
       "      <th>A_B_ORGNL_MDCR_BENES</th>\n",
       "      <th>A_B_MA_AND_OTH_BENES</th>\n",
       "      <th>PRSCRPTN_DRUG_TOT_BENES</th>\n",
       "      <th>PRSCRPTN_DRUG_PDP_BENES</th>\n",
       "      <th>PRSCRPTN_DRUG_MAPD_BENES</th>\n",
       "      <th>PRSCRPTN_DRUG_DEEMED_ELIGIBLE_FULL_LIS_BENES</th>\n",
       "      <th>PRSCRPTN_DRUG_FULL_LIS_BENES</th>\n",
       "      <th>PRSCRPTN_DRUG_PARTIAL_LIS_BENES</th>\n",
       "      <th>PRSCRPTN_DRUG_NO_LIS_BENES</th>\n",
       "    </tr>\n",
       "  </thead>\n",
       "  <tbody>\n",
       "  </tbody>\n",
       "</table>\n",
       "<p>0 rows × 26 columns</p>\n",
       "</div>"
      ],
      "text/plain": [
       "Empty DataFrame\n",
       "Columns: [YEAR, MONTH, BENE_GEO_LVL, BENE_STATE_ABRVTN, BENE_STATE_DESC, BENE_COUNTY_DESC, BENE_FIPS_CD, TOT_BENES, ORGNL_MDCR_BENES, MA_AND_OTH_BENES, AGED_TOT_BENES, AGED_ESRD_BENES, AGED_NO_ESRD_BENES, DSBLD_TOT_BENES, DSBLD_ESRD_AND_ESRD_ONLY_BENES, DSBLD_NO_ESRD_BENES, A_B_TOT_BENES, A_B_ORGNL_MDCR_BENES, A_B_MA_AND_OTH_BENES, PRSCRPTN_DRUG_TOT_BENES, PRSCRPTN_DRUG_PDP_BENES, PRSCRPTN_DRUG_MAPD_BENES, PRSCRPTN_DRUG_DEEMED_ELIGIBLE_FULL_LIS_BENES, PRSCRPTN_DRUG_FULL_LIS_BENES, PRSCRPTN_DRUG_PARTIAL_LIS_BENES, PRSCRPTN_DRUG_NO_LIS_BENES]\n",
       "Index: []\n",
       "\n",
       "[0 rows x 26 columns]"
      ]
     },
     "execution_count": 25,
     "metadata": {},
     "output_type": "execute_result"
    }
   ],
   "source": [
    "df_cy.head(10)"
   ]
  },
  {
   "cell_type": "code",
   "execution_count": 26,
   "id": "52598d7b",
   "metadata": {
    "execution": {
     "iopub.execute_input": "2024-03-09T00:12:20.555208Z",
     "iopub.status.busy": "2024-03-09T00:12:20.554710Z",
     "iopub.status.idle": "2024-03-09T00:12:20.558720Z",
     "shell.execute_reply": "2024-03-09T00:12:20.558003Z"
    },
    "papermill": {
     "duration": 0.019456,
     "end_time": "2024-03-09T00:12:20.560205",
     "exception": false,
     "start_time": "2024-03-09T00:12:20.540749",
     "status": "completed"
    },
    "tags": []
   },
   "outputs": [
    {
     "name": "stdout",
     "output_type": "stream",
     "text": [
      "The Dataset have 0 rows and 26 columns.\n"
     ]
    }
   ],
   "source": [
    "row, col = df_cy.shape\n",
    "print(\"The Dataset have\",row,\"rows and\",col,\"columns.\")"
   ]
  },
  {
   "cell_type": "code",
   "execution_count": 27,
   "id": "228c5507",
   "metadata": {
    "execution": {
     "iopub.execute_input": "2024-03-09T00:12:20.587151Z",
     "iopub.status.busy": "2024-03-09T00:12:20.586832Z",
     "iopub.status.idle": "2024-03-09T00:12:20.590544Z",
     "shell.execute_reply": "2024-03-09T00:12:20.589991Z"
    },
    "papermill": {
     "duration": 0.020067,
     "end_time": "2024-03-09T00:12:20.593166",
     "exception": false,
     "start_time": "2024-03-09T00:12:20.573099",
     "status": "completed"
    },
    "tags": []
   },
   "outputs": [
    {
     "name": "stdout",
     "output_type": "stream",
     "text": [
      "The Dataset have 10 rows and 26 columns.\n"
     ]
    }
   ],
   "source": [
    "row, col = df3.shape\n",
    "print(\"The Dataset have\",row,\"rows and\",col,\"columns.\")"
   ]
  },
  {
   "cell_type": "code",
   "execution_count": 28,
   "id": "3a90c0a8",
   "metadata": {
    "execution": {
     "iopub.execute_input": "2024-03-09T00:12:20.624257Z",
     "iopub.status.busy": "2024-03-09T00:12:20.623709Z",
     "iopub.status.idle": "2024-03-09T00:12:20.642569Z",
     "shell.execute_reply": "2024-03-09T00:12:20.641992Z"
    },
    "papermill": {
     "duration": 0.03612,
     "end_time": "2024-03-09T00:12:20.644175",
     "exception": false,
     "start_time": "2024-03-09T00:12:20.608055",
     "status": "completed"
    },
    "tags": []
   },
   "outputs": [
    {
     "data": {
      "text/html": [
       "<div>\n",
       "<style scoped>\n",
       "    .dataframe tbody tr th:only-of-type {\n",
       "        vertical-align: middle;\n",
       "    }\n",
       "\n",
       "    .dataframe tbody tr th {\n",
       "        vertical-align: top;\n",
       "    }\n",
       "\n",
       "    .dataframe thead th {\n",
       "        text-align: right;\n",
       "    }\n",
       "</style>\n",
       "<table border=\"1\" class=\"dataframe\">\n",
       "  <thead>\n",
       "    <tr style=\"text-align: right;\">\n",
       "      <th></th>\n",
       "      <th>YEAR</th>\n",
       "      <th>MONTH</th>\n",
       "      <th>BENE_GEO_LVL</th>\n",
       "      <th>BENE_STATE_ABRVTN</th>\n",
       "      <th>BENE_STATE_DESC</th>\n",
       "      <th>BENE_COUNTY_DESC</th>\n",
       "      <th>BENE_FIPS_CD</th>\n",
       "      <th>TOT_BENES</th>\n",
       "      <th>ORGNL_MDCR_BENES</th>\n",
       "      <th>MA_AND_OTH_BENES</th>\n",
       "      <th>...</th>\n",
       "      <th>A_B_TOT_BENES</th>\n",
       "      <th>A_B_ORGNL_MDCR_BENES</th>\n",
       "      <th>A_B_MA_AND_OTH_BENES</th>\n",
       "      <th>PRSCRPTN_DRUG_TOT_BENES</th>\n",
       "      <th>PRSCRPTN_DRUG_PDP_BENES</th>\n",
       "      <th>PRSCRPTN_DRUG_MAPD_BENES</th>\n",
       "      <th>PRSCRPTN_DRUG_DEEMED_ELIGIBLE_FULL_LIS_BENES</th>\n",
       "      <th>PRSCRPTN_DRUG_FULL_LIS_BENES</th>\n",
       "      <th>PRSCRPTN_DRUG_PARTIAL_LIS_BENES</th>\n",
       "      <th>PRSCRPTN_DRUG_NO_LIS_BENES</th>\n",
       "    </tr>\n",
       "  </thead>\n",
       "  <tbody>\n",
       "    <tr>\n",
       "      <th>0</th>\n",
       "      <td>2013</td>\n",
       "      <td>Year</td>\n",
       "      <td>National</td>\n",
       "      <td>US</td>\n",
       "      <td>National</td>\n",
       "      <td>Total</td>\n",
       "      <td></td>\n",
       "      <td>52425659</td>\n",
       "      <td>37613096</td>\n",
       "      <td>14812563</td>\n",
       "      <td>...</td>\n",
       "      <td>47620905</td>\n",
       "      <td>32831884</td>\n",
       "      <td>14789022</td>\n",
       "      <td>35679758</td>\n",
       "      <td>22661451</td>\n",
       "      <td>13018307</td>\n",
       "      <td>10000861</td>\n",
       "      <td>1030113.0</td>\n",
       "      <td>409204.0</td>\n",
       "      <td>24239580</td>\n",
       "    </tr>\n",
       "    <tr>\n",
       "      <th>43355</th>\n",
       "      <td>2014</td>\n",
       "      <td>Year</td>\n",
       "      <td>National</td>\n",
       "      <td>US</td>\n",
       "      <td>National</td>\n",
       "      <td>Total</td>\n",
       "      <td></td>\n",
       "      <td>54013038</td>\n",
       "      <td>37790373</td>\n",
       "      <td>16222665</td>\n",
       "      <td>...</td>\n",
       "      <td>49073941</td>\n",
       "      <td>32876249</td>\n",
       "      <td>16197692</td>\n",
       "      <td>37720840</td>\n",
       "      <td>23437148</td>\n",
       "      <td>14283691</td>\n",
       "      <td>10313537</td>\n",
       "      <td>1051834.0</td>\n",
       "      <td>401548.0</td>\n",
       "      <td>25953921</td>\n",
       "    </tr>\n",
       "    <tr>\n",
       "      <th>86710</th>\n",
       "      <td>2015</td>\n",
       "      <td>Year</td>\n",
       "      <td>National</td>\n",
       "      <td>US</td>\n",
       "      <td>National</td>\n",
       "      <td>Total</td>\n",
       "      <td></td>\n",
       "      <td>55496222</td>\n",
       "      <td>38025274</td>\n",
       "      <td>17470948</td>\n",
       "      <td>...</td>\n",
       "      <td>50414746</td>\n",
       "      <td>32969578</td>\n",
       "      <td>17445168</td>\n",
       "      <td>39505335</td>\n",
       "      <td>24092868</td>\n",
       "      <td>15412467</td>\n",
       "      <td>10643165</td>\n",
       "      <td>1077947.0</td>\n",
       "      <td>406304.0</td>\n",
       "      <td>27377918</td>\n",
       "    </tr>\n",
       "    <tr>\n",
       "      <th>130065</th>\n",
       "      <td>2016</td>\n",
       "      <td>Year</td>\n",
       "      <td>National</td>\n",
       "      <td>US</td>\n",
       "      <td>National</td>\n",
       "      <td>Total</td>\n",
       "      <td></td>\n",
       "      <td>56981183</td>\n",
       "      <td>38610384</td>\n",
       "      <td>18370800</td>\n",
       "      <td>...</td>\n",
       "      <td>51743591</td>\n",
       "      <td>33393261</td>\n",
       "      <td>18350330</td>\n",
       "      <td>41203627</td>\n",
       "      <td>24831079</td>\n",
       "      <td>16372548</td>\n",
       "      <td>10915488</td>\n",
       "      <td>1086468.0</td>\n",
       "      <td>413970.0</td>\n",
       "      <td>28787701</td>\n",
       "    </tr>\n",
       "    <tr>\n",
       "      <th>173420</th>\n",
       "      <td>2017</td>\n",
       "      <td>Year</td>\n",
       "      <td>National</td>\n",
       "      <td>US</td>\n",
       "      <td>National</td>\n",
       "      <td>Total</td>\n",
       "      <td></td>\n",
       "      <td>58457244</td>\n",
       "      <td>38667830</td>\n",
       "      <td>19789414</td>\n",
       "      <td>...</td>\n",
       "      <td>53008234</td>\n",
       "      <td>33242085</td>\n",
       "      <td>19766149</td>\n",
       "      <td>42728443</td>\n",
       "      <td>25243684</td>\n",
       "      <td>17484759</td>\n",
       "      <td>10856130</td>\n",
       "      <td>1014289.0</td>\n",
       "      <td>383811.0</td>\n",
       "      <td>30474213</td>\n",
       "    </tr>\n",
       "    <tr>\n",
       "      <th>216775</th>\n",
       "      <td>2018</td>\n",
       "      <td>Year</td>\n",
       "      <td>National</td>\n",
       "      <td>US</td>\n",
       "      <td>National</td>\n",
       "      <td>Total</td>\n",
       "      <td></td>\n",
       "      <td>59989883</td>\n",
       "      <td>38665082</td>\n",
       "      <td>21324800</td>\n",
       "      <td>...</td>\n",
       "      <td>54349822</td>\n",
       "      <td>33052639</td>\n",
       "      <td>21297184</td>\n",
       "      <td>44249461</td>\n",
       "      <td>25563945</td>\n",
       "      <td>18685516</td>\n",
       "      <td>11374106</td>\n",
       "      <td>1103901.0</td>\n",
       "      <td>406367.0</td>\n",
       "      <td>31365087</td>\n",
       "    </tr>\n",
       "    <tr>\n",
       "      <th>260130</th>\n",
       "      <td>2019</td>\n",
       "      <td>Year</td>\n",
       "      <td>National</td>\n",
       "      <td>US</td>\n",
       "      <td>National</td>\n",
       "      <td>Total</td>\n",
       "      <td></td>\n",
       "      <td>61514510</td>\n",
       "      <td>38577012</td>\n",
       "      <td>22937498</td>\n",
       "      <td>...</td>\n",
       "      <td>55653848</td>\n",
       "      <td>32758741</td>\n",
       "      <td>22895108</td>\n",
       "      <td>45827091</td>\n",
       "      <td>25583137</td>\n",
       "      <td>20243954</td>\n",
       "      <td>11555190</td>\n",
       "      <td>1094264.0</td>\n",
       "      <td>410245.0</td>\n",
       "      <td>32767391</td>\n",
       "    </tr>\n",
       "    <tr>\n",
       "      <th>303498</th>\n",
       "      <td>2020</td>\n",
       "      <td>Year</td>\n",
       "      <td>National</td>\n",
       "      <td>US</td>\n",
       "      <td>National</td>\n",
       "      <td>Total</td>\n",
       "      <td></td>\n",
       "      <td>62840267</td>\n",
       "      <td>37776345</td>\n",
       "      <td>25063922</td>\n",
       "      <td>...</td>\n",
       "      <td>56966865</td>\n",
       "      <td>31934411</td>\n",
       "      <td>25032454</td>\n",
       "      <td>47413121</td>\n",
       "      <td>25171949</td>\n",
       "      <td>22241173</td>\n",
       "      <td>11655477</td>\n",
       "      <td>1112043.0</td>\n",
       "      <td>371211.0</td>\n",
       "      <td>34274390</td>\n",
       "    </tr>\n",
       "    <tr>\n",
       "      <th>346866</th>\n",
       "      <td>2021</td>\n",
       "      <td>Year</td>\n",
       "      <td>National</td>\n",
       "      <td>US</td>\n",
       "      <td>National</td>\n",
       "      <td>Total</td>\n",
       "      <td></td>\n",
       "      <td>63892626</td>\n",
       "      <td>36356380</td>\n",
       "      <td>27536246</td>\n",
       "      <td>...</td>\n",
       "      <td>58041288</td>\n",
       "      <td>30537829</td>\n",
       "      <td>27503460</td>\n",
       "      <td>48818849</td>\n",
       "      <td>24164736</td>\n",
       "      <td>24654113</td>\n",
       "      <td>11711263</td>\n",
       "      <td>1108918.0</td>\n",
       "      <td>323250.0</td>\n",
       "      <td>35675418</td>\n",
       "    </tr>\n",
       "    <tr>\n",
       "      <th>390234</th>\n",
       "      <td>2022</td>\n",
       "      <td>Year</td>\n",
       "      <td>National</td>\n",
       "      <td>US</td>\n",
       "      <td>National</td>\n",
       "      <td>Total</td>\n",
       "      <td></td>\n",
       "      <td>65116503</td>\n",
       "      <td>35288227</td>\n",
       "      <td>29828276</td>\n",
       "      <td>...</td>\n",
       "      <td>59108664</td>\n",
       "      <td>29327793</td>\n",
       "      <td>29780871</td>\n",
       "      <td>50295753</td>\n",
       "      <td>23400805</td>\n",
       "      <td>26894947</td>\n",
       "      <td>12231254</td>\n",
       "      <td>1050008.0</td>\n",
       "      <td>284815.0</td>\n",
       "      <td>36729676</td>\n",
       "    </tr>\n",
       "  </tbody>\n",
       "</table>\n",
       "<p>10 rows × 26 columns</p>\n",
       "</div>"
      ],
      "text/plain": [
       "        YEAR MONTH BENE_GEO_LVL BENE_STATE_ABRVTN BENE_STATE_DESC  \\\n",
       "0       2013  Year     National                US        National   \n",
       "43355   2014  Year     National                US        National   \n",
       "86710   2015  Year     National                US        National   \n",
       "130065  2016  Year     National                US        National   \n",
       "173420  2017  Year     National                US        National   \n",
       "216775  2018  Year     National                US        National   \n",
       "260130  2019  Year     National                US        National   \n",
       "303498  2020  Year     National                US        National   \n",
       "346866  2021  Year     National                US        National   \n",
       "390234  2022  Year     National                US        National   \n",
       "\n",
       "       BENE_COUNTY_DESC BENE_FIPS_CD  TOT_BENES  ORGNL_MDCR_BENES  \\\n",
       "0                 Total                52425659          37613096   \n",
       "43355             Total                54013038          37790373   \n",
       "86710             Total                55496222          38025274   \n",
       "130065            Total                56981183          38610384   \n",
       "173420            Total                58457244          38667830   \n",
       "216775            Total                59989883          38665082   \n",
       "260130            Total                61514510          38577012   \n",
       "303498            Total                62840267          37776345   \n",
       "346866            Total                63892626          36356380   \n",
       "390234            Total                65116503          35288227   \n",
       "\n",
       "        MA_AND_OTH_BENES  ...  A_B_TOT_BENES A_B_ORGNL_MDCR_BENES  \\\n",
       "0               14812563  ...       47620905             32831884   \n",
       "43355           16222665  ...       49073941             32876249   \n",
       "86710           17470948  ...       50414746             32969578   \n",
       "130065          18370800  ...       51743591             33393261   \n",
       "173420          19789414  ...       53008234             33242085   \n",
       "216775          21324800  ...       54349822             33052639   \n",
       "260130          22937498  ...       55653848             32758741   \n",
       "303498          25063922  ...       56966865             31934411   \n",
       "346866          27536246  ...       58041288             30537829   \n",
       "390234          29828276  ...       59108664             29327793   \n",
       "\n",
       "       A_B_MA_AND_OTH_BENES  PRSCRPTN_DRUG_TOT_BENES PRSCRPTN_DRUG_PDP_BENES  \\\n",
       "0                  14789022                 35679758                22661451   \n",
       "43355              16197692                 37720840                23437148   \n",
       "86710              17445168                 39505335                24092868   \n",
       "130065             18350330                 41203627                24831079   \n",
       "173420             19766149                 42728443                25243684   \n",
       "216775             21297184                 44249461                25563945   \n",
       "260130             22895108                 45827091                25583137   \n",
       "303498             25032454                 47413121                25171949   \n",
       "346866             27503460                 48818849                24164736   \n",
       "390234             29780871                 50295753                23400805   \n",
       "\n",
       "       PRSCRPTN_DRUG_MAPD_BENES PRSCRPTN_DRUG_DEEMED_ELIGIBLE_FULL_LIS_BENES  \\\n",
       "0                      13018307                                     10000861   \n",
       "43355                  14283691                                     10313537   \n",
       "86710                  15412467                                     10643165   \n",
       "130065                 16372548                                     10915488   \n",
       "173420                 17484759                                     10856130   \n",
       "216775                 18685516                                     11374106   \n",
       "260130                 20243954                                     11555190   \n",
       "303498                 22241173                                     11655477   \n",
       "346866                 24654113                                     11711263   \n",
       "390234                 26894947                                     12231254   \n",
       "\n",
       "       PRSCRPTN_DRUG_FULL_LIS_BENES PRSCRPTN_DRUG_PARTIAL_LIS_BENES  \\\n",
       "0                         1030113.0                        409204.0   \n",
       "43355                     1051834.0                        401548.0   \n",
       "86710                     1077947.0                        406304.0   \n",
       "130065                    1086468.0                        413970.0   \n",
       "173420                    1014289.0                        383811.0   \n",
       "216775                    1103901.0                        406367.0   \n",
       "260130                    1094264.0                        410245.0   \n",
       "303498                    1112043.0                        371211.0   \n",
       "346866                    1108918.0                        323250.0   \n",
       "390234                    1050008.0                        284815.0   \n",
       "\n",
       "       PRSCRPTN_DRUG_NO_LIS_BENES  \n",
       "0                        24239580  \n",
       "43355                    25953921  \n",
       "86710                    27377918  \n",
       "130065                   28787701  \n",
       "173420                   30474213  \n",
       "216775                   31365087  \n",
       "260130                   32767391  \n",
       "303498                   34274390  \n",
       "346866                   35675418  \n",
       "390234                   36729676  \n",
       "\n",
       "[10 rows x 26 columns]"
      ]
     },
     "execution_count": 28,
     "metadata": {},
     "output_type": "execute_result"
    }
   ],
   "source": [
    "df3.head(10)"
   ]
  },
  {
   "cell_type": "code",
   "execution_count": 29,
   "id": "f86224d1",
   "metadata": {
    "execution": {
     "iopub.execute_input": "2024-03-09T00:12:20.672744Z",
     "iopub.status.busy": "2024-03-09T00:12:20.672258Z",
     "iopub.status.idle": "2024-03-09T00:12:20.676607Z",
     "shell.execute_reply": "2024-03-09T00:12:20.676062Z"
    },
    "papermill": {
     "duration": 0.020435,
     "end_time": "2024-03-09T00:12:20.678355",
     "exception": false,
     "start_time": "2024-03-09T00:12:20.657920",
     "status": "completed"
    },
    "tags": []
   },
   "outputs": [],
   "source": [
    "numerical_columns = list(df3.loc[:,['TOT_BENES', 'AGED_TOT_BENES', 'DSBLD_TOT_BENES','PRSCRPTN_DRUG_TOT_BENES']])"
   ]
  },
  {
   "cell_type": "code",
   "execution_count": 30,
   "id": "11f65853",
   "metadata": {
    "execution": {
     "iopub.execute_input": "2024-03-09T00:12:20.707312Z",
     "iopub.status.busy": "2024-03-09T00:12:20.706789Z",
     "iopub.status.idle": "2024-03-09T00:12:20.711061Z",
     "shell.execute_reply": "2024-03-09T00:12:20.710442Z"
    },
    "papermill": {
     "duration": 0.020368,
     "end_time": "2024-03-09T00:12:20.712606",
     "exception": false,
     "start_time": "2024-03-09T00:12:20.692238",
     "status": "completed"
    },
    "tags": []
   },
   "outputs": [],
   "source": [
    "df_numerical = df3[numerical_columns] "
   ]
  },
  {
   "cell_type": "code",
   "execution_count": 31,
   "id": "3f0214d7",
   "metadata": {
    "execution": {
     "iopub.execute_input": "2024-03-09T00:12:20.740963Z",
     "iopub.status.busy": "2024-03-09T00:12:20.740627Z",
     "iopub.status.idle": "2024-03-09T00:12:20.749133Z",
     "shell.execute_reply": "2024-03-09T00:12:20.748385Z"
    },
    "papermill": {
     "duration": 0.024718,
     "end_time": "2024-03-09T00:12:20.750823",
     "exception": false,
     "start_time": "2024-03-09T00:12:20.726105",
     "status": "completed"
    },
    "tags": []
   },
   "outputs": [
    {
     "data": {
      "text/html": [
       "<div>\n",
       "<style scoped>\n",
       "    .dataframe tbody tr th:only-of-type {\n",
       "        vertical-align: middle;\n",
       "    }\n",
       "\n",
       "    .dataframe tbody tr th {\n",
       "        vertical-align: top;\n",
       "    }\n",
       "\n",
       "    .dataframe thead th {\n",
       "        text-align: right;\n",
       "    }\n",
       "</style>\n",
       "<table border=\"1\" class=\"dataframe\">\n",
       "  <thead>\n",
       "    <tr style=\"text-align: right;\">\n",
       "      <th></th>\n",
       "      <th>TOT_BENES</th>\n",
       "      <th>AGED_TOT_BENES</th>\n",
       "      <th>DSBLD_TOT_BENES</th>\n",
       "      <th>PRSCRPTN_DRUG_TOT_BENES</th>\n",
       "    </tr>\n",
       "  </thead>\n",
       "  <tbody>\n",
       "    <tr>\n",
       "      <th>0</th>\n",
       "      <td>52425659</td>\n",
       "      <td>43761388</td>\n",
       "      <td>8664271</td>\n",
       "      <td>35679758</td>\n",
       "    </tr>\n",
       "    <tr>\n",
       "      <th>43355</th>\n",
       "      <td>54013038</td>\n",
       "      <td>45216665</td>\n",
       "      <td>8796373</td>\n",
       "      <td>37720840</td>\n",
       "    </tr>\n",
       "    <tr>\n",
       "      <th>86710</th>\n",
       "      <td>55496222</td>\n",
       "      <td>46630952</td>\n",
       "      <td>8865269</td>\n",
       "      <td>39505335</td>\n",
       "    </tr>\n",
       "    <tr>\n",
       "      <th>130065</th>\n",
       "      <td>56981183</td>\n",
       "      <td>48143217</td>\n",
       "      <td>8837966</td>\n",
       "      <td>41203627</td>\n",
       "    </tr>\n",
       "    <tr>\n",
       "      <th>173420</th>\n",
       "      <td>58457244</td>\n",
       "      <td>49678033</td>\n",
       "      <td>8779211</td>\n",
       "      <td>42728443</td>\n",
       "    </tr>\n",
       "  </tbody>\n",
       "</table>\n",
       "</div>"
      ],
      "text/plain": [
       "        TOT_BENES  AGED_TOT_BENES  DSBLD_TOT_BENES PRSCRPTN_DRUG_TOT_BENES\n",
       "0        52425659        43761388          8664271                35679758\n",
       "43355    54013038        45216665          8796373                37720840\n",
       "86710    55496222        46630952          8865269                39505335\n",
       "130065   56981183        48143217          8837966                41203627\n",
       "173420   58457244        49678033          8779211                42728443"
      ]
     },
     "execution_count": 31,
     "metadata": {},
     "output_type": "execute_result"
    }
   ],
   "source": [
    "df_numerical.head(5)"
   ]
  },
  {
   "cell_type": "code",
   "execution_count": 32,
   "id": "5ecafb58",
   "metadata": {
    "execution": {
     "iopub.execute_input": "2024-03-09T00:12:20.779676Z",
     "iopub.status.busy": "2024-03-09T00:12:20.779354Z",
     "iopub.status.idle": "2024-03-09T00:12:20.784972Z",
     "shell.execute_reply": "2024-03-09T00:12:20.784397Z"
    },
    "papermill": {
     "duration": 0.021749,
     "end_time": "2024-03-09T00:12:20.786490",
     "exception": false,
     "start_time": "2024-03-09T00:12:20.764741",
     "status": "completed"
    },
    "tags": []
   },
   "outputs": [],
   "source": [
    "#Seaborn settings for visualizations!\n",
    "rc = {\n",
    "    \"axes.facecolor\": \"#f7f9fc\",\n",
    "    \"figure.facecolor\": \"#f7f9fc\",\n",
    "    \"axes.edgecolor\": \"#000000\",\n",
    "    \"grid.color\": \"#EBEBE7\",\n",
    "    \"font.family\": \"serif\",\n",
    "    \"axes.labelcolor\": \"#000000\",\n",
    "    \"xtick.color\": \"#000000\",\n",
    "    \"ytick.color\": \"#000000\",\n",
    "    \"grid.alpha\": 0.4\n",
    "}\n",
    "\n",
    "default_palette = 'YlOrRd'\n",
    "\n",
    "sns.set(rc=rc)\n",
    "pd.set_option('display.max_columns',35)\n",
    "pd.options.display.float_format = '{:,.2f}'.format"
   ]
  },
  {
   "cell_type": "code",
   "execution_count": 33,
   "id": "1e179f3a",
   "metadata": {
    "execution": {
     "iopub.execute_input": "2024-03-09T00:12:20.816397Z",
     "iopub.status.busy": "2024-03-09T00:12:20.815494Z",
     "iopub.status.idle": "2024-03-09T00:12:20.837654Z",
     "shell.execute_reply": "2024-03-09T00:12:20.837031Z"
    },
    "papermill": {
     "duration": 0.039547,
     "end_time": "2024-03-09T00:12:20.840176",
     "exception": false,
     "start_time": "2024-03-09T00:12:20.800629",
     "status": "completed"
    },
    "tags": []
   },
   "outputs": [
    {
     "data": {
      "text/html": [
       "<div>\n",
       "<style scoped>\n",
       "    .dataframe tbody tr th:only-of-type {\n",
       "        vertical-align: middle;\n",
       "    }\n",
       "\n",
       "    .dataframe tbody tr th {\n",
       "        vertical-align: top;\n",
       "    }\n",
       "\n",
       "    .dataframe thead th {\n",
       "        text-align: right;\n",
       "    }\n",
       "</style>\n",
       "<table border=\"1\" class=\"dataframe\">\n",
       "  <thead>\n",
       "    <tr style=\"text-align: right;\">\n",
       "      <th></th>\n",
       "      <th>YEAR</th>\n",
       "      <th>MONTH</th>\n",
       "      <th>BENE_GEO_LVL</th>\n",
       "      <th>BENE_STATE_ABRVTN</th>\n",
       "      <th>BENE_STATE_DESC</th>\n",
       "      <th>BENE_COUNTY_DESC</th>\n",
       "      <th>BENE_FIPS_CD</th>\n",
       "      <th>TOT_BENES</th>\n",
       "      <th>ORGNL_MDCR_BENES</th>\n",
       "      <th>MA_AND_OTH_BENES</th>\n",
       "      <th>AGED_TOT_BENES</th>\n",
       "      <th>AGED_ESRD_BENES</th>\n",
       "      <th>AGED_NO_ESRD_BENES</th>\n",
       "      <th>DSBLD_TOT_BENES</th>\n",
       "      <th>DSBLD_ESRD_AND_ESRD_ONLY_BENES</th>\n",
       "      <th>DSBLD_NO_ESRD_BENES</th>\n",
       "      <th>A_B_TOT_BENES</th>\n",
       "      <th>A_B_ORGNL_MDCR_BENES</th>\n",
       "      <th>A_B_MA_AND_OTH_BENES</th>\n",
       "      <th>PRSCRPTN_DRUG_TOT_BENES</th>\n",
       "      <th>PRSCRPTN_DRUG_PDP_BENES</th>\n",
       "      <th>PRSCRPTN_DRUG_MAPD_BENES</th>\n",
       "      <th>PRSCRPTN_DRUG_DEEMED_ELIGIBLE_FULL_LIS_BENES</th>\n",
       "      <th>PRSCRPTN_DRUG_FULL_LIS_BENES</th>\n",
       "      <th>PRSCRPTN_DRUG_PARTIAL_LIS_BENES</th>\n",
       "      <th>PRSCRPTN_DRUG_NO_LIS_BENES</th>\n",
       "    </tr>\n",
       "  </thead>\n",
       "  <tbody>\n",
       "    <tr>\n",
       "      <th>0</th>\n",
       "      <td>2013</td>\n",
       "      <td>Year</td>\n",
       "      <td>National</td>\n",
       "      <td>US</td>\n",
       "      <td>National</td>\n",
       "      <td>Total</td>\n",
       "      <td></td>\n",
       "      <td>52425659</td>\n",
       "      <td>37613096</td>\n",
       "      <td>14812563</td>\n",
       "      <td>43761388</td>\n",
       "      <td>234590.0</td>\n",
       "      <td>43526798</td>\n",
       "      <td>8664271</td>\n",
       "      <td>243169.0</td>\n",
       "      <td>8421102.0</td>\n",
       "      <td>47620905</td>\n",
       "      <td>32831884</td>\n",
       "      <td>14789022</td>\n",
       "      <td>35679758</td>\n",
       "      <td>22661451</td>\n",
       "      <td>13018307</td>\n",
       "      <td>10000861</td>\n",
       "      <td>1030113.0</td>\n",
       "      <td>409204.0</td>\n",
       "      <td>24239580</td>\n",
       "    </tr>\n",
       "    <tr>\n",
       "      <th>43355</th>\n",
       "      <td>2014</td>\n",
       "      <td>Year</td>\n",
       "      <td>National</td>\n",
       "      <td>US</td>\n",
       "      <td>National</td>\n",
       "      <td>Total</td>\n",
       "      <td></td>\n",
       "      <td>54013038</td>\n",
       "      <td>37790373</td>\n",
       "      <td>16222665</td>\n",
       "      <td>45216665</td>\n",
       "      <td>245705.0</td>\n",
       "      <td>44970960</td>\n",
       "      <td>8796373</td>\n",
       "      <td>249051.0</td>\n",
       "      <td>8547322.0</td>\n",
       "      <td>49073941</td>\n",
       "      <td>32876249</td>\n",
       "      <td>16197692</td>\n",
       "      <td>37720840</td>\n",
       "      <td>23437148</td>\n",
       "      <td>14283691</td>\n",
       "      <td>10313537</td>\n",
       "      <td>1051834.0</td>\n",
       "      <td>401548.0</td>\n",
       "      <td>25953921</td>\n",
       "    </tr>\n",
       "    <tr>\n",
       "      <th>86710</th>\n",
       "      <td>2015</td>\n",
       "      <td>Year</td>\n",
       "      <td>National</td>\n",
       "      <td>US</td>\n",
       "      <td>National</td>\n",
       "      <td>Total</td>\n",
       "      <td></td>\n",
       "      <td>55496222</td>\n",
       "      <td>38025274</td>\n",
       "      <td>17470948</td>\n",
       "      <td>46630952</td>\n",
       "      <td>258350.0</td>\n",
       "      <td>46372603</td>\n",
       "      <td>8865269</td>\n",
       "      <td>254536.0</td>\n",
       "      <td>8610733.0</td>\n",
       "      <td>50414746</td>\n",
       "      <td>32969578</td>\n",
       "      <td>17445168</td>\n",
       "      <td>39505335</td>\n",
       "      <td>24092868</td>\n",
       "      <td>15412467</td>\n",
       "      <td>10643165</td>\n",
       "      <td>1077947.0</td>\n",
       "      <td>406304.0</td>\n",
       "      <td>27377918</td>\n",
       "    </tr>\n",
       "    <tr>\n",
       "      <th>130065</th>\n",
       "      <td>2016</td>\n",
       "      <td>Year</td>\n",
       "      <td>National</td>\n",
       "      <td>US</td>\n",
       "      <td>National</td>\n",
       "      <td>Total</td>\n",
       "      <td></td>\n",
       "      <td>56981183</td>\n",
       "      <td>38610384</td>\n",
       "      <td>18370800</td>\n",
       "      <td>48143217</td>\n",
       "      <td>269019.0</td>\n",
       "      <td>47874199</td>\n",
       "      <td>8837966</td>\n",
       "      <td>256347.0</td>\n",
       "      <td>8581619.0</td>\n",
       "      <td>51743591</td>\n",
       "      <td>33393261</td>\n",
       "      <td>18350330</td>\n",
       "      <td>41203627</td>\n",
       "      <td>24831079</td>\n",
       "      <td>16372548</td>\n",
       "      <td>10915488</td>\n",
       "      <td>1086468.0</td>\n",
       "      <td>413970.0</td>\n",
       "      <td>28787701</td>\n",
       "    </tr>\n",
       "    <tr>\n",
       "      <th>173420</th>\n",
       "      <td>2017</td>\n",
       "      <td>Year</td>\n",
       "      <td>National</td>\n",
       "      <td>US</td>\n",
       "      <td>National</td>\n",
       "      <td>Total</td>\n",
       "      <td></td>\n",
       "      <td>58457244</td>\n",
       "      <td>38667830</td>\n",
       "      <td>19789414</td>\n",
       "      <td>49678033</td>\n",
       "      <td>278642.0</td>\n",
       "      <td>49399391</td>\n",
       "      <td>8779211</td>\n",
       "      <td>258366.0</td>\n",
       "      <td>8520845.0</td>\n",
       "      <td>53008234</td>\n",
       "      <td>33242085</td>\n",
       "      <td>19766149</td>\n",
       "      <td>42728443</td>\n",
       "      <td>25243684</td>\n",
       "      <td>17484759</td>\n",
       "      <td>10856130</td>\n",
       "      <td>1014289.0</td>\n",
       "      <td>383811.0</td>\n",
       "      <td>30474213</td>\n",
       "    </tr>\n",
       "    <tr>\n",
       "      <th>216775</th>\n",
       "      <td>2018</td>\n",
       "      <td>Year</td>\n",
       "      <td>National</td>\n",
       "      <td>US</td>\n",
       "      <td>National</td>\n",
       "      <td>Total</td>\n",
       "      <td></td>\n",
       "      <td>59989883</td>\n",
       "      <td>38665082</td>\n",
       "      <td>21324800</td>\n",
       "      <td>51303898</td>\n",
       "      <td>290243.0</td>\n",
       "      <td>51013655</td>\n",
       "      <td>8685985</td>\n",
       "      <td>261246.0</td>\n",
       "      <td>8424739.0</td>\n",
       "      <td>54349822</td>\n",
       "      <td>33052639</td>\n",
       "      <td>21297184</td>\n",
       "      <td>44249461</td>\n",
       "      <td>25563945</td>\n",
       "      <td>18685516</td>\n",
       "      <td>11374106</td>\n",
       "      <td>1103901.0</td>\n",
       "      <td>406367.0</td>\n",
       "      <td>31365087</td>\n",
       "    </tr>\n",
       "    <tr>\n",
       "      <th>260130</th>\n",
       "      <td>2019</td>\n",
       "      <td>Year</td>\n",
       "      <td>National</td>\n",
       "      <td>US</td>\n",
       "      <td>National</td>\n",
       "      <td>Total</td>\n",
       "      <td></td>\n",
       "      <td>61514510</td>\n",
       "      <td>38577012</td>\n",
       "      <td>22937498</td>\n",
       "      <td>52991455</td>\n",
       "      <td>301798.0</td>\n",
       "      <td>52689658</td>\n",
       "      <td>8523055</td>\n",
       "      <td>262179.0</td>\n",
       "      <td>8260876.0</td>\n",
       "      <td>55653848</td>\n",
       "      <td>32758741</td>\n",
       "      <td>22895108</td>\n",
       "      <td>45827091</td>\n",
       "      <td>25583137</td>\n",
       "      <td>20243954</td>\n",
       "      <td>11555190</td>\n",
       "      <td>1094264.0</td>\n",
       "      <td>410245.0</td>\n",
       "      <td>32767391</td>\n",
       "    </tr>\n",
       "    <tr>\n",
       "      <th>303498</th>\n",
       "      <td>2020</td>\n",
       "      <td>Year</td>\n",
       "      <td>National</td>\n",
       "      <td>US</td>\n",
       "      <td>National</td>\n",
       "      <td>Total</td>\n",
       "      <td></td>\n",
       "      <td>62840267</td>\n",
       "      <td>37776345</td>\n",
       "      <td>25063922</td>\n",
       "      <td>54531919</td>\n",
       "      <td>305080.0</td>\n",
       "      <td>54226839</td>\n",
       "      <td>8308348</td>\n",
       "      <td>255949.0</td>\n",
       "      <td>8052399.0</td>\n",
       "      <td>56966865</td>\n",
       "      <td>31934411</td>\n",
       "      <td>25032454</td>\n",
       "      <td>47413121</td>\n",
       "      <td>25171949</td>\n",
       "      <td>22241173</td>\n",
       "      <td>11655477</td>\n",
       "      <td>1112043.0</td>\n",
       "      <td>371211.0</td>\n",
       "      <td>34274390</td>\n",
       "    </tr>\n",
       "    <tr>\n",
       "      <th>346866</th>\n",
       "      <td>2021</td>\n",
       "      <td>Year</td>\n",
       "      <td>National</td>\n",
       "      <td>US</td>\n",
       "      <td>National</td>\n",
       "      <td>Total</td>\n",
       "      <td></td>\n",
       "      <td>63892626</td>\n",
       "      <td>36356380</td>\n",
       "      <td>27536246</td>\n",
       "      <td>55851321</td>\n",
       "      <td>305227.0</td>\n",
       "      <td>55546095</td>\n",
       "      <td>8041304</td>\n",
       "      <td>248871.0</td>\n",
       "      <td>7792434.0</td>\n",
       "      <td>58041288</td>\n",
       "      <td>30537829</td>\n",
       "      <td>27503460</td>\n",
       "      <td>48818849</td>\n",
       "      <td>24164736</td>\n",
       "      <td>24654113</td>\n",
       "      <td>11711263</td>\n",
       "      <td>1108918.0</td>\n",
       "      <td>323250.0</td>\n",
       "      <td>35675418</td>\n",
       "    </tr>\n",
       "    <tr>\n",
       "      <th>390234</th>\n",
       "      <td>2022</td>\n",
       "      <td>Year</td>\n",
       "      <td>National</td>\n",
       "      <td>US</td>\n",
       "      <td>National</td>\n",
       "      <td>Total</td>\n",
       "      <td></td>\n",
       "      <td>65116503</td>\n",
       "      <td>35288227</td>\n",
       "      <td>29828276</td>\n",
       "      <td>57362936</td>\n",
       "      <td>311070.0</td>\n",
       "      <td>57051865</td>\n",
       "      <td>7753567</td>\n",
       "      <td>244565.0</td>\n",
       "      <td>7509003.0</td>\n",
       "      <td>59108664</td>\n",
       "      <td>29327793</td>\n",
       "      <td>29780871</td>\n",
       "      <td>50295753</td>\n",
       "      <td>23400805</td>\n",
       "      <td>26894947</td>\n",
       "      <td>12231254</td>\n",
       "      <td>1050008.0</td>\n",
       "      <td>284815.0</td>\n",
       "      <td>36729676</td>\n",
       "    </tr>\n",
       "  </tbody>\n",
       "</table>\n",
       "</div>"
      ],
      "text/plain": [
       "        YEAR MONTH BENE_GEO_LVL BENE_STATE_ABRVTN BENE_STATE_DESC  \\\n",
       "0       2013  Year     National                US        National   \n",
       "43355   2014  Year     National                US        National   \n",
       "86710   2015  Year     National                US        National   \n",
       "130065  2016  Year     National                US        National   \n",
       "173420  2017  Year     National                US        National   \n",
       "216775  2018  Year     National                US        National   \n",
       "260130  2019  Year     National                US        National   \n",
       "303498  2020  Year     National                US        National   \n",
       "346866  2021  Year     National                US        National   \n",
       "390234  2022  Year     National                US        National   \n",
       "\n",
       "       BENE_COUNTY_DESC BENE_FIPS_CD  TOT_BENES  ORGNL_MDCR_BENES  \\\n",
       "0                 Total                52425659          37613096   \n",
       "43355             Total                54013038          37790373   \n",
       "86710             Total                55496222          38025274   \n",
       "130065            Total                56981183          38610384   \n",
       "173420            Total                58457244          38667830   \n",
       "216775            Total                59989883          38665082   \n",
       "260130            Total                61514510          38577012   \n",
       "303498            Total                62840267          37776345   \n",
       "346866            Total                63892626          36356380   \n",
       "390234            Total                65116503          35288227   \n",
       "\n",
       "        MA_AND_OTH_BENES  AGED_TOT_BENES AGED_ESRD_BENES AGED_NO_ESRD_BENES  \\\n",
       "0               14812563        43761388        234590.0           43526798   \n",
       "43355           16222665        45216665        245705.0           44970960   \n",
       "86710           17470948        46630952        258350.0           46372603   \n",
       "130065          18370800        48143217        269019.0           47874199   \n",
       "173420          19789414        49678033        278642.0           49399391   \n",
       "216775          21324800        51303898        290243.0           51013655   \n",
       "260130          22937498        52991455        301798.0           52689658   \n",
       "303498          25063922        54531919        305080.0           54226839   \n",
       "346866          27536246        55851321        305227.0           55546095   \n",
       "390234          29828276        57362936        311070.0           57051865   \n",
       "\n",
       "        DSBLD_TOT_BENES DSBLD_ESRD_AND_ESRD_ONLY_BENES DSBLD_NO_ESRD_BENES  \\\n",
       "0               8664271                       243169.0           8421102.0   \n",
       "43355           8796373                       249051.0           8547322.0   \n",
       "86710           8865269                       254536.0           8610733.0   \n",
       "130065          8837966                       256347.0           8581619.0   \n",
       "173420          8779211                       258366.0           8520845.0   \n",
       "216775          8685985                       261246.0           8424739.0   \n",
       "260130          8523055                       262179.0           8260876.0   \n",
       "303498          8308348                       255949.0           8052399.0   \n",
       "346866          8041304                       248871.0           7792434.0   \n",
       "390234          7753567                       244565.0           7509003.0   \n",
       "\n",
       "       A_B_TOT_BENES A_B_ORGNL_MDCR_BENES A_B_MA_AND_OTH_BENES  \\\n",
       "0           47620905             32831884             14789022   \n",
       "43355       49073941             32876249             16197692   \n",
       "86710       50414746             32969578             17445168   \n",
       "130065      51743591             33393261             18350330   \n",
       "173420      53008234             33242085             19766149   \n",
       "216775      54349822             33052639             21297184   \n",
       "260130      55653848             32758741             22895108   \n",
       "303498      56966865             31934411             25032454   \n",
       "346866      58041288             30537829             27503460   \n",
       "390234      59108664             29327793             29780871   \n",
       "\n",
       "       PRSCRPTN_DRUG_TOT_BENES PRSCRPTN_DRUG_PDP_BENES  \\\n",
       "0                     35679758                22661451   \n",
       "43355                 37720840                23437148   \n",
       "86710                 39505335                24092868   \n",
       "130065                41203627                24831079   \n",
       "173420                42728443                25243684   \n",
       "216775                44249461                25563945   \n",
       "260130                45827091                25583137   \n",
       "303498                47413121                25171949   \n",
       "346866                48818849                24164736   \n",
       "390234                50295753                23400805   \n",
       "\n",
       "       PRSCRPTN_DRUG_MAPD_BENES PRSCRPTN_DRUG_DEEMED_ELIGIBLE_FULL_LIS_BENES  \\\n",
       "0                      13018307                                     10000861   \n",
       "43355                  14283691                                     10313537   \n",
       "86710                  15412467                                     10643165   \n",
       "130065                 16372548                                     10915488   \n",
       "173420                 17484759                                     10856130   \n",
       "216775                 18685516                                     11374106   \n",
       "260130                 20243954                                     11555190   \n",
       "303498                 22241173                                     11655477   \n",
       "346866                 24654113                                     11711263   \n",
       "390234                 26894947                                     12231254   \n",
       "\n",
       "       PRSCRPTN_DRUG_FULL_LIS_BENES PRSCRPTN_DRUG_PARTIAL_LIS_BENES  \\\n",
       "0                         1030113.0                        409204.0   \n",
       "43355                     1051834.0                        401548.0   \n",
       "86710                     1077947.0                        406304.0   \n",
       "130065                    1086468.0                        413970.0   \n",
       "173420                    1014289.0                        383811.0   \n",
       "216775                    1103901.0                        406367.0   \n",
       "260130                    1094264.0                        410245.0   \n",
       "303498                    1112043.0                        371211.0   \n",
       "346866                    1108918.0                        323250.0   \n",
       "390234                    1050008.0                        284815.0   \n",
       "\n",
       "       PRSCRPTN_DRUG_NO_LIS_BENES  \n",
       "0                        24239580  \n",
       "43355                    25953921  \n",
       "86710                    27377918  \n",
       "130065                   28787701  \n",
       "173420                   30474213  \n",
       "216775                   31365087  \n",
       "260130                   32767391  \n",
       "303498                   34274390  \n",
       "346866                   35675418  \n",
       "390234                   36729676  "
      ]
     },
     "execution_count": 33,
     "metadata": {},
     "output_type": "execute_result"
    }
   ],
   "source": [
    "df3.head(20)"
   ]
  },
  {
   "cell_type": "code",
   "execution_count": 34,
   "id": "45ebe376",
   "metadata": {
    "execution": {
     "iopub.execute_input": "2024-03-09T00:12:20.874320Z",
     "iopub.status.busy": "2024-03-09T00:12:20.873728Z",
     "iopub.status.idle": "2024-03-09T00:12:21.156063Z",
     "shell.execute_reply": "2024-03-09T00:12:21.155202Z"
    },
    "papermill": {
     "duration": 0.300776,
     "end_time": "2024-03-09T00:12:21.158176",
     "exception": false,
     "start_time": "2024-03-09T00:12:20.857400",
     "status": "completed"
    },
    "tags": []
   },
   "outputs": [
    {
     "data": {
      "image/png": "[encoded data removed]",
      "text/plain": [
       "<Figure size 640x480 with 1 Axes>"
      ]
     },
     "metadata": {},
     "output_type": "display_data"
    }
   ],
   "source": [
    "# Creating the figure and primary axis\n",
    "fig, ax1 = plt.subplots()\n",
    "sns.barplot(x=df3[\"YEAR\"], y=df3[\"TOT_BENES\"] ,ax=ax1, color='skyblue')\n",
    "ax1.set_ylabel('#Beneficiaries')\n",
    "plt.ylim(100000, 200000000)\n",
    "plt.show()"
   ]
  },
  {
   "cell_type": "code",
   "execution_count": 35,
   "id": "f0e8fd3d",
   "metadata": {
    "execution": {
     "iopub.execute_input": "2024-03-09T00:12:21.189742Z",
     "iopub.status.busy": "2024-03-09T00:12:21.189175Z",
     "iopub.status.idle": "2024-03-09T00:12:21.216713Z",
     "shell.execute_reply": "2024-03-09T00:12:21.215748Z"
    },
    "papermill": {
     "duration": 0.045493,
     "end_time": "2024-03-09T00:12:21.218823",
     "exception": false,
     "start_time": "2024-03-09T00:12:21.173330",
     "status": "completed"
    },
    "tags": []
   },
   "outputs": [
    {
     "name": "stdout",
     "output_type": "stream",
     "text": [
      "<class 'pandas.core.frame.DataFrame'>\n",
      "Index: 8004 entries, 0 to 460289\n",
      "Data columns (total 26 columns):\n",
      " #   Column                                        Non-Null Count  Dtype \n",
      "---  ------                                        --------------  ----- \n",
      " 0   YEAR                                          8004 non-null   int64 \n",
      " 1   MONTH                                         8004 non-null   object\n",
      " 2   BENE_GEO_LVL                                  8004 non-null   object\n",
      " 3   BENE_STATE_ABRVTN                             8004 non-null   object\n",
      " 4   BENE_STATE_DESC                               8004 non-null   object\n",
      " 5   BENE_COUNTY_DESC                              8004 non-null   object\n",
      " 6   BENE_FIPS_CD                                  8004 non-null   object\n",
      " 7   TOT_BENES                                     8004 non-null   int64 \n",
      " 8   ORGNL_MDCR_BENES                              8004 non-null   int64 \n",
      " 9   MA_AND_OTH_BENES                              8004 non-null   int64 \n",
      " 10  AGED_TOT_BENES                                8004 non-null   int64 \n",
      " 11  AGED_ESRD_BENES                               8004 non-null   object\n",
      " 12  AGED_NO_ESRD_BENES                            8004 non-null   object\n",
      " 13  DSBLD_TOT_BENES                               8004 non-null   int64 \n",
      " 14  DSBLD_ESRD_AND_ESRD_ONLY_BENES                8004 non-null   object\n",
      " 15  DSBLD_NO_ESRD_BENES                           8004 non-null   object\n",
      " 16  A_B_TOT_BENES                                 8004 non-null   object\n",
      " 17  A_B_ORGNL_MDCR_BENES                          8004 non-null   object\n",
      " 18  A_B_MA_AND_OTH_BENES                          8004 non-null   object\n",
      " 19  PRSCRPTN_DRUG_TOT_BENES                       8004 non-null   object\n",
      " 20  PRSCRPTN_DRUG_PDP_BENES                       8004 non-null   object\n",
      " 21  PRSCRPTN_DRUG_MAPD_BENES                      8004 non-null   object\n",
      " 22  PRSCRPTN_DRUG_DEEMED_ELIGIBLE_FULL_LIS_BENES  8004 non-null   object\n",
      " 23  PRSCRPTN_DRUG_FULL_LIS_BENES                  8004 non-null   object\n",
      " 24  PRSCRPTN_DRUG_PARTIAL_LIS_BENES               8004 non-null   object\n",
      " 25  PRSCRPTN_DRUG_NO_LIS_BENES                    8004 non-null   object\n",
      "dtypes: int64(6), object(20)\n",
      "memory usage: 1.6+ MB\n"
     ]
    }
   ],
   "source": [
    "df1.info()"
   ]
  },
  {
   "cell_type": "code",
   "execution_count": 36,
   "id": "4b7b1e7a",
   "metadata": {
    "execution": {
     "iopub.execute_input": "2024-03-09T00:12:21.250210Z",
     "iopub.status.busy": "2024-03-09T00:12:21.249391Z",
     "iopub.status.idle": "2024-03-09T00:12:21.271267Z",
     "shell.execute_reply": "2024-03-09T00:12:21.270455Z"
    },
    "papermill": {
     "duration": 0.03958,
     "end_time": "2024-03-09T00:12:21.273303",
     "exception": false,
     "start_time": "2024-03-09T00:12:21.233723",
     "status": "completed"
    },
    "tags": []
   },
   "outputs": [
    {
     "data": {
      "text/html": [
       "<div>\n",
       "<style scoped>\n",
       "    .dataframe tbody tr th:only-of-type {\n",
       "        vertical-align: middle;\n",
       "    }\n",
       "\n",
       "    .dataframe tbody tr th {\n",
       "        vertical-align: top;\n",
       "    }\n",
       "\n",
       "    .dataframe thead th {\n",
       "        text-align: right;\n",
       "    }\n",
       "</style>\n",
       "<table border=\"1\" class=\"dataframe\">\n",
       "  <thead>\n",
       "    <tr style=\"text-align: right;\">\n",
       "      <th></th>\n",
       "      <th>YEAR</th>\n",
       "      <th>MONTH</th>\n",
       "      <th>BENE_GEO_LVL</th>\n",
       "      <th>BENE_STATE_ABRVTN</th>\n",
       "      <th>BENE_STATE_DESC</th>\n",
       "      <th>BENE_COUNTY_DESC</th>\n",
       "      <th>BENE_FIPS_CD</th>\n",
       "      <th>TOT_BENES</th>\n",
       "      <th>ORGNL_MDCR_BENES</th>\n",
       "      <th>MA_AND_OTH_BENES</th>\n",
       "      <th>AGED_TOT_BENES</th>\n",
       "      <th>AGED_ESRD_BENES</th>\n",
       "      <th>AGED_NO_ESRD_BENES</th>\n",
       "      <th>DSBLD_TOT_BENES</th>\n",
       "      <th>DSBLD_ESRD_AND_ESRD_ONLY_BENES</th>\n",
       "      <th>DSBLD_NO_ESRD_BENES</th>\n",
       "      <th>A_B_TOT_BENES</th>\n",
       "      <th>A_B_ORGNL_MDCR_BENES</th>\n",
       "      <th>A_B_MA_AND_OTH_BENES</th>\n",
       "      <th>PRSCRPTN_DRUG_TOT_BENES</th>\n",
       "      <th>PRSCRPTN_DRUG_PDP_BENES</th>\n",
       "      <th>PRSCRPTN_DRUG_MAPD_BENES</th>\n",
       "      <th>PRSCRPTN_DRUG_DEEMED_ELIGIBLE_FULL_LIS_BENES</th>\n",
       "      <th>PRSCRPTN_DRUG_FULL_LIS_BENES</th>\n",
       "      <th>PRSCRPTN_DRUG_PARTIAL_LIS_BENES</th>\n",
       "      <th>PRSCRPTN_DRUG_NO_LIS_BENES</th>\n",
       "    </tr>\n",
       "  </thead>\n",
       "  <tbody>\n",
       "    <tr>\n",
       "      <th>0</th>\n",
       "      <td>2013</td>\n",
       "      <td>Year</td>\n",
       "      <td>National</td>\n",
       "      <td>US</td>\n",
       "      <td>National</td>\n",
       "      <td>Total</td>\n",
       "      <td></td>\n",
       "      <td>52425659</td>\n",
       "      <td>37613096</td>\n",
       "      <td>14812563</td>\n",
       "      <td>43761388</td>\n",
       "      <td>234590.0</td>\n",
       "      <td>43526798</td>\n",
       "      <td>8664271</td>\n",
       "      <td>243169.0</td>\n",
       "      <td>8421102.0</td>\n",
       "      <td>47620905</td>\n",
       "      <td>32831884</td>\n",
       "      <td>14789022</td>\n",
       "      <td>35679758</td>\n",
       "      <td>22661451</td>\n",
       "      <td>13018307</td>\n",
       "      <td>10000861</td>\n",
       "      <td>1030113.0</td>\n",
       "      <td>409204.0</td>\n",
       "      <td>24239580</td>\n",
       "    </tr>\n",
       "    <tr>\n",
       "      <th>1</th>\n",
       "      <td>2013</td>\n",
       "      <td>Year</td>\n",
       "      <td>State</td>\n",
       "      <td>AL</td>\n",
       "      <td>Alabama</td>\n",
       "      <td>Total</td>\n",
       "      <td>01</td>\n",
       "      <td>921477</td>\n",
       "      <td>711448</td>\n",
       "      <td>210029</td>\n",
       "      <td>698720</td>\n",
       "      <td>4134.0</td>\n",
       "      <td>694586.0</td>\n",
       "      <td>222758</td>\n",
       "      <td>5315.0</td>\n",
       "      <td>217442.0</td>\n",
       "      <td>857619.0</td>\n",
       "      <td>647647.0</td>\n",
       "      <td>209972.0</td>\n",
       "      <td>637247.0</td>\n",
       "      <td>437749.0</td>\n",
       "      <td>199498.0</td>\n",
       "      <td>205496.0</td>\n",
       "      <td>32790.0</td>\n",
       "      <td>11452.0</td>\n",
       "      <td>387510.0</td>\n",
       "    </tr>\n",
       "    <tr>\n",
       "      <th>70</th>\n",
       "      <td>2013</td>\n",
       "      <td>Year</td>\n",
       "      <td>State</td>\n",
       "      <td>AK</td>\n",
       "      <td>Alaska</td>\n",
       "      <td>Total</td>\n",
       "      <td>02</td>\n",
       "      <td>76224</td>\n",
       "      <td>75676</td>\n",
       "      <td>549</td>\n",
       "      <td>63712</td>\n",
       "      <td>252.0</td>\n",
       "      <td>63460.0</td>\n",
       "      <td>12512</td>\n",
       "      <td>329.0</td>\n",
       "      <td>12183.0</td>\n",
       "      <td>67025.0</td>\n",
       "      <td>66477.0</td>\n",
       "      <td>548.0</td>\n",
       "      <td>30486.0</td>\n",
       "      <td>30082.0</td>\n",
       "      <td>404.0</td>\n",
       "      <td>15994.0</td>\n",
       "      <td>973.0</td>\n",
       "      <td>228.0</td>\n",
       "      <td>13290.0</td>\n",
       "    </tr>\n",
       "    <tr>\n",
       "      <th>101</th>\n",
       "      <td>2013</td>\n",
       "      <td>Year</td>\n",
       "      <td>State</td>\n",
       "      <td>AZ</td>\n",
       "      <td>Arizona</td>\n",
       "      <td>Total</td>\n",
       "      <td>04</td>\n",
       "      <td>1050128</td>\n",
       "      <td>658948</td>\n",
       "      <td>391180</td>\n",
       "      <td>898705</td>\n",
       "      <td>4459.0</td>\n",
       "      <td>894246.0</td>\n",
       "      <td>151422</td>\n",
       "      <td>4581.0</td>\n",
       "      <td>146842.0</td>\n",
       "      <td>957635.0</td>\n",
       "      <td>566552.0</td>\n",
       "      <td>391083.0</td>\n",
       "      <td>707683.0</td>\n",
       "      <td>331320.0</td>\n",
       "      <td>376363.0</td>\n",
       "      <td>176167.0</td>\n",
       "      <td>12562.0</td>\n",
       "      <td>7280.0</td>\n",
       "      <td>511674.0</td>\n",
       "    </tr>\n",
       "    <tr>\n",
       "      <th>118</th>\n",
       "      <td>2013</td>\n",
       "      <td>Year</td>\n",
       "      <td>State</td>\n",
       "      <td>AR</td>\n",
       "      <td>Arkansas</td>\n",
       "      <td>Total</td>\n",
       "      <td>05</td>\n",
       "      <td>572713</td>\n",
       "      <td>467399</td>\n",
       "      <td>105315</td>\n",
       "      <td>438855</td>\n",
       "      <td>1933.0</td>\n",
       "      <td>436922.0</td>\n",
       "      <td>133859</td>\n",
       "      <td>2409.0</td>\n",
       "      <td>131450.0</td>\n",
       "      <td>534145.0</td>\n",
       "      <td>428836.0</td>\n",
       "      <td>105309.0</td>\n",
       "      <td>376185.0</td>\n",
       "      <td>280432.0</td>\n",
       "      <td>95753.0</td>\n",
       "      <td>127593.0</td>\n",
       "      <td>16226.0</td>\n",
       "      <td>6904.0</td>\n",
       "      <td>225462.0</td>\n",
       "    </tr>\n",
       "    <tr>\n",
       "      <th>195</th>\n",
       "      <td>2013</td>\n",
       "      <td>Year</td>\n",
       "      <td>State</td>\n",
       "      <td>CA</td>\n",
       "      <td>California</td>\n",
       "      <td>Total</td>\n",
       "      <td>06</td>\n",
       "      <td>5300177</td>\n",
       "      <td>3318396</td>\n",
       "      <td>1981781</td>\n",
       "      <td>4582391</td>\n",
       "      <td>29592.0</td>\n",
       "      <td>4552799.0</td>\n",
       "      <td>717786</td>\n",
       "      <td>27963.0</td>\n",
       "      <td>689823.0</td>\n",
       "      <td>4711715.0</td>\n",
       "      <td>2732619.0</td>\n",
       "      <td>1979096.0</td>\n",
       "      <td>3933310.0</td>\n",
       "      <td>2006290.0</td>\n",
       "      <td>1927020.0</td>\n",
       "      <td>1285813.0</td>\n",
       "      <td>78233.0</td>\n",
       "      <td>26404.0</td>\n",
       "      <td>2542860.0</td>\n",
       "    </tr>\n",
       "    <tr>\n",
       "      <th>255</th>\n",
       "      <td>2013</td>\n",
       "      <td>Year</td>\n",
       "      <td>State</td>\n",
       "      <td>CO</td>\n",
       "      <td>Colorado</td>\n",
       "      <td>Total</td>\n",
       "      <td>08</td>\n",
       "      <td>721035</td>\n",
       "      <td>468492</td>\n",
       "      <td>252542</td>\n",
       "      <td>620821</td>\n",
       "      <td>2193.0</td>\n",
       "      <td>618628.0</td>\n",
       "      <td>100214</td>\n",
       "      <td>2383.0</td>\n",
       "      <td>97831.0</td>\n",
       "      <td>648783.0</td>\n",
       "      <td>397756.0</td>\n",
       "      <td>251027.0</td>\n",
       "      <td>453365.0</td>\n",
       "      <td>222496.0</td>\n",
       "      <td>230869.0</td>\n",
       "      <td>96463.0</td>\n",
       "      <td>15529.0</td>\n",
       "      <td>4807.0</td>\n",
       "      <td>336565.0</td>\n",
       "    </tr>\n",
       "    <tr>\n",
       "      <th>321</th>\n",
       "      <td>2013</td>\n",
       "      <td>Year</td>\n",
       "      <td>State</td>\n",
       "      <td>CT</td>\n",
       "      <td>Connecticut</td>\n",
       "      <td>Total</td>\n",
       "      <td>09</td>\n",
       "      <td>608512</td>\n",
       "      <td>467291</td>\n",
       "      <td>141221</td>\n",
       "      <td>526964</td>\n",
       "      <td>2318.0</td>\n",
       "      <td>524647.0</td>\n",
       "      <td>81548</td>\n",
       "      <td>1951.0</td>\n",
       "      <td>79597.0</td>\n",
       "      <td>544825.0</td>\n",
       "      <td>403614.0</td>\n",
       "      <td>141211.0</td>\n",
       "      <td>416404.0</td>\n",
       "      <td>283712.0</td>\n",
       "      <td>132693.0</td>\n",
       "      <td>155163.0</td>\n",
       "      <td>2946.0</td>\n",
       "      <td>613.0</td>\n",
       "      <td>257683.0</td>\n",
       "    </tr>\n",
       "    <tr>\n",
       "      <th>331</th>\n",
       "      <td>2013</td>\n",
       "      <td>Year</td>\n",
       "      <td>State</td>\n",
       "      <td>DE</td>\n",
       "      <td>Delaware</td>\n",
       "      <td>Total</td>\n",
       "      <td>10</td>\n",
       "      <td>167686</td>\n",
       "      <td>155803</td>\n",
       "      <td>11883</td>\n",
       "      <td>141355</td>\n",
       "      <td>845.0</td>\n",
       "      <td>140510.0</td>\n",
       "      <td>26332</td>\n",
       "      <td>825.0</td>\n",
       "      <td>25506.0</td>\n",
       "      <td>154834.0</td>\n",
       "      <td>142956.0</td>\n",
       "      <td>11878.0</td>\n",
       "      <td>115727.0</td>\n",
       "      <td>105368.0</td>\n",
       "      <td>10359.0</td>\n",
       "      <td>26346.0</td>\n",
       "      <td>2380.0</td>\n",
       "      <td>1407.0</td>\n",
       "      <td>85594.0</td>\n",
       "    </tr>\n",
       "    <tr>\n",
       "      <th>336</th>\n",
       "      <td>2013</td>\n",
       "      <td>Year</td>\n",
       "      <td>State</td>\n",
       "      <td>DC</td>\n",
       "      <td>District of Columbia</td>\n",
       "      <td>Total</td>\n",
       "      <td>11</td>\n",
       "      <td>83964</td>\n",
       "      <td>74946</td>\n",
       "      <td>9018</td>\n",
       "      <td>69193</td>\n",
       "      <td>850.0</td>\n",
       "      <td>68343.0</td>\n",
       "      <td>14771</td>\n",
       "      <td>1015.0</td>\n",
       "      <td>13757.0</td>\n",
       "      <td>68000.0</td>\n",
       "      <td>59062.0</td>\n",
       "      <td>8938.0</td>\n",
       "      <td>45597.0</td>\n",
       "      <td>36885.0</td>\n",
       "      <td>8712.0</td>\n",
       "      <td>28881.0</td>\n",
       "      <td>853.0</td>\n",
       "      <td>156.0</td>\n",
       "      <td>15708.0</td>\n",
       "    </tr>\n",
       "  </tbody>\n",
       "</table>\n",
       "</div>"
      ],
      "text/plain": [
       "     YEAR MONTH BENE_GEO_LVL BENE_STATE_ABRVTN       BENE_STATE_DESC  \\\n",
       "0    2013  Year     National                US              National   \n",
       "1    2013  Year        State                AL               Alabama   \n",
       "70   2013  Year        State                AK                Alaska   \n",
       "101  2013  Year        State                AZ               Arizona   \n",
       "118  2013  Year        State                AR              Arkansas   \n",
       "195  2013  Year        State                CA            California   \n",
       "255  2013  Year        State                CO              Colorado   \n",
       "321  2013  Year        State                CT           Connecticut   \n",
       "331  2013  Year        State                DE              Delaware   \n",
       "336  2013  Year        State                DC  District of Columbia   \n",
       "\n",
       "    BENE_COUNTY_DESC BENE_FIPS_CD  TOT_BENES  ORGNL_MDCR_BENES  \\\n",
       "0              Total                52425659          37613096   \n",
       "1              Total           01     921477            711448   \n",
       "70             Total           02      76224             75676   \n",
       "101            Total           04    1050128            658948   \n",
       "118            Total           05     572713            467399   \n",
       "195            Total           06    5300177           3318396   \n",
       "255            Total           08     721035            468492   \n",
       "321            Total           09     608512            467291   \n",
       "331            Total           10     167686            155803   \n",
       "336            Total           11      83964             74946   \n",
       "\n",
       "     MA_AND_OTH_BENES  AGED_TOT_BENES AGED_ESRD_BENES AGED_NO_ESRD_BENES  \\\n",
       "0            14812563        43761388        234590.0           43526798   \n",
       "1              210029          698720          4134.0           694586.0   \n",
       "70                549           63712           252.0            63460.0   \n",
       "101            391180          898705          4459.0           894246.0   \n",
       "118            105315          438855          1933.0           436922.0   \n",
       "195           1981781         4582391         29592.0          4552799.0   \n",
       "255            252542          620821          2193.0           618628.0   \n",
       "321            141221          526964          2318.0           524647.0   \n",
       "331             11883          141355           845.0           140510.0   \n",
       "336              9018           69193           850.0            68343.0   \n",
       "\n",
       "     DSBLD_TOT_BENES DSBLD_ESRD_AND_ESRD_ONLY_BENES DSBLD_NO_ESRD_BENES  \\\n",
       "0            8664271                       243169.0           8421102.0   \n",
       "1             222758                         5315.0            217442.0   \n",
       "70             12512                          329.0             12183.0   \n",
       "101           151422                         4581.0            146842.0   \n",
       "118           133859                         2409.0            131450.0   \n",
       "195           717786                        27963.0            689823.0   \n",
       "255           100214                         2383.0             97831.0   \n",
       "321            81548                         1951.0             79597.0   \n",
       "331            26332                          825.0             25506.0   \n",
       "336            14771                         1015.0             13757.0   \n",
       "\n",
       "    A_B_TOT_BENES A_B_ORGNL_MDCR_BENES A_B_MA_AND_OTH_BENES  \\\n",
       "0        47620905             32831884             14789022   \n",
       "1        857619.0             647647.0             209972.0   \n",
       "70        67025.0              66477.0                548.0   \n",
       "101      957635.0             566552.0             391083.0   \n",
       "118      534145.0             428836.0             105309.0   \n",
       "195     4711715.0            2732619.0            1979096.0   \n",
       "255      648783.0             397756.0             251027.0   \n",
       "321      544825.0             403614.0             141211.0   \n",
       "331      154834.0             142956.0              11878.0   \n",
       "336       68000.0              59062.0               8938.0   \n",
       "\n",
       "    PRSCRPTN_DRUG_TOT_BENES PRSCRPTN_DRUG_PDP_BENES PRSCRPTN_DRUG_MAPD_BENES  \\\n",
       "0                  35679758                22661451                 13018307   \n",
       "1                  637247.0                437749.0                 199498.0   \n",
       "70                  30486.0                 30082.0                    404.0   \n",
       "101                707683.0                331320.0                 376363.0   \n",
       "118                376185.0                280432.0                  95753.0   \n",
       "195               3933310.0               2006290.0                1927020.0   \n",
       "255                453365.0                222496.0                 230869.0   \n",
       "321                416404.0                283712.0                 132693.0   \n",
       "331                115727.0                105368.0                  10359.0   \n",
       "336                 45597.0                 36885.0                   8712.0   \n",
       "\n",
       "    PRSCRPTN_DRUG_DEEMED_ELIGIBLE_FULL_LIS_BENES PRSCRPTN_DRUG_FULL_LIS_BENES  \\\n",
       "0                                       10000861                    1030113.0   \n",
       "1                                       205496.0                      32790.0   \n",
       "70                                       15994.0                        973.0   \n",
       "101                                     176167.0                      12562.0   \n",
       "118                                     127593.0                      16226.0   \n",
       "195                                    1285813.0                      78233.0   \n",
       "255                                      96463.0                      15529.0   \n",
       "321                                     155163.0                       2946.0   \n",
       "331                                      26346.0                       2380.0   \n",
       "336                                      28881.0                        853.0   \n",
       "\n",
       "    PRSCRPTN_DRUG_PARTIAL_LIS_BENES PRSCRPTN_DRUG_NO_LIS_BENES  \n",
       "0                          409204.0                   24239580  \n",
       "1                           11452.0                   387510.0  \n",
       "70                            228.0                    13290.0  \n",
       "101                          7280.0                   511674.0  \n",
       "118                          6904.0                   225462.0  \n",
       "195                         26404.0                  2542860.0  \n",
       "255                          4807.0                   336565.0  \n",
       "321                           613.0                   257683.0  \n",
       "331                          1407.0                    85594.0  \n",
       "336                           156.0                    15708.0  "
      ]
     },
     "execution_count": 36,
     "metadata": {},
     "output_type": "execute_result"
    }
   ],
   "source": [
    "df1.head(10)"
   ]
  },
  {
   "cell_type": "code",
   "execution_count": 37,
   "id": "08389574",
   "metadata": {
    "execution": {
     "iopub.execute_input": "2024-03-09T00:12:21.306537Z",
     "iopub.status.busy": "2024-03-09T00:12:21.306190Z",
     "iopub.status.idle": "2024-03-09T00:12:21.571285Z",
     "shell.execute_reply": "2024-03-09T00:12:21.570447Z"
    },
    "papermill": {
     "duration": 0.283822,
     "end_time": "2024-03-09T00:12:21.572962",
     "exception": false,
     "start_time": "2024-03-09T00:12:21.289140",
     "status": "completed"
    },
    "tags": []
   },
   "outputs": [
    {
     "data": {
      "image/png": "[encoded data removed]",
      "text/plain": [
       "<Figure size 640x480 with 1 Axes>"
      ]
     },
     "metadata": {},
     "output_type": "display_data"
    }
   ],
   "source": [
    "# Creating the figure and primary axis\n",
    "fig, ax1 = plt.subplots()\n",
    "sns.barplot(x=df3['YEAR'], y=df3['TOT_BENES'], data=df3, ax=ax1, color='skyblue')\n",
    "ax1.set_ylabel('#Beneficiaries')\n",
    "plt.show()"
   ]
  },
  {
   "cell_type": "code",
   "execution_count": 38,
   "id": "0782aa06",
   "metadata": {
    "execution": {
     "iopub.execute_input": "2024-03-09T00:12:21.605174Z",
     "iopub.status.busy": "2024-03-09T00:12:21.604810Z",
     "iopub.status.idle": "2024-03-09T00:12:21.629826Z",
     "shell.execute_reply": "2024-03-09T00:12:21.628930Z"
    },
    "papermill": {
     "duration": 0.043439,
     "end_time": "2024-03-09T00:12:21.631934",
     "exception": false,
     "start_time": "2024-03-09T00:12:21.588495",
     "status": "completed"
    },
    "tags": []
   },
   "outputs": [],
   "source": [
    "options = ['2022'] # Current year data\n",
    "df_cy = data[(data['YEAR'].isin(options))]"
   ]
  },
  {
   "cell_type": "code",
   "execution_count": 39,
   "id": "a6c86136",
   "metadata": {
    "execution": {
     "iopub.execute_input": "2024-03-09T00:12:21.664941Z",
     "iopub.status.busy": "2024-03-09T00:12:21.664177Z",
     "iopub.status.idle": "2024-03-09T00:12:21.675740Z",
     "shell.execute_reply": "2024-03-09T00:12:21.674584Z"
    },
    "papermill": {
     "duration": 0.030197,
     "end_time": "2024-03-09T00:12:21.677855",
     "exception": false,
     "start_time": "2024-03-09T00:12:21.647658",
     "status": "completed"
    },
    "tags": []
   },
   "outputs": [
    {
     "name": "stdout",
     "output_type": "stream",
     "text": [
      "<class 'pandas.core.frame.DataFrame'>\n",
      "Index: 10 entries, 0 to 390234\n",
      "Data columns (total 26 columns):\n",
      " #   Column                                        Non-Null Count  Dtype \n",
      "---  ------                                        --------------  ----- \n",
      " 0   YEAR                                          10 non-null     int64 \n",
      " 1   MONTH                                         10 non-null     object\n",
      " 2   BENE_GEO_LVL                                  10 non-null     object\n",
      " 3   BENE_STATE_ABRVTN                             10 non-null     object\n",
      " 4   BENE_STATE_DESC                               10 non-null     object\n",
      " 5   BENE_COUNTY_DESC                              10 non-null     object\n",
      " 6   BENE_FIPS_CD                                  10 non-null     object\n",
      " 7   TOT_BENES                                     10 non-null     int64 \n",
      " 8   ORGNL_MDCR_BENES                              10 non-null     int64 \n",
      " 9   MA_AND_OTH_BENES                              10 non-null     int64 \n",
      " 10  AGED_TOT_BENES                                10 non-null     int64 \n",
      " 11  AGED_ESRD_BENES                               10 non-null     object\n",
      " 12  AGED_NO_ESRD_BENES                            10 non-null     object\n",
      " 13  DSBLD_TOT_BENES                               10 non-null     int64 \n",
      " 14  DSBLD_ESRD_AND_ESRD_ONLY_BENES                10 non-null     object\n",
      " 15  DSBLD_NO_ESRD_BENES                           10 non-null     object\n",
      " 16  A_B_TOT_BENES                                 10 non-null     object\n",
      " 17  A_B_ORGNL_MDCR_BENES                          10 non-null     object\n",
      " 18  A_B_MA_AND_OTH_BENES                          10 non-null     object\n",
      " 19  PRSCRPTN_DRUG_TOT_BENES                       10 non-null     object\n",
      " 20  PRSCRPTN_DRUG_PDP_BENES                       10 non-null     object\n",
      " 21  PRSCRPTN_DRUG_MAPD_BENES                      10 non-null     object\n",
      " 22  PRSCRPTN_DRUG_DEEMED_ELIGIBLE_FULL_LIS_BENES  10 non-null     object\n",
      " 23  PRSCRPTN_DRUG_FULL_LIS_BENES                  10 non-null     object\n",
      " 24  PRSCRPTN_DRUG_PARTIAL_LIS_BENES               10 non-null     object\n",
      " 25  PRSCRPTN_DRUG_NO_LIS_BENES                    10 non-null     object\n",
      "dtypes: int64(6), object(20)\n",
      "memory usage: 2.1+ KB\n"
     ]
    }
   ],
   "source": [
    "df3.info()"
   ]
  },
  {
   "cell_type": "code",
   "execution_count": 40,
   "id": "7090ec8e",
   "metadata": {
    "execution": {
     "iopub.execute_input": "2024-03-09T00:12:21.710523Z",
     "iopub.status.busy": "2024-03-09T00:12:21.710188Z",
     "iopub.status.idle": "2024-03-09T00:12:21.715931Z",
     "shell.execute_reply": "2024-03-09T00:12:21.714903Z"
    },
    "papermill": {
     "duration": 0.023539,
     "end_time": "2024-03-09T00:12:21.717647",
     "exception": false,
     "start_time": "2024-03-09T00:12:21.694108",
     "status": "completed"
    },
    "tags": []
   },
   "outputs": [
    {
     "data": {
      "text/plain": [
       "(460290, 26)"
      ]
     },
     "execution_count": 40,
     "metadata": {},
     "output_type": "execute_result"
    }
   ],
   "source": [
    "data.shape"
   ]
  },
  {
   "cell_type": "code",
   "execution_count": 41,
   "id": "b7f2af36",
   "metadata": {
    "execution": {
     "iopub.execute_input": "2024-03-09T00:12:21.750040Z",
     "iopub.status.busy": "2024-03-09T00:12:21.749670Z",
     "iopub.status.idle": "2024-03-09T00:12:21.760833Z",
     "shell.execute_reply": "2024-03-09T00:12:21.760018Z"
    },
    "papermill": {
     "duration": 0.029353,
     "end_time": "2024-03-09T00:12:21.762515",
     "exception": false,
     "start_time": "2024-03-09T00:12:21.733162",
     "status": "completed"
    },
    "tags": []
   },
   "outputs": [
    {
     "data": {
      "text/html": [
       "<div>\n",
       "<style scoped>\n",
       "    .dataframe tbody tr th:only-of-type {\n",
       "        vertical-align: middle;\n",
       "    }\n",
       "\n",
       "    .dataframe tbody tr th {\n",
       "        vertical-align: top;\n",
       "    }\n",
       "\n",
       "    .dataframe thead th {\n",
       "        text-align: right;\n",
       "    }\n",
       "</style>\n",
       "<table border=\"1\" class=\"dataframe\">\n",
       "  <thead>\n",
       "    <tr style=\"text-align: right;\">\n",
       "      <th></th>\n",
       "      <th>YEAR</th>\n",
       "      <th>MONTH</th>\n",
       "      <th>BENE_GEO_LVL</th>\n",
       "      <th>BENE_STATE_ABRVTN</th>\n",
       "      <th>BENE_STATE_DESC</th>\n",
       "      <th>BENE_COUNTY_DESC</th>\n",
       "      <th>BENE_FIPS_CD</th>\n",
       "      <th>TOT_BENES</th>\n",
       "      <th>ORGNL_MDCR_BENES</th>\n",
       "      <th>MA_AND_OTH_BENES</th>\n",
       "      <th>AGED_TOT_BENES</th>\n",
       "      <th>AGED_ESRD_BENES</th>\n",
       "      <th>AGED_NO_ESRD_BENES</th>\n",
       "      <th>DSBLD_TOT_BENES</th>\n",
       "      <th>DSBLD_ESRD_AND_ESRD_ONLY_BENES</th>\n",
       "      <th>DSBLD_NO_ESRD_BENES</th>\n",
       "      <th>A_B_TOT_BENES</th>\n",
       "      <th>A_B_ORGNL_MDCR_BENES</th>\n",
       "      <th>A_B_MA_AND_OTH_BENES</th>\n",
       "      <th>PRSCRPTN_DRUG_TOT_BENES</th>\n",
       "      <th>PRSCRPTN_DRUG_PDP_BENES</th>\n",
       "      <th>PRSCRPTN_DRUG_MAPD_BENES</th>\n",
       "      <th>PRSCRPTN_DRUG_DEEMED_ELIGIBLE_FULL_LIS_BENES</th>\n",
       "      <th>PRSCRPTN_DRUG_FULL_LIS_BENES</th>\n",
       "      <th>PRSCRPTN_DRUG_PARTIAL_LIS_BENES</th>\n",
       "      <th>PRSCRPTN_DRUG_NO_LIS_BENES</th>\n",
       "    </tr>\n",
       "  </thead>\n",
       "  <tbody>\n",
       "  </tbody>\n",
       "</table>\n",
       "</div>"
      ],
      "text/plain": [
       "Empty DataFrame\n",
       "Columns: [YEAR, MONTH, BENE_GEO_LVL, BENE_STATE_ABRVTN, BENE_STATE_DESC, BENE_COUNTY_DESC, BENE_FIPS_CD, TOT_BENES, ORGNL_MDCR_BENES, MA_AND_OTH_BENES, AGED_TOT_BENES, AGED_ESRD_BENES, AGED_NO_ESRD_BENES, DSBLD_TOT_BENES, DSBLD_ESRD_AND_ESRD_ONLY_BENES, DSBLD_NO_ESRD_BENES, A_B_TOT_BENES, A_B_ORGNL_MDCR_BENES, A_B_MA_AND_OTH_BENES, PRSCRPTN_DRUG_TOT_BENES, PRSCRPTN_DRUG_PDP_BENES, PRSCRPTN_DRUG_MAPD_BENES, PRSCRPTN_DRUG_DEEMED_ELIGIBLE_FULL_LIS_BENES, PRSCRPTN_DRUG_FULL_LIS_BENES, PRSCRPTN_DRUG_PARTIAL_LIS_BENES, PRSCRPTN_DRUG_NO_LIS_BENES]\n",
       "Index: []"
      ]
     },
     "execution_count": 41,
     "metadata": {},
     "output_type": "execute_result"
    }
   ],
   "source": [
    "df_cy.head(5)"
   ]
  },
  {
   "cell_type": "code",
   "execution_count": 42,
   "id": "ef6c7b3d",
   "metadata": {
    "execution": {
     "iopub.execute_input": "2024-03-09T00:12:21.795636Z",
     "iopub.status.busy": "2024-03-09T00:12:21.795311Z",
     "iopub.status.idle": "2024-03-09T00:12:22.082871Z",
     "shell.execute_reply": "2024-03-09T00:12:22.081986Z"
    },
    "papermill": {
     "duration": 0.306409,
     "end_time": "2024-03-09T00:12:22.084761",
     "exception": false,
     "start_time": "2024-03-09T00:12:21.778352",
     "status": "completed"
    },
    "tags": []
   },
   "outputs": [
    {
     "data": {
      "text/plain": [
       "<Axes: xlabel='YEAR', ylabel='TOT_BENES'>"
      ]
     },
     "execution_count": 42,
     "metadata": {},
     "output_type": "execute_result"
    },
    {
     "data": {
      "image/png": "[encoded data removed]",
      "text/plain": [
       "<Figure size 640x480 with 1 Axes>"
      ]
     },
     "metadata": {},
     "output_type": "display_data"
    }
   ],
   "source": [
    "df3['YEAR'] = pd.to_numeric(df3['YEAR']).astype(int)\n",
    "#sns.barplot(x=df3['YEAR'], y=df3['TOT_BENES'])\n",
    "sns.barplot(x=df3['YEAR'], y=df3['TOT_BENES'])"
   ]
  },
  {
   "cell_type": "code",
   "execution_count": 43,
   "id": "7a2a39ca",
   "metadata": {
    "execution": {
     "iopub.execute_input": "2024-03-09T00:12:22.119914Z",
     "iopub.status.busy": "2024-03-09T00:12:22.119076Z",
     "iopub.status.idle": "2024-03-09T00:12:22.138163Z",
     "shell.execute_reply": "2024-03-09T00:12:22.137350Z"
    },
    "papermill": {
     "duration": 0.038746,
     "end_time": "2024-03-09T00:12:22.139838",
     "exception": false,
     "start_time": "2024-03-09T00:12:22.101092",
     "status": "completed"
    },
    "tags": []
   },
   "outputs": [
    {
     "data": {
      "text/html": [
       "<div>\n",
       "<style scoped>\n",
       "    .dataframe tbody tr th:only-of-type {\n",
       "        vertical-align: middle;\n",
       "    }\n",
       "\n",
       "    .dataframe tbody tr th {\n",
       "        vertical-align: top;\n",
       "    }\n",
       "\n",
       "    .dataframe thead th {\n",
       "        text-align: right;\n",
       "    }\n",
       "</style>\n",
       "<table border=\"1\" class=\"dataframe\">\n",
       "  <thead>\n",
       "    <tr style=\"text-align: right;\">\n",
       "      <th></th>\n",
       "      <th>TOT_BENES</th>\n",
       "      <th>AGED_TOT_BENES</th>\n",
       "      <th>DSBLD_TOT_BENES</th>\n",
       "    </tr>\n",
       "  </thead>\n",
       "  <tbody>\n",
       "    <tr>\n",
       "      <th>count</th>\n",
       "      <td>8,004.00</td>\n",
       "      <td>8,004.00</td>\n",
       "      <td>8,004.00</td>\n",
       "    </tr>\n",
       "    <tr>\n",
       "      <th>mean</th>\n",
       "      <td>2,050,967.16</td>\n",
       "      <td>1,758,986.62</td>\n",
       "      <td>291,980.55</td>\n",
       "    </tr>\n",
       "    <tr>\n",
       "      <th>std</th>\n",
       "      <td>7,715,317.96</td>\n",
       "      <td>6,630,868.78</td>\n",
       "      <td>1,094,593.35</td>\n",
       "    </tr>\n",
       "    <tr>\n",
       "      <th>min</th>\n",
       "      <td>1,836.00</td>\n",
       "      <td>1,501.00</td>\n",
       "      <td>335.00</td>\n",
       "    </tr>\n",
       "    <tr>\n",
       "      <th>25%</th>\n",
       "      <td>285,351.50</td>\n",
       "      <td>243,330.50</td>\n",
       "      <td>35,468.00</td>\n",
       "    </tr>\n",
       "    <tr>\n",
       "      <th>50%</th>\n",
       "      <td>732,446.00</td>\n",
       "      <td>601,463.50</td>\n",
       "      <td>118,840.00</td>\n",
       "    </tr>\n",
       "    <tr>\n",
       "      <th>75%</th>\n",
       "      <td>1,334,662.25</td>\n",
       "      <td>1,138,092.25</td>\n",
       "      <td>204,125.00</td>\n",
       "    </tr>\n",
       "    <tr>\n",
       "      <th>max</th>\n",
       "      <td>66,338,178.00</td>\n",
       "      <td>58,759,355.00</td>\n",
       "      <td>9,095,609.00</td>\n",
       "    </tr>\n",
       "  </tbody>\n",
       "</table>\n",
       "</div>"
      ],
      "text/plain": [
       "          TOT_BENES  AGED_TOT_BENES  DSBLD_TOT_BENES\n",
       "count      8,004.00        8,004.00         8,004.00\n",
       "mean   2,050,967.16    1,758,986.62       291,980.55\n",
       "std    7,715,317.96    6,630,868.78     1,094,593.35\n",
       "min        1,836.00        1,501.00           335.00\n",
       "25%      285,351.50      243,330.50        35,468.00\n",
       "50%      732,446.00      601,463.50       118,840.00\n",
       "75%    1,334,662.25    1,138,092.25       204,125.00\n",
       "max   66,338,178.00   58,759,355.00     9,095,609.00"
      ]
     },
     "execution_count": 43,
     "metadata": {},
     "output_type": "execute_result"
    }
   ],
   "source": [
    "#we're choosing the important columns that may give us meaningful results\n",
    "imp_col = ['TOT_BENES','AGED_TOT_BENES','DSBLD_TOT_BENES','PRSCRPTN_DRUG_TOT_BENES']\n",
    "merged_details=df1\n",
    "numerical_merged_cols = merged_details[imp_col]\n",
    "numerical_merged_cols.describe()"
   ]
  },
  {
   "cell_type": "code",
   "execution_count": 44,
   "id": "90786587",
   "metadata": {
    "execution": {
     "iopub.execute_input": "2024-03-09T00:12:22.176139Z",
     "iopub.status.busy": "2024-03-09T00:12:22.175796Z",
     "iopub.status.idle": "2024-03-09T00:12:22.184772Z",
     "shell.execute_reply": "2024-03-09T00:12:22.183908Z"
    },
    "papermill": {
     "duration": 0.029265,
     "end_time": "2024-03-09T00:12:22.186418",
     "exception": false,
     "start_time": "2024-03-09T00:12:22.157153",
     "status": "completed"
    },
    "tags": []
   },
   "outputs": [],
   "source": [
    "def showplot(columnname):\n",
    "    plt.rcParams['figure.facecolor'] = 'white'\n",
    "    plt.rcParams['axes.facecolor'] = 'white'\n",
    "    fig, ax = plt.subplots(1, 2, figsize=(10, 4))\n",
    "    ax = ax.flatten()\n",
    "    value_counts = df_cy[columnname].value_counts()\n",
    "    labels = value_counts.index.tolist()\n",
    "    colors =[\"#4caba4\", \"#d68c78\",'#a3a2a2','#ab90a0', '#e6daa3', '#6782a8', '#8ea677']\n",
    "    \n",
    "    # Donut Chart\n",
    "    wedges, texts, autotexts = ax[0].pie(\n",
    "        value_counts, autopct='%1.1f%%',textprops={'size': 9, 'color': 'white','fontweight':'bold' }, colors=colors,\n",
    "        wedgeprops=dict(width=0.35),  startangle=80,   pctdistance=0.85  )\n",
    "    # circle\n",
    "    centre_circle = plt.Circle((0, 0), 0.6, fc='white')\n",
    "    ax[0].add_artist(centre_circle)\n",
    "    \n",
    "    # Count Plot\n",
    "    sns.countplot(data=df_cy, y=columnname, ax=ax[1], palette=colors, order=labels)\n",
    "    for i, v in enumerate(value_counts):\n",
    "        ax[1].text(v + 1, i, str(v), color='black',fontsize=10, va='center')\n",
    "    sns.despine(left=True, bottom=True)\n",
    "    plt.yticks(fontsize=9,color='black')\n",
    "    ax[1].set_ylabel(None)\n",
    "    plt.xlabel(\"\")\n",
    "    plt.xticks([])\n",
    "    fig.suptitle(columnname, fontsize=15, fontweight='bold')\n",
    "    plt.tight_layout(rect=[0, 0, 0.85, 1])\n",
    "    plt.show()\n",
    "\n"
   ]
  },
  {
   "cell_type": "code",
   "execution_count": 45,
   "id": "61730c10",
   "metadata": {
    "execution": {
     "iopub.execute_input": "2024-03-09T00:12:22.220802Z",
     "iopub.status.busy": "2024-03-09T00:12:22.220449Z",
     "iopub.status.idle": "2024-03-09T00:12:22.401514Z",
     "shell.execute_reply": "2024-03-09T00:12:22.400436Z"
    },
    "papermill": {
     "duration": 0.20046,
     "end_time": "2024-03-09T00:12:22.403441",
     "exception": false,
     "start_time": "2024-03-09T00:12:22.202981",
     "status": "completed"
    },
    "tags": []
   },
   "outputs": [
    {
     "data": {
      "application/vnd.plotly.v1+json": {
       "config": {
        "plotlyServerURL": "https://plot.ly"
       },
       "data": [
        {
         "type": "histogram",
         "x": [
          52425659,
          54013038,
          55496222,
          56981183,
          58457244,
          59989883,
          61514510,
          62840267,
          63892626,
          65116503
         ],
         "xbins": {
          "end": 90000000,
          "size": 200000,
          "start": 100000
         }
        }
       ],
       "layout": {
        "bargap": 0.05,
        "template": {
         "data": {
          "bar": [
           {
            "error_x": {
             "color": "#2a3f5f"
            },
            "error_y": {
             "color": "#2a3f5f"
            },
            "marker": {
             "line": {
              "color": "#E5ECF6",
              "width": 0.5
             },
             "pattern": {
              "fillmode": "overlay",
              "size": 10,
              "solidity": 0.2
             }
            },
            "type": "bar"
           }
          ],
          "barpolar": [
           {
            "marker": {
             "line": {
              "color": "#E5ECF6",
              "width": 0.5
             },
             "pattern": {
              "fillmode": "overlay",
              "size": 10,
              "solidity": 0.2
             }
            },
            "type": "barpolar"
           }
          ],
          "carpet": [
           {
            "aaxis": {
             "endlinecolor": "#2a3f5f",
             "gridcolor": "white",
             "linecolor": "white",
             "minorgridcolor": "white",
             "startlinecolor": "#2a3f5f"
            },
            "baxis": {
             "endlinecolor": "#2a3f5f",
             "gridcolor": "white",
             "linecolor": "white",
             "minorgridcolor": "white",
             "startlinecolor": "#2a3f5f"
            },
            "type": "carpet"
           }
          ],
          "choropleth": [
           {
            "colorbar": {
             "outlinewidth": 0,
             "ticks": ""
            },
            "type": "choropleth"
           }
          ],
          "contour": [
           {
            "colorbar": {
             "outlinewidth": 0,
             "ticks": ""
            },
            "colorscale": [
             [
              0.0,
              "#0d0887"
             ],
             [
              0.1111111111111111,
              "#46039f"
             ],
             [
              0.2222222222222222,
              "#7201a8"
             ],
             [
              0.3333333333333333,
              "#9c179e"
             ],
             [
              0.4444444444444444,
              "#bd3786"
             ],
             [
              0.5555555555555556,
              "#d8576b"
             ],
             [
              0.6666666666666666,
              "#ed7953"
             ],
             [
              0.7777777777777778,
              "#fb9f3a"
             ],
             [
              0.8888888888888888,
              "#fdca26"
             ],
             [
              1.0,
              "#f0f921"
             ]
            ],
            "type": "contour"
           }
          ],
          "contourcarpet": [
           {
            "colorbar": {
             "outlinewidth": 0,
             "ticks": ""
            },
            "type": "contourcarpet"
           }
          ],
          "heatmap": [
           {
            "colorbar": {
             "outlinewidth": 0,
             "ticks": ""
            },
            "colorscale": [
             [
              0.0,
              "#0d0887"
             ],
             [
              0.1111111111111111,
              "#46039f"
             ],
             [
              0.2222222222222222,
              "#7201a8"
             ],
             [
              0.3333333333333333,
              "#9c179e"
             ],
             [
              0.4444444444444444,
              "#bd3786"
             ],
             [
              0.5555555555555556,
              "#d8576b"
             ],
             [
              0.6666666666666666,
              "#ed7953"
             ],
             [
              0.7777777777777778,
              "#fb9f3a"
             ],
             [
              0.8888888888888888,
              "#fdca26"
             ],
             [
              1.0,
              "#f0f921"
             ]
            ],
            "type": "heatmap"
           }
          ],
          "heatmapgl": [
           {
            "colorbar": {
             "outlinewidth": 0,
             "ticks": ""
            },
            "colorscale": [
             [
              0.0,
              "#0d0887"
             ],
             [
              0.1111111111111111,
              "#46039f"
             ],
             [
              0.2222222222222222,
              "#7201a8"
             ],
             [
              0.3333333333333333,
              "#9c179e"
             ],
             [
              0.4444444444444444,
              "#bd3786"
             ],
             [
              0.5555555555555556,
              "#d8576b"
             ],
             [
              0.6666666666666666,
              "#ed7953"
             ],
             [
              0.7777777777777778,
              "#fb9f3a"
             ],
             [
              0.8888888888888888,
              "#fdca26"
             ],
             [
              1.0,
              "#f0f921"
             ]
            ],
            "type": "heatmapgl"
           }
          ],
          "histogram": [
           {
            "marker": {
             "pattern": {
              "fillmode": "overlay",
              "size": 10,
              "solidity": 0.2
             }
            },
            "type": "histogram"
           }
          ],
          "histogram2d": [
           {
            "colorbar": {
             "outlinewidth": 0,
             "ticks": ""
            },
            "colorscale": [
             [
              0.0,
              "#0d0887"
             ],
             [
              0.1111111111111111,
              "#46039f"
             ],
             [
              0.2222222222222222,
              "#7201a8"
             ],
             [
              0.3333333333333333,
              "#9c179e"
             ],
             [
              0.4444444444444444,
              "#bd3786"
             ],
             [
              0.5555555555555556,
              "#d8576b"
             ],
             [
              0.6666666666666666,
              "#ed7953"
             ],
             [
              0.7777777777777778,
              "#fb9f3a"
             ],
             [
              0.8888888888888888,
              "#fdca26"
             ],
             [
              1.0,
              "#f0f921"
             ]
            ],
            "type": "histogram2d"
           }
          ],
          "histogram2dcontour": [
           {
            "colorbar": {
             "outlinewidth": 0,
             "ticks": ""
            },
            "colorscale": [
             [
              0.0,
              "#0d0887"
             ],
             [
              0.1111111111111111,
              "#46039f"
             ],
             [
              0.2222222222222222,
              "#7201a8"
             ],
             [
              0.3333333333333333,
              "#9c179e"
             ],
             [
              0.4444444444444444,
              "#bd3786"
             ],
             [
              0.5555555555555556,
              "#d8576b"
             ],
             [
              0.6666666666666666,
              "#ed7953"
             ],
             [
              0.7777777777777778,
              "#fb9f3a"
             ],
             [
              0.8888888888888888,
              "#fdca26"
             ],
             [
              1.0,
              "#f0f921"
             ]
            ],
            "type": "histogram2dcontour"
           }
          ],
          "mesh3d": [
           {
            "colorbar": {
             "outlinewidth": 0,
             "ticks": ""
            },
            "type": "mesh3d"
           }
          ],
          "parcoords": [
           {
            "line": {
             "colorbar": {
              "outlinewidth": 0,
              "ticks": ""
             }
            },
            "type": "parcoords"
           }
          ],
          "pie": [
           {
            "automargin": true,
            "type": "pie"
           }
          ],
          "scatter": [
           {
            "fillpattern": {
             "fillmode": "overlay",
             "size": 10,
             "solidity": 0.2
            },
            "type": "scatter"
           }
          ],
          "scatter3d": [
           {
            "line": {
             "colorbar": {
              "outlinewidth": 0,
              "ticks": ""
             }
            },
            "marker": {
             "colorbar": {
              "outlinewidth": 0,
              "ticks": ""
             }
            },
            "type": "scatter3d"
           }
          ],
          "scattercarpet": [
           {
            "marker": {
             "colorbar": {
              "outlinewidth": 0,
              "ticks": ""
             }
            },
            "type": "scattercarpet"
           }
          ],
          "scattergeo": [
           {
            "marker": {
             "colorbar": {
              "outlinewidth": 0,
              "ticks": ""
             }
            },
            "type": "scattergeo"
           }
          ],
          "scattergl": [
           {
            "marker": {
             "colorbar": {
              "outlinewidth": 0,
              "ticks": ""
             }
            },
            "type": "scattergl"
           }
          ],
          "scattermapbox": [
           {
            "marker": {
             "colorbar": {
              "outlinewidth": 0,
              "ticks": ""
             }
            },
            "type": "scattermapbox"
           }
          ],
          "scatterpolar": [
           {
            "marker": {
             "colorbar": {
              "outlinewidth": 0,
              "ticks": ""
             }
            },
            "type": "scatterpolar"
           }
          ],
          "scatterpolargl": [
           {
            "marker": {
             "colorbar": {
              "outlinewidth": 0,
              "ticks": ""
             }
            },
            "type": "scatterpolargl"
           }
          ],
          "scatterternary": [
           {
            "marker": {
             "colorbar": {
              "outlinewidth": 0,
              "ticks": ""
             }
            },
            "type": "scatterternary"
           }
          ],
          "surface": [
           {
            "colorbar": {
             "outlinewidth": 0,
             "ticks": ""
            },
            "colorscale": [
             [
              0.0,
              "#0d0887"
             ],
             [
              0.1111111111111111,
              "#46039f"
             ],
             [
              0.2222222222222222,
              "#7201a8"
             ],
             [
              0.3333333333333333,
              "#9c179e"
             ],
             [
              0.4444444444444444,
              "#bd3786"
             ],
             [
              0.5555555555555556,
              "#d8576b"
             ],
             [
              0.6666666666666666,
              "#ed7953"
             ],
             [
              0.7777777777777778,
              "#fb9f3a"
             ],
             [
              0.8888888888888888,
              "#fdca26"
             ],
             [
              1.0,
              "#f0f921"
             ]
            ],
            "type": "surface"
           }
          ],
          "table": [
           {
            "cells": {
             "fill": {
              "color": "#EBF0F8"
             },
             "line": {
              "color": "white"
             }
            },
            "header": {
             "fill": {
              "color": "#C8D4E3"
             },
             "line": {
              "color": "white"
             }
            },
            "type": "table"
           }
          ]
         },
         "layout": {
          "annotationdefaults": {
           "arrowcolor": "#2a3f5f",
           "arrowhead": 0,
           "arrowwidth": 1
          },
          "autotypenumbers": "strict",
          "coloraxis": {
           "colorbar": {
            "outlinewidth": 0,
            "ticks": ""
           }
          },
          "colorscale": {
           "diverging": [
            [
             0,
             "#8e0152"
            ],
            [
             0.1,
             "#c51b7d"
            ],
            [
             0.2,
             "#de77ae"
            ],
            [
             0.3,
             "#f1b6da"
            ],
            [
             0.4,
             "#fde0ef"
            ],
            [
             0.5,
             "#f7f7f7"
            ],
            [
             0.6,
             "#e6f5d0"
            ],
            [
             0.7,
             "#b8e186"
            ],
            [
             0.8,
             "#7fbc41"
            ],
            [
             0.9,
             "#4d9221"
            ],
            [
             1,
             "#276419"
            ]
           ],
           "sequential": [
            [
             0.0,
             "#0d0887"
            ],
            [
             0.1111111111111111,
             "#46039f"
            ],
            [
             0.2222222222222222,
             "#7201a8"
            ],
            [
             0.3333333333333333,
             "#9c179e"
            ],
            [
             0.4444444444444444,
             "#bd3786"
            ],
            [
             0.5555555555555556,
             "#d8576b"
            ],
            [
             0.6666666666666666,
             "#ed7953"
            ],
            [
             0.7777777777777778,
             "#fb9f3a"
            ],
            [
             0.8888888888888888,
             "#fdca26"
            ],
            [
             1.0,
             "#f0f921"
            ]
           ],
           "sequentialminus": [
            [
             0.0,
             "#0d0887"
            ],
            [
             0.1111111111111111,
             "#46039f"
            ],
            [
             0.2222222222222222,
             "#7201a8"
            ],
            [
             0.3333333333333333,
             "#9c179e"
            ],
            [
             0.4444444444444444,
             "#bd3786"
            ],
            [
             0.5555555555555556,
             "#d8576b"
            ],
            [
             0.6666666666666666,
             "#ed7953"
            ],
            [
             0.7777777777777778,
             "#fb9f3a"
            ],
            [
             0.8888888888888888,
             "#fdca26"
            ],
            [
             1.0,
             "#f0f921"
            ]
           ]
          },
          "colorway": [
           "#636efa",
           "#EF553B",
           "#00cc96",
           "#ab63fa",
           "#FFA15A",
           "#19d3f3",
           "#FF6692",
           "#B6E880",
           "#FF97FF",
           "#FECB52"
          ],
          "font": {
           "color": "#2a3f5f"
          },
          "geo": {
           "bgcolor": "white",
           "lakecolor": "white",
           "landcolor": "#E5ECF6",
           "showlakes": true,
           "showland": true,
           "subunitcolor": "white"
          },
          "hoverlabel": {
           "align": "left"
          },
          "hovermode": "closest",
          "mapbox": {
           "style": "light"
          },
          "paper_bgcolor": "white",
          "plot_bgcolor": "#E5ECF6",
          "polar": {
           "angularaxis": {
            "gridcolor": "white",
            "linecolor": "white",
            "ticks": ""
           },
           "bgcolor": "#E5ECF6",
           "radialaxis": {
            "gridcolor": "white",
            "linecolor": "white",
            "ticks": ""
           }
          },
          "scene": {
           "xaxis": {
            "backgroundcolor": "#E5ECF6",
            "gridcolor": "white",
            "gridwidth": 2,
            "linecolor": "white",
            "showbackground": true,
            "ticks": "",
            "zerolinecolor": "white"
           },
           "yaxis": {
            "backgroundcolor": "#E5ECF6",
            "gridcolor": "white",
            "gridwidth": 2,
            "linecolor": "white",
            "showbackground": true,
            "ticks": "",
            "zerolinecolor": "white"
           },
           "zaxis": {
            "backgroundcolor": "#E5ECF6",
            "gridcolor": "white",
            "gridwidth": 2,
            "linecolor": "white",
            "showbackground": true,
            "ticks": "",
            "zerolinecolor": "white"
           }
          },
          "shapedefaults": {
           "line": {
            "color": "#2a3f5f"
           }
          },
          "ternary": {
           "aaxis": {
            "gridcolor": "white",
            "linecolor": "white",
            "ticks": ""
           },
           "baxis": {
            "gridcolor": "white",
            "linecolor": "white",
            "ticks": ""
           },
           "bgcolor": "#E5ECF6",
           "caxis": {
            "gridcolor": "white",
            "linecolor": "white",
            "ticks": ""
           }
          },
          "title": {
           "x": 0.05
          },
          "xaxis": {
           "automargin": true,
           "gridcolor": "white",
           "linecolor": "white",
           "ticks": "",
           "title": {
            "standoff": 15
           },
           "zerolinecolor": "white",
           "zerolinewidth": 2
          },
          "yaxis": {
           "automargin": true,
           "gridcolor": "white",
           "linecolor": "white",
           "ticks": "",
           "title": {
            "standoff": 15
           },
           "zerolinecolor": "white",
           "zerolinewidth": 2
          }
         }
        },
        "title": {
         "text": "Histogram of Total Beneficiaries"
        },
        "yaxis": {
         "title": {
          "text": "Count"
         }
        }
       }
      },
      "text/html": [
       "<div>                            <div id=\"a8e8dc95-e9bb-45ac-94e0-81c28dd1fc82\" class=\"plotly-graph-div\" style=\"height:525px; width:100%;\"></div>            <script type=\"text/javascript\">                require([\"plotly\"], function(Plotly) {                    window.PLOTLYENV=window.PLOTLYENV || {};                                    if (document.getElementById(\"a8e8dc95-e9bb-45ac-94e0-81c28dd1fc82\")) {                    Plotly.newPlot(                        \"a8e8dc95-e9bb-45ac-94e0-81c28dd1fc82\",                        [{\"x\":[52425659,54013038,55496222,56981183,58457244,59989883,61514510,62840267,63892626,65116503],\"xbins\":{\"end\":90000000,\"size\":200000,\"start\":100000},\"type\":\"histogram\"}],                        {\"bargap\":0.05,\"title\":{\"text\":\"Histogram of Total Beneficiaries\"},\"yaxis\":{\"title\":{\"text\":\"Count\"}},\"template\":{\"data\":{\"histogram2dcontour\":[{\"type\":\"histogram2dcontour\",\"colorbar\":{\"outlinewidth\":0,\"ticks\":\"\"},\"colorscale\":[[0.0,\"#0d0887\"],[0.1111111111111111,\"#46039f\"],[0.2222222222222222,\"#7201a8\"],[0.3333333333333333,\"#9c179e\"],[0.4444444444444444,\"#bd3786\"],[0.5555555555555556,\"#d8576b\"],[0.6666666666666666,\"#ed7953\"],[0.7777777777777778,\"#fb9f3a\"],[0.8888888888888888,\"#fdca26\"],[1.0,\"#f0f921\"]]}],\"choropleth\":[{\"type\":\"choropleth\",\"colorbar\":{\"outlinewidth\":0,\"ticks\":\"\"}}],\"histogram2d\":[{\"type\":\"histogram2d\",\"colorbar\":{\"outlinewidth\":0,\"ticks\":\"\"},\"colorscale\":[[0.0,\"#0d0887\"],[0.1111111111111111,\"#46039f\"],[0.2222222222222222,\"#7201a8\"],[0.3333333333333333,\"#9c179e\"],[0.4444444444444444,\"#bd3786\"],[0.5555555555555556,\"#d8576b\"],[0.6666666666666666,\"#ed7953\"],[0.7777777777777778,\"#fb9f3a\"],[0.8888888888888888,\"#fdca26\"],[1.0,\"#f0f921\"]]}],\"heatmap\":[{\"type\":\"heatmap\",\"colorbar\":{\"outlinewidth\":0,\"ticks\":\"\"},\"colorscale\":[[0.0,\"#0d0887\"],[0.1111111111111111,\"#46039f\"],[0.2222222222222222,\"#7201a8\"],[0.3333333333333333,\"#9c179e\"],[0.4444444444444444,\"#bd3786\"],[0.5555555555555556,\"#d8576b\"],[0.6666666666666666,\"#ed7953\"],[0.7777777777777778,\"#fb9f3a\"],[0.8888888888888888,\"#fdca26\"],[1.0,\"#f0f921\"]]}],\"heatmapgl\":[{\"type\":\"heatmapgl\",\"colorbar\":{\"outlinewidth\":0,\"ticks\":\"\"},\"colorscale\":[[0.0,\"#0d0887\"],[0.1111111111111111,\"#46039f\"],[0.2222222222222222,\"#7201a8\"],[0.3333333333333333,\"#9c179e\"],[0.4444444444444444,\"#bd3786\"],[0.5555555555555556,\"#d8576b\"],[0.6666666666666666,\"#ed7953\"],[0.7777777777777778,\"#fb9f3a\"],[0.8888888888888888,\"#fdca26\"],[1.0,\"#f0f921\"]]}],\"contourcarpet\":[{\"type\":\"contourcarpet\",\"colorbar\":{\"outlinewidth\":0,\"ticks\":\"\"}}],\"contour\":[{\"type\":\"contour\",\"colorbar\":{\"outlinewidth\":0,\"ticks\":\"\"},\"colorscale\":[[0.0,\"#0d0887\"],[0.1111111111111111,\"#46039f\"],[0.2222222222222222,\"#7201a8\"],[0.3333333333333333,\"#9c179e\"],[0.4444444444444444,\"#bd3786\"],[0.5555555555555556,\"#d8576b\"],[0.6666666666666666,\"#ed7953\"],[0.7777777777777778,\"#fb9f3a\"],[0.8888888888888888,\"#fdca26\"],[1.0,\"#f0f921\"]]}],\"surface\":[{\"type\":\"surface\",\"colorbar\":{\"outlinewidth\":0,\"ticks\":\"\"},\"colorscale\":[[0.0,\"#0d0887\"],[0.1111111111111111,\"#46039f\"],[0.2222222222222222,\"#7201a8\"],[0.3333333333333333,\"#9c179e\"],[0.4444444444444444,\"#bd3786\"],[0.5555555555555556,\"#d8576b\"],[0.6666666666666666,\"#ed7953\"],[0.7777777777777778,\"#fb9f3a\"],[0.8888888888888888,\"#fdca26\"],[1.0,\"#f0f921\"]]}],\"mesh3d\":[{\"type\":\"mesh3d\",\"colorbar\":{\"outlinewidth\":0,\"ticks\":\"\"}}],\"scatter\":[{\"fillpattern\":{\"fillmode\":\"overlay\",\"size\":10,\"solidity\":0.2},\"type\":\"scatter\"}],\"parcoords\":[{\"type\":\"parcoords\",\"line\":{\"colorbar\":{\"outlinewidth\":0,\"ticks\":\"\"}}}],\"scatterpolargl\":[{\"type\":\"scatterpolargl\",\"marker\":{\"colorbar\":{\"outlinewidth\":0,\"ticks\":\"\"}}}],\"bar\":[{\"error_x\":{\"color\":\"#2a3f5f\"},\"error_y\":{\"color\":\"#2a3f5f\"},\"marker\":{\"line\":{\"color\":\"#E5ECF6\",\"width\":0.5},\"pattern\":{\"fillmode\":\"overlay\",\"size\":10,\"solidity\":0.2}},\"type\":\"bar\"}],\"scattergeo\":[{\"type\":\"scattergeo\",\"marker\":{\"colorbar\":{\"outlinewidth\":0,\"ticks\":\"\"}}}],\"scatterpolar\":[{\"type\":\"scatterpolar\",\"marker\":{\"colorbar\":{\"outlinewidth\":0,\"ticks\":\"\"}}}],\"histogram\":[{\"marker\":{\"pattern\":{\"fillmode\":\"overlay\",\"size\":10,\"solidity\":0.2}},\"type\":\"histogram\"}],\"scattergl\":[{\"type\":\"scattergl\",\"marker\":{\"colorbar\":{\"outlinewidth\":0,\"ticks\":\"\"}}}],\"scatter3d\":[{\"type\":\"scatter3d\",\"line\":{\"colorbar\":{\"outlinewidth\":0,\"ticks\":\"\"}},\"marker\":{\"colorbar\":{\"outlinewidth\":0,\"ticks\":\"\"}}}],\"scattermapbox\":[{\"type\":\"scattermapbox\",\"marker\":{\"colorbar\":{\"outlinewidth\":0,\"ticks\":\"\"}}}],\"scatterternary\":[{\"type\":\"scatterternary\",\"marker\":{\"colorbar\":{\"outlinewidth\":0,\"ticks\":\"\"}}}],\"scattercarpet\":[{\"type\":\"scattercarpet\",\"marker\":{\"colorbar\":{\"outlinewidth\":0,\"ticks\":\"\"}}}],\"carpet\":[{\"aaxis\":{\"endlinecolor\":\"#2a3f5f\",\"gridcolor\":\"white\",\"linecolor\":\"white\",\"minorgridcolor\":\"white\",\"startlinecolor\":\"#2a3f5f\"},\"baxis\":{\"endlinecolor\":\"#2a3f5f\",\"gridcolor\":\"white\",\"linecolor\":\"white\",\"minorgridcolor\":\"white\",\"startlinecolor\":\"#2a3f5f\"},\"type\":\"carpet\"}],\"table\":[{\"cells\":{\"fill\":{\"color\":\"#EBF0F8\"},\"line\":{\"color\":\"white\"}},\"header\":{\"fill\":{\"color\":\"#C8D4E3\"},\"line\":{\"color\":\"white\"}},\"type\":\"table\"}],\"barpolar\":[{\"marker\":{\"line\":{\"color\":\"#E5ECF6\",\"width\":0.5},\"pattern\":{\"fillmode\":\"overlay\",\"size\":10,\"solidity\":0.2}},\"type\":\"barpolar\"}],\"pie\":[{\"automargin\":true,\"type\":\"pie\"}]},\"layout\":{\"autotypenumbers\":\"strict\",\"colorway\":[\"#636efa\",\"#EF553B\",\"#00cc96\",\"#ab63fa\",\"#FFA15A\",\"#19d3f3\",\"#FF6692\",\"#B6E880\",\"#FF97FF\",\"#FECB52\"],\"font\":{\"color\":\"#2a3f5f\"},\"hovermode\":\"closest\",\"hoverlabel\":{\"align\":\"left\"},\"paper_bgcolor\":\"white\",\"plot_bgcolor\":\"#E5ECF6\",\"polar\":{\"bgcolor\":\"#E5ECF6\",\"angularaxis\":{\"gridcolor\":\"white\",\"linecolor\":\"white\",\"ticks\":\"\"},\"radialaxis\":{\"gridcolor\":\"white\",\"linecolor\":\"white\",\"ticks\":\"\"}},\"ternary\":{\"bgcolor\":\"#E5ECF6\",\"aaxis\":{\"gridcolor\":\"white\",\"linecolor\":\"white\",\"ticks\":\"\"},\"baxis\":{\"gridcolor\":\"white\",\"linecolor\":\"white\",\"ticks\":\"\"},\"caxis\":{\"gridcolor\":\"white\",\"linecolor\":\"white\",\"ticks\":\"\"}},\"coloraxis\":{\"colorbar\":{\"outlinewidth\":0,\"ticks\":\"\"}},\"colorscale\":{\"sequential\":[[0.0,\"#0d0887\"],[0.1111111111111111,\"#46039f\"],[0.2222222222222222,\"#7201a8\"],[0.3333333333333333,\"#9c179e\"],[0.4444444444444444,\"#bd3786\"],[0.5555555555555556,\"#d8576b\"],[0.6666666666666666,\"#ed7953\"],[0.7777777777777778,\"#fb9f3a\"],[0.8888888888888888,\"#fdca26\"],[1.0,\"#f0f921\"]],\"sequentialminus\":[[0.0,\"#0d0887\"],[0.1111111111111111,\"#46039f\"],[0.2222222222222222,\"#7201a8\"],[0.3333333333333333,\"#9c179e\"],[0.4444444444444444,\"#bd3786\"],[0.5555555555555556,\"#d8576b\"],[0.6666666666666666,\"#ed7953\"],[0.7777777777777778,\"#fb9f3a\"],[0.8888888888888888,\"#fdca26\"],[1.0,\"#f0f921\"]],\"diverging\":[[0,\"#8e0152\"],[0.1,\"#c51b7d\"],[0.2,\"#de77ae\"],[0.3,\"#f1b6da\"],[0.4,\"#fde0ef\"],[0.5,\"#f7f7f7\"],[0.6,\"#e6f5d0\"],[0.7,\"#b8e186\"],[0.8,\"#7fbc41\"],[0.9,\"#4d9221\"],[1,\"#276419\"]]},\"xaxis\":{\"gridcolor\":\"white\",\"linecolor\":\"white\",\"ticks\":\"\",\"title\":{\"standoff\":15},\"zerolinecolor\":\"white\",\"automargin\":true,\"zerolinewidth\":2},\"yaxis\":{\"gridcolor\":\"white\",\"linecolor\":\"white\",\"ticks\":\"\",\"title\":{\"standoff\":15},\"zerolinecolor\":\"white\",\"automargin\":true,\"zerolinewidth\":2},\"scene\":{\"xaxis\":{\"backgroundcolor\":\"#E5ECF6\",\"gridcolor\":\"white\",\"linecolor\":\"white\",\"showbackground\":true,\"ticks\":\"\",\"zerolinecolor\":\"white\",\"gridwidth\":2},\"yaxis\":{\"backgroundcolor\":\"#E5ECF6\",\"gridcolor\":\"white\",\"linecolor\":\"white\",\"showbackground\":true,\"ticks\":\"\",\"zerolinecolor\":\"white\",\"gridwidth\":2},\"zaxis\":{\"backgroundcolor\":\"#E5ECF6\",\"gridcolor\":\"white\",\"linecolor\":\"white\",\"showbackground\":true,\"ticks\":\"\",\"zerolinecolor\":\"white\",\"gridwidth\":2}},\"shapedefaults\":{\"line\":{\"color\":\"#2a3f5f\"}},\"annotationdefaults\":{\"arrowcolor\":\"#2a3f5f\",\"arrowhead\":0,\"arrowwidth\":1},\"geo\":{\"bgcolor\":\"white\",\"landcolor\":\"#E5ECF6\",\"subunitcolor\":\"white\",\"showland\":true,\"showlakes\":true,\"lakecolor\":\"white\"},\"title\":{\"x\":0.05},\"mapbox\":{\"style\":\"light\"}}}},                        {\"responsive\": true}                    ).then(function(){\n",
       "                            \n",
       "var gd = document.getElementById('a8e8dc95-e9bb-45ac-94e0-81c28dd1fc82');\n",
       "var x = new MutationObserver(function (mutations, observer) {{\n",
       "        var display = window.getComputedStyle(gd).display;\n",
       "        if (!display || display === 'none') {{\n",
       "            console.log([gd, 'removed!']);\n",
       "            Plotly.purge(gd);\n",
       "            observer.disconnect();\n",
       "        }}\n",
       "}});\n",
       "\n",
       "// Listen for the removal of the full notebook cells\n",
       "var notebookContainer = gd.closest('#notebook-container');\n",
       "if (notebookContainer) {{\n",
       "    x.observe(notebookContainer, {childList: true});\n",
       "}}\n",
       "\n",
       "// Listen for the clearing of the current output cell\n",
       "var outputEl = gd.closest('.output');\n",
       "if (outputEl) {{\n",
       "    x.observe(outputEl, {childList: true});\n",
       "}}\n",
       "\n",
       "                        })                };                });            </script>        </div>"
      ]
     },
     "metadata": {},
     "output_type": "display_data"
    }
   ],
   "source": [
    "import plotly.graph_objs as go\n",
    "go.Figure(\n",
    "    data=[go.Histogram(x=df_numerical[\"TOT_BENES\"], xbins={\"start\": 100000, \"end\": 90000000, \"size\": 200000})],\n",
    "    layout=go.Layout(title=\"Histogram of Total Beneficiaries\", yaxis={\"title\": \"Count\"}, bargap=0.05),\n",
    "    )"
   ]
  },
  {
   "cell_type": "code",
   "execution_count": 46,
   "id": "8bcf9e04",
   "metadata": {
    "execution": {
     "iopub.execute_input": "2024-03-09T00:12:22.445890Z",
     "iopub.status.busy": "2024-03-09T00:12:22.445595Z",
     "iopub.status.idle": "2024-03-09T00:12:22.691702Z",
     "shell.execute_reply": "2024-03-09T00:12:22.690772Z"
    },
    "papermill": {
     "duration": 0.269194,
     "end_time": "2024-03-09T00:12:22.693508",
     "exception": false,
     "start_time": "2024-03-09T00:12:22.424314",
     "status": "completed"
    },
    "tags": []
   },
   "outputs": [
    {
     "data": {
      "image/png": "[encoded data removed]",
      "text/plain": [
       "<Figure size 640x480 with 1 Axes>"
      ]
     },
     "metadata": {},
     "output_type": "display_data"
    }
   ],
   "source": [
    "import matplotlib.pyplot as plt\n",
    "df3.groupby('YEAR')['TOT_BENES'].max().sort_values(ascending=False).plot(kind='bar')\n",
    "plt.xlabel='YEAR'\n",
    "plt.ylabel='Beneficiaries'\n",
    "plt.show()"
   ]
  },
  {
   "cell_type": "code",
   "execution_count": 47,
   "id": "5adba515",
   "metadata": {
    "execution": {
     "iopub.execute_input": "2024-03-09T00:12:22.736735Z",
     "iopub.status.busy": "2024-03-09T00:12:22.736425Z",
     "iopub.status.idle": "2024-03-09T00:12:22.743898Z",
     "shell.execute_reply": "2024-03-09T00:12:22.743000Z"
    },
    "papermill": {
     "duration": 0.031005,
     "end_time": "2024-03-09T00:12:22.745670",
     "exception": false,
     "start_time": "2024-03-09T00:12:22.714665",
     "status": "completed"
    },
    "tags": []
   },
   "outputs": [
    {
     "data": {
      "text/plain": [
       "YEAR\n",
       "2013    52425659\n",
       "2014    54013038\n",
       "2015    55496222\n",
       "2016    56981183\n",
       "2017    58457244\n",
       "2018    59989883\n",
       "2019    61514510\n",
       "2020    62840267\n",
       "2021    63892626\n",
       "2022    65116503\n",
       "Name: TOT_BENES, dtype: int64"
      ]
     },
     "execution_count": 47,
     "metadata": {},
     "output_type": "execute_result"
    }
   ],
   "source": [
    "df3.groupby('YEAR')['TOT_BENES'].sum()\n"
   ]
  }
 ],
 "metadata": {
  "kaggle": {
   "accelerator": "none",
   "dataSources": [
    {
     "datasetId": 4093442,
     "sourceId": 7101059,
     "sourceType": "datasetVersion"
    }
   ],
   "dockerImageVersionId": 30587,
   "isGpuEnabled": false,
   "isInternetEnabled": true,
   "language": "python",
   "sourceType": "notebook"
  },
  "kernelspec": {
   "display_name": "Python 3",
   "language": "python",
   "name": "python3"
  },
  "language_info": {
   "codemirror_mode": {
    "name": "ipython",
    "version": 3
   },
   "file_extension": ".py",
   "mimetype": "text/x-python",
   "name": "python",
   "nbconvert_exporter": "python",
   "pygments_lexer": "ipython3",
   "version": "3.10.12"
  },
  "papermill": {
   "default_parameters": {},
   "duration": 15.770494,
   "end_time": "2024-03-09T00:12:23.387026",
   "environment_variables": {},
   "exception": null,
   "input_path": "__notebook__.ipynb",
   "output_path": "__notebook__.ipynb",
   "parameters": {},
   "start_time": "2024-03-09T00:12:07.616532",
   "version": "2.4.0"
  }
 },
 "nbformat": 4,
 "nbformat_minor": 5
}
